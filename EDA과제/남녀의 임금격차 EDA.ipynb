{
 "cells": [
  {
   "cell_type": "markdown",
   "metadata": {},
   "source": [
    "# EDA 프로젝트"
   ]
  },
  {
   "cell_type": "markdown",
   "metadata": {},
   "source": [
    "## Mission 2 : 한국 남녀 임금 격차 데이터 분석"
   ]
  },
  {
   "cell_type": "code",
   "execution_count": 166,
   "metadata": {},
   "outputs": [],
   "source": [
    "import pandas as pd\n",
    "import numpy as np\n",
    "import matplotlib.pyplot as plt\n",
    "import seaborn as sns"
   ]
  },
  {
   "cell_type": "markdown",
   "metadata": {},
   "source": [
    "## 1. 분석의 목적과 변수 확인"
   ]
  },
  {
   "cell_type": "markdown",
   "metadata": {},
   "source": [
    "### 분석 목적 : 대한민국의 성별 임금 격차에 대한 요인 확인\n",
    "### 정말 성별이 남녀 임금격차에 가장 큰 요인일까?\n",
    "#### 변수 : 성별, 나이, 업종, 근로시간에 따른 연봉"
   ]
  },
  {
   "cell_type": "code",
   "execution_count": 11,
   "metadata": {},
   "outputs": [
    {
     "data": {
      "text/html": [
       "<div>\n",
       "<style scoped>\n",
       "    .dataframe tbody tr th:only-of-type {\n",
       "        vertical-align: middle;\n",
       "    }\n",
       "\n",
       "    .dataframe tbody tr th {\n",
       "        vertical-align: top;\n",
       "    }\n",
       "\n",
       "    .dataframe thead th {\n",
       "        text-align: right;\n",
       "    }\n",
       "</style>\n",
       "<table border=\"1\" class=\"dataframe\">\n",
       "  <thead>\n",
       "    <tr style=\"text-align: right;\">\n",
       "      <th></th>\n",
       "      <th>jobs</th>\n",
       "      <th>gender</th>\n",
       "      <th>salary</th>\n",
       "      <th>age</th>\n",
       "      <th>number of workers</th>\n",
       "      <th>working hours</th>\n",
       "    </tr>\n",
       "  </thead>\n",
       "  <tbody>\n",
       "    <tr>\n",
       "      <th>0</th>\n",
       "      <td>NaN</td>\n",
       "      <td>NaN</td>\n",
       "      <td>NaN</td>\n",
       "      <td>NaN</td>\n",
       "      <td>NaN</td>\n",
       "      <td>NaN</td>\n",
       "    </tr>\n",
       "    <tr>\n",
       "      <th>1</th>\n",
       "      <td>all</td>\n",
       "      <td>all</td>\n",
       "      <td>all</td>\n",
       "      <td>all</td>\n",
       "      <td>10846459.0</td>\n",
       "      <td>163.6</td>\n",
       "    </tr>\n",
       "    <tr>\n",
       "      <th>2</th>\n",
       "      <td>all</td>\n",
       "      <td>all</td>\n",
       "      <td>all</td>\n",
       "      <td>~ 19</td>\n",
       "      <td>39078.0</td>\n",
       "      <td>148.0</td>\n",
       "    </tr>\n",
       "    <tr>\n",
       "      <th>3</th>\n",
       "      <td>all</td>\n",
       "      <td>all</td>\n",
       "      <td>all</td>\n",
       "      <td>20 ~ 24</td>\n",
       "      <td>471259.0</td>\n",
       "      <td>160.9</td>\n",
       "    </tr>\n",
       "    <tr>\n",
       "      <th>4</th>\n",
       "      <td>all</td>\n",
       "      <td>all</td>\n",
       "      <td>all</td>\n",
       "      <td>25 ~ 29</td>\n",
       "      <td>1316411.0</td>\n",
       "      <td>164.3</td>\n",
       "    </tr>\n",
       "    <tr>\n",
       "      <th>5</th>\n",
       "      <td>all</td>\n",
       "      <td>all</td>\n",
       "      <td>all</td>\n",
       "      <td>30 ~ 34</td>\n",
       "      <td>1364259.0</td>\n",
       "      <td>164.5</td>\n",
       "    </tr>\n",
       "    <tr>\n",
       "      <th>6</th>\n",
       "      <td>all</td>\n",
       "      <td>all</td>\n",
       "      <td>all</td>\n",
       "      <td>35 ~ 39</td>\n",
       "      <td>1543573.0</td>\n",
       "      <td>164.8</td>\n",
       "    </tr>\n",
       "    <tr>\n",
       "      <th>7</th>\n",
       "      <td>all</td>\n",
       "      <td>all</td>\n",
       "      <td>all</td>\n",
       "      <td>40 ~ 44</td>\n",
       "      <td>1384689.0</td>\n",
       "      <td>164.5</td>\n",
       "    </tr>\n",
       "    <tr>\n",
       "      <th>8</th>\n",
       "      <td>all</td>\n",
       "      <td>all</td>\n",
       "      <td>all</td>\n",
       "      <td>45 ~ 49</td>\n",
       "      <td>1452996.0</td>\n",
       "      <td>164.7</td>\n",
       "    </tr>\n",
       "    <tr>\n",
       "      <th>9</th>\n",
       "      <td>all</td>\n",
       "      <td>all</td>\n",
       "      <td>all</td>\n",
       "      <td>50 ~ 54</td>\n",
       "      <td>1257121.0</td>\n",
       "      <td>164.9</td>\n",
       "    </tr>\n",
       "  </tbody>\n",
       "</table>\n",
       "</div>"
      ],
      "text/plain": [
       "  jobs gender salary      age  number of workers  working hours\n",
       "0  NaN    NaN    NaN      NaN                NaN            NaN\n",
       "1  all    all    all      all         10846459.0          163.6\n",
       "2  all    all    all     ~ 19            39078.0          148.0\n",
       "3  all    all    all  20 ~ 24           471259.0          160.9\n",
       "4  all    all    all  25 ~ 29          1316411.0          164.3\n",
       "5  all    all    all  30 ~ 34          1364259.0          164.5\n",
       "6  all    all    all  35 ~ 39          1543573.0          164.8\n",
       "7  all    all    all  40 ~ 44          1384689.0          164.5\n",
       "8  all    all    all  45 ~ 49          1452996.0          164.7\n",
       "9  all    all    all  50 ~ 54          1257121.0          164.9"
      ]
     },
     "execution_count": 11,
     "metadata": {},
     "output_type": "execute_result"
    }
   ],
   "source": [
    "salary_data = pd.read_csv('./2019_korea_salary_data.csv', thousands = ',')\n",
    "salary_data.fillna(method = 'ffill')\n",
    "salary_data.head(10)"
   ]
  },
  {
   "cell_type": "code",
   "execution_count": 12,
   "metadata": {},
   "outputs": [
    {
     "data": {
      "text/plain": [
       "jobs                  object\n",
       "gender                object\n",
       "salary                object\n",
       "age                   object\n",
       "number of workers    float64\n",
       "working hours        float64\n",
       "dtype: object"
      ]
     },
     "execution_count": 12,
     "metadata": {},
     "output_type": "execute_result"
    }
   ],
   "source": [
    "## 각 coloum의 데이터 타입 확인하기\n",
    "\n",
    "salary_data.dtypes"
   ]
  },
  {
   "cell_type": "markdown",
   "metadata": {},
   "source": [
    "## 2. 데이터 전체적으로 살펴보기"
   ]
  },
  {
   "cell_type": "code",
   "execution_count": 13,
   "metadata": {
    "scrolled": true
   },
   "outputs": [
    {
     "data": {
      "text/html": [
       "<div>\n",
       "<style scoped>\n",
       "    .dataframe tbody tr th:only-of-type {\n",
       "        vertical-align: middle;\n",
       "    }\n",
       "\n",
       "    .dataframe tbody tr th {\n",
       "        vertical-align: top;\n",
       "    }\n",
       "\n",
       "    .dataframe thead th {\n",
       "        text-align: right;\n",
       "    }\n",
       "</style>\n",
       "<table border=\"1\" class=\"dataframe\">\n",
       "  <thead>\n",
       "    <tr style=\"text-align: right;\">\n",
       "      <th></th>\n",
       "      <th>number of workers</th>\n",
       "      <th>working hours</th>\n",
       "    </tr>\n",
       "  </thead>\n",
       "  <tbody>\n",
       "    <tr>\n",
       "      <th>count</th>\n",
       "      <td>8.250000e+03</td>\n",
       "      <td>8250.000000</td>\n",
       "    </tr>\n",
       "    <tr>\n",
       "      <th>mean</th>\n",
       "      <td>2.103556e+04</td>\n",
       "      <td>134.282630</td>\n",
       "    </tr>\n",
       "    <tr>\n",
       "      <th>std</th>\n",
       "      <td>1.767657e+05</td>\n",
       "      <td>57.161367</td>\n",
       "    </tr>\n",
       "    <tr>\n",
       "      <th>min</th>\n",
       "      <td>0.000000e+00</td>\n",
       "      <td>0.000000</td>\n",
       "    </tr>\n",
       "    <tr>\n",
       "      <th>25%</th>\n",
       "      <td>1.122500e+02</td>\n",
       "      <td>107.525000</td>\n",
       "    </tr>\n",
       "    <tr>\n",
       "      <th>50%</th>\n",
       "      <td>1.066000e+03</td>\n",
       "      <td>157.000000</td>\n",
       "    </tr>\n",
       "    <tr>\n",
       "      <th>75%</th>\n",
       "      <td>6.419750e+03</td>\n",
       "      <td>170.600000</td>\n",
       "    </tr>\n",
       "    <tr>\n",
       "      <th>max</th>\n",
       "      <td>1.084646e+07</td>\n",
       "      <td>309.000000</td>\n",
       "    </tr>\n",
       "  </tbody>\n",
       "</table>\n",
       "</div>"
      ],
      "text/plain": [
       "       number of workers  working hours\n",
       "count       8.250000e+03    8250.000000\n",
       "mean        2.103556e+04     134.282630\n",
       "std         1.767657e+05      57.161367\n",
       "min         0.000000e+00       0.000000\n",
       "25%         1.122500e+02     107.525000\n",
       "50%         1.066000e+03     157.000000\n",
       "75%         6.419750e+03     170.600000\n",
       "max         1.084646e+07     309.000000"
      ]
     },
     "execution_count": 13,
     "metadata": {},
     "output_type": "execute_result"
    }
   ],
   "source": [
    "salary_data.describe()"
   ]
  },
  {
   "cell_type": "code",
   "execution_count": 14,
   "metadata": {},
   "outputs": [
    {
     "data": {
      "text/plain": [
       "jobs                 1\n",
       "gender               1\n",
       "salary               1\n",
       "age                  1\n",
       "number of workers    1\n",
       "working hours        1\n",
       "dtype: int64"
      ]
     },
     "execution_count": 14,
     "metadata": {},
     "output_type": "execute_result"
    }
   ],
   "source": [
    "salary_data.isnull().sum()"
   ]
  },
  {
   "cell_type": "markdown",
   "metadata": {},
   "source": [
    "#### 데이터 타입이 오브젝트가 많기 때문에 상관계수를 구하기가 쉽지않음."
   ]
  },
  {
   "cell_type": "markdown",
   "metadata": {},
   "source": [
    "##### 인터넷 크롤링으로 얻은 자료를 csv 파일로 변환시키다 보니 자료의 타입이 일정치 않고 결측값이 많음\n",
    "- 결측데이터가 중구난방이다 보니 수작업으로 결측값을 메꾸는 작업을 진행함\n",
    "- 초기 임금 데이터 부분이 700 ~ 799.9 등 범위로 정해진 것을 800으로 올림하여 범위가 아닌 정수 값으로 맞춤"
   ]
  },
  {
   "cell_type": "markdown",
   "metadata": {},
   "source": [
    "## 3. 데이터의 개별 속성 파악하기"
   ]
  },
  {
   "cell_type": "code",
   "execution_count": 43,
   "metadata": {},
   "outputs": [],
   "source": [
    "## 받아온 자료가 문자형이면서 천 단위마다 ,가 들어있기 때문에 정수 변환을 위해 , 제거하는 로직을 추가\n",
    "salary_data['number of workers'] = salary_data['number of workers'].apply(pd.to_numeric)\n",
    "salary_data['salary'] = salary_data['salary'].apply(pd.to_numeric, errors = 'coerce')\n",
    "\n",
    "## 정수 변환 과정에서 NaN으로 변환 된 데이터를 다시 복구\n",
    "salary_data['salary'] = salary_data['salary'].fillna('all')"
   ]
  },
  {
   "cell_type": "code",
   "execution_count": 44,
   "metadata": {},
   "outputs": [
    {
     "name": "stdout",
     "output_type": "stream",
     "text": [
      "데이터에 속한 남자의 총 인원은 6681040.0 명이고 여자의 총 인원은 4165419.0 명입니다.\n",
      "남자의 전 직종, 전 연령의 평균 월급은 4710.0천원 입니다. 여자의 전 직종, 전 연령의 평균 월급은 3069천원 입니다.\n"
     ]
    }
   ],
   "source": [
    "## 2019 임금 데이터의 남 녀 명수\n",
    "all_man = salary_data[salary_data['gender'] == 'man'].iloc[0]['number of workers']\n",
    "all_woman = salary_data[salary_data['gender'] == 'woman'].iloc[0]['number of workers']\n",
    "\n",
    "\n",
    "\n",
    "print('데이터에 속한 남자의 총 인원은 {} 명이고 여자의 총 인원은 {} 명입니다.'.format(all_man, all_woman))\n",
    "\n",
    "## 2019 남녀 임금 격차\n",
    "\n",
    "all_man_salary_data = salary_data[(salary_data['gender'] == 'man') & (salary_data['salary'] != 'all') & (salary_data['jobs'] == 'all') & (salary_data['age'] == 'all')]\n",
    "all_woman_salary_data = salary_data[(salary_data['gender'] == 'woman') & (salary_data['salary'] != 'all') & (salary_data['jobs'] == 'all') & (salary_data['age'] == 'all')]\n",
    "\n",
    "all_man_salary = all_man_salary_data['salary'].mul(all_man_salary_data['number of workers'])\n",
    "all_woman_salary = all_woman_salary_data['salary'].mul(all_woman_salary_data['number of workers'])\n",
    "\n",
    "average_man_salary, average_woman_salary = 0, 0\n",
    "for salary in all_man_salary:\n",
    "    average_man_salary += salary\n",
    "\n",
    "for salary2 in all_woman_salary:\n",
    "    average_woman_salary += salary2\n",
    "\n",
    "average_man_salary = round(average_man_salary // all_man, 1)\n",
    "average_woman_salary = round(average_woman_salary // all_woman)\n",
    "\n",
    "\n",
    "print('남자의 전 직종, 전 연령의 평균 월급은 {}천원 입니다. 여자의 전 직종, 전 연령의 평균 월급은 {}천원 입니다.'.format(average_man_salary, average_woman_salary))\n",
    "\n",
    "    \n",
    "    "
   ]
  },
  {
   "cell_type": "code",
   "execution_count": 168,
   "metadata": {},
   "outputs": [
    {
     "data": {
      "image/png": "[encoded data removed]",
      "text/plain": [
       "<Figure size 720x360 with 1 Axes>"
      ]
     },
     "metadata": {
      "needs_background": "light"
     },
     "output_type": "display_data"
    }
   ],
   "source": [
    "x = np.arange(2)\n",
    "gender = ['Man', 'Woman']\n",
    "values = [average_man_salary, average_woman_salary]\n",
    "colors = sns.color_palette('hls', len(gender))\n",
    "\n",
    "plt.figure(figsize=(10, 5))\n",
    "plt.title('Man & Woman salary gap')\n",
    "plt.bar(x, values, width = 0.4, color=colors)\n",
    "plt.xticks(x, gender)\n",
    "plt.show()"
   ]
  },
  {
   "cell_type": "markdown",
   "metadata": {},
   "source": [
    "##### 남자 6681040명, 여자 4165419명의 데이터를 분석한 결과 모든 남자의 평균 월급은 4710800원이며 모든 여자의 평균 월급은 3069500원 입니다.\n",
    "\n",
    "##### 직종, 노동시간, 연령등을 고려하지 않은 결과 남자의 평균 월급은 여자의 평균 월급보다 높음. "
   ]
  },
  {
   "cell_type": "markdown",
   "metadata": {},
   "source": [
    "### 1) 직종별 남녀 평균 임금"
   ]
  },
  {
   "cell_type": "code",
   "execution_count": 132,
   "metadata": {},
   "outputs": [],
   "source": [
    "jobs = ['Administrator', 'Practitioner', 'Office Worker', 'Service Worker', 'Sales Worker', 'Agriculture, forestry and fishing', 'Technical Worker', 'Mechanical Worker', 'Elementary Workers']\n",
    "man_salary = []\n",
    "woman_salary = []\n",
    "\n",
    "for job in jobs:\n",
    "    man_salary_data = salary_data[(salary_data['salary'] != 'all') & (salary_data['gender'] == 'man') & (salary_data['jobs'] == job) & (salary_data['age'] == 'all')]\n",
    "    man_salary_df = man_salary_data['salary'].mul(man_salary_data['number of workers'])\n",
    "    job_workers =  salary_data[(salary_data['salary'] == 'all') & (salary_data['gender'] == 'man') & (salary_data['jobs'] == job) & (salary_data['age'] == 'all')]['number of workers']\n",
    "    man_salary_sum = 0\n",
    "    for salary in man_salary_df:\n",
    "        man_salary_sum += salary\n",
    "    man_salary_average = man_salary_sum // job_workers\n",
    "    man_salary.append(man_salary_average.values[0])\n",
    "    \n",
    "    woman_salary_data = salary_data[(salary_data['salary'] != 'all') & (salary_data['gender'] == 'woman') & (salary_data['jobs'] == job) & (salary_data['age'] == 'all')]\n",
    "    woman_salary_df = woman_salary_data['salary'].mul(woman_salary_data['number of workers'])\n",
    "    job_workers =  salary_data[(salary_data['salary'] == 'all') & (salary_data['gender'] == 'woman') & (salary_data['jobs'] == job) & (salary_data['age'] == 'all')]['number of workers']\n",
    "    woman_salary_sum = 0\n",
    "    for salary in woman_salary_df:\n",
    "        woman_salary_sum += salary\n",
    "    woman_salary_average = woman_salary_sum // job_workers\n",
    "    woman_salary.append(woman_salary_average.values[0])"
   ]
  },
  {
   "cell_type": "code",
   "execution_count": 134,
   "metadata": {},
   "outputs": [
    {
     "data": {
      "image/png": "[encoded data removed]",
      "text/plain": [
       "<Figure size 1440x720 with 1 Axes>"
      ]
     },
     "metadata": {
      "needs_background": "light"
     },
     "output_type": "display_data"
    }
   ],
   "source": [
    "bar_width = 0.35\n",
    "alpha = 0.5\n",
    "index = np.arange(9)\n",
    "plt.figure(figsize=(20, 10))\n",
    "\n",
    "p1 = plt.bar(index, man_salary,\n",
    "             bar_width,\n",
    "             color='blue',\n",
    "             alpha=alpha,\n",
    "             label=\"Man\")\n",
    "\n",
    "p2 = plt.bar(index + bar_width, woman_salary,\n",
    "             bar_width,\n",
    "             color='red',\n",
    "             alpha=alpha,\n",
    "             label='Woman')\n",
    "\n",
    "plt.title('The Gender Salary Gap by Jobs', fontsize=20)\n",
    "plt.ylabel('average salary', fontsize=16)\n",
    "plt.xlabel('jobs', fontsize=16)\n",
    "plt.xticks(index, jobs, fontsize=10)\n",
    "plt.legend((p1[0], p2[0]), ('Man', 'Woman'), fontsize=20, loc='upper right')\n",
    "plt.show()"
   ]
  },
  {
   "cell_type": "markdown",
   "metadata": {},
   "source": [
    "#### 직종 별로 남녀의 평균임금을 계산한 결과 남자의 평균 월급이 여자의 평균 월급 보다 높은 것을 알 수 있음."
   ]
  },
  {
   "cell_type": "markdown",
   "metadata": {},
   "source": [
    "### 2) 연령 별 남녀 평균 임금"
   ]
  },
  {
   "cell_type": "code",
   "execution_count": 135,
   "metadata": {},
   "outputs": [],
   "source": [
    "ages = ['~ 19', '20 ~ 24', '25 ~ 29', '30 ~ 34', '35 ~ 39', '40 ~ 44', '45 ~ 49', '50 ~ 54', '55 ~ 59', '60 ~']\n",
    "man_salary = []\n",
    "woman_salary = []\n",
    "for age in ages:\n",
    "    man_salary_data = salary_data[(salary_data['salary'] != 'all') & (salary_data['jobs'] == 'all') & (salary_data['gender'] == 'man') & (salary_data['age'] == age)]\n",
    "    man_salary_df = man_salary_data['salary'].mul(man_salary_data['number of workers'])\n",
    "    age_workers =  salary_data[(salary_data['salary'] == 'all') & (salary_data['jobs'] == 'all') & (salary_data['gender'] == 'man') & (salary_data['age'] == age)]['number of workers']\n",
    "    man_salary_sum = 0\n",
    "    for salary in man_salary_df:\n",
    "        man_salary_sum += salary\n",
    "    man_salary_average = man_salary_sum // age_workers\n",
    "    man_salary.append(man_salary_average.values[0])\n",
    "    \n",
    "    woman_salary_data = salary_data[(salary_data['salary'] != 'all') & (salary_data['jobs'] == 'all') & (salary_data['gender'] == 'woman') & (salary_data['age'] == age)]\n",
    "    woman_salary_df = woman_salary_data['salary'].mul(woman_salary_data['number of workers'])\n",
    "    age_workers =  salary_data[(salary_data['salary'] == 'all') & (salary_data['jobs'] == 'all') & (salary_data['gender'] == 'woman') & (salary_data['age'] == age)]['number of workers']\n",
    "    woman_salary_sum = 0\n",
    "    for salary in woman_salary_df:\n",
    "        woman_salary_sum += salary\n",
    "    woman_salary_average = woman_salary_sum // age_workers\n",
    "    woman_salary.append(woman_salary_average.values[0])"
   ]
  },
  {
   "cell_type": "code",
   "execution_count": 136,
   "metadata": {},
   "outputs": [
    {
     "data": {
      "image/png": "[encoded data removed]",
      "text/plain": [
       "<Figure size 1440x720 with 1 Axes>"
      ]
     },
     "metadata": {
      "needs_background": "light"
     },
     "output_type": "display_data"
    }
   ],
   "source": [
    "bar_width = 0.35\n",
    "alpha = 0.5\n",
    "index = np.arange(10)\n",
    "plt.figure(figsize=(20, 10))\n",
    "\n",
    "p1 = plt.bar(index, man_salary,\n",
    "             bar_width,\n",
    "             color='blue',\n",
    "             alpha=alpha,\n",
    "             label=\"Man\")\n",
    "\n",
    "p2 = plt.bar(index + bar_width, woman_salary,\n",
    "             bar_width,\n",
    "             color='red',\n",
    "             alpha=alpha,\n",
    "             label='Woman')\n",
    "\n",
    "plt.title('The Gender Salary Gap by Ages', fontsize=20)\n",
    "plt.ylabel('average salary', fontsize=16)\n",
    "plt.xlabel('Ages', fontsize=16)\n",
    "plt.xticks(index, ages, fontsize=10)\n",
    "plt.legend((p1[0], p2[0]), ('Man', 'Woman'), fontsize=20, loc='upper left')\n",
    "plt.show()"
   ]
  },
  {
   "cell_type": "markdown",
   "metadata": {},
   "source": [
    "#### 연령 별로 남녀의 평균임금을 계산한 결과 남자의 평균 월급이 모든 연령대에서 여자에 비해 높은 것으로 확인됨."
   ]
  },
  {
   "cell_type": "markdown",
   "metadata": {},
   "source": [
    "### 3) 남녀 노동시간당 임금 차이"
   ]
  },
  {
   "cell_type": "code",
   "execution_count": 163,
   "metadata": {},
   "outputs": [
    {
     "name": "stdout",
     "output_type": "stream",
     "text": [
      "16.0\n",
      "17.0\n"
     ]
    }
   ],
   "source": [
    "\n",
    "\n",
    "man_salary_data = salary_data[(salary_data['jobs'] == 'all') & (salary_data['gender'] == 'man') & (salary_data['age'] == 'all') & (salary_data['salary'] != 'all')]\n",
    "\n",
    "woman_salary_data = salary_data[(salary_data['jobs'] == 'all') & (salary_data['gender'] == 'woman') & (salary_data['age'] == 'all') & (salary_data['salary'] != 'all')]\n",
    "\n",
    "man_hourly_sum = 0\n",
    "data_len = len(man_salary_data)\n",
    "for i in range(data_len):\n",
    "    man_hourly_sum += man_salary_data.iloc[i]['salary']  // man_salary_data.iloc[i]['working hours']\n",
    "man_hourly_salary = man_hourly_sum // data_len\n",
    "print(man_hourly_salary)\n",
    "\n",
    "woman_hourly_sum = 0\n",
    "for i in range(data_len):\n",
    "    woman_hourly_sum += woman_salary_data.iloc[i]['salary'] // woman_salary_data.iloc[i]['working hours']\n",
    "woman_hourly_salary = woman_hourly_sum // data_len"
   ]
  },
  {
   "cell_type": "code",
   "execution_count": 169,
   "metadata": {},
   "outputs": [
    {
     "data": {
      "image/png": "[encoded data removed]",
      "text/plain": [
       "<Figure size 720x360 with 1 Axes>"
      ]
     },
     "metadata": {
      "needs_background": "light"
     },
     "output_type": "display_data"
    }
   ],
   "source": [
    "x = np.arange(2)\n",
    "gender = ['Man', 'Woman']\n",
    "values = [man_hourly_salary, woman_hourly_salary]\n",
    "colors = sns.color_palette('hls', len(gender))\n",
    "\n",
    "plt.figure(figsize=(10, 5))\n",
    "plt.title('Man & Woman hourly_salary gap')\n",
    "plt.bar(x, values, width = 0.4, color=colors)\n",
    "plt.xticks(x, gender)\n",
    "plt.show()"
   ]
  },
  {
   "cell_type": "markdown",
   "metadata": {},
   "source": [
    "#### 시간 당 임금을 확인해봤을때 남자의 시급이 여자의 시급보다 낮은 것을 확인할 수 있었음."
   ]
  },
  {
   "cell_type": "markdown",
   "metadata": {},
   "source": [
    "#### 전체적으로 남자의 평균임금이 여자의 평균임금보다 큰 차이로 높은 것을 알 수 있지만 위 분석을 통해 여러 가설을 세울수 있다.\n",
    "\n",
    "- **여성의 시간당 임금이 남성의 시간당 임금보다 높은 것을 볼때 노동시간과 각 요소들을 조합해 보면 생각보다 낮아질수 있다고 생각함**\n",
    "- **남성의 경우 50대 초반까지 임금이 꾸준히 상승하지만 여성의 경우 40세부터 임금이 감소되는 현상을 볼수 있다**\n",
    "- **남성과 여성의 평균임금이 점차 차이나는 현상을 볼때 여성은 결혼을 하고 아이를 낳으며 생기는 경력단절의 영향이 있다고 생각됨**"
   ]
  },
  {
   "cell_type": "code",
   "execution_count": null,
   "metadata": {},
   "outputs": [],
   "source": []
  }
 ],
 "metadata": {
  "kernelspec": {
   "display_name": "Python 3",
   "language": "python",
   "name": "python3"
  },
  "language_info": {
   "codemirror_mode": {
    "name": "ipython",
    "version": 3
   },
   "file_extension": ".py",
   "mimetype": "text/x-python",
   "name": "python",
   "nbconvert_exporter": "python",
   "pygments_lexer": "ipython3",
   "version": "3.9.0"
  }
 },
 "nbformat": 4,
 "nbformat_minor": 4
}
