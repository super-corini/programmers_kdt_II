{
 "cells": [
  {
   "cell_type": "markdown",
   "id": "cad4224c-3709-4ef6-988e-0d897c4bfdf0",
   "metadata": {},
   "source": [
    "# [3주차 - Day5] Weekly Mission"
   ]
  },
  {
   "cell_type": "markdown",
   "id": "987acf06-7d35-4982-93e8-2dafbcb70f52",
   "metadata": {},
   "source": [
    "## Mission 1. Netfilx and Code"
   ]
  },
  {
   "cell_type": "markdown",
   "id": "815cfe99-3bfc-4758-bd86-2623881d1e4f",
   "metadata": {},
   "source": [
    "### Mandatory Part"
   ]
  },
  {
   "cell_type": "markdown",
   "id": "98522521-bb28-4083-96e7-0c8f5e282a72",
   "metadata": {},
   "source": [
    "### Bonus Part"
   ]
  },
  {
   "cell_type": "markdown",
   "id": "064a7b6a-8c6d-4386-8591-20f6a8c2052a",
   "metadata": {},
   "source": [
    "## Mission 2. 가즈아!"
   ]
  },
  {
   "cell_type": "markdown",
   "id": "a304980d-d396-461c-81ab-2803f038e780",
   "metadata": {},
   "source": [
    "### Mandatory Part"
   ]
  },
  {
   "cell_type": "code",
   "execution_count": null,
   "id": "7447ef8f-f985-4f91-916d-e1485529f4e2",
   "metadata": {},
   "outputs": [],
   "source": []
  },
  {
   "cell_type": "markdown",
   "id": "b585ba9a-616c-47a7-8058-2908c66b2820",
   "metadata": {},
   "source": [
    "### Bonus Part"
   ]
  },
  {
   "cell_type": "code",
   "execution_count": null,
   "id": "af32e19f-8046-48c3-ad63-ae2a70accec1",
   "metadata": {},
   "outputs": [],
   "source": []
  }
 ],
 "metadata": {
  "kernelspec": {
   "display_name": "Python 3",
   "language": "python",
   "name": "python3"
  },
  "language_info": {
   "codemirror_mode": {
    "name": "ipython",
    "version": 3
   },
   "file_extension": ".py",
   "mimetype": "text/x-python",
   "name": "python",
   "nbconvert_exporter": "python",
   "pygments_lexer": "ipython3",
   "version": "3.8.8"
  }
 },
 "nbformat": 4,
 "nbformat_minor": 5
}
