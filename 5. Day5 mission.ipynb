{
 "cells": [
  {
   "cell_type": "code",
   "execution_count": 3,
   "id": "76a64b66",
   "metadata": {},
   "outputs": [],
   "source": [
    "import numpy as np\n",
    "import pandas as pd\n",
    "import matplotlib.pyplot as plt"
   ]
  },
  {
   "cell_type": "markdown",
   "id": "f4758883",
   "metadata": {},
   "source": [
    "### Mission 1. Netfilx and Code"
   ]
  },
  {
   "cell_type": "code",
   "execution_count": 40,
   "id": "b88c38cb",
   "metadata": {},
   "outputs": [],
   "source": [
    "netflix = pd.read_csv('./netflix_titles.csv')"
   ]
  },
  {
   "cell_type": "markdown",
   "id": "f1fdd088",
   "metadata": {},
   "source": [
    "### Mandatory Part \n",
    "- **한국 작품**은 총 얼마나 있는가?"
   ]
  },
  {
   "cell_type": "code",
   "execution_count": 38,
   "id": "fe12297c",
   "metadata": {},
   "outputs": [
    {
     "name": "stdout",
     "output_type": "stream",
     "text": [
      "한국 작품 수 : 183\n"
     ]
    }
   ],
   "source": [
    "korea = netflix[netflix['country']=='South Korea']\n",
    "count = len(korea)\n",
    "print('한국 작품 수 : {}'.format(count))"
   ]
  },
  {
   "cell_type": "markdown",
   "id": "a6ab6bd3",
   "metadata": {},
   "source": [
    "### Bonus Part\n",
    "- 가장 많은 작품이 올라간 국가는 어디이고, 얼마나 많은 작품이 있는가?"
   ]
  },
  {
   "cell_type": "code",
   "execution_count": 35,
   "id": "4445815c",
   "metadata": {
    "scrolled": true
   },
   "outputs": [
    {
     "name": "stdout",
     "output_type": "stream",
     "text": [
      "가장 많은 작품이 올라간 국가 : United States, 작품 수 : 2555\n"
     ]
    }
   ],
   "source": [
    "country_count = netflix['country'].groupby(by=netflix['country']).count()\n",
    "country_max = country_count.idxmax()\n",
    "max_count = country_count[country_max]\n",
    "print('가장 많은 작품이 올라간 국가 : {}, 작품 수 : {}'.format(country_max, max_count))"
   ]
  },
  {
   "cell_type": "markdown",
   "id": "707d9a72",
   "metadata": {},
   "source": [
    "### Mission 2. 가즈아!"
   ]
  },
  {
   "cell_type": "markdown",
   "id": "2c9d1d6c",
   "metadata": {},
   "source": [
    "### Mandatory Part\n",
    "- 2016.6 ~ 2017.6 기간의 5-MA(Moving Average) 비트코인 가격 그래프를 그려주세요."
   ]
  },
  {
   "cell_type": "code",
   "execution_count": 130,
   "id": "b440b642",
   "metadata": {
    "scrolled": true
   },
   "outputs": [
    {
     "data": {
      "text/html": [
       "<div>\n",
       "<style scoped>\n",
       "    .dataframe tbody tr th:only-of-type {\n",
       "        vertical-align: middle;\n",
       "    }\n",
       "\n",
       "    .dataframe tbody tr th {\n",
       "        vertical-align: top;\n",
       "    }\n",
       "\n",
       "    .dataframe thead th {\n",
       "        text-align: right;\n",
       "    }\n",
       "</style>\n",
       "<table border=\"1\" class=\"dataframe\">\n",
       "  <thead>\n",
       "    <tr style=\"text-align: right;\">\n",
       "      <th></th>\n",
       "      <th>Unnamed: 0</th>\n",
       "      <th>Date</th>\n",
       "      <th>Open</th>\n",
       "      <th>High</th>\n",
       "      <th>Low</th>\n",
       "      <th>Close</th>\n",
       "      <th>Volume</th>\n",
       "      <th>Market Cap</th>\n",
       "    </tr>\n",
       "  </thead>\n",
       "  <tbody>\n",
       "    <tr>\n",
       "      <th>625</th>\n",
       "      <td>625</td>\n",
       "      <td>2016-06-01</td>\n",
       "      <td>431.86</td>\n",
       "      <td>431.86</td>\n",
       "      <td>426.34</td>\n",
       "      <td>429.11</td>\n",
       "      <td>3.404250e+07</td>\n",
       "      <td>6498830000</td>\n",
       "    </tr>\n",
       "    <tr>\n",
       "      <th>594</th>\n",
       "      <td>594</td>\n",
       "      <td>2016-06-02</td>\n",
       "      <td>386.59</td>\n",
       "      <td>386.63</td>\n",
       "      <td>372.39</td>\n",
       "      <td>376.52</td>\n",
       "      <td>4.924930e+07</td>\n",
       "      <td>5865740000</td>\n",
       "    </tr>\n",
       "    <tr>\n",
       "      <th>565</th>\n",
       "      <td>565</td>\n",
       "      <td>2016-06-03</td>\n",
       "      <td>400.52</td>\n",
       "      <td>411.91</td>\n",
       "      <td>395.78</td>\n",
       "      <td>407.71</td>\n",
       "      <td>9.121250e+07</td>\n",
       "      <td>6121400000</td>\n",
       "    </tr>\n",
       "    <tr>\n",
       "      <th>534</th>\n",
       "      <td>534</td>\n",
       "      <td>2016-06-04</td>\n",
       "      <td>424.28</td>\n",
       "      <td>424.53</td>\n",
       "      <td>422.73</td>\n",
       "      <td>423.41</td>\n",
       "      <td>5.909100e+07</td>\n",
       "      <td>6533260000</td>\n",
       "    </tr>\n",
       "    <tr>\n",
       "      <th>504</th>\n",
       "      <td>504</td>\n",
       "      <td>2016-06-05</td>\n",
       "      <td>447.94</td>\n",
       "      <td>461.38</td>\n",
       "      <td>447.07</td>\n",
       "      <td>459.60</td>\n",
       "      <td>7.279680e+07</td>\n",
       "      <td>6947800000</td>\n",
       "    </tr>\n",
       "    <tr>\n",
       "      <th>...</th>\n",
       "      <td>...</td>\n",
       "      <td>...</td>\n",
       "      <td>...</td>\n",
       "      <td>...</td>\n",
       "      <td>...</td>\n",
       "      <td>...</td>\n",
       "      <td>...</td>\n",
       "      <td>...</td>\n",
       "    </tr>\n",
       "    <tr>\n",
       "      <th>88</th>\n",
       "      <td>88</td>\n",
       "      <td>2017-06-26</td>\n",
       "      <td>2590.57</td>\n",
       "      <td>2615.25</td>\n",
       "      <td>2376.29</td>\n",
       "      <td>2478.45</td>\n",
       "      <td>1.663280e+09</td>\n",
       "      <td>42514000000</td>\n",
       "    </tr>\n",
       "    <tr>\n",
       "      <th>87</th>\n",
       "      <td>87</td>\n",
       "      <td>2017-06-27</td>\n",
       "      <td>2478.45</td>\n",
       "      <td>2552.45</td>\n",
       "      <td>2332.99</td>\n",
       "      <td>2552.45</td>\n",
       "      <td>1.489790e+09</td>\n",
       "      <td>40677900000</td>\n",
       "    </tr>\n",
       "    <tr>\n",
       "      <th>86</th>\n",
       "      <td>86</td>\n",
       "      <td>2017-06-28</td>\n",
       "      <td>2553.03</td>\n",
       "      <td>2603.98</td>\n",
       "      <td>2484.42</td>\n",
       "      <td>2574.79</td>\n",
       "      <td>1.183870e+09</td>\n",
       "      <td>41906700000</td>\n",
       "    </tr>\n",
       "    <tr>\n",
       "      <th>85</th>\n",
       "      <td>85</td>\n",
       "      <td>2017-06-29</td>\n",
       "      <td>2567.56</td>\n",
       "      <td>2588.83</td>\n",
       "      <td>2510.48</td>\n",
       "      <td>2539.32</td>\n",
       "      <td>9.499790e+08</td>\n",
       "      <td>42150300000</td>\n",
       "    </tr>\n",
       "    <tr>\n",
       "      <th>84</th>\n",
       "      <td>84</td>\n",
       "      <td>2017-06-30</td>\n",
       "      <td>2539.24</td>\n",
       "      <td>2559.25</td>\n",
       "      <td>2478.43</td>\n",
       "      <td>2480.84</td>\n",
       "      <td>8.602730e+08</td>\n",
       "      <td>41689100000</td>\n",
       "    </tr>\n",
       "  </tbody>\n",
       "</table>\n",
       "<p>377 rows × 8 columns</p>\n",
       "</div>"
      ],
      "text/plain": [
       "     Unnamed: 0       Date     Open     High      Low    Close        Volume  \\\n",
       "625         625 2016-06-01   431.86   431.86   426.34   429.11  3.404250e+07   \n",
       "594         594 2016-06-02   386.59   386.63   372.39   376.52  4.924930e+07   \n",
       "565         565 2016-06-03   400.52   411.91   395.78   407.71  9.121250e+07   \n",
       "534         534 2016-06-04   424.28   424.53   422.73   423.41  5.909100e+07   \n",
       "504         504 2016-06-05   447.94   461.38   447.07   459.60  7.279680e+07   \n",
       "..          ...        ...      ...      ...      ...      ...           ...   \n",
       "88           88 2017-06-26  2590.57  2615.25  2376.29  2478.45  1.663280e+09   \n",
       "87           87 2017-06-27  2478.45  2552.45  2332.99  2552.45  1.489790e+09   \n",
       "86           86 2017-06-28  2553.03  2603.98  2484.42  2574.79  1.183870e+09   \n",
       "85           85 2017-06-29  2567.56  2588.83  2510.48  2539.32  9.499790e+08   \n",
       "84           84 2017-06-30  2539.24  2559.25  2478.43  2480.84  8.602730e+08   \n",
       "\n",
       "      Market Cap  \n",
       "625   6498830000  \n",
       "594   5865740000  \n",
       "565   6121400000  \n",
       "534   6533260000  \n",
       "504   6947800000  \n",
       "..           ...  \n",
       "88   42514000000  \n",
       "87   40677900000  \n",
       "86   41906700000  \n",
       "85   42150300000  \n",
       "84   41689100000  \n",
       "\n",
       "[377 rows x 8 columns]"
      ]
     },
     "execution_count": 130,
     "metadata": {},
     "output_type": "execute_result"
    }
   ],
   "source": [
    "bitcoin = pd.read_csv('./BitCoin.csv')\n",
    "bitcoin['Date'] = pd.to_datetime(bitcoin['Date']) # 문자열 상태에서 그래프 만들었더니 x축에 아무것도 보이지 않아서 datetime형태로 바꿔봤습니다.\n",
    "\n",
    "period = bitcoin[(bitcoin['Date']>='2016-06-01') & (bitcoin['Date']<='2017-06-30')]\n",
    "period = period.sort_values(by='Date')\n",
    "period"
   ]
  },
  {
   "cell_type": "code",
   "execution_count": 131,
   "id": "5a474623",
   "metadata": {
    "scrolled": true
   },
   "outputs": [
    {
     "data": {
      "image/png": "[encoded data removed]",
      "text/plain": [
       "<Figure size 720x360 with 1 Axes>"
      ]
     },
     "metadata": {
      "needs_background": "light"
     },
     "output_type": "display_data"
    }
   ],
   "source": [
    "period['5-MA'] = period['Open'].rolling(window=5).mean()\n",
    "\n",
    "plt.figure(figsize = (10,5))\n",
    "plt.title('5-MA BitCoin graph')\n",
    "plt.xlabel('Date')\n",
    "plt.ylabel('5-MA')\n",
    "plt.plot(period['Date'],period['5-MA'],color='#f2a900')\n",
    "plt.show()"
   ]
  },
  {
   "cell_type": "markdown",
   "id": "e16eb6e0",
   "metadata": {},
   "source": [
    "### Bonus Part\n",
    "- 2016.6 ~ 2017.6 기간에 해당하는 비트코인의 5-MA 그래프와 이더리움의 5-MA 그래프를 동시에 그려주세요."
   ]
  },
  {
   "cell_type": "code",
   "execution_count": 135,
   "id": "4aca6f79",
   "metadata": {},
   "outputs": [
    {
     "data": {
      "text/html": [
       "<div>\n",
       "<style scoped>\n",
       "    .dataframe tbody tr th:only-of-type {\n",
       "        vertical-align: middle;\n",
       "    }\n",
       "\n",
       "    .dataframe tbody tr th {\n",
       "        vertical-align: top;\n",
       "    }\n",
       "\n",
       "    .dataframe thead th {\n",
       "        text-align: right;\n",
       "    }\n",
       "</style>\n",
       "<table border=\"1\" class=\"dataframe\">\n",
       "  <thead>\n",
       "    <tr style=\"text-align: right;\">\n",
       "      <th></th>\n",
       "      <th>Date</th>\n",
       "      <th>Symbol</th>\n",
       "      <th>Open</th>\n",
       "      <th>High</th>\n",
       "      <th>Low</th>\n",
       "      <th>Close</th>\n",
       "      <th>Volume ETH</th>\n",
       "      <th>Volume USD</th>\n",
       "    </tr>\n",
       "  </thead>\n",
       "  <tbody>\n",
       "    <tr>\n",
       "      <th>1414</th>\n",
       "      <td>2016-06-01</td>\n",
       "      <td>ETHUSD</td>\n",
       "      <td>14.18</td>\n",
       "      <td>14.35</td>\n",
       "      <td>13.54</td>\n",
       "      <td>13.95</td>\n",
       "      <td>6390.06</td>\n",
       "      <td>89027.81</td>\n",
       "    </tr>\n",
       "    <tr>\n",
       "      <th>1413</th>\n",
       "      <td>2016-06-02</td>\n",
       "      <td>ETHUSD</td>\n",
       "      <td>13.95</td>\n",
       "      <td>14.13</td>\n",
       "      <td>13.82</td>\n",
       "      <td>13.90</td>\n",
       "      <td>942.85</td>\n",
       "      <td>13180.38</td>\n",
       "    </tr>\n",
       "    <tr>\n",
       "      <th>1412</th>\n",
       "      <td>2016-06-03</td>\n",
       "      <td>ETHUSD</td>\n",
       "      <td>13.90</td>\n",
       "      <td>16.05</td>\n",
       "      <td>13.50</td>\n",
       "      <td>14.02</td>\n",
       "      <td>11426.53</td>\n",
       "      <td>157342.19</td>\n",
       "    </tr>\n",
       "    <tr>\n",
       "      <th>1411</th>\n",
       "      <td>2016-06-04</td>\n",
       "      <td>ETHUSD</td>\n",
       "      <td>14.02</td>\n",
       "      <td>14.16</td>\n",
       "      <td>13.64</td>\n",
       "      <td>13.86</td>\n",
       "      <td>4330.50</td>\n",
       "      <td>59977.39</td>\n",
       "    </tr>\n",
       "    <tr>\n",
       "      <th>1410</th>\n",
       "      <td>2016-06-05</td>\n",
       "      <td>ETHUSD</td>\n",
       "      <td>13.86</td>\n",
       "      <td>13.92</td>\n",
       "      <td>13.70</td>\n",
       "      <td>13.91</td>\n",
       "      <td>787.49</td>\n",
       "      <td>10869.67</td>\n",
       "    </tr>\n",
       "    <tr>\n",
       "      <th>...</th>\n",
       "      <td>...</td>\n",
       "      <td>...</td>\n",
       "      <td>...</td>\n",
       "      <td>...</td>\n",
       "      <td>...</td>\n",
       "      <td>...</td>\n",
       "      <td>...</td>\n",
       "      <td>...</td>\n",
       "    </tr>\n",
       "    <tr>\n",
       "      <th>1024</th>\n",
       "      <td>2017-06-26</td>\n",
       "      <td>ETHUSD</td>\n",
       "      <td>278.73</td>\n",
       "      <td>299.90</td>\n",
       "      <td>210.00</td>\n",
       "      <td>253.00</td>\n",
       "      <td>249076.24</td>\n",
       "      <td>60950252.99</td>\n",
       "    </tr>\n",
       "    <tr>\n",
       "      <th>1023</th>\n",
       "      <td>2017-06-27</td>\n",
       "      <td>ETHUSD</td>\n",
       "      <td>253.00</td>\n",
       "      <td>288.17</td>\n",
       "      <td>210.02</td>\n",
       "      <td>286.21</td>\n",
       "      <td>173179.40</td>\n",
       "      <td>42085473.60</td>\n",
       "    </tr>\n",
       "    <tr>\n",
       "      <th>1022</th>\n",
       "      <td>2017-06-28</td>\n",
       "      <td>ETHUSD</td>\n",
       "      <td>286.21</td>\n",
       "      <td>324.95</td>\n",
       "      <td>260.49</td>\n",
       "      <td>317.59</td>\n",
       "      <td>184030.56</td>\n",
       "      <td>54573461.77</td>\n",
       "    </tr>\n",
       "    <tr>\n",
       "      <th>1021</th>\n",
       "      <td>2017-06-29</td>\n",
       "      <td>ETHUSD</td>\n",
       "      <td>317.59</td>\n",
       "      <td>322.84</td>\n",
       "      <td>285.23</td>\n",
       "      <td>293.80</td>\n",
       "      <td>152271.32</td>\n",
       "      <td>46521350.06</td>\n",
       "    </tr>\n",
       "    <tr>\n",
       "      <th>1020</th>\n",
       "      <td>2017-06-30</td>\n",
       "      <td>ETHUSD</td>\n",
       "      <td>293.80</td>\n",
       "      <td>304.94</td>\n",
       "      <td>270.77</td>\n",
       "      <td>280.80</td>\n",
       "      <td>146545.22</td>\n",
       "      <td>42337469.59</td>\n",
       "    </tr>\n",
       "  </tbody>\n",
       "</table>\n",
       "<p>395 rows × 8 columns</p>\n",
       "</div>"
      ],
      "text/plain": [
       "           Date  Symbol    Open    High     Low   Close  Volume ETH  \\\n",
       "1414 2016-06-01  ETHUSD   14.18   14.35   13.54   13.95     6390.06   \n",
       "1413 2016-06-02  ETHUSD   13.95   14.13   13.82   13.90      942.85   \n",
       "1412 2016-06-03  ETHUSD   13.90   16.05   13.50   14.02    11426.53   \n",
       "1411 2016-06-04  ETHUSD   14.02   14.16   13.64   13.86     4330.50   \n",
       "1410 2016-06-05  ETHUSD   13.86   13.92   13.70   13.91      787.49   \n",
       "...         ...     ...     ...     ...     ...     ...         ...   \n",
       "1024 2017-06-26  ETHUSD  278.73  299.90  210.00  253.00   249076.24   \n",
       "1023 2017-06-27  ETHUSD  253.00  288.17  210.02  286.21   173179.40   \n",
       "1022 2017-06-28  ETHUSD  286.21  324.95  260.49  317.59   184030.56   \n",
       "1021 2017-06-29  ETHUSD  317.59  322.84  285.23  293.80   152271.32   \n",
       "1020 2017-06-30  ETHUSD  293.80  304.94  270.77  280.80   146545.22   \n",
       "\n",
       "       Volume USD  \n",
       "1414     89027.81  \n",
       "1413     13180.38  \n",
       "1412    157342.19  \n",
       "1411     59977.39  \n",
       "1410     10869.67  \n",
       "...           ...  \n",
       "1024  60950252.99  \n",
       "1023  42085473.60  \n",
       "1022  54573461.77  \n",
       "1021  46521350.06  \n",
       "1020  42337469.59  \n",
       "\n",
       "[395 rows x 8 columns]"
      ]
     },
     "execution_count": 135,
     "metadata": {},
     "output_type": "execute_result"
    }
   ],
   "source": [
    "eth = pd.read_csv('./ETH_day.csv')\n",
    "eth['Date'] = pd.to_datetime(eth['Date']) # 문자열 상태에서 그래프 만들었더니 x축에 아무것도 보이지 않아서 datetime형태로 바꿔봤습니다.\n",
    "\n",
    "period_eth = eth[(eth['Date']>='2016-06-01') & (eth['Date']<='2017-06-30')]\n",
    "period_eth = period_eth.sort_values(by='Date')\n",
    "period_eth"
   ]
  },
  {
   "cell_type": "code",
   "execution_count": 142,
   "id": "7f65c153",
   "metadata": {},
   "outputs": [
    {
     "data": {
      "image/png": "[encoded data removed]",
      "text/plain": [
       "<Figure size 720x360 with 1 Axes>"
      ]
     },
     "metadata": {
      "needs_background": "light"
     },
     "output_type": "display_data"
    }
   ],
   "source": [
    "period_eth['5-MA'] = period_eth['Open'].rolling(window=5).mean()\n",
    "\n",
    "plt.figure(figsize = (10,5))\n",
    "plt.title('5-MA graph')\n",
    "plt.xlabel('Date')\n",
    "plt.ylabel('5-MA')\n",
    "plt.plot(period['Date'],period['5-MA'],color='#f2a900', label = 'BitCoin')\n",
    "plt.plot(period_eth['Date'],period_eth['5-MA'],color='#3c3c3d', label = 'ETH')\n",
    "plt.legend()\n",
    "plt.show()"
   ]
  }
 ],
 "metadata": {
  "kernelspec": {
   "display_name": "Python 3",
   "language": "python",
   "name": "python3"
  },
  "language_info": {
   "codemirror_mode": {
    "name": "ipython",
    "version": 3
   },
   "file_extension": ".py",
   "mimetype": "text/x-python",
   "name": "python",
   "nbconvert_exporter": "python",
   "pygments_lexer": "ipython3",
   "version": "3.6.6"
  }
 },
 "nbformat": 4,
 "nbformat_minor": 5
}
