{
  "nbformat": 4,
  "nbformat_minor": 0,
  "metadata": {
    "colab": {
      "name": "5. Day5 mission.ipynb",
      "provenance": [],
      "collapsed_sections": []
    },
    "kernelspec": {
      "name": "python3",
      "display_name": "Python 3"
    },
    "language_info": {
      "name": "python"
    }
  },
  "cells": [
    {
      "cell_type": "markdown",
      "metadata": {
        "id": "q02659f_8zxF"
      },
      "source": [
        "# Netfilx 데이터\n",
        "- 한국 작품은 총 얼마나 있는가?\n",
        "    - country column을 기준으로 한다.\n",
        "    - \"South Korea\"인 경우만 인정한다. (\"US, South Korea\"는 인정하지 않음)"
      ]
    },
    {
      "cell_type": "code",
      "metadata": {
        "id": "KIGuCDWNIT2C"
      },
      "source": [
        "# data import\n",
        "import pandas as pd\n",
        "import matplotlib.pyplot as plt\n",
        "import numpy as np"
      ],
      "execution_count": 1,
      "outputs": []
    },
    {
      "cell_type": "markdown",
      "metadata": {
        "id": "vTB58cPP9Djl"
      },
      "source": [
        "csv 파일 불러오기"
      ]
    },
    {
      "cell_type": "code",
      "metadata": {
        "colab": {
          "base_uri": "https://localhost:8080/",
          "height": 279
        },
        "id": "hu8WSYaf8yKi",
        "outputId": "1f2deb58-aee9-4b73-ec9a-84945bd6b7d2"
      },
      "source": [
        "df_netfilx = pd.read_csv('./netflix_titles.csv')\n",
        "df_netfilx.head()"
      ],
      "execution_count": 4,
      "outputs": [
        {
          "output_type": "execute_result",
          "data": {
            "text/html": [
              "<div>\n",
              "<style scoped>\n",
              "    .dataframe tbody tr th:only-of-type {\n",
              "        vertical-align: middle;\n",
              "    }\n",
              "\n",
              "    .dataframe tbody tr th {\n",
              "        vertical-align: top;\n",
              "    }\n",
              "\n",
              "    .dataframe thead th {\n",
              "        text-align: right;\n",
              "    }\n",
              "</style>\n",
              "<table border=\"1\" class=\"dataframe\">\n",
              "  <thead>\n",
              "    <tr style=\"text-align: right;\">\n",
              "      <th></th>\n",
              "      <th>show_id</th>\n",
              "      <th>type</th>\n",
              "      <th>title</th>\n",
              "      <th>director</th>\n",
              "      <th>cast</th>\n",
              "      <th>country</th>\n",
              "      <th>date_added</th>\n",
              "      <th>release_year</th>\n",
              "      <th>rating</th>\n",
              "      <th>duration</th>\n",
              "      <th>listed_in</th>\n",
              "      <th>description</th>\n",
              "    </tr>\n",
              "  </thead>\n",
              "  <tbody>\n",
              "    <tr>\n",
              "      <th>0</th>\n",
              "      <td>s1</td>\n",
              "      <td>TV Show</td>\n",
              "      <td>3%</td>\n",
              "      <td>NaN</td>\n",
              "      <td>João Miguel, Bianca Comparato, Michel Gomes, R...</td>\n",
              "      <td>Brazil</td>\n",
              "      <td>August 14, 2020</td>\n",
              "      <td>2020</td>\n",
              "      <td>TV-MA</td>\n",
              "      <td>4 Seasons</td>\n",
              "      <td>International TV Shows, TV Dramas, TV Sci-Fi &amp;...</td>\n",
              "      <td>In a future where the elite inhabit an island ...</td>\n",
              "    </tr>\n",
              "    <tr>\n",
              "      <th>1</th>\n",
              "      <td>s2</td>\n",
              "      <td>Movie</td>\n",
              "      <td>7:19</td>\n",
              "      <td>Jorge Michel Grau</td>\n",
              "      <td>Demián Bichir, Héctor Bonilla, Oscar Serrano, ...</td>\n",
              "      <td>Mexico</td>\n",
              "      <td>December 23, 2016</td>\n",
              "      <td>2016</td>\n",
              "      <td>TV-MA</td>\n",
              "      <td>93 min</td>\n",
              "      <td>Dramas, International Movies</td>\n",
              "      <td>After a devastating earthquake hits Mexico Cit...</td>\n",
              "    </tr>\n",
              "    <tr>\n",
              "      <th>2</th>\n",
              "      <td>s3</td>\n",
              "      <td>Movie</td>\n",
              "      <td>23:59</td>\n",
              "      <td>Gilbert Chan</td>\n",
              "      <td>Tedd Chan, Stella Chung, Henley Hii, Lawrence ...</td>\n",
              "      <td>Singapore</td>\n",
              "      <td>December 20, 2018</td>\n",
              "      <td>2011</td>\n",
              "      <td>R</td>\n",
              "      <td>78 min</td>\n",
              "      <td>Horror Movies, International Movies</td>\n",
              "      <td>When an army recruit is found dead, his fellow...</td>\n",
              "    </tr>\n",
              "    <tr>\n",
              "      <th>3</th>\n",
              "      <td>s4</td>\n",
              "      <td>Movie</td>\n",
              "      <td>9</td>\n",
              "      <td>Shane Acker</td>\n",
              "      <td>Elijah Wood, John C. Reilly, Jennifer Connelly...</td>\n",
              "      <td>United States</td>\n",
              "      <td>November 16, 2017</td>\n",
              "      <td>2009</td>\n",
              "      <td>PG-13</td>\n",
              "      <td>80 min</td>\n",
              "      <td>Action &amp; Adventure, Independent Movies, Sci-Fi...</td>\n",
              "      <td>In a postapocalyptic world, rag-doll robots hi...</td>\n",
              "    </tr>\n",
              "    <tr>\n",
              "      <th>4</th>\n",
              "      <td>s5</td>\n",
              "      <td>Movie</td>\n",
              "      <td>21</td>\n",
              "      <td>Robert Luketic</td>\n",
              "      <td>Jim Sturgess, Kevin Spacey, Kate Bosworth, Aar...</td>\n",
              "      <td>United States</td>\n",
              "      <td>January 1, 2020</td>\n",
              "      <td>2008</td>\n",
              "      <td>PG-13</td>\n",
              "      <td>123 min</td>\n",
              "      <td>Dramas</td>\n",
              "      <td>A brilliant group of students become card-coun...</td>\n",
              "    </tr>\n",
              "  </tbody>\n",
              "</table>\n",
              "</div>"
            ],
            "text/plain": [
              "  show_id  ...                                        description\n",
              "0      s1  ...  In a future where the elite inhabit an island ...\n",
              "1      s2  ...  After a devastating earthquake hits Mexico Cit...\n",
              "2      s3  ...  When an army recruit is found dead, his fellow...\n",
              "3      s4  ...  In a postapocalyptic world, rag-doll robots hi...\n",
              "4      s5  ...  A brilliant group of students become card-coun...\n",
              "\n",
              "[5 rows x 12 columns]"
            ]
          },
          "metadata": {
            "tags": []
          },
          "execution_count": 4
        }
      ]
    },
    {
      "cell_type": "markdown",
      "metadata": {
        "id": "zZbi7yUNCGYy"
      },
      "source": [
        "#### netfilx 데이터 파악\n"
      ]
    },
    {
      "cell_type": "markdown",
      "metadata": {
        "id": "lZnDLw7TCQ1n"
      },
      "source": [
        "데이터 shape"
      ]
    },
    {
      "cell_type": "code",
      "metadata": {
        "colab": {
          "base_uri": "https://localhost:8080/"
        },
        "id": "SmFEDiD19WOQ",
        "outputId": "a2730bee-6e88-4286-c2b0-1b2d299b8d85"
      },
      "source": [
        "df_netfilx.shape"
      ],
      "execution_count": 6,
      "outputs": [
        {
          "output_type": "execute_result",
          "data": {
            "text/plain": [
              "(7787, 12)"
            ]
          },
          "metadata": {
            "tags": []
          },
          "execution_count": 6
        }
      ]
    },
    {
      "cell_type": "markdown",
      "metadata": {
        "id": "ipoXPGAPCT4P"
      },
      "source": [
        "데이터 columns "
      ]
    },
    {
      "cell_type": "code",
      "metadata": {
        "colab": {
          "base_uri": "https://localhost:8080/"
        },
        "id": "IZt6haRO9QMM",
        "outputId": "6ff98ec7-d25e-43ce-9468-9044a43ab75d"
      },
      "source": [
        "df_netfilx.columns"
      ],
      "execution_count": 5,
      "outputs": [
        {
          "output_type": "execute_result",
          "data": {
            "text/plain": [
              "Index(['show_id', 'type', 'title', 'director', 'cast', 'country', 'date_added',\n",
              "       'release_year', 'rating', 'duration', 'listed_in', 'description'],\n",
              "      dtype='object')"
            ]
          },
          "metadata": {
            "tags": []
          },
          "execution_count": 5
        }
      ]
    },
    {
      "cell_type": "code",
      "metadata": {
        "id": "6Rc-p49u9dof"
      },
      "source": [
        "df_netfilx['country'].unique()"
      ],
      "execution_count": null,
      "outputs": []
    },
    {
      "cell_type": "markdown",
      "metadata": {
        "id": "cAE1ZphhCWUS"
      },
      "source": [
        "한국 작품은 총 몇개나 있는가?"
      ]
    },
    {
      "cell_type": "code",
      "metadata": {
        "colab": {
          "base_uri": "https://localhost:8080/"
        },
        "id": "XzWfNQJ89q63",
        "outputId": "253abe3f-48ba-4bbd-a29c-b53f08127755"
      },
      "source": [
        "df_korea = df_netfilx[df_netfilx['country'] == 'South Korea']\n",
        "df_korea.shape[0]"
      ],
      "execution_count": 29,
      "outputs": [
        {
          "output_type": "execute_result",
          "data": {
            "text/plain": [
              "183"
            ]
          },
          "metadata": {
            "tags": []
          },
          "execution_count": 29
        }
      ]
    },
    {
      "cell_type": "code",
      "metadata": {
        "colab": {
          "base_uri": "https://localhost:8080/"
        },
        "id": "EPTD0bPrHxPw",
        "outputId": "ac523ac6-3096-454c-874a-bef71f452fae"
      },
      "source": [
        "tmp = df_netfilx['show_id'].groupby(by=df_netfilx['country']).count()\n",
        "tmp.loc['South Korea']"
      ],
      "execution_count": 46,
      "outputs": [
        {
          "output_type": "execute_result",
          "data": {
            "text/plain": [
              "183"
            ]
          },
          "metadata": {
            "tags": []
          },
          "execution_count": 46
        }
      ]
    },
    {
      "cell_type": "markdown",
      "metadata": {
        "id": "ovu19dKFCbw7"
      },
      "source": [
        "답 : 183 개\n"
      ]
    },
    {
      "cell_type": "markdown",
      "metadata": {
        "id": "qlC3WUmECj2C"
      },
      "source": [
        "### Bonus Part\n",
        "- 가장 많은 작품이 올라간 국가는 어디이고, 얼마나 많은 작품이 있는가?\n",
        "- country column을 기준으로 한다.\n",
        "- 단일 국가인 경우를 기준으로 결과를 구해보자."
      ]
    },
    {
      "cell_type": "code",
      "metadata": {
        "colab": {
          "base_uri": "https://localhost:8080/"
        },
        "id": "3l_6ZQuLCqs9",
        "outputId": "9cf57619-7c4f-48d3-c013-2a14bf6e75f3"
      },
      "source": [
        "# 단일 국가 추출하기\n",
        "country_list = set()\n",
        "for val in df_netfilx['country'].unique():\n",
        "    try:\n",
        "        # set.add() 는 1개의 값만 추가 가능\n",
        "        country_list.add(*val.split(', '))\n",
        "    except:\n",
        "        # 단일국가가 아니거나, nan 타입의 경우 무시\n",
        "        continue\n",
        "country_list"
      ],
      "execution_count": 41,
      "outputs": [
        {
          "output_type": "execute_result",
          "data": {
            "text/plain": [
              "{'Argentina',\n",
              " 'Australia',\n",
              " 'Austria',\n",
              " 'Bangladesh',\n",
              " 'Belarus',\n",
              " 'Belgium',\n",
              " 'Brazil',\n",
              " 'Bulgaria',\n",
              " 'Cambodia',\n",
              " 'Canada',\n",
              " 'Chile',\n",
              " 'China',\n",
              " 'Colombia',\n",
              " 'Croatia',\n",
              " 'Cyprus',\n",
              " 'Denmark',\n",
              " 'Egypt',\n",
              " 'Finland',\n",
              " 'France',\n",
              " 'Georgia',\n",
              " 'Germany',\n",
              " 'Ghana',\n",
              " 'Guatemala',\n",
              " 'Hong Kong',\n",
              " 'Hungary',\n",
              " 'Iceland',\n",
              " 'India',\n",
              " 'Indonesia',\n",
              " 'Ireland',\n",
              " 'Israel',\n",
              " 'Italy',\n",
              " 'Japan',\n",
              " 'Jordan',\n",
              " 'Kenya',\n",
              " 'Kuwait',\n",
              " 'Lebanon',\n",
              " 'Malaysia',\n",
              " 'Mexico',\n",
              " 'Namibia',\n",
              " 'Netherlands',\n",
              " 'New Zealand',\n",
              " 'Nigeria',\n",
              " 'Norway',\n",
              " 'Pakistan',\n",
              " 'Peru',\n",
              " 'Philippines',\n",
              " 'Poland',\n",
              " 'Poland,',\n",
              " 'Romania',\n",
              " 'Russia',\n",
              " 'Saudi Arabia',\n",
              " 'Senegal',\n",
              " 'Singapore',\n",
              " 'South Africa',\n",
              " 'South Korea',\n",
              " 'Spain',\n",
              " 'Sweden',\n",
              " 'Switzerland',\n",
              " 'Taiwan',\n",
              " 'Thailand',\n",
              " 'Turkey',\n",
              " 'Ukraine',\n",
              " 'United Arab Emirates',\n",
              " 'United Kingdom',\n",
              " 'United Kingdom,',\n",
              " 'United States',\n",
              " 'United States,',\n",
              " 'Uruguay',\n",
              " 'Venezuela',\n",
              " 'Vietnam',\n",
              " 'West Germany',\n",
              " 'Zimbabwe'}"
            ]
          },
          "metadata": {
            "tags": []
          },
          "execution_count": 41
        }
      ]
    },
    {
      "cell_type": "code",
      "metadata": {
        "colab": {
          "base_uri": "https://localhost:8080/",
          "height": 279
        },
        "id": "2Ca6uumQHNFo",
        "outputId": "c8467b0d-fab0-4a12-b5b4-aa0cb75b208b"
      },
      "source": [
        "# 단일 국가의 Dataframe 추출\n",
        "mask = df_netfilx['country'].isin(country_list)\n",
        "df_masked = df_netfilx[mask]\n",
        "df_masked.head()"
      ],
      "execution_count": 71,
      "outputs": [
        {
          "output_type": "execute_result",
          "data": {
            "text/html": [
              "<div>\n",
              "<style scoped>\n",
              "    .dataframe tbody tr th:only-of-type {\n",
              "        vertical-align: middle;\n",
              "    }\n",
              "\n",
              "    .dataframe tbody tr th {\n",
              "        vertical-align: top;\n",
              "    }\n",
              "\n",
              "    .dataframe thead th {\n",
              "        text-align: right;\n",
              "    }\n",
              "</style>\n",
              "<table border=\"1\" class=\"dataframe\">\n",
              "  <thead>\n",
              "    <tr style=\"text-align: right;\">\n",
              "      <th></th>\n",
              "      <th>show_id</th>\n",
              "      <th>type</th>\n",
              "      <th>title</th>\n",
              "      <th>director</th>\n",
              "      <th>cast</th>\n",
              "      <th>country</th>\n",
              "      <th>date_added</th>\n",
              "      <th>release_year</th>\n",
              "      <th>rating</th>\n",
              "      <th>duration</th>\n",
              "      <th>listed_in</th>\n",
              "      <th>description</th>\n",
              "    </tr>\n",
              "  </thead>\n",
              "  <tbody>\n",
              "    <tr>\n",
              "      <th>0</th>\n",
              "      <td>s1</td>\n",
              "      <td>TV Show</td>\n",
              "      <td>3%</td>\n",
              "      <td>NaN</td>\n",
              "      <td>João Miguel, Bianca Comparato, Michel Gomes, R...</td>\n",
              "      <td>Brazil</td>\n",
              "      <td>August 14, 2020</td>\n",
              "      <td>2020</td>\n",
              "      <td>TV-MA</td>\n",
              "      <td>4 Seasons</td>\n",
              "      <td>International TV Shows, TV Dramas, TV Sci-Fi &amp;...</td>\n",
              "      <td>In a future where the elite inhabit an island ...</td>\n",
              "    </tr>\n",
              "    <tr>\n",
              "      <th>1</th>\n",
              "      <td>s2</td>\n",
              "      <td>Movie</td>\n",
              "      <td>7:19</td>\n",
              "      <td>Jorge Michel Grau</td>\n",
              "      <td>Demián Bichir, Héctor Bonilla, Oscar Serrano, ...</td>\n",
              "      <td>Mexico</td>\n",
              "      <td>December 23, 2016</td>\n",
              "      <td>2016</td>\n",
              "      <td>TV-MA</td>\n",
              "      <td>93 min</td>\n",
              "      <td>Dramas, International Movies</td>\n",
              "      <td>After a devastating earthquake hits Mexico Cit...</td>\n",
              "    </tr>\n",
              "    <tr>\n",
              "      <th>2</th>\n",
              "      <td>s3</td>\n",
              "      <td>Movie</td>\n",
              "      <td>23:59</td>\n",
              "      <td>Gilbert Chan</td>\n",
              "      <td>Tedd Chan, Stella Chung, Henley Hii, Lawrence ...</td>\n",
              "      <td>Singapore</td>\n",
              "      <td>December 20, 2018</td>\n",
              "      <td>2011</td>\n",
              "      <td>R</td>\n",
              "      <td>78 min</td>\n",
              "      <td>Horror Movies, International Movies</td>\n",
              "      <td>When an army recruit is found dead, his fellow...</td>\n",
              "    </tr>\n",
              "    <tr>\n",
              "      <th>3</th>\n",
              "      <td>s4</td>\n",
              "      <td>Movie</td>\n",
              "      <td>9</td>\n",
              "      <td>Shane Acker</td>\n",
              "      <td>Elijah Wood, John C. Reilly, Jennifer Connelly...</td>\n",
              "      <td>United States</td>\n",
              "      <td>November 16, 2017</td>\n",
              "      <td>2009</td>\n",
              "      <td>PG-13</td>\n",
              "      <td>80 min</td>\n",
              "      <td>Action &amp; Adventure, Independent Movies, Sci-Fi...</td>\n",
              "      <td>In a postapocalyptic world, rag-doll robots hi...</td>\n",
              "    </tr>\n",
              "    <tr>\n",
              "      <th>4</th>\n",
              "      <td>s5</td>\n",
              "      <td>Movie</td>\n",
              "      <td>21</td>\n",
              "      <td>Robert Luketic</td>\n",
              "      <td>Jim Sturgess, Kevin Spacey, Kate Bosworth, Aar...</td>\n",
              "      <td>United States</td>\n",
              "      <td>January 1, 2020</td>\n",
              "      <td>2008</td>\n",
              "      <td>PG-13</td>\n",
              "      <td>123 min</td>\n",
              "      <td>Dramas</td>\n",
              "      <td>A brilliant group of students become card-coun...</td>\n",
              "    </tr>\n",
              "  </tbody>\n",
              "</table>\n",
              "</div>"
            ],
            "text/plain": [
              "  show_id  ...                                        description\n",
              "0      s1  ...  In a future where the elite inhabit an island ...\n",
              "1      s2  ...  After a devastating earthquake hits Mexico Cit...\n",
              "2      s3  ...  When an army recruit is found dead, his fellow...\n",
              "3      s4  ...  In a postapocalyptic world, rag-doll robots hi...\n",
              "4      s5  ...  A brilliant group of students become card-coun...\n",
              "\n",
              "[5 rows x 12 columns]"
            ]
          },
          "metadata": {
            "tags": []
          },
          "execution_count": 71
        }
      ]
    },
    {
      "cell_type": "code",
      "metadata": {
        "colab": {
          "base_uri": "https://localhost:8080/"
        },
        "id": "ohUQbn2bQBn7",
        "outputId": "05d78977-19fe-4343-e2cd-07c3338a8ec0"
      },
      "source": [
        "tmp = df_masked['show_id'].groupby(df_masked['country']).count()\n",
        "tmp.sort_values(ascending=False)"
      ],
      "execution_count": 85,
      "outputs": [
        {
          "output_type": "execute_result",
          "data": {
            "text/plain": [
              "country\n",
              "United States     2555\n",
              "India              923\n",
              "United Kingdom     397\n",
              "Japan              226\n",
              "South Korea        183\n",
              "                  ... \n",
              "Senegal              1\n",
              "Poland,              1\n",
              "Jordan               1\n",
              "West Germany         1\n",
              "Zimbabwe             1\n",
              "Name: show_id, Length: 72, dtype: int64"
            ]
          },
          "metadata": {
            "tags": []
          },
          "execution_count": 85
        }
      ]
    },
    {
      "cell_type": "markdown",
      "metadata": {
        "id": "nFyLmQQuSIOP"
      },
      "source": [
        "#### 결론 : 가장 많은 작품이 올라간 국가는 **'United States'** 이고 작품수는 **2555** 이다."
      ]
    },
    {
      "cell_type": "markdown",
      "metadata": {
        "id": "djHQgbbNDiLo"
      },
      "source": [
        "## Mission 2. 가즈아!"
      ]
    },
    {
      "cell_type": "markdown",
      "metadata": {
        "id": "lSgddT9DDla6"
      },
      "source": [
        "### Mandatory Part\n",
        "다음 데이터가 주어졌을 때 2016.6 ~ 2017.6 기간의 5-MA(Moving Average) 비트코인 가격 그래프를 그려주세요.\n",
        "- 선의 색깔은 노란색(#f2a900) 으로 해야합니다.\n",
        "- x-axis label과 y-axis label은 적절한 텍스트로 추가되어야 합니다.\n",
        "- 이동평균의 기준은 Open Column으로 계산합니다.\n",
        "- 이외에도 그래프를 알아보기 쉽게 하기 위한 정보(Text, Facet 등)을 추가하는 것도 좋습니다."
      ]
    },
    {
      "cell_type": "markdown",
      "metadata": {
        "id": "UmnLawl0la3g"
      },
      "source": [
        "비트코인 데이터 불러오기"
      ]
    },
    {
      "cell_type": "code",
      "metadata": {
        "colab": {
          "base_uri": "https://localhost:8080/",
          "height": 166
        },
        "id": "rmiM9QR8DviK",
        "outputId": "f9fdc729-03f5-43b3-9b7d-827ddb0d8b87"
      },
      "source": [
        "df_coin = pd.read_csv('./BitCoin.csv',index_col='Date',parse_dates=['Date'])\n",
        "df_coin.head(3)"
      ],
      "execution_count": 228,
      "outputs": [
        {
          "output_type": "execute_result",
          "data": {
            "text/html": [
              "<div>\n",
              "<style scoped>\n",
              "    .dataframe tbody tr th:only-of-type {\n",
              "        vertical-align: middle;\n",
              "    }\n",
              "\n",
              "    .dataframe tbody tr th {\n",
              "        vertical-align: top;\n",
              "    }\n",
              "\n",
              "    .dataframe thead th {\n",
              "        text-align: right;\n",
              "    }\n",
              "</style>\n",
              "<table border=\"1\" class=\"dataframe\">\n",
              "  <thead>\n",
              "    <tr style=\"text-align: right;\">\n",
              "      <th></th>\n",
              "      <th>Unnamed: 0</th>\n",
              "      <th>Open</th>\n",
              "      <th>High</th>\n",
              "      <th>Low</th>\n",
              "      <th>Close</th>\n",
              "      <th>Volume</th>\n",
              "      <th>Market Cap</th>\n",
              "    </tr>\n",
              "    <tr>\n",
              "      <th>Date</th>\n",
              "      <th></th>\n",
              "      <th></th>\n",
              "      <th></th>\n",
              "      <th></th>\n",
              "      <th></th>\n",
              "      <th></th>\n",
              "      <th></th>\n",
              "    </tr>\n",
              "  </thead>\n",
              "  <tbody>\n",
              "    <tr>\n",
              "      <th>2017-09-22</th>\n",
              "      <td>0</td>\n",
              "      <td>3628.02</td>\n",
              "      <td>3758.27</td>\n",
              "      <td>3553.53</td>\n",
              "      <td>3630.70</td>\n",
              "      <td>1.194830e+09</td>\n",
              "      <td>60152300000</td>\n",
              "    </tr>\n",
              "    <tr>\n",
              "      <th>2017-09-21</th>\n",
              "      <td>1</td>\n",
              "      <td>3901.47</td>\n",
              "      <td>3916.42</td>\n",
              "      <td>3613.63</td>\n",
              "      <td>3631.04</td>\n",
              "      <td>1.411480e+09</td>\n",
              "      <td>64677600000</td>\n",
              "    </tr>\n",
              "    <tr>\n",
              "      <th>2017-09-20</th>\n",
              "      <td>2</td>\n",
              "      <td>3916.36</td>\n",
              "      <td>4031.39</td>\n",
              "      <td>3857.73</td>\n",
              "      <td>3905.95</td>\n",
              "      <td>1.213830e+09</td>\n",
              "      <td>64918500000</td>\n",
              "    </tr>\n",
              "  </tbody>\n",
              "</table>\n",
              "</div>"
            ],
            "text/plain": [
              "            Unnamed: 0     Open     High  ...    Close        Volume   Market Cap\n",
              "Date                                      ...                                    \n",
              "2017-09-22           0  3628.02  3758.27  ...  3630.70  1.194830e+09  60152300000\n",
              "2017-09-21           1  3901.47  3916.42  ...  3631.04  1.411480e+09  64677600000\n",
              "2017-09-20           2  3916.36  4031.39  ...  3905.95  1.213830e+09  64918500000\n",
              "\n",
              "[3 rows x 7 columns]"
            ]
          },
          "metadata": {
            "tags": []
          },
          "execution_count": 228
        }
      ]
    },
    {
      "cell_type": "markdown",
      "metadata": {
        "id": "lsZc-RKNlch_"
      },
      "source": [
        "데이터 확인"
      ]
    },
    {
      "cell_type": "code",
      "metadata": {
        "colab": {
          "base_uri": "https://localhost:8080/"
        },
        "id": "Hfm6CLjgldsy",
        "outputId": "defcb15c-253e-4662-e64b-a93fab200314"
      },
      "source": [
        "df_coin.shape"
      ],
      "execution_count": 220,
      "outputs": [
        {
          "output_type": "execute_result",
          "data": {
            "text/plain": [
              "(1609, 7)"
            ]
          },
          "metadata": {
            "tags": []
          },
          "execution_count": 220
        }
      ]
    },
    {
      "cell_type": "code",
      "metadata": {
        "colab": {
          "base_uri": "https://localhost:8080/"
        },
        "id": "ZZBLXPzjUubT",
        "outputId": "62e428c9-c6c9-45b7-9810-d5e56e6e6df4"
      },
      "source": [
        "df_coin.columns"
      ],
      "execution_count": 221,
      "outputs": [
        {
          "output_type": "execute_result",
          "data": {
            "text/plain": [
              "Index(['Unnamed: 0', 'Open', 'High', 'Low', 'Close', 'Volume', 'Market Cap'], dtype='object')"
            ]
          },
          "metadata": {
            "tags": []
          },
          "execution_count": 221
        }
      ]
    },
    {
      "cell_type": "code",
      "metadata": {
        "colab": {
          "base_uri": "https://localhost:8080/"
        },
        "id": "hn5ISgFk5RdM",
        "outputId": "ccde3a99-d1e4-4e33-c7c2-96bfdc262058"
      },
      "source": [
        "df_coin.dtypes"
      ],
      "execution_count": 222,
      "outputs": [
        {
          "output_type": "execute_result",
          "data": {
            "text/plain": [
              "Unnamed: 0      int64\n",
              "Open          float64\n",
              "High          float64\n",
              "Low           float64\n",
              "Close         float64\n",
              "Volume        float64\n",
              "Market Cap      int64\n",
              "dtype: object"
            ]
          },
          "metadata": {
            "tags": []
          },
          "execution_count": 222
        }
      ]
    },
    {
      "cell_type": "markdown",
      "metadata": {
        "id": "DaBQr2mIlf5c"
      },
      "source": [
        "2016.06 ~ 2017.06 기간데이터 추출"
      ]
    },
    {
      "cell_type": "code",
      "metadata": {
        "colab": {
          "base_uri": "https://localhost:8080/"
        },
        "id": "MIG7kAaf8NwT",
        "outputId": "4b43aad3-5cb4-42d9-bfab-37563bb11e57"
      },
      "source": [
        "df_coin = df_coin.loc['2016-06-01' : '2017-06-30']['Open']\n",
        "df_coin = df_coin.sort_index()\n",
        "df_coin"
      ],
      "execution_count": 229,
      "outputs": [
        {
          "output_type": "execute_result",
          "data": {
            "text/plain": [
              "Date\n",
              "2016-06-01     431.86\n",
              "2016-06-02     386.59\n",
              "2016-06-03     400.52\n",
              "2016-06-04     424.28\n",
              "2016-06-05     447.94\n",
              "               ...   \n",
              "2017-06-26    2590.57\n",
              "2017-06-27    2478.45\n",
              "2017-06-28    2553.03\n",
              "2017-06-29    2567.56\n",
              "2017-06-30    2539.24\n",
              "Name: Open, Length: 377, dtype: float64"
            ]
          },
          "metadata": {
            "tags": []
          },
          "execution_count": 229
        }
      ]
    },
    {
      "cell_type": "markdown",
      "metadata": {
        "id": "pp6Hcom5mEEl"
      },
      "source": [
        "5-MA(Moving Average) 구하기\n",
        "- `rolling(N)` : N 은 기간 "
      ]
    },
    {
      "cell_type": "code",
      "metadata": {
        "colab": {
          "base_uri": "https://localhost:8080/"
        },
        "id": "VB5Q7FmllqMM",
        "outputId": "83606c4a-a7f8-45ae-e96f-9a17716efde1"
      },
      "source": [
        "df_5ma = df_coin.rolling(5).mean()\n",
        "df_5ma"
      ],
      "execution_count": 230,
      "outputs": [
        {
          "output_type": "execute_result",
          "data": {
            "text/plain": [
              "Date\n",
              "2016-06-01         NaN\n",
              "2016-06-02         NaN\n",
              "2016-06-03         NaN\n",
              "2016-06-04         NaN\n",
              "2016-06-05     418.238\n",
              "                ...   \n",
              "2017-06-26    2666.942\n",
              "2017-06-27    2624.426\n",
              "2017-06-28    2593.564\n",
              "2017-06-29    2559.372\n",
              "2017-06-30    2545.770\n",
              "Name: Open, Length: 377, dtype: float64"
            ]
          },
          "metadata": {
            "tags": []
          },
          "execution_count": 230
        }
      ]
    },
    {
      "cell_type": "markdown",
      "metadata": {
        "id": "WS2PmyuUnQPJ"
      },
      "source": [
        "5-MA 를 구해서 4개의 결측치 값이 생긴것을 확인\n",
        "- 시각화를 위해서 Nan값을 drop 하기로 결정\n",
        "- `dropna()` 사용"
      ]
    },
    {
      "cell_type": "code",
      "metadata": {
        "colab": {
          "base_uri": "https://localhost:8080/"
        },
        "id": "SDnu_CVVnPiC",
        "outputId": "46721b6b-402a-4419-e2d3-510d3c55187e"
      },
      "source": [
        "df_5ma = df_5ma[4:]\n",
        "df_5ma"
      ],
      "execution_count": 232,
      "outputs": [
        {
          "output_type": "execute_result",
          "data": {
            "text/plain": [
              "Date\n",
              "2016-06-05     418.238\n",
              "2016-06-06     446.786\n",
              "2016-06-07     503.552\n",
              "2016-06-08     538.454\n",
              "2016-06-09     574.900\n",
              "                ...   \n",
              "2017-06-26    2666.942\n",
              "2017-06-27    2624.426\n",
              "2017-06-28    2593.564\n",
              "2017-06-29    2559.372\n",
              "2017-06-30    2545.770\n",
              "Name: Open, Length: 373, dtype: float64"
            ]
          },
          "metadata": {
            "tags": []
          },
          "execution_count": 232
        }
      ]
    },
    {
      "cell_type": "code",
      "metadata": {
        "colab": {
          "base_uri": "https://localhost:8080/",
          "height": 388
        },
        "id": "iDDTSZR_mQm1",
        "outputId": "e59fe89a-c3f5-4941-9b20-03096c41c8f7"
      },
      "source": [
        "plt.figure(figsize=(10,6))\n",
        "plt.plot(df_5ma,'#f2a900')\n",
        "plt.xlabel('Date')\n",
        "plt.ylabel('Bitcoin 5-MA Graph')\n",
        "plt.show()"
      ],
      "execution_count": 280,
      "outputs": [
        {
          "output_type": "display_data",
          "data": {
            "image/png": "[encoded data removed]",
            "text/plain": [
              "<Figure size 720x432 with 1 Axes>"
            ]
          },
          "metadata": {
            "tags": [],
            "needs_background": "light"
          }
        }
      ]
    },
    {
      "cell_type": "markdown",
      "metadata": {
        "id": "lzCkKRvh_xy-"
      },
      "source": [
        "### Bonus Part\n",
        "-  이더리움 그래프 같이 그리기"
      ]
    },
    {
      "cell_type": "code",
      "metadata": {
        "colab": {
          "base_uri": "https://localhost:8080/",
          "height": 225
        },
        "id": "Opzd5wQX_kt9",
        "outputId": "9d0ac247-9490-4758-b823-4803ecf05039"
      },
      "source": [
        "df_ider = pd.read_csv('./ETH_day.csv', index_col='Date',parse_dates=['Date'])\n",
        "df_ider.head()"
      ],
      "execution_count": 283,
      "outputs": [
        {
          "output_type": "execute_result",
          "data": {
            "text/html": [
              "<div>\n",
              "<style scoped>\n",
              "    .dataframe tbody tr th:only-of-type {\n",
              "        vertical-align: middle;\n",
              "    }\n",
              "\n",
              "    .dataframe tbody tr th {\n",
              "        vertical-align: top;\n",
              "    }\n",
              "\n",
              "    .dataframe thead th {\n",
              "        text-align: right;\n",
              "    }\n",
              "</style>\n",
              "<table border=\"1\" class=\"dataframe\">\n",
              "  <thead>\n",
              "    <tr style=\"text-align: right;\">\n",
              "      <th></th>\n",
              "      <th>Symbol</th>\n",
              "      <th>Open</th>\n",
              "      <th>High</th>\n",
              "      <th>Low</th>\n",
              "      <th>Close</th>\n",
              "      <th>Volume ETH</th>\n",
              "      <th>Volume USD</th>\n",
              "    </tr>\n",
              "    <tr>\n",
              "      <th>Date</th>\n",
              "      <th></th>\n",
              "      <th></th>\n",
              "      <th></th>\n",
              "      <th></th>\n",
              "      <th></th>\n",
              "      <th></th>\n",
              "      <th></th>\n",
              "    </tr>\n",
              "  </thead>\n",
              "  <tbody>\n",
              "    <tr>\n",
              "      <th>2020-04-15</th>\n",
              "      <td>ETHUSD</td>\n",
              "      <td>158.61</td>\n",
              "      <td>158.61</td>\n",
              "      <td>158.61</td>\n",
              "      <td>158.61</td>\n",
              "      <td>0.00</td>\n",
              "      <td>0.00</td>\n",
              "    </tr>\n",
              "    <tr>\n",
              "      <th>2020-04-14</th>\n",
              "      <td>ETHUSD</td>\n",
              "      <td>156.97</td>\n",
              "      <td>162.15</td>\n",
              "      <td>155.74</td>\n",
              "      <td>158.61</td>\n",
              "      <td>18061.58</td>\n",
              "      <td>2872210.44</td>\n",
              "    </tr>\n",
              "    <tr>\n",
              "      <th>2020-04-13</th>\n",
              "      <td>ETHUSD</td>\n",
              "      <td>158.56</td>\n",
              "      <td>159.51</td>\n",
              "      <td>150.12</td>\n",
              "      <td>156.97</td>\n",
              "      <td>15698.32</td>\n",
              "      <td>2416728.28</td>\n",
              "    </tr>\n",
              "    <tr>\n",
              "      <th>2020-04-12</th>\n",
              "      <td>ETHUSD</td>\n",
              "      <td>158.66</td>\n",
              "      <td>165.37</td>\n",
              "      <td>155.21</td>\n",
              "      <td>158.56</td>\n",
              "      <td>12877.33</td>\n",
              "      <td>2082804.05</td>\n",
              "    </tr>\n",
              "    <tr>\n",
              "      <th>2020-04-11</th>\n",
              "      <td>ETHUSD</td>\n",
              "      <td>158.26</td>\n",
              "      <td>161.49</td>\n",
              "      <td>154.25</td>\n",
              "      <td>158.66</td>\n",
              "      <td>13761.72</td>\n",
              "      <td>2172914.57</td>\n",
              "    </tr>\n",
              "  </tbody>\n",
              "</table>\n",
              "</div>"
            ],
            "text/plain": [
              "            Symbol    Open    High     Low   Close  Volume ETH  Volume USD\n",
              "Date                                                                      \n",
              "2020-04-15  ETHUSD  158.61  158.61  158.61  158.61        0.00        0.00\n",
              "2020-04-14  ETHUSD  156.97  162.15  155.74  158.61    18061.58  2872210.44\n",
              "2020-04-13  ETHUSD  158.56  159.51  150.12  156.97    15698.32  2416728.28\n",
              "2020-04-12  ETHUSD  158.66  165.37  155.21  158.56    12877.33  2082804.05\n",
              "2020-04-11  ETHUSD  158.26  161.49  154.25  158.66    13761.72  2172914.57"
            ]
          },
          "metadata": {
            "tags": []
          },
          "execution_count": 283
        }
      ]
    },
    {
      "cell_type": "code",
      "metadata": {
        "colab": {
          "base_uri": "https://localhost:8080/"
        },
        "id": "nYZHx5kEAYDo",
        "outputId": "e8f6a92e-3333-4266-b920-db639dc5aaa3"
      },
      "source": [
        "df_ider = df_ider.sort_index()\n",
        "df_ider = df_ider['2016-06-01' : '2017-06-30']['Open']\n",
        "df_ider"
      ],
      "execution_count": 284,
      "outputs": [
        {
          "output_type": "execute_result",
          "data": {
            "text/plain": [
              "Date\n",
              "2016-06-01     14.18\n",
              "2016-06-02     13.95\n",
              "2016-06-03     13.90\n",
              "2016-06-04     14.02\n",
              "2016-06-05     13.86\n",
              "               ...  \n",
              "2017-06-26    278.73\n",
              "2017-06-27    253.00\n",
              "2017-06-28    286.21\n",
              "2017-06-29    317.59\n",
              "2017-06-30    293.80\n",
              "Name: Open, Length: 395, dtype: float64"
            ]
          },
          "metadata": {
            "tags": []
          },
          "execution_count": 284
        }
      ]
    },
    {
      "cell_type": "code",
      "metadata": {
        "colab": {
          "base_uri": "https://localhost:8080/"
        },
        "id": "045LxrbvCBju",
        "outputId": "558df5db-63c6-4df2-f487-7e36929852dd"
      },
      "source": [
        "df_ider = df_ider.rolling(5).mean()[4:]\n",
        "df_ider"
      ],
      "execution_count": 285,
      "outputs": [
        {
          "output_type": "execute_result",
          "data": {
            "text/plain": [
              "Date\n",
              "2016-06-05     13.982\n",
              "2016-06-06     13.928\n",
              "2016-06-07     13.970\n",
              "2016-06-08     14.090\n",
              "2016-06-09     14.188\n",
              "               ...   \n",
              "2017-06-26    310.850\n",
              "2017-06-27    296.592\n",
              "2017-06-28    289.898\n",
              "2017-06-29    288.066\n",
              "2017-06-30    285.866\n",
              "Name: Open, Length: 391, dtype: float64"
            ]
          },
          "metadata": {
            "tags": []
          },
          "execution_count": 285
        }
      ]
    },
    {
      "cell_type": "code",
      "metadata": {
        "colab": {
          "base_uri": "https://localhost:8080/",
          "height": 388
        },
        "id": "aowdRsr1CJjw",
        "outputId": "d7c86c73-0bf2-45c1-c7bd-4764d32657e7"
      },
      "source": [
        "plt.figure(figsize=(10,6))\n",
        "plt.plot(df_5ma,'#f2a900', df_ider,'#3c3c3d')\n",
        "plt.xlabel('Date')\n",
        "plt.ylabel('Bitcoin & ETH 5-MA Value')\n",
        "plt.show()"
      ],
      "execution_count": 289,
      "outputs": [
        {
          "output_type": "display_data",
          "data": {
            "image/png": "[encoded data removed]",
            "text/plain": [
              "<Figure size 720x432 with 1 Axes>"
            ]
          },
          "metadata": {
            "tags": [],
            "needs_background": "light"
          }
        }
      ]
    }
  ]
}