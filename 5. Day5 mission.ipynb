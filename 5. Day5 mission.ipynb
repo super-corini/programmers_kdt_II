{
 "cells": [
  {
   "cell_type": "markdown",
   "metadata": {
    "collapsed": true,
    "pycharm": {
     "name": "#%% md\n"
    }
   },
   "source": [
    "# Mission 1. Netflix and code\n",
    "\n",
    "## Mandatory Part\n",
    "\n",
    "- **한국 작품은 얼마나 있는가?**"
   ]
  },
  {
   "cell_type": "code",
   "execution_count": 12,
   "outputs": [
    {
     "name": "stdout",
     "output_type": "stream",
     "text": [
      "한국작품은 183개 있어요.\n"
     ]
    }
   ],
   "source": [
    "import pandas as pd\n",
    "\n",
    "netflix = pd.read_csv('netflix_titles.csv')\n",
    "counts = (netflix['country']=='South Korea').sum()\n",
    "print(f'한국작품은 {counts}개 있어요.')"
   ],
   "metadata": {
    "collapsed": false,
    "pycharm": {
     "name": "#%%\n"
    }
   }
  },
  {
   "cell_type": "markdown",
   "source": [
    "## Bonus Part\n",
    "\n",
    "- **가장 다작한 나라는?**"
   ],
   "metadata": {
    "collapsed": false,
    "pycharm": {
     "name": "#%% md\n"
    }
   }
  },
  {
   "cell_type": "code",
   "execution_count": 14,
   "outputs": [
    {
     "data": {
      "text/plain": "Index(['show_id', 'type', 'title', 'director', 'cast', 'country', 'date_added',\n       'release_year', 'rating', 'duration', 'listed_in', 'description'],\n      dtype='object')"
     },
     "execution_count": 14,
     "metadata": {},
     "output_type": "execute_result"
    }
   ],
   "source": [
    "netflix.columns"
   ],
   "metadata": {
    "collapsed": false,
    "pycharm": {
     "name": "#%%\n"
    }
   }
  },
  {
   "cell_type": "code",
   "execution_count": 39,
   "outputs": [
    {
     "name": "stdout",
     "output_type": "stream",
     "text": [
      "역시나 United States이었습니다.\n",
      "2555개의 작품이 있네요.\n"
     ]
    }
   ],
   "source": [
    "count_by_country = netflix[['show_id', 'country']].groupby('country').count()\n",
    "x = count_by_country.sort_values('show_id').iloc[-1]\n",
    "print(f\"역시나 {x.name}이었습니다.\")\n",
    "print(f'{x[0]}개의 작품이 있네요.')"
   ],
   "metadata": {
    "collapsed": false,
    "pycharm": {
     "name": "#%%\n"
    }
   }
  },
  {
   "cell_type": "markdown",
   "source": [
    "# Mission 2. Let's GOOO!!\n",
    "\n",
    "## Mandatory Part\n",
    "\n",
    "- **정신차려!**"
   ],
   "metadata": {
    "collapsed": false,
    "pycharm": {
     "name": "#%% md\n"
    }
   }
  },
  {
   "cell_type": "code",
   "execution_count": 96,
   "outputs": [
    {
     "name": "stderr",
     "output_type": "stream",
     "text": [
      "<ipython-input-96-c78e4e57ea59>:7: UserWarning: Boolean Series key will be reindexed to match DataFrame index.\n",
      "  toshow = bit[bit['Date'] <= date(2017, 6, 30)][bit['Date'] >= date(2016,6,30)]\n"
     ]
    }
   ],
   "source": [
    "import numpy as np\n",
    "import matplotlib.pyplot as plt\n",
    "from datetime import date\n",
    "%matplotlib inline\n",
    "bit = pd.read_csv('BitCoin.csv')\n",
    "bit['Date'] = bit['Date'].apply(lambda x: date(*list(map(int, x.split('-')))))\n",
    "toshow = bit[bit['Date'] <= date(2017, 6, 30)][bit['Date'] >= date(2016,6,30)]\n",
    "toshow = toshow.sort_values('Date')\n",
    "ma5 = [np.sum(toshow['Open'].iloc[i:i+5]) for i in range(len(toshow)-4)]\n",
    "days = [toshow['Date'].iloc[i] for i in range(len(toshow)-4)]"
   ],
   "metadata": {
    "collapsed": false,
    "pycharm": {
     "name": "#%%\n"
    }
   }
  },
  {
   "cell_type": "code",
   "execution_count": 102,
   "outputs": [
    {
     "data": {
      "text/plain": "Text(0, 0.5, 'Open price')"
     },
     "execution_count": 102,
     "metadata": {},
     "output_type": "execute_result"
    },
    {
     "data": {
      "text/plain": "<Figure size 432x288 with 1 Axes>",
      "image/png": "[encoded data removed]"
     },
     "metadata": {
      "needs_background": "light"
     },
     "output_type": "display_data"
    }
   ],
   "source": [
    "plt.plot(days, ma5, color='#f2a900')\n",
    "plt.grid()\n",
    "plt.title('BitCoin moving average')\n",
    "plt.xlabel('date')\n",
    "plt.ylabel('Open price')"
   ],
   "metadata": {
    "collapsed": false,
    "pycharm": {
     "name": "#%%\n"
    }
   }
  },
  {
   "cell_type": "code",
   "execution_count": null,
   "outputs": [],
   "source": [],
   "metadata": {
    "collapsed": false,
    "pycharm": {
     "name": "#%%\n"
    }
   }
  }
 ],
 "metadata": {
  "kernelspec": {
   "display_name": "Python 3",
   "language": "python",
   "name": "python3"
  },
  "language_info": {
   "codemirror_mode": {
    "name": "ipython",
    "version": 2
   },
   "file_extension": ".py",
   "mimetype": "text/x-python",
   "name": "python",
   "nbconvert_exporter": "python",
   "pygments_lexer": "ipython2",
   "version": "2.7.6"
  }
 },
 "nbformat": 4,
 "nbformat_minor": 0
}