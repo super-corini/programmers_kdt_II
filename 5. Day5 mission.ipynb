{
 "cells": [
  {
   "cell_type": "markdown",
   "id": "2d36d987",
   "metadata": {},
   "source": [
    "<h1> Mission 1.Netflix and Code</h1>  \n",
    "\n",
    "---\n",
    "\n",
    " 호주니는 요즘 넷플릭스를 보는데 심취해있다. 최근 넷플릭스와 협업하는 K-Contents가 늘어가는 것을 보면서 자부심을 느끼는 한편, 넷플릭스에 얼마나 많은 한국 작품이 있는지 궁금해졌다. 호주니를 도와 넷플릭스에 얼마나 많은 한국 작품이 있는지 알아보자.\n",
    " \n",
    "![image](https://user-images.githubusercontent.com/59414764/117310802-96aef600-aebe-11eb-8bf6-c497ebb2dd41.png)"
   ]
  },
  {
   "cell_type": "markdown",
   "id": "2fef0037",
   "metadata": {},
   "source": [
    "<h2> Mandatory Part </h2>"
   ]
  },
  {
   "cell_type": "markdown",
   "id": "565ce35d",
   "metadata": {},
   "source": [
    "<a href=\"https://www.kaggle.com/shivamb/netflix-shows\">넷플릭스 데이터</a>가 주어졌을 때, 다음 질문에 답하시오:\n",
    "\n",
    "<ul>\n",
    "    <li>\n",
    "        <strong>한국 작품</strong>은 총 얼마나 있는가?\n",
    "        <ul>\n",
    "            <li>\n",
    "                country column을 기준으로 한다.\n",
    "            </li>\n",
    "            <li>\n",
    "                \"South Korea\"인 경우만 인정한다.(\"US, South Korea\"는 인정하지 않음)\n",
    "            </li>\n",
    "        </ul>\n",
    "    </li>\n",
    "</ul>\n",
    "\n",
    "생각보다 많은 작품이 있었음에 놀란 호주니는 K-콘텐츠를 넘어 글로벌 콘텐츠에 관심을 가지게 되었다. 이 과정에서 가장 많은 콘텐츠가 있는 국가는 어디일지 궁금해졌다. 호주니를 도와 이번에는 넷플릭스에서 가장 많은 작품을 만든 나라가 어디이고, 얼마나 많은 작품을 produce했는지 알아보자.\n",
    "\n"
   ]
  },
  {
   "cell_type": "code",
   "execution_count": 2,
   "id": "d21e16cd",
   "metadata": {},
   "outputs": [],
   "source": [
    "import numpy as np\n",
    "import pandas as pd"
   ]
  },
  {
   "cell_type": "code",
   "execution_count": 3,
   "id": "c5c0146b",
   "metadata": {},
   "outputs": [],
   "source": [
    "data_folder_dir = \"~/ML Data/\"\n",
    "\n",
    "netflix = pd.read_csv(data_folder_dir + 'netflix_titles.csv')"
   ]
  },
  {
   "cell_type": "code",
   "execution_count": 4,
   "id": "ddffba20",
   "metadata": {},
   "outputs": [
    {
     "data": {
      "text/html": [
       "<div>\n",
       "<style scoped>\n",
       "    .dataframe tbody tr th:only-of-type {\n",
       "        vertical-align: middle;\n",
       "    }\n",
       "\n",
       "    .dataframe tbody tr th {\n",
       "        vertical-align: top;\n",
       "    }\n",
       "\n",
       "    .dataframe thead th {\n",
       "        text-align: right;\n",
       "    }\n",
       "</style>\n",
       "<table border=\"1\" class=\"dataframe\">\n",
       "  <thead>\n",
       "    <tr style=\"text-align: right;\">\n",
       "      <th></th>\n",
       "      <th>show_id</th>\n",
       "      <th>type</th>\n",
       "      <th>title</th>\n",
       "      <th>director</th>\n",
       "      <th>cast</th>\n",
       "      <th>country</th>\n",
       "      <th>date_added</th>\n",
       "      <th>release_year</th>\n",
       "      <th>rating</th>\n",
       "      <th>duration</th>\n",
       "      <th>listed_in</th>\n",
       "      <th>description</th>\n",
       "    </tr>\n",
       "  </thead>\n",
       "  <tbody>\n",
       "    <tr>\n",
       "      <th>0</th>\n",
       "      <td>s1</td>\n",
       "      <td>TV Show</td>\n",
       "      <td>3%</td>\n",
       "      <td>NaN</td>\n",
       "      <td>João Miguel, Bianca Comparato, Michel Gomes, R...</td>\n",
       "      <td>Brazil</td>\n",
       "      <td>August 14, 2020</td>\n",
       "      <td>2020</td>\n",
       "      <td>TV-MA</td>\n",
       "      <td>4 Seasons</td>\n",
       "      <td>International TV Shows, TV Dramas, TV Sci-Fi &amp;...</td>\n",
       "      <td>In a future where the elite inhabit an island ...</td>\n",
       "    </tr>\n",
       "    <tr>\n",
       "      <th>1</th>\n",
       "      <td>s2</td>\n",
       "      <td>Movie</td>\n",
       "      <td>7:19</td>\n",
       "      <td>Jorge Michel Grau</td>\n",
       "      <td>Demián Bichir, Héctor Bonilla, Oscar Serrano, ...</td>\n",
       "      <td>Mexico</td>\n",
       "      <td>December 23, 2016</td>\n",
       "      <td>2016</td>\n",
       "      <td>TV-MA</td>\n",
       "      <td>93 min</td>\n",
       "      <td>Dramas, International Movies</td>\n",
       "      <td>After a devastating earthquake hits Mexico Cit...</td>\n",
       "    </tr>\n",
       "    <tr>\n",
       "      <th>2</th>\n",
       "      <td>s3</td>\n",
       "      <td>Movie</td>\n",
       "      <td>23:59</td>\n",
       "      <td>Gilbert Chan</td>\n",
       "      <td>Tedd Chan, Stella Chung, Henley Hii, Lawrence ...</td>\n",
       "      <td>Singapore</td>\n",
       "      <td>December 20, 2018</td>\n",
       "      <td>2011</td>\n",
       "      <td>R</td>\n",
       "      <td>78 min</td>\n",
       "      <td>Horror Movies, International Movies</td>\n",
       "      <td>When an army recruit is found dead, his fellow...</td>\n",
       "    </tr>\n",
       "    <tr>\n",
       "      <th>3</th>\n",
       "      <td>s4</td>\n",
       "      <td>Movie</td>\n",
       "      <td>9</td>\n",
       "      <td>Shane Acker</td>\n",
       "      <td>Elijah Wood, John C. Reilly, Jennifer Connelly...</td>\n",
       "      <td>United States</td>\n",
       "      <td>November 16, 2017</td>\n",
       "      <td>2009</td>\n",
       "      <td>PG-13</td>\n",
       "      <td>80 min</td>\n",
       "      <td>Action &amp; Adventure, Independent Movies, Sci-Fi...</td>\n",
       "      <td>In a postapocalyptic world, rag-doll robots hi...</td>\n",
       "    </tr>\n",
       "    <tr>\n",
       "      <th>4</th>\n",
       "      <td>s5</td>\n",
       "      <td>Movie</td>\n",
       "      <td>21</td>\n",
       "      <td>Robert Luketic</td>\n",
       "      <td>Jim Sturgess, Kevin Spacey, Kate Bosworth, Aar...</td>\n",
       "      <td>United States</td>\n",
       "      <td>January 1, 2020</td>\n",
       "      <td>2008</td>\n",
       "      <td>PG-13</td>\n",
       "      <td>123 min</td>\n",
       "      <td>Dramas</td>\n",
       "      <td>A brilliant group of students become card-coun...</td>\n",
       "    </tr>\n",
       "  </tbody>\n",
       "</table>\n",
       "</div>"
      ],
      "text/plain": [
       "  show_id     type  title           director  \\\n",
       "0      s1  TV Show     3%                NaN   \n",
       "1      s2    Movie   7:19  Jorge Michel Grau   \n",
       "2      s3    Movie  23:59       Gilbert Chan   \n",
       "3      s4    Movie      9        Shane Acker   \n",
       "4      s5    Movie     21     Robert Luketic   \n",
       "\n",
       "                                                cast        country  \\\n",
       "0  João Miguel, Bianca Comparato, Michel Gomes, R...         Brazil   \n",
       "1  Demián Bichir, Héctor Bonilla, Oscar Serrano, ...         Mexico   \n",
       "2  Tedd Chan, Stella Chung, Henley Hii, Lawrence ...      Singapore   \n",
       "3  Elijah Wood, John C. Reilly, Jennifer Connelly...  United States   \n",
       "4  Jim Sturgess, Kevin Spacey, Kate Bosworth, Aar...  United States   \n",
       "\n",
       "          date_added  release_year rating   duration  \\\n",
       "0    August 14, 2020          2020  TV-MA  4 Seasons   \n",
       "1  December 23, 2016          2016  TV-MA     93 min   \n",
       "2  December 20, 2018          2011      R     78 min   \n",
       "3  November 16, 2017          2009  PG-13     80 min   \n",
       "4    January 1, 2020          2008  PG-13    123 min   \n",
       "\n",
       "                                           listed_in  \\\n",
       "0  International TV Shows, TV Dramas, TV Sci-Fi &...   \n",
       "1                       Dramas, International Movies   \n",
       "2                Horror Movies, International Movies   \n",
       "3  Action & Adventure, Independent Movies, Sci-Fi...   \n",
       "4                                             Dramas   \n",
       "\n",
       "                                         description  \n",
       "0  In a future where the elite inhabit an island ...  \n",
       "1  After a devastating earthquake hits Mexico Cit...  \n",
       "2  When an army recruit is found dead, his fellow...  \n",
       "3  In a postapocalyptic world, rag-doll robots hi...  \n",
       "4  A brilliant group of students become card-coun...  "
      ]
     },
     "execution_count": 4,
     "metadata": {},
     "output_type": "execute_result"
    }
   ],
   "source": [
    "netflix.head()"
   ]
  },
  {
   "cell_type": "code",
   "execution_count": 5,
   "id": "29714343",
   "metadata": {},
   "outputs": [
    {
     "name": "stdout",
     "output_type": "stream",
     "text": [
      "<class 'pandas.core.frame.DataFrame'>\n",
      "RangeIndex: 7787 entries, 0 to 7786\n",
      "Data columns (total 12 columns):\n",
      " #   Column        Non-Null Count  Dtype \n",
      "---  ------        --------------  ----- \n",
      " 0   show_id       7787 non-null   object\n",
      " 1   type          7787 non-null   object\n",
      " 2   title         7787 non-null   object\n",
      " 3   director      5398 non-null   object\n",
      " 4   cast          7069 non-null   object\n",
      " 5   country       7280 non-null   object\n",
      " 6   date_added    7777 non-null   object\n",
      " 7   release_year  7787 non-null   int64 \n",
      " 8   rating        7780 non-null   object\n",
      " 9   duration      7787 non-null   object\n",
      " 10  listed_in     7787 non-null   object\n",
      " 11  description   7787 non-null   object\n",
      "dtypes: int64(1), object(11)\n",
      "memory usage: 730.2+ KB\n"
     ]
    }
   ],
   "source": [
    "netflix.info()"
   ]
  },
  {
   "cell_type": "code",
   "execution_count": 6,
   "id": "db85b8e0",
   "metadata": {},
   "outputs": [],
   "source": [
    "netflix_country = netflix['country']"
   ]
  },
  {
   "cell_type": "code",
   "execution_count": 7,
   "id": "0256fa4e",
   "metadata": {},
   "outputs": [
    {
     "name": "stdout",
     "output_type": "stream",
     "text": [
      "답: 넷플릭스에서 한국 작품은 총 183개 있습니다.\n"
     ]
    }
   ],
   "source": [
    "# 방법 1\n",
    "answer = netflix_country.value_counts()['South Korea']\n",
    "\n",
    "print(\"답: 넷플릭스에서 한국 작품은 총 {}개 있습니다.\".format(answer))"
   ]
  },
  {
   "cell_type": "code",
   "execution_count": 8,
   "id": "684b80b9",
   "metadata": {},
   "outputs": [
    {
     "name": "stdout",
     "output_type": "stream",
     "text": [
      "답: 넷플릭스에서 한국 작품은 총 183개 있습니다.\n"
     ]
    }
   ],
   "source": [
    "# 방법 2\n",
    "answer = netflix[netflix_country=='South Korea'].shape[0]\n",
    "\n",
    "print(\"답: 넷플릭스에서 한국 작품은 총 {}개 있습니다.\".format(answer))"
   ]
  },
  {
   "cell_type": "markdown",
   "id": "3ed19ad1",
   "metadata": {},
   "source": [
    "<h2>Bonus Part</h2>  \n",
    "\n",
    "<a href=\"https://www.kaggle.com/shivamb/netflix-shows\">넷플릭스 데이터</a>가 주어졌을 때, 다음 질문에 답하시오:\n",
    "\n",
    "<ul>\n",
    "    <li>\n",
    "        가장 많은 작품이 올라간 국가는 어디이고, 얼마나 많은 작품이 있는가?\n",
    "        <ul>\n",
    "            <li>\n",
    "                country column을 기준으로 한다.\n",
    "            </li>\n",
    "            <li>\n",
    "                <Strong>단일 국가</Strong>인 경우를 기준으로 결과를 구해보자.\n",
    "            </li>\n",
    "        </ul>\n",
    "    </li>\n",
    "</ul>"
   ]
  },
  {
   "cell_type": "code",
   "execution_count": 9,
   "id": "97d97aab",
   "metadata": {},
   "outputs": [
    {
     "name": "stdout",
     "output_type": "stream",
     "text": [
      "가장 많은 국가는 United States(이)고, 2555개의 작품이 United States에서 만들어졌습니다.\n"
     ]
    }
   ],
   "source": [
    "country_cnts = netflix_country.value_counts()\n",
    "max_country = country_cnts.idxmax()\n",
    "max_country_value = country_cnts.max()\n",
    "\n",
    "print(\"가장 많은 국가는 {}(이)고, {}개의 작품이 {}에서 만들어졌습니다.\".format(max_country, max_country_value, max_country))"
   ]
  },
  {
   "cell_type": "code",
   "execution_count": 10,
   "id": "a12404c2",
   "metadata": {},
   "outputs": [
    {
     "name": "stdout",
     "output_type": "stream",
     "text": [
      "United States는 아래와 같은 나라와 공동으로 참여했으며, 자체 제작, 공동 제작을 모두 합하면 3297개의 작품을 만들었습니다.\n",
      "\n",
      "['Japan', 'Belgium', 'Ukraine', 'Austria', 'Argentina', 'Hong Kong', 'Dominican Republic', 'United Arab Emirates', 'Uganda', 'South Africa', 'Venezuela', 'France', 'Thailand', 'India', 'Netherlands', 'Australia', 'Zimbabwe', 'Czech Republic', 'Taiwan', 'Hungary', 'Mongolia', 'Norway', 'Italy', 'Uruguay', 'Samoa', 'Turkey', 'Bangladesh', 'Portugal', 'East Germany', 'South Korea', 'Poland', 'Qatar', 'Cayman Islands', 'Spain', 'Philippines', 'Ecuador', 'Brazil', 'China', 'Panama', 'Denmark', 'Sudan', 'Canada', 'Puerto Rico', 'Jordan', 'Nicaragua', 'Iceland', 'Namibia', 'Israel', 'Morocco', 'Bahamas', 'Somalia', 'United Kingdom', 'Indonesia', 'Romania', 'Greece', 'New Zealand', 'Pakistan', 'Sweden', 'Cambodia', 'Luxembourg', 'Chile', 'Singapore', 'Iraq', 'Kenya', 'Nigeria', 'Peru', 'Switzerland', 'Germany', 'Malta', 'Serbia', 'Russia', 'Botswana', 'Liechtenstein', 'Egypt', 'Ireland', 'Armenia', 'Ghana', 'Senegal', 'Colombia', 'Mexico', 'Kazakhstan', 'Bermuda', 'Lebanon', 'Bulgaria', 'Saudi Arabia', 'Finland', 'Jamaica', 'West Germany', 'Iran']\n"
     ]
    }
   ],
   "source": [
    "max_country_join = {}\n",
    "for country in netflix['country'].unique():\n",
    "    if type(country) == str and max_country in country:\n",
    "        max_country_join[country] = country_cnts[country]\n",
    "\n",
    "join_list = (','.join(max_country_join.keys())).replace(\", \",\",\").split(',')\n",
    "join_list = list(filter(lambda x: x and x != max_country, set(join_list)))\n",
    "join_country_sum = sum(max_country_join.values())\n",
    "\n",
    "print(\"{}는 아래와 같은 나라와 공동으로 참여했으며, 자체 제작, 공동 제작을 모두 합하면 {}개의 작품을 만들었습니다.\\n\".format(max_country, join_country_sum))\n",
    "print(join_list)"
   ]
  },
  {
   "cell_type": "markdown",
   "id": "d4b03f63",
   "metadata": {},
   "source": [
    "<h1>Mission 2.가즈아!</h1>\n",
    "\n",
    "---\n",
    "\n",
    "서울의 소시민 나일론 마스크는 요즘 가상화폐에 푹 빠져있다. 매일매일 극락과 지옥을 오가는 매운맛에 정신을 못 차리고 있는데, 그의 친구인 호주니는 그에게 정신차리게 하기 위해 비트코인 광풍이 일었던 2017년 한 해의 가격의 변화를 보여주려고 한다. 그런데 매일매일의 데이터를 보여주는 것보다 이것의 추세를 표현해주면 좋겠다는 생각이 들어 <Strong>Moving Average(이동평균법)</Strong> 를 도입하고자 한다. 호주니를 도와 마스크씨를 설득해보자.\n",
    "![image](https://user-images.githubusercontent.com/59414764/117319048-e93fe080-aec5-11eb-934f-63328b3e05cf.png)\n",
    "\n"
   ]
  },
  {
   "cell_type": "markdown",
   "id": "bf6b9971",
   "metadata": {},
   "source": [
    "<h2>Mandatory Part</h2>\n",
    "\n",
    "--- \n",
    "\n",
    "<a href=\"https://www.kaggle.com/rishidamarla/bitcoin-prices-20112015\">비트코인 데이터</a>가 주어졌을 때 2016. 6 ~ 2017. 6 기간의 <strong>비트코인의 5-MA 그래프와 이더리움의 5-MA 그래프를 동시에</strong> 그려주세요.\n",
    "\n",
    "<ul>\n",
    "    <li>\n",
    "        선의 색깔은 <strong>노란색(#f2a900)</strong> 으로 해야합니다.\n",
    "    </li>\n",
    "    <li>\n",
    "        x-axis label과 y-axis label은 적절한 텍스트로 추가되어야 합니다.\n",
    "    </li>\n",
    "    <li>\n",
    "        이동평균의 기준은 Open Column으로 계산합니다.\n",
    "    </li>\n",
    "    <li>\n",
    "        이외에도 그래프를 알아보기 쉽게 하기 위한 정보(Text, Facet 등)을 추가하는 것도 좋습니다.\n",
    "    </li>\n",
    "</ul>\n",
    "\n",
    "💡 이동평균(Moving Average)법은 시계열 데이터를 표현하는 데에 많이 사용하는 방법 중 하나입니다.\n",
    "\n",
    "---\n",
    "\n",
    "해당 그래프를 본 나일론 마스크씨는 정신을 차렸다. 정확히는 비트코인만 바라본 본인을 말이다. 정말 많은 가상화폐가 있는데 비트코인만 바라본 본인을 돌아보게 되었다. 더불어 가장 핫한 코인인 이더리움 또한 관심이 생겼는데, 마스크씨는 2017년 한 해에 이 두개의 추세를 비교하고싶어한다. 마스크씨를 도와 비트코인과 이더리움의 가격 추세 비교를 도와주자.\n",
    "\n",
    "--- "
   ]
  },
  {
   "cell_type": "code",
   "execution_count": 11,
   "id": "ef81519f",
   "metadata": {},
   "outputs": [
    {
     "name": "stdout",
     "output_type": "stream",
     "text": [
      "<class 'pandas.core.frame.DataFrame'>\n",
      "RangeIndex: 1609 entries, 0 to 1608\n",
      "Data columns (total 8 columns):\n",
      " #   Column      Non-Null Count  Dtype  \n",
      "---  ------      --------------  -----  \n",
      " 0   Unnamed: 0  1609 non-null   int64  \n",
      " 1   Date        1609 non-null   object \n",
      " 2   Open        1609 non-null   float64\n",
      " 3   High        1609 non-null   float64\n",
      " 4   Low         1609 non-null   float64\n",
      " 5   Close       1609 non-null   float64\n",
      " 6   Volume      1609 non-null   float64\n",
      " 7   Market Cap  1609 non-null   int64  \n",
      "dtypes: float64(5), int64(2), object(1)\n",
      "memory usage: 100.7+ KB\n"
     ]
    }
   ],
   "source": [
    "bitcoin = pd.read_csv(data_folder_dir + 'BitCoin.csv')\n",
    "bitcoin.info()"
   ]
  },
  {
   "cell_type": "code",
   "execution_count": 12,
   "id": "624dc5b2",
   "metadata": {},
   "outputs": [
    {
     "data": {
      "text/html": [
       "<div>\n",
       "<style scoped>\n",
       "    .dataframe tbody tr th:only-of-type {\n",
       "        vertical-align: middle;\n",
       "    }\n",
       "\n",
       "    .dataframe tbody tr th {\n",
       "        vertical-align: top;\n",
       "    }\n",
       "\n",
       "    .dataframe thead th {\n",
       "        text-align: right;\n",
       "    }\n",
       "</style>\n",
       "<table border=\"1\" class=\"dataframe\">\n",
       "  <thead>\n",
       "    <tr style=\"text-align: right;\">\n",
       "      <th></th>\n",
       "      <th>Unnamed: 0</th>\n",
       "      <th>Date</th>\n",
       "      <th>Open</th>\n",
       "      <th>High</th>\n",
       "      <th>Low</th>\n",
       "      <th>Close</th>\n",
       "      <th>Volume</th>\n",
       "      <th>Market Cap</th>\n",
       "    </tr>\n",
       "  </thead>\n",
       "  <tbody>\n",
       "    <tr>\n",
       "      <th>0</th>\n",
       "      <td>0</td>\n",
       "      <td>2017-09-22</td>\n",
       "      <td>3628.02</td>\n",
       "      <td>3758.27</td>\n",
       "      <td>3553.53</td>\n",
       "      <td>3630.70</td>\n",
       "      <td>1.194830e+09</td>\n",
       "      <td>60152300000</td>\n",
       "    </tr>\n",
       "    <tr>\n",
       "      <th>1</th>\n",
       "      <td>1</td>\n",
       "      <td>2017-09-21</td>\n",
       "      <td>3901.47</td>\n",
       "      <td>3916.42</td>\n",
       "      <td>3613.63</td>\n",
       "      <td>3631.04</td>\n",
       "      <td>1.411480e+09</td>\n",
       "      <td>64677600000</td>\n",
       "    </tr>\n",
       "    <tr>\n",
       "      <th>2</th>\n",
       "      <td>2</td>\n",
       "      <td>2017-09-20</td>\n",
       "      <td>3916.36</td>\n",
       "      <td>4031.39</td>\n",
       "      <td>3857.73</td>\n",
       "      <td>3905.95</td>\n",
       "      <td>1.213830e+09</td>\n",
       "      <td>64918500000</td>\n",
       "    </tr>\n",
       "    <tr>\n",
       "      <th>3</th>\n",
       "      <td>3</td>\n",
       "      <td>2017-09-19</td>\n",
       "      <td>4073.79</td>\n",
       "      <td>4094.07</td>\n",
       "      <td>3868.87</td>\n",
       "      <td>3924.97</td>\n",
       "      <td>1.563980e+09</td>\n",
       "      <td>67520300000</td>\n",
       "    </tr>\n",
       "    <tr>\n",
       "      <th>4</th>\n",
       "      <td>4</td>\n",
       "      <td>2017-09-18</td>\n",
       "      <td>3591.09</td>\n",
       "      <td>4079.23</td>\n",
       "      <td>3591.09</td>\n",
       "      <td>4065.20</td>\n",
       "      <td>1.943210e+09</td>\n",
       "      <td>59514100000</td>\n",
       "    </tr>\n",
       "  </tbody>\n",
       "</table>\n",
       "</div>"
      ],
      "text/plain": [
       "   Unnamed: 0        Date     Open     High      Low    Close        Volume  \\\n",
       "0           0  2017-09-22  3628.02  3758.27  3553.53  3630.70  1.194830e+09   \n",
       "1           1  2017-09-21  3901.47  3916.42  3613.63  3631.04  1.411480e+09   \n",
       "2           2  2017-09-20  3916.36  4031.39  3857.73  3905.95  1.213830e+09   \n",
       "3           3  2017-09-19  4073.79  4094.07  3868.87  3924.97  1.563980e+09   \n",
       "4           4  2017-09-18  3591.09  4079.23  3591.09  4065.20  1.943210e+09   \n",
       "\n",
       "    Market Cap  \n",
       "0  60152300000  \n",
       "1  64677600000  \n",
       "2  64918500000  \n",
       "3  67520300000  \n",
       "4  59514100000  "
      ]
     },
     "execution_count": 12,
     "metadata": {},
     "output_type": "execute_result"
    }
   ],
   "source": [
    "bitcoin.head()"
   ]
  },
  {
   "cell_type": "code",
   "execution_count": 19,
   "id": "2426f950",
   "metadata": {},
   "outputs": [],
   "source": [
    "period = pd.period_range(start = '2016-06-01', end = '2017-06-30', freq = 'D')"
   ]
  },
  {
   "cell_type": "code",
   "execution_count": 20,
   "id": "4aaade38",
   "metadata": {},
   "outputs": [
    {
     "ename": "TypeError",
     "evalue": "'Series' objects are mutable, thus they cannot be hashed",
     "output_type": "error",
     "traceback": [
      "\u001b[0;31m---------------------------------------------------------------------------\u001b[0m",
      "\u001b[0;31mTypeError\u001b[0m                                 Traceback (most recent call last)",
      "\u001b[0;32m<ipython-input-20-23a338953e23>\u001b[0m in \u001b[0;36m<module>\u001b[0;34m\u001b[0m\n\u001b[0;32m----> 1\u001b[0;31m \u001b[0mbitcoin\u001b[0m\u001b[0;34m[\u001b[0m\u001b[0mbitcoin\u001b[0m\u001b[0;34m[\u001b[0m\u001b[0;34m'Date'\u001b[0m\u001b[0;34m]\u001b[0m \u001b[0;32min\u001b[0m \u001b[0mperiod\u001b[0m\u001b[0;34m]\u001b[0m\u001b[0;34m\u001b[0m\u001b[0;34m\u001b[0m\u001b[0m\n\u001b[0m",
      "\u001b[0;32m/Library/Frameworks/Python.framework/Versions/3.9/lib/python3.9/site-packages/pandas/core/indexes/period.py\u001b[0m in \u001b[0;36m__contains__\u001b[0;34m(self, key)\u001b[0m\n\u001b[1;32m    315\u001b[0m                 \u001b[0;32mreturn\u001b[0m \u001b[0mkey\u001b[0m\u001b[0;34m.\u001b[0m\u001b[0mordinal\u001b[0m \u001b[0;32min\u001b[0m \u001b[0mself\u001b[0m\u001b[0;34m.\u001b[0m\u001b[0m_engine\u001b[0m\u001b[0;34m\u001b[0m\u001b[0;34m\u001b[0m\u001b[0m\n\u001b[1;32m    316\u001b[0m         \u001b[0;32melse\u001b[0m\u001b[0;34m:\u001b[0m\u001b[0;34m\u001b[0m\u001b[0;34m\u001b[0m\u001b[0m\n\u001b[0;32m--> 317\u001b[0;31m             \u001b[0mhash\u001b[0m\u001b[0;34m(\u001b[0m\u001b[0mkey\u001b[0m\u001b[0;34m)\u001b[0m\u001b[0;34m\u001b[0m\u001b[0;34m\u001b[0m\u001b[0m\n\u001b[0m\u001b[1;32m    318\u001b[0m             \u001b[0;32mtry\u001b[0m\u001b[0;34m:\u001b[0m\u001b[0;34m\u001b[0m\u001b[0;34m\u001b[0m\u001b[0m\n\u001b[1;32m    319\u001b[0m                 \u001b[0mself\u001b[0m\u001b[0;34m.\u001b[0m\u001b[0mget_loc\u001b[0m\u001b[0;34m(\u001b[0m\u001b[0mkey\u001b[0m\u001b[0;34m)\u001b[0m\u001b[0;34m\u001b[0m\u001b[0;34m\u001b[0m\u001b[0m\n",
      "\u001b[0;32m/Library/Frameworks/Python.framework/Versions/3.9/lib/python3.9/site-packages/pandas/core/generic.py\u001b[0m in \u001b[0;36m__hash__\u001b[0;34m(self)\u001b[0m\n\u001b[1;32m   1783\u001b[0m \u001b[0;34m\u001b[0m\u001b[0m\n\u001b[1;32m   1784\u001b[0m     \u001b[0;32mdef\u001b[0m \u001b[0m__hash__\u001b[0m\u001b[0;34m(\u001b[0m\u001b[0mself\u001b[0m\u001b[0;34m)\u001b[0m \u001b[0;34m->\u001b[0m \u001b[0mint\u001b[0m\u001b[0;34m:\u001b[0m\u001b[0;34m\u001b[0m\u001b[0;34m\u001b[0m\u001b[0m\n\u001b[0;32m-> 1785\u001b[0;31m         raise TypeError(\n\u001b[0m\u001b[1;32m   1786\u001b[0m             \u001b[0;34mf\"{repr(type(self).__name__)} objects are mutable, \"\u001b[0m\u001b[0;34m\u001b[0m\u001b[0;34m\u001b[0m\u001b[0m\n\u001b[1;32m   1787\u001b[0m             \u001b[0;34mf\"thus they cannot be hashed\"\u001b[0m\u001b[0;34m\u001b[0m\u001b[0;34m\u001b[0m\u001b[0m\n",
      "\u001b[0;31mTypeError\u001b[0m: 'Series' objects are mutable, thus they cannot be hashed"
     ]
    }
   ],
   "source": [
    "bitcoin[bitcoin['Date'] in period]"
   ]
  },
  {
   "cell_type": "code",
   "execution_count": null,
   "id": "596ab3c5",
   "metadata": {},
   "outputs": [],
   "source": []
  }
 ],
 "metadata": {
  "kernelspec": {
   "display_name": "Python 3",
   "language": "python",
   "name": "python3"
  },
  "language_info": {
   "codemirror_mode": {
    "name": "ipython",
    "version": 3
   },
   "file_extension": ".py",
   "mimetype": "text/x-python",
   "name": "python",
   "nbconvert_exporter": "python",
   "pygments_lexer": "ipython3",
   "version": "3.9.4"
  }
 },
 "nbformat": 4,
 "nbformat_minor": 5
}
