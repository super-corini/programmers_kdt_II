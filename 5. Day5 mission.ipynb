{
 "cells": [
  {
   "cell_type": "code",
   "execution_count": 1,
   "id": "ea60f79e",
   "metadata": {},
   "outputs": [],
   "source": [
    "import numpy as np\n",
    "import pandas as pd\n",
    "import matplotlib.pyplot as plt\n",
    "import matplotlib.dates as mdates\n",
    "import seaborn as sns\n",
    "\n",
    "%matplotlib inline"
   ]
  },
  {
   "cell_type": "markdown",
   "id": "644220fd",
   "metadata": {},
   "source": [
    "# Mission1. Netflix and Code"
   ]
  },
  {
   "cell_type": "code",
   "execution_count": 2,
   "id": "41cc855b",
   "metadata": {},
   "outputs": [
    {
     "data": {
      "text/html": [
       "<div>\n",
       "<style scoped>\n",
       "    .dataframe tbody tr th:only-of-type {\n",
       "        vertical-align: middle;\n",
       "    }\n",
       "\n",
       "    .dataframe tbody tr th {\n",
       "        vertical-align: top;\n",
       "    }\n",
       "\n",
       "    .dataframe thead th {\n",
       "        text-align: right;\n",
       "    }\n",
       "</style>\n",
       "<table border=\"1\" class=\"dataframe\">\n",
       "  <thead>\n",
       "    <tr style=\"text-align: right;\">\n",
       "      <th></th>\n",
       "      <th>show_id</th>\n",
       "      <th>type</th>\n",
       "      <th>title</th>\n",
       "      <th>director</th>\n",
       "      <th>cast</th>\n",
       "      <th>country</th>\n",
       "      <th>date_added</th>\n",
       "      <th>release_year</th>\n",
       "      <th>rating</th>\n",
       "      <th>duration</th>\n",
       "      <th>listed_in</th>\n",
       "      <th>description</th>\n",
       "    </tr>\n",
       "  </thead>\n",
       "  <tbody>\n",
       "    <tr>\n",
       "      <th>0</th>\n",
       "      <td>s1</td>\n",
       "      <td>TV Show</td>\n",
       "      <td>3%</td>\n",
       "      <td>NaN</td>\n",
       "      <td>João Miguel, Bianca Comparato, Michel Gomes, R...</td>\n",
       "      <td>Brazil</td>\n",
       "      <td>August 14, 2020</td>\n",
       "      <td>2020</td>\n",
       "      <td>TV-MA</td>\n",
       "      <td>4 Seasons</td>\n",
       "      <td>International TV Shows, TV Dramas, TV Sci-Fi &amp;...</td>\n",
       "      <td>In a future where the elite inhabit an island ...</td>\n",
       "    </tr>\n",
       "    <tr>\n",
       "      <th>1</th>\n",
       "      <td>s2</td>\n",
       "      <td>Movie</td>\n",
       "      <td>7:19</td>\n",
       "      <td>Jorge Michel Grau</td>\n",
       "      <td>Demián Bichir, Héctor Bonilla, Oscar Serrano, ...</td>\n",
       "      <td>Mexico</td>\n",
       "      <td>December 23, 2016</td>\n",
       "      <td>2016</td>\n",
       "      <td>TV-MA</td>\n",
       "      <td>93 min</td>\n",
       "      <td>Dramas, International Movies</td>\n",
       "      <td>After a devastating earthquake hits Mexico Cit...</td>\n",
       "    </tr>\n",
       "    <tr>\n",
       "      <th>2</th>\n",
       "      <td>s3</td>\n",
       "      <td>Movie</td>\n",
       "      <td>23:59</td>\n",
       "      <td>Gilbert Chan</td>\n",
       "      <td>Tedd Chan, Stella Chung, Henley Hii, Lawrence ...</td>\n",
       "      <td>Singapore</td>\n",
       "      <td>December 20, 2018</td>\n",
       "      <td>2011</td>\n",
       "      <td>R</td>\n",
       "      <td>78 min</td>\n",
       "      <td>Horror Movies, International Movies</td>\n",
       "      <td>When an army recruit is found dead, his fellow...</td>\n",
       "    </tr>\n",
       "    <tr>\n",
       "      <th>3</th>\n",
       "      <td>s4</td>\n",
       "      <td>Movie</td>\n",
       "      <td>9</td>\n",
       "      <td>Shane Acker</td>\n",
       "      <td>Elijah Wood, John C. Reilly, Jennifer Connelly...</td>\n",
       "      <td>United States</td>\n",
       "      <td>November 16, 2017</td>\n",
       "      <td>2009</td>\n",
       "      <td>PG-13</td>\n",
       "      <td>80 min</td>\n",
       "      <td>Action &amp; Adventure, Independent Movies, Sci-Fi...</td>\n",
       "      <td>In a postapocalyptic world, rag-doll robots hi...</td>\n",
       "    </tr>\n",
       "    <tr>\n",
       "      <th>4</th>\n",
       "      <td>s5</td>\n",
       "      <td>Movie</td>\n",
       "      <td>21</td>\n",
       "      <td>Robert Luketic</td>\n",
       "      <td>Jim Sturgess, Kevin Spacey, Kate Bosworth, Aar...</td>\n",
       "      <td>United States</td>\n",
       "      <td>January 1, 2020</td>\n",
       "      <td>2008</td>\n",
       "      <td>PG-13</td>\n",
       "      <td>123 min</td>\n",
       "      <td>Dramas</td>\n",
       "      <td>A brilliant group of students become card-coun...</td>\n",
       "    </tr>\n",
       "  </tbody>\n",
       "</table>\n",
       "</div>"
      ],
      "text/plain": [
       "  show_id     type  title           director  \\\n",
       "0      s1  TV Show     3%                NaN   \n",
       "1      s2    Movie   7:19  Jorge Michel Grau   \n",
       "2      s3    Movie  23:59       Gilbert Chan   \n",
       "3      s4    Movie      9        Shane Acker   \n",
       "4      s5    Movie     21     Robert Luketic   \n",
       "\n",
       "                                                cast        country  \\\n",
       "0  João Miguel, Bianca Comparato, Michel Gomes, R...         Brazil   \n",
       "1  Demián Bichir, Héctor Bonilla, Oscar Serrano, ...         Mexico   \n",
       "2  Tedd Chan, Stella Chung, Henley Hii, Lawrence ...      Singapore   \n",
       "3  Elijah Wood, John C. Reilly, Jennifer Connelly...  United States   \n",
       "4  Jim Sturgess, Kevin Spacey, Kate Bosworth, Aar...  United States   \n",
       "\n",
       "          date_added  release_year rating   duration  \\\n",
       "0    August 14, 2020          2020  TV-MA  4 Seasons   \n",
       "1  December 23, 2016          2016  TV-MA     93 min   \n",
       "2  December 20, 2018          2011      R     78 min   \n",
       "3  November 16, 2017          2009  PG-13     80 min   \n",
       "4    January 1, 2020          2008  PG-13    123 min   \n",
       "\n",
       "                                           listed_in  \\\n",
       "0  International TV Shows, TV Dramas, TV Sci-Fi &...   \n",
       "1                       Dramas, International Movies   \n",
       "2                Horror Movies, International Movies   \n",
       "3  Action & Adventure, Independent Movies, Sci-Fi...   \n",
       "4                                             Dramas   \n",
       "\n",
       "                                         description  \n",
       "0  In a future where the elite inhabit an island ...  \n",
       "1  After a devastating earthquake hits Mexico Cit...  \n",
       "2  When an army recruit is found dead, his fellow...  \n",
       "3  In a postapocalyptic world, rag-doll robots hi...  \n",
       "4  A brilliant group of students become card-coun...  "
      ]
     },
     "execution_count": 2,
     "metadata": {},
     "output_type": "execute_result"
    }
   ],
   "source": [
    "netflix = pd.read_csv('./netflix_titles.csv')\n",
    "netflix.head()"
   ]
  },
  {
   "cell_type": "markdown",
   "id": "65686d05",
   "metadata": {},
   "source": [
    "## Mandatory Part"
   ]
  },
  {
   "cell_type": "markdown",
   "id": "f7577599",
   "metadata": {},
   "source": [
    "### 한국 작품은 총 얼마나 있는가?"
   ]
  },
  {
   "cell_type": "code",
   "execution_count": 3,
   "id": "6d396c7a",
   "metadata": {},
   "outputs": [
    {
     "data": {
      "text/plain": [
       "183"
      ]
     },
     "execution_count": 3,
     "metadata": {},
     "output_type": "execute_result"
    }
   ],
   "source": [
    "netflix[netflix['country'] == 'South Korea']['show_id'].count()"
   ]
  },
  {
   "cell_type": "markdown",
   "id": "43f619c2",
   "metadata": {},
   "source": [
    "## Bonus Part"
   ]
  },
  {
   "cell_type": "markdown",
   "id": "c4caa4b2",
   "metadata": {},
   "source": [
    "### 가장 많은 작품이 올라온 국가는 어디이고, 얼마나 많은 작품이 있는가?"
   ]
  },
  {
   "cell_type": "code",
   "execution_count": 4,
   "id": "dcdd0c49",
   "metadata": {},
   "outputs": [
    {
     "data": {
      "text/html": [
       "<div>\n",
       "<style scoped>\n",
       "    .dataframe tbody tr th:only-of-type {\n",
       "        vertical-align: middle;\n",
       "    }\n",
       "\n",
       "    .dataframe tbody tr th {\n",
       "        vertical-align: top;\n",
       "    }\n",
       "\n",
       "    .dataframe thead th {\n",
       "        text-align: right;\n",
       "    }\n",
       "</style>\n",
       "<table border=\"1\" class=\"dataframe\">\n",
       "  <thead>\n",
       "    <tr style=\"text-align: right;\">\n",
       "      <th></th>\n",
       "      <th>country</th>\n",
       "      <th>show_count</th>\n",
       "    </tr>\n",
       "  </thead>\n",
       "  <tbody>\n",
       "    <tr>\n",
       "      <th>0</th>\n",
       "      <td>Argentina</td>\n",
       "      <td>50</td>\n",
       "    </tr>\n",
       "    <tr>\n",
       "      <th>1</th>\n",
       "      <td>Argentina, Brazil, France, Poland, Germany, De...</td>\n",
       "      <td>1</td>\n",
       "    </tr>\n",
       "    <tr>\n",
       "      <th>2</th>\n",
       "      <td>Argentina, Chile</td>\n",
       "      <td>1</td>\n",
       "    </tr>\n",
       "    <tr>\n",
       "      <th>3</th>\n",
       "      <td>Argentina, Chile, Peru</td>\n",
       "      <td>1</td>\n",
       "    </tr>\n",
       "    <tr>\n",
       "      <th>4</th>\n",
       "      <td>Argentina, France</td>\n",
       "      <td>1</td>\n",
       "    </tr>\n",
       "  </tbody>\n",
       "</table>\n",
       "</div>"
      ],
      "text/plain": [
       "                                             country  show_count\n",
       "0                                          Argentina          50\n",
       "1  Argentina, Brazil, France, Poland, Germany, De...           1\n",
       "2                                   Argentina, Chile           1\n",
       "3                             Argentina, Chile, Peru           1\n",
       "4                                  Argentina, France           1"
      ]
     },
     "execution_count": 4,
     "metadata": {},
     "output_type": "execute_result"
    }
   ],
   "source": [
    "netflix_country = netflix.groupby('country')['show_id'].count().reset_index(name='show_count')\n",
    "netflix_country.head()"
   ]
  },
  {
   "cell_type": "code",
   "execution_count": 5,
   "id": "f25d9f4b",
   "metadata": {},
   "outputs": [
    {
     "data": {
      "text/html": [
       "<div>\n",
       "<style scoped>\n",
       "    .dataframe tbody tr th:only-of-type {\n",
       "        vertical-align: middle;\n",
       "    }\n",
       "\n",
       "    .dataframe tbody tr th {\n",
       "        vertical-align: top;\n",
       "    }\n",
       "\n",
       "    .dataframe thead th {\n",
       "        text-align: right;\n",
       "    }\n",
       "</style>\n",
       "<table border=\"1\" class=\"dataframe\">\n",
       "  <thead>\n",
       "    <tr style=\"text-align: right;\">\n",
       "      <th></th>\n",
       "      <th>country</th>\n",
       "      <th>show_count</th>\n",
       "    </tr>\n",
       "  </thead>\n",
       "  <tbody>\n",
       "    <tr>\n",
       "      <th>549</th>\n",
       "      <td>United States</td>\n",
       "      <td>2555</td>\n",
       "    </tr>\n",
       "  </tbody>\n",
       "</table>\n",
       "</div>"
      ],
      "text/plain": [
       "           country  show_count\n",
       "549  United States        2555"
      ]
     },
     "execution_count": 5,
     "metadata": {},
     "output_type": "execute_result"
    }
   ],
   "source": [
    "netflix_country[netflix_country['show_count'] == netflix_country['show_count'].max()]"
   ]
  },
  {
   "cell_type": "markdown",
   "id": "b07ca6b2",
   "metadata": {},
   "source": [
    "# Mission 2. 가즈아!"
   ]
  },
  {
   "cell_type": "code",
   "execution_count": 6,
   "id": "5c656f6e",
   "metadata": {},
   "outputs": [
    {
     "data": {
      "text/html": [
       "<div>\n",
       "<style scoped>\n",
       "    .dataframe tbody tr th:only-of-type {\n",
       "        vertical-align: middle;\n",
       "    }\n",
       "\n",
       "    .dataframe tbody tr th {\n",
       "        vertical-align: top;\n",
       "    }\n",
       "\n",
       "    .dataframe thead th {\n",
       "        text-align: right;\n",
       "    }\n",
       "</style>\n",
       "<table border=\"1\" class=\"dataframe\">\n",
       "  <thead>\n",
       "    <tr style=\"text-align: right;\">\n",
       "      <th></th>\n",
       "      <th>Unnamed: 0</th>\n",
       "      <th>Date</th>\n",
       "      <th>Open</th>\n",
       "      <th>High</th>\n",
       "      <th>Low</th>\n",
       "      <th>Close</th>\n",
       "      <th>Volume</th>\n",
       "      <th>Market Cap</th>\n",
       "    </tr>\n",
       "  </thead>\n",
       "  <tbody>\n",
       "    <tr>\n",
       "      <th>0</th>\n",
       "      <td>0</td>\n",
       "      <td>2017-09-22</td>\n",
       "      <td>3628.02</td>\n",
       "      <td>3758.27</td>\n",
       "      <td>3553.53</td>\n",
       "      <td>3630.70</td>\n",
       "      <td>1.194830e+09</td>\n",
       "      <td>60152300000</td>\n",
       "    </tr>\n",
       "    <tr>\n",
       "      <th>1</th>\n",
       "      <td>1</td>\n",
       "      <td>2017-09-21</td>\n",
       "      <td>3901.47</td>\n",
       "      <td>3916.42</td>\n",
       "      <td>3613.63</td>\n",
       "      <td>3631.04</td>\n",
       "      <td>1.411480e+09</td>\n",
       "      <td>64677600000</td>\n",
       "    </tr>\n",
       "    <tr>\n",
       "      <th>2</th>\n",
       "      <td>2</td>\n",
       "      <td>2017-09-20</td>\n",
       "      <td>3916.36</td>\n",
       "      <td>4031.39</td>\n",
       "      <td>3857.73</td>\n",
       "      <td>3905.95</td>\n",
       "      <td>1.213830e+09</td>\n",
       "      <td>64918500000</td>\n",
       "    </tr>\n",
       "    <tr>\n",
       "      <th>3</th>\n",
       "      <td>3</td>\n",
       "      <td>2017-09-19</td>\n",
       "      <td>4073.79</td>\n",
       "      <td>4094.07</td>\n",
       "      <td>3868.87</td>\n",
       "      <td>3924.97</td>\n",
       "      <td>1.563980e+09</td>\n",
       "      <td>67520300000</td>\n",
       "    </tr>\n",
       "    <tr>\n",
       "      <th>4</th>\n",
       "      <td>4</td>\n",
       "      <td>2017-09-18</td>\n",
       "      <td>3591.09</td>\n",
       "      <td>4079.23</td>\n",
       "      <td>3591.09</td>\n",
       "      <td>4065.20</td>\n",
       "      <td>1.943210e+09</td>\n",
       "      <td>59514100000</td>\n",
       "    </tr>\n",
       "  </tbody>\n",
       "</table>\n",
       "</div>"
      ],
      "text/plain": [
       "   Unnamed: 0        Date     Open     High      Low    Close        Volume  \\\n",
       "0           0  2017-09-22  3628.02  3758.27  3553.53  3630.70  1.194830e+09   \n",
       "1           1  2017-09-21  3901.47  3916.42  3613.63  3631.04  1.411480e+09   \n",
       "2           2  2017-09-20  3916.36  4031.39  3857.73  3905.95  1.213830e+09   \n",
       "3           3  2017-09-19  4073.79  4094.07  3868.87  3924.97  1.563980e+09   \n",
       "4           4  2017-09-18  3591.09  4079.23  3591.09  4065.20  1.943210e+09   \n",
       "\n",
       "    Market Cap  \n",
       "0  60152300000  \n",
       "1  64677600000  \n",
       "2  64918500000  \n",
       "3  67520300000  \n",
       "4  59514100000  "
      ]
     },
     "execution_count": 6,
     "metadata": {},
     "output_type": "execute_result"
    }
   ],
   "source": [
    "bitcoin = pd.read_csv('./BitCoin.csv')\n",
    "bitcoin.head()"
   ]
  },
  {
   "cell_type": "markdown",
   "id": "3d3e64f7",
   "metadata": {},
   "source": [
    "## Mandatory Part"
   ]
  },
  {
   "cell_type": "markdown",
   "id": "d4f4c7f7",
   "metadata": {},
   "source": [
    "###  2016.6 ~ 2017.6 기간의 5-MA(Moving Average) 비트코인 가격 그래프를 그려주세요."
   ]
  },
  {
   "cell_type": "code",
   "execution_count": 7,
   "id": "eff6483b",
   "metadata": {},
   "outputs": [
    {
     "data": {
      "text/html": [
       "<div>\n",
       "<style scoped>\n",
       "    .dataframe tbody tr th:only-of-type {\n",
       "        vertical-align: middle;\n",
       "    }\n",
       "\n",
       "    .dataframe tbody tr th {\n",
       "        vertical-align: top;\n",
       "    }\n",
       "\n",
       "    .dataframe thead th {\n",
       "        text-align: right;\n",
       "    }\n",
       "</style>\n",
       "<table border=\"1\" class=\"dataframe\">\n",
       "  <thead>\n",
       "    <tr style=\"text-align: right;\">\n",
       "      <th></th>\n",
       "      <th>Unnamed: 0</th>\n",
       "      <th>Date</th>\n",
       "      <th>Open</th>\n",
       "      <th>High</th>\n",
       "      <th>Low</th>\n",
       "      <th>Close</th>\n",
       "      <th>Volume</th>\n",
       "      <th>Market Cap</th>\n",
       "    </tr>\n",
       "  </thead>\n",
       "  <tbody>\n",
       "    <tr>\n",
       "      <th>625</th>\n",
       "      <td>625</td>\n",
       "      <td>2016-06-01</td>\n",
       "      <td>431.86</td>\n",
       "      <td>431.86</td>\n",
       "      <td>426.34</td>\n",
       "      <td>429.11</td>\n",
       "      <td>34042500.0</td>\n",
       "      <td>6498830000</td>\n",
       "    </tr>\n",
       "    <tr>\n",
       "      <th>594</th>\n",
       "      <td>594</td>\n",
       "      <td>2016-06-02</td>\n",
       "      <td>386.59</td>\n",
       "      <td>386.63</td>\n",
       "      <td>372.39</td>\n",
       "      <td>376.52</td>\n",
       "      <td>49249300.0</td>\n",
       "      <td>5865740000</td>\n",
       "    </tr>\n",
       "    <tr>\n",
       "      <th>565</th>\n",
       "      <td>565</td>\n",
       "      <td>2016-06-03</td>\n",
       "      <td>400.52</td>\n",
       "      <td>411.91</td>\n",
       "      <td>395.78</td>\n",
       "      <td>407.71</td>\n",
       "      <td>91212500.0</td>\n",
       "      <td>6121400000</td>\n",
       "    </tr>\n",
       "    <tr>\n",
       "      <th>534</th>\n",
       "      <td>534</td>\n",
       "      <td>2016-06-04</td>\n",
       "      <td>424.28</td>\n",
       "      <td>424.53</td>\n",
       "      <td>422.73</td>\n",
       "      <td>423.41</td>\n",
       "      <td>59091000.0</td>\n",
       "      <td>6533260000</td>\n",
       "    </tr>\n",
       "    <tr>\n",
       "      <th>504</th>\n",
       "      <td>504</td>\n",
       "      <td>2016-06-05</td>\n",
       "      <td>447.94</td>\n",
       "      <td>461.38</td>\n",
       "      <td>447.07</td>\n",
       "      <td>459.60</td>\n",
       "      <td>72796800.0</td>\n",
       "      <td>6947800000</td>\n",
       "    </tr>\n",
       "  </tbody>\n",
       "</table>\n",
       "</div>"
      ],
      "text/plain": [
       "     Unnamed: 0        Date    Open    High     Low   Close      Volume  \\\n",
       "625         625  2016-06-01  431.86  431.86  426.34  429.11  34042500.0   \n",
       "594         594  2016-06-02  386.59  386.63  372.39  376.52  49249300.0   \n",
       "565         565  2016-06-03  400.52  411.91  395.78  407.71  91212500.0   \n",
       "534         534  2016-06-04  424.28  424.53  422.73  423.41  59091000.0   \n",
       "504         504  2016-06-05  447.94  461.38  447.07  459.60  72796800.0   \n",
       "\n",
       "     Market Cap  \n",
       "625  6498830000  \n",
       "594  5865740000  \n",
       "565  6121400000  \n",
       "534  6533260000  \n",
       "504  6947800000  "
      ]
     },
     "execution_count": 7,
     "metadata": {},
     "output_type": "execute_result"
    }
   ],
   "source": [
    "year_bc = bitcoin[('2016-06' <= bitcoin['Date']) & (bitcoin['Date'] < '2017-07')]\n",
    "year_bc = year_bc.sort_values(by='Date')\n",
    "year_bc.head()"
   ]
  },
  {
   "cell_type": "code",
   "execution_count": 8,
   "id": "25237f03",
   "metadata": {},
   "outputs": [
    {
     "data": {
      "image/png": "[encoded data removed]",
      "text/plain": [
       "<Figure size 720x432 with 1 Axes>"
      ]
     },
     "metadata": {
      "needs_background": "light"
     },
     "output_type": "display_data"
    }
   ],
   "source": [
    "plt.figure(figsize=(10,6))\n",
    "plt.title('Bitcoin Open Price 2016.6-2017.', fontsize=15)\n",
    "\n",
    "plt.xlabel('Date')\n",
    "plt.ylabel('Bitcoin Open Price')\n",
    "\n",
    "ax = plt.gca()\n",
    "ax.xaxis.set_major_locator(mdates.MonthLocator())\n",
    "plt.xticks(rotation=45)\n",
    "\n",
    "plt.plot(year_bc['Date'], year_bc['Open'], color='#f2a900')\n",
    "\n",
    "plt.show()"
   ]
  },
  {
   "cell_type": "markdown",
   "id": "28afe62b",
   "metadata": {},
   "source": [
    "## Bonus Part"
   ]
  },
  {
   "cell_type": "markdown",
   "id": "71edb9c8",
   "metadata": {},
   "source": [
    "### 2016.6 ~ 2017.6 기간에 해당하는 비트코인의 5-MA 그래프와 이더리움의 5-MA 그래프를 동시에 그려주세요."
   ]
  },
  {
   "cell_type": "code",
   "execution_count": 9,
   "id": "2db671a2",
   "metadata": {},
   "outputs": [
    {
     "data": {
      "text/html": [
       "<div>\n",
       "<style scoped>\n",
       "    .dataframe tbody tr th:only-of-type {\n",
       "        vertical-align: middle;\n",
       "    }\n",
       "\n",
       "    .dataframe tbody tr th {\n",
       "        vertical-align: top;\n",
       "    }\n",
       "\n",
       "    .dataframe thead th {\n",
       "        text-align: right;\n",
       "    }\n",
       "</style>\n",
       "<table border=\"1\" class=\"dataframe\">\n",
       "  <thead>\n",
       "    <tr style=\"text-align: right;\">\n",
       "      <th></th>\n",
       "      <th>Date</th>\n",
       "      <th>Symbol</th>\n",
       "      <th>Open</th>\n",
       "      <th>High</th>\n",
       "      <th>Low</th>\n",
       "      <th>Close</th>\n",
       "      <th>Volume ETH</th>\n",
       "      <th>Volume USD</th>\n",
       "    </tr>\n",
       "  </thead>\n",
       "  <tbody>\n",
       "    <tr>\n",
       "      <th>0</th>\n",
       "      <td>2020-04-15</td>\n",
       "      <td>ETHUSD</td>\n",
       "      <td>158.61</td>\n",
       "      <td>158.61</td>\n",
       "      <td>158.61</td>\n",
       "      <td>158.61</td>\n",
       "      <td>0.00</td>\n",
       "      <td>0.00</td>\n",
       "    </tr>\n",
       "    <tr>\n",
       "      <th>1</th>\n",
       "      <td>2020-04-14</td>\n",
       "      <td>ETHUSD</td>\n",
       "      <td>156.97</td>\n",
       "      <td>162.15</td>\n",
       "      <td>155.74</td>\n",
       "      <td>158.61</td>\n",
       "      <td>18061.58</td>\n",
       "      <td>2872210.44</td>\n",
       "    </tr>\n",
       "    <tr>\n",
       "      <th>2</th>\n",
       "      <td>2020-04-13</td>\n",
       "      <td>ETHUSD</td>\n",
       "      <td>158.56</td>\n",
       "      <td>159.51</td>\n",
       "      <td>150.12</td>\n",
       "      <td>156.97</td>\n",
       "      <td>15698.32</td>\n",
       "      <td>2416728.28</td>\n",
       "    </tr>\n",
       "    <tr>\n",
       "      <th>3</th>\n",
       "      <td>2020-04-12</td>\n",
       "      <td>ETHUSD</td>\n",
       "      <td>158.66</td>\n",
       "      <td>165.37</td>\n",
       "      <td>155.21</td>\n",
       "      <td>158.56</td>\n",
       "      <td>12877.33</td>\n",
       "      <td>2082804.05</td>\n",
       "    </tr>\n",
       "    <tr>\n",
       "      <th>4</th>\n",
       "      <td>2020-04-11</td>\n",
       "      <td>ETHUSD</td>\n",
       "      <td>158.26</td>\n",
       "      <td>161.49</td>\n",
       "      <td>154.25</td>\n",
       "      <td>158.66</td>\n",
       "      <td>13761.72</td>\n",
       "      <td>2172914.57</td>\n",
       "    </tr>\n",
       "  </tbody>\n",
       "</table>\n",
       "</div>"
      ],
      "text/plain": [
       "         Date  Symbol    Open    High     Low   Close  Volume ETH  Volume USD\n",
       "0  2020-04-15  ETHUSD  158.61  158.61  158.61  158.61        0.00        0.00\n",
       "1  2020-04-14  ETHUSD  156.97  162.15  155.74  158.61    18061.58  2872210.44\n",
       "2  2020-04-13  ETHUSD  158.56  159.51  150.12  156.97    15698.32  2416728.28\n",
       "3  2020-04-12  ETHUSD  158.66  165.37  155.21  158.56    12877.33  2082804.05\n",
       "4  2020-04-11  ETHUSD  158.26  161.49  154.25  158.66    13761.72  2172914.57"
      ]
     },
     "execution_count": 9,
     "metadata": {},
     "output_type": "execute_result"
    }
   ],
   "source": [
    "ethereum = pd.read_csv('ETH_day.csv')\n",
    "ethereum.head()"
   ]
  },
  {
   "cell_type": "code",
   "execution_count": 10,
   "id": "2bbe6660",
   "metadata": {},
   "outputs": [
    {
     "data": {
      "text/html": [
       "<div>\n",
       "<style scoped>\n",
       "    .dataframe tbody tr th:only-of-type {\n",
       "        vertical-align: middle;\n",
       "    }\n",
       "\n",
       "    .dataframe tbody tr th {\n",
       "        vertical-align: top;\n",
       "    }\n",
       "\n",
       "    .dataframe thead th {\n",
       "        text-align: right;\n",
       "    }\n",
       "</style>\n",
       "<table border=\"1\" class=\"dataframe\">\n",
       "  <thead>\n",
       "    <tr style=\"text-align: right;\">\n",
       "      <th></th>\n",
       "      <th>Date</th>\n",
       "      <th>Symbol</th>\n",
       "      <th>Open</th>\n",
       "      <th>High</th>\n",
       "      <th>Low</th>\n",
       "      <th>Close</th>\n",
       "      <th>Volume ETH</th>\n",
       "      <th>Volume USD</th>\n",
       "    </tr>\n",
       "  </thead>\n",
       "  <tbody>\n",
       "    <tr>\n",
       "      <th>1414</th>\n",
       "      <td>2016-06-01</td>\n",
       "      <td>ETHUSD</td>\n",
       "      <td>14.18</td>\n",
       "      <td>14.35</td>\n",
       "      <td>13.54</td>\n",
       "      <td>13.95</td>\n",
       "      <td>6390.06</td>\n",
       "      <td>89027.81</td>\n",
       "    </tr>\n",
       "    <tr>\n",
       "      <th>1413</th>\n",
       "      <td>2016-06-02</td>\n",
       "      <td>ETHUSD</td>\n",
       "      <td>13.95</td>\n",
       "      <td>14.13</td>\n",
       "      <td>13.82</td>\n",
       "      <td>13.90</td>\n",
       "      <td>942.85</td>\n",
       "      <td>13180.38</td>\n",
       "    </tr>\n",
       "    <tr>\n",
       "      <th>1412</th>\n",
       "      <td>2016-06-03</td>\n",
       "      <td>ETHUSD</td>\n",
       "      <td>13.90</td>\n",
       "      <td>16.05</td>\n",
       "      <td>13.50</td>\n",
       "      <td>14.02</td>\n",
       "      <td>11426.53</td>\n",
       "      <td>157342.19</td>\n",
       "    </tr>\n",
       "    <tr>\n",
       "      <th>1411</th>\n",
       "      <td>2016-06-04</td>\n",
       "      <td>ETHUSD</td>\n",
       "      <td>14.02</td>\n",
       "      <td>14.16</td>\n",
       "      <td>13.64</td>\n",
       "      <td>13.86</td>\n",
       "      <td>4330.50</td>\n",
       "      <td>59977.39</td>\n",
       "    </tr>\n",
       "    <tr>\n",
       "      <th>1410</th>\n",
       "      <td>2016-06-05</td>\n",
       "      <td>ETHUSD</td>\n",
       "      <td>13.86</td>\n",
       "      <td>13.92</td>\n",
       "      <td>13.70</td>\n",
       "      <td>13.91</td>\n",
       "      <td>787.49</td>\n",
       "      <td>10869.67</td>\n",
       "    </tr>\n",
       "  </tbody>\n",
       "</table>\n",
       "</div>"
      ],
      "text/plain": [
       "            Date  Symbol   Open   High    Low  Close  Volume ETH  Volume USD\n",
       "1414  2016-06-01  ETHUSD  14.18  14.35  13.54  13.95     6390.06    89027.81\n",
       "1413  2016-06-02  ETHUSD  13.95  14.13  13.82  13.90      942.85    13180.38\n",
       "1412  2016-06-03  ETHUSD  13.90  16.05  13.50  14.02    11426.53   157342.19\n",
       "1411  2016-06-04  ETHUSD  14.02  14.16  13.64  13.86     4330.50    59977.39\n",
       "1410  2016-06-05  ETHUSD  13.86  13.92  13.70  13.91      787.49    10869.67"
      ]
     },
     "execution_count": 10,
     "metadata": {},
     "output_type": "execute_result"
    }
   ],
   "source": [
    "year_eth = ethereum[('2016-06' <= ethereum['Date']) & (ethereum['Date'] < '2017-07')]\n",
    "year_eth = year_eth.sort_values(by='Date')\n",
    "year_eth.head()"
   ]
  },
  {
   "cell_type": "code",
   "execution_count": 11,
   "id": "fc104d7a",
   "metadata": {},
   "outputs": [
    {
     "data": {
      "image/png": "[encoded data removed]",
      "text/plain": [
       "<Figure size 720x432 with 2 Axes>"
      ]
     },
     "metadata": {
      "needs_background": "light"
     },
     "output_type": "display_data"
    }
   ],
   "source": [
    "plt.figure(figsize=(10,6))\n",
    "plt.title('Bitcoin vs. Ethereum Open Price', fontsize=15)\n",
    "plt.xticks(rotation=45)\n",
    "\n",
    "ax1 = plt.subplot(111)\n",
    "ax2 = ax1.twinx()\n",
    "\n",
    "a1, = ax1.plot(year_eth['Date'], year_eth['Open'], color='#3c3c3d', label='Ethereum')\n",
    "a2, = ax2.plot(year_bc['Date'], year_bc['Open'], color='#f2a900', label='Bitcoin')\n",
    "\n",
    "p = [a1, a2]\n",
    "ax1.legend(p, [p1.get_label() for p1 in p], loc='upper left')\n",
    "\n",
    "\n",
    "ax1.xaxis.set_major_locator(mdates.MonthLocator())\n",
    "ax1.set_xlabel('Date')\n",
    "ax1.set_ylabel('Ethereum Open Price')\n",
    "ax2.set_ylabel('Bitcoin Open Price')\n",
    "\n",
    "\n",
    "plt.show()"
   ]
  },
  {
   "cell_type": "code",
   "execution_count": 12,
   "id": "cb85b041",
   "metadata": {},
   "outputs": [
    {
     "data": {
      "image/png": "[encoded data removed]",
      "text/plain": [
       "<Figure size 432x288 with 2 Axes>"
      ]
     },
     "metadata": {
      "needs_background": "light"
     },
     "output_type": "display_data"
    }
   ],
   "source": [
    "ax1 = year_bc.plot(kind='line', x='Date', y='Open', color='#f2a900', label='Bitcoin')\n",
    "ax2 = year_eth.plot(kind='line', x='Date', y='Open', color='#3c3c3d', ax=ax1, secondary_y=True, label='Ethereum')\n",
    "\n",
    "ax1.set_xlabel('Date')\n",
    "ax1.set_ylabel('Bitcoin Price')\n",
    "ax2.set_ylabel('Ethereum Price')\n",
    "\n",
    "\n",
    "plt.show()"
   ]
  }
 ],
 "metadata": {
  "kernelspec": {
   "display_name": "Python 3",
   "language": "python",
   "name": "python3"
  },
  "language_info": {
   "codemirror_mode": {
    "name": "ipython",
    "version": 3
   },
   "file_extension": ".py",
   "mimetype": "text/x-python",
   "name": "python",
   "nbconvert_exporter": "python",
   "pygments_lexer": "ipython3",
   "version": "3.9.4"
  }
 },
 "nbformat": 4,
 "nbformat_minor": 5
}
