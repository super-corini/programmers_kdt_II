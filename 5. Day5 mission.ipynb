{
 "cells": [
  {
   "cell_type": "code",
   "execution_count": 1,
   "id": "controlling-uncertainty",
   "metadata": {},
   "outputs": [],
   "source": [
    "import numpy as np\n",
    "import pandas as pd\n",
    "import matplotlib.pyplot as plt\n",
    "import seaborn as sns\n",
    "\n",
    "%matplotlib inline"
   ]
  },
  {
   "cell_type": "code",
   "execution_count": 2,
   "id": "completed-ocean",
   "metadata": {},
   "outputs": [],
   "source": [
    "netflix_df = pd.read_csv(\"./netflix_titles.csv\")"
   ]
  },
  {
   "cell_type": "code",
   "execution_count": 14,
   "id": "floppy-culture",
   "metadata": {},
   "outputs": [
    {
     "data": {
      "text/plain": [
       "183"
      ]
     },
     "execution_count": 14,
     "metadata": {},
     "output_type": "execute_result"
    }
   ],
   "source": [
    "# 한국 작품은 총 얼마나 있는가?\n",
    "\n",
    "netflix_df[netflix_df[\"country\"] == \"South Korea\"][\"show_id\"].count()"
   ]
  },
  {
   "cell_type": "code",
   "execution_count": 36,
   "id": "contained-passing",
   "metadata": {},
   "outputs": [
    {
     "name": "stdout",
     "output_type": "stream",
     "text": [
      "United States 2555\n"
     ]
    }
   ],
   "source": [
    "# 가장 많은 작품이 올라간 국가는 어디이고, 얼마나 많은 작품이 있는가?\n",
    "\n",
    "most_country = netflix_df['show_id'].groupby(by=netflix_df['country']).count().sort_values(ascending=False).keys()[0]\n",
    "most_count = netflix_df['show_id'].groupby(by=netflix_df['country']).count().sort_values(ascending=False)[0]\n",
    "\n",
    "print(most_country, most_count)"
   ]
  },
  {
   "cell_type": "code",
   "execution_count": 37,
   "id": "western-compact",
   "metadata": {},
   "outputs": [],
   "source": [
    "coin_price_df = pd.read_csv(\"./BitCoin.csv\")"
   ]
  },
  {
   "cell_type": "code",
   "execution_count": 73,
   "id": "pleasant-professional",
   "metadata": {},
   "outputs": [
    {
     "data": {
      "text/html": [
       "<div>\n",
       "<style scoped>\n",
       "    .dataframe tbody tr th:only-of-type {\n",
       "        vertical-align: middle;\n",
       "    }\n",
       "\n",
       "    .dataframe tbody tr th {\n",
       "        vertical-align: top;\n",
       "    }\n",
       "\n",
       "    .dataframe thead th {\n",
       "        text-align: right;\n",
       "    }\n",
       "</style>\n",
       "<table border=\"1\" class=\"dataframe\">\n",
       "  <thead>\n",
       "    <tr style=\"text-align: right;\">\n",
       "      <th></th>\n",
       "      <th>Date</th>\n",
       "      <th>Open</th>\n",
       "    </tr>\n",
       "  </thead>\n",
       "  <tbody>\n",
       "    <tr>\n",
       "      <th>625</th>\n",
       "      <td>2016-06-01</td>\n",
       "      <td>431.86</td>\n",
       "    </tr>\n",
       "    <tr>\n",
       "      <th>594</th>\n",
       "      <td>2016-06-02</td>\n",
       "      <td>386.59</td>\n",
       "    </tr>\n",
       "    <tr>\n",
       "      <th>565</th>\n",
       "      <td>2016-06-03</td>\n",
       "      <td>400.52</td>\n",
       "    </tr>\n",
       "    <tr>\n",
       "      <th>534</th>\n",
       "      <td>2016-06-04</td>\n",
       "      <td>424.28</td>\n",
       "    </tr>\n",
       "    <tr>\n",
       "      <th>504</th>\n",
       "      <td>2016-06-05</td>\n",
       "      <td>447.94</td>\n",
       "    </tr>\n",
       "    <tr>\n",
       "      <th>...</th>\n",
       "      <td>...</td>\n",
       "      <td>...</td>\n",
       "    </tr>\n",
       "    <tr>\n",
       "      <th>88</th>\n",
       "      <td>2017-06-26</td>\n",
       "      <td>2590.57</td>\n",
       "    </tr>\n",
       "    <tr>\n",
       "      <th>87</th>\n",
       "      <td>2017-06-27</td>\n",
       "      <td>2478.45</td>\n",
       "    </tr>\n",
       "    <tr>\n",
       "      <th>86</th>\n",
       "      <td>2017-06-28</td>\n",
       "      <td>2553.03</td>\n",
       "    </tr>\n",
       "    <tr>\n",
       "      <th>85</th>\n",
       "      <td>2017-06-29</td>\n",
       "      <td>2567.56</td>\n",
       "    </tr>\n",
       "    <tr>\n",
       "      <th>84</th>\n",
       "      <td>2017-06-30</td>\n",
       "      <td>2539.24</td>\n",
       "    </tr>\n",
       "  </tbody>\n",
       "</table>\n",
       "<p>377 rows × 2 columns</p>\n",
       "</div>"
      ],
      "text/plain": [
       "           Date     Open\n",
       "625  2016-06-01   431.86\n",
       "594  2016-06-02   386.59\n",
       "565  2016-06-03   400.52\n",
       "534  2016-06-04   424.28\n",
       "504  2016-06-05   447.94\n",
       "..          ...      ...\n",
       "88   2017-06-26  2590.57\n",
       "87   2017-06-27  2478.45\n",
       "86   2017-06-28  2553.03\n",
       "85   2017-06-29  2567.56\n",
       "84   2017-06-30  2539.24\n",
       "\n",
       "[377 rows x 2 columns]"
      ]
     },
     "execution_count": 73,
     "metadata": {},
     "output_type": "execute_result"
    }
   ],
   "source": [
    "coin_price = coin_price_df[[\"Date\", \"Open\"]][(coin_price_df[\"Date\"] > \"2016-06\") & (coin_price_df[\"Date\"] < \"2017-07\")].sort_values(by=[\"Date\"])\n",
    "coin_price"
   ]
  },
  {
   "cell_type": "code",
   "execution_count": 104,
   "id": "grand-bouquet",
   "metadata": {},
   "outputs": [
    {
     "data": {
      "text/html": [
       "<div>\n",
       "<style scoped>\n",
       "    .dataframe tbody tr th:only-of-type {\n",
       "        vertical-align: middle;\n",
       "    }\n",
       "\n",
       "    .dataframe tbody tr th {\n",
       "        vertical-align: top;\n",
       "    }\n",
       "\n",
       "    .dataframe thead th {\n",
       "        text-align: right;\n",
       "    }\n",
       "</style>\n",
       "<table border=\"1\" class=\"dataframe\">\n",
       "  <thead>\n",
       "    <tr style=\"text-align: right;\">\n",
       "      <th></th>\n",
       "      <th>Date</th>\n",
       "      <th>Open</th>\n",
       "      <th>moving</th>\n",
       "    </tr>\n",
       "  </thead>\n",
       "  <tbody>\n",
       "    <tr>\n",
       "      <th>625</th>\n",
       "      <td>2016-06-01</td>\n",
       "      <td>431.86</td>\n",
       "      <td>NaN</td>\n",
       "    </tr>\n",
       "    <tr>\n",
       "      <th>594</th>\n",
       "      <td>2016-06-02</td>\n",
       "      <td>386.59</td>\n",
       "      <td>NaN</td>\n",
       "    </tr>\n",
       "    <tr>\n",
       "      <th>565</th>\n",
       "      <td>2016-06-03</td>\n",
       "      <td>400.52</td>\n",
       "      <td>NaN</td>\n",
       "    </tr>\n",
       "    <tr>\n",
       "      <th>534</th>\n",
       "      <td>2016-06-04</td>\n",
       "      <td>424.28</td>\n",
       "      <td>NaN</td>\n",
       "    </tr>\n",
       "    <tr>\n",
       "      <th>504</th>\n",
       "      <td>2016-06-05</td>\n",
       "      <td>447.94</td>\n",
       "      <td>NaN</td>\n",
       "    </tr>\n",
       "    <tr>\n",
       "      <th>...</th>\n",
       "      <td>...</td>\n",
       "      <td>...</td>\n",
       "      <td>...</td>\n",
       "    </tr>\n",
       "    <tr>\n",
       "      <th>88</th>\n",
       "      <td>2017-06-26</td>\n",
       "      <td>2590.57</td>\n",
       "      <td>2375.535333</td>\n",
       "    </tr>\n",
       "    <tr>\n",
       "      <th>87</th>\n",
       "      <td>2017-06-27</td>\n",
       "      <td>2478.45</td>\n",
       "      <td>2376.609000</td>\n",
       "    </tr>\n",
       "    <tr>\n",
       "      <th>86</th>\n",
       "      <td>2017-06-28</td>\n",
       "      <td>2553.03</td>\n",
       "      <td>2384.347000</td>\n",
       "    </tr>\n",
       "    <tr>\n",
       "      <th>85</th>\n",
       "      <td>2017-06-29</td>\n",
       "      <td>2567.56</td>\n",
       "      <td>2396.723333</td>\n",
       "    </tr>\n",
       "    <tr>\n",
       "      <th>84</th>\n",
       "      <td>2017-06-30</td>\n",
       "      <td>2539.24</td>\n",
       "      <td>2412.895333</td>\n",
       "    </tr>\n",
       "  </tbody>\n",
       "</table>\n",
       "<p>377 rows × 3 columns</p>\n",
       "</div>"
      ],
      "text/plain": [
       "           Date     Open       moving\n",
       "625  2016-06-01   431.86          NaN\n",
       "594  2016-06-02   386.59          NaN\n",
       "565  2016-06-03   400.52          NaN\n",
       "534  2016-06-04   424.28          NaN\n",
       "504  2016-06-05   447.94          NaN\n",
       "..          ...      ...          ...\n",
       "88   2017-06-26  2590.57  2375.535333\n",
       "87   2017-06-27  2478.45  2376.609000\n",
       "86   2017-06-28  2553.03  2384.347000\n",
       "85   2017-06-29  2567.56  2396.723333\n",
       "84   2017-06-30  2539.24  2412.895333\n",
       "\n",
       "[377 rows x 3 columns]"
      ]
     },
     "execution_count": 104,
     "metadata": {},
     "output_type": "execute_result"
    }
   ],
   "source": [
    "coin_price['moving'] = coin_price[\"Open\"].rolling(30).mean()\n",
    "\n",
    "coin_price"
   ]
  },
  {
   "cell_type": "code",
   "execution_count": null,
   "id": "stretch-cartridge",
   "metadata": {},
   "outputs": [],
   "source": []
  },
  {
   "cell_type": "code",
   "execution_count": 105,
   "id": "constant-implement",
   "metadata": {},
   "outputs": [
    {
     "data": {
      "image/png": "[encoded data removed]",
      "text/plain": [
       "<Figure size 360x360 with 1 Axes>"
      ]
     },
     "metadata": {
      "needs_background": "light"
     },
     "output_type": "display_data"
    }
   ],
   "source": [
    "sns.relplot(data=coin_price, x=\"Date\", y=\"moving\", kind=\"line\")\n",
    "plt.show()"
   ]
  },
  {
   "cell_type": "code",
   "execution_count": 124,
   "id": "domestic-institution",
   "metadata": {},
   "outputs": [
    {
     "data": {
      "image/png": "[encoded data removed]",
      "text/plain": [
       "<Figure size 432x288 with 1 Axes>"
      ]
     },
     "metadata": {
      "needs_background": "light"
     },
     "output_type": "display_data"
    }
   ],
   "source": [
    "import matplotlib.dates as mdates\n",
    "import matplotlib.cbook as cbook\n",
    "\n",
    "fig, ax = plt.subplots()\n",
    "ax.plot(\"Date\", \"Open\", data=coin_price)\n",
    "ax.plot(\"Date\", \"moving\", data=coin_price, color='#f2a900')\n",
    "\n",
    "fmt_half_year = mdates.MonthLocator(interval=3)\n",
    "ax.xaxis.set_major_locator(fmt_half_year)\n",
    "\n",
    "fmt_month = mdates.MonthLocator()\n",
    "ax.xaxis.set_minor_locator(fmt_month)\n",
    "\n",
    "ax.set(xlabel=\"date\", ylabel=\"price\", title=\"Coin Moving Average\")\n",
    "\n",
    "plt.legend([\"price change\",\"moving average\"])\n",
    "plt.show()"
   ]
  },
  {
   "cell_type": "code",
   "execution_count": null,
   "id": "direct-advertising",
   "metadata": {},
   "outputs": [],
   "source": []
  }
 ],
 "metadata": {
  "kernelspec": {
   "display_name": "Python 3",
   "language": "python",
   "name": "python3"
  },
  "language_info": {
   "codemirror_mode": {
    "name": "ipython",
    "version": 3
   },
   "file_extension": ".py",
   "mimetype": "text/x-python",
   "name": "python",
   "nbconvert_exporter": "python",
   "pygments_lexer": "ipython3",
   "version": "3.8.5"
  }
 },
 "nbformat": 4,
 "nbformat_minor": 5
}
