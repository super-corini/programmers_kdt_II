{
 "cells": [
  {
   "cell_type": "markdown",
   "metadata": {},
   "source": [
    "# 2. 파이썬으로 데이터 주무르기, pandas\n",
    "**pandas를 활용해서 데이터프레임을 다뤄봅시다.**"
   ]
  },
  {
   "cell_type": "markdown",
   "metadata": {},
   "source": [
    "1. Pandas 시작하기\n",
    "    - prerequisite : Table\n",
    "    - pandas import하기\n",
    "   \n",
    "2. Pandas로 1차원 데이터 다루기 - Series \n",
    "    - Series 선언하기\n",
    "    - Series vs ndarray\n",
    "    - Series vs dict\n",
    "    - Series에 이름 붙이기\n",
    "3. Pandas로 2차원 데이터 다루기 - dataframe\n",
    "    - dataframe 선언하기\n",
    "    - from csv to dataframe\n",
    "    - dataframe 자료 접근하기\n",
    "\n",
    "[수업에 사용된 covid 데이터](https://www.kaggle.com/imdevskp/corona-virus-report)"
   ]
  },
  {
   "cell_type": "markdown",
   "metadata": {},
   "source": [
    "## I. pandas 시작하기"
   ]
  },
  {
   "cell_type": "markdown",
   "metadata": {},
   "source": [
    "## II. pandas로 1차원 데이터 다루기 - Series"
   ]
  },
  {
   "cell_type": "markdown",
   "metadata": {},
   "source": [
    "## III. Pandas로 2차원 데이터 다루기 - dataframe"
   ]
  },
  {
   "cell_type": "markdown",
   "metadata": {},
   "source": [
    "## Mission:\n",
    "### 1. covid 데이터에서 100 case 대비 사망률(`Deaths / 100 Cases`)이 가장 높은 국가는?"
   ]
  },
  {
   "cell_type": "code",
   "execution_count": 45,
   "metadata": {},
   "outputs": [
    {
     "name": "stdout",
     "output_type": "stream",
     "text": [
      "184    Yemen\n",
      "Name: Country/Region, dtype: object\n"
     ]
    }
   ],
   "source": [
    "import pandas as pd\n",
    "covid = pd.read_csv(\"./country_wise_latest.csv\")\n",
    "print(covid[covid[\"Deaths / 100 Cases\"] == covid[\"Deaths / 100 Cases\"].max()]['Country/Region'])"
   ]
  },
  {
   "cell_type": "markdown",
   "metadata": {},
   "source": [
    "### 2. covid 데이터에서 신규 확진자가 없는 나라 중 WHO Region이 'Europe'를 모두 출력하면?  \n",
    "Hint : 한 줄에 동시에 두가지 조건을 Apply하는 경우 Warning이 발생할 수 있습니다."
   ]
  },
  {
   "cell_type": "code",
   "execution_count": 35,
   "metadata": {},
   "outputs": [
    {
     "name": "stdout",
     "output_type": "stream",
     "text": [
      "56           Estonia\n",
      "75          Holy See\n",
      "95            Latvia\n",
      "100    Liechtenstein\n",
      "113           Monaco\n",
      "143       San Marino\n",
      "157            Spain\n",
      "Name: Country/Region, dtype: object\n"
     ]
    }
   ],
   "source": [
    "covid_nc0 = covid[covid[\"New cases\"] == 0]\n",
    "covid_nc0e = covid_nc0[covid_nc0[\"WHO Region\"] == \"Europe\"]['Country/Region']\n",
    "print(covid_nc0e)"
   ]
  },
  {
   "cell_type": "markdown",
   "metadata": {},
   "source": [
    "### 3. 다음 [데이터](https://www.kaggle.com/neuromusic/avocado-prices)를 이용해 각 Region별로 아보카도가 가장 비싼 평균가격(AveragePrice)을 출력하면?"
   ]
  },
  {
   "cell_type": "code",
   "execution_count": 44,
   "metadata": {},
   "outputs": [
    {
     "name": "stdout",
     "output_type": "stream",
     "text": [
      "region\n",
      "Albany                 2.13\n",
      "Atlanta                2.75\n",
      "BaltimoreWashington    2.28\n",
      "Boise                  2.79\n",
      "Boston                 2.19\n",
      "BuffaloRochester       2.57\n",
      "California             2.58\n",
      "Charlotte              2.83\n",
      "Chicago                2.30\n",
      "CincinnatiDayton       2.20\n",
      "Columbus               2.22\n",
      "DallasFtWorth          1.90\n",
      "Denver                 2.16\n",
      "Detroit                2.08\n",
      "GrandRapids            2.73\n",
      "GreatLakes             1.98\n",
      "HarrisburgScranton     2.27\n",
      "HartfordSpringfield    2.68\n",
      "Houston                1.92\n",
      "Indianapolis           2.10\n",
      "Jacksonville           2.99\n",
      "LasVegas               3.03\n",
      "LosAngeles             2.44\n",
      "Louisville             2.29\n",
      "MiamiFtLauderdale      3.05\n",
      "Midsouth               2.17\n",
      "Nashville              2.24\n",
      "NewOrleansMobile       2.32\n",
      "NewYork                2.65\n",
      "Northeast              2.31\n",
      "NorthernNewEngland     1.96\n",
      "Orlando                2.87\n",
      "Philadelphia           2.45\n",
      "PhoenixTucson          2.62\n",
      "Pittsburgh             1.83\n",
      "Plains                 2.13\n",
      "Portland               2.86\n",
      "RaleighGreensboro      3.04\n",
      "RichmondNorfolk        2.05\n",
      "Roanoke                2.27\n",
      "Sacramento             2.82\n",
      "SanDiego               2.74\n",
      "SanFrancisco           3.25\n",
      "Seattle                2.96\n",
      "SouthCarolina          2.21\n",
      "SouthCentral           1.81\n",
      "Southeast              2.33\n",
      "Spokane                2.95\n",
      "StLouis                2.84\n",
      "Syracuse               2.44\n",
      "Tampa                  3.17\n",
      "TotalUS                2.09\n",
      "West                   2.52\n",
      "WestTexNewMexico       2.93\n",
      "Name: AveragePrice, dtype: float64\n"
     ]
    }
   ],
   "source": [
    "import pandas as pd\n",
    "avo = pd.read_csv(\"./avocado.csv\")\n",
    "avo_by_region = avo['AveragePrice'].groupby(by = avo['region'])\n",
    "print(avo_by_region.max())"
   ]
  },
  {
   "cell_type": "code",
   "execution_count": null,
   "metadata": {},
   "outputs": [],
   "source": []
  }
 ],
 "metadata": {
  "kernelspec": {
   "display_name": "Python 3",
   "language": "python",
   "name": "python3"
  },
  "language_info": {
   "codemirror_mode": {
    "name": "ipython",
    "version": 3
   },
   "file_extension": ".py",
   "mimetype": "text/x-python",
   "name": "python",
   "nbconvert_exporter": "python",
   "pygments_lexer": "ipython3",
   "version": "3.7.6"
  }
 },
 "nbformat": 4,
 "nbformat_minor": 4
}
