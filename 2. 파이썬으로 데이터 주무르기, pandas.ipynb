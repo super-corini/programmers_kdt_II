{
 "cells": [
  {
   "cell_type": "markdown",
   "metadata": {},
   "source": [
    "# 2. 파이썬으로 데이터 주무르기, pandas\n",
    "**pandas를 활용해서 데이터프레임을 다뤄봅시다.**"
   ]
  },
  {
   "cell_type": "markdown",
   "metadata": {},
   "source": [
    "1. Pandas 시작하기\n",
    "    - prerequisite : Table\n",
    "    - pandas import하기\n",
    "   \n",
    "2. Pandas로 1차원 데이터 다루기 - Series \n",
    "    - Series 선언하기\n",
    "    - Series vs ndarray\n",
    "    - Series vs dict\n",
    "    - Series에 이름 붙이기\n",
    "3. Pandas로 2차원 데이터 다루기 - dataframe\n",
    "    - dataframe 선언하기\n",
    "    - csv 파일을 dataframe으로! : `to_csv()`\n",
    "    - dataframe 자료 접근하기\n",
    "    - dataframe 정모하기 : `.groupby()`\n",
    "    - dataframe 합치기 : `.merge()` \n",
    "\n",
    "[수업에 사용된 covid 데이터](https://www.kaggle.com/imdevskp/corona-virus-report)"
   ]
  },
  {
   "cell_type": "markdown",
   "metadata": {},
   "source": [
    "## I. pandas 시작하기"
   ]
  },
  {
   "source": [
    "### Prerequisite : Table\n",
    "\n",
    "- 행과 열을 이용해서 데이터를 저장하고 관리하는 자료구조(컨테이너)\n",
    "- 주로 행은 개체, 열은 속성을 나타냄"
   ],
   "cell_type": "markdown",
   "metadata": {}
  },
  {
   "source": [
    "### Pandas 시작하기\n",
    "\n",
    "'import pandas' 를 통해서 진행"
   ],
   "cell_type": "markdown",
   "metadata": {}
  },
  {
   "cell_type": "code",
   "execution_count": 1,
   "metadata": {},
   "outputs": [],
   "source": [
    "import pandas as pd"
   ]
  },
  {
   "source": [
    "## II. pandas로 1차원 데이터 다루기 - Series"
   ],
   "cell_type": "markdown",
   "metadata": {}
  },
  {
   "source": [
    "### Series?\n",
    "\n",
    "- 1-D labeled **array**\n",
    "- 인덱스를 지정해 줄 수 있음"
   ],
   "cell_type": "markdown",
   "metadata": {}
  },
  {
   "cell_type": "code",
   "execution_count": 2,
   "metadata": {},
   "outputs": [
    {
     "output_type": "execute_result",
     "data": {
      "text/plain": [
       "0     1\n",
       "1     4\n",
       "2     9\n",
       "3    16\n",
       "4    25\n",
       "dtype: int64"
      ]
     },
     "metadata": {},
     "execution_count": 2
    }
   ],
   "source": [
    "s = pd.Series([1, 4, 9, 16, 25])\n",
    "\n",
    "s"
   ]
  },
  {
   "cell_type": "code",
   "execution_count": 3,
   "metadata": {},
   "outputs": [
    {
     "output_type": "execute_result",
     "data": {
      "text/plain": [
       "one      1\n",
       "two      2\n",
       "three    3\n",
       "four     4\n",
       "five     5\n",
       "dtype: int64"
      ]
     },
     "metadata": {},
     "execution_count": 3
    }
   ],
   "source": [
    "t = pd.Series({'one':1, 'two':2, 'three':3, 'four':4, 'five':5})\n",
    "\n",
    "t"
   ]
  },
  {
   "source": [
    "## Series + Numpy\n",
    "\n",
    "- Series는 ndarray와 유사하다"
   ],
   "cell_type": "markdown",
   "metadata": {}
  },
  {
   "cell_type": "code",
   "execution_count": 4,
   "metadata": {},
   "outputs": [
    {
     "output_type": "execute_result",
     "data": {
      "text/plain": [
       "4"
      ]
     },
     "metadata": {},
     "execution_count": 4
    }
   ],
   "source": [
    "s[1]"
   ]
  },
  {
   "cell_type": "code",
   "execution_count": 5,
   "metadata": {},
   "outputs": [
    {
     "output_type": "execute_result",
     "data": {
      "text/plain": [
       "2"
      ]
     },
     "metadata": {},
     "execution_count": 5
    }
   ],
   "source": [
    "t[1]"
   ]
  },
  {
   "cell_type": "code",
   "execution_count": 6,
   "metadata": {},
   "outputs": [
    {
     "output_type": "execute_result",
     "data": {
      "text/plain": [
       "two      2\n",
       "three    3\n",
       "dtype: int64"
      ]
     },
     "metadata": {},
     "execution_count": 6
    }
   ],
   "source": [
    "t[1:3]"
   ]
  },
  {
   "cell_type": "code",
   "execution_count": 7,
   "metadata": {},
   "outputs": [
    {
     "output_type": "execute_result",
     "data": {
      "text/plain": [
       "3    16\n",
       "4    25\n",
       "dtype: int64"
      ]
     },
     "metadata": {},
     "execution_count": 7
    }
   ],
   "source": [
    "s[s > s.median()] # 자기 자신의 median(중앙값)보다 큰 값들만 가지고 와라"
   ]
  },
  {
   "cell_type": "code",
   "execution_count": 8,
   "metadata": {},
   "outputs": [
    {
     "output_type": "execute_result",
     "data": {
      "text/plain": [
       "3    16\n",
       "1     4\n",
       "4    25\n",
       "dtype: int64"
      ]
     },
     "metadata": {},
     "execution_count": 8
    }
   ],
   "source": [
    "s[[3, 1, 4]]"
   ]
  },
  {
   "cell_type": "code",
   "execution_count": 9,
   "metadata": {},
   "outputs": [
    {
     "output_type": "execute_result",
     "data": {
      "text/plain": [
       "0    2.718282e+00\n",
       "1    5.459815e+01\n",
       "2    8.103084e+03\n",
       "3    8.886111e+06\n",
       "4    7.200490e+10\n",
       "dtype: float64"
      ]
     },
     "metadata": {},
     "execution_count": 9
    }
   ],
   "source": [
    "import numpy as np\n",
    "\n",
    "np.exp(s)"
   ]
  },
  {
   "cell_type": "code",
   "execution_count": 10,
   "metadata": {},
   "outputs": [
    {
     "output_type": "execute_result",
     "data": {
      "text/plain": [
       "dtype('int64')"
      ]
     },
     "metadata": {},
     "execution_count": 10
    }
   ],
   "source": [
    "s.dtype"
   ]
  },
  {
   "source": [
    "### Series + dict\n",
    "\n",
    " - series는 dict와 유사하다"
   ],
   "cell_type": "markdown",
   "metadata": {}
  },
  {
   "cell_type": "code",
   "execution_count": 11,
   "metadata": {},
   "outputs": [
    {
     "output_type": "execute_result",
     "data": {
      "text/plain": [
       "one      1\n",
       "two      2\n",
       "three    3\n",
       "four     4\n",
       "five     5\n",
       "dtype: int64"
      ]
     },
     "metadata": {},
     "execution_count": 11
    }
   ],
   "source": [
    "t"
   ]
  },
  {
   "cell_type": "code",
   "execution_count": 12,
   "metadata": {},
   "outputs": [
    {
     "output_type": "execute_result",
     "data": {
      "text/plain": [
       "1"
      ]
     },
     "metadata": {},
     "execution_count": 12
    }
   ],
   "source": [
    "t['one']"
   ]
  },
  {
   "cell_type": "code",
   "execution_count": 13,
   "metadata": {},
   "outputs": [
    {
     "output_type": "execute_result",
     "data": {
      "text/plain": [
       "one      1\n",
       "two      2\n",
       "three    3\n",
       "four     4\n",
       "five     5\n",
       "six      6\n",
       "dtype: int64"
      ]
     },
     "metadata": {},
     "execution_count": 13
    }
   ],
   "source": [
    "# Series에 값 추가\n",
    "\n",
    "t['six'] = 6\n",
    "\n",
    "t"
   ]
  },
  {
   "cell_type": "code",
   "execution_count": 14,
   "metadata": {},
   "outputs": [
    {
     "output_type": "execute_result",
     "data": {
      "text/plain": [
       "True"
      ]
     },
     "metadata": {},
     "execution_count": 14
    }
   ],
   "source": [
    "'six' in t"
   ]
  },
  {
   "cell_type": "code",
   "execution_count": 15,
   "metadata": {},
   "outputs": [
    {
     "output_type": "execute_result",
     "data": {
      "text/plain": [
       "False"
      ]
     },
     "metadata": {},
     "execution_count": 15
    }
   ],
   "source": [
    "'seven' in t"
   ]
  },
  {
   "cell_type": "code",
   "execution_count": 16,
   "metadata": {},
   "outputs": [],
   "source": [
    "#t['seven'] : error"
   ]
  },
  {
   "cell_type": "code",
   "execution_count": 17,
   "metadata": {},
   "outputs": [],
   "source": [
    "t.get('seven')"
   ]
  },
  {
   "cell_type": "code",
   "execution_count": 18,
   "metadata": {},
   "outputs": [
    {
     "output_type": "execute_result",
     "data": {
      "text/plain": [
       "0"
      ]
     },
     "metadata": {},
     "execution_count": 18
    }
   ],
   "source": [
    "t.get('seven', 0)"
   ]
  },
  {
   "source": [
    "### Series에 이름 붙이기\n",
    "\n",
    "- `name` 속성을 가지고 있다.\n",
    "- 처음 Series를 만들 때 이름을 부일 수 있습니다."
   ],
   "cell_type": "markdown",
   "metadata": {}
  },
  {
   "cell_type": "code",
   "execution_count": 19,
   "metadata": {},
   "outputs": [
    {
     "output_type": "execute_result",
     "data": {
      "text/plain": [
       "0   -0.437138\n",
       "1   -0.771380\n",
       "2   -0.592820\n",
       "3    0.794536\n",
       "4   -0.686835\n",
       "Name: random_nums, dtype: float64"
      ]
     },
     "metadata": {},
     "execution_count": 19
    }
   ],
   "source": [
    "s = pd.Series(np.random.randn(5), name='random_nums')\n",
    "\n",
    "s"
   ]
  },
  {
   "cell_type": "code",
   "execution_count": 20,
   "metadata": {},
   "outputs": [],
   "source": [
    "s.name= '임의의 난수'"
   ]
  },
  {
   "cell_type": "code",
   "execution_count": 21,
   "metadata": {},
   "outputs": [
    {
     "output_type": "execute_result",
     "data": {
      "text/plain": [
       "0   -0.437138\n",
       "1   -0.771380\n",
       "2   -0.592820\n",
       "3    0.794536\n",
       "4   -0.686835\n",
       "Name: 임의의 난수, dtype: float64"
      ]
     },
     "metadata": {},
     "execution_count": 21
    }
   ],
   "source": [
    "s"
   ]
  },
  {
   "cell_type": "markdown",
   "metadata": {},
   "source": [
    "## III. Pandas로 2차원 데이터 다루기 - dataframe"
   ]
  },
  {
   "source": [
    "### DataFrame?\n",
    "\n",
    "- 2-D labeled **table**\n",
    "- 인덱스를 지정할 수도 있음"
   ],
   "cell_type": "markdown",
   "metadata": {}
  },
  {
   "source": [
    "d = {'height':[1, 2, 3, 4], 'weight':[30, 40, 50, 60]}\n",
    "\n",
    "df = pd.DataFrame(d)\n",
    "\n",
    "df"
   ],
   "cell_type": "code",
   "metadata": {},
   "execution_count": 27,
   "outputs": [
    {
     "output_type": "execute_result",
     "data": {
      "text/plain": [
       "   height  weight\n",
       "0       1      30\n",
       "1       2      40\n",
       "2       3      50\n",
       "3       4      60"
      ],
      "text/html": "<div>\n<style scoped>\n    .dataframe tbody tr th:only-of-type {\n        vertical-align: middle;\n    }\n\n    .dataframe tbody tr th {\n        vertical-align: top;\n    }\n\n    .dataframe thead th {\n        text-align: right;\n    }\n</style>\n<table border=\"1\" class=\"dataframe\">\n  <thead>\n    <tr style=\"text-align: right;\">\n      <th></th>\n      <th>height</th>\n      <th>weight</th>\n    </tr>\n  </thead>\n  <tbody>\n    <tr>\n      <th>0</th>\n      <td>1</td>\n      <td>30</td>\n    </tr>\n    <tr>\n      <th>1</th>\n      <td>2</td>\n      <td>40</td>\n    </tr>\n    <tr>\n      <th>2</th>\n      <td>3</td>\n      <td>50</td>\n    </tr>\n    <tr>\n      <th>3</th>\n      <td>4</td>\n      <td>60</td>\n    </tr>\n  </tbody>\n</table>\n</div>"
     },
     "metadata": {},
     "execution_count": 27
    }
   ]
  },
  {
   "cell_type": "code",
   "execution_count": 28,
   "metadata": {},
   "outputs": [
    {
     "output_type": "execute_result",
     "data": {
      "text/plain": [
       "height    int64\n",
       "weight    int64\n",
       "dtype: object"
      ]
     },
     "metadata": {},
     "execution_count": 28
    }
   ],
   "source": [
    "## dtype 확인\n",
    "\n",
    "df.dtypes"
   ]
  },
  {
   "source": [
    "### From CSV to DataFrame\n",
    "\n",
    "- Comma Separated Value를 DataFrame으로 생성해줄 수 있다.\n",
    "- `.read.csv()` 를 이용"
   ],
   "cell_type": "markdown",
   "metadata": {}
  },
  {
   "cell_type": "code",
   "execution_count": 31,
   "metadata": {},
   "outputs": [
    {
     "output_type": "execute_result",
     "data": {
      "text/plain": [
       "         Country/Region  Confirmed  Deaths  Recovered  Active  New cases  \\\n",
       "0           Afghanistan      36263    1269      25198    9796        106   \n",
       "1               Albania       4880     144       2745    1991        117   \n",
       "2               Algeria      27973    1163      18837    7973        616   \n",
       "3               Andorra        907      52        803      52         10   \n",
       "4                Angola        950      41        242     667         18   \n",
       "..                  ...        ...     ...        ...     ...        ...   \n",
       "182  West Bank and Gaza      10621      78       3752    6791        152   \n",
       "183      Western Sahara         10       1          8       1          0   \n",
       "184               Yemen       1691     483        833     375         10   \n",
       "185              Zambia       4552     140       2815    1597         71   \n",
       "186            Zimbabwe       2704      36        542    2126        192   \n",
       "\n",
       "     New deaths  New recovered  Deaths / 100 Cases  Recovered / 100 Cases  \\\n",
       "0            10             18                3.50                  69.49   \n",
       "1             6             63                2.95                  56.25   \n",
       "2             8            749                4.16                  67.34   \n",
       "3             0              0                5.73                  88.53   \n",
       "4             1              0                4.32                  25.47   \n",
       "..          ...            ...                 ...                    ...   \n",
       "182           2              0                0.73                  35.33   \n",
       "183           0              0               10.00                  80.00   \n",
       "184           4             36               28.56                  49.26   \n",
       "185           1            465                3.08                  61.84   \n",
       "186           2             24                1.33                  20.04   \n",
       "\n",
       "     Deaths / 100 Recovered  Confirmed last week  1 week change  \\\n",
       "0                      5.04                35526            737   \n",
       "1                      5.25                 4171            709   \n",
       "2                      6.17                23691           4282   \n",
       "3                      6.48                  884             23   \n",
       "4                     16.94                  749            201   \n",
       "..                      ...                  ...            ...   \n",
       "182                    2.08                 8916           1705   \n",
       "183                   12.50                   10              0   \n",
       "184                   57.98                 1619             72   \n",
       "185                    4.97                 3326           1226   \n",
       "186                    6.64                 1713            991   \n",
       "\n",
       "     1 week % increase             WHO Region  \n",
       "0                 2.07  Eastern Mediterranean  \n",
       "1                17.00                 Europe  \n",
       "2                18.07                 Africa  \n",
       "3                 2.60                 Europe  \n",
       "4                26.84                 Africa  \n",
       "..                 ...                    ...  \n",
       "182              19.12  Eastern Mediterranean  \n",
       "183               0.00                 Africa  \n",
       "184               4.45  Eastern Mediterranean  \n",
       "185              36.86                 Africa  \n",
       "186              57.85                 Africa  \n",
       "\n",
       "[187 rows x 15 columns]"
      ],
      "text/html": "<div>\n<style scoped>\n    .dataframe tbody tr th:only-of-type {\n        vertical-align: middle;\n    }\n\n    .dataframe tbody tr th {\n        vertical-align: top;\n    }\n\n    .dataframe thead th {\n        text-align: right;\n    }\n</style>\n<table border=\"1\" class=\"dataframe\">\n  <thead>\n    <tr style=\"text-align: right;\">\n      <th></th>\n      <th>Country/Region</th>\n      <th>Confirmed</th>\n      <th>Deaths</th>\n      <th>Recovered</th>\n      <th>Active</th>\n      <th>New cases</th>\n      <th>New deaths</th>\n      <th>New recovered</th>\n      <th>Deaths / 100 Cases</th>\n      <th>Recovered / 100 Cases</th>\n      <th>Deaths / 100 Recovered</th>\n      <th>Confirmed last week</th>\n      <th>1 week change</th>\n      <th>1 week % increase</th>\n      <th>WHO Region</th>\n    </tr>\n  </thead>\n  <tbody>\n    <tr>\n      <th>0</th>\n      <td>Afghanistan</td>\n      <td>36263</td>\n      <td>1269</td>\n      <td>25198</td>\n      <td>9796</td>\n      <td>106</td>\n      <td>10</td>\n      <td>18</td>\n      <td>3.50</td>\n      <td>69.49</td>\n      <td>5.04</td>\n      <td>35526</td>\n      <td>737</td>\n      <td>2.07</td>\n      <td>Eastern Mediterranean</td>\n    </tr>\n    <tr>\n      <th>1</th>\n      <td>Albania</td>\n      <td>4880</td>\n      <td>144</td>\n      <td>2745</td>\n      <td>1991</td>\n      <td>117</td>\n      <td>6</td>\n      <td>63</td>\n      <td>2.95</td>\n      <td>56.25</td>\n      <td>5.25</td>\n      <td>4171</td>\n      <td>709</td>\n      <td>17.00</td>\n      <td>Europe</td>\n    </tr>\n    <tr>\n      <th>2</th>\n      <td>Algeria</td>\n      <td>27973</td>\n      <td>1163</td>\n      <td>18837</td>\n      <td>7973</td>\n      <td>616</td>\n      <td>8</td>\n      <td>749</td>\n      <td>4.16</td>\n      <td>67.34</td>\n      <td>6.17</td>\n      <td>23691</td>\n      <td>4282</td>\n      <td>18.07</td>\n      <td>Africa</td>\n    </tr>\n    <tr>\n      <th>3</th>\n      <td>Andorra</td>\n      <td>907</td>\n      <td>52</td>\n      <td>803</td>\n      <td>52</td>\n      <td>10</td>\n      <td>0</td>\n      <td>0</td>\n      <td>5.73</td>\n      <td>88.53</td>\n      <td>6.48</td>\n      <td>884</td>\n      <td>23</td>\n      <td>2.60</td>\n      <td>Europe</td>\n    </tr>\n    <tr>\n      <th>4</th>\n      <td>Angola</td>\n      <td>950</td>\n      <td>41</td>\n      <td>242</td>\n      <td>667</td>\n      <td>18</td>\n      <td>1</td>\n      <td>0</td>\n      <td>4.32</td>\n      <td>25.47</td>\n      <td>16.94</td>\n      <td>749</td>\n      <td>201</td>\n      <td>26.84</td>\n      <td>Africa</td>\n    </tr>\n    <tr>\n      <th>...</th>\n      <td>...</td>\n      <td>...</td>\n      <td>...</td>\n      <td>...</td>\n      <td>...</td>\n      <td>...</td>\n      <td>...</td>\n      <td>...</td>\n      <td>...</td>\n      <td>...</td>\n      <td>...</td>\n      <td>...</td>\n      <td>...</td>\n      <td>...</td>\n      <td>...</td>\n    </tr>\n    <tr>\n      <th>182</th>\n      <td>West Bank and Gaza</td>\n      <td>10621</td>\n      <td>78</td>\n      <td>3752</td>\n      <td>6791</td>\n      <td>152</td>\n      <td>2</td>\n      <td>0</td>\n      <td>0.73</td>\n      <td>35.33</td>\n      <td>2.08</td>\n      <td>8916</td>\n      <td>1705</td>\n      <td>19.12</td>\n      <td>Eastern Mediterranean</td>\n    </tr>\n    <tr>\n      <th>183</th>\n      <td>Western Sahara</td>\n      <td>10</td>\n      <td>1</td>\n      <td>8</td>\n      <td>1</td>\n      <td>0</td>\n      <td>0</td>\n      <td>0</td>\n      <td>10.00</td>\n      <td>80.00</td>\n      <td>12.50</td>\n      <td>10</td>\n      <td>0</td>\n      <td>0.00</td>\n      <td>Africa</td>\n    </tr>\n    <tr>\n      <th>184</th>\n      <td>Yemen</td>\n      <td>1691</td>\n      <td>483</td>\n      <td>833</td>\n      <td>375</td>\n      <td>10</td>\n      <td>4</td>\n      <td>36</td>\n      <td>28.56</td>\n      <td>49.26</td>\n      <td>57.98</td>\n      <td>1619</td>\n      <td>72</td>\n      <td>4.45</td>\n      <td>Eastern Mediterranean</td>\n    </tr>\n    <tr>\n      <th>185</th>\n      <td>Zambia</td>\n      <td>4552</td>\n      <td>140</td>\n      <td>2815</td>\n      <td>1597</td>\n      <td>71</td>\n      <td>1</td>\n      <td>465</td>\n      <td>3.08</td>\n      <td>61.84</td>\n      <td>4.97</td>\n      <td>3326</td>\n      <td>1226</td>\n      <td>36.86</td>\n      <td>Africa</td>\n    </tr>\n    <tr>\n      <th>186</th>\n      <td>Zimbabwe</td>\n      <td>2704</td>\n      <td>36</td>\n      <td>542</td>\n      <td>2126</td>\n      <td>192</td>\n      <td>2</td>\n      <td>24</td>\n      <td>1.33</td>\n      <td>20.04</td>\n      <td>6.64</td>\n      <td>1713</td>\n      <td>991</td>\n      <td>57.85</td>\n      <td>Africa</td>\n    </tr>\n  </tbody>\n</table>\n<p>187 rows × 15 columns</p>\n</div>"
     },
     "metadata": {},
     "execution_count": 31
    }
   ],
   "source": [
    "# 동일 경로에 Country_wise_latest.csv가 존재하면:\n",
    "\n",
    "covid = pd.read_csv('./country_wise_latest.csv')\n",
    "\n",
    "covid"
   ]
  },
  {
   "source": [
    "### Pandas 활용 1. 일부분만 관찰하기"
   ],
   "cell_type": "markdown",
   "metadata": {}
  },
  {
   "source": [
    "`head(n)` : 처음 n개의 데이터 참조"
   ],
   "cell_type": "markdown",
   "metadata": {}
  },
  {
   "cell_type": "code",
   "execution_count": 34,
   "metadata": {},
   "outputs": [
    {
     "output_type": "execute_result",
     "data": {
      "text/plain": [
       "  Country/Region  Confirmed  Deaths  Recovered  Active  New cases  New deaths  \\\n",
       "0    Afghanistan      36263    1269      25198    9796        106          10   \n",
       "1        Albania       4880     144       2745    1991        117           6   \n",
       "2        Algeria      27973    1163      18837    7973        616           8   \n",
       "3        Andorra        907      52        803      52         10           0   \n",
       "4         Angola        950      41        242     667         18           1   \n",
       "\n",
       "   New recovered  Deaths / 100 Cases  Recovered / 100 Cases  \\\n",
       "0             18                3.50                  69.49   \n",
       "1             63                2.95                  56.25   \n",
       "2            749                4.16                  67.34   \n",
       "3              0                5.73                  88.53   \n",
       "4              0                4.32                  25.47   \n",
       "\n",
       "   Deaths / 100 Recovered  Confirmed last week  1 week change  \\\n",
       "0                    5.04                35526            737   \n",
       "1                    5.25                 4171            709   \n",
       "2                    6.17                23691           4282   \n",
       "3                    6.48                  884             23   \n",
       "4                   16.94                  749            201   \n",
       "\n",
       "   1 week % increase             WHO Region  \n",
       "0               2.07  Eastern Mediterranean  \n",
       "1              17.00                 Europe  \n",
       "2              18.07                 Africa  \n",
       "3               2.60                 Europe  \n",
       "4              26.84                 Africa  "
      ],
      "text/html": "<div>\n<style scoped>\n    .dataframe tbody tr th:only-of-type {\n        vertical-align: middle;\n    }\n\n    .dataframe tbody tr th {\n        vertical-align: top;\n    }\n\n    .dataframe thead th {\n        text-align: right;\n    }\n</style>\n<table border=\"1\" class=\"dataframe\">\n  <thead>\n    <tr style=\"text-align: right;\">\n      <th></th>\n      <th>Country/Region</th>\n      <th>Confirmed</th>\n      <th>Deaths</th>\n      <th>Recovered</th>\n      <th>Active</th>\n      <th>New cases</th>\n      <th>New deaths</th>\n      <th>New recovered</th>\n      <th>Deaths / 100 Cases</th>\n      <th>Recovered / 100 Cases</th>\n      <th>Deaths / 100 Recovered</th>\n      <th>Confirmed last week</th>\n      <th>1 week change</th>\n      <th>1 week % increase</th>\n      <th>WHO Region</th>\n    </tr>\n  </thead>\n  <tbody>\n    <tr>\n      <th>0</th>\n      <td>Afghanistan</td>\n      <td>36263</td>\n      <td>1269</td>\n      <td>25198</td>\n      <td>9796</td>\n      <td>106</td>\n      <td>10</td>\n      <td>18</td>\n      <td>3.50</td>\n      <td>69.49</td>\n      <td>5.04</td>\n      <td>35526</td>\n      <td>737</td>\n      <td>2.07</td>\n      <td>Eastern Mediterranean</td>\n    </tr>\n    <tr>\n      <th>1</th>\n      <td>Albania</td>\n      <td>4880</td>\n      <td>144</td>\n      <td>2745</td>\n      <td>1991</td>\n      <td>117</td>\n      <td>6</td>\n      <td>63</td>\n      <td>2.95</td>\n      <td>56.25</td>\n      <td>5.25</td>\n      <td>4171</td>\n      <td>709</td>\n      <td>17.00</td>\n      <td>Europe</td>\n    </tr>\n    <tr>\n      <th>2</th>\n      <td>Algeria</td>\n      <td>27973</td>\n      <td>1163</td>\n      <td>18837</td>\n      <td>7973</td>\n      <td>616</td>\n      <td>8</td>\n      <td>749</td>\n      <td>4.16</td>\n      <td>67.34</td>\n      <td>6.17</td>\n      <td>23691</td>\n      <td>4282</td>\n      <td>18.07</td>\n      <td>Africa</td>\n    </tr>\n    <tr>\n      <th>3</th>\n      <td>Andorra</td>\n      <td>907</td>\n      <td>52</td>\n      <td>803</td>\n      <td>52</td>\n      <td>10</td>\n      <td>0</td>\n      <td>0</td>\n      <td>5.73</td>\n      <td>88.53</td>\n      <td>6.48</td>\n      <td>884</td>\n      <td>23</td>\n      <td>2.60</td>\n      <td>Europe</td>\n    </tr>\n    <tr>\n      <th>4</th>\n      <td>Angola</td>\n      <td>950</td>\n      <td>41</td>\n      <td>242</td>\n      <td>667</td>\n      <td>18</td>\n      <td>1</td>\n      <td>0</td>\n      <td>4.32</td>\n      <td>25.47</td>\n      <td>16.94</td>\n      <td>749</td>\n      <td>201</td>\n      <td>26.84</td>\n      <td>Africa</td>\n    </tr>\n  </tbody>\n</table>\n</div>"
     },
     "metadata": {},
     "execution_count": 34
    }
   ],
   "source": [
    "# 위에서부터 5개를 관찰하는 방법(함수)\n",
    "\n",
    "covid.head()"
   ]
  },
  {
   "source": [
    "`tail(n)` : 마지막 n개의 데이터를 참조"
   ],
   "cell_type": "markdown",
   "metadata": {}
  },
  {
   "cell_type": "code",
   "execution_count": 35,
   "metadata": {},
   "outputs": [
    {
     "output_type": "execute_result",
     "data": {
      "text/plain": [
       "         Country/Region  Confirmed  Deaths  Recovered  Active  New cases  \\\n",
       "182  West Bank and Gaza      10621      78       3752    6791        152   \n",
       "183      Western Sahara         10       1          8       1          0   \n",
       "184               Yemen       1691     483        833     375         10   \n",
       "185              Zambia       4552     140       2815    1597         71   \n",
       "186            Zimbabwe       2704      36        542    2126        192   \n",
       "\n",
       "     New deaths  New recovered  Deaths / 100 Cases  Recovered / 100 Cases  \\\n",
       "182           2              0                0.73                  35.33   \n",
       "183           0              0               10.00                  80.00   \n",
       "184           4             36               28.56                  49.26   \n",
       "185           1            465                3.08                  61.84   \n",
       "186           2             24                1.33                  20.04   \n",
       "\n",
       "     Deaths / 100 Recovered  Confirmed last week  1 week change  \\\n",
       "182                    2.08                 8916           1705   \n",
       "183                   12.50                   10              0   \n",
       "184                   57.98                 1619             72   \n",
       "185                    4.97                 3326           1226   \n",
       "186                    6.64                 1713            991   \n",
       "\n",
       "     1 week % increase             WHO Region  \n",
       "182              19.12  Eastern Mediterranean  \n",
       "183               0.00                 Africa  \n",
       "184               4.45  Eastern Mediterranean  \n",
       "185              36.86                 Africa  \n",
       "186              57.85                 Africa  "
      ],
      "text/html": "<div>\n<style scoped>\n    .dataframe tbody tr th:only-of-type {\n        vertical-align: middle;\n    }\n\n    .dataframe tbody tr th {\n        vertical-align: top;\n    }\n\n    .dataframe thead th {\n        text-align: right;\n    }\n</style>\n<table border=\"1\" class=\"dataframe\">\n  <thead>\n    <tr style=\"text-align: right;\">\n      <th></th>\n      <th>Country/Region</th>\n      <th>Confirmed</th>\n      <th>Deaths</th>\n      <th>Recovered</th>\n      <th>Active</th>\n      <th>New cases</th>\n      <th>New deaths</th>\n      <th>New recovered</th>\n      <th>Deaths / 100 Cases</th>\n      <th>Recovered / 100 Cases</th>\n      <th>Deaths / 100 Recovered</th>\n      <th>Confirmed last week</th>\n      <th>1 week change</th>\n      <th>1 week % increase</th>\n      <th>WHO Region</th>\n    </tr>\n  </thead>\n  <tbody>\n    <tr>\n      <th>182</th>\n      <td>West Bank and Gaza</td>\n      <td>10621</td>\n      <td>78</td>\n      <td>3752</td>\n      <td>6791</td>\n      <td>152</td>\n      <td>2</td>\n      <td>0</td>\n      <td>0.73</td>\n      <td>35.33</td>\n      <td>2.08</td>\n      <td>8916</td>\n      <td>1705</td>\n      <td>19.12</td>\n      <td>Eastern Mediterranean</td>\n    </tr>\n    <tr>\n      <th>183</th>\n      <td>Western Sahara</td>\n      <td>10</td>\n      <td>1</td>\n      <td>8</td>\n      <td>1</td>\n      <td>0</td>\n      <td>0</td>\n      <td>0</td>\n      <td>10.00</td>\n      <td>80.00</td>\n      <td>12.50</td>\n      <td>10</td>\n      <td>0</td>\n      <td>0.00</td>\n      <td>Africa</td>\n    </tr>\n    <tr>\n      <th>184</th>\n      <td>Yemen</td>\n      <td>1691</td>\n      <td>483</td>\n      <td>833</td>\n      <td>375</td>\n      <td>10</td>\n      <td>4</td>\n      <td>36</td>\n      <td>28.56</td>\n      <td>49.26</td>\n      <td>57.98</td>\n      <td>1619</td>\n      <td>72</td>\n      <td>4.45</td>\n      <td>Eastern Mediterranean</td>\n    </tr>\n    <tr>\n      <th>185</th>\n      <td>Zambia</td>\n      <td>4552</td>\n      <td>140</td>\n      <td>2815</td>\n      <td>1597</td>\n      <td>71</td>\n      <td>1</td>\n      <td>465</td>\n      <td>3.08</td>\n      <td>61.84</td>\n      <td>4.97</td>\n      <td>3326</td>\n      <td>1226</td>\n      <td>36.86</td>\n      <td>Africa</td>\n    </tr>\n    <tr>\n      <th>186</th>\n      <td>Zimbabwe</td>\n      <td>2704</td>\n      <td>36</td>\n      <td>542</td>\n      <td>2126</td>\n      <td>192</td>\n      <td>2</td>\n      <td>24</td>\n      <td>1.33</td>\n      <td>20.04</td>\n      <td>6.64</td>\n      <td>1713</td>\n      <td>991</td>\n      <td>57.85</td>\n      <td>Africa</td>\n    </tr>\n  </tbody>\n</table>\n</div>"
     },
     "metadata": {},
     "execution_count": 35
    }
   ],
   "source": [
    "# 아래에서부터 5개를 관찰하는 방법(함수)\n",
    "\n",
    "covid.tail(5)"
   ]
  },
  {
   "source": [
    "### Pandas 활용 2. 데이터 접근하기\n",
    "- `df['column-name']` or `df.column_name`"
   ],
   "cell_type": "markdown",
   "metadata": {}
  },
  {
   "cell_type": "code",
   "execution_count": 40,
   "metadata": {},
   "outputs": [
    {
     "output_type": "execute_result",
     "data": {
      "text/plain": [
       "0      36263\n",
       "1       4880\n",
       "2      27973\n",
       "3        907\n",
       "4        950\n",
       "       ...  \n",
       "182    10621\n",
       "183       10\n",
       "184     1691\n",
       "185     4552\n",
       "186     2704\n",
       "Name: Confirmed, Length: 187, dtype: int64"
      ]
     },
     "metadata": {},
     "execution_count": 40
    }
   ],
   "source": [
    "covid['Confirmed']"
   ]
  },
  {
   "cell_type": "code",
   "execution_count": 38,
   "metadata": {},
   "outputs": [],
   "source": [
    "#covid.WHO Region\n",
    "\n",
    "# Error 띄어쓰기가 안됨"
   ]
  },
  {
   "source": [
    "### Honey Tip! DataFrame의 각 column은 'Series'다!"
   ],
   "cell_type": "markdown",
   "metadata": {}
  },
  {
   "cell_type": "code",
   "execution_count": 43,
   "metadata": {},
   "outputs": [
    {
     "output_type": "execute_result",
     "data": {
      "text/plain": [
       "36263"
      ]
     },
     "metadata": {},
     "execution_count": 43
    }
   ],
   "source": [
    "covid['Confirmed'][0]"
   ]
  },
  {
   "cell_type": "code",
   "execution_count": 44,
   "metadata": {},
   "outputs": [
    {
     "output_type": "execute_result",
     "data": {
      "text/plain": [
       "1     4880\n",
       "2    27973\n",
       "3      907\n",
       "4      950\n",
       "Name: Confirmed, dtype: int64"
      ]
     },
     "metadata": {},
     "execution_count": 44
    }
   ],
   "source": [
    "covid['Confirmed'][1:5]"
   ]
  },
  {
   "source": [
    "### Pandas 활용 3. '조건'을 이용해서 데이터 접근하기"
   ],
   "cell_type": "markdown",
   "metadata": {}
  },
  {
   "cell_type": "code",
   "execution_count": 50,
   "metadata": {},
   "outputs": [
    {
     "output_type": "execute_result",
     "data": {
      "text/plain": [
       "         Country/Region  Confirmed  Deaths  Recovered  Active  New cases  \\\n",
       "0           Afghanistan      36263    1269      25198    9796        106   \n",
       "1               Albania       4880     144       2745    1991        117   \n",
       "2               Algeria      27973    1163      18837    7973        616   \n",
       "6             Argentina     167416    3059      72575   91782       4890   \n",
       "8             Australia      15303     167       9311    5825        368   \n",
       "..                  ...        ...     ...        ...     ...        ...   \n",
       "177      United Kingdom     301708   45844       1437  254427        688   \n",
       "179          Uzbekistan      21209     121      11674    9414        678   \n",
       "180           Venezuela      15988     146       9959    5883        525   \n",
       "182  West Bank and Gaza      10621      78       3752    6791        152   \n",
       "186            Zimbabwe       2704      36        542    2126        192   \n",
       "\n",
       "     New deaths  New recovered  Deaths / 100 Cases  Recovered / 100 Cases  \\\n",
       "0            10             18                3.50                  69.49   \n",
       "1             6             63                2.95                  56.25   \n",
       "2             8            749                4.16                  67.34   \n",
       "6           120           2057                1.83                  43.35   \n",
       "8             6            137                1.09                  60.84   \n",
       "..          ...            ...                 ...                    ...   \n",
       "177           7              3               15.19                   0.48   \n",
       "179           5            569                0.57                  55.04   \n",
       "180           4            213                0.91                  62.29   \n",
       "182           2              0                0.73                  35.33   \n",
       "186           2             24                1.33                  20.04   \n",
       "\n",
       "     Deaths / 100 Recovered  Confirmed last week  1 week change  \\\n",
       "0                      5.04                35526            737   \n",
       "1                      5.25                 4171            709   \n",
       "2                      6.17                23691           4282   \n",
       "6                      4.21               130774          36642   \n",
       "8                      1.79                12428           2875   \n",
       "..                      ...                  ...            ...   \n",
       "177                 3190.26               296944           4764   \n",
       "179                    1.04                17149           4060   \n",
       "180                    1.47                12334           3654   \n",
       "182                    2.08                 8916           1705   \n",
       "186                    6.64                 1713            991   \n",
       "\n",
       "     1 week % increase             WHO Region  \n",
       "0                 2.07  Eastern Mediterranean  \n",
       "1                17.00                 Europe  \n",
       "2                18.07                 Africa  \n",
       "6                28.02               Americas  \n",
       "8                23.13        Western Pacific  \n",
       "..                 ...                    ...  \n",
       "177               1.60                 Europe  \n",
       "179              23.67                 Europe  \n",
       "180              29.63               Americas  \n",
       "182              19.12  Eastern Mediterranean  \n",
       "186              57.85                 Africa  \n",
       "\n",
       "[82 rows x 15 columns]"
      ],
      "text/html": "<div>\n<style scoped>\n    .dataframe tbody tr th:only-of-type {\n        vertical-align: middle;\n    }\n\n    .dataframe tbody tr th {\n        vertical-align: top;\n    }\n\n    .dataframe thead th {\n        text-align: right;\n    }\n</style>\n<table border=\"1\" class=\"dataframe\">\n  <thead>\n    <tr style=\"text-align: right;\">\n      <th></th>\n      <th>Country/Region</th>\n      <th>Confirmed</th>\n      <th>Deaths</th>\n      <th>Recovered</th>\n      <th>Active</th>\n      <th>New cases</th>\n      <th>New deaths</th>\n      <th>New recovered</th>\n      <th>Deaths / 100 Cases</th>\n      <th>Recovered / 100 Cases</th>\n      <th>Deaths / 100 Recovered</th>\n      <th>Confirmed last week</th>\n      <th>1 week change</th>\n      <th>1 week % increase</th>\n      <th>WHO Region</th>\n    </tr>\n  </thead>\n  <tbody>\n    <tr>\n      <th>0</th>\n      <td>Afghanistan</td>\n      <td>36263</td>\n      <td>1269</td>\n      <td>25198</td>\n      <td>9796</td>\n      <td>106</td>\n      <td>10</td>\n      <td>18</td>\n      <td>3.50</td>\n      <td>69.49</td>\n      <td>5.04</td>\n      <td>35526</td>\n      <td>737</td>\n      <td>2.07</td>\n      <td>Eastern Mediterranean</td>\n    </tr>\n    <tr>\n      <th>1</th>\n      <td>Albania</td>\n      <td>4880</td>\n      <td>144</td>\n      <td>2745</td>\n      <td>1991</td>\n      <td>117</td>\n      <td>6</td>\n      <td>63</td>\n      <td>2.95</td>\n      <td>56.25</td>\n      <td>5.25</td>\n      <td>4171</td>\n      <td>709</td>\n      <td>17.00</td>\n      <td>Europe</td>\n    </tr>\n    <tr>\n      <th>2</th>\n      <td>Algeria</td>\n      <td>27973</td>\n      <td>1163</td>\n      <td>18837</td>\n      <td>7973</td>\n      <td>616</td>\n      <td>8</td>\n      <td>749</td>\n      <td>4.16</td>\n      <td>67.34</td>\n      <td>6.17</td>\n      <td>23691</td>\n      <td>4282</td>\n      <td>18.07</td>\n      <td>Africa</td>\n    </tr>\n    <tr>\n      <th>6</th>\n      <td>Argentina</td>\n      <td>167416</td>\n      <td>3059</td>\n      <td>72575</td>\n      <td>91782</td>\n      <td>4890</td>\n      <td>120</td>\n      <td>2057</td>\n      <td>1.83</td>\n      <td>43.35</td>\n      <td>4.21</td>\n      <td>130774</td>\n      <td>36642</td>\n      <td>28.02</td>\n      <td>Americas</td>\n    </tr>\n    <tr>\n      <th>8</th>\n      <td>Australia</td>\n      <td>15303</td>\n      <td>167</td>\n      <td>9311</td>\n      <td>5825</td>\n      <td>368</td>\n      <td>6</td>\n      <td>137</td>\n      <td>1.09</td>\n      <td>60.84</td>\n      <td>1.79</td>\n      <td>12428</td>\n      <td>2875</td>\n      <td>23.13</td>\n      <td>Western Pacific</td>\n    </tr>\n    <tr>\n      <th>...</th>\n      <td>...</td>\n      <td>...</td>\n      <td>...</td>\n      <td>...</td>\n      <td>...</td>\n      <td>...</td>\n      <td>...</td>\n      <td>...</td>\n      <td>...</td>\n      <td>...</td>\n      <td>...</td>\n      <td>...</td>\n      <td>...</td>\n      <td>...</td>\n      <td>...</td>\n    </tr>\n    <tr>\n      <th>177</th>\n      <td>United Kingdom</td>\n      <td>301708</td>\n      <td>45844</td>\n      <td>1437</td>\n      <td>254427</td>\n      <td>688</td>\n      <td>7</td>\n      <td>3</td>\n      <td>15.19</td>\n      <td>0.48</td>\n      <td>3190.26</td>\n      <td>296944</td>\n      <td>4764</td>\n      <td>1.60</td>\n      <td>Europe</td>\n    </tr>\n    <tr>\n      <th>179</th>\n      <td>Uzbekistan</td>\n      <td>21209</td>\n      <td>121</td>\n      <td>11674</td>\n      <td>9414</td>\n      <td>678</td>\n      <td>5</td>\n      <td>569</td>\n      <td>0.57</td>\n      <td>55.04</td>\n      <td>1.04</td>\n      <td>17149</td>\n      <td>4060</td>\n      <td>23.67</td>\n      <td>Europe</td>\n    </tr>\n    <tr>\n      <th>180</th>\n      <td>Venezuela</td>\n      <td>15988</td>\n      <td>146</td>\n      <td>9959</td>\n      <td>5883</td>\n      <td>525</td>\n      <td>4</td>\n      <td>213</td>\n      <td>0.91</td>\n      <td>62.29</td>\n      <td>1.47</td>\n      <td>12334</td>\n      <td>3654</td>\n      <td>29.63</td>\n      <td>Americas</td>\n    </tr>\n    <tr>\n      <th>182</th>\n      <td>West Bank and Gaza</td>\n      <td>10621</td>\n      <td>78</td>\n      <td>3752</td>\n      <td>6791</td>\n      <td>152</td>\n      <td>2</td>\n      <td>0</td>\n      <td>0.73</td>\n      <td>35.33</td>\n      <td>2.08</td>\n      <td>8916</td>\n      <td>1705</td>\n      <td>19.12</td>\n      <td>Eastern Mediterranean</td>\n    </tr>\n    <tr>\n      <th>186</th>\n      <td>Zimbabwe</td>\n      <td>2704</td>\n      <td>36</td>\n      <td>542</td>\n      <td>2126</td>\n      <td>192</td>\n      <td>2</td>\n      <td>24</td>\n      <td>1.33</td>\n      <td>20.04</td>\n      <td>6.64</td>\n      <td>1713</td>\n      <td>991</td>\n      <td>57.85</td>\n      <td>Africa</td>\n    </tr>\n  </tbody>\n</table>\n<p>82 rows × 15 columns</p>\n</div>"
     },
     "metadata": {},
     "execution_count": 50
    }
   ],
   "source": [
    "# 신규 확진자가 100명이 넘는 나라를 찾아보자!\n",
    "\n",
    "# covid['조건...']\n",
    "\n",
    "covid[covid['New cases'] > 100]"
   ]
  },
  {
   "cell_type": "code",
   "execution_count": 57,
   "metadata": {},
   "outputs": [
    {
     "output_type": "execute_result",
     "data": {
      "text/plain": [
       "array(['Eastern Mediterranean', 'Europe', 'Africa', 'Americas',\n",
       "       'Western Pacific', 'South-East Asia'], dtype=object)"
      ]
     },
     "metadata": {},
     "execution_count": 57
    }
   ],
   "source": [
    "# WHO 지역(WHO Region)이 동남아시아인 나라 찾기\n",
    "\n",
    "covid['WHO Region'].unique()"
   ]
  },
  {
   "cell_type": "code",
   "execution_count": 58,
   "metadata": {},
   "outputs": [
    {
     "output_type": "execute_result",
     "data": {
      "text/plain": [
       "    Country/Region  Confirmed  Deaths  Recovered  Active  New cases  \\\n",
       "13      Bangladesh     226225    2965     125683   97577       2772   \n",
       "19          Bhutan         99       0         86      13          4   \n",
       "27           Burma        350       6        292      52          0   \n",
       "79           India    1480073   33408     951166  495499      44457   \n",
       "80       Indonesia     100303    4838      58173   37292       1525   \n",
       "106       Maldives       3369      15       2547     807         67   \n",
       "119          Nepal      18752      48      13754    4950        139   \n",
       "158      Sri Lanka       2805      11       2121     673         23   \n",
       "167       Thailand       3297      58       3111     128          6   \n",
       "168    Timor-Leste         24       0          0      24          0   \n",
       "\n",
       "     New deaths  New recovered  Deaths / 100 Cases  Recovered / 100 Cases  \\\n",
       "13           37           1801                1.31                  55.56   \n",
       "19            0              1                0.00                  86.87   \n",
       "27            0              2                1.71                  83.43   \n",
       "79          637          33598                2.26                  64.26   \n",
       "80           57           1518                4.82                  58.00   \n",
       "106           0             19                0.45                  75.60   \n",
       "119           3            626                0.26                  73.35   \n",
       "158           0             15                0.39                  75.61   \n",
       "167           0              2                1.76                  94.36   \n",
       "168           0              0                0.00                   0.00   \n",
       "\n",
       "     Deaths / 100 Recovered  Confirmed last week  1 week change  \\\n",
       "13                     2.36               207453          18772   \n",
       "19                     0.00                   90              9   \n",
       "27                     2.05                  341              9   \n",
       "79                     3.51              1155338         324735   \n",
       "80                     8.32                88214          12089   \n",
       "106                    0.59                 2999            370   \n",
       "119                    0.35                17844            908   \n",
       "158                    0.52                 2730             75   \n",
       "167                    1.86                 3250             47   \n",
       "168                    0.00                   24              0   \n",
       "\n",
       "     1 week % increase       WHO Region  \n",
       "13                9.05  South-East Asia  \n",
       "19               10.00  South-East Asia  \n",
       "27                2.64  South-East Asia  \n",
       "79               28.11  South-East Asia  \n",
       "80               13.70  South-East Asia  \n",
       "106              12.34  South-East Asia  \n",
       "119               5.09  South-East Asia  \n",
       "158               2.75  South-East Asia  \n",
       "167               1.45  South-East Asia  \n",
       "168               0.00  South-East Asia  "
      ],
      "text/html": "<div>\n<style scoped>\n    .dataframe tbody tr th:only-of-type {\n        vertical-align: middle;\n    }\n\n    .dataframe tbody tr th {\n        vertical-align: top;\n    }\n\n    .dataframe thead th {\n        text-align: right;\n    }\n</style>\n<table border=\"1\" class=\"dataframe\">\n  <thead>\n    <tr style=\"text-align: right;\">\n      <th></th>\n      <th>Country/Region</th>\n      <th>Confirmed</th>\n      <th>Deaths</th>\n      <th>Recovered</th>\n      <th>Active</th>\n      <th>New cases</th>\n      <th>New deaths</th>\n      <th>New recovered</th>\n      <th>Deaths / 100 Cases</th>\n      <th>Recovered / 100 Cases</th>\n      <th>Deaths / 100 Recovered</th>\n      <th>Confirmed last week</th>\n      <th>1 week change</th>\n      <th>1 week % increase</th>\n      <th>WHO Region</th>\n    </tr>\n  </thead>\n  <tbody>\n    <tr>\n      <th>13</th>\n      <td>Bangladesh</td>\n      <td>226225</td>\n      <td>2965</td>\n      <td>125683</td>\n      <td>97577</td>\n      <td>2772</td>\n      <td>37</td>\n      <td>1801</td>\n      <td>1.31</td>\n      <td>55.56</td>\n      <td>2.36</td>\n      <td>207453</td>\n      <td>18772</td>\n      <td>9.05</td>\n      <td>South-East Asia</td>\n    </tr>\n    <tr>\n      <th>19</th>\n      <td>Bhutan</td>\n      <td>99</td>\n      <td>0</td>\n      <td>86</td>\n      <td>13</td>\n      <td>4</td>\n      <td>0</td>\n      <td>1</td>\n      <td>0.00</td>\n      <td>86.87</td>\n      <td>0.00</td>\n      <td>90</td>\n      <td>9</td>\n      <td>10.00</td>\n      <td>South-East Asia</td>\n    </tr>\n    <tr>\n      <th>27</th>\n      <td>Burma</td>\n      <td>350</td>\n      <td>6</td>\n      <td>292</td>\n      <td>52</td>\n      <td>0</td>\n      <td>0</td>\n      <td>2</td>\n      <td>1.71</td>\n      <td>83.43</td>\n      <td>2.05</td>\n      <td>341</td>\n      <td>9</td>\n      <td>2.64</td>\n      <td>South-East Asia</td>\n    </tr>\n    <tr>\n      <th>79</th>\n      <td>India</td>\n      <td>1480073</td>\n      <td>33408</td>\n      <td>951166</td>\n      <td>495499</td>\n      <td>44457</td>\n      <td>637</td>\n      <td>33598</td>\n      <td>2.26</td>\n      <td>64.26</td>\n      <td>3.51</td>\n      <td>1155338</td>\n      <td>324735</td>\n      <td>28.11</td>\n      <td>South-East Asia</td>\n    </tr>\n    <tr>\n      <th>80</th>\n      <td>Indonesia</td>\n      <td>100303</td>\n      <td>4838</td>\n      <td>58173</td>\n      <td>37292</td>\n      <td>1525</td>\n      <td>57</td>\n      <td>1518</td>\n      <td>4.82</td>\n      <td>58.00</td>\n      <td>8.32</td>\n      <td>88214</td>\n      <td>12089</td>\n      <td>13.70</td>\n      <td>South-East Asia</td>\n    </tr>\n    <tr>\n      <th>106</th>\n      <td>Maldives</td>\n      <td>3369</td>\n      <td>15</td>\n      <td>2547</td>\n      <td>807</td>\n      <td>67</td>\n      <td>0</td>\n      <td>19</td>\n      <td>0.45</td>\n      <td>75.60</td>\n      <td>0.59</td>\n      <td>2999</td>\n      <td>370</td>\n      <td>12.34</td>\n      <td>South-East Asia</td>\n    </tr>\n    <tr>\n      <th>119</th>\n      <td>Nepal</td>\n      <td>18752</td>\n      <td>48</td>\n      <td>13754</td>\n      <td>4950</td>\n      <td>139</td>\n      <td>3</td>\n      <td>626</td>\n      <td>0.26</td>\n      <td>73.35</td>\n      <td>0.35</td>\n      <td>17844</td>\n      <td>908</td>\n      <td>5.09</td>\n      <td>South-East Asia</td>\n    </tr>\n    <tr>\n      <th>158</th>\n      <td>Sri Lanka</td>\n      <td>2805</td>\n      <td>11</td>\n      <td>2121</td>\n      <td>673</td>\n      <td>23</td>\n      <td>0</td>\n      <td>15</td>\n      <td>0.39</td>\n      <td>75.61</td>\n      <td>0.52</td>\n      <td>2730</td>\n      <td>75</td>\n      <td>2.75</td>\n      <td>South-East Asia</td>\n    </tr>\n    <tr>\n      <th>167</th>\n      <td>Thailand</td>\n      <td>3297</td>\n      <td>58</td>\n      <td>3111</td>\n      <td>128</td>\n      <td>6</td>\n      <td>0</td>\n      <td>2</td>\n      <td>1.76</td>\n      <td>94.36</td>\n      <td>1.86</td>\n      <td>3250</td>\n      <td>47</td>\n      <td>1.45</td>\n      <td>South-East Asia</td>\n    </tr>\n    <tr>\n      <th>168</th>\n      <td>Timor-Leste</td>\n      <td>24</td>\n      <td>0</td>\n      <td>0</td>\n      <td>24</td>\n      <td>0</td>\n      <td>0</td>\n      <td>0</td>\n      <td>0.00</td>\n      <td>0.00</td>\n      <td>0.00</td>\n      <td>24</td>\n      <td>0</td>\n      <td>0.00</td>\n      <td>South-East Asia</td>\n    </tr>\n  </tbody>\n</table>\n</div>"
     },
     "metadata": {},
     "execution_count": 58
    }
   ],
   "source": [
    "covid[covid['WHO Region'] == 'South-East Asia']"
   ]
  },
  {
   "source": [
    "### Pandas 활용 4. 행을 기준으로 데이터 접근하기"
   ],
   "cell_type": "markdown",
   "metadata": {}
  },
  {
   "cell_type": "code",
   "execution_count": 59,
   "metadata": {},
   "outputs": [
    {
     "output_type": "execute_result",
     "data": {
      "text/plain": [
       "          Available  Location        Genre\n",
       "버그란 무엇인가       True       102  Programming\n",
       "두근두근 물리학       True       215      Physics\n",
       "미분해줘 홈즈       False       323         Math"
      ],
      "text/html": "<div>\n<style scoped>\n    .dataframe tbody tr th:only-of-type {\n        vertical-align: middle;\n    }\n\n    .dataframe tbody tr th {\n        vertical-align: top;\n    }\n\n    .dataframe thead th {\n        text-align: right;\n    }\n</style>\n<table border=\"1\" class=\"dataframe\">\n  <thead>\n    <tr style=\"text-align: right;\">\n      <th></th>\n      <th>Available</th>\n      <th>Location</th>\n      <th>Genre</th>\n    </tr>\n  </thead>\n  <tbody>\n    <tr>\n      <th>버그란 무엇인가</th>\n      <td>True</td>\n      <td>102</td>\n      <td>Programming</td>\n    </tr>\n    <tr>\n      <th>두근두근 물리학</th>\n      <td>True</td>\n      <td>215</td>\n      <td>Physics</td>\n    </tr>\n    <tr>\n      <th>미분해줘 홈즈</th>\n      <td>False</td>\n      <td>323</td>\n      <td>Math</td>\n    </tr>\n  </tbody>\n</table>\n</div>"
     },
     "metadata": {},
     "execution_count": 59
    }
   ],
   "source": [
    "# 예시 데이터 - 도서관 정보\n",
    "\n",
    "book_dict = {'Available':[True, True, False], 'Location':[102, 215, 323], 'Genre':['Programming', 'Physics', 'Math']}\n",
    "\n",
    "book_df = pd.DataFrame(book_dict, index=['버그란 무엇인가', '두근두근 물리학', '미분해줘 홈즈'])\n",
    "\n",
    "book_df"
   ]
  },
  {
   "source": [
    "### 인덱스를 이용해서 가져오기 : `loc[row, col]`"
   ],
   "cell_type": "markdown",
   "metadata": {}
  },
  {
   "cell_type": "code",
   "execution_count": 60,
   "metadata": {},
   "outputs": [
    {
     "output_type": "execute_result",
     "data": {
      "text/plain": [
       "Available           True\n",
       "Location             102\n",
       "Genre        Programming\n",
       "Name: 버그란 무엇인가, dtype: object"
      ]
     },
     "metadata": {},
     "execution_count": 60
    }
   ],
   "source": [
    "book_df.loc['버그란 무엇인가'] # type : Series"
   ]
  },
  {
   "cell_type": "code",
   "execution_count": 61,
   "metadata": {},
   "outputs": [
    {
     "output_type": "execute_result",
     "data": {
      "text/plain": [
       "False"
      ]
     },
     "metadata": {},
     "execution_count": 61
    }
   ],
   "source": [
    "# '미분해줘 홈즈' 책이 대출가능한지?\n",
    "\n",
    "book_df.loc['미분해줘 홈즈', 'Available']"
   ]
  },
  {
   "source": [
    "### 숫자 인덱스를 이용해서 가져오기 : `.iloc[rowidx, colidx]`"
   ],
   "cell_type": "markdown",
   "metadata": {}
  },
  {
   "cell_type": "code",
   "execution_count": 64,
   "metadata": {},
   "outputs": [
    {
     "output_type": "execute_result",
     "data": {
      "text/plain": [
       "102"
      ]
     },
     "metadata": {},
     "execution_count": 64
    }
   ],
   "source": [
    "# 인덱스 0행의 인덱스 1열 가지고 오기\n",
    "\n",
    "book_df.iloc[0, 1]"
   ]
  },
  {
   "cell_type": "code",
   "execution_count": 65,
   "metadata": {},
   "outputs": [
    {
     "output_type": "execute_result",
     "data": {
      "text/plain": [
       "Available    True\n",
       "Location      215\n",
       "Name: 두근두근 물리학, dtype: object"
      ]
     },
     "metadata": {},
     "execution_count": 65
    }
   ],
   "source": [
    "# 인덱스 1행의 인덱스 0~1열 가지고 오기\n",
    "\n",
    "book_df.iloc[1, 0:2]"
   ]
  },
  {
   "source": [
    "## Pandas 활용 5. groupby\n",
    "\n",
    "- Split : 특정한 '기준'을 바탕으로 DataFrame을 분할\n",
    "- Apply : 통계함수 - sum(), mean(), median(), ... 을 적용해서 각 데이터를 압축\n",
    "- Combine : Apply된 결과를 바탕으로 새로운 Series를 생성 (group_key : applied_value)"
   ],
   "cell_type": "markdown",
   "metadata": {}
  },
  {
   "cell_type": "code",
   "execution_count": 68,
   "metadata": {},
   "outputs": [
    {
     "output_type": "execute_result",
     "data": {
      "text/plain": [
       "<pandas.core.groupby.generic.SeriesGroupBy object at 0x0000020CAC444C70>"
      ]
     },
     "metadata": {},
     "execution_count": 68
    }
   ],
   "source": [
    "# WHO Region 별 확진자수\n",
    "\n",
    "# 1. covid에서 확진자 수 column만 추출한다\n",
    "# 2. 이를 covid의 WHO REgion을 기준으로 gorupby한다.\n",
    "\n",
    "covid_by_region = covid['Confirmed'].groupby(by=covid['WHO Region'])\n",
    "\n",
    "covid_by_region"
   ]
  },
  {
   "cell_type": "code",
   "execution_count": 70,
   "metadata": {},
   "outputs": [
    {
     "output_type": "execute_result",
     "data": {
      "text/plain": [
       "WHO Region\n",
       "Africa                    723207\n",
       "Americas                 8839286\n",
       "Eastern Mediterranean    1490744\n",
       "Europe                   3299523\n",
       "South-East Asia          1835297\n",
       "Western Pacific           292428\n",
       "Name: Confirmed, dtype: int64"
      ]
     },
     "metadata": {},
     "execution_count": 70
    }
   ],
   "source": [
    "covid_by_region.sum()"
   ]
  },
  {
   "cell_type": "code",
   "execution_count": 73,
   "metadata": {},
   "outputs": [
    {
     "output_type": "execute_result",
     "data": {
      "text/plain": [
       "WHO Region\n",
       "Africa                    15066.812500\n",
       "Americas                 252551.028571\n",
       "Eastern Mediterranean     67761.090909\n",
       "Europe                    58920.053571\n",
       "South-East Asia          183529.700000\n",
       "Western Pacific           18276.750000\n",
       "Name: Confirmed, dtype: float64"
      ]
     },
     "metadata": {},
     "execution_count": 73
    }
   ],
   "source": [
    "# 국가당 감염자 수\n",
    "\n",
    "covid_by_region.mean() # sum() / 국가 수"
   ]
  },
  {
   "cell_type": "markdown",
   "metadata": {},
   "source": [
    "## Mission:\n",
    "### 1. covid 데이터에서 100 case 대비 사망률(`Deaths / 100 Cases`)이 가장 높은 국가는?"
   ]
  },
  {
   "cell_type": "code",
   "execution_count": 81,
   "metadata": {},
   "outputs": [
    {
     "output_type": "execute_result",
     "data": {
      "text/plain": [
       "184    Yemen\n",
       "Name: Country/Region, dtype: object"
      ]
     },
     "metadata": {},
     "execution_count": 81
    }
   ],
   "source": [
    "covid.sort_values('Deaths / 100 Cases').tail(1)['Country/Region']\n",
    "\n",
    "# 184    Yemen"
   ]
  },
  {
   "cell_type": "markdown",
   "metadata": {},
   "source": [
    "### 2. covid 데이터에서 신규 확진자가 없는 나라 중 WHO Region이 'Europe'를 모두 출력하면?  \n",
    "Hint : 한 줄에 동시에 두가지 조건을 Apply하는 경우 Warning이 발생할 수 있습니다."
   ]
  },
  {
   "cell_type": "code",
   "execution_count": 95,
   "metadata": {},
   "outputs": [
    {
     "output_type": "execute_result",
     "data": {
      "text/plain": [
       "56           Estonia\n",
       "75          Holy See\n",
       "95            Latvia\n",
       "100    Liechtenstein\n",
       "113           Monaco\n",
       "143       San Marino\n",
       "157            Spain\n",
       "Name: Country/Region, dtype: object"
      ]
     },
     "metadata": {},
     "execution_count": 95
    }
   ],
   "source": [
    "covid_Europe = covid[covid['WHO Region'] == 'Europe']\n",
    "\n",
    "covid_Europe[covid_Europe['New cases'] == 0]['Country/Region']\n",
    "\n",
    "\n",
    "# 56           Estonia\n",
    "# 75          Holy See\n",
    "# 95            Latvia\n",
    "# 100    Liechtenstein\n",
    "# 113           Monaco\n",
    "# 143       San Marino\n",
    "# 157            Spain\n"
   ]
  },
  {
   "cell_type": "markdown",
   "metadata": {},
   "source": [
    "### 3. 다음 [데이터](https://www.kaggle.com/neuromusic/avocado-prices)를 이용해 각 Region별로 아보카도가 가장 비싼 평균가격(AveragePrice)을 출력하면?"
   ]
  },
  {
   "cell_type": "code",
   "execution_count": 136,
   "metadata": {},
   "outputs": [
    {
     "output_type": "execute_result",
     "data": {
      "text/plain": [
       "region\n",
       "Albany                 2.13\n",
       "Atlanta                2.75\n",
       "BaltimoreWashington    2.28\n",
       "Boise                  2.79\n",
       "Boston                 2.19\n",
       "BuffaloRochester       2.57\n",
       "California             2.58\n",
       "Charlotte              2.83\n",
       "Chicago                2.30\n",
       "CincinnatiDayton       2.20\n",
       "Columbus               2.22\n",
       "DallasFtWorth          1.90\n",
       "Denver                 2.16\n",
       "Detroit                2.08\n",
       "GrandRapids            2.73\n",
       "GreatLakes             1.98\n",
       "HarrisburgScranton     2.27\n",
       "HartfordSpringfield    2.68\n",
       "Houston                1.92\n",
       "Indianapolis           2.10\n",
       "Jacksonville           2.99\n",
       "LasVegas               3.03\n",
       "LosAngeles             2.44\n",
       "Louisville             2.29\n",
       "MiamiFtLauderdale      3.05\n",
       "Midsouth               2.17\n",
       "Nashville              2.24\n",
       "NewOrleansMobile       2.32\n",
       "NewYork                2.65\n",
       "Northeast              2.31\n",
       "NorthernNewEngland     1.96\n",
       "Orlando                2.87\n",
       "Philadelphia           2.45\n",
       "PhoenixTucson          2.62\n",
       "Pittsburgh             1.83\n",
       "Plains                 2.13\n",
       "Portland               2.86\n",
       "RaleighGreensboro      3.04\n",
       "RichmondNorfolk        2.05\n",
       "Roanoke                2.27\n",
       "Sacramento             2.82\n",
       "SanDiego               2.74\n",
       "SanFrancisco           3.25\n",
       "Seattle                2.96\n",
       "SouthCarolina          2.21\n",
       "SouthCentral           1.81\n",
       "Southeast              2.33\n",
       "Spokane                2.95\n",
       "StLouis                2.84\n",
       "Syracuse               2.44\n",
       "Tampa                  3.17\n",
       "TotalUS                2.09\n",
       "West                   2.52\n",
       "WestTexNewMexico       2.93\n",
       "Name: AveragePrice, dtype: float64"
      ]
     },
     "metadata": {},
     "execution_count": 136
    }
   ],
   "source": [
    "d = pd.read_csv('avocado.csv')\n",
    "\n",
    "df = pd.DataFrame(d)\n",
    "\n",
    "avo_by_region = df['AveragePrice'].groupby(by=df['region'])\n",
    "\n",
    "avo_by_region.max()"
   ]
  }
 ],
 "metadata": {
  "kernelspec": {
   "name": "python385jvsc74a57bd006d64636e2e627007acfe63bb866c7ef13a3e22e159bdedc1c0b1ccf378fb901",
   "display_name": "Python 3.8.5 64-bit (conda)"
  },
  "language_info": {
   "codemirror_mode": {
    "name": "ipython",
    "version": 3
   },
   "file_extension": ".py",
   "mimetype": "text/x-python",
   "name": "python",
   "nbconvert_exporter": "python",
   "pygments_lexer": "ipython3",
   "version": "3.8.5"
  }
 },
 "nbformat": 4,
 "nbformat_minor": 4
}