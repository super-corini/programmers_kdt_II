{
 "cells": [
  {
   "cell_type": "markdown",
   "metadata": {},
   "source": [
    "# 2. 파이썬으로 데이터 주무르기, pandas\n",
    "**pandas를 활용해서 데이터프레임을 다뤄봅시다.**"
   ]
  },
  {
   "cell_type": "markdown",
   "metadata": {},
   "source": [
    "1. Pandas 시작하기\n",
    "    - prerequisite : Table\n",
    "    - pandas import하기\n",
    "   \n",
    "2. Pandas로 1차원 데이터 다루기 - Series \n",
    "    - Series 선언하기\n",
    "    - Series vs ndarray\n",
    "    - Series vs dict\n",
    "    - Series에 이름 붙이기\n",
    "3. Pandas로 2차원 데이터 다루기 - dataframe\n",
    "    - dataframe 선언하기\n",
    "    - from csv to dataframe\n",
    "    - dataframe 자료 접근하기\n",
    "\n",
    "[수업에 사용된 covid 데이터](https://www.kaggle.com/imdevskp/corona-virus-report)"
   ]
  },
  {
   "cell_type": "markdown",
   "metadata": {},
   "source": [
    "## I. pandas 시작하기"
   ]
  },
  {
   "source": [
    "##Prerequisite :Table\n",
    "-  행과 열을 이영해서 데이터를 저장하고 관리하는 자료구조(컨테이너)\n",
    "- 주로행은 개체, 열은 속성을 나타냄"
   ],
   "cell_type": "markdown",
   "metadata": {}
  },
  {
   "source": [
    "## II. pandas로 1차원 데이터 다루기 - Series\n"
   ],
   "cell_type": "markdown",
   "metadata": {}
  },
  {
   "source": [
    "### Series?\n",
    "- 1-D labeled **array**\n",
    "- 인덱스를 지정해줄 수 있음"
   ],
   "cell_type": "markdown",
   "metadata": {}
  },
  {
   "source": [
    "import pandas as pd\n",
    "s = pd.Series([1, 4, 9, 16, 25])\n",
    "t = pd.Series({'one':1, 'two':2, 'three': 3, 'four':4, 'five':5})\n",
    "print(s,t)"
   ],
   "cell_type": "code",
   "metadata": {},
   "execution_count": null,
   "outputs": []
  },
  {
   "source": [
    "### **Series + Numpy**\n",
    "\n",
    "- series는 ndarray와 유사하다!"
   ],
   "cell_type": "markdown",
   "metadata": {}
  },
  {
   "source": [
    "s = pd.Series([1, 4, 9, 16, 25])\n",
    "t = pd.Series({'one':1, 'two':2, 'th|ree': 3, 'four':4, 'five':5})\n",
    "print(s[1])\n",
    "print(t[1])\n",
    "print(t[1:3])\n",
    "#좀더 편하게 조건을 써서 그값을 추출할 수 있다\n",
    "print(s[s > s.median()])\n",
    "print(s[[3, 1, 4]])"
   ],
   "cell_type": "code",
   "metadata": {},
   "execution_count": null,
   "outputs": []
  },
  {
   "source": [
    "numpy와 적용해보기도 된다"
   ],
   "cell_type": "markdown",
   "metadata": {}
  },
  {
   "cell_type": "code",
   "execution_count": null,
   "metadata": {},
   "outputs": [],
   "source": [
    "import numpy as np\n",
    "\n",
    "print(np.exp(s))\n",
    "print(s.dtype)"
   ]
  },
  {
   "source": [
    "### **Series + dict**\n",
    "\n",
    "- series는 dict와 유사하다!"
   ],
   "cell_type": "markdown",
   "metadata": {}
  },
  {
   "cell_type": "code",
   "execution_count": null,
   "metadata": {},
   "outputs": [],
   "source": [
    "t = pd.Series({'one':1, 'two':2, 'th|ree': 3, 'four':4, 'five':5})\n",
    "print(t['one'])\n",
    "t['six'] = 6\n",
    "print(t)\n",
    "print('six' in t,'seven' in t)\n",
    "\n",
    "#t['seven'] # 없으면 안됌 근데 get 쓰면 됨\n",
    "t.get('seven')\n",
    "t.get('seven','있나?')"
   ]
  },
  {
   "source": [
    "### Series에 이름 붙이기\n",
    "- name 속성을 가지고 있다.\n",
    "- 처음 Series를 만들 때 이름을 붙일수 있다"
   ],
   "cell_type": "markdown",
   "metadata": {}
  },
  {
   "cell_type": "code",
   "execution_count": null,
   "metadata": {},
   "outputs": [],
   "source": [
    "s = pd.Series(np.random.randn(5), name=\"random_nums\")\n",
    "s\n"
   ]
  },
  {
   "cell_type": "code",
   "execution_count": null,
   "metadata": {},
   "outputs": [],
   "source": [
    "s.name = \"임의의 나수\" # 이름 바꿔줌\n",
    "s"
   ]
  },
  {
   "cell_type": "markdown",
   "metadata": {},
   "source": [
    "## III. Pandas로 2차원 데이터 다루기 - dataframe"
   ]
  },
  {
   "source": [
    "### **dataframe?**\n",
    "- 2-D labeled **table**\n",
    "- 인덱스를 지정할 수도 있음\n"
   ],
   "cell_type": "markdown",
   "metadata": {}
  },
  {
   "source": [
    "## From CSV to data frame\n",
    "- comma Separated Value를 DataFrame으로 생성해줄 수 있다.\n",
    "- '.read_csv()'"
   ],
   "cell_type": "markdown",
   "metadata": {}
  },
  {
   "source": [
    "코랩만 로컬 그니깐 컴퓨터 안에선 안씀\n",
    "\n",
    "코랩이니깐 드라이브 연동을 해줘야 겟다\n",
    "\n",
    "\n",
    "from google.colab import drive\n",
    "drive.mount('/content/drive')\n",
    "\n",
    "\n",
    "동일 경로에 csv가 존재하게 해야한다 이동하고 불러오자\n",
    "\n",
    "\n",
    "%cd /content/drive/MyDrive/프로그래머스/3주차/csv # 내파일은 이런 위치에 있다 \n",
    "다들 다를것이니 참고바람\n",
    "%ls"
   ],
   "cell_type": "markdown",
   "metadata": {}
  },
  {
   "cell_type": "code",
   "execution_count": null,
   "metadata": {},
   "outputs": [],
   "source": [
    "covid = pd.read_csv(\"./country_wise_latest.csv\")\n",
    "covid"
   ]
  },
  {
   "source": [
    "위에서부터 5개만 보기\n",
    "\n",
    "- 보려하는것.head(몇개)\n",
    "\n",
    "밑에서부터 5개만 보기\n",
    "- 보려하는것.tail(몇개)"
   ],
   "cell_type": "markdown",
   "metadata": {}
  },
  {
   "cell_type": "code",
   "execution_count": null,
   "metadata": {},
   "outputs": [],
   "source": [
    "coviㅡd.head(5)"
   ]
  },
  {
   "cell_type": "code",
   "execution_count": null,
   "metadata": {},
   "outputs": [],
   "source": [
    "covid.tail(5)"
   ]
  },
  {
   "source": [
    "### Pandas 활용 2. 데이터 접근 하기\n",
    "- 데이터df\\['이름'\\] or 데이터df.찾을이름"
   ],
   "cell_type": "markdown",
   "metadata": {}
  },
  {
   "cell_type": "code",
   "execution_count": null,
   "metadata": {},
   "outputs": [],
   "source": [
    "covid['Active']"
   ]
  },
  {
   "source": [
    "covid.Active"
   ],
   "cell_type": "markdown",
   "metadata": {}
  },
  {
   "cell_type": "code",
   "execution_count": null,
   "metadata": {},
   "outputs": [],
   "source": [
    "covid['Active'][0]"
   ]
  },
  {
   "cell_type": "code",
   "execution_count": null,
   "metadata": {},
   "outputs": [],
   "source": [
    "covid['Active'][1:3]"
   ]
  },
  {
   "source": [
    "조건이용해서 데이터 가져오기\n"
   ],
   "cell_type": "markdown",
   "metadata": {}
  },
  {
   "cell_type": "code",
   "execution_count": null,
   "metadata": {},
   "outputs": [],
   "source": [
    "covid[\"Active\"] > 1000 # 여기의 true 만을 가져오기"
   ]
  },
  {
   "cell_type": "code",
   "execution_count": null,
   "metadata": {},
   "outputs": [],
   "source": [
    "covid[covid[\"Active\"] > 1000]"
   ]
  },
  {
   "source": [
    "컬럼 안에있는 값 종류 가져오기"
   ],
   "cell_type": "markdown",
   "metadata": {}
  },
  {
   "cell_type": "code",
   "execution_count": null,
   "metadata": {},
   "outputs": [],
   "source": [
    "covid['WHO Region'].unique()"
   ]
  },
  {
   "cell_type": "code",
   "execution_count": null,
   "metadata": {},
   "outputs": [],
   "source": [
    "covid[covid['WHO Region'] == 'South-East Asia']"
   ]
  },
  {
   "cell_type": "code",
   "execution_count": null,
   "metadata": {},
   "outputs": [],
   "source": [
    "# 예시 데이터 -도서관 정보\n",
    "books_dict = {\"Available\":[True, True, False], \"Location\":[102,215,323], \"Genre\":[\"Programming\", \"Physics\",\"Math\"]}\n",
    "books_df = pd.DataFrame(books_dict, index = ['버그란 무엇인가', '두근두근 고기학', '미쳐버린 홈즈'])\n",
    "books_df"
   ]
  },
  {
   "cell_type": "code",
   "execution_count": null,
   "metadata": {},
   "outputs": [],
   "source": [
    "books_df.loc[\"버그란 무엇인가\"]"
   ]
  },
  {
   "source": [
    "미쳐버린 홈즈 책이 대출 가능한지"
   ],
   "cell_type": "markdown",
   "metadata": {}
  },
  {
   "cell_type": "code",
   "execution_count": null,
   "metadata": {},
   "outputs": [],
   "source": [
    "print(\"띠운거\", books_df.loc[\"미쳐버린 홈즈\"]['Available'])\n",
    "print(\"붙인거\", books_df.loc[\"미쳐버린 홈즈\", 'Available'])\n",
    "# 같다"
   ]
  },
  {
   "source": [
    "### 숫자 인덱스를 이용해서 가져오기 : .iloc\\[rowidx,colidx\\]\n"
   ],
   "cell_type": "markdown",
   "metadata": {}
  },
  {
   "cell_type": "code",
   "execution_count": null,
   "metadata": {},
   "outputs": [],
   "source": [
    "books_df.iloc[0,1]"
   ]
  },
  {
   "cell_type": "code",
   "execution_count": null,
   "metadata": {},
   "outputs": [],
   "source": [
    "books_df.iloc[1,0:2]"
   ]
  },
  {
   "source": [
    "## Pandas 활용 groupby\n",
    "- Split : 특정한 \"기준\"을 바탕으로 DataFrame을 분할\n",
    "- Apply : 통계함수 - sum(), mean(), median(), 을 적용해서 데이터를 압축\n",
    "- Combine : Apply 된 결과를 바탕으로 새로운 Series를 생성 (group_key : applied_value)\n",
    "\n",
    ".groupby()"
   ],
   "cell_type": "markdown",
   "metadata": {}
  },
  {
   "cell_type": "code",
   "execution_count": null,
   "metadata": {},
   "outputs": [],
   "source": [
    "# WHO 별 확진자수\n",
    "\n",
    "covid_by_region = covid[\"Confirmed\"].groupby(by=covid[\"WHO Region\"])\n",
    "covid_by_region"
   ]
  },
  {
   "cell_type": "code",
   "execution_count": null,
   "metadata": {},
   "outputs": [],
   "source": [
    "covid_by_region.sum()"
   ]
  },
  {
   "cell_type": "markdown",
   "metadata": {},
   "source": [
    "## Mission:\n",
    "### 1. covid 데이터에서 100 case 대비 사망률(`Deaths / 100 Cases`)이 가장 높은 국가는?"
   ]
  },
  {
   "source": [
    "from google.colab import drive\n",
    "drive.mount('/content/drive')\n",
    "%cd /content/drive/MyDrive/프로그래머스/3주차/csv\n",
    "%ls -a"
   ],
   "cell_type": "markdown",
   "metadata": {}
  },
  {
   "cell_type": "code",
   "execution_count": null,
   "metadata": {},
   "outputs": [],
   "source": [
    "import pandas as pd\n",
    "\n",
    "covid = pd.read_csv(\"./country_wise_latest.csv\")\n",
    "covid['Country/Region'][covid['Deaths / 100 Cases'].idxmax()]"
   ]
  },
  {
   "cell_type": "markdown",
   "metadata": {},
   "source": [
    "### 2. covid 데이터에서 신규 확진자가 없는 나라 중 WHO Region이 'Europe'를 모두 출력하면?  \n",
    "Hint : 한 줄에 동시에 두가지 조건을 Apply하는 경우 Warning이 발생할 수 있습니다."
   ]
  },
  {
   "cell_type": "code",
   "execution_count": null,
   "metadata": {},
   "outputs": [],
   "source": [
    "covid[:][(covid[\"New cases\"] == 0) & (covid[\"WHO Region\"] == 'Europe')]"
   ]
  },
  {
   "cell_type": "markdown",
   "metadata": {},
   "source": [
    "### 3. 다음 [데이터](https://www.kaggle.com/neuromusic/avocado-prices)를 이용해 각 Region별로 아보카도가 가장 비싼 평균가격(AveragePrice)을 출력하면?"
   ]
  },
  {
   "source": [
    "## 이건 코랩\n",
    "\n",
    "!pip install kaggle\n",
    "\n",
    "!cp /content/drive/MyDrive/프로그래머스/kaggle/kaggle.json .\n",
    "\n",
    "!mkdir -p ~/.kaggle\n",
    "\n",
    "!mv kaggle.json ~/.kaggle/\n",
    "\n",
    "!chmod 600 ~/.kaggle/kaggle.json\n",
    "\n",
    "!kaggle datasets download -d neuromusic/avocado-prices\n",
    "\n",
    "!unzip avocado-prices.zip\n",
    "\n",
    "!ls"
   ],
   "cell_type": "markdown",
   "metadata": {}
  },
  {
   "source": [
    "## vscode 터미널\n",
    "\n",
    "mv kaggle.json ~/.kaggle/\n",
    "\n",
    "chmod 600 ~/.kaggle/kaggle.json\n",
    "\n",
    "kaggle datasets download -d neuromusic/avocado-prices\n",
    "\n",
    "unzip avocado-prices.zip"
   ],
   "cell_type": "markdown",
   "metadata": {}
  },
  {
   "cell_type": "code",
   "execution_count": null,
   "metadata": {},
   "outputs": [],
   "source": [
    "avocado = pd.read_csv(\"./avocado.csv\")\n",
    "\n",
    "avocado['AveragePrice'].groupby(by=avocado['region']).max()"
   ]
  },
  {
   "cell_type": "code",
   "execution_count": null,
   "metadata": {},
   "outputs": [],
   "source": []
  }
 ],
 "metadata": {
  "kernelspec": {
   "name": "python395jvsc74a57bd0e25d969c92605c0c7f415fe0832a23d7af293f208a65b2ef2c6d7f3dcccb9abb",
   "display_name": "Python 3.9.5 64-bit"
  },
  "language_info": {
   "codemirror_mode": {
    "name": "ipython",
    "version": 3
   },
   "file_extension": ".py",
   "mimetype": "text/x-python",
   "name": "python",
   "nbconvert_exporter": "python",
   "pygments_lexer": "ipython3",
   "version": "3.9.5"
  }
 },
 "nbformat": 4,
 "nbformat_minor": 4
}