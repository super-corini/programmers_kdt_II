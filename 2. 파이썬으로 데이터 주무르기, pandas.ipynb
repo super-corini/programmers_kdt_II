{
 "cells": [
  {
   "cell_type": "markdown",
   "metadata": {},
   "source": [
    "# 2. 파이썬으로 데이터 주무르기, pandas\n",
    "**pandas를 활용해서 데이터프레임을 다뤄봅시다.**"
   ]
  },
  {
   "cell_type": "markdown",
   "metadata": {},
   "source": [
    "1. Pandas 시작하기\n",
    "    - prerequisite : Table\n",
    "    - pandas import하기\n",
    "   \n",
    "2. Pandas로 1차원 데이터 다루기 - Series \n",
    "    - Series 선언하기\n",
    "    - Series vs ndarray\n",
    "    - Series vs dict\n",
    "    - Series에 이름 붙이기\n",
    "3. Pandas로 2차원 데이터 다루기 - dataframe\n",
    "    - dataframe 선언하기\n",
    "    - csv 파일을 dataframe으로! : `to_csv()`\n",
    "    - dataframe 자료 접근하기\n",
    "    - dataframe 정모하기 : `.groupby()`\n",
    "    - dataframe 합치기 : `.merge()` \n",
    "\n",
    "[수업에 사용된 covid 데이터](https://www.kaggle.com/imdevskp/corona-virus-report)"
   ]
  },
  {
   "cell_type": "markdown",
   "metadata": {},
   "source": [
    "## I. pandas 시작하기"
   ]
  },
  {
   "cell_type": "code",
   "execution_count": 1,
   "outputs": [],
   "source": [
    "import pandas as pd"
   ],
   "metadata": {
    "collapsed": false,
    "pycharm": {
     "name": "#%%\n"
    }
   }
  },
  {
   "cell_type": "markdown",
   "metadata": {},
   "source": [
    "## II. pandas로 1차원 데이터 다루기 - Series"
   ]
  },
  {
   "cell_type": "code",
   "execution_count": 19,
   "outputs": [
    {
     "data": {
      "text/plain": "0    0\n1    1\n2    2\n3    3\n4    4\n5    5\n6    6\n7    7\n8    8\n9    9\ndtype: int64"
     },
     "execution_count": 19,
     "metadata": {},
     "output_type": "execute_result"
    }
   ],
   "source": [
    "s = pd.Series(range(10))\n",
    "s"
   ],
   "metadata": {
    "collapsed": false,
    "pycharm": {
     "name": "#%%\n"
    }
   }
  },
  {
   "cell_type": "code",
   "execution_count": 20,
   "outputs": [
    {
     "data": {
      "text/plain": "2num    2\n3num    3\n4num    4\ndtype: int64"
     },
     "execution_count": 20,
     "metadata": {},
     "output_type": "execute_result"
    }
   ],
   "source": [
    "t = pd.Series({str(i)+'num':i for i in range(5)})\n",
    "t[2:5]"
   ],
   "metadata": {
    "collapsed": false,
    "pycharm": {
     "name": "#%%\n"
    }
   }
  },
  {
   "cell_type": "code",
   "execution_count": 21,
   "outputs": [
    {
     "data": {
      "text/plain": "5    5\n6    6\n7    7\n8    8\n9    9\ndtype: int64"
     },
     "execution_count": 21,
     "metadata": {},
     "output_type": "execute_result"
    }
   ],
   "source": [
    "s[s>s.median()]"
   ],
   "metadata": {
    "collapsed": false,
    "pycharm": {
     "name": "#%%\n"
    }
   }
  },
  {
   "cell_type": "code",
   "execution_count": 22,
   "outputs": [
    {
     "data": {
      "text/plain": "1    1\n3    3\n5    5\ndtype: int64"
     },
     "execution_count": 22,
     "metadata": {},
     "output_type": "execute_result"
    }
   ],
   "source": [
    "s[[1,3,5]]"
   ],
   "metadata": {
    "collapsed": false,
    "pycharm": {
     "name": "#%%\n"
    }
   }
  },
  {
   "cell_type": "code",
   "execution_count": 23,
   "outputs": [
    {
     "data": {
      "text/plain": "0       1.000000\n1       2.718282\n2       7.389056\n3      20.085537\n4      54.598150\n5     148.413159\n6     403.428793\n7    1096.633158\n8    2980.957987\n9    8103.083928\ndtype: float64"
     },
     "execution_count": 23,
     "metadata": {},
     "output_type": "execute_result"
    }
   ],
   "source": [
    "import numpy as np\n",
    "np.exp(s)"
   ],
   "metadata": {
    "collapsed": false,
    "pycharm": {
     "name": "#%%\n"
    }
   }
  },
  {
   "cell_type": "code",
   "execution_count": 26,
   "outputs": [
    {
     "data": {
      "text/plain": "0   -1.990774\n1    1.343405\n2   -2.199462\n3    1.419638\n4    0.012950\n5    0.047092\n6    1.881930\n7   -0.601442\n8    1.160001\n9   -0.752876\nName: np.randn, dtype: float64"
     },
     "execution_count": 26,
     "metadata": {},
     "output_type": "execute_result"
    }
   ],
   "source": [
    "s_rand = pd.Series(np.random.randn(10), name='np.randn')\n",
    "s_rand"
   ],
   "metadata": {
    "collapsed": false,
    "pycharm": {
     "name": "#%%\n"
    }
   }
  },
  {
   "cell_type": "markdown",
   "metadata": {},
   "source": [
    "## III. Pandas로 2차원 데이터 다루기 - dataframe"
   ]
  },
  {
   "cell_type": "code",
   "execution_count": 27,
   "outputs": [
    {
     "data": {
      "text/plain": "   height  weight\n0       1      30\n1       2      40\n2       3      50\n3       4      60",
      "text/html": "<div>\n<style scoped>\n    .dataframe tbody tr th:only-of-type {\n        vertical-align: middle;\n    }\n\n    .dataframe tbody tr th {\n        vertical-align: top;\n    }\n\n    .dataframe thead th {\n        text-align: right;\n    }\n</style>\n<table border=\"1\" class=\"dataframe\">\n  <thead>\n    <tr style=\"text-align: right;\">\n      <th></th>\n      <th>height</th>\n      <th>weight</th>\n    </tr>\n  </thead>\n  <tbody>\n    <tr>\n      <th>0</th>\n      <td>1</td>\n      <td>30</td>\n    </tr>\n    <tr>\n      <th>1</th>\n      <td>2</td>\n      <td>40</td>\n    </tr>\n    <tr>\n      <th>2</th>\n      <td>3</td>\n      <td>50</td>\n    </tr>\n    <tr>\n      <th>3</th>\n      <td>4</td>\n      <td>60</td>\n    </tr>\n  </tbody>\n</table>\n</div>"
     },
     "execution_count": 27,
     "metadata": {},
     "output_type": "execute_result"
    }
   ],
   "source": [
    "d = {'height': [1,2,3,4], 'weight': [30,40,50,60]}\n",
    "df = pd.DataFrame(d)\n",
    "df\n"
   ],
   "metadata": {
    "collapsed": false,
    "pycharm": {
     "name": "#%%\n"
    }
   }
  },
  {
   "cell_type": "code",
   "execution_count": 29,
   "outputs": [
    {
     "data": {
      "text/plain": "height    int64\nweight    int64\ndtype: object"
     },
     "execution_count": 29,
     "metadata": {},
     "output_type": "execute_result"
    }
   ],
   "source": [
    "df.dtypes"
   ],
   "metadata": {
    "collapsed": false,
    "pycharm": {
     "name": "#%%\n"
    }
   }
  },
  {
   "cell_type": "code",
   "execution_count": 32,
   "outputs": [
    {
     "data": {
      "text/plain": "         Country/Region  Confirmed  Deaths  Recovered  Active  New cases  \\\n0           Afghanistan      36263    1269      25198    9796        106   \n1               Albania       4880     144       2745    1991        117   \n2               Algeria      27973    1163      18837    7973        616   \n3               Andorra        907      52        803      52         10   \n4                Angola        950      41        242     667         18   \n..                  ...        ...     ...        ...     ...        ...   \n182  West Bank and Gaza      10621      78       3752    6791        152   \n183      Western Sahara         10       1          8       1          0   \n184               Yemen       1691     483        833     375         10   \n185              Zambia       4552     140       2815    1597         71   \n186            Zimbabwe       2704      36        542    2126        192   \n\n     New deaths  New recovered  Deaths / 100 Cases  Recovered / 100 Cases  \\\n0            10             18                3.50                  69.49   \n1             6             63                2.95                  56.25   \n2             8            749                4.16                  67.34   \n3             0              0                5.73                  88.53   \n4             1              0                4.32                  25.47   \n..          ...            ...                 ...                    ...   \n182           2              0                0.73                  35.33   \n183           0              0               10.00                  80.00   \n184           4             36               28.56                  49.26   \n185           1            465                3.08                  61.84   \n186           2             24                1.33                  20.04   \n\n     Deaths / 100 Recovered  Confirmed last week  1 week change  \\\n0                      5.04                35526            737   \n1                      5.25                 4171            709   \n2                      6.17                23691           4282   \n3                      6.48                  884             23   \n4                     16.94                  749            201   \n..                      ...                  ...            ...   \n182                    2.08                 8916           1705   \n183                   12.50                   10              0   \n184                   57.98                 1619             72   \n185                    4.97                 3326           1226   \n186                    6.64                 1713            991   \n\n     1 week % increase             WHO Region  \n0                 2.07  Eastern Mediterranean  \n1                17.00                 Europe  \n2                18.07                 Africa  \n3                 2.60                 Europe  \n4                26.84                 Africa  \n..                 ...                    ...  \n182              19.12  Eastern Mediterranean  \n183               0.00                 Africa  \n184               4.45  Eastern Mediterranean  \n185              36.86                 Africa  \n186              57.85                 Africa  \n\n[187 rows x 15 columns]",
      "text/html": "<div>\n<style scoped>\n    .dataframe tbody tr th:only-of-type {\n        vertical-align: middle;\n    }\n\n    .dataframe tbody tr th {\n        vertical-align: top;\n    }\n\n    .dataframe thead th {\n        text-align: right;\n    }\n</style>\n<table border=\"1\" class=\"dataframe\">\n  <thead>\n    <tr style=\"text-align: right;\">\n      <th></th>\n      <th>Country/Region</th>\n      <th>Confirmed</th>\n      <th>Deaths</th>\n      <th>Recovered</th>\n      <th>Active</th>\n      <th>New cases</th>\n      <th>New deaths</th>\n      <th>New recovered</th>\n      <th>Deaths / 100 Cases</th>\n      <th>Recovered / 100 Cases</th>\n      <th>Deaths / 100 Recovered</th>\n      <th>Confirmed last week</th>\n      <th>1 week change</th>\n      <th>1 week % increase</th>\n      <th>WHO Region</th>\n    </tr>\n  </thead>\n  <tbody>\n    <tr>\n      <th>0</th>\n      <td>Afghanistan</td>\n      <td>36263</td>\n      <td>1269</td>\n      <td>25198</td>\n      <td>9796</td>\n      <td>106</td>\n      <td>10</td>\n      <td>18</td>\n      <td>3.50</td>\n      <td>69.49</td>\n      <td>5.04</td>\n      <td>35526</td>\n      <td>737</td>\n      <td>2.07</td>\n      <td>Eastern Mediterranean</td>\n    </tr>\n    <tr>\n      <th>1</th>\n      <td>Albania</td>\n      <td>4880</td>\n      <td>144</td>\n      <td>2745</td>\n      <td>1991</td>\n      <td>117</td>\n      <td>6</td>\n      <td>63</td>\n      <td>2.95</td>\n      <td>56.25</td>\n      <td>5.25</td>\n      <td>4171</td>\n      <td>709</td>\n      <td>17.00</td>\n      <td>Europe</td>\n    </tr>\n    <tr>\n      <th>2</th>\n      <td>Algeria</td>\n      <td>27973</td>\n      <td>1163</td>\n      <td>18837</td>\n      <td>7973</td>\n      <td>616</td>\n      <td>8</td>\n      <td>749</td>\n      <td>4.16</td>\n      <td>67.34</td>\n      <td>6.17</td>\n      <td>23691</td>\n      <td>4282</td>\n      <td>18.07</td>\n      <td>Africa</td>\n    </tr>\n    <tr>\n      <th>3</th>\n      <td>Andorra</td>\n      <td>907</td>\n      <td>52</td>\n      <td>803</td>\n      <td>52</td>\n      <td>10</td>\n      <td>0</td>\n      <td>0</td>\n      <td>5.73</td>\n      <td>88.53</td>\n      <td>6.48</td>\n      <td>884</td>\n      <td>23</td>\n      <td>2.60</td>\n      <td>Europe</td>\n    </tr>\n    <tr>\n      <th>4</th>\n      <td>Angola</td>\n      <td>950</td>\n      <td>41</td>\n      <td>242</td>\n      <td>667</td>\n      <td>18</td>\n      <td>1</td>\n      <td>0</td>\n      <td>4.32</td>\n      <td>25.47</td>\n      <td>16.94</td>\n      <td>749</td>\n      <td>201</td>\n      <td>26.84</td>\n      <td>Africa</td>\n    </tr>\n    <tr>\n      <th>...</th>\n      <td>...</td>\n      <td>...</td>\n      <td>...</td>\n      <td>...</td>\n      <td>...</td>\n      <td>...</td>\n      <td>...</td>\n      <td>...</td>\n      <td>...</td>\n      <td>...</td>\n      <td>...</td>\n      <td>...</td>\n      <td>...</td>\n      <td>...</td>\n      <td>...</td>\n    </tr>\n    <tr>\n      <th>182</th>\n      <td>West Bank and Gaza</td>\n      <td>10621</td>\n      <td>78</td>\n      <td>3752</td>\n      <td>6791</td>\n      <td>152</td>\n      <td>2</td>\n      <td>0</td>\n      <td>0.73</td>\n      <td>35.33</td>\n      <td>2.08</td>\n      <td>8916</td>\n      <td>1705</td>\n      <td>19.12</td>\n      <td>Eastern Mediterranean</td>\n    </tr>\n    <tr>\n      <th>183</th>\n      <td>Western Sahara</td>\n      <td>10</td>\n      <td>1</td>\n      <td>8</td>\n      <td>1</td>\n      <td>0</td>\n      <td>0</td>\n      <td>0</td>\n      <td>10.00</td>\n      <td>80.00</td>\n      <td>12.50</td>\n      <td>10</td>\n      <td>0</td>\n      <td>0.00</td>\n      <td>Africa</td>\n    </tr>\n    <tr>\n      <th>184</th>\n      <td>Yemen</td>\n      <td>1691</td>\n      <td>483</td>\n      <td>833</td>\n      <td>375</td>\n      <td>10</td>\n      <td>4</td>\n      <td>36</td>\n      <td>28.56</td>\n      <td>49.26</td>\n      <td>57.98</td>\n      <td>1619</td>\n      <td>72</td>\n      <td>4.45</td>\n      <td>Eastern Mediterranean</td>\n    </tr>\n    <tr>\n      <th>185</th>\n      <td>Zambia</td>\n      <td>4552</td>\n      <td>140</td>\n      <td>2815</td>\n      <td>1597</td>\n      <td>71</td>\n      <td>1</td>\n      <td>465</td>\n      <td>3.08</td>\n      <td>61.84</td>\n      <td>4.97</td>\n      <td>3326</td>\n      <td>1226</td>\n      <td>36.86</td>\n      <td>Africa</td>\n    </tr>\n    <tr>\n      <th>186</th>\n      <td>Zimbabwe</td>\n      <td>2704</td>\n      <td>36</td>\n      <td>542</td>\n      <td>2126</td>\n      <td>192</td>\n      <td>2</td>\n      <td>24</td>\n      <td>1.33</td>\n      <td>20.04</td>\n      <td>6.64</td>\n      <td>1713</td>\n      <td>991</td>\n      <td>57.85</td>\n      <td>Africa</td>\n    </tr>\n  </tbody>\n</table>\n<p>187 rows × 15 columns</p>\n</div>"
     },
     "execution_count": 32,
     "metadata": {},
     "output_type": "execute_result"
    }
   ],
   "source": [
    "covid = pd.read_csv('country_wise_latest.csv')\n",
    "covid"
   ],
   "metadata": {
    "collapsed": false,
    "pycharm": {
     "name": "#%%\n"
    }
   }
  },
  {
   "cell_type": "code",
   "execution_count": 34,
   "outputs": [
    {
     "data": {
      "text/plain": "0             Afghanistan\n1                 Albania\n2                 Algeria\n3                 Andorra\n4                  Angola\n              ...        \n182    West Bank and Gaza\n183        Western Sahara\n184                 Yemen\n185                Zambia\n186              Zimbabwe\nName: Country/Region, Length: 187, dtype: object"
     },
     "execution_count": 34,
     "metadata": {},
     "output_type": "execute_result"
    }
   ],
   "source": [
    "covid['Country/Region']"
   ],
   "metadata": {
    "collapsed": false,
    "pycharm": {
     "name": "#%%\n"
    }
   }
  },
  {
   "cell_type": "code",
   "execution_count": 39,
   "outputs": [
    {
     "data": {
      "text/plain": "         Country/Region  Confirmed  Deaths  Recovered  Active  New cases  \\\n0           Afghanistan      36263    1269      25198    9796        106   \n1               Albania       4880     144       2745    1991        117   \n2               Algeria      27973    1163      18837    7973        616   \n6             Argentina     167416    3059      72575   91782       4890   \n8             Australia      15303     167       9311    5825        368   \n..                  ...        ...     ...        ...     ...        ...   \n177      United Kingdom     301708   45844       1437  254427        688   \n179          Uzbekistan      21209     121      11674    9414        678   \n180           Venezuela      15988     146       9959    5883        525   \n182  West Bank and Gaza      10621      78       3752    6791        152   \n186            Zimbabwe       2704      36        542    2126        192   \n\n     New deaths  New recovered  Deaths / 100 Cases  Recovered / 100 Cases  \\\n0            10             18                3.50                  69.49   \n1             6             63                2.95                  56.25   \n2             8            749                4.16                  67.34   \n6           120           2057                1.83                  43.35   \n8             6            137                1.09                  60.84   \n..          ...            ...                 ...                    ...   \n177           7              3               15.19                   0.48   \n179           5            569                0.57                  55.04   \n180           4            213                0.91                  62.29   \n182           2              0                0.73                  35.33   \n186           2             24                1.33                  20.04   \n\n     Deaths / 100 Recovered  Confirmed last week  1 week change  \\\n0                      5.04                35526            737   \n1                      5.25                 4171            709   \n2                      6.17                23691           4282   \n6                      4.21               130774          36642   \n8                      1.79                12428           2875   \n..                      ...                  ...            ...   \n177                 3190.26               296944           4764   \n179                    1.04                17149           4060   \n180                    1.47                12334           3654   \n182                    2.08                 8916           1705   \n186                    6.64                 1713            991   \n\n     1 week % increase             WHO Region  \n0                 2.07  Eastern Mediterranean  \n1                17.00                 Europe  \n2                18.07                 Africa  \n6                28.02               Americas  \n8                23.13        Western Pacific  \n..                 ...                    ...  \n177               1.60                 Europe  \n179              23.67                 Europe  \n180              29.63               Americas  \n182              19.12  Eastern Mediterranean  \n186              57.85                 Africa  \n\n[82 rows x 15 columns]",
      "text/html": "<div>\n<style scoped>\n    .dataframe tbody tr th:only-of-type {\n        vertical-align: middle;\n    }\n\n    .dataframe tbody tr th {\n        vertical-align: top;\n    }\n\n    .dataframe thead th {\n        text-align: right;\n    }\n</style>\n<table border=\"1\" class=\"dataframe\">\n  <thead>\n    <tr style=\"text-align: right;\">\n      <th></th>\n      <th>Country/Region</th>\n      <th>Confirmed</th>\n      <th>Deaths</th>\n      <th>Recovered</th>\n      <th>Active</th>\n      <th>New cases</th>\n      <th>New deaths</th>\n      <th>New recovered</th>\n      <th>Deaths / 100 Cases</th>\n      <th>Recovered / 100 Cases</th>\n      <th>Deaths / 100 Recovered</th>\n      <th>Confirmed last week</th>\n      <th>1 week change</th>\n      <th>1 week % increase</th>\n      <th>WHO Region</th>\n    </tr>\n  </thead>\n  <tbody>\n    <tr>\n      <th>0</th>\n      <td>Afghanistan</td>\n      <td>36263</td>\n      <td>1269</td>\n      <td>25198</td>\n      <td>9796</td>\n      <td>106</td>\n      <td>10</td>\n      <td>18</td>\n      <td>3.50</td>\n      <td>69.49</td>\n      <td>5.04</td>\n      <td>35526</td>\n      <td>737</td>\n      <td>2.07</td>\n      <td>Eastern Mediterranean</td>\n    </tr>\n    <tr>\n      <th>1</th>\n      <td>Albania</td>\n      <td>4880</td>\n      <td>144</td>\n      <td>2745</td>\n      <td>1991</td>\n      <td>117</td>\n      <td>6</td>\n      <td>63</td>\n      <td>2.95</td>\n      <td>56.25</td>\n      <td>5.25</td>\n      <td>4171</td>\n      <td>709</td>\n      <td>17.00</td>\n      <td>Europe</td>\n    </tr>\n    <tr>\n      <th>2</th>\n      <td>Algeria</td>\n      <td>27973</td>\n      <td>1163</td>\n      <td>18837</td>\n      <td>7973</td>\n      <td>616</td>\n      <td>8</td>\n      <td>749</td>\n      <td>4.16</td>\n      <td>67.34</td>\n      <td>6.17</td>\n      <td>23691</td>\n      <td>4282</td>\n      <td>18.07</td>\n      <td>Africa</td>\n    </tr>\n    <tr>\n      <th>6</th>\n      <td>Argentina</td>\n      <td>167416</td>\n      <td>3059</td>\n      <td>72575</td>\n      <td>91782</td>\n      <td>4890</td>\n      <td>120</td>\n      <td>2057</td>\n      <td>1.83</td>\n      <td>43.35</td>\n      <td>4.21</td>\n      <td>130774</td>\n      <td>36642</td>\n      <td>28.02</td>\n      <td>Americas</td>\n    </tr>\n    <tr>\n      <th>8</th>\n      <td>Australia</td>\n      <td>15303</td>\n      <td>167</td>\n      <td>9311</td>\n      <td>5825</td>\n      <td>368</td>\n      <td>6</td>\n      <td>137</td>\n      <td>1.09</td>\n      <td>60.84</td>\n      <td>1.79</td>\n      <td>12428</td>\n      <td>2875</td>\n      <td>23.13</td>\n      <td>Western Pacific</td>\n    </tr>\n    <tr>\n      <th>...</th>\n      <td>...</td>\n      <td>...</td>\n      <td>...</td>\n      <td>...</td>\n      <td>...</td>\n      <td>...</td>\n      <td>...</td>\n      <td>...</td>\n      <td>...</td>\n      <td>...</td>\n      <td>...</td>\n      <td>...</td>\n      <td>...</td>\n      <td>...</td>\n      <td>...</td>\n    </tr>\n    <tr>\n      <th>177</th>\n      <td>United Kingdom</td>\n      <td>301708</td>\n      <td>45844</td>\n      <td>1437</td>\n      <td>254427</td>\n      <td>688</td>\n      <td>7</td>\n      <td>3</td>\n      <td>15.19</td>\n      <td>0.48</td>\n      <td>3190.26</td>\n      <td>296944</td>\n      <td>4764</td>\n      <td>1.60</td>\n      <td>Europe</td>\n    </tr>\n    <tr>\n      <th>179</th>\n      <td>Uzbekistan</td>\n      <td>21209</td>\n      <td>121</td>\n      <td>11674</td>\n      <td>9414</td>\n      <td>678</td>\n      <td>5</td>\n      <td>569</td>\n      <td>0.57</td>\n      <td>55.04</td>\n      <td>1.04</td>\n      <td>17149</td>\n      <td>4060</td>\n      <td>23.67</td>\n      <td>Europe</td>\n    </tr>\n    <tr>\n      <th>180</th>\n      <td>Venezuela</td>\n      <td>15988</td>\n      <td>146</td>\n      <td>9959</td>\n      <td>5883</td>\n      <td>525</td>\n      <td>4</td>\n      <td>213</td>\n      <td>0.91</td>\n      <td>62.29</td>\n      <td>1.47</td>\n      <td>12334</td>\n      <td>3654</td>\n      <td>29.63</td>\n      <td>Americas</td>\n    </tr>\n    <tr>\n      <th>182</th>\n      <td>West Bank and Gaza</td>\n      <td>10621</td>\n      <td>78</td>\n      <td>3752</td>\n      <td>6791</td>\n      <td>152</td>\n      <td>2</td>\n      <td>0</td>\n      <td>0.73</td>\n      <td>35.33</td>\n      <td>2.08</td>\n      <td>8916</td>\n      <td>1705</td>\n      <td>19.12</td>\n      <td>Eastern Mediterranean</td>\n    </tr>\n    <tr>\n      <th>186</th>\n      <td>Zimbabwe</td>\n      <td>2704</td>\n      <td>36</td>\n      <td>542</td>\n      <td>2126</td>\n      <td>192</td>\n      <td>2</td>\n      <td>24</td>\n      <td>1.33</td>\n      <td>20.04</td>\n      <td>6.64</td>\n      <td>1713</td>\n      <td>991</td>\n      <td>57.85</td>\n      <td>Africa</td>\n    </tr>\n  </tbody>\n</table>\n<p>82 rows × 15 columns</p>\n</div>"
     },
     "execution_count": 39,
     "metadata": {},
     "output_type": "execute_result"
    }
   ],
   "source": [
    "covid[covid['New cases'] > 100]"
   ],
   "metadata": {
    "collapsed": false,
    "pycharm": {
     "name": "#%%\n"
    }
   }
  },
  {
   "cell_type": "code",
   "execution_count": 42,
   "outputs": [
    {
     "name": "stdout",
     "output_type": "stream",
     "text": [
      "['Eastern Mediterranean' 'Europe' 'Africa' 'Americas' 'Western Pacific'\n",
      " 'South-East Asia']\n"
     ]
    },
    {
     "data": {
      "text/plain": "    Country/Region  Confirmed  Deaths  Recovered  Active  New cases  \\\n13      Bangladesh     226225    2965     125683   97577       2772   \n19          Bhutan         99       0         86      13          4   \n27           Burma        350       6        292      52          0   \n79           India    1480073   33408     951166  495499      44457   \n80       Indonesia     100303    4838      58173   37292       1525   \n106       Maldives       3369      15       2547     807         67   \n119          Nepal      18752      48      13754    4950        139   \n158      Sri Lanka       2805      11       2121     673         23   \n167       Thailand       3297      58       3111     128          6   \n168    Timor-Leste         24       0          0      24          0   \n\n     New deaths  New recovered  Deaths / 100 Cases  Recovered / 100 Cases  \\\n13           37           1801                1.31                  55.56   \n19            0              1                0.00                  86.87   \n27            0              2                1.71                  83.43   \n79          637          33598                2.26                  64.26   \n80           57           1518                4.82                  58.00   \n106           0             19                0.45                  75.60   \n119           3            626                0.26                  73.35   \n158           0             15                0.39                  75.61   \n167           0              2                1.76                  94.36   \n168           0              0                0.00                   0.00   \n\n     Deaths / 100 Recovered  Confirmed last week  1 week change  \\\n13                     2.36               207453          18772   \n19                     0.00                   90              9   \n27                     2.05                  341              9   \n79                     3.51              1155338         324735   \n80                     8.32                88214          12089   \n106                    0.59                 2999            370   \n119                    0.35                17844            908   \n158                    0.52                 2730             75   \n167                    1.86                 3250             47   \n168                    0.00                   24              0   \n\n     1 week % increase       WHO Region  \n13                9.05  South-East Asia  \n19               10.00  South-East Asia  \n27                2.64  South-East Asia  \n79               28.11  South-East Asia  \n80               13.70  South-East Asia  \n106              12.34  South-East Asia  \n119               5.09  South-East Asia  \n158               2.75  South-East Asia  \n167               1.45  South-East Asia  \n168               0.00  South-East Asia  ",
      "text/html": "<div>\n<style scoped>\n    .dataframe tbody tr th:only-of-type {\n        vertical-align: middle;\n    }\n\n    .dataframe tbody tr th {\n        vertical-align: top;\n    }\n\n    .dataframe thead th {\n        text-align: right;\n    }\n</style>\n<table border=\"1\" class=\"dataframe\">\n  <thead>\n    <tr style=\"text-align: right;\">\n      <th></th>\n      <th>Country/Region</th>\n      <th>Confirmed</th>\n      <th>Deaths</th>\n      <th>Recovered</th>\n      <th>Active</th>\n      <th>New cases</th>\n      <th>New deaths</th>\n      <th>New recovered</th>\n      <th>Deaths / 100 Cases</th>\n      <th>Recovered / 100 Cases</th>\n      <th>Deaths / 100 Recovered</th>\n      <th>Confirmed last week</th>\n      <th>1 week change</th>\n      <th>1 week % increase</th>\n      <th>WHO Region</th>\n    </tr>\n  </thead>\n  <tbody>\n    <tr>\n      <th>13</th>\n      <td>Bangladesh</td>\n      <td>226225</td>\n      <td>2965</td>\n      <td>125683</td>\n      <td>97577</td>\n      <td>2772</td>\n      <td>37</td>\n      <td>1801</td>\n      <td>1.31</td>\n      <td>55.56</td>\n      <td>2.36</td>\n      <td>207453</td>\n      <td>18772</td>\n      <td>9.05</td>\n      <td>South-East Asia</td>\n    </tr>\n    <tr>\n      <th>19</th>\n      <td>Bhutan</td>\n      <td>99</td>\n      <td>0</td>\n      <td>86</td>\n      <td>13</td>\n      <td>4</td>\n      <td>0</td>\n      <td>1</td>\n      <td>0.00</td>\n      <td>86.87</td>\n      <td>0.00</td>\n      <td>90</td>\n      <td>9</td>\n      <td>10.00</td>\n      <td>South-East Asia</td>\n    </tr>\n    <tr>\n      <th>27</th>\n      <td>Burma</td>\n      <td>350</td>\n      <td>6</td>\n      <td>292</td>\n      <td>52</td>\n      <td>0</td>\n      <td>0</td>\n      <td>2</td>\n      <td>1.71</td>\n      <td>83.43</td>\n      <td>2.05</td>\n      <td>341</td>\n      <td>9</td>\n      <td>2.64</td>\n      <td>South-East Asia</td>\n    </tr>\n    <tr>\n      <th>79</th>\n      <td>India</td>\n      <td>1480073</td>\n      <td>33408</td>\n      <td>951166</td>\n      <td>495499</td>\n      <td>44457</td>\n      <td>637</td>\n      <td>33598</td>\n      <td>2.26</td>\n      <td>64.26</td>\n      <td>3.51</td>\n      <td>1155338</td>\n      <td>324735</td>\n      <td>28.11</td>\n      <td>South-East Asia</td>\n    </tr>\n    <tr>\n      <th>80</th>\n      <td>Indonesia</td>\n      <td>100303</td>\n      <td>4838</td>\n      <td>58173</td>\n      <td>37292</td>\n      <td>1525</td>\n      <td>57</td>\n      <td>1518</td>\n      <td>4.82</td>\n      <td>58.00</td>\n      <td>8.32</td>\n      <td>88214</td>\n      <td>12089</td>\n      <td>13.70</td>\n      <td>South-East Asia</td>\n    </tr>\n    <tr>\n      <th>106</th>\n      <td>Maldives</td>\n      <td>3369</td>\n      <td>15</td>\n      <td>2547</td>\n      <td>807</td>\n      <td>67</td>\n      <td>0</td>\n      <td>19</td>\n      <td>0.45</td>\n      <td>75.60</td>\n      <td>0.59</td>\n      <td>2999</td>\n      <td>370</td>\n      <td>12.34</td>\n      <td>South-East Asia</td>\n    </tr>\n    <tr>\n      <th>119</th>\n      <td>Nepal</td>\n      <td>18752</td>\n      <td>48</td>\n      <td>13754</td>\n      <td>4950</td>\n      <td>139</td>\n      <td>3</td>\n      <td>626</td>\n      <td>0.26</td>\n      <td>73.35</td>\n      <td>0.35</td>\n      <td>17844</td>\n      <td>908</td>\n      <td>5.09</td>\n      <td>South-East Asia</td>\n    </tr>\n    <tr>\n      <th>158</th>\n      <td>Sri Lanka</td>\n      <td>2805</td>\n      <td>11</td>\n      <td>2121</td>\n      <td>673</td>\n      <td>23</td>\n      <td>0</td>\n      <td>15</td>\n      <td>0.39</td>\n      <td>75.61</td>\n      <td>0.52</td>\n      <td>2730</td>\n      <td>75</td>\n      <td>2.75</td>\n      <td>South-East Asia</td>\n    </tr>\n    <tr>\n      <th>167</th>\n      <td>Thailand</td>\n      <td>3297</td>\n      <td>58</td>\n      <td>3111</td>\n      <td>128</td>\n      <td>6</td>\n      <td>0</td>\n      <td>2</td>\n      <td>1.76</td>\n      <td>94.36</td>\n      <td>1.86</td>\n      <td>3250</td>\n      <td>47</td>\n      <td>1.45</td>\n      <td>South-East Asia</td>\n    </tr>\n    <tr>\n      <th>168</th>\n      <td>Timor-Leste</td>\n      <td>24</td>\n      <td>0</td>\n      <td>0</td>\n      <td>24</td>\n      <td>0</td>\n      <td>0</td>\n      <td>0</td>\n      <td>0.00</td>\n      <td>0.00</td>\n      <td>0.00</td>\n      <td>24</td>\n      <td>0</td>\n      <td>0.00</td>\n      <td>South-East Asia</td>\n    </tr>\n  </tbody>\n</table>\n</div>"
     },
     "execution_count": 42,
     "metadata": {},
     "output_type": "execute_result"
    }
   ],
   "source": [
    "print(covid['WHO Region'].unique())\n",
    "covid[covid['WHO Region'] == 'South-East Asia']"
   ],
   "metadata": {
    "collapsed": false,
    "pycharm": {
     "name": "#%%\n"
    }
   }
  },
  {
   "cell_type": "code",
   "execution_count": 46,
   "outputs": [
    {
     "data": {
      "text/plain": "106"
     },
     "execution_count": 46,
     "metadata": {},
     "output_type": "execute_result"
    }
   ],
   "source": [
    "covid.loc[0, 'New cases']"
   ],
   "metadata": {
    "collapsed": false,
    "pycharm": {
     "name": "#%%\n"
    }
   }
  },
  {
   "cell_type": "code",
   "execution_count": 49,
   "outputs": [
    {
     "data": {
      "text/plain": "'Afghanistan'"
     },
     "execution_count": 49,
     "metadata": {},
     "output_type": "execute_result"
    }
   ],
   "source": [
    "covid.iloc[0,0]"
   ],
   "metadata": {
    "collapsed": false,
    "pycharm": {
     "name": "#%%\n"
    }
   }
  },
  {
   "cell_type": "code",
   "execution_count": 54,
   "outputs": [
    {
     "data": {
      "text/plain": "WHO Region\nAfrica                    723207\nAmericas                 8839286\nEastern Mediterranean    1490744\nEurope                   3299523\nSouth-East Asia          1835297\nWestern Pacific           292428\nName: Confirmed, dtype: int64"
     },
     "execution_count": 54,
     "metadata": {},
     "output_type": "execute_result"
    }
   ],
   "source": [
    "covid_by_region = covid['Confirmed'].groupby(by=covid['WHO Region'])    #split\n",
    "covid_by_region.sum()"
   ],
   "metadata": {
    "collapsed": false,
    "pycharm": {
     "name": "#%%\n"
    }
   }
  },
  {
   "cell_type": "code",
   "execution_count": 55,
   "outputs": [
    {
     "data": {
      "text/plain": "WHO Region\nAfrica                    15066.812500\nAmericas                 252551.028571\nEastern Mediterranean     67761.090909\nEurope                    58920.053571\nSouth-East Asia          183529.700000\nWestern Pacific           18276.750000\nName: Confirmed, dtype: float64"
     },
     "execution_count": 55,
     "metadata": {},
     "output_type": "execute_result"
    }
   ],
   "source": [
    "covid_by_region.mean()"
   ],
   "metadata": {
    "collapsed": false,
    "pycharm": {
     "name": "#%%\n"
    }
   }
  },
  {
   "cell_type": "markdown",
   "metadata": {},
   "source": [
    "## Mission:\n",
    "### 1. covid 데이터에서 100 case 대비 사망률(`Deaths / 100 Cases`)이 가장 높은 국가는?"
   ]
  },
  {
   "cell_type": "code",
   "execution_count": 63,
   "metadata": {},
   "outputs": [
    {
     "data": {
      "text/plain": "'Yemen'"
     },
     "execution_count": 63,
     "metadata": {},
     "output_type": "execute_result"
    }
   ],
   "source": [
    "covid.sort_values('Deaths / 100 Cases')['Country/Region'].iloc[-1]"
   ]
  },
  {
   "cell_type": "markdown",
   "metadata": {},
   "source": [
    "### 2. covid 데이터에서 신규 확진자가 없는 나라 중 WHO Region이 'Europe'를 모두 출력하면?  \n",
    "Hint : 한 줄에 동시에 두가지 조건을 Apply하는 경우 Warning이 발생할 수 있습니다."
   ]
  },
  {
   "cell_type": "code",
   "execution_count": 80,
   "metadata": {},
   "outputs": [
    {
     "data": {
      "text/plain": "    Country/Region  Confirmed  Deaths  Recovered  Active  New cases  \\\n56         Estonia       2034      69       1923      42          0   \n75        Holy See         12       0         12       0          0   \n95          Latvia       1219      31       1045     143          0   \n100  Liechtenstein         86       1         81       4          0   \n113         Monaco        116       4        104       8          0   \n143     San Marino        699      42        657       0          0   \n157          Spain     272421   28432     150376   93613          0   \n\n     New deaths  New recovered  Deaths / 100 Cases  Recovered / 100 Cases  \\\n56            0              1                3.39                  94.54   \n75            0              0                0.00                 100.00   \n95            0              0                2.54                  85.73   \n100           0              0                1.16                  94.19   \n113           0              0                3.45                  89.66   \n143           0              0                6.01                  93.99   \n157           0              0               10.44                  55.20   \n\n     Deaths / 100 Recovered  Confirmed last week  1 week change  \\\n56                     3.59                 2021             13   \n75                     0.00                   12              0   \n95                     2.97                 1192             27   \n100                    1.23                   86              0   \n113                    3.85                  109              7   \n143                    6.39                  699              0   \n157                   18.91               264836           7585   \n\n     1 week % increase WHO Region  \n56                0.64     Europe  \n75                0.00     Europe  \n95                2.27     Europe  \n100               0.00     Europe  \n113               6.42     Europe  \n143               0.00     Europe  \n157               2.86     Europe  ",
      "text/html": "<div>\n<style scoped>\n    .dataframe tbody tr th:only-of-type {\n        vertical-align: middle;\n    }\n\n    .dataframe tbody tr th {\n        vertical-align: top;\n    }\n\n    .dataframe thead th {\n        text-align: right;\n    }\n</style>\n<table border=\"1\" class=\"dataframe\">\n  <thead>\n    <tr style=\"text-align: right;\">\n      <th></th>\n      <th>Country/Region</th>\n      <th>Confirmed</th>\n      <th>Deaths</th>\n      <th>Recovered</th>\n      <th>Active</th>\n      <th>New cases</th>\n      <th>New deaths</th>\n      <th>New recovered</th>\n      <th>Deaths / 100 Cases</th>\n      <th>Recovered / 100 Cases</th>\n      <th>Deaths / 100 Recovered</th>\n      <th>Confirmed last week</th>\n      <th>1 week change</th>\n      <th>1 week % increase</th>\n      <th>WHO Region</th>\n    </tr>\n  </thead>\n  <tbody>\n    <tr>\n      <th>56</th>\n      <td>Estonia</td>\n      <td>2034</td>\n      <td>69</td>\n      <td>1923</td>\n      <td>42</td>\n      <td>0</td>\n      <td>0</td>\n      <td>1</td>\n      <td>3.39</td>\n      <td>94.54</td>\n      <td>3.59</td>\n      <td>2021</td>\n      <td>13</td>\n      <td>0.64</td>\n      <td>Europe</td>\n    </tr>\n    <tr>\n      <th>75</th>\n      <td>Holy See</td>\n      <td>12</td>\n      <td>0</td>\n      <td>12</td>\n      <td>0</td>\n      <td>0</td>\n      <td>0</td>\n      <td>0</td>\n      <td>0.00</td>\n      <td>100.00</td>\n      <td>0.00</td>\n      <td>12</td>\n      <td>0</td>\n      <td>0.00</td>\n      <td>Europe</td>\n    </tr>\n    <tr>\n      <th>95</th>\n      <td>Latvia</td>\n      <td>1219</td>\n      <td>31</td>\n      <td>1045</td>\n      <td>143</td>\n      <td>0</td>\n      <td>0</td>\n      <td>0</td>\n      <td>2.54</td>\n      <td>85.73</td>\n      <td>2.97</td>\n      <td>1192</td>\n      <td>27</td>\n      <td>2.27</td>\n      <td>Europe</td>\n    </tr>\n    <tr>\n      <th>100</th>\n      <td>Liechtenstein</td>\n      <td>86</td>\n      <td>1</td>\n      <td>81</td>\n      <td>4</td>\n      <td>0</td>\n      <td>0</td>\n      <td>0</td>\n      <td>1.16</td>\n      <td>94.19</td>\n      <td>1.23</td>\n      <td>86</td>\n      <td>0</td>\n      <td>0.00</td>\n      <td>Europe</td>\n    </tr>\n    <tr>\n      <th>113</th>\n      <td>Monaco</td>\n      <td>116</td>\n      <td>4</td>\n      <td>104</td>\n      <td>8</td>\n      <td>0</td>\n      <td>0</td>\n      <td>0</td>\n      <td>3.45</td>\n      <td>89.66</td>\n      <td>3.85</td>\n      <td>109</td>\n      <td>7</td>\n      <td>6.42</td>\n      <td>Europe</td>\n    </tr>\n    <tr>\n      <th>143</th>\n      <td>San Marino</td>\n      <td>699</td>\n      <td>42</td>\n      <td>657</td>\n      <td>0</td>\n      <td>0</td>\n      <td>0</td>\n      <td>0</td>\n      <td>6.01</td>\n      <td>93.99</td>\n      <td>6.39</td>\n      <td>699</td>\n      <td>0</td>\n      <td>0.00</td>\n      <td>Europe</td>\n    </tr>\n    <tr>\n      <th>157</th>\n      <td>Spain</td>\n      <td>272421</td>\n      <td>28432</td>\n      <td>150376</td>\n      <td>93613</td>\n      <td>0</td>\n      <td>0</td>\n      <td>0</td>\n      <td>10.44</td>\n      <td>55.20</td>\n      <td>18.91</td>\n      <td>264836</td>\n      <td>7585</td>\n      <td>2.86</td>\n      <td>Europe</td>\n    </tr>\n  </tbody>\n</table>\n</div>"
     },
     "execution_count": 80,
     "metadata": {},
     "output_type": "execute_result"
    }
   ],
   "source": [
    "tmp = covid[covid['New cases'] == 0]\n",
    "tmp[tmp['WHO Region']=='Europe']"
   ]
  },
  {
   "cell_type": "markdown",
   "metadata": {},
   "source": [
    "### 3. 다음 [데이터](https://www.kaggle.com/neuromusic/avocado-prices)를 이용해 각 Region별로 아보카도가 가장 비싼 평균가격(AveragePrice)을 출력하면?"
   ]
  },
  {
   "cell_type": "code",
   "execution_count": 95,
   "metadata": {},
   "outputs": [
    {
     "data": {
      "text/plain": "       Unnamed: 0        Date  AveragePrice  Total Volume     4046       4225  \\\n0               0  2015-12-27          1.33      64236.62  1036.74   54454.85   \n1               1  2015-12-20          1.35      54876.98   674.28   44638.81   \n2               2  2015-12-13          0.93     118220.22   794.70  109149.67   \n3               3  2015-12-06          1.08      78992.15  1132.00   71976.41   \n4               4  2015-11-29          1.28      51039.60   941.48   43838.39   \n...           ...         ...           ...           ...      ...        ...   \n18244           7  2018-02-04          1.63      17074.83  2046.96    1529.20   \n18245           8  2018-01-28          1.71      13888.04  1191.70    3431.50   \n18246           9  2018-01-21          1.87      13766.76  1191.92    2452.79   \n18247          10  2018-01-14          1.93      16205.22  1527.63    2981.04   \n18248          11  2018-01-07          1.62      17489.58  2894.77    2356.13   \n\n         4770  Total Bags  Small Bags  Large Bags  XLarge Bags          type  \\\n0       48.16     8696.87     8603.62       93.25          0.0  conventional   \n1       58.33     9505.56     9408.07       97.49          0.0  conventional   \n2      130.50     8145.35     8042.21      103.14          0.0  conventional   \n3       72.58     5811.16     5677.40      133.76          0.0  conventional   \n4       75.78     6183.95     5986.26      197.69          0.0  conventional   \n...       ...         ...         ...         ...          ...           ...   \n18244    0.00    13498.67    13066.82      431.85          0.0       organic   \n18245    0.00     9264.84     8940.04      324.80          0.0       organic   \n18246  727.94     9394.11     9351.80       42.31          0.0       organic   \n18247  727.01    10969.54    10919.54       50.00          0.0       organic   \n18248  224.53    12014.15    11988.14       26.01          0.0       organic   \n\n       year            region  \n0      2015            Albany  \n1      2015            Albany  \n2      2015            Albany  \n3      2015            Albany  \n4      2015            Albany  \n...     ...               ...  \n18244  2018  WestTexNewMexico  \n18245  2018  WestTexNewMexico  \n18246  2018  WestTexNewMexico  \n18247  2018  WestTexNewMexico  \n18248  2018  WestTexNewMexico  \n\n[18249 rows x 14 columns]",
      "text/html": "<div>\n<style scoped>\n    .dataframe tbody tr th:only-of-type {\n        vertical-align: middle;\n    }\n\n    .dataframe tbody tr th {\n        vertical-align: top;\n    }\n\n    .dataframe thead th {\n        text-align: right;\n    }\n</style>\n<table border=\"1\" class=\"dataframe\">\n  <thead>\n    <tr style=\"text-align: right;\">\n      <th></th>\n      <th>Unnamed: 0</th>\n      <th>Date</th>\n      <th>AveragePrice</th>\n      <th>Total Volume</th>\n      <th>4046</th>\n      <th>4225</th>\n      <th>4770</th>\n      <th>Total Bags</th>\n      <th>Small Bags</th>\n      <th>Large Bags</th>\n      <th>XLarge Bags</th>\n      <th>type</th>\n      <th>year</th>\n      <th>region</th>\n    </tr>\n  </thead>\n  <tbody>\n    <tr>\n      <th>0</th>\n      <td>0</td>\n      <td>2015-12-27</td>\n      <td>1.33</td>\n      <td>64236.62</td>\n      <td>1036.74</td>\n      <td>54454.85</td>\n      <td>48.16</td>\n      <td>8696.87</td>\n      <td>8603.62</td>\n      <td>93.25</td>\n      <td>0.0</td>\n      <td>conventional</td>\n      <td>2015</td>\n      <td>Albany</td>\n    </tr>\n    <tr>\n      <th>1</th>\n      <td>1</td>\n      <td>2015-12-20</td>\n      <td>1.35</td>\n      <td>54876.98</td>\n      <td>674.28</td>\n      <td>44638.81</td>\n      <td>58.33</td>\n      <td>9505.56</td>\n      <td>9408.07</td>\n      <td>97.49</td>\n      <td>0.0</td>\n      <td>conventional</td>\n      <td>2015</td>\n      <td>Albany</td>\n    </tr>\n    <tr>\n      <th>2</th>\n      <td>2</td>\n      <td>2015-12-13</td>\n      <td>0.93</td>\n      <td>118220.22</td>\n      <td>794.70</td>\n      <td>109149.67</td>\n      <td>130.50</td>\n      <td>8145.35</td>\n      <td>8042.21</td>\n      <td>103.14</td>\n      <td>0.0</td>\n      <td>conventional</td>\n      <td>2015</td>\n      <td>Albany</td>\n    </tr>\n    <tr>\n      <th>3</th>\n      <td>3</td>\n      <td>2015-12-06</td>\n      <td>1.08</td>\n      <td>78992.15</td>\n      <td>1132.00</td>\n      <td>71976.41</td>\n      <td>72.58</td>\n      <td>5811.16</td>\n      <td>5677.40</td>\n      <td>133.76</td>\n      <td>0.0</td>\n      <td>conventional</td>\n      <td>2015</td>\n      <td>Albany</td>\n    </tr>\n    <tr>\n      <th>4</th>\n      <td>4</td>\n      <td>2015-11-29</td>\n      <td>1.28</td>\n      <td>51039.60</td>\n      <td>941.48</td>\n      <td>43838.39</td>\n      <td>75.78</td>\n      <td>6183.95</td>\n      <td>5986.26</td>\n      <td>197.69</td>\n      <td>0.0</td>\n      <td>conventional</td>\n      <td>2015</td>\n      <td>Albany</td>\n    </tr>\n    <tr>\n      <th>...</th>\n      <td>...</td>\n      <td>...</td>\n      <td>...</td>\n      <td>...</td>\n      <td>...</td>\n      <td>...</td>\n      <td>...</td>\n      <td>...</td>\n      <td>...</td>\n      <td>...</td>\n      <td>...</td>\n      <td>...</td>\n      <td>...</td>\n      <td>...</td>\n    </tr>\n    <tr>\n      <th>18244</th>\n      <td>7</td>\n      <td>2018-02-04</td>\n      <td>1.63</td>\n      <td>17074.83</td>\n      <td>2046.96</td>\n      <td>1529.20</td>\n      <td>0.00</td>\n      <td>13498.67</td>\n      <td>13066.82</td>\n      <td>431.85</td>\n      <td>0.0</td>\n      <td>organic</td>\n      <td>2018</td>\n      <td>WestTexNewMexico</td>\n    </tr>\n    <tr>\n      <th>18245</th>\n      <td>8</td>\n      <td>2018-01-28</td>\n      <td>1.71</td>\n      <td>13888.04</td>\n      <td>1191.70</td>\n      <td>3431.50</td>\n      <td>0.00</td>\n      <td>9264.84</td>\n      <td>8940.04</td>\n      <td>324.80</td>\n      <td>0.0</td>\n      <td>organic</td>\n      <td>2018</td>\n      <td>WestTexNewMexico</td>\n    </tr>\n    <tr>\n      <th>18246</th>\n      <td>9</td>\n      <td>2018-01-21</td>\n      <td>1.87</td>\n      <td>13766.76</td>\n      <td>1191.92</td>\n      <td>2452.79</td>\n      <td>727.94</td>\n      <td>9394.11</td>\n      <td>9351.80</td>\n      <td>42.31</td>\n      <td>0.0</td>\n      <td>organic</td>\n      <td>2018</td>\n      <td>WestTexNewMexico</td>\n    </tr>\n    <tr>\n      <th>18247</th>\n      <td>10</td>\n      <td>2018-01-14</td>\n      <td>1.93</td>\n      <td>16205.22</td>\n      <td>1527.63</td>\n      <td>2981.04</td>\n      <td>727.01</td>\n      <td>10969.54</td>\n      <td>10919.54</td>\n      <td>50.00</td>\n      <td>0.0</td>\n      <td>organic</td>\n      <td>2018</td>\n      <td>WestTexNewMexico</td>\n    </tr>\n    <tr>\n      <th>18248</th>\n      <td>11</td>\n      <td>2018-01-07</td>\n      <td>1.62</td>\n      <td>17489.58</td>\n      <td>2894.77</td>\n      <td>2356.13</td>\n      <td>224.53</td>\n      <td>12014.15</td>\n      <td>11988.14</td>\n      <td>26.01</td>\n      <td>0.0</td>\n      <td>organic</td>\n      <td>2018</td>\n      <td>WestTexNewMexico</td>\n    </tr>\n  </tbody>\n</table>\n<p>18249 rows × 14 columns</p>\n</div>"
     },
     "execution_count": 95,
     "metadata": {},
     "output_type": "execute_result"
    }
   ],
   "source": [
    "avocado = pd.read_csv('avocado.csv')\n",
    "avocado"
   ]
  },
  {
   "cell_type": "code",
   "execution_count": 97,
   "outputs": [
    {
     "data": {
      "text/plain": "region\nAlbany                 2.13\nAtlanta                2.75\nBaltimoreWashington    2.28\nBoise                  2.79\nBoston                 2.19\nBuffaloRochester       2.57\nCalifornia             2.58\nCharlotte              2.83\nChicago                2.30\nCincinnatiDayton       2.20\nColumbus               2.22\nDallasFtWorth          1.90\nDenver                 2.16\nDetroit                2.08\nGrandRapids            2.73\nGreatLakes             1.98\nHarrisburgScranton     2.27\nHartfordSpringfield    2.68\nHouston                1.92\nIndianapolis           2.10\nJacksonville           2.99\nLasVegas               3.03\nLosAngeles             2.44\nLouisville             2.29\nMiamiFtLauderdale      3.05\nMidsouth               2.17\nNashville              2.24\nNewOrleansMobile       2.32\nNewYork                2.65\nNortheast              2.31\nNorthernNewEngland     1.96\nOrlando                2.87\nPhiladelphia           2.45\nPhoenixTucson          2.62\nPittsburgh             1.83\nPlains                 2.13\nPortland               2.86\nRaleighGreensboro      3.04\nRichmondNorfolk        2.05\nRoanoke                2.27\nSacramento             2.82\nSanDiego               2.74\nSanFrancisco           3.25\nSeattle                2.96\nSouthCarolina          2.21\nSouthCentral           1.81\nSoutheast              2.33\nSpokane                2.95\nStLouis                2.84\nSyracuse               2.44\nTampa                  3.17\nTotalUS                2.09\nWest                   2.52\nWestTexNewMexico       2.93\nName: AveragePrice, dtype: float64"
     },
     "execution_count": 97,
     "metadata": {},
     "output_type": "execute_result"
    }
   ],
   "source": [
    "avocado['AveragePrice'].groupby(by=avocado['region']).max()"
   ],
   "metadata": {
    "collapsed": false,
    "pycharm": {
     "name": "#%%\n"
    }
   }
  },
  {
   "cell_type": "code",
   "execution_count": null,
   "outputs": [],
   "source": [],
   "metadata": {
    "collapsed": false,
    "pycharm": {
     "name": "#%%\n"
    }
   }
  }
 ],
 "metadata": {
  "kernelspec": {
   "display_name": "Python 3",
   "language": "python",
   "name": "python3"
  },
  "language_info": {
   "codemirror_mode": {
    "name": "ipython",
    "version": 3
   },
   "file_extension": ".py",
   "mimetype": "text/x-python",
   "name": "python",
   "nbconvert_exporter": "python",
   "pygments_lexer": "ipython3",
   "version": "3.9.0"
  }
 },
 "nbformat": 4,
 "nbformat_minor": 4
}