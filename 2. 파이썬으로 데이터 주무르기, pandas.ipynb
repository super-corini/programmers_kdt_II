{
  "nbformat": 4,
  "nbformat_minor": 0,
  "metadata": {
    "kernelspec": {
      "display_name": "Python 3",
      "language": "python",
      "name": "python3"
    },
    "language_info": {
      "codemirror_mode": {
        "name": "ipython",
        "version": 3
      },
      "file_extension": ".py",
      "mimetype": "text/x-python",
      "name": "python",
      "nbconvert_exporter": "python",
      "pygments_lexer": "ipython3",
      "version": "3.9.0"
    },
    "colab": {
      "name": "2. 파이썬으로 데이터 주무르기, pandas.ipynb",
      "provenance": [],
      "collapsed_sections": []
    }
  },
  "cells": [
    {
      "cell_type": "markdown",
      "metadata": {
        "id": "QkzwonqOmVOq"
      },
      "source": [
        "# 2. 파이썬으로 데이터 주무르기, pandas\n",
        "**pandas를 활용해서 데이터프레임을 다뤄봅시다.**"
      ]
    },
    {
      "cell_type": "markdown",
      "metadata": {
        "id": "KqwjTK2NmVOt"
      },
      "source": [
        "1. Pandas 시작하기\n",
        "    - prerequisite : Table\n",
        "    - pandas import하기\n",
        "   \n",
        "2. Pandas로 1차원 데이터 다루기 - Series \n",
        "    - Series 선언하기\n",
        "    - Series vs ndarray\n",
        "    - Series vs dict\n",
        "    - Series에 이름 붙이기\n",
        "3. Pandas로 2차원 데이터 다루기 - dataframe\n",
        "    - dataframe 선언하기\n",
        "    - csv 파일을 dataframe으로! : `to_csv()`\n",
        "    - dataframe 자료 접근하기\n",
        "    - dataframe 정모하기 : `.groupby()`\n",
        "    - dataframe 합치기 : `.merge()` \n",
        "\n",
        "[수업에 사용된 covid 데이터](https://www.kaggle.com/imdevskp/corona-virus-report)"
      ]
    },
    {
      "cell_type": "markdown",
      "metadata": {
        "id": "ErckQhvVmVOu"
      },
      "source": [
        "## I. pandas 시작하기"
      ]
    },
    {
      "cell_type": "markdown",
      "metadata": {
        "id": "ITLxYK4GmVOu"
      },
      "source": [
        "## II. pandas로 1차원 데이터 다루기 - Series"
      ]
    },
    {
      "cell_type": "markdown",
      "metadata": {
        "id": "EZKyy0xzmVOu"
      },
      "source": [
        "## III. Pandas로 2차원 데이터 다루기 - dataframe"
      ]
    },
    {
      "cell_type": "markdown",
      "metadata": {
        "id": "A9KdDemPmVOv"
      },
      "source": [
        "## Mission:\n",
        "### 1. covid 데이터에서 100 case 대비 사망률(`Deaths / 100 Cases`)이 가장 높은 국가는?"
      ]
    },
    {
      "cell_type": "code",
      "metadata": {
        "colab": {
          "base_uri": "https://localhost:8080/"
        },
        "id": "a0WNqxdqmVOv",
        "outputId": "0716c048-04b5-4d8a-c0ee-a4578da63bc0"
      },
      "source": [
        "import pandas as pd\n",
        "\n",
        "# for google drive\n",
        "from google.colab import drive\n",
        "drive.mount('/content/drive')\n",
        "\n",
        "# my path\n",
        "path = \"/content/drive/MyDrive/Colab Notebooks/kdt/week3/country_wise_latest.csv\"\n",
        "\n",
        "covid = pd.read_csv(path) # read csv\n",
        "covid_death_100_cases = covid.sort_values(by=['Deaths / 100 Cases'], ascending=False) # Deaths / 100 Cases 기준으로 정렬\n",
        "covid_death_100_cases['Country/Region'].head(1) # 가장 높은 국가 출력"
      ],
      "execution_count": 61,
      "outputs": [
        {
          "output_type": "stream",
          "text": [
            "Drive already mounted at /content/drive; to attempt to forcibly remount, call drive.mount(\"/content/drive\", force_remount=True).\n"
          ],
          "name": "stdout"
        },
        {
          "output_type": "execute_result",
          "data": {
            "text/plain": [
              "184    Yemen\n",
              "Name: Country/Region, dtype: object"
            ]
          },
          "metadata": {
            "tags": []
          },
          "execution_count": 61
        }
      ]
    },
    {
      "cell_type": "markdown",
      "metadata": {
        "id": "X-Hi3hR7mVOv"
      },
      "source": [
        "### 2. covid 데이터에서 신규 확진자가 없는 나라 중 WHO Region이 'Europe'를 모두 출력하면?  \n",
        "Hint : 한 줄에 동시에 두가지 조건을 Apply하는 경우 Warning이 발생할 수 있습니다."
      ]
    },
    {
      "cell_type": "code",
      "metadata": {
        "colab": {
          "base_uri": "https://localhost:8080/"
        },
        "id": "u26ka7ugmVOw",
        "outputId": "2987c8a8-5e4c-46e6-add4-25da99325e0e"
      },
      "source": [
        "import pandas as pd\n",
        "\n",
        "# for google drive\n",
        "from google.colab import drive\n",
        "drive.mount('/content/drive')\n",
        "\n",
        "# my path\n",
        "path = \"/content/drive/MyDrive/Colab Notebooks/kdt/week3/country_wise_latest.csv\"\n",
        "\n",
        "covid = pd.read_csv(path) # read csv\n",
        "covid_new_recovered_0 = covid[covid['New recovered'] == 0] # 신규 확진자가 없는 나라\n",
        "covid_europe = covid_new_recovered_0[covid['WHO Region'] == 'Europe'] # WHO Region 이 Europe 인 나라\n",
        "covid_europe['Country/Region'] # 출력"
      ],
      "execution_count": 87,
      "outputs": [
        {
          "output_type": "stream",
          "text": [
            "Drive already mounted at /content/drive; to attempt to forcibly remount, call drive.mount(\"/content/drive\", force_remount=True).\n"
          ],
          "name": "stdout"
        },
        {
          "output_type": "stream",
          "text": [
            "/usr/local/lib/python3.7/dist-packages/ipykernel_launcher.py:12: UserWarning: Boolean Series key will be reindexed to match DataFrame index.\n",
            "  if sys.path[0] == '':\n"
          ],
          "name": "stderr"
        },
        {
          "output_type": "execute_result",
          "data": {
            "text/plain": [
              "3            Andorra\n",
              "45            Cyprus\n",
              "46           Czechia\n",
              "60           Finland\n",
              "67            Greece\n",
              "68         Greenland\n",
              "75          Holy See\n",
              "77           Hungary\n",
              "78           Iceland\n",
              "83           Ireland\n",
              "95            Latvia\n",
              "100    Liechtenstein\n",
              "108            Malta\n",
              "113           Monaco\n",
              "120      Netherlands\n",
              "126           Norway\n",
              "143       San Marino\n",
              "147           Serbia\n",
              "157            Spain\n",
              "161           Sweden\n",
              "Name: Country/Region, dtype: object"
            ]
          },
          "metadata": {
            "tags": []
          },
          "execution_count": 87
        }
      ]
    },
    {
      "cell_type": "markdown",
      "metadata": {
        "id": "maOO1BYimVOw"
      },
      "source": [
        "### 3. 다음 [데이터](https://www.kaggle.com/neuromusic/avocado-prices)를 이용해 각 Region별로 아보카도가 가장 비싼 평균가격(AveragePrice)을 출력하면?"
      ]
    },
    {
      "cell_type": "code",
      "metadata": {
        "colab": {
          "base_uri": "https://localhost:8080/"
        },
        "id": "t2m9Z453mVOw",
        "outputId": "d6367031-1075-4ffd-db78-a81f47f846cd"
      },
      "source": [
        "import pandas as pd\n",
        "\n",
        "# for google drive\n",
        "from google.colab import drive\n",
        "drive.mount('/content/drive')\n",
        "\n",
        "# my path\n",
        "path = \"/content/drive/MyDrive/Colab Notebooks/kdt/week3/avocado.csv\"\n",
        "\n",
        "avocado = pd.read_csv(path) # read csv\n",
        "avocado_average_price_max = avocado['AveragePrice'].groupby(by=avocado[\"region\"]).max() # 각 Region 별 AveragePrice\n",
        "avocado_average_price_max.name = \"max(AveragePrice)\"\n",
        "avocado_average_price_max"
      ],
      "execution_count": 86,
      "outputs": [
        {
          "output_type": "stream",
          "text": [
            "Drive already mounted at /content/drive; to attempt to forcibly remount, call drive.mount(\"/content/drive\", force_remount=True).\n"
          ],
          "name": "stdout"
        },
        {
          "output_type": "execute_result",
          "data": {
            "text/plain": [
              "region\n",
              "Albany                 2.13\n",
              "Atlanta                2.75\n",
              "BaltimoreWashington    2.28\n",
              "Boise                  2.79\n",
              "Boston                 2.19\n",
              "BuffaloRochester       2.57\n",
              "California             2.58\n",
              "Charlotte              2.83\n",
              "Chicago                2.30\n",
              "CincinnatiDayton       2.20\n",
              "Columbus               2.22\n",
              "DallasFtWorth          1.90\n",
              "Denver                 2.16\n",
              "Detroit                2.08\n",
              "GrandRapids            2.73\n",
              "GreatLakes             1.98\n",
              "HarrisburgScranton     2.27\n",
              "HartfordSpringfield    2.68\n",
              "Houston                1.92\n",
              "Indianapolis           2.10\n",
              "Jacksonville           2.99\n",
              "LasVegas               3.03\n",
              "LosAngeles             2.44\n",
              "Louisville             2.29\n",
              "MiamiFtLauderdale      3.05\n",
              "Midsouth               2.17\n",
              "Nashville              2.24\n",
              "NewOrleansMobile       2.32\n",
              "NewYork                2.65\n",
              "Northeast              2.31\n",
              "NorthernNewEngland     1.96\n",
              "Orlando                2.87\n",
              "Philadelphia           2.45\n",
              "PhoenixTucson          2.62\n",
              "Pittsburgh             1.83\n",
              "Plains                 2.13\n",
              "Portland               2.86\n",
              "RaleighGreensboro      3.04\n",
              "RichmondNorfolk        2.05\n",
              "Roanoke                2.27\n",
              "Sacramento             2.82\n",
              "SanDiego               2.74\n",
              "SanFrancisco           3.25\n",
              "Seattle                2.96\n",
              "SouthCarolina          2.21\n",
              "SouthCentral           1.81\n",
              "Southeast              2.33\n",
              "Spokane                2.95\n",
              "StLouis                2.84\n",
              "Syracuse               2.44\n",
              "Tampa                  3.17\n",
              "TotalUS                2.09\n",
              "West                   2.52\n",
              "WestTexNewMexico       2.93\n",
              "Name: max(AveragePrice), dtype: float64"
            ]
          },
          "metadata": {
            "tags": []
          },
          "execution_count": 86
        }
      ]
    }
  ]
}