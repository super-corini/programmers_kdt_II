{
 "cells": [
  {
   "cell_type": "markdown",
   "metadata": {},
   "source": [
    "# bicsubi_core_api \n",
    "-  /whoami\n",
    "-  /echo\n",
    "-  /weapon\n",
    "    -  create\n",
    "    -  read\n",
    "    -  update\n",
    "    -  delete\n"
   ]
  },
  {
   "cell_type": "code",
   "execution_count": null,
   "metadata": {},
   "outputs": [
    {
     "name": "stdout",
     "output_type": "stream",
     "text": [
      " * Serving Flask app \"__main__\" (lazy loading)\n",
      " * Environment: production\n",
      "   WARNING: This is a development server. Do not use it in a production deployment.\n",
      "   Use a production WSGI server instead.\n",
      " * Debug mode: off\n"
     ]
    },
    {
     "name": "stderr",
     "output_type": "stream",
     "text": [
      " * Running on http://127.0.0.1:5000/ (Press CTRL+C to quit)\n"
     ]
    }
   ],
   "source": [
    "# 필요한 기본 라이브러리를 불러옴\n",
    "from flask import Flask, jsonify, request"
   ]
  },
  {
   "cell_type": "code",
   "execution_count": null,
   "metadata": {},
   "outputs": [],
   "source": [
    "app = Flask(__name__)\n",
    "# 기본적인 weapon 셋팅\n",
    "weapon = [\n",
    "    {\"id\":1, \"name\":\"Rifle\", \"stock\":3},\n",
    "    {\"id\":2, \"name\":\"Pistol\", \"stock\":4},\n",
    "    {\"id\":3, \"name\":\"Bazooka\", \"stock\":2},\n",
    "]\n",
    "# 현재 무기 종류의 갯수를 파악하기 위한 변수\n",
    "curr_id = len(weapon)"
   ]
  },
  {
   "cell_type": "markdown",
   "metadata": {},
   "source": [
    "## 첫화면\n",
    "Hello World"
   ]
  },
  {
   "cell_type": "code",
   "execution_count": null,
   "metadata": {},
   "outputs": [],
   "source": [
    "@app.route('/')\n",
    "def hello_flask():\n",
    "    return \"Hello World\"\n"
   ]
  },
  {
   "cell_type": "markdown",
   "metadata": {},
   "source": [
    "# /whoami\n",
    "github id 를 return"
   ]
  },
  {
   "cell_type": "code",
   "execution_count": null,
   "metadata": {},
   "outputs": [],
   "source": [
    "@app.route('/whoami')\n",
    "def get_myname():\n",
    "    return jsonify({\"name\" : \"lltera\" })"
   ]
  },
  {
   "cell_type": "markdown",
   "metadata": {},
   "source": [
    "# /echo"
   ]
  },
  {
   "cell_type": "code",
   "execution_count": null,
   "metadata": {},
   "outputs": [],
   "source": [
    "@app.route('/echo')\n",
    "def query_string():\n",
    "    return jsonify({'value' : request.args.get('string')})"
   ]
  },
  {
   "cell_type": "markdown",
   "metadata": {},
   "source": [
    "# /weapon\n",
    "- Read : get 요청시 현재 가지고 있는 모든 무기의 종류와 남은 수량을 볼 수 있다.\n",
    "- Create : 똑같은 종류의 무기가 없다면 무기 리스트에 새 무기를 추가 할 수 있다.\n",
    "@app.route('/weapon/**<int:id>**', methods=['PUT']) <int:id> 이부분을 <str: var> 로 문자열로 받아보려 했는데 실패했습니다 ㅠ\n",
    "- Update : 무기의 id를 입력하고 id에 해당하는 무기의 이름과 남은 수량을 변경할 수 있다.\n",
    "- Delete : 무기의 id를 입력하고 그 id에 무기가 등록되어 있을 경우 해당하는 무기를 리스트에서 삭제할 수 있다."
   ]
  },
  {
   "cell_type": "code",
   "execution_count": null,
   "metadata": {},
   "outputs": [],
   "source": [
    "# Read Weapon\n",
    "@app.route('/weapon')\n",
    "def read_weapon():\n",
    "    return jsonify({\"weapon\" : weapon})\n",
    "# Create Weapon\n",
    "@app.route('/weapon', methods = ['POST'])\n",
    "def create_weapon():\n",
    "    global curr_id\n",
    "    request_data = request.get_json()\n",
    "    \n",
    "    for i in range(curr_id):\n",
    "        if request_data['name'] == weapon[i]['name']:\n",
    "            return jsonify('This weapon is already existed')\n",
    "            break\n",
    "    else:\n",
    "        curr_id += 1\n",
    "        new_weapon = {\n",
    "            \"id\" : curr_id,\n",
    "            \"name\" : request_data['name'],\n",
    "            \"stock\" : request_data['stock'],\n",
    "         }\n",
    "        weapon.append(new_weapon)\n",
    "        return jsonify(new_weapon)\n",
    "# Update Weapon\n",
    "@app.route('/weapon/<int:id>', methods=['PUT'])\n",
    "def update_weapon(id):\n",
    "    update_data = request.get_json()\n",
    "    weapon[id - 1][\"name\"] = update_data[\"name\"]\n",
    "    weapon[id - 1][\"stock\"] = update_data[\"stock\"]\n",
    "    return jsonify(weapon[id - 1])\n",
    "\n",
    "# Delete Weapon\n",
    "@app.route('/weapon/<int:id>', methods=['DELETE'])\n",
    "def delete_weapon(id):\n",
    "    for w in weapon:\n",
    "        if w['id'] == id:\n",
    "            del weapon[weapon.index(w)]\n",
    "            break\n",
    "    else:\n",
    "        return \"there in no weapon\"\n",
    "    return jsonify(weapon)\n",
    "\n",
    "if __name__ == \"__main__\":\n",
    "    app.run()"
   ]
  }
 ],
 "metadata": {
  "kernelspec": {
   "display_name": "Python 3",
   "language": "python",
   "name": "python3"
  },
  "language_info": {
   "codemirror_mode": {
    "name": "ipython",
    "version": 3
   },
   "file_extension": ".py",
   "mimetype": "text/x-python",
   "name": "python",
   "nbconvert_exporter": "python",
   "pygments_lexer": "ipython3",
   "version": "3.8.3"
  }
 },
 "nbformat": 4,
 "nbformat_minor": 4
}
