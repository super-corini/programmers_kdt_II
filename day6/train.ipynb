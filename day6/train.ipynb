{
 "metadata": {
  "language_info": {
   "codemirror_mode": {
    "name": "ipython",
    "version": 3
   },
   "file_extension": ".py",
   "mimetype": "text/x-python",
   "name": "python",
   "nbconvert_exporter": "python",
   "pygments_lexer": "ipython3",
   "version": "3.8.6"
  },
  "orig_nbformat": 2,
  "kernelspec": {
   "name": "python386jvsc74a57bd05b9ca35c65358665e69084a47faf91fd17646a7b8f80941e0304d36bd78a7f83",
   "display_name": "Python 3.8.6 64-bit"
  }
 },
 "nbformat": 4,
 "nbformat_minor": 2,
 "cells": [
  {
   "cell_type": "code",
   "execution_count": 1,
   "metadata": {},
   "outputs": [],
   "source": [
    "import pandas as pd \n",
    "train = pd.read_csv('train.csv', index_col=0)\n",
    "test = pd.read_csv('test.csv', index_col=0)\n",
    "sub = pd.read_csv('gender_submission.csv', index_col=0)"
   ]
  },
  {
   "cell_type": "code",
   "execution_count": 2,
   "metadata": {},
   "outputs": [],
   "source": [
    "train_x = train.drop(columns=['Survived', 'Name', 'Ticket', 'Cabin']).copy()\n",
    "train_y = train['Survived'].copy()"
   ]
  },
  {
   "cell_type": "code",
   "execution_count": 3,
   "metadata": {},
   "outputs": [],
   "source": [
    "train_x['Sex'] = train_x['Sex'].astype('category').cat.codes\n",
    "train_x['Embarked'] = train_x['Embarked'].astype('category').cat.codes"
   ]
  },
  {
   "cell_type": "code",
   "execution_count": 4,
   "metadata": {},
   "outputs": [],
   "source": [
    "test_x = test.drop(columns=['Name', 'Ticket', 'Cabin']).copy()\n",
    "test_x['Sex'] = test_x['Sex'].astype('category').cat.codes\n",
    "test_x['Embarked'] = test_x['Embarked'].astype('category').cat.codes"
   ]
  },
  {
   "cell_type": "code",
   "execution_count": 5,
   "metadata": {},
   "outputs": [],
   "source": [
    "from sklearn.model_selection import StratifiedKFold\n",
    "random_state = 42\n",
    "skf = StratifiedKFold(n_splits=5, random_state=random_state, shuffle=True)\n",
    "idxs = []\n",
    "for train_idx, valid_idx in skf.split(train_x, train_y):\n",
    "    idxs.append([train_idx, valid_idx])"
   ]
  },
  {
   "cell_type": "code",
   "execution_count": 6,
   "metadata": {},
   "outputs": [],
   "source": [
    "import lightgbm as lgb"
   ]
  },
  {
   "cell_type": "code",
   "execution_count": 7,
   "metadata": {},
   "outputs": [
    {
     "output_type": "stream",
     "name": "stdout",
     "text": [
      "0.8547486033519553\n",
      "0.848314606741573\n",
      "0.7865168539325843\n",
      "0.8314606741573034\n",
      "0.8426966292134831\n"
     ]
    }
   ],
   "source": [
    "import numpy as np \n",
    "test_ys = np.zeros([test_x.shape[0], 2])\n",
    "for i in range(5):\n",
    "    train_xi, train_yi = train_x.iloc[idxs[i][0]], train_y.iloc[idxs[i][0]]\n",
    "    valid_xi, valid_yi = train_x.iloc[idxs[i][1]], train_y.iloc[idxs[i][1]]\n",
    "\n",
    "    lgbmcls = lgb.LGBMClassifier(boosting_type='dart')\n",
    "    lgbmcls.fit(train_xi, train_yi)\n",
    "    valid_y_pred = lgbmcls.predict(valid_xi)\n",
    "    print((valid_y_pred == valid_yi).sum() / valid_yi.shape[0])\n",
    "    test_yi = lgbmcls.predict_proba(test_x)\n",
    "    test_ys += test_yi\n",
    "\n",
    "test_ys /= 5"
   ]
  },
  {
   "cell_type": "code",
   "execution_count": 8,
   "metadata": {},
   "outputs": [],
   "source": [
    "test_out = []\n",
    "for i in test_ys:\n",
    "    test_out.append(0 if i[0] > i[1] else 1)"
   ]
  },
  {
   "cell_type": "code",
   "execution_count": 9,
   "metadata": {},
   "outputs": [],
   "source": [
    "test_y = pd.Series(test_out, index=test_x.index, name='Survived')\n",
    "test_y.to_csv('test_submission.csv')"
   ]
  },
  {
   "cell_type": "code",
   "execution_count": 10,
   "metadata": {},
   "outputs": [
    {
     "output_type": "execute_result",
     "data": {
      "text/plain": [
       "             Survived\n",
       "PassengerId          \n",
       "892                 0\n",
       "893                 0\n",
       "894                 0\n",
       "895                 0\n",
       "896                 0"
      ],
      "text/html": "<div>\n<style scoped>\n    .dataframe tbody tr th:only-of-type {\n        vertical-align: middle;\n    }\n\n    .dataframe tbody tr th {\n        vertical-align: top;\n    }\n\n    .dataframe thead th {\n        text-align: right;\n    }\n</style>\n<table border=\"1\" class=\"dataframe\">\n  <thead>\n    <tr style=\"text-align: right;\">\n      <th></th>\n      <th>Survived</th>\n    </tr>\n    <tr>\n      <th>PassengerId</th>\n      <th></th>\n    </tr>\n  </thead>\n  <tbody>\n    <tr>\n      <th>892</th>\n      <td>0</td>\n    </tr>\n    <tr>\n      <th>893</th>\n      <td>0</td>\n    </tr>\n    <tr>\n      <th>894</th>\n      <td>0</td>\n    </tr>\n    <tr>\n      <th>895</th>\n      <td>0</td>\n    </tr>\n    <tr>\n      <th>896</th>\n      <td>0</td>\n    </tr>\n  </tbody>\n</table>\n</div>"
     },
     "metadata": {},
     "execution_count": 10
    }
   ],
   "source": [
    "saved_csv = pd.read_csv('test_submission.csv', index_col=0)\n",
    "saved_csv.head()"
   ]
  },
  {
   "cell_type": "code",
   "execution_count": null,
   "metadata": {},
   "outputs": [],
   "source": []
  }
 ]
}