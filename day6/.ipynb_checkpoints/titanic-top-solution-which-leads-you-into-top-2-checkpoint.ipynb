{
 "cells": [
  {
   "cell_type": "code",
   "execution_count": 1,
   "metadata": {
    "_cell_guid": "b1076dfc-b9ad-4769-8c92-a6c4dae69d19",
    "_uuid": "8f2839f25d086af736a60e9eeb907d3b93b6e0e5",
    "execution": {
     "iopub.execute_input": "2021-05-07T10:40:38.847916Z",
     "iopub.status.busy": "2021-05-07T10:40:38.846579Z",
     "iopub.status.idle": "2021-05-07T10:40:38.855811Z",
     "shell.execute_reply": "2021-05-07T10:40:38.856440Z"
    },
    "papermill": {
     "duration": 0.036707,
     "end_time": "2021-05-07T10:40:38.857791",
     "exception": false,
     "start_time": "2021-05-07T10:40:38.821084",
     "status": "completed"
    },
    "tags": []
   },
   "outputs": [
    {
     "name": "stdout",
     "output_type": "stream",
     "text": [
      "/kaggle/input/titanic/train.csv\n",
      "/kaggle/input/titanic/test.csv\n",
      "/kaggle/input/titanic/gender_submission.csv\n"
     ]
    }
   ],
   "source": [
    "# This Python 3 environment comes with many helpful analytics libraries installed\n",
    "# It is defined by the kaggle/python Docker image: https://github.com/kaggle/docker-python\n",
    "# For example, here's several helpful packages to load\n",
    "\n",
    "import numpy as np # linear algebra\n",
    "import pandas as pd # data processing, CSV file I/O (e.g. pd.read_csv)\n",
    "\n",
    "# Input data files are available in the read-only \"../input/\" directory\n",
    "# For example, running this (by clicking run or pressing Shift+Enter) will list all files under the input directory\n",
    "\n",
    "import os\n",
    "for dirname, _, filenames in os.walk('/kaggle/input'):\n",
    "    for filename in filenames:\n",
    "        print(os.path.join(dirname, filename))\n",
    "\n",
    "# You can write up to 20GB to the current directory (/kaggle/working/) that gets preserved as output when you create a version using \"Save & Run All\" \n",
    "# You can also write temporary files to /kaggle/temp/, but they won't be saved outside of the current session"
   ]
  },
  {
   "cell_type": "code",
   "execution_count": 2,
   "metadata": {
    "execution": {
     "iopub.execute_input": "2021-05-07T10:40:38.908965Z",
     "iopub.status.busy": "2021-05-07T10:40:38.907963Z",
     "iopub.status.idle": "2021-05-07T10:40:41.226442Z",
     "shell.execute_reply": "2021-05-07T10:40:41.225618Z"
    },
    "papermill": {
     "duration": 2.347635,
     "end_time": "2021-05-07T10:40:41.226611",
     "exception": false,
     "start_time": "2021-05-07T10:40:38.878976",
     "status": "completed"
    },
    "tags": []
   },
   "outputs": [
    {
     "name": "stdout",
     "output_type": "stream",
     "text": [
      "['titanic']\n"
     ]
    }
   ],
   "source": [
    "import seaborn as sns\n",
    "import io\n",
    "import requests\n",
    "import re\n",
    "import warnings\n",
    "import os\n",
    "print(os.listdir(\"../input\"))\n",
    "import plotly.express as px\n",
    "import plotly.graph_objects as go\n",
    "import plotly.io as pio\n",
    "pio.templates\n",
    "\n",
    "import matplotlib.pyplot as plt\n",
    "%matplotlib inline\n",
    "plt.style.use('seaborn-notebook')\n",
    "from matplotlib.ticker import StrMethodFormatter\n",
    "from sklearn.preprocessing import StandardScaler, MinMaxScaler, LabelBinarizer"
   ]
  },
  {
   "cell_type": "code",
   "execution_count": 3,
   "metadata": {
    "execution": {
     "iopub.execute_input": "2021-05-07T10:40:41.271910Z",
     "iopub.status.busy": "2021-05-07T10:40:41.271212Z",
     "iopub.status.idle": "2021-05-07T10:40:41.330274Z",
     "shell.execute_reply": "2021-05-07T10:40:41.329725Z"
    },
    "papermill": {
     "duration": 0.083839,
     "end_time": "2021-05-07T10:40:41.330422",
     "exception": false,
     "start_time": "2021-05-07T10:40:41.246583",
     "status": "completed"
    },
    "tags": []
   },
   "outputs": [
    {
     "data": {
      "text/html": [
       "<div>\n",
       "<style scoped>\n",
       "    .dataframe tbody tr th:only-of-type {\n",
       "        vertical-align: middle;\n",
       "    }\n",
       "\n",
       "    .dataframe tbody tr th {\n",
       "        vertical-align: top;\n",
       "    }\n",
       "\n",
       "    .dataframe thead th {\n",
       "        text-align: right;\n",
       "    }\n",
       "</style>\n",
       "<table border=\"1\" class=\"dataframe\">\n",
       "  <thead>\n",
       "    <tr style=\"text-align: right;\">\n",
       "      <th></th>\n",
       "      <th>PassengerId</th>\n",
       "      <th>Survived</th>\n",
       "      <th>Pclass</th>\n",
       "      <th>Name</th>\n",
       "      <th>Sex</th>\n",
       "      <th>Age</th>\n",
       "      <th>SibSp</th>\n",
       "      <th>Parch</th>\n",
       "      <th>Ticket</th>\n",
       "      <th>Fare</th>\n",
       "      <th>Cabin</th>\n",
       "      <th>Embarked</th>\n",
       "    </tr>\n",
       "  </thead>\n",
       "  <tbody>\n",
       "    <tr>\n",
       "      <th>0</th>\n",
       "      <td>1</td>\n",
       "      <td>0</td>\n",
       "      <td>3</td>\n",
       "      <td>Braund, Mr. Owen Harris</td>\n",
       "      <td>male</td>\n",
       "      <td>22.0</td>\n",
       "      <td>1</td>\n",
       "      <td>0</td>\n",
       "      <td>A/5 21171</td>\n",
       "      <td>7.2500</td>\n",
       "      <td>NaN</td>\n",
       "      <td>S</td>\n",
       "    </tr>\n",
       "    <tr>\n",
       "      <th>1</th>\n",
       "      <td>2</td>\n",
       "      <td>1</td>\n",
       "      <td>1</td>\n",
       "      <td>Cumings, Mrs. John Bradley (Florence Briggs Th...</td>\n",
       "      <td>female</td>\n",
       "      <td>38.0</td>\n",
       "      <td>1</td>\n",
       "      <td>0</td>\n",
       "      <td>PC 17599</td>\n",
       "      <td>71.2833</td>\n",
       "      <td>C85</td>\n",
       "      <td>C</td>\n",
       "    </tr>\n",
       "    <tr>\n",
       "      <th>2</th>\n",
       "      <td>3</td>\n",
       "      <td>1</td>\n",
       "      <td>3</td>\n",
       "      <td>Heikkinen, Miss. Laina</td>\n",
       "      <td>female</td>\n",
       "      <td>26.0</td>\n",
       "      <td>0</td>\n",
       "      <td>0</td>\n",
       "      <td>STON/O2. 3101282</td>\n",
       "      <td>7.9250</td>\n",
       "      <td>NaN</td>\n",
       "      <td>S</td>\n",
       "    </tr>\n",
       "    <tr>\n",
       "      <th>3</th>\n",
       "      <td>4</td>\n",
       "      <td>1</td>\n",
       "      <td>1</td>\n",
       "      <td>Futrelle, Mrs. Jacques Heath (Lily May Peel)</td>\n",
       "      <td>female</td>\n",
       "      <td>35.0</td>\n",
       "      <td>1</td>\n",
       "      <td>0</td>\n",
       "      <td>113803</td>\n",
       "      <td>53.1000</td>\n",
       "      <td>C123</td>\n",
       "      <td>S</td>\n",
       "    </tr>\n",
       "    <tr>\n",
       "      <th>4</th>\n",
       "      <td>5</td>\n",
       "      <td>0</td>\n",
       "      <td>3</td>\n",
       "      <td>Allen, Mr. William Henry</td>\n",
       "      <td>male</td>\n",
       "      <td>35.0</td>\n",
       "      <td>0</td>\n",
       "      <td>0</td>\n",
       "      <td>373450</td>\n",
       "      <td>8.0500</td>\n",
       "      <td>NaN</td>\n",
       "      <td>S</td>\n",
       "    </tr>\n",
       "  </tbody>\n",
       "</table>\n",
       "</div>"
      ],
      "text/plain": [
       "   PassengerId  Survived  Pclass  \\\n",
       "0            1         0       3   \n",
       "1            2         1       1   \n",
       "2            3         1       3   \n",
       "3            4         1       1   \n",
       "4            5         0       3   \n",
       "\n",
       "                                                Name     Sex   Age  SibSp  \\\n",
       "0                            Braund, Mr. Owen Harris    male  22.0      1   \n",
       "1  Cumings, Mrs. John Bradley (Florence Briggs Th...  female  38.0      1   \n",
       "2                             Heikkinen, Miss. Laina  female  26.0      0   \n",
       "3       Futrelle, Mrs. Jacques Heath (Lily May Peel)  female  35.0      1   \n",
       "4                           Allen, Mr. William Henry    male  35.0      0   \n",
       "\n",
       "   Parch            Ticket     Fare Cabin Embarked  \n",
       "0      0         A/5 21171   7.2500   NaN        S  \n",
       "1      0          PC 17599  71.2833   C85        C  \n",
       "2      0  STON/O2. 3101282   7.9250   NaN        S  \n",
       "3      0            113803  53.1000  C123        S  \n",
       "4      0            373450   8.0500   NaN        S  "
      ]
     },
     "execution_count": 3,
     "metadata": {},
     "output_type": "execute_result"
    }
   ],
   "source": [
    "train_data = pd.read_csv(\"/kaggle/input/titanic/train.csv\")\n",
    "train_data.head()"
   ]
  },
  {
   "cell_type": "code",
   "execution_count": 4,
   "metadata": {
    "execution": {
     "iopub.execute_input": "2021-05-07T10:40:41.376937Z",
     "iopub.status.busy": "2021-05-07T10:40:41.376148Z",
     "iopub.status.idle": "2021-05-07T10:40:41.405407Z",
     "shell.execute_reply": "2021-05-07T10:40:41.404245Z"
    },
    "papermill": {
     "duration": 0.05433,
     "end_time": "2021-05-07T10:40:41.405585",
     "exception": false,
     "start_time": "2021-05-07T10:40:41.351255",
     "status": "completed"
    },
    "tags": []
   },
   "outputs": [
    {
     "data": {
      "text/html": [
       "<div>\n",
       "<style scoped>\n",
       "    .dataframe tbody tr th:only-of-type {\n",
       "        vertical-align: middle;\n",
       "    }\n",
       "\n",
       "    .dataframe tbody tr th {\n",
       "        vertical-align: top;\n",
       "    }\n",
       "\n",
       "    .dataframe thead th {\n",
       "        text-align: right;\n",
       "    }\n",
       "</style>\n",
       "<table border=\"1\" class=\"dataframe\">\n",
       "  <thead>\n",
       "    <tr style=\"text-align: right;\">\n",
       "      <th></th>\n",
       "      <th>PassengerId</th>\n",
       "      <th>Pclass</th>\n",
       "      <th>Name</th>\n",
       "      <th>Sex</th>\n",
       "      <th>Age</th>\n",
       "      <th>SibSp</th>\n",
       "      <th>Parch</th>\n",
       "      <th>Ticket</th>\n",
       "      <th>Fare</th>\n",
       "      <th>Cabin</th>\n",
       "      <th>Embarked</th>\n",
       "    </tr>\n",
       "  </thead>\n",
       "  <tbody>\n",
       "    <tr>\n",
       "      <th>0</th>\n",
       "      <td>892</td>\n",
       "      <td>3</td>\n",
       "      <td>Kelly, Mr. James</td>\n",
       "      <td>male</td>\n",
       "      <td>34.5</td>\n",
       "      <td>0</td>\n",
       "      <td>0</td>\n",
       "      <td>330911</td>\n",
       "      <td>7.8292</td>\n",
       "      <td>NaN</td>\n",
       "      <td>Q</td>\n",
       "    </tr>\n",
       "    <tr>\n",
       "      <th>1</th>\n",
       "      <td>893</td>\n",
       "      <td>3</td>\n",
       "      <td>Wilkes, Mrs. James (Ellen Needs)</td>\n",
       "      <td>female</td>\n",
       "      <td>47.0</td>\n",
       "      <td>1</td>\n",
       "      <td>0</td>\n",
       "      <td>363272</td>\n",
       "      <td>7.0000</td>\n",
       "      <td>NaN</td>\n",
       "      <td>S</td>\n",
       "    </tr>\n",
       "    <tr>\n",
       "      <th>2</th>\n",
       "      <td>894</td>\n",
       "      <td>2</td>\n",
       "      <td>Myles, Mr. Thomas Francis</td>\n",
       "      <td>male</td>\n",
       "      <td>62.0</td>\n",
       "      <td>0</td>\n",
       "      <td>0</td>\n",
       "      <td>240276</td>\n",
       "      <td>9.6875</td>\n",
       "      <td>NaN</td>\n",
       "      <td>Q</td>\n",
       "    </tr>\n",
       "    <tr>\n",
       "      <th>3</th>\n",
       "      <td>895</td>\n",
       "      <td>3</td>\n",
       "      <td>Wirz, Mr. Albert</td>\n",
       "      <td>male</td>\n",
       "      <td>27.0</td>\n",
       "      <td>0</td>\n",
       "      <td>0</td>\n",
       "      <td>315154</td>\n",
       "      <td>8.6625</td>\n",
       "      <td>NaN</td>\n",
       "      <td>S</td>\n",
       "    </tr>\n",
       "    <tr>\n",
       "      <th>4</th>\n",
       "      <td>896</td>\n",
       "      <td>3</td>\n",
       "      <td>Hirvonen, Mrs. Alexander (Helga E Lindqvist)</td>\n",
       "      <td>female</td>\n",
       "      <td>22.0</td>\n",
       "      <td>1</td>\n",
       "      <td>1</td>\n",
       "      <td>3101298</td>\n",
       "      <td>12.2875</td>\n",
       "      <td>NaN</td>\n",
       "      <td>S</td>\n",
       "    </tr>\n",
       "  </tbody>\n",
       "</table>\n",
       "</div>"
      ],
      "text/plain": [
       "   PassengerId  Pclass                                          Name     Sex  \\\n",
       "0          892       3                              Kelly, Mr. James    male   \n",
       "1          893       3              Wilkes, Mrs. James (Ellen Needs)  female   \n",
       "2          894       2                     Myles, Mr. Thomas Francis    male   \n",
       "3          895       3                              Wirz, Mr. Albert    male   \n",
       "4          896       3  Hirvonen, Mrs. Alexander (Helga E Lindqvist)  female   \n",
       "\n",
       "    Age  SibSp  Parch   Ticket     Fare Cabin Embarked  \n",
       "0  34.5      0      0   330911   7.8292   NaN        Q  \n",
       "1  47.0      1      0   363272   7.0000   NaN        S  \n",
       "2  62.0      0      0   240276   9.6875   NaN        Q  \n",
       "3  27.0      0      0   315154   8.6625   NaN        S  \n",
       "4  22.0      1      1  3101298  12.2875   NaN        S  "
      ]
     },
     "execution_count": 4,
     "metadata": {},
     "output_type": "execute_result"
    }
   ],
   "source": [
    "test_data = pd.read_csv(\"/kaggle/input/titanic/test.csv\")\n",
    "test_data.head()"
   ]
  },
  {
   "cell_type": "code",
   "execution_count": 5,
   "metadata": {
    "execution": {
     "iopub.execute_input": "2021-05-07T10:40:41.456741Z",
     "iopub.status.busy": "2021-05-07T10:40:41.455654Z",
     "iopub.status.idle": "2021-05-07T10:40:41.460424Z",
     "shell.execute_reply": "2021-05-07T10:40:41.459742Z"
    },
    "papermill": {
     "duration": 0.033279,
     "end_time": "2021-05-07T10:40:41.460580",
     "exception": false,
     "start_time": "2021-05-07T10:40:41.427301",
     "status": "completed"
    },
    "tags": []
   },
   "outputs": [
    {
     "data": {
      "text/plain": [
       "Index(['PassengerId', 'Survived', 'Pclass', 'Name', 'Sex', 'Age', 'SibSp',\n",
       "       'Parch', 'Ticket', 'Fare', 'Cabin', 'Embarked'],\n",
       "      dtype='object')"
      ]
     },
     "execution_count": 5,
     "metadata": {},
     "output_type": "execute_result"
    }
   ],
   "source": [
    "train_data.columns"
   ]
  },
  {
   "cell_type": "code",
   "execution_count": 6,
   "metadata": {
    "execution": {
     "iopub.execute_input": "2021-05-07T10:40:41.511014Z",
     "iopub.status.busy": "2021-05-07T10:40:41.509946Z",
     "iopub.status.idle": "2021-05-07T10:40:41.514617Z",
     "shell.execute_reply": "2021-05-07T10:40:41.513979Z"
    },
    "papermill": {
     "duration": 0.032344,
     "end_time": "2021-05-07T10:40:41.514757",
     "exception": false,
     "start_time": "2021-05-07T10:40:41.482413",
     "status": "completed"
    },
    "tags": []
   },
   "outputs": [
    {
     "data": {
      "text/plain": [
       "Index(['PassengerId', 'Pclass', 'Name', 'Sex', 'Age', 'SibSp', 'Parch',\n",
       "       'Ticket', 'Fare', 'Cabin', 'Embarked'],\n",
       "      dtype='object')"
      ]
     },
     "execution_count": 6,
     "metadata": {},
     "output_type": "execute_result"
    }
   ],
   "source": [
    "test_data.columns"
   ]
  },
  {
   "cell_type": "code",
   "execution_count": 7,
   "metadata": {
    "execution": {
     "iopub.execute_input": "2021-05-07T10:40:41.565027Z",
     "iopub.status.busy": "2021-05-07T10:40:41.564311Z",
     "iopub.status.idle": "2021-05-07T10:40:41.584332Z",
     "shell.execute_reply": "2021-05-07T10:40:41.583642Z"
    },
    "papermill": {
     "duration": 0.047376,
     "end_time": "2021-05-07T10:40:41.584484",
     "exception": false,
     "start_time": "2021-05-07T10:40:41.537108",
     "status": "completed"
    },
    "tags": []
   },
   "outputs": [
    {
     "data": {
      "text/html": [
       "<div>\n",
       "<style scoped>\n",
       "    .dataframe tbody tr th:only-of-type {\n",
       "        vertical-align: middle;\n",
       "    }\n",
       "\n",
       "    .dataframe tbody tr th {\n",
       "        vertical-align: top;\n",
       "    }\n",
       "\n",
       "    .dataframe thead th {\n",
       "        text-align: right;\n",
       "    }\n",
       "</style>\n",
       "<table border=\"1\" class=\"dataframe\">\n",
       "  <thead>\n",
       "    <tr style=\"text-align: right;\">\n",
       "      <th></th>\n",
       "      <th>PassengerId</th>\n",
       "      <th>Survived</th>\n",
       "    </tr>\n",
       "  </thead>\n",
       "  <tbody>\n",
       "    <tr>\n",
       "      <th>0</th>\n",
       "      <td>892</td>\n",
       "      <td>0</td>\n",
       "    </tr>\n",
       "    <tr>\n",
       "      <th>1</th>\n",
       "      <td>893</td>\n",
       "      <td>1</td>\n",
       "    </tr>\n",
       "    <tr>\n",
       "      <th>2</th>\n",
       "      <td>894</td>\n",
       "      <td>0</td>\n",
       "    </tr>\n",
       "    <tr>\n",
       "      <th>3</th>\n",
       "      <td>895</td>\n",
       "      <td>0</td>\n",
       "    </tr>\n",
       "    <tr>\n",
       "      <th>4</th>\n",
       "      <td>896</td>\n",
       "      <td>1</td>\n",
       "    </tr>\n",
       "  </tbody>\n",
       "</table>\n",
       "</div>"
      ],
      "text/plain": [
       "   PassengerId  Survived\n",
       "0          892         0\n",
       "1          893         1\n",
       "2          894         0\n",
       "3          895         0\n",
       "4          896         1"
      ]
     },
     "execution_count": 7,
     "metadata": {},
     "output_type": "execute_result"
    }
   ],
   "source": [
    "gender_data = pd.read_csv(\"/kaggle/input/titanic/gender_submission.csv\")\n",
    "gender_data.head()"
   ]
  },
  {
   "cell_type": "code",
   "execution_count": 8,
   "metadata": {
    "execution": {
     "iopub.execute_input": "2021-05-07T10:40:41.637263Z",
     "iopub.status.busy": "2021-05-07T10:40:41.636279Z",
     "iopub.status.idle": "2021-05-07T10:40:41.641686Z",
     "shell.execute_reply": "2021-05-07T10:40:41.640995Z"
    },
    "papermill": {
     "duration": 0.034107,
     "end_time": "2021-05-07T10:40:41.641843",
     "exception": false,
     "start_time": "2021-05-07T10:40:41.607736",
     "status": "completed"
    },
    "tags": []
   },
   "outputs": [
    {
     "data": {
      "text/plain": [
       "Index(['PassengerId', 'Survived'], dtype='object')"
      ]
     },
     "execution_count": 8,
     "metadata": {},
     "output_type": "execute_result"
    }
   ],
   "source": [
    "gender_data.columns"
   ]
  },
  {
   "cell_type": "code",
   "execution_count": 9,
   "metadata": {
    "execution": {
     "iopub.execute_input": "2021-05-07T10:40:41.697084Z",
     "iopub.status.busy": "2021-05-07T10:40:41.696038Z",
     "iopub.status.idle": "2021-05-07T10:40:41.700551Z",
     "shell.execute_reply": "2021-05-07T10:40:41.701393Z"
    },
    "papermill": {
     "duration": 0.036347,
     "end_time": "2021-05-07T10:40:41.701649",
     "exception": false,
     "start_time": "2021-05-07T10:40:41.665302",
     "status": "completed"
    },
    "tags": []
   },
   "outputs": [
    {
     "name": "stdout",
     "output_type": "stream",
     "text": [
      "% of women who survived: 0.7420382165605095\n"
     ]
    }
   ],
   "source": [
    "women = train_data.loc[train_data.Sex == 'female'][\"Survived\"]\n",
    "rate_women = sum(women)/len(women)\n",
    "\n",
    "print(\"% of women who survived:\", rate_women)"
   ]
  },
  {
   "cell_type": "code",
   "execution_count": 10,
   "metadata": {
    "execution": {
     "iopub.execute_input": "2021-05-07T10:40:41.758777Z",
     "iopub.status.busy": "2021-05-07T10:40:41.757785Z",
     "iopub.status.idle": "2021-05-07T10:40:41.762818Z",
     "shell.execute_reply": "2021-05-07T10:40:41.762286Z"
    },
    "papermill": {
     "duration": 0.036335,
     "end_time": "2021-05-07T10:40:41.762964",
     "exception": false,
     "start_time": "2021-05-07T10:40:41.726629",
     "status": "completed"
    },
    "tags": []
   },
   "outputs": [
    {
     "name": "stdout",
     "output_type": "stream",
     "text": [
      "% of men who survived: 0.18890814558058924\n"
     ]
    }
   ],
   "source": [
    "men = train_data.loc[train_data.Sex == 'male'][\"Survived\"]\n",
    "rate_men = sum(men)/len(men)\n",
    "\n",
    "print(\"% of men who survived:\", rate_men)"
   ]
  },
  {
   "cell_type": "code",
   "execution_count": 11,
   "metadata": {
    "execution": {
     "iopub.execute_input": "2021-05-07T10:40:41.823535Z",
     "iopub.status.busy": "2021-05-07T10:40:41.822831Z",
     "iopub.status.idle": "2021-05-07T10:40:41.830051Z",
     "shell.execute_reply": "2021-05-07T10:40:41.830605Z"
    },
    "papermill": {
     "duration": 0.043088,
     "end_time": "2021-05-07T10:40:41.830786",
     "exception": false,
     "start_time": "2021-05-07T10:40:41.787698",
     "status": "completed"
    },
    "tags": []
   },
   "outputs": [],
   "source": [
    "data = [train_data, test_data]\n",
    "for dataset in data:\n",
    "    mean = train_data[\"Age\"].mean()\n",
    "    std = test_data[\"Age\"].std()\n",
    "    is_null = dataset[\"Age\"].isnull().sum()\n",
    "    # compute random numbers between the mean, std and is_null\n",
    "    rand_age = np.random.randint(mean - std, mean + std, size = is_null)\n",
    "    # fill NaN values in Age column with random values generated\n",
    "    age_slice = dataset[\"Age\"].copy()\n",
    "    age_slice[np.isnan(age_slice)] = rand_age\n",
    "    dataset[\"Age\"] = age_slice\n",
    "    dataset[\"Age\"] = train_data[\"Age\"].astype(int)"
   ]
  },
  {
   "cell_type": "code",
   "execution_count": 12,
   "metadata": {
    "execution": {
     "iopub.execute_input": "2021-05-07T10:40:41.903307Z",
     "iopub.status.busy": "2021-05-07T10:40:41.902066Z",
     "iopub.status.idle": "2021-05-07T10:40:42.726767Z",
     "shell.execute_reply": "2021-05-07T10:40:42.726211Z"
    },
    "papermill": {
     "duration": 0.860602,
     "end_time": "2021-05-07T10:40:42.726923",
     "exception": false,
     "start_time": "2021-05-07T10:40:41.866321",
     "status": "completed"
    },
    "tags": []
   },
   "outputs": [
    {
     "name": "stderr",
     "output_type": "stream",
     "text": [
      "/opt/conda/lib/python3.7/site-packages/seaborn/distributions.py:2557: FutureWarning: `distplot` is a deprecated function and will be removed in a future version. Please adapt your code to use either `displot` (a figure-level function with similar flexibility) or `histplot` (an axes-level function for histograms).\n",
      "  warnings.warn(msg, FutureWarning)\n",
      "/opt/conda/lib/python3.7/site-packages/seaborn/distributions.py:2557: FutureWarning: `distplot` is a deprecated function and will be removed in a future version. Please adapt your code to use either `displot` (a figure-level function with similar flexibility) or `histplot` (an axes-level function for histograms).\n",
      "  warnings.warn(msg, FutureWarning)\n",
      "/opt/conda/lib/python3.7/site-packages/seaborn/distributions.py:2557: FutureWarning: `distplot` is a deprecated function and will be removed in a future version. Please adapt your code to use either `displot` (a figure-level function with similar flexibility) or `histplot` (an axes-level function for histograms).\n",
      "  warnings.warn(msg, FutureWarning)\n",
      "/opt/conda/lib/python3.7/site-packages/seaborn/distributions.py:2557: FutureWarning: `distplot` is a deprecated function and will be removed in a future version. Please adapt your code to use either `displot` (a figure-level function with similar flexibility) or `histplot` (an axes-level function for histograms).\n",
      "  warnings.warn(msg, FutureWarning)\n"
     ]
    },
    {
     "data": {
      "image/png": "[encoded data removed]",
      "text/plain": [
       "<Figure size 1152x576 with 2 Axes>"
      ]
     },
     "metadata": {
      "needs_background": "light"
     },
     "output_type": "display_data"
    }
   ],
   "source": [
    "survived = 'survived'\n",
    "not_survived = 'not survived'\n",
    "fig, axes = plt.subplots(nrows=1, ncols=2,figsize=(16, 8))\n",
    "women = train_data[train_data['Sex']=='female']\n",
    "men = train_data[train_data['Sex']=='male']\n",
    "ax = sns.distplot(women[women['Survived']==1].Age.dropna(), bins=18, label = survived, ax = axes[0], kde =False, color=\"green\")\n",
    "ax = sns.distplot(women[women['Survived']==0].Age.dropna(), bins=40, label = not_survived, ax = axes[0], kde =False, color=\"red\")\n",
    "ax.legend()\n",
    "ax.set_title('Female')\n",
    "ax = sns.distplot(men[men['Survived']==1].Age.dropna(), bins=18, label = survived, ax = axes[1], kde = False, color=\"green\")\n",
    "ax = sns.distplot(men[men['Survived']==0].Age.dropna(), bins=40, label = not_survived, ax = axes[1], kde = False, color=\"red\")\n",
    "ax.legend()\n",
    "_ = ax.set_title('Male');\n"
   ]
  },
  {
   "cell_type": "code",
   "execution_count": 13,
   "metadata": {
    "execution": {
     "iopub.execute_input": "2021-05-07T10:40:42.784774Z",
     "iopub.status.busy": "2021-05-07T10:40:42.783795Z",
     "iopub.status.idle": "2021-05-07T10:40:44.170280Z",
     "shell.execute_reply": "2021-05-07T10:40:44.169596Z"
    },
    "papermill": {
     "duration": 1.417643,
     "end_time": "2021-05-07T10:40:44.170438",
     "exception": false,
     "start_time": "2021-05-07T10:40:42.752795",
     "status": "completed"
    },
    "tags": []
   },
   "outputs": [
    {
     "data": {
      "text/html": [
       "        <script type=\"text/javascript\">\n",
       "        window.PlotlyConfig = {MathJaxConfig: 'local'};\n",
       "        if (window.MathJax) {MathJax.Hub.Config({SVG: {font: \"STIX-Web\"}});}\n",
       "        if (typeof require !== 'undefined') {\n",
       "        require.undef(\"plotly\");\n",
       "        requirejs.config({\n",
       "            paths: {\n",
       "                'plotly': ['https://cdn.plot.ly/plotly-latest.min']\n",
       "            }\n",
       "        });\n",
       "        require(['plotly'], function(Plotly) {\n",
       "            window._Plotly = Plotly;\n",
       "        });\n",
       "        }\n",
       "        </script>\n",
       "        "
      ]
     },
     "metadata": {},
     "output_type": "display_data"
    },
    {
     "data": {
      "text/html": [
       "<div>                            <div id=\"bbfa17c9-0549-4bfd-b2c1-4c9a93db2edc\" class=\"plotly-graph-div\" style=\"height:525px; width:100%;\"></div>            <script type=\"text/javascript\">                require([\"plotly\"], function(Plotly) {                    window.PLOTLYENV=window.PLOTLYENV || {};                                    if (document.getElementById(\"bbfa17c9-0549-4bfd-b2c1-4c9a93db2edc\")) {                    Plotly.newPlot(                        \"bbfa17c9-0549-4bfd-b2c1-4c9a93db2edc\",                        [{\"hovertemplate\": \"Name=%{x}<br>Sex=%{y}<br>Age=%{marker.color}<extra></extra>\", \"legendgroup\": \"\", \"marker\": {\"color\": [22.0, 38.0, 26.0, 35.0, 35.0, null, 54.0, 2.0, 27.0, 14.0, 4.0, 58.0, 20.0, 39.0, 14.0, 55.0, 2.0, null, 31.0, null, 35.0, 34.0, 15.0, 28.0, 8.0, 38.0, null, 19.0, null, null, 40.0, null, null, 66.0, 28.0, 42.0, null, 21.0, 18.0, 14.0, 40.0, 27.0, null, 3.0, 19.0, null, null, null, null, 18.0, 7.0, 21.0, 49.0, 29.0, 65.0, null, 21.0, 28.5, 5.0, 11.0, 22.0, 38.0, 45.0, 4.0, null, null, 29.0, 19.0, 17.0, 26.0, 32.0, 16.0, 21.0, 26.0, 32.0, 25.0, null, null, 0.83, 30.0, 22.0, 29.0, null, 28.0, 17.0, 33.0, 16.0, null, 23.0, 24.0, 29.0, 20.0, 46.0, 26.0, 59.0, null, 71.0, 23.0, 34.0, 34.0, 28.0, null, 21.0, 33.0, 37.0, 28.0, 21.0, null, 38.0, null, 47.0, 14.5, 22.0, 20.0, 17.0, 21.0, 70.5, 29.0, 24.0, 2.0, 21.0, null, 32.5, 32.5, 54.0, 12.0, null, 24.0, null, 45.0, 33.0, 20.0, 47.0, 29.0, 25.0, 23.0, 19.0, 37.0, 16.0, 24.0, null, 22.0, 24.0, 19.0, 18.0, 19.0, 27.0, 9.0, 36.5, 42.0, 51.0, 22.0, 55.5, 40.5, null, 51.0, 16.0, 30.0, null, null, 44.0, 40.0, 26.0, 17.0, 1.0, 9.0, null, 45.0, null, 28.0, 61.0, 4.0, 1.0, 21.0, 56.0, 18.0, null, 50.0, 30.0, 36.0, null, null, 9.0, 1.0, 4.0, null, null, 45.0, 40.0, 36.0, 32.0, 19.0, 19.0, 3.0, 44.0, 58.0, null, 42.0, null, 24.0, 28.0, null, 34.0, 45.5, 18.0, 2.0, 32.0, 26.0, 16.0, 40.0, 24.0, 35.0, 22.0, 30.0, null, 31.0, 27.0, 42.0, 32.0, 30.0, 16.0, 27.0, 51.0, null, 38.0, 22.0, 19.0, 20.5, 18.0, null, 35.0, 29.0, 59.0, 5.0, 24.0, null, 44.0, 8.0, 19.0, 33.0, null, null, 29.0, 22.0, 30.0, 44.0, 25.0, 24.0, 37.0, 54.0, null, 29.0, 62.0, 30.0, 41.0, 29.0, null, 30.0, 35.0, 50.0, null, 3.0, 52.0, 40.0, null, 36.0, 16.0, 25.0, 58.0, 35.0, null, 25.0, 41.0, 37.0, null, 63.0, 45.0, null, 7.0, 35.0, 65.0, 28.0, 16.0, 19.0, null, 33.0, 30.0, 22.0, 42.0, 22.0, 26.0, 19.0, 36.0, 24.0, 24.0, null, 23.5, 2.0, null, 50.0, null, null, 19.0, null, null, 0.92, null, 17.0, 30.0, 30.0, 24.0, 18.0, 26.0, 28.0, 43.0, 26.0, 24.0, 54.0, 31.0, 40.0, 22.0, 27.0, 30.0, 22.0, null, 36.0, 61.0, 36.0, 31.0, 16.0, null, 45.5, 38.0, 16.0, null, null, 29.0, 41.0, 45.0, 45.0, 2.0, 24.0, 28.0, 25.0, 36.0, 24.0, 40.0, null, 3.0, 42.0, 23.0, null, 15.0, 25.0, null, 28.0, 22.0, 38.0, null, null, 40.0, 29.0, 45.0, 35.0, null, 30.0, 60.0, null, null, 24.0, 25.0, 18.0, 19.0, 22.0, 3.0, null, 22.0, 27.0, 20.0, 19.0, 42.0, 1.0, 32.0, 35.0, null, 18.0, 1.0, 36.0, null, 17.0, 36.0, 21.0, 28.0, 23.0, 24.0, 22.0, 31.0, 46.0, 23.0, 28.0, 39.0, 26.0, 21.0, 28.0, 20.0, 34.0, 51.0, 3.0, 21.0, null, null, null, 33.0, null, 44.0, null, 34.0, 18.0, 30.0, 10.0, null, 21.0, 29.0, 28.0, 18.0, null, 28.0, 19.0, null, 32.0, 28.0, null, 42.0, 17.0, 50.0, 14.0, 21.0, 24.0, 64.0, 31.0, 45.0, 20.0, 25.0, 28.0, null, 4.0, 13.0, 34.0, 5.0, 52.0, 36.0, null, 30.0, 49.0, null, 29.0, 65.0, null, 50.0, null, 48.0, 34.0, 47.0, 48.0, null, 38.0, null, 56.0, null, 0.75, null, 38.0, 33.0, 23.0, 22.0, null, 34.0, 29.0, 22.0, 2.0, 9.0, null, 50.0, 63.0, 25.0, null, 35.0, 58.0, 30.0, 9.0, null, 21.0, 55.0, 71.0, 21.0, null, 54.0, null, 25.0, 24.0, 17.0, 21.0, null, 37.0, 16.0, 18.0, 33.0, null, 28.0, 26.0, 29.0, null, 36.0, 54.0, 24.0, 47.0, 34.0, null, 36.0, 32.0, 30.0, 22.0, null, 44.0, null, 40.5, 50.0, null, 39.0, 23.0, 2.0, null, 17.0, null, 30.0, 7.0, 45.0, 30.0, null, 22.0, 36.0, 9.0, 11.0, 32.0, 50.0, 64.0, 19.0, null, 33.0, 8.0, 17.0, 27.0, null, 22.0, 22.0, 62.0, 48.0, null, 39.0, 36.0, null, 40.0, 28.0, null, null, 24.0, 19.0, 29.0, null, 32.0, 62.0, 53.0, 36.0, null, 16.0, 19.0, 34.0, 39.0, null, 32.0, 25.0, 39.0, 54.0, 36.0, null, 18.0, 47.0, 60.0, 22.0, null, 35.0, 52.0, 47.0, null, 37.0, 36.0, null, 49.0, null, 49.0, 24.0, null, null, 44.0, 35.0, 36.0, 30.0, 27.0, 22.0, 40.0, 39.0, null, null, null, 35.0, 24.0, 34.0, 26.0, 4.0, 26.0, 27.0, 42.0, 20.0, 21.0, 21.0, 61.0, 57.0, 21.0, 26.0, null, 80.0, 51.0, 32.0, null, 9.0, 28.0, 32.0, 31.0, 41.0, null, 20.0, 24.0, 2.0, null, 0.75, 48.0, 19.0, 56.0, null, 23.0, null, 18.0, 21.0, null, 18.0, 24.0, null, 32.0, 23.0, 58.0, 50.0, 40.0, 47.0, 36.0, 20.0, 32.0, 25.0, null, 43.0, null, 40.0, 31.0, 70.0, 31.0, null, 18.0, 24.5, 18.0, 43.0, 36.0, null, 27.0, 20.0, 14.0, 60.0, 25.0, 14.0, 19.0, 18.0, 15.0, 31.0, 4.0, null, 25.0, 60.0, 52.0, 44.0, null, 49.0, 42.0, 18.0, 35.0, 18.0, 25.0, 26.0, 39.0, 45.0, 42.0, 22.0, null, 24.0, null, 48.0, 29.0, 52.0, 19.0, 38.0, 27.0, null, 33.0, 6.0, 17.0, 34.0, 50.0, 27.0, 20.0, 30.0, null, 25.0, 25.0, 29.0, 11.0, null, 23.0, 23.0, 28.5, 48.0, 35.0, null, null, null, 36.0, 21.0, 24.0, 31.0, 70.0, 16.0, 30.0, 19.0, 31.0, 4.0, 6.0, 33.0, 23.0, 48.0, 0.67, 28.0, 18.0, 34.0, 33.0, null, 41.0, 20.0, 36.0, 16.0, 51.0, null, 30.5, null, 32.0, 24.0, 48.0, 57.0, null, 54.0, 18.0, null, 5.0, null, 43.0, 13.0, 17.0, 29.0, null, 25.0, 25.0, 18.0, 8.0, 1.0, 46.0, null, 16.0, null, null, 25.0, 39.0, 49.0, 31.0, 30.0, 30.0, 34.0, 31.0, 11.0, 0.42, 27.0, 31.0, 39.0, 18.0, 39.0, 33.0, 26.0, 39.0, 35.0, 6.0, 30.5, null, 23.0, 31.0, 43.0, 10.0, 52.0, 27.0, 38.0, 27.0, 2.0, null, null, 1.0, null, 62.0, 15.0, 0.83, null, 23.0, 18.0, 39.0, 21.0, null, 32.0, null, 20.0, 16.0, 30.0, 34.5, 17.0, 42.0, null, 35.0, 28.0, null, 4.0, 74.0, 9.0, 16.0, 44.0, 18.0, 45.0, 51.0, 24.0, null, 41.0, 21.0, 48.0, null, 24.0, 42.0, 27.0, 31.0, null, 4.0, 26.0, 47.0, 33.0, 47.0, 28.0, 15.0, 20.0, 19.0, null, 56.0, 25.0, 33.0, 22.0, 28.0, 25.0, 39.0, 27.0, 19.0, null, 26.0, 32.0], \"coloraxis\": \"coloraxis\", \"symbol\": \"circle\"}, \"mode\": \"markers\", \"name\": \"\", \"scene\": \"scene\", \"showlegend\": false, \"type\": \"scatter3d\", \"x\": [\"Braund, Mr. Owen Harris\", \"Cumings, Mrs. John Bradley (Florence Briggs Thayer)\", \"Heikkinen, Miss. Laina\", \"Futrelle, Mrs. Jacques Heath (Lily May Peel)\", \"Allen, Mr. William Henry\", \"Moran, Mr. James\", \"McCarthy, Mr. Timothy J\", \"Palsson, Master. Gosta Leonard\", \"Johnson, Mrs. Oscar W (Elisabeth Vilhelmina Berg)\", \"Nasser, Mrs. Nicholas (Adele Achem)\", \"Sandstrom, Miss. Marguerite Rut\", \"Bonnell, Miss. Elizabeth\", \"Saundercock, Mr. William Henry\", \"Andersson, Mr. Anders Johan\", \"Vestrom, Miss. Hulda Amanda Adolfina\", \"Hewlett, Mrs. (Mary D Kingcome) \", \"Rice, Master. Eugene\", \"Williams, Mr. Charles Eugene\", \"Vander Planke, Mrs. Julius (Emelia Maria Vandemoortele)\", \"Masselmani, Mrs. Fatima\", \"Fynney, Mr. Joseph J\", \"Beesley, Mr. Lawrence\", \"McGowan, Miss. Anna \\\"Annie\\\"\", \"Sloper, Mr. William Thompson\", \"Palsson, Miss. Torborg Danira\", \"Asplund, Mrs. Carl Oscar (Selma Augusta Emilia Johansson)\", \"Emir, Mr. Farred Chehab\", \"Fortune, Mr. Charles Alexander\", \"O'Dwyer, Miss. Ellen \\\"Nellie\\\"\", \"Todoroff, Mr. Lalio\", \"Uruchurtu, Don. Manuel E\", \"Spencer, Mrs. William Augustus (Marie Eugenie)\", \"Glynn, Miss. Mary Agatha\", \"Wheadon, Mr. Edward H\", \"Meyer, Mr. Edgar Joseph\", \"Holverson, Mr. Alexander Oskar\", \"Mamee, Mr. Hanna\", \"Cann, Mr. Ernest Charles\", \"Vander Planke, Miss. Augusta Maria\", \"Nicola-Yarred, Miss. Jamila\", \"Ahlin, Mrs. Johan (Johanna Persdotter Larsson)\", \"Turpin, Mrs. William John Robert (Dorothy Ann Wonnacott)\", \"Kraeff, Mr. Theodor\", \"Laroche, Miss. Simonne Marie Anne Andree\", \"Devaney, Miss. Margaret Delia\", \"Rogers, Mr. William John\", \"Lennon, Mr. Denis\", \"O'Driscoll, Miss. Bridget\", \"Samaan, Mr. Youssef\", \"Arnold-Franchi, Mrs. Josef (Josefine Franchi)\", \"Panula, Master. Juha Niilo\", \"Nosworthy, Mr. Richard Cater\", \"Harper, Mrs. Henry Sleeper (Myna Haxtun)\", \"Faunthorpe, Mrs. Lizzie (Elizabeth Anne Wilkinson)\", \"Ostby, Mr. Engelhart Cornelius\", \"Woolner, Mr. Hugh\", \"Rugg, Miss. Emily\", \"Novel, Mr. Mansouer\", \"West, Miss. Constance Mirium\", \"Goodwin, Master. William Frederick\", \"Sirayanian, Mr. Orsen\", \"Icard, Miss. Amelie\", \"Harris, Mr. Henry Birkhardt\", \"Skoog, Master. Harald\", \"Stewart, Mr. Albert A\", \"Moubarek, Master. Gerios\", \"Nye, Mrs. (Elizabeth Ramell)\", \"Crease, Mr. Ernest James\", \"Andersson, Miss. Erna Alexandra\", \"Kink, Mr. Vincenz\", \"Jenkin, Mr. Stephen Curnow\", \"Goodwin, Miss. Lillian Amy\", \"Hood, Mr. Ambrose Jr\", \"Chronopoulos, Mr. Apostolos\", \"Bing, Mr. Lee\", \"Moen, Mr. Sigurd Hansen\", \"Staneff, Mr. Ivan\", \"Moutal, Mr. Rahamin Haim\", \"Caldwell, Master. Alden Gates\", \"Dowdell, Miss. Elizabeth\", \"Waelens, Mr. Achille\", \"Sheerlinck, Mr. Jan Baptist\", \"McDermott, Miss. Brigdet Delia\", \"Carrau, Mr. Francisco M\", \"Ilett, Miss. Bertha\", \"Backstrom, Mrs. Karl Alfred (Maria Mathilda Gustafsson)\", \"Ford, Mr. William Neal\", \"Slocovski, Mr. Selman Francis\", \"Fortune, Miss. Mabel Helen\", \"Celotti, Mr. Francesco\", \"Christmann, Mr. Emil\", \"Andreasson, Mr. Paul Edvin\", \"Chaffee, Mr. Herbert Fuller\", \"Dean, Mr. Bertram Frank\", \"Coxon, Mr. Daniel\", \"Shorney, Mr. Charles Joseph\", \"Goldschmidt, Mr. George B\", \"Greenfield, Mr. William Bertram\", \"Doling, Mrs. John T (Ada Julia Bone)\", \"Kantor, Mr. Sinai\", \"Petranec, Miss. Matilda\", \"Petroff, Mr. Pastcho (\\\"Pentcho\\\")\", \"White, Mr. Richard Frasar\", \"Johansson, Mr. Gustaf Joel\", \"Gustafsson, Mr. Anders Vilhelm\", \"Mionoff, Mr. Stoytcho\", \"Salkjelsvik, Miss. Anna Kristine\", \"Moss, Mr. Albert Johan\", \"Rekic, Mr. Tido\", \"Moran, Miss. Bertha\", \"Porter, Mr. Walter Chamberlain\", \"Zabour, Miss. Hileni\", \"Barton, Mr. David John\", \"Jussila, Miss. Katriina\", \"Attalah, Miss. Malake\", \"Pekoniemi, Mr. Edvard\", \"Connors, Mr. Patrick\", \"Turpin, Mr. William John Robert\", \"Baxter, Mr. Quigg Edmond\", \"Andersson, Miss. Ellis Anna Maria\", \"Hickman, Mr. Stanley George\", \"Moore, Mr. Leonard Charles\", \"Nasser, Mr. Nicholas\", \"Webber, Miss. Susan\", \"White, Mr. Percival Wayland\", \"Nicola-Yarred, Master. Elias\", \"McMahon, Mr. Martin\", \"Madsen, Mr. Fridtjof Arne\", \"Peter, Miss. Anna\", \"Ekstrom, Mr. Johan\", \"Drazenoic, Mr. Jozef\", \"Coelho, Mr. Domingos Fernandeo\", \"Robins, Mrs. Alexander A (Grace Charity Laury)\", \"Weisz, Mrs. Leopold (Mathilde Francoise Pede)\", \"Sobey, Mr. Samuel James Hayden\", \"Richard, Mr. Emile\", \"Newsom, Miss. Helen Monypeny\", \"Futrelle, Mr. Jacques Heath\", \"Osen, Mr. Olaf Elon\", \"Giglio, Mr. Victor\", \"Boulos, Mrs. Joseph (Sultana)\", \"Nysten, Miss. Anna Sofia\", \"Hakkarainen, Mrs. Pekka Pietari (Elin Matilda Dolck)\", \"Burke, Mr. Jeremiah\", \"Andrew, Mr. Edgardo Samuel\", \"Nicholls, Mr. Joseph Charles\", \"Andersson, Mr. August Edvard (\\\"Wennerstrom\\\")\", \"Ford, Miss. Robina Maggie \\\"Ruby\\\"\", \"Navratil, Mr. Michel (\\\"Louis M Hoffman\\\")\", \"Byles, Rev. Thomas Roussel Davids\", \"Bateman, Rev. Robert James\", \"Pears, Mrs. Thomas (Edith Wearne)\", \"Meo, Mr. Alfonzo\", \"van Billiard, Mr. Austin Blyler\", \"Olsen, Mr. Ole Martin\", \"Williams, Mr. Charles Duane\", \"Gilnagh, Miss. Katherine \\\"Katie\\\"\", \"Corn, Mr. Harry\", \"Smiljanic, Mr. Mile\", \"Sage, Master. Thomas Henry\", \"Cribb, Mr. John Hatfield\", \"Watt, Mrs. James (Elizabeth \\\"Bessie\\\" Inglis Milne)\", \"Bengtsson, Mr. John Viktor\", \"Calic, Mr. Jovo\", \"Panula, Master. Eino Viljami\", \"Goldsmith, Master. Frank John William \\\"Frankie\\\"\", \"Chibnall, Mrs. (Edith Martha Bowerman)\", \"Skoog, Mrs. William (Anna Bernhardina Karlsson)\", \"Baumann, Mr. John D\", \"Ling, Mr. Lee\", \"Van der hoef, Mr. Wyckoff\", \"Rice, Master. Arthur\", \"Johnson, Miss. Eleanor Ileen\", \"Sivola, Mr. Antti Wilhelm\", \"Smith, Mr. James Clinch\", \"Klasen, Mr. Klas Albin\", \"Lefebre, Master. Henry Forbes\", \"Isham, Miss. Ann Elizabeth\", \"Hale, Mr. Reginald\", \"Leonard, Mr. Lionel\", \"Sage, Miss. Constance Gladys\", \"Pernot, Mr. Rene\", \"Asplund, Master. Clarence Gustaf Hugo\", \"Becker, Master. Richard F\", \"Kink-Heilmann, Miss. Luise Gretchen\", \"Rood, Mr. Hugh Roscoe\", \"O'Brien, Mrs. Thomas (Johanna \\\"Hannah\\\" Godfrey)\", \"Romaine, Mr. Charles Hallace (\\\"Mr C Rolmane\\\")\", \"Bourke, Mr. John\", \"Turcin, Mr. Stjepan\", \"Pinsky, Mrs. (Rosa)\", \"Carbines, Mr. William\", \"Andersen-Jensen, Miss. Carla Christine Nielsine\", \"Navratil, Master. Michel M\", \"Brown, Mrs. James Joseph (Margaret Tobin)\", \"Lurette, Miss. Elise\", \"Mernagh, Mr. Robert\", \"Olsen, Mr. Karl Siegwart Andreas\", \"Madigan, Miss. Margaret \\\"Maggie\\\"\", \"Yrois, Miss. Henriette (\\\"Mrs Harbeck\\\")\", \"Vande Walle, Mr. Nestor Cyriel\", \"Sage, Mr. Frederick\", \"Johanson, Mr. Jakob Alfred\", \"Youseff, Mr. Gerious\", \"Cohen, Mr. Gurshon \\\"Gus\\\"\", \"Strom, Miss. Telma Matilda\", \"Backstrom, Mr. Karl Alfred\", \"Albimona, Mr. Nassef Cassem\", \"Carr, Miss. Helen \\\"Ellen\\\"\", \"Blank, Mr. Henry\", \"Ali, Mr. Ahmed\", \"Cameron, Miss. Clear Annie\", \"Perkin, Mr. John Henry\", \"Givard, Mr. Hans Kristensen\", \"Kiernan, Mr. Philip\", \"Newell, Miss. Madeleine\", \"Honkanen, Miss. Eliina\", \"Jacobsohn, Mr. Sidney Samuel\", \"Bazzani, Miss. Albina\", \"Harris, Mr. Walter\", \"Sunderland, Mr. Victor Francis\", \"Bracken, Mr. James H\", \"Green, Mr. George Henry\", \"Nenkoff, Mr. Christo\", \"Hoyt, Mr. Frederick Maxfield\", \"Berglund, Mr. Karl Ivar Sven\", \"Mellors, Mr. William John\", \"Lovell, Mr. John Hall (\\\"Henry\\\")\", \"Fahlstrom, Mr. Arne Jonas\", \"Lefebre, Miss. Mathilde\", \"Harris, Mrs. Henry Birkhardt (Irene Wallach)\", \"Larsson, Mr. Bengt Edvin\", \"Sjostedt, Mr. Ernst Adolf\", \"Asplund, Miss. Lillian Gertrud\", \"Leyson, Mr. Robert William Norman\", \"Harknett, Miss. Alice Phoebe\", \"Hold, Mr. Stephen\", \"Collyer, Miss. Marjorie \\\"Lottie\\\"\", \"Pengelly, Mr. Frederick William\", \"Hunt, Mr. George Henry\", \"Zabour, Miss. Thamine\", \"Murphy, Miss. Katherine \\\"Kate\\\"\", \"Coleridge, Mr. Reginald Charles\", \"Maenpaa, Mr. Matti Alexanteri\", \"Attalah, Mr. Sleiman\", \"Minahan, Dr. William Edward\", \"Lindahl, Miss. Agda Thorilda Viktoria\", \"Hamalainen, Mrs. William (Anna)\", \"Beckwith, Mr. Richard Leonard\", \"Carter, Rev. Ernest Courtenay\", \"Reed, Mr. James George\", \"Strom, Mrs. Wilhelm (Elna Matilda Persson)\", \"Stead, Mr. William Thomas\", \"Lobb, Mr. William Arthur\", \"Rosblom, Mrs. Viktor (Helena Wilhelmina)\", \"Touma, Mrs. Darwis (Hanne Youssef Razi)\", \"Thorne, Mrs. Gertrude Maybelle\", \"Cherry, Miss. Gladys\", \"Ward, Miss. Anna\", \"Parrish, Mrs. (Lutie Davis)\", \"Smith, Mr. Thomas\", \"Asplund, Master. Edvin Rojj Felix\", \"Taussig, Mr. Emil\", \"Harrison, Mr. William\", \"Henry, Miss. Delia\", \"Reeves, Mr. David\", \"Panula, Mr. Ernesti Arvid\", \"Persson, Mr. Ernst Ulrik\", \"Graham, Mrs. William Thompson (Edith Junkins)\", \"Bissette, Miss. Amelia\", \"Cairns, Mr. Alexander\", \"Tornquist, Mr. William Henry\", \"Mellinger, Mrs. (Elizabeth Anne Maidment)\", \"Natsch, Mr. Charles H\", \"Healy, Miss. Hanora \\\"Nora\\\"\", \"Andrews, Miss. Kornelia Theodosia\", \"Lindblom, Miss. Augusta Charlotta\", \"Parkes, Mr. Francis \\\"Frank\\\"\", \"Rice, Master. Eric\", \"Abbott, Mrs. Stanton (Rosa Hunt)\", \"Duane, Mr. Frank\", \"Olsson, Mr. Nils Johan Goransson\", \"de Pelsmaeker, Mr. Alfons\", \"Dorking, Mr. Edward Arthur\", \"Smith, Mr. Richard William\", \"Stankovic, Mr. Ivan\", \"de Mulder, Mr. Theodore\", \"Naidenoff, Mr. Penko\", \"Hosono, Mr. Masabumi\", \"Connolly, Miss. Kate\", \"Barber, Miss. Ellen \\\"Nellie\\\"\", \"Bishop, Mrs. Dickinson H (Helen Walton)\", \"Levy, Mr. Rene Jacques\", \"Haas, Miss. Aloisia\", \"Mineff, Mr. Ivan\", \"Lewy, Mr. Ervin G\", \"Hanna, Mr. Mansour\", \"Allison, Miss. Helen Loraine\", \"Saalfeld, Mr. Adolphe\", \"Baxter, Mrs. James (Helene DeLaudeniere Chaput)\", \"Kelly, Miss. Anna Katherine \\\"Annie Kate\\\"\", \"McCoy, Mr. Bernard\", \"Johnson, Mr. William Cahoone Jr\", \"Keane, Miss. Nora A\", \"Williams, Mr. Howard Hugh \\\"Harry\\\"\", \"Allison, Master. Hudson Trevor\", \"Fleming, Miss. Margaret\", \"Penasco y Castellana, Mrs. Victor de Satode (Maria Josefa Perez de Soto y Vallejo)\", \"Abelson, Mr. Samuel\", \"Francatelli, Miss. Laura Mabel\", \"Hays, Miss. Margaret Bechstein\", \"Ryerson, Miss. Emily Borie\", \"Lahtinen, Mrs. William (Anna Sylfven)\", \"Hendekovic, Mr. Ignjac\", \"Hart, Mr. Benjamin\", \"Nilsson, Miss. Helmina Josefina\", \"Kantor, Mrs. Sinai (Miriam Sternin)\", \"Moraweck, Dr. Ernest\", \"Wick, Miss. Mary Natalie\", \"Spedden, Mrs. Frederic Oakley (Margaretta Corning Stone)\", \"Dennis, Mr. Samuel\", \"Danoff, Mr. Yoto\", \"Slayter, Miss. Hilda Mary\", \"Caldwell, Mrs. Albert Francis (Sylvia Mae Harbaugh)\", \"Sage, Mr. George John Jr\", \"Young, Miss. Marie Grice\", \"Nysveen, Mr. Johan Hansen\", \"Ball, Mrs. (Ada E Hall)\", \"Goldsmith, Mrs. Frank John (Emily Alice Brown)\", \"Hippach, Miss. Jean Gertrude\", \"McCoy, Miss. Agnes\", \"Partner, Mr. Austen\", \"Graham, Mr. George Edward\", \"Vander Planke, Mr. Leo Edmondus\", \"Frauenthal, Mrs. Henry William (Clara Heinsheimer)\", \"Denkoff, Mr. Mitto\", \"Pears, Mr. Thomas Clinton\", \"Burns, Miss. Elizabeth Margaret\", \"Dahl, Mr. Karl Edwart\", \"Blackwell, Mr. Stephen Weart\", \"Navratil, Master. Edmond Roger\", \"Fortune, Miss. Alice Elizabeth\", \"Collander, Mr. Erik Gustaf\", \"Sedgwick, Mr. Charles Frederick Waddington\", \"Fox, Mr. Stanley Hubert\", \"Brown, Miss. Amelia \\\"Mildred\\\"\", \"Smith, Miss. Marion Elsie\", \"Davison, Mrs. Thomas Henry (Mary E Finck)\", \"Coutts, Master. William Loch \\\"William\\\"\", \"Dimic, Mr. Jovan\", \"Odahl, Mr. Nils Martin\", \"Williams-Lambert, Mr. Fletcher Fellows\", \"Elias, Mr. Tannous\", \"Arnold-Franchi, Mr. Josef\", \"Yousif, Mr. Wazli\", \"Vanden Steen, Mr. Leo Peter\", \"Bowerman, Miss. Elsie Edith\", \"Funk, Miss. Annie Clemmer\", \"McGovern, Miss. Mary\", \"Mockler, Miss. Helen Mary \\\"Ellie\\\"\", \"Skoog, Mr. Wilhelm\", \"del Carlo, Mr. Sebastiano\", \"Barbara, Mrs. (Catherine David)\", \"Asim, Mr. Adola\", \"O'Brien, Mr. Thomas\", \"Adahl, Mr. Mauritz Nils Martin\", \"Warren, Mrs. Frank Manley (Anna Sophia Atkinson)\", \"Moussa, Mrs. (Mantoura Boulos)\", \"Jermyn, Miss. Annie\", \"Aubart, Mme. Leontine Pauline\", \"Harder, Mr. George Achilles\", \"Wiklund, Mr. Jakob Alfred\", \"Beavan, Mr. William Thomas\", \"Ringhini, Mr. Sante\", \"Palsson, Miss. Stina Viola\", \"Meyer, Mrs. Edgar Joseph (Leila Saks)\", \"Landergren, Miss. Aurora Adelia\", \"Widener, Mr. Harry Elkins\", \"Betros, Mr. Tannous\", \"Gustafsson, Mr. Karl Gideon\", \"Bidois, Miss. Rosalie\", \"Nakid, Miss. Maria (\\\"Mary\\\")\", \"Tikkanen, Mr. Juho\", \"Holverson, Mrs. Alexander Oskar (Mary Aline Towner)\", \"Plotcharsky, Mr. Vasil\", \"Davies, Mr. Charles Henry\", \"Goodwin, Master. Sidney Leonard\", \"Buss, Miss. Kate\", \"Sadlier, Mr. Matthew\", \"Lehmann, Miss. Bertha\", \"Carter, Mr. William Ernest\", \"Jansson, Mr. Carl Olof\", \"Gustafsson, Mr. Johan Birger\", \"Newell, Miss. Marjorie\", \"Sandstrom, Mrs. Hjalmar (Agnes Charlotta Bengtsson)\", \"Johansson, Mr. Erik\", \"Olsson, Miss. Elina\", \"McKane, Mr. Peter David\", \"Pain, Dr. Alfred\", \"Trout, Mrs. William H (Jessie L)\", \"Niskanen, Mr. Juha\", \"Adams, Mr. John\", \"Jussila, Miss. Mari Aina\", \"Hakkarainen, Mr. Pekka Pietari\", \"Oreskovic, Miss. Marija\", \"Gale, Mr. Shadrach\", \"Widegren, Mr. Carl/Charles Peter\", \"Richards, Master. William Rowe\", \"Birkeland, Mr. Hans Martin Monsen\", \"Lefebre, Miss. Ida\", \"Sdycoff, Mr. Todor\", \"Hart, Mr. Henry\", \"Minahan, Miss. Daisy E\", \"Cunningham, Mr. Alfred Fleming\", \"Sundman, Mr. Johan Julian\", \"Meek, Mrs. Thomas (Annie Louise Rowley)\", \"Drew, Mrs. James Vivian (Lulu Thorne Christian)\", \"Silven, Miss. Lyyli Karoliina\", \"Matthews, Mr. William John\", \"Van Impe, Miss. Catharina\", \"Gheorgheff, Mr. Stanio\", \"Charters, Mr. David\", \"Zimmerman, Mr. Leo\", \"Danbom, Mrs. Ernst Gilbert (Anna Sigrid Maria Brogren)\", \"Rosblom, Mr. Viktor Richard\", \"Wiseman, Mr. Phillippe\", \"Clarke, Mrs. Charles V (Ada Maria Winfield)\", \"Phillips, Miss. Kate Florence (\\\"Mrs Kate Louise Phillips Marshall\\\")\", \"Flynn, Mr. James\", \"Pickard, Mr. Berk (Berk Trembisky)\", \"Bjornstrom-Steffansson, Mr. Mauritz Hakan\", \"Thorneycroft, Mrs. Percival (Florence Kate White)\", \"Louch, Mrs. Charles Alexander (Alice Adelaide Slow)\", \"Kallio, Mr. Nikolai Erland\", \"Silvey, Mr. William Baird\", \"Carter, Miss. Lucile Polk\", \"Ford, Miss. Doolina Margaret \\\"Daisy\\\"\", \"Richards, Mrs. Sidney (Emily Hocking)\", \"Fortune, Mr. Mark\", \"Kvillner, Mr. Johan Henrik Johannesson\", \"Hart, Mrs. Benjamin (Esther Ada Bloomfield)\", \"Hampe, Mr. Leon\", \"Petterson, Mr. Johan Emil\", \"Reynaldo, Ms. Encarnacion\", \"Johannesen-Bratthammer, Mr. Bernt\", \"Dodge, Master. Washington\", \"Mellinger, Miss. Madeleine Violet\", \"Seward, Mr. Frederic Kimber\", \"Baclini, Miss. Marie Catherine\", \"Peuchen, Major. Arthur Godfrey\", \"West, Mr. Edwy Arthur\", \"Hagland, Mr. Ingvald Olai Olsen\", \"Foreman, Mr. Benjamin Laventall\", \"Goldenberg, Mr. Samuel L\", \"Peduzzi, Mr. Joseph\", \"Jalsevac, Mr. Ivan\", \"Millet, Mr. Francis Davis\", \"Kenyon, Mrs. Frederick R (Marion)\", \"Toomey, Miss. Ellen\", \"O'Connor, Mr. Maurice\", \"Anderson, Mr. Harry\", \"Morley, Mr. William\", \"Gee, Mr. Arthur H\", \"Milling, Mr. Jacob Christian\", \"Maisner, Mr. Simon\", \"Goncalves, Mr. Manuel Estanslas\", \"Campbell, Mr. William\", \"Smart, Mr. John Montgomery\", \"Scanlan, Mr. James\", \"Baclini, Miss. Helene Barbara\", \"Keefe, Mr. Arthur\", \"Cacic, Mr. Luka\", \"West, Mrs. Edwy Arthur (Ada Mary Worth)\", \"Jerwan, Mrs. Amin S (Marie Marthe Thuillard)\", \"Strandberg, Miss. Ida Sofia\", \"Clifford, Mr. George Quincy\", \"Renouf, Mr. Peter Henry\", \"Braund, Mr. Lewis Richard\", \"Karlsson, Mr. Nils August\", \"Hirvonen, Miss. Hildur E\", \"Goodwin, Master. Harold Victor\", \"Frost, Mr. Anthony Wood \\\"Archie\\\"\", \"Rouse, Mr. Richard Henry\", \"Turkula, Mrs. (Hedwig)\", \"Bishop, Mr. Dickinson H\", \"Lefebre, Miss. Jeannie\", \"Hoyt, Mrs. Frederick Maxfield (Jane Anne Forby)\", \"Kent, Mr. Edward Austin\", \"Somerton, Mr. Francis William\", \"Coutts, Master. Eden Leslie \\\"Neville\\\"\", \"Hagland, Mr. Konrad Mathias Reiersen\", \"Windelov, Mr. Einar\", \"Molson, Mr. Harry Markland\", \"Artagaveytia, Mr. Ramon\", \"Stanley, Mr. Edward Roland\", \"Yousseff, Mr. Gerious\", \"Eustis, Miss. Elizabeth Mussey\", \"Shellard, Mr. Frederick William\", \"Allison, Mrs. Hudson J C (Bessie Waldo Daniels)\", \"Svensson, Mr. Olof\", \"Calic, Mr. Petar\", \"Canavan, Miss. Mary\", \"O'Sullivan, Miss. Bridget Mary\", \"Laitinen, Miss. Kristina Sofia\", \"Maioni, Miss. Roberta\", \"Penasco y Castellana, Mr. Victor de Satode\", \"Quick, Mrs. Frederick Charles (Jane Richards)\", \"Bradley, Mr. George (\\\"George Arthur Brayton\\\")\", \"Olsen, Mr. Henry Margido\", \"Lang, Mr. Fang\", \"Daly, Mr. Eugene Patrick\", \"Webber, Mr. James\", \"McGough, Mr. James Robert\", \"Rothschild, Mrs. Martin (Elizabeth L. Barrett)\", \"Coleff, Mr. Satio\", \"Walker, Mr. William Anderson\", \"Lemore, Mrs. (Amelia Milley)\", \"Ryan, Mr. Patrick\", \"Angle, Mrs. William A (Florence \\\"Mary\\\" Agnes Hughes)\", \"Pavlovic, Mr. Stefo\", \"Perreault, Miss. Anne\", \"Vovk, Mr. Janko\", \"Lahoud, Mr. Sarkis\", \"Hippach, Mrs. Louis Albert (Ida Sophia Fischer)\", \"Kassem, Mr. Fared\", \"Farrell, Mr. James\", \"Ridsdale, Miss. Lucy\", \"Farthing, Mr. John\", \"Salonen, Mr. Johan Werner\", \"Hocking, Mr. Richard George\", \"Quick, Miss. Phyllis May\", \"Toufik, Mr. Nakli\", \"Elias, Mr. Joseph Jr\", \"Peter, Mrs. Catherine (Catherine Rizk)\", \"Cacic, Miss. Marija\", \"Hart, Miss. Eva Miriam\", \"Butt, Major. Archibald Willingham\", \"LeRoy, Miss. Bertha\", \"Risien, Mr. Samuel Beard\", \"Frolicher, Miss. Hedwig Margaritha\", \"Crosby, Miss. Harriet R\", \"Andersson, Miss. Ingeborg Constanzia\", \"Andersson, Miss. Sigrid Elisabeth\", \"Beane, Mr. Edward\", \"Douglas, Mr. Walter Donald\", \"Nicholson, Mr. Arthur Ernest\", \"Beane, Mrs. Edward (Ethel Clarke)\", \"Padro y Manent, Mr. Julian\", \"Goldsmith, Mr. Frank John\", \"Davies, Master. John Morgan Jr\", \"Thayer, Mr. John Borland Jr\", \"Sharp, Mr. Percival James R\", \"O'Brien, Mr. Timothy\", \"Leeni, Mr. Fahim (\\\"Philip Zenni\\\")\", \"Ohman, Miss. Velin\", \"Wright, Mr. George\", \"Duff Gordon, Lady. (Lucille Christiana Sutherland) (\\\"Mrs Morgan\\\")\", \"Robbins, Mr. Victor\", \"Taussig, Mrs. Emil (Tillie Mandelbaum)\", \"de Messemaeker, Mrs. Guillaume Joseph (Emma)\", \"Morrow, Mr. Thomas Rowan\", \"Sivic, Mr. Husein\", \"Norman, Mr. Robert Douglas\", \"Simmons, Mr. John\", \"Meanwell, Miss. (Marion Ogden)\", \"Davies, Mr. Alfred J\", \"Stoytcheff, Mr. Ilia\", \"Palsson, Mrs. Nils (Alma Cornelia Berglund)\", \"Doharr, Mr. Tannous\", \"Jonsson, Mr. Carl\", \"Harris, Mr. George\", \"Appleton, Mrs. Edward Dale (Charlotte Lamson)\", \"Flynn, Mr. John Irwin (\\\"Irving\\\")\", \"Kelly, Miss. Mary\", \"Rush, Mr. Alfred George John\", \"Patchett, Mr. George\", \"Garside, Miss. Ethel\", \"Silvey, Mrs. William Baird (Alice Munger)\", \"Caram, Mrs. Joseph (Maria Elias)\", \"Jussila, Mr. Eiriik\", \"Christy, Miss. Julie Rachel\", \"Thayer, Mrs. John Borland (Marian Longstreth Morris)\", \"Downton, Mr. William James\", \"Ross, Mr. John Hugo\", \"Paulner, Mr. Uscher\", \"Taussig, Miss. Ruth\", \"Jarvis, Mr. John Denzil\", \"Frolicher-Stehli, Mr. Maxmillian\", \"Gilinski, Mr. Eliezer\", \"Murdlin, Mr. Joseph\", \"Rintamaki, Mr. Matti\", \"Stephenson, Mrs. Walter Bertram (Martha Eustis)\", \"Elsbury, Mr. William James\", \"Bourke, Miss. Mary\", \"Chapman, Mr. John Henry\", \"Van Impe, Mr. Jean Baptiste\", \"Leitch, Miss. Jessie Wills\", \"Johnson, Mr. Alfred\", \"Boulos, Mr. Hanna\", \"Duff Gordon, Sir. Cosmo Edmund (\\\"Mr Morgan\\\")\", \"Jacobsohn, Mrs. Sidney Samuel (Amy Frances Christy)\", \"Slabenoff, Mr. Petco\", \"Harrington, Mr. Charles H\", \"Torber, Mr. Ernst William\", \"Homer, Mr. Harry (\\\"Mr E Haven\\\")\", \"Lindell, Mr. Edvard Bengtsson\", \"Karaic, Mr. Milan\", \"Daniel, Mr. Robert Williams\", \"Laroche, Mrs. Joseph (Juliette Marie Louise Lafargue)\", \"Shutes, Miss. Elizabeth W\", \"Andersson, Mrs. Anders Johan (Alfrida Konstantia Brogren)\", \"Jardin, Mr. Jose Neto\", \"Murphy, Miss. Margaret Jane\", \"Horgan, Mr. John\", \"Brocklebank, Mr. William Alfred\", \"Herman, Miss. Alice\", \"Danbom, Mr. Ernst Gilbert\", \"Lobb, Mrs. William Arthur (Cordelia K Stanlick)\", \"Becker, Miss. Marion Louise\", \"Gavey, Mr. Lawrence\", \"Yasbeck, Mr. Antoni\", \"Kimball, Mr. Edwin Nelson Jr\", \"Nakid, Mr. Sahid\", \"Hansen, Mr. Henry Damsgaard\", \"Bowen, Mr. David John \\\"Dai\\\"\", \"Sutton, Mr. Frederick\", \"Kirkland, Rev. Charles Leonard\", \"Longley, Miss. Gretchen Fiske\", \"Bostandyeff, Mr. Guentcho\", \"O'Connell, Mr. Patrick D\", \"Barkworth, Mr. Algernon Henry Wilson\", \"Lundahl, Mr. Johan Svensson\", \"Stahelin-Maeglin, Dr. Max\", \"Parr, Mr. William Henry Marsh\", \"Skoog, Miss. Mabel\", \"Davis, Miss. Mary\", \"Leinonen, Mr. Antti Gustaf\", \"Collyer, Mr. Harvey\", \"Panula, Mrs. Juha (Maria Emilia Ojala)\", \"Thorneycroft, Mr. Percival\", \"Jensen, Mr. Hans Peder\", \"Sagesser, Mlle. Emma\", \"Skoog, Miss. Margit Elizabeth\", \"Foo, Mr. Choong\", \"Baclini, Miss. Eugenie\", \"Harper, Mr. Henry Sleeper\", \"Cor, Mr. Liudevit\", \"Simonius-Blumer, Col. Oberst Alfons\", \"Willey, Mr. Edward\", \"Stanley, Miss. Amy Zillah Elsie\", \"Mitkoff, Mr. Mito\", \"Doling, Miss. Elsie\", \"Kalvik, Mr. Johannes Halvorsen\", \"O'Leary, Miss. Hanora \\\"Norah\\\"\", \"Hegarty, Miss. Hanora \\\"Nora\\\"\", \"Hickman, Mr. Leonard Mark\", \"Radeff, Mr. Alexander\", \"Bourke, Mrs. John (Catherine)\", \"Eitemiller, Mr. George Floyd\", \"Newell, Mr. Arthur Webster\", \"Frauenthal, Dr. Henry William\", \"Badt, Mr. Mohamed\", \"Colley, Mr. Edward Pomeroy\", \"Coleff, Mr. Peju\", \"Lindqvist, Mr. Eino William\", \"Hickman, Mr. Lewis\", \"Butler, Mr. Reginald Fenton\", \"Rommetvedt, Mr. Knud Paust\", \"Cook, Mr. Jacob\", \"Taylor, Mrs. Elmer Zebley (Juliet Cummins Wright)\", \"Brown, Mrs. Thomas William Solomon (Elizabeth Catherine Ford)\", \"Davidson, Mr. Thornton\", \"Mitchell, Mr. Henry Michael\", \"Wilhelms, Mr. Charles\", \"Watson, Mr. Ennis Hastings\", \"Edvardsson, Mr. Gustaf Hjalmar\", \"Sawyer, Mr. Frederick Charles\", \"Turja, Miss. Anna Sofia\", \"Goodwin, Mrs. Frederick (Augusta Tyler)\", \"Cardeza, Mr. Thomas Drake Martinez\", \"Peters, Miss. Katie\", \"Hassab, Mr. Hammad\", \"Olsvigen, Mr. Thor Anderson\", \"Goodwin, Mr. Charles Edward\", \"Brown, Mr. Thomas William Solomon\", \"Laroche, Mr. Joseph Philippe Lemercier\", \"Panula, Mr. Jaako Arnold\", \"Dakic, Mr. Branko\", \"Fischer, Mr. Eberhard Thelander\", \"Madill, Miss. Georgette Alexandra\", \"Dick, Mr. Albert Adrian\", \"Karun, Miss. Manca\", \"Lam, Mr. Ali\", \"Saad, Mr. Khalil\", \"Weir, Col. John\", \"Chapman, Mr. Charles Henry\", \"Kelly, Mr. James\", \"Mullens, Miss. Katherine \\\"Katie\\\"\", \"Thayer, Mr. John Borland\", \"Humblen, Mr. Adolf Mathias Nicolai Olsen\", \"Astor, Mrs. John Jacob (Madeleine Talmadge Force)\", \"Silverthorne, Mr. Spencer Victor\", \"Barbara, Miss. Saiide\", \"Gallagher, Mr. Martin\", \"Hansen, Mr. Henrik Juul\", \"Morley, Mr. Henry Samuel (\\\"Mr Henry Marshall\\\")\", \"Kelly, Mrs. Florence \\\"Fannie\\\"\", \"Calderhead, Mr. Edward Pennington\", \"Cleaver, Miss. Alice\", \"Moubarek, Master. Halim Gonios (\\\"William George\\\")\", \"Mayne, Mlle. Berthe Antonine (\\\"Mrs de Villiers\\\")\", \"Klaber, Mr. Herman\", \"Taylor, Mr. Elmer Zebley\", \"Larsson, Mr. August Viktor\", \"Greenberg, Mr. Samuel\", \"Soholt, Mr. Peter Andreas Lauritz Andersen\", \"Endres, Miss. Caroline Louise\", \"Troutt, Miss. Edwina Celia \\\"Winnie\\\"\", \"McEvoy, Mr. Michael\", \"Johnson, Mr. Malkolm Joackim\", \"Harper, Miss. Annie Jessie \\\"Nina\\\"\", \"Jensen, Mr. Svend Lauritz\", \"Gillespie, Mr. William Henry\", \"Hodges, Mr. Henry Price\", \"Chambers, Mr. Norman Campbell\", \"Oreskovic, Mr. Luka\", \"Renouf, Mrs. Peter Henry (Lillian Jefferys)\", \"Mannion, Miss. Margareth\", \"Bryhl, Mr. Kurt Arnold Gottfrid\", \"Ilmakangas, Miss. Pieta Sofia\", \"Allen, Miss. Elisabeth Walton\", \"Hassan, Mr. Houssein G N\", \"Knight, Mr. Robert J\", \"Berriman, Mr. William John\", \"Troupiansky, Mr. Moses Aaron\", \"Williams, Mr. Leslie\", \"Ford, Mrs. Edward (Margaret Ann Watson)\", \"Lesurer, Mr. Gustave J\", \"Ivanoff, Mr. Kanio\", \"Nankoff, Mr. Minko\", \"Hawksford, Mr. Walter James\", \"Cavendish, Mr. Tyrell William\", \"Ryerson, Miss. Susan Parker \\\"Suzette\\\"\", \"McNamee, Mr. Neal\", \"Stranden, Mr. Juho\", \"Crosby, Capt. Edward Gifford\", \"Abbott, Mr. Rossmore Edward\", \"Sinkkonen, Miss. Anna\", \"Marvin, Mr. Daniel Warner\", \"Connaghton, Mr. Michael\", \"Wells, Miss. Joan\", \"Moor, Master. Meier\", \"Vande Velde, Mr. Johannes Joseph\", \"Jonkoff, Mr. Lalio\", \"Herman, Mrs. Samuel (Jane Laver)\", \"Hamalainen, Master. Viljo\", \"Carlsson, Mr. August Sigfrid\", \"Bailey, Mr. Percy Andrew\", \"Theobald, Mr. Thomas Leonard\", \"Rothes, the Countess. of (Lucy Noel Martha Dyer-Edwards)\", \"Garfirth, Mr. John\", \"Nirva, Mr. Iisakki Antino Aijo\", \"Barah, Mr. Hanna Assi\", \"Carter, Mrs. William Ernest (Lucile Polk)\", \"Eklund, Mr. Hans Linus\", \"Hogeboom, Mrs. John C (Anna Andrews)\", \"Brewe, Dr. Arthur Jackson\", \"Mangan, Miss. Mary\", \"Moran, Mr. Daniel J\", \"Gronnestad, Mr. Daniel Danielsen\", \"Lievens, Mr. Rene Aime\", \"Jensen, Mr. Niels Peder\", \"Mack, Mrs. (Mary)\", \"Elias, Mr. Dibo\", \"Hocking, Mrs. Elizabeth (Eliza Needs)\", \"Myhrman, Mr. Pehr Fabian Oliver Malkolm\", \"Tobin, Mr. Roger\", \"Emanuel, Miss. Virginia Ethel\", \"Kilgannon, Mr. Thomas J\", \"Robert, Mrs. Edward Scott (Elisabeth Walton McMillan)\", \"Ayoub, Miss. Banoura\", \"Dick, Mrs. Albert Adrian (Vera Gillespie)\", \"Long, Mr. Milton Clyde\", \"Johnston, Mr. Andrew G\", \"Ali, Mr. William\", \"Harmer, Mr. Abraham (David Lishin)\", \"Sjoblom, Miss. Anna Sofia\", \"Rice, Master. George Hugh\", \"Dean, Master. Bertram Vere\", \"Guggenheim, Mr. Benjamin\", \"Keane, Mr. Andrew \\\"Andy\\\"\", \"Gaskell, Mr. Alfred\", \"Sage, Miss. Stella Anna\", \"Hoyt, Mr. William Fisher\", \"Dantcheff, Mr. Ristiu\", \"Otter, Mr. Richard\", \"Leader, Dr. Alice (Farnham)\", \"Osman, Mrs. Mara\", \"Ibrahim Shawah, Mr. Yousseff\", \"Van Impe, Mrs. Jean Baptiste (Rosalie Paula Govaert)\", \"Ponesell, Mr. Martin\", \"Collyer, Mrs. Harvey (Charlotte Annie Tate)\", \"Carter, Master. William Thornton II\", \"Thomas, Master. Assad Alexander\", \"Hedman, Mr. Oskar Arvid\", \"Johansson, Mr. Karl Johan\", \"Andrews, Mr. Thomas Jr\", \"Pettersson, Miss. Ellen Natalia\", \"Meyer, Mr. August\", \"Chambers, Mrs. Norman Campbell (Bertha Griggs)\", \"Alexander, Mr. William\", \"Lester, Mr. James\", \"Slemen, Mr. Richard James\", \"Andersson, Miss. Ebba Iris Alfrida\", \"Tomlin, Mr. Ernest Portage\", \"Fry, Mr. Richard\", \"Heininen, Miss. Wendla Maria\", \"Mallet, Mr. Albert\", \"Holm, Mr. John Fredrik Alexander\", \"Skoog, Master. Karl Thorsten\", \"Hays, Mrs. Charles Melville (Clara Jennings Gregg)\", \"Lulic, Mr. Nikola\", \"Reuchlin, Jonkheer. John George\", \"Moor, Mrs. (Beila)\", \"Panula, Master. Urho Abraham\", \"Flynn, Mr. John\", \"Lam, Mr. Len\", \"Mallet, Master. Andre\", \"McCormack, Mr. Thomas Joseph\", \"Stone, Mrs. George Nelson (Martha Evelyn)\", \"Yasbeck, Mrs. Antoni (Selini Alexander)\", \"Richards, Master. George Sibley\", \"Saad, Mr. Amin\", \"Augustsson, Mr. Albert\", \"Allum, Mr. Owen George\", \"Compton, Miss. Sara Rebecca\", \"Pasic, Mr. Jakob\", \"Sirota, Mr. Maurice\", \"Chip, Mr. Chang\", \"Marechal, Mr. Pierre\", \"Alhomaki, Mr. Ilmari Rudolf\", \"Mudd, Mr. Thomas Charles\", \"Serepeca, Miss. Augusta\", \"Lemberopolous, Mr. Peter L\", \"Culumovic, Mr. Jeso\", \"Abbing, Mr. Anthony\", \"Sage, Mr. Douglas Bullen\", \"Markoff, Mr. Marin\", \"Harper, Rev. John\", \"Goldenberg, Mrs. Samuel L (Edwiga Grabowska)\", \"Andersson, Master. Sigvard Harald Elias\", \"Svensson, Mr. Johan\", \"Boulos, Miss. Nourelain\", \"Lines, Miss. Mary Conover\", \"Carter, Mrs. Ernest Courtenay (Lilian Hughes)\", \"Aks, Mrs. Sam (Leah Rosen)\", \"Wick, Mrs. George Dennick (Mary Hitchcock)\", \"Daly, Mr. Peter Denis \", \"Baclini, Mrs. Solomon (Latifa Qurban)\", \"Razi, Mr. Raihed\", \"Hansen, Mr. Claus Peter\", \"Giles, Mr. Frederick Edward\", \"Swift, Mrs. Frederick Joel (Margaret Welles Barron)\", \"Sage, Miss. Dorothy Edith \\\"Dolly\\\"\", \"Gill, Mr. John William\", \"Bystrom, Mrs. (Karolina)\", \"Duran y More, Miss. Asuncion\", \"Roebling, Mr. Washington Augustus II\", \"van Melkebeke, Mr. Philemon\", \"Johnson, Master. Harold Theodor\", \"Balkic, Mr. Cerin\", \"Beckwith, Mrs. Richard Leonard (Sallie Monypeny)\", \"Carlsson, Mr. Frans Olof\", \"Vander Cruyssen, Mr. Victor\", \"Abelson, Mrs. Samuel (Hannah Wizosky)\", \"Najib, Miss. Adele Kiamie \\\"Jane\\\"\", \"Gustafsson, Mr. Alfred Ossian\", \"Petroff, Mr. Nedelio\", \"Laleff, Mr. Kristo\", \"Potter, Mrs. Thomas Jr (Lily Alexenia Wilson)\", \"Shelley, Mrs. William (Imanita Parrish Hall)\", \"Markun, Mr. Johann\", \"Dahlberg, Miss. Gerda Ulrika\", \"Banfield, Mr. Frederick James\", \"Sutehall, Mr. Henry Jr\", \"Rice, Mrs. William (Margaret Norton)\", \"Montvila, Rev. Juozas\", \"Graham, Miss. Margaret Edith\", \"Johnston, Miss. Catherine Helen \\\"Carrie\\\"\", \"Behr, Mr. Karl Howell\", \"Dooley, Mr. Patrick\"], \"y\": [\"male\", \"female\", \"female\", \"female\", \"male\", \"male\", \"male\", \"male\", \"female\", \"female\", \"female\", \"female\", \"male\", \"male\", \"female\", \"female\", \"male\", \"male\", \"female\", \"female\", \"male\", \"male\", \"female\", \"male\", \"female\", \"female\", \"male\", \"male\", \"female\", \"male\", \"male\", \"female\", \"female\", \"male\", \"male\", \"male\", \"male\", \"male\", \"female\", \"female\", \"female\", \"female\", \"male\", \"female\", \"female\", \"male\", \"male\", \"female\", \"male\", \"female\", \"male\", \"male\", \"female\", \"female\", \"male\", \"male\", \"female\", \"male\", \"female\", \"male\", \"male\", \"female\", \"male\", \"male\", \"male\", \"male\", \"female\", \"male\", \"female\", \"male\", \"male\", \"female\", \"male\", \"male\", \"male\", \"male\", \"male\", \"male\", \"male\", \"female\", \"male\", \"male\", \"female\", \"male\", \"female\", \"female\", \"male\", \"male\", \"female\", \"male\", \"male\", \"male\", \"male\", \"male\", \"male\", \"male\", \"male\", \"male\", \"female\", \"male\", \"female\", \"male\", \"male\", \"male\", \"male\", \"male\", \"female\", \"male\", \"male\", \"female\", \"male\", \"female\", \"male\", \"female\", \"female\", \"male\", \"male\", \"male\", \"male\", \"female\", \"male\", \"male\", \"male\", \"female\", \"male\", \"male\", \"male\", \"male\", \"female\", \"male\", \"male\", \"male\", \"female\", \"female\", \"male\", \"male\", \"female\", \"male\", \"male\", \"male\", \"female\", \"female\", \"female\", \"male\", \"male\", \"male\", \"male\", \"female\", \"male\", \"male\", \"male\", \"female\", \"male\", \"male\", \"male\", \"male\", \"female\", \"male\", \"male\", \"male\", \"male\", \"female\", \"male\", \"male\", \"male\", \"male\", \"female\", \"female\", \"male\", \"male\", \"male\", \"male\", \"female\", \"male\", \"male\", \"male\", \"male\", \"female\", \"male\", \"male\", \"female\", \"male\", \"male\", \"male\", \"female\", \"male\", \"female\", \"male\", \"male\", \"male\", \"female\", \"male\", \"female\", \"male\", \"female\", \"female\", \"male\", \"male\", \"female\", \"female\", \"male\", \"male\", \"male\", \"male\", \"male\", \"female\", \"male\", \"male\", \"female\", \"male\", \"male\", \"female\", \"male\", \"male\", \"male\", \"female\", \"female\", \"male\", \"female\", \"male\", \"male\", \"male\", \"male\", \"male\", \"male\", \"male\", \"male\", \"male\", \"male\", \"female\", \"female\", \"male\", \"male\", \"female\", \"male\", \"female\", \"male\", \"female\", \"male\", \"male\", \"female\", \"female\", \"male\", \"male\", \"male\", \"male\", \"female\", \"female\", \"male\", \"male\", \"male\", \"female\", \"male\", \"male\", \"female\", \"female\", \"female\", \"female\", \"female\", \"female\", \"male\", \"male\", \"male\", \"male\", \"female\", \"male\", \"male\", \"male\", \"female\", \"female\", \"male\", \"male\", \"female\", \"male\", \"female\", \"female\", \"female\", \"male\", \"male\", \"female\", \"male\", \"male\", \"male\", \"male\", \"male\", \"male\", \"male\", \"male\", \"male\", \"female\", \"female\", \"female\", \"male\", \"female\", \"male\", \"male\", \"male\", \"female\", \"male\", \"female\", \"female\", \"male\", \"male\", \"female\", \"male\", \"male\", \"female\", \"female\", \"male\", \"female\", \"female\", \"female\", \"female\", \"male\", \"male\", \"female\", \"female\", \"male\", \"female\", \"female\", \"male\", \"male\", \"female\", \"female\", \"male\", \"female\", \"male\", \"female\", \"female\", \"female\", \"female\", \"male\", \"male\", \"male\", \"female\", \"male\", \"male\", \"female\", \"male\", \"male\", \"male\", \"female\", \"male\", \"male\", \"male\", \"female\", \"female\", \"female\", \"male\", \"male\", \"male\", \"male\", \"male\", \"male\", \"male\", \"male\", \"female\", \"female\", \"female\", \"female\", \"male\", \"male\", \"female\", \"male\", \"male\", \"male\", \"female\", \"female\", \"female\", \"female\", \"male\", \"male\", \"male\", \"male\", \"female\", \"female\", \"female\", \"male\", \"male\", \"male\", \"female\", \"female\", \"male\", \"female\", \"male\", \"male\", \"male\", \"female\", \"male\", \"female\", \"male\", \"male\", \"male\", \"female\", \"female\", \"male\", \"female\", \"male\", \"male\", \"female\", \"male\", \"male\", \"female\", \"male\", \"female\", \"male\", \"male\", \"male\", \"male\", \"female\", \"male\", \"male\", \"female\", \"male\", \"male\", \"female\", \"female\", \"female\", \"male\", \"female\", \"male\", \"male\", \"male\", \"female\", \"male\", \"male\", \"female\", \"female\", \"male\", \"male\", \"male\", \"female\", \"female\", \"male\", \"male\", \"female\", \"female\", \"female\", \"male\", \"male\", \"female\", \"male\", \"male\", \"female\", \"male\", \"male\", \"female\", \"male\", \"female\", \"male\", \"male\", \"male\", \"male\", \"male\", \"male\", \"male\", \"male\", \"female\", \"female\", \"male\", \"male\", \"male\", \"male\", \"male\", \"male\", \"male\", \"male\", \"male\", \"male\", \"female\", \"male\", \"male\", \"female\", \"female\", \"female\", \"male\", \"male\", \"male\", \"male\", \"female\", \"male\", \"male\", \"male\", \"female\", \"male\", \"female\", \"female\", \"male\", \"male\", \"male\", \"male\", \"male\", \"male\", \"male\", \"male\", \"male\", \"female\", \"male\", \"female\", \"male\", \"male\", \"female\", \"female\", \"female\", \"female\", \"male\", \"female\", \"male\", \"male\", \"male\", \"male\", \"male\", \"male\", \"female\", \"male\", \"male\", \"female\", \"male\", \"female\", \"male\", \"female\", \"male\", \"male\", \"female\", \"male\", \"male\", \"female\", \"male\", \"male\", \"male\", \"female\", \"male\", \"male\", \"female\", \"female\", \"female\", \"male\", \"female\", \"male\", \"female\", \"female\", \"female\", \"female\", \"male\", \"male\", \"male\", \"female\", \"male\", \"male\", \"male\", \"male\", \"male\", \"male\", \"male\", \"female\", \"male\", \"female\", \"male\", \"female\", \"female\", \"male\", \"male\", \"male\", \"male\", \"female\", \"male\", \"male\", \"female\", \"male\", \"male\", \"male\", \"female\", \"male\", \"female\", \"male\", \"male\", \"female\", \"female\", \"female\", \"male\", \"female\", \"female\", \"male\", \"male\", \"male\", \"female\", \"male\", \"male\", \"male\", \"male\", \"male\", \"female\", \"male\", \"female\", \"male\", \"male\", \"female\", \"male\", \"male\", \"male\", \"female\", \"male\", \"male\", \"male\", \"male\", \"male\", \"male\", \"male\", \"female\", \"female\", \"female\", \"male\", \"female\", \"male\", \"male\", \"female\", \"male\", \"female\", \"female\", \"male\", \"male\", \"male\", \"male\", \"male\", \"male\", \"male\", \"male\", \"female\", \"male\", \"male\", \"male\", \"male\", \"male\", \"male\", \"female\", \"female\", \"male\", \"male\", \"female\", \"male\", \"male\", \"female\", \"female\", \"male\", \"female\", \"male\", \"male\", \"male\", \"male\", \"female\", \"male\", \"female\", \"male\", \"female\", \"female\", \"male\", \"male\", \"female\", \"male\", \"male\", \"male\", \"male\", \"male\", \"male\", \"male\", \"male\", \"male\", \"male\", \"male\", \"female\", \"female\", \"male\", \"male\", \"male\", \"male\", \"male\", \"male\", \"female\", \"female\", \"male\", \"female\", \"male\", \"male\", \"male\", \"male\", \"male\", \"male\", \"male\", \"male\", \"female\", \"male\", \"female\", \"male\", \"male\", \"male\", \"male\", \"male\", \"female\", \"male\", \"male\", \"female\", \"male\", \"female\", \"male\", \"male\", \"male\", \"female\", \"male\", \"female\", \"male\", \"female\", \"male\", \"male\", \"male\", \"male\", \"male\", \"female\", \"female\", \"male\", \"male\", \"female\", \"male\", \"male\", \"male\", \"male\", \"male\", \"female\", \"female\", \"male\", \"female\", \"female\", \"male\", \"male\", \"male\", \"male\", \"male\", \"female\", \"male\", \"male\", \"male\", \"male\", \"male\", \"female\", \"male\", \"male\", \"male\", \"male\", \"female\", \"male\", \"male\", \"female\", \"male\", \"male\", \"male\", \"female\", \"male\", \"male\", \"male\", \"male\", \"female\", \"male\", \"male\", \"male\", \"female\", \"male\", \"female\", \"male\", \"female\", \"male\", \"male\", \"male\", \"male\", \"female\", \"male\", \"female\", \"male\", \"male\", \"female\", \"male\", \"female\", \"female\", \"female\", \"male\", \"male\", \"male\", \"male\", \"female\", \"male\", \"male\", \"male\", \"male\", \"male\", \"female\", \"male\", \"male\", \"male\", \"female\", \"female\", \"male\", \"female\", \"male\", \"female\", \"male\", \"male\", \"male\", \"male\", \"male\", \"female\", \"male\", \"female\", \"male\", \"male\", \"male\", \"female\", \"male\", \"male\", \"female\", \"male\", \"male\", \"male\", \"female\", \"male\", \"male\", \"female\", \"male\", \"male\", \"male\", \"male\", \"male\", \"female\", \"female\", \"male\", \"male\", \"male\", \"male\", \"female\", \"male\", \"male\", \"male\", \"male\", \"male\", \"male\", \"female\", \"male\", \"male\", \"male\", \"male\", \"male\", \"male\", \"female\", \"male\", \"male\", \"female\", \"female\", \"female\", \"female\", \"female\", \"male\", \"female\", \"male\", \"male\", \"male\", \"female\", \"female\", \"male\", \"female\", \"female\", \"male\", \"male\", \"male\", \"male\", \"female\", \"male\", \"male\", \"female\", \"female\", \"male\", \"male\", \"male\", \"female\", \"female\", \"male\", \"female\", \"male\", \"male\", \"female\", \"male\", \"female\", \"female\", \"male\", \"male\"], \"z\": [22.0, 38.0, 26.0, 35.0, 35.0, null, 54.0, 2.0, 27.0, 14.0, 4.0, 58.0, 20.0, 39.0, 14.0, 55.0, 2.0, null, 31.0, null, 35.0, 34.0, 15.0, 28.0, 8.0, 38.0, null, 19.0, null, null, 40.0, null, null, 66.0, 28.0, 42.0, null, 21.0, 18.0, 14.0, 40.0, 27.0, null, 3.0, 19.0, null, null, null, null, 18.0, 7.0, 21.0, 49.0, 29.0, 65.0, null, 21.0, 28.5, 5.0, 11.0, 22.0, 38.0, 45.0, 4.0, null, null, 29.0, 19.0, 17.0, 26.0, 32.0, 16.0, 21.0, 26.0, 32.0, 25.0, null, null, 0.83, 30.0, 22.0, 29.0, null, 28.0, 17.0, 33.0, 16.0, null, 23.0, 24.0, 29.0, 20.0, 46.0, 26.0, 59.0, null, 71.0, 23.0, 34.0, 34.0, 28.0, null, 21.0, 33.0, 37.0, 28.0, 21.0, null, 38.0, null, 47.0, 14.5, 22.0, 20.0, 17.0, 21.0, 70.5, 29.0, 24.0, 2.0, 21.0, null, 32.5, 32.5, 54.0, 12.0, null, 24.0, null, 45.0, 33.0, 20.0, 47.0, 29.0, 25.0, 23.0, 19.0, 37.0, 16.0, 24.0, null, 22.0, 24.0, 19.0, 18.0, 19.0, 27.0, 9.0, 36.5, 42.0, 51.0, 22.0, 55.5, 40.5, null, 51.0, 16.0, 30.0, null, null, 44.0, 40.0, 26.0, 17.0, 1.0, 9.0, null, 45.0, null, 28.0, 61.0, 4.0, 1.0, 21.0, 56.0, 18.0, null, 50.0, 30.0, 36.0, null, null, 9.0, 1.0, 4.0, null, null, 45.0, 40.0, 36.0, 32.0, 19.0, 19.0, 3.0, 44.0, 58.0, null, 42.0, null, 24.0, 28.0, null, 34.0, 45.5, 18.0, 2.0, 32.0, 26.0, 16.0, 40.0, 24.0, 35.0, 22.0, 30.0, null, 31.0, 27.0, 42.0, 32.0, 30.0, 16.0, 27.0, 51.0, null, 38.0, 22.0, 19.0, 20.5, 18.0, null, 35.0, 29.0, 59.0, 5.0, 24.0, null, 44.0, 8.0, 19.0, 33.0, null, null, 29.0, 22.0, 30.0, 44.0, 25.0, 24.0, 37.0, 54.0, null, 29.0, 62.0, 30.0, 41.0, 29.0, null, 30.0, 35.0, 50.0, null, 3.0, 52.0, 40.0, null, 36.0, 16.0, 25.0, 58.0, 35.0, null, 25.0, 41.0, 37.0, null, 63.0, 45.0, null, 7.0, 35.0, 65.0, 28.0, 16.0, 19.0, null, 33.0, 30.0, 22.0, 42.0, 22.0, 26.0, 19.0, 36.0, 24.0, 24.0, null, 23.5, 2.0, null, 50.0, null, null, 19.0, null, null, 0.92, null, 17.0, 30.0, 30.0, 24.0, 18.0, 26.0, 28.0, 43.0, 26.0, 24.0, 54.0, 31.0, 40.0, 22.0, 27.0, 30.0, 22.0, null, 36.0, 61.0, 36.0, 31.0, 16.0, null, 45.5, 38.0, 16.0, null, null, 29.0, 41.0, 45.0, 45.0, 2.0, 24.0, 28.0, 25.0, 36.0, 24.0, 40.0, null, 3.0, 42.0, 23.0, null, 15.0, 25.0, null, 28.0, 22.0, 38.0, null, null, 40.0, 29.0, 45.0, 35.0, null, 30.0, 60.0, null, null, 24.0, 25.0, 18.0, 19.0, 22.0, 3.0, null, 22.0, 27.0, 20.0, 19.0, 42.0, 1.0, 32.0, 35.0, null, 18.0, 1.0, 36.0, null, 17.0, 36.0, 21.0, 28.0, 23.0, 24.0, 22.0, 31.0, 46.0, 23.0, 28.0, 39.0, 26.0, 21.0, 28.0, 20.0, 34.0, 51.0, 3.0, 21.0, null, null, null, 33.0, null, 44.0, null, 34.0, 18.0, 30.0, 10.0, null, 21.0, 29.0, 28.0, 18.0, null, 28.0, 19.0, null, 32.0, 28.0, null, 42.0, 17.0, 50.0, 14.0, 21.0, 24.0, 64.0, 31.0, 45.0, 20.0, 25.0, 28.0, null, 4.0, 13.0, 34.0, 5.0, 52.0, 36.0, null, 30.0, 49.0, null, 29.0, 65.0, null, 50.0, null, 48.0, 34.0, 47.0, 48.0, null, 38.0, null, 56.0, null, 0.75, null, 38.0, 33.0, 23.0, 22.0, null, 34.0, 29.0, 22.0, 2.0, 9.0, null, 50.0, 63.0, 25.0, null, 35.0, 58.0, 30.0, 9.0, null, 21.0, 55.0, 71.0, 21.0, null, 54.0, null, 25.0, 24.0, 17.0, 21.0, null, 37.0, 16.0, 18.0, 33.0, null, 28.0, 26.0, 29.0, null, 36.0, 54.0, 24.0, 47.0, 34.0, null, 36.0, 32.0, 30.0, 22.0, null, 44.0, null, 40.5, 50.0, null, 39.0, 23.0, 2.0, null, 17.0, null, 30.0, 7.0, 45.0, 30.0, null, 22.0, 36.0, 9.0, 11.0, 32.0, 50.0, 64.0, 19.0, null, 33.0, 8.0, 17.0, 27.0, null, 22.0, 22.0, 62.0, 48.0, null, 39.0, 36.0, null, 40.0, 28.0, null, null, 24.0, 19.0, 29.0, null, 32.0, 62.0, 53.0, 36.0, null, 16.0, 19.0, 34.0, 39.0, null, 32.0, 25.0, 39.0, 54.0, 36.0, null, 18.0, 47.0, 60.0, 22.0, null, 35.0, 52.0, 47.0, null, 37.0, 36.0, null, 49.0, null, 49.0, 24.0, null, null, 44.0, 35.0, 36.0, 30.0, 27.0, 22.0, 40.0, 39.0, null, null, null, 35.0, 24.0, 34.0, 26.0, 4.0, 26.0, 27.0, 42.0, 20.0, 21.0, 21.0, 61.0, 57.0, 21.0, 26.0, null, 80.0, 51.0, 32.0, null, 9.0, 28.0, 32.0, 31.0, 41.0, null, 20.0, 24.0, 2.0, null, 0.75, 48.0, 19.0, 56.0, null, 23.0, null, 18.0, 21.0, null, 18.0, 24.0, null, 32.0, 23.0, 58.0, 50.0, 40.0, 47.0, 36.0, 20.0, 32.0, 25.0, null, 43.0, null, 40.0, 31.0, 70.0, 31.0, null, 18.0, 24.5, 18.0, 43.0, 36.0, null, 27.0, 20.0, 14.0, 60.0, 25.0, 14.0, 19.0, 18.0, 15.0, 31.0, 4.0, null, 25.0, 60.0, 52.0, 44.0, null, 49.0, 42.0, 18.0, 35.0, 18.0, 25.0, 26.0, 39.0, 45.0, 42.0, 22.0, null, 24.0, null, 48.0, 29.0, 52.0, 19.0, 38.0, 27.0, null, 33.0, 6.0, 17.0, 34.0, 50.0, 27.0, 20.0, 30.0, null, 25.0, 25.0, 29.0, 11.0, null, 23.0, 23.0, 28.5, 48.0, 35.0, null, null, null, 36.0, 21.0, 24.0, 31.0, 70.0, 16.0, 30.0, 19.0, 31.0, 4.0, 6.0, 33.0, 23.0, 48.0, 0.67, 28.0, 18.0, 34.0, 33.0, null, 41.0, 20.0, 36.0, 16.0, 51.0, null, 30.5, null, 32.0, 24.0, 48.0, 57.0, null, 54.0, 18.0, null, 5.0, null, 43.0, 13.0, 17.0, 29.0, null, 25.0, 25.0, 18.0, 8.0, 1.0, 46.0, null, 16.0, null, null, 25.0, 39.0, 49.0, 31.0, 30.0, 30.0, 34.0, 31.0, 11.0, 0.42, 27.0, 31.0, 39.0, 18.0, 39.0, 33.0, 26.0, 39.0, 35.0, 6.0, 30.5, null, 23.0, 31.0, 43.0, 10.0, 52.0, 27.0, 38.0, 27.0, 2.0, null, null, 1.0, null, 62.0, 15.0, 0.83, null, 23.0, 18.0, 39.0, 21.0, null, 32.0, null, 20.0, 16.0, 30.0, 34.5, 17.0, 42.0, null, 35.0, 28.0, null, 4.0, 74.0, 9.0, 16.0, 44.0, 18.0, 45.0, 51.0, 24.0, null, 41.0, 21.0, 48.0, null, 24.0, 42.0, 27.0, 31.0, null, 4.0, 26.0, 47.0, 33.0, 47.0, 28.0, 15.0, 20.0, 19.0, null, 56.0, 25.0, 33.0, 22.0, 28.0, 25.0, 39.0, 27.0, 19.0, null, 26.0, 32.0]}],                        {\"coloraxis\": {\"colorbar\": {\"title\": {\"text\": \"Age\"}}, \"colorscale\": [[0.0, \"#0d0887\"], [0.1111111111111111, \"#46039f\"], [0.2222222222222222, \"#7201a8\"], [0.3333333333333333, \"#9c179e\"], [0.4444444444444444, \"#bd3786\"], [0.5555555555555556, \"#d8576b\"], [0.6666666666666666, \"#ed7953\"], [0.7777777777777778, \"#fb9f3a\"], [0.8888888888888888, \"#fdca26\"], [1.0, \"#f0f921\"]]}, \"legend\": {\"tracegroupgap\": 0}, \"margin\": {\"t\": 60}, \"scene\": {\"domain\": {\"x\": [0.0, 1.0], \"y\": [0.0, 1.0]}, \"xaxis\": {\"title\": {\"text\": \"Name\"}}, \"yaxis\": {\"title\": {\"text\": \"Sex\"}}, \"zaxis\": {\"title\": {\"text\": \"Age\"}}}, \"template\": {\"data\": {\"bar\": [{\"error_x\": {\"color\": \"#2a3f5f\"}, \"error_y\": {\"color\": \"#2a3f5f\"}, \"marker\": {\"line\": {\"color\": \"#E5ECF6\", \"width\": 0.5}}, \"type\": \"bar\"}], \"barpolar\": [{\"marker\": {\"line\": {\"color\": \"#E5ECF6\", \"width\": 0.5}}, \"type\": \"barpolar\"}], \"carpet\": [{\"aaxis\": {\"endlinecolor\": \"#2a3f5f\", \"gridcolor\": \"white\", \"linecolor\": \"white\", \"minorgridcolor\": \"white\", \"startlinecolor\": \"#2a3f5f\"}, \"baxis\": {\"endlinecolor\": \"#2a3f5f\", \"gridcolor\": \"white\", \"linecolor\": \"white\", \"minorgridcolor\": \"white\", \"startlinecolor\": \"#2a3f5f\"}, \"type\": \"carpet\"}], \"choropleth\": [{\"colorbar\": {\"outlinewidth\": 0, \"ticks\": \"\"}, \"type\": \"choropleth\"}], \"contour\": [{\"colorbar\": {\"outlinewidth\": 0, \"ticks\": \"\"}, \"colorscale\": [[0.0, \"#0d0887\"], [0.1111111111111111, \"#46039f\"], [0.2222222222222222, \"#7201a8\"], [0.3333333333333333, \"#9c179e\"], [0.4444444444444444, \"#bd3786\"], [0.5555555555555556, \"#d8576b\"], [0.6666666666666666, \"#ed7953\"], [0.7777777777777778, \"#fb9f3a\"], [0.8888888888888888, \"#fdca26\"], [1.0, \"#f0f921\"]], \"type\": \"contour\"}], \"contourcarpet\": [{\"colorbar\": {\"outlinewidth\": 0, \"ticks\": \"\"}, \"type\": \"contourcarpet\"}], \"heatmap\": [{\"colorbar\": {\"outlinewidth\": 0, \"ticks\": \"\"}, \"colorscale\": [[0.0, \"#0d0887\"], [0.1111111111111111, \"#46039f\"], [0.2222222222222222, \"#7201a8\"], [0.3333333333333333, \"#9c179e\"], [0.4444444444444444, \"#bd3786\"], [0.5555555555555556, \"#d8576b\"], [0.6666666666666666, \"#ed7953\"], [0.7777777777777778, \"#fb9f3a\"], [0.8888888888888888, \"#fdca26\"], [1.0, \"#f0f921\"]], \"type\": \"heatmap\"}], \"heatmapgl\": [{\"colorbar\": {\"outlinewidth\": 0, \"ticks\": \"\"}, \"colorscale\": [[0.0, \"#0d0887\"], [0.1111111111111111, \"#46039f\"], [0.2222222222222222, \"#7201a8\"], [0.3333333333333333, \"#9c179e\"], [0.4444444444444444, \"#bd3786\"], [0.5555555555555556, \"#d8576b\"], [0.6666666666666666, \"#ed7953\"], [0.7777777777777778, \"#fb9f3a\"], [0.8888888888888888, \"#fdca26\"], [1.0, \"#f0f921\"]], \"type\": \"heatmapgl\"}], \"histogram\": [{\"marker\": {\"colorbar\": {\"outlinewidth\": 0, \"ticks\": \"\"}}, \"type\": \"histogram\"}], \"histogram2d\": [{\"colorbar\": {\"outlinewidth\": 0, \"ticks\": \"\"}, \"colorscale\": [[0.0, \"#0d0887\"], [0.1111111111111111, \"#46039f\"], [0.2222222222222222, \"#7201a8\"], [0.3333333333333333, \"#9c179e\"], [0.4444444444444444, \"#bd3786\"], [0.5555555555555556, \"#d8576b\"], [0.6666666666666666, \"#ed7953\"], [0.7777777777777778, \"#fb9f3a\"], [0.8888888888888888, \"#fdca26\"], [1.0, \"#f0f921\"]], \"type\": \"histogram2d\"}], \"histogram2dcontour\": [{\"colorbar\": {\"outlinewidth\": 0, \"ticks\": \"\"}, \"colorscale\": [[0.0, \"#0d0887\"], [0.1111111111111111, \"#46039f\"], [0.2222222222222222, \"#7201a8\"], [0.3333333333333333, \"#9c179e\"], [0.4444444444444444, \"#bd3786\"], [0.5555555555555556, \"#d8576b\"], [0.6666666666666666, \"#ed7953\"], [0.7777777777777778, \"#fb9f3a\"], [0.8888888888888888, \"#fdca26\"], [1.0, \"#f0f921\"]], \"type\": \"histogram2dcontour\"}], \"mesh3d\": [{\"colorbar\": {\"outlinewidth\": 0, \"ticks\": \"\"}, \"type\": \"mesh3d\"}], \"parcoords\": [{\"line\": {\"colorbar\": {\"outlinewidth\": 0, \"ticks\": \"\"}}, \"type\": \"parcoords\"}], \"pie\": [{\"automargin\": true, \"type\": \"pie\"}], \"scatter\": [{\"marker\": {\"colorbar\": {\"outlinewidth\": 0, \"ticks\": \"\"}}, \"type\": \"scatter\"}], \"scatter3d\": [{\"line\": {\"colorbar\": {\"outlinewidth\": 0, \"ticks\": \"\"}}, \"marker\": {\"colorbar\": {\"outlinewidth\": 0, \"ticks\": \"\"}}, \"type\": \"scatter3d\"}], \"scattercarpet\": [{\"marker\": {\"colorbar\": {\"outlinewidth\": 0, \"ticks\": \"\"}}, \"type\": \"scattercarpet\"}], \"scattergeo\": [{\"marker\": {\"colorbar\": {\"outlinewidth\": 0, \"ticks\": \"\"}}, \"type\": \"scattergeo\"}], \"scattergl\": [{\"marker\": {\"colorbar\": {\"outlinewidth\": 0, \"ticks\": \"\"}}, \"type\": \"scattergl\"}], \"scattermapbox\": [{\"marker\": {\"colorbar\": {\"outlinewidth\": 0, \"ticks\": \"\"}}, \"type\": \"scattermapbox\"}], \"scatterpolar\": [{\"marker\": {\"colorbar\": {\"outlinewidth\": 0, \"ticks\": \"\"}}, \"type\": \"scatterpolar\"}], \"scatterpolargl\": [{\"marker\": {\"colorbar\": {\"outlinewidth\": 0, \"ticks\": \"\"}}, \"type\": \"scatterpolargl\"}], \"scatterternary\": [{\"marker\": {\"colorbar\": {\"outlinewidth\": 0, \"ticks\": \"\"}}, \"type\": \"scatterternary\"}], \"surface\": [{\"colorbar\": {\"outlinewidth\": 0, \"ticks\": \"\"}, \"colorscale\": [[0.0, \"#0d0887\"], [0.1111111111111111, \"#46039f\"], [0.2222222222222222, \"#7201a8\"], [0.3333333333333333, \"#9c179e\"], [0.4444444444444444, \"#bd3786\"], [0.5555555555555556, \"#d8576b\"], [0.6666666666666666, \"#ed7953\"], [0.7777777777777778, \"#fb9f3a\"], [0.8888888888888888, \"#fdca26\"], [1.0, \"#f0f921\"]], \"type\": \"surface\"}], \"table\": [{\"cells\": {\"fill\": {\"color\": \"#EBF0F8\"}, \"line\": {\"color\": \"white\"}}, \"header\": {\"fill\": {\"color\": \"#C8D4E3\"}, \"line\": {\"color\": \"white\"}}, \"type\": \"table\"}]}, \"layout\": {\"annotationdefaults\": {\"arrowcolor\": \"#2a3f5f\", \"arrowhead\": 0, \"arrowwidth\": 1}, \"autotypenumbers\": \"strict\", \"coloraxis\": {\"colorbar\": {\"outlinewidth\": 0, \"ticks\": \"\"}}, \"colorscale\": {\"diverging\": [[0, \"#8e0152\"], [0.1, \"#c51b7d\"], [0.2, \"#de77ae\"], [0.3, \"#f1b6da\"], [0.4, \"#fde0ef\"], [0.5, \"#f7f7f7\"], [0.6, \"#e6f5d0\"], [0.7, \"#b8e186\"], [0.8, \"#7fbc41\"], [0.9, \"#4d9221\"], [1, \"#276419\"]], \"sequential\": [[0.0, \"#0d0887\"], [0.1111111111111111, \"#46039f\"], [0.2222222222222222, \"#7201a8\"], [0.3333333333333333, \"#9c179e\"], [0.4444444444444444, \"#bd3786\"], [0.5555555555555556, \"#d8576b\"], [0.6666666666666666, \"#ed7953\"], [0.7777777777777778, \"#fb9f3a\"], [0.8888888888888888, \"#fdca26\"], [1.0, \"#f0f921\"]], \"sequentialminus\": [[0.0, \"#0d0887\"], [0.1111111111111111, \"#46039f\"], [0.2222222222222222, \"#7201a8\"], [0.3333333333333333, \"#9c179e\"], [0.4444444444444444, \"#bd3786\"], [0.5555555555555556, \"#d8576b\"], [0.6666666666666666, \"#ed7953\"], [0.7777777777777778, \"#fb9f3a\"], [0.8888888888888888, \"#fdca26\"], [1.0, \"#f0f921\"]]}, \"colorway\": [\"#636efa\", \"#EF553B\", \"#00cc96\", \"#ab63fa\", \"#FFA15A\", \"#19d3f3\", \"#FF6692\", \"#B6E880\", \"#FF97FF\", \"#FECB52\"], \"font\": {\"color\": \"#2a3f5f\"}, \"geo\": {\"bgcolor\": \"white\", \"lakecolor\": \"white\", \"landcolor\": \"#E5ECF6\", \"showlakes\": true, \"showland\": true, \"subunitcolor\": \"white\"}, \"hoverlabel\": {\"align\": \"left\"}, \"hovermode\": \"closest\", \"mapbox\": {\"style\": \"light\"}, \"paper_bgcolor\": \"white\", \"plot_bgcolor\": \"#E5ECF6\", \"polar\": {\"angularaxis\": {\"gridcolor\": \"white\", \"linecolor\": \"white\", \"ticks\": \"\"}, \"bgcolor\": \"#E5ECF6\", \"radialaxis\": {\"gridcolor\": \"white\", \"linecolor\": \"white\", \"ticks\": \"\"}}, \"scene\": {\"xaxis\": {\"backgroundcolor\": \"#E5ECF6\", \"gridcolor\": \"white\", \"gridwidth\": 2, \"linecolor\": \"white\", \"showbackground\": true, \"ticks\": \"\", \"zerolinecolor\": \"white\"}, \"yaxis\": {\"backgroundcolor\": \"#E5ECF6\", \"gridcolor\": \"white\", \"gridwidth\": 2, \"linecolor\": \"white\", \"showbackground\": true, \"ticks\": \"\", \"zerolinecolor\": \"white\"}, \"zaxis\": {\"backgroundcolor\": \"#E5ECF6\", \"gridcolor\": \"white\", \"gridwidth\": 2, \"linecolor\": \"white\", \"showbackground\": true, \"ticks\": \"\", \"zerolinecolor\": \"white\"}}, \"shapedefaults\": {\"line\": {\"color\": \"#2a3f5f\"}}, \"ternary\": {\"aaxis\": {\"gridcolor\": \"white\", \"linecolor\": \"white\", \"ticks\": \"\"}, \"baxis\": {\"gridcolor\": \"white\", \"linecolor\": \"white\", \"ticks\": \"\"}, \"bgcolor\": \"#E5ECF6\", \"caxis\": {\"gridcolor\": \"white\", \"linecolor\": \"white\", \"ticks\": \"\"}}, \"title\": {\"x\": 0.05}, \"xaxis\": {\"automargin\": true, \"gridcolor\": \"white\", \"linecolor\": \"white\", \"ticks\": \"\", \"title\": {\"standoff\": 15}, \"zerolinecolor\": \"white\", \"zerolinewidth\": 2}, \"yaxis\": {\"automargin\": true, \"gridcolor\": \"white\", \"linecolor\": \"white\", \"ticks\": \"\", \"title\": {\"standoff\": 15}, \"zerolinecolor\": \"white\", \"zerolinewidth\": 2}}}},                        {\"responsive\": true}                    ).then(function(){\n",
       "                            \n",
       "var gd = document.getElementById('bbfa17c9-0549-4bfd-b2c1-4c9a93db2edc');\n",
       "var x = new MutationObserver(function (mutations, observer) {{\n",
       "        var display = window.getComputedStyle(gd).display;\n",
       "        if (!display || display === 'none') {{\n",
       "            console.log([gd, 'removed!']);\n",
       "            Plotly.purge(gd);\n",
       "            observer.disconnect();\n",
       "        }}\n",
       "}});\n",
       "\n",
       "// Listen for the removal of the full notebook cells\n",
       "var notebookContainer = gd.closest('#notebook-container');\n",
       "if (notebookContainer) {{\n",
       "    x.observe(notebookContainer, {childList: true});\n",
       "}}\n",
       "\n",
       "// Listen for the clearing of the current output cell\n",
       "var outputEl = gd.closest('.output');\n",
       "if (outputEl) {{\n",
       "    x.observe(outputEl, {childList: true});\n",
       "}}\n",
       "\n",
       "                        })                };                });            </script>        </div>"
      ]
     },
     "metadata": {},
     "output_type": "display_data"
    }
   ],
   "source": [
    "df = pd.read_csv('../input/titanic/train.csv')\n",
    "fig = px.scatter_3d(df, x='Name', y='Sex', z='Age',\n",
    "                    color='Age')\n",
    "fig.show()"
   ]
  },
  {
   "cell_type": "code",
   "execution_count": 14,
   "metadata": {
    "execution": {
     "iopub.execute_input": "2021-05-07T10:40:44.255779Z",
     "iopub.status.busy": "2021-05-07T10:40:44.254813Z",
     "iopub.status.idle": "2021-05-07T10:40:44.350432Z",
     "shell.execute_reply": "2021-05-07T10:40:44.349862Z"
    },
    "papermill": {
     "duration": 0.143101,
     "end_time": "2021-05-07T10:40:44.350602",
     "exception": false,
     "start_time": "2021-05-07T10:40:44.207501",
     "status": "completed"
    },
    "tags": []
   },
   "outputs": [
    {
     "data": {
      "text/html": [
       "<div>                            <div id=\"26446beb-de71-4c8c-99e7-c2e9cc794c47\" class=\"plotly-graph-div\" style=\"height:525px; width:100%;\"></div>            <script type=\"text/javascript\">                require([\"plotly\"], function(Plotly) {                    window.PLOTLYENV=window.PLOTLYENV || {};                                    if (document.getElementById(\"26446beb-de71-4c8c-99e7-c2e9cc794c47\")) {                    Plotly.newPlot(                        \"26446beb-de71-4c8c-99e7-c2e9cc794c47\",                        [{\"hovertemplate\": \"PassengerId=%{x}<br>Age=%{y}<br>Survived=%{marker.color}<extra></extra>\", \"legendgroup\": \"\", \"marker\": {\"color\": [0, 1, 1, 1, 0, 0, 0, 0, 1, 1, 1, 1, 0, 0, 0, 1, 0, 1, 0, 1, 0, 1, 1, 1, 0, 1, 0, 0, 1, 0, 0, 1, 1, 0, 0, 0, 1, 0, 0, 1, 0, 0, 0, 1, 1, 0, 0, 1, 0, 0, 0, 0, 1, 1, 0, 1, 1, 0, 1, 0, 0, 1, 0, 0, 0, 1, 1, 0, 1, 0, 0, 0, 0, 0, 1, 0, 0, 0, 1, 1, 0, 1, 1, 0, 1, 1, 0, 0, 1, 0, 0, 0, 0, 0, 0, 0, 0, 1, 1, 0, 0, 0, 0, 0, 0, 0, 1, 1, 0, 1, 0, 0, 0, 0, 0, 0, 0, 0, 0, 0, 0, 0, 0, 1, 0, 1, 0, 1, 1, 0, 0, 0, 0, 1, 0, 0, 1, 0, 0, 0, 0, 1, 1, 0, 0, 0, 1, 0, 0, 0, 0, 1, 0, 0, 0, 0, 1, 0, 0, 0, 0, 1, 0, 0, 0, 1, 1, 0, 0, 0, 0, 0, 1, 0, 0, 0, 0, 0, 0, 0, 0, 0, 0, 1, 1, 0, 1, 1, 0, 0, 1, 0, 1, 1, 1, 1, 0, 0, 1, 0, 0, 0, 0, 0, 1, 0, 0, 1, 1, 1, 0, 1, 0, 0, 0, 1, 1, 0, 1, 0, 1, 0, 0, 0, 1, 0, 1, 0, 0, 0, 1, 0, 0, 1, 0, 0, 0, 1, 0, 0, 0, 1, 0, 0, 0, 0, 0, 1, 1, 0, 0, 0, 0, 0, 0, 1, 1, 1, 1, 1, 0, 1, 0, 0, 0, 0, 0, 1, 1, 1, 0, 1, 1, 0, 1, 1, 0, 0, 0, 1, 0, 0, 0, 1, 0, 0, 1, 0, 1, 1, 1, 1, 0, 0, 0, 0, 0, 0, 1, 1, 1, 1, 0, 1, 0, 1, 1, 1, 0, 1, 1, 1, 0, 0, 0, 1, 1, 0, 1, 1, 0, 0, 1, 1, 0, 1, 0, 1, 1, 1, 1, 0, 0, 0, 1, 0, 0, 1, 1, 0, 1, 1, 0, 0, 0, 1, 1, 1, 1, 0, 0, 0, 0, 0, 0, 0, 1, 0, 1, 1, 0, 0, 0, 0, 0, 0, 1, 1, 1, 1, 1, 0, 0, 0, 0, 1, 1, 0, 0, 0, 1, 1, 0, 1, 0, 0, 0, 1, 0, 1, 1, 1, 0, 1, 1, 0, 0, 0, 0, 1, 1, 0, 0, 0, 0, 0, 0, 1, 0, 0, 0, 0, 1, 0, 1, 0, 1, 1, 0, 0, 0, 0, 0, 0, 0, 0, 1, 1, 0, 1, 1, 1, 1, 0, 0, 1, 0, 1, 0, 0, 1, 0, 0, 1, 1, 1, 1, 1, 1, 1, 0, 0, 0, 1, 0, 1, 0, 1, 1, 0, 1, 0, 0, 0, 0, 0, 0, 0, 0, 1, 0, 0, 1, 1, 0, 0, 0, 0, 0, 1, 0, 0, 0, 1, 1, 0, 1, 0, 0, 1, 0, 0, 0, 0, 0, 0, 1, 0, 0, 0, 0, 0, 0, 0, 1, 0, 1, 1, 0, 1, 1, 0, 1, 1, 0, 0, 1, 0, 1, 0, 1, 0, 0, 1, 0, 0, 1, 0, 0, 0, 1, 0, 0, 1, 0, 1, 0, 1, 0, 1, 1, 0, 0, 1, 0, 0, 1, 1, 0, 1, 1, 0, 0, 1, 1, 0, 1, 0, 1, 1, 0, 0, 0, 0, 0, 0, 0, 0, 0, 1, 1, 1, 1, 1, 0, 0, 1, 1, 0, 1, 1, 1, 0, 0, 0, 1, 0, 1, 0, 0, 0, 1, 0, 0, 0, 0, 1, 0, 0, 1, 1, 0, 0, 0, 1, 0, 0, 1, 1, 1, 0, 0, 1, 0, 0, 1, 0, 0, 1, 0, 0, 1, 1, 0, 0, 0, 0, 1, 0, 0, 1, 0, 1, 0, 0, 1, 0, 0, 0, 0, 0, 1, 0, 1, 1, 1, 0, 1, 0, 1, 0, 1, 0, 1, 0, 0, 0, 0, 0, 0, 1, 0, 0, 0, 1, 0, 0, 0, 0, 1, 1, 0, 0, 1, 0, 0, 0, 1, 0, 1, 0, 1, 0, 0, 0, 0, 0, 0, 0, 1, 1, 1, 1, 0, 0, 0, 0, 1, 0, 0, 1, 1, 0, 0, 0, 0, 1, 1, 1, 1, 1, 0, 1, 0, 0, 0, 1, 1, 0, 0, 1, 0, 0, 0, 1, 0, 1, 1, 0, 0, 1, 0, 0, 0, 0, 0, 0, 1, 0, 0, 1, 0, 1, 0, 1, 0, 0, 1, 0, 0, 1, 1, 0, 0, 1, 1, 0, 0, 0, 1, 0, 0, 1, 1, 0, 1, 0, 0, 0, 0, 0, 0, 0, 0, 1, 0, 0, 1, 0, 1, 1, 1, 0, 0, 0, 0, 1, 0, 1, 0, 0, 0, 0, 0, 0, 0, 1, 1, 0, 0, 0, 1, 1, 1, 1, 0, 0, 0, 0, 1, 0, 0, 0, 0, 0, 0, 0, 0, 0, 0, 1, 1, 0, 1, 0, 0, 0, 1, 1, 1, 1, 1, 0, 0, 0, 1, 0, 0, 1, 1, 0, 0, 1, 0, 0, 0, 0, 0, 0, 1, 0, 0, 0, 1, 0, 1, 1, 1, 1, 0, 0, 0, 1, 0, 0, 1, 1, 0, 0, 1, 0, 1, 0, 0, 1, 1, 0, 0, 0, 1, 1, 0, 0, 0, 0, 0, 0, 1, 0, 1, 0], \"coloraxis\": \"coloraxis\", \"symbol\": \"circle\"}, \"mode\": \"markers\", \"name\": \"\", \"orientation\": \"v\", \"showlegend\": false, \"type\": \"scatter\", \"x\": [1, 2, 3, 4, 5, 6, 7, 8, 9, 10, 11, 12, 13, 14, 15, 16, 17, 18, 19, 20, 21, 22, 23, 24, 25, 26, 27, 28, 29, 30, 31, 32, 33, 34, 35, 36, 37, 38, 39, 40, 41, 42, 43, 44, 45, 46, 47, 48, 49, 50, 51, 52, 53, 54, 55, 56, 57, 58, 59, 60, 61, 62, 63, 64, 65, 66, 67, 68, 69, 70, 71, 72, 73, 74, 75, 76, 77, 78, 79, 80, 81, 82, 83, 84, 85, 86, 87, 88, 89, 90, 91, 92, 93, 94, 95, 96, 97, 98, 99, 100, 101, 102, 103, 104, 105, 106, 107, 108, 109, 110, 111, 112, 113, 114, 115, 116, 117, 118, 119, 120, 121, 122, 123, 124, 125, 126, 127, 128, 129, 130, 131, 132, 133, 134, 135, 136, 137, 138, 139, 140, 141, 142, 143, 144, 145, 146, 147, 148, 149, 150, 151, 152, 153, 154, 155, 156, 157, 158, 159, 160, 161, 162, 163, 164, 165, 166, 167, 168, 169, 170, 171, 172, 173, 174, 175, 176, 177, 178, 179, 180, 181, 182, 183, 184, 185, 186, 187, 188, 189, 190, 191, 192, 193, 194, 195, 196, 197, 198, 199, 200, 201, 202, 203, 204, 205, 206, 207, 208, 209, 210, 211, 212, 213, 214, 215, 216, 217, 218, 219, 220, 221, 222, 223, 224, 225, 226, 227, 228, 229, 230, 231, 232, 233, 234, 235, 236, 237, 238, 239, 240, 241, 242, 243, 244, 245, 246, 247, 248, 249, 250, 251, 252, 253, 254, 255, 256, 257, 258, 259, 260, 261, 262, 263, 264, 265, 266, 267, 268, 269, 270, 271, 272, 273, 274, 275, 276, 277, 278, 279, 280, 281, 282, 283, 284, 285, 286, 287, 288, 289, 290, 291, 292, 293, 294, 295, 296, 297, 298, 299, 300, 301, 302, 303, 304, 305, 306, 307, 308, 309, 310, 311, 312, 313, 314, 315, 316, 317, 318, 319, 320, 321, 322, 323, 324, 325, 326, 327, 328, 329, 330, 331, 332, 333, 334, 335, 336, 337, 338, 339, 340, 341, 342, 343, 344, 345, 346, 347, 348, 349, 350, 351, 352, 353, 354, 355, 356, 357, 358, 359, 360, 361, 362, 363, 364, 365, 366, 367, 368, 369, 370, 371, 372, 373, 374, 375, 376, 377, 378, 379, 380, 381, 382, 383, 384, 385, 386, 387, 388, 389, 390, 391, 392, 393, 394, 395, 396, 397, 398, 399, 400, 401, 402, 403, 404, 405, 406, 407, 408, 409, 410, 411, 412, 413, 414, 415, 416, 417, 418, 419, 420, 421, 422, 423, 424, 425, 426, 427, 428, 429, 430, 431, 432, 433, 434, 435, 436, 437, 438, 439, 440, 441, 442, 443, 444, 445, 446, 447, 448, 449, 450, 451, 452, 453, 454, 455, 456, 457, 458, 459, 460, 461, 462, 463, 464, 465, 466, 467, 468, 469, 470, 471, 472, 473, 474, 475, 476, 477, 478, 479, 480, 481, 482, 483, 484, 485, 486, 487, 488, 489, 490, 491, 492, 493, 494, 495, 496, 497, 498, 499, 500, 501, 502, 503, 504, 505, 506, 507, 508, 509, 510, 511, 512, 513, 514, 515, 516, 517, 518, 519, 520, 521, 522, 523, 524, 525, 526, 527, 528, 529, 530, 531, 532, 533, 534, 535, 536, 537, 538, 539, 540, 541, 542, 543, 544, 545, 546, 547, 548, 549, 550, 551, 552, 553, 554, 555, 556, 557, 558, 559, 560, 561, 562, 563, 564, 565, 566, 567, 568, 569, 570, 571, 572, 573, 574, 575, 576, 577, 578, 579, 580, 581, 582, 583, 584, 585, 586, 587, 588, 589, 590, 591, 592, 593, 594, 595, 596, 597, 598, 599, 600, 601, 602, 603, 604, 605, 606, 607, 608, 609, 610, 611, 612, 613, 614, 615, 616, 617, 618, 619, 620, 621, 622, 623, 624, 625, 626, 627, 628, 629, 630, 631, 632, 633, 634, 635, 636, 637, 638, 639, 640, 641, 642, 643, 644, 645, 646, 647, 648, 649, 650, 651, 652, 653, 654, 655, 656, 657, 658, 659, 660, 661, 662, 663, 664, 665, 666, 667, 668, 669, 670, 671, 672, 673, 674, 675, 676, 677, 678, 679, 680, 681, 682, 683, 684, 685, 686, 687, 688, 689, 690, 691, 692, 693, 694, 695, 696, 697, 698, 699, 700, 701, 702, 703, 704, 705, 706, 707, 708, 709, 710, 711, 712, 713, 714, 715, 716, 717, 718, 719, 720, 721, 722, 723, 724, 725, 726, 727, 728, 729, 730, 731, 732, 733, 734, 735, 736, 737, 738, 739, 740, 741, 742, 743, 744, 745, 746, 747, 748, 749, 750, 751, 752, 753, 754, 755, 756, 757, 758, 759, 760, 761, 762, 763, 764, 765, 766, 767, 768, 769, 770, 771, 772, 773, 774, 775, 776, 777, 778, 779, 780, 781, 782, 783, 784, 785, 786, 787, 788, 789, 790, 791, 792, 793, 794, 795, 796, 797, 798, 799, 800, 801, 802, 803, 804, 805, 806, 807, 808, 809, 810, 811, 812, 813, 814, 815, 816, 817, 818, 819, 820, 821, 822, 823, 824, 825, 826, 827, 828, 829, 830, 831, 832, 833, 834, 835, 836, 837, 838, 839, 840, 841, 842, 843, 844, 845, 846, 847, 848, 849, 850, 851, 852, 853, 854, 855, 856, 857, 858, 859, 860, 861, 862, 863, 864, 865, 866, 867, 868, 869, 870, 871, 872, 873, 874, 875, 876, 877, 878, 879, 880, 881, 882, 883, 884, 885, 886, 887, 888, 889, 890, 891], \"xaxis\": \"x\", \"y\": [22, 38, 26, 35, 35, 27, 54, 2, 27, 14, 4, 58, 20, 39, 14, 55, 2, 28, 31, 20, 35, 34, 15, 28, 8, 38, 34, 19, 16, 16, 40, 42, 26, 66, 28, 42, 38, 21, 18, 14, 40, 27, 36, 3, 19, 26, 39, 30, 15, 18, 7, 21, 49, 29, 65, 40, 21, 28, 5, 11, 22, 38, 45, 4, 21, 36, 29, 19, 17, 26, 32, 16, 21, 26, 32, 25, 30, 40, 0, 30, 22, 29, 23, 28, 17, 33, 16, 35, 23, 24, 29, 20, 46, 26, 59, 19, 71, 23, 34, 34, 28, 28, 21, 33, 37, 28, 21, 20, 38, 31, 47, 14, 22, 20, 17, 21, 70, 29, 24, 2, 21, 24, 32, 32, 54, 12, 38, 24, 31, 45, 33, 20, 47, 29, 25, 23, 19, 37, 16, 24, 28, 22, 24, 19, 18, 19, 27, 9, 36, 42, 51, 22, 55, 40, 33, 51, 16, 30, 27, 27, 44, 40, 26, 17, 1, 9, 33, 45, 24, 28, 61, 4, 1, 21, 56, 18, 30, 50, 30, 36, 32, 15, 9, 1, 4, 23, 33, 45, 40, 36, 32, 19, 19, 3, 44, 58, 34, 42, 29, 24, 28, 16, 34, 45, 18, 2, 32, 26, 16, 40, 24, 35, 22, 30, 18, 31, 27, 42, 32, 30, 16, 27, 51, 33, 38, 22, 19, 20, 18, 36, 35, 29, 59, 5, 24, 36, 44, 8, 19, 33, 23, 35, 29, 22, 30, 44, 25, 24, 37, 54, 36, 29, 62, 30, 41, 29, 26, 30, 35, 50, 19, 3, 52, 40, 35, 36, 16, 25, 58, 35, 25, 25, 41, 37, 30, 63, 45, 27, 7, 35, 65, 28, 16, 19, 42, 33, 30, 22, 42, 22, 26, 19, 36, 24, 24, 20, 23, 2, 28, 50, 24, 23, 19, 29, 32, 0, 30, 17, 30, 30, 24, 18, 26, 28, 43, 26, 24, 54, 31, 40, 22, 27, 30, 22, 30, 36, 61, 36, 31, 16, 40, 45, 38, 16, 15, 18, 29, 41, 45, 45, 2, 24, 28, 25, 36, 24, 40, 23, 3, 42, 23, 16, 15, 25, 40, 28, 22, 38, 32, 42, 40, 29, 45, 35, 38, 30, 60, 18, 27, 24, 25, 18, 19, 22, 3, 32, 22, 27, 20, 19, 42, 1, 32, 35, 37, 18, 1, 36, 30, 17, 36, 21, 28, 23, 24, 22, 31, 46, 23, 28, 39, 26, 21, 28, 20, 34, 51, 3, 21, 22, 32, 15, 33, 25, 44, 34, 34, 18, 30, 10, 36, 21, 29, 28, 18, 40, 28, 19, 27, 32, 28, 36, 42, 17, 50, 14, 21, 24, 64, 31, 45, 20, 25, 28, 27, 4, 13, 34, 5, 52, 36, 19, 30, 49, 23, 29, 65, 41, 50, 21, 48, 34, 47, 48, 40, 38, 21, 56, 33, 0, 26, 38, 33, 23, 22, 28, 34, 29, 22, 2, 9, 21, 50, 63, 25, 23, 35, 58, 30, 9, 41, 21, 55, 71, 21, 30, 54, 34, 25, 24, 17, 21, 39, 37, 16, 18, 33, 17, 28, 26, 29, 23, 36, 54, 24, 47, 34, 21, 36, 32, 30, 22, 18, 44, 29, 40, 50, 34, 39, 23, 2, 21, 17, 15, 30, 7, 45, 30, 17, 22, 36, 9, 11, 32, 50, 64, 19, 34, 33, 8, 17, 27, 37, 22, 22, 62, 48, 24, 39, 36, 36, 40, 28, 16, 23, 24, 19, 29, 30, 32, 62, 53, 36, 32, 16, 19, 34, 39, 36, 32, 25, 39, 54, 36, 28, 18, 47, 60, 22, 27, 35, 52, 47, 34, 37, 36, 38, 49, 21, 49, 24, 24, 33, 44, 35, 36, 30, 27, 22, 40, 39, 21, 24, 32, 35, 24, 34, 26, 4, 26, 27, 42, 20, 21, 21, 61, 57, 21, 26, 40, 80, 51, 32, 34, 9, 28, 32, 31, 41, 34, 20, 24, 2, 29, 0, 48, 19, 56, 29, 23, 30, 18, 21, 29, 18, 24, 33, 32, 23, 58, 50, 40, 47, 36, 20, 32, 25, 15, 43, 17, 40, 31, 70, 31, 30, 18, 24, 18, 43, 36, 39, 27, 20, 14, 60, 25, 14, 19, 18, 15, 31, 4, 36, 25, 60, 52, 44, 25, 49, 42, 18, 35, 18, 25, 26, 39, 45, 42, 22, 31, 24, 30, 48, 29, 52, 19, 38, 27, 27, 33, 6, 17, 34, 50, 27, 20, 30, 23, 25, 25, 29, 11, 30, 23, 23, 28, 48, 35, 24, 16, 23, 36, 21, 24, 31, 70, 16, 30, 19, 31, 4, 6, 33, 23, 48, 0, 28, 18, 34, 33, 21, 41, 20, 36, 16, 51, 40, 30, 18, 32, 24, 48, 57, 30, 54, 18, 25, 5, 20, 43, 13, 17, 29, 29, 25, 25, 18, 8, 1, 46, 32, 16, 39, 23, 25, 39, 49, 31, 30, 30, 34, 31, 11, 0, 27, 31, 39, 18, 39, 33, 26, 39, 35, 6, 30, 25, 23, 31, 43, 10, 52, 27, 38, 27, 2, 39, 41, 1, 15, 62, 15, 0, 36, 23, 18, 39, 21, 40, 32, 20, 20, 16, 30, 34, 17, 42, 41, 35, 28, 25, 4, 74, 9, 16, 44, 18, 45, 51, 24, 32, 41, 21, 48, 20, 24, 42, 27, 31, 17, 4, 26, 47, 33, 47, 28, 15, 20, 19, 16, 56, 25, 33, 22, 28, 25, 39, 27, 19, 41, 26, 32], \"yaxis\": \"y\"}],                        {\"coloraxis\": {\"colorbar\": {\"title\": {\"text\": \"Survived\"}}, \"colorscale\": [[0.0, \"#0d0887\"], [0.1111111111111111, \"#46039f\"], [0.2222222222222222, \"#7201a8\"], [0.3333333333333333, \"#9c179e\"], [0.4444444444444444, \"#bd3786\"], [0.5555555555555556, \"#d8576b\"], [0.6666666666666666, \"#ed7953\"], [0.7777777777777778, \"#fb9f3a\"], [0.8888888888888888, \"#fdca26\"], [1.0, \"#f0f921\"]]}, \"legend\": {\"tracegroupgap\": 0}, \"template\": {\"data\": {\"bar\": [{\"error_x\": {\"color\": \"#2a3f5f\"}, \"error_y\": {\"color\": \"#2a3f5f\"}, \"marker\": {\"line\": {\"color\": \"#E5ECF6\", \"width\": 0.5}}, \"type\": \"bar\"}], \"barpolar\": [{\"marker\": {\"line\": {\"color\": \"#E5ECF6\", \"width\": 0.5}}, \"type\": \"barpolar\"}], \"carpet\": [{\"aaxis\": {\"endlinecolor\": \"#2a3f5f\", \"gridcolor\": \"white\", \"linecolor\": \"white\", \"minorgridcolor\": \"white\", \"startlinecolor\": \"#2a3f5f\"}, \"baxis\": {\"endlinecolor\": \"#2a3f5f\", \"gridcolor\": \"white\", \"linecolor\": \"white\", \"minorgridcolor\": \"white\", \"startlinecolor\": \"#2a3f5f\"}, \"type\": \"carpet\"}], \"choropleth\": [{\"colorbar\": {\"outlinewidth\": 0, \"ticks\": \"\"}, \"type\": \"choropleth\"}], \"contour\": [{\"colorbar\": {\"outlinewidth\": 0, \"ticks\": \"\"}, \"colorscale\": [[0.0, \"#0d0887\"], [0.1111111111111111, \"#46039f\"], [0.2222222222222222, \"#7201a8\"], [0.3333333333333333, \"#9c179e\"], [0.4444444444444444, \"#bd3786\"], [0.5555555555555556, \"#d8576b\"], [0.6666666666666666, \"#ed7953\"], [0.7777777777777778, \"#fb9f3a\"], [0.8888888888888888, \"#fdca26\"], [1.0, \"#f0f921\"]], \"type\": \"contour\"}], \"contourcarpet\": [{\"colorbar\": {\"outlinewidth\": 0, \"ticks\": \"\"}, \"type\": \"contourcarpet\"}], \"heatmap\": [{\"colorbar\": {\"outlinewidth\": 0, \"ticks\": \"\"}, \"colorscale\": [[0.0, \"#0d0887\"], [0.1111111111111111, \"#46039f\"], [0.2222222222222222, \"#7201a8\"], [0.3333333333333333, \"#9c179e\"], [0.4444444444444444, \"#bd3786\"], [0.5555555555555556, \"#d8576b\"], [0.6666666666666666, \"#ed7953\"], [0.7777777777777778, \"#fb9f3a\"], [0.8888888888888888, \"#fdca26\"], [1.0, \"#f0f921\"]], \"type\": \"heatmap\"}], \"heatmapgl\": [{\"colorbar\": {\"outlinewidth\": 0, \"ticks\": \"\"}, \"colorscale\": [[0.0, \"#0d0887\"], [0.1111111111111111, \"#46039f\"], [0.2222222222222222, \"#7201a8\"], [0.3333333333333333, \"#9c179e\"], [0.4444444444444444, \"#bd3786\"], [0.5555555555555556, \"#d8576b\"], [0.6666666666666666, \"#ed7953\"], [0.7777777777777778, \"#fb9f3a\"], [0.8888888888888888, \"#fdca26\"], [1.0, \"#f0f921\"]], \"type\": \"heatmapgl\"}], \"histogram\": [{\"marker\": {\"colorbar\": {\"outlinewidth\": 0, \"ticks\": \"\"}}, \"type\": \"histogram\"}], \"histogram2d\": [{\"colorbar\": {\"outlinewidth\": 0, \"ticks\": \"\"}, \"colorscale\": [[0.0, \"#0d0887\"], [0.1111111111111111, \"#46039f\"], [0.2222222222222222, \"#7201a8\"], [0.3333333333333333, \"#9c179e\"], [0.4444444444444444, \"#bd3786\"], [0.5555555555555556, \"#d8576b\"], [0.6666666666666666, \"#ed7953\"], [0.7777777777777778, \"#fb9f3a\"], [0.8888888888888888, \"#fdca26\"], [1.0, \"#f0f921\"]], \"type\": \"histogram2d\"}], \"histogram2dcontour\": [{\"colorbar\": {\"outlinewidth\": 0, \"ticks\": \"\"}, \"colorscale\": [[0.0, \"#0d0887\"], [0.1111111111111111, \"#46039f\"], [0.2222222222222222, \"#7201a8\"], [0.3333333333333333, \"#9c179e\"], [0.4444444444444444, \"#bd3786\"], [0.5555555555555556, \"#d8576b\"], [0.6666666666666666, \"#ed7953\"], [0.7777777777777778, \"#fb9f3a\"], [0.8888888888888888, \"#fdca26\"], [1.0, \"#f0f921\"]], \"type\": \"histogram2dcontour\"}], \"mesh3d\": [{\"colorbar\": {\"outlinewidth\": 0, \"ticks\": \"\"}, \"type\": \"mesh3d\"}], \"parcoords\": [{\"line\": {\"colorbar\": {\"outlinewidth\": 0, \"ticks\": \"\"}}, \"type\": \"parcoords\"}], \"pie\": [{\"automargin\": true, \"type\": \"pie\"}], \"scatter\": [{\"marker\": {\"colorbar\": {\"outlinewidth\": 0, \"ticks\": \"\"}}, \"type\": \"scatter\"}], \"scatter3d\": [{\"line\": {\"colorbar\": {\"outlinewidth\": 0, \"ticks\": \"\"}}, \"marker\": {\"colorbar\": {\"outlinewidth\": 0, \"ticks\": \"\"}}, \"type\": \"scatter3d\"}], \"scattercarpet\": [{\"marker\": {\"colorbar\": {\"outlinewidth\": 0, \"ticks\": \"\"}}, \"type\": \"scattercarpet\"}], \"scattergeo\": [{\"marker\": {\"colorbar\": {\"outlinewidth\": 0, \"ticks\": \"\"}}, \"type\": \"scattergeo\"}], \"scattergl\": [{\"marker\": {\"colorbar\": {\"outlinewidth\": 0, \"ticks\": \"\"}}, \"type\": \"scattergl\"}], \"scattermapbox\": [{\"marker\": {\"colorbar\": {\"outlinewidth\": 0, \"ticks\": \"\"}}, \"type\": \"scattermapbox\"}], \"scatterpolar\": [{\"marker\": {\"colorbar\": {\"outlinewidth\": 0, \"ticks\": \"\"}}, \"type\": \"scatterpolar\"}], \"scatterpolargl\": [{\"marker\": {\"colorbar\": {\"outlinewidth\": 0, \"ticks\": \"\"}}, \"type\": \"scatterpolargl\"}], \"scatterternary\": [{\"marker\": {\"colorbar\": {\"outlinewidth\": 0, \"ticks\": \"\"}}, \"type\": \"scatterternary\"}], \"surface\": [{\"colorbar\": {\"outlinewidth\": 0, \"ticks\": \"\"}, \"colorscale\": [[0.0, \"#0d0887\"], [0.1111111111111111, \"#46039f\"], [0.2222222222222222, \"#7201a8\"], [0.3333333333333333, \"#9c179e\"], [0.4444444444444444, \"#bd3786\"], [0.5555555555555556, \"#d8576b\"], [0.6666666666666666, \"#ed7953\"], [0.7777777777777778, \"#fb9f3a\"], [0.8888888888888888, \"#fdca26\"], [1.0, \"#f0f921\"]], \"type\": \"surface\"}], \"table\": [{\"cells\": {\"fill\": {\"color\": \"#EBF0F8\"}, \"line\": {\"color\": \"white\"}}, \"header\": {\"fill\": {\"color\": \"#C8D4E3\"}, \"line\": {\"color\": \"white\"}}, \"type\": \"table\"}]}, \"layout\": {\"annotationdefaults\": {\"arrowcolor\": \"#2a3f5f\", \"arrowhead\": 0, \"arrowwidth\": 1}, \"autotypenumbers\": \"strict\", \"coloraxis\": {\"colorbar\": {\"outlinewidth\": 0, \"ticks\": \"\"}}, \"colorscale\": {\"diverging\": [[0, \"#8e0152\"], [0.1, \"#c51b7d\"], [0.2, \"#de77ae\"], [0.3, \"#f1b6da\"], [0.4, \"#fde0ef\"], [0.5, \"#f7f7f7\"], [0.6, \"#e6f5d0\"], [0.7, \"#b8e186\"], [0.8, \"#7fbc41\"], [0.9, \"#4d9221\"], [1, \"#276419\"]], \"sequential\": [[0.0, \"#0d0887\"], [0.1111111111111111, \"#46039f\"], [0.2222222222222222, \"#7201a8\"], [0.3333333333333333, \"#9c179e\"], [0.4444444444444444, \"#bd3786\"], [0.5555555555555556, \"#d8576b\"], [0.6666666666666666, \"#ed7953\"], [0.7777777777777778, \"#fb9f3a\"], [0.8888888888888888, \"#fdca26\"], [1.0, \"#f0f921\"]], \"sequentialminus\": [[0.0, \"#0d0887\"], [0.1111111111111111, \"#46039f\"], [0.2222222222222222, \"#7201a8\"], [0.3333333333333333, \"#9c179e\"], [0.4444444444444444, \"#bd3786\"], [0.5555555555555556, \"#d8576b\"], [0.6666666666666666, \"#ed7953\"], [0.7777777777777778, \"#fb9f3a\"], [0.8888888888888888, \"#fdca26\"], [1.0, \"#f0f921\"]]}, \"colorway\": [\"#636efa\", \"#EF553B\", \"#00cc96\", \"#ab63fa\", \"#FFA15A\", \"#19d3f3\", \"#FF6692\", \"#B6E880\", \"#FF97FF\", \"#FECB52\"], \"font\": {\"color\": \"#2a3f5f\"}, \"geo\": {\"bgcolor\": \"white\", \"lakecolor\": \"white\", \"landcolor\": \"#E5ECF6\", \"showlakes\": true, \"showland\": true, \"subunitcolor\": \"white\"}, \"hoverlabel\": {\"align\": \"left\"}, \"hovermode\": \"closest\", \"mapbox\": {\"style\": \"light\"}, \"paper_bgcolor\": \"white\", \"plot_bgcolor\": \"#E5ECF6\", \"polar\": {\"angularaxis\": {\"gridcolor\": \"white\", \"linecolor\": \"white\", \"ticks\": \"\"}, \"bgcolor\": \"#E5ECF6\", \"radialaxis\": {\"gridcolor\": \"white\", \"linecolor\": \"white\", \"ticks\": \"\"}}, \"scene\": {\"xaxis\": {\"backgroundcolor\": \"#E5ECF6\", \"gridcolor\": \"white\", \"gridwidth\": 2, \"linecolor\": \"white\", \"showbackground\": true, \"ticks\": \"\", \"zerolinecolor\": \"white\"}, \"yaxis\": {\"backgroundcolor\": \"#E5ECF6\", \"gridcolor\": \"white\", \"gridwidth\": 2, \"linecolor\": \"white\", \"showbackground\": true, \"ticks\": \"\", \"zerolinecolor\": \"white\"}, \"zaxis\": {\"backgroundcolor\": \"#E5ECF6\", \"gridcolor\": \"white\", \"gridwidth\": 2, \"linecolor\": \"white\", \"showbackground\": true, \"ticks\": \"\", \"zerolinecolor\": \"white\"}}, \"shapedefaults\": {\"line\": {\"color\": \"#2a3f5f\"}}, \"ternary\": {\"aaxis\": {\"gridcolor\": \"white\", \"linecolor\": \"white\", \"ticks\": \"\"}, \"baxis\": {\"gridcolor\": \"white\", \"linecolor\": \"white\", \"ticks\": \"\"}, \"bgcolor\": \"#E5ECF6\", \"caxis\": {\"gridcolor\": \"white\", \"linecolor\": \"white\", \"ticks\": \"\"}}, \"title\": {\"x\": 0.05}, \"xaxis\": {\"automargin\": true, \"gridcolor\": \"white\", \"linecolor\": \"white\", \"ticks\": \"\", \"title\": {\"standoff\": 15}, \"zerolinecolor\": \"white\", \"zerolinewidth\": 2}, \"yaxis\": {\"automargin\": true, \"gridcolor\": \"white\", \"linecolor\": \"white\", \"ticks\": \"\", \"title\": {\"standoff\": 15}, \"zerolinecolor\": \"white\", \"zerolinewidth\": 2}}}, \"title\": {\"text\": \"Which Age Survived?\"}, \"xaxis\": {\"anchor\": \"y\", \"domain\": [0.0, 1.0], \"title\": {\"text\": \"PassengerId\"}, \"type\": \"log\"}, \"yaxis\": {\"anchor\": \"x\", \"domain\": [0.0, 1.0], \"title\": {\"text\": \"Age\"}}},                        {\"responsive\": true}                    ).then(function(){\n",
       "                            \n",
       "var gd = document.getElementById('26446beb-de71-4c8c-99e7-c2e9cc794c47');\n",
       "var x = new MutationObserver(function (mutations, observer) {{\n",
       "        var display = window.getComputedStyle(gd).display;\n",
       "        if (!display || display === 'none') {{\n",
       "            console.log([gd, 'removed!']);\n",
       "            Plotly.purge(gd);\n",
       "            observer.disconnect();\n",
       "        }}\n",
       "}});\n",
       "\n",
       "// Listen for the removal of the full notebook cells\n",
       "var notebookContainer = gd.closest('#notebook-container');\n",
       "if (notebookContainer) {{\n",
       "    x.observe(notebookContainer, {childList: true});\n",
       "}}\n",
       "\n",
       "// Listen for the clearing of the current output cell\n",
       "var outputEl = gd.closest('.output');\n",
       "if (outputEl) {{\n",
       "    x.observe(outputEl, {childList: true});\n",
       "}}\n",
       "\n",
       "                        })                };                });            </script>        </div>"
      ]
     },
     "metadata": {},
     "output_type": "display_data"
    }
   ],
   "source": [
    "for template in [\"plotly\"]:\n",
    "    fig = px.scatter(train_data,\n",
    "                     x=\"PassengerId\", y=\"Age\", color=\"Survived\",\n",
    "                     log_x=True, size_max=20,\n",
    "                     template=template, title=\"Which Age Survived?\")\n",
    "    fig.show()"
   ]
  },
  {
   "cell_type": "code",
   "execution_count": 15,
   "metadata": {
    "execution": {
     "iopub.execute_input": "2021-05-07T10:40:44.417789Z",
     "iopub.status.busy": "2021-05-07T10:40:44.417073Z",
     "iopub.status.idle": "2021-05-07T10:40:44.669352Z",
     "shell.execute_reply": "2021-05-07T10:40:44.668760Z"
    },
    "papermill": {
     "duration": 0.289539,
     "end_time": "2021-05-07T10:40:44.669505",
     "exception": false,
     "start_time": "2021-05-07T10:40:44.379966",
     "status": "completed"
    },
    "tags": []
   },
   "outputs": [
    {
     "data": {
      "image/png": "[encoded data removed]",
      "text/plain": [
       "<Figure size 576x396 with 1 Axes>"
      ]
     },
     "metadata": {
      "needs_background": "light"
     },
     "output_type": "display_data"
    }
   ],
   "source": [
    "sns.barplot(x='Pclass', y='Survived', data=train_data);"
   ]
  },
  {
   "cell_type": "code",
   "execution_count": 16,
   "metadata": {
    "execution": {
     "iopub.execute_input": "2021-05-07T10:40:44.738617Z",
     "iopub.status.busy": "2021-05-07T10:40:44.737871Z",
     "iopub.status.idle": "2021-05-07T10:40:44.921636Z",
     "shell.execute_reply": "2021-05-07T10:40:44.922287Z"
    },
    "papermill": {
     "duration": 0.222444,
     "end_time": "2021-05-07T10:40:44.922537",
     "exception": false,
     "start_time": "2021-05-07T10:40:44.700093",
     "status": "completed"
    },
    "tags": []
   },
   "outputs": [
    {
     "ename": "NameError",
     "evalue": "name 'df_train' is not defined",
     "output_type": "error",
     "traceback": [
      "\u001b[0;31m---------------------------------------------------------------------------\u001b[0m",
      "\u001b[0;31mNameError\u001b[0m                                 Traceback (most recent call last)",
      "\u001b[0;32m<ipython-input-16-510422036b52>\u001b[0m in \u001b[0;36m<module>\u001b[0;34m\u001b[0m\n\u001b[1;32m      3\u001b[0m \u001b[0;34m\u001b[0m\u001b[0m\n\u001b[1;32m      4\u001b[0m \u001b[0mplt\u001b[0m\u001b[0;34m.\u001b[0m\u001b[0mfigure\u001b[0m\u001b[0;34m(\u001b[0m\u001b[0;34m)\u001b[0m\u001b[0;34m\u001b[0m\u001b[0;34m\u001b[0m\u001b[0m\n\u001b[0;32m----> 5\u001b[0;31m \u001b[0mfig\u001b[0m \u001b[0;34m=\u001b[0m \u001b[0mdf_train\u001b[0m\u001b[0;34m.\u001b[0m\u001b[0mgroupby\u001b[0m\u001b[0;34m(\u001b[0m\u001b[0;34m'Survived'\u001b[0m\u001b[0;34m)\u001b[0m\u001b[0;34m[\u001b[0m\u001b[0;34m'Pclass'\u001b[0m\u001b[0;34m]\u001b[0m\u001b[0;34m.\u001b[0m\u001b[0mplot\u001b[0m\u001b[0;34m.\u001b[0m\u001b[0mhist\u001b[0m\u001b[0;34m(\u001b[0m\u001b[0mhisttype\u001b[0m\u001b[0;34m=\u001b[0m \u001b[0;34m'bar'\u001b[0m\u001b[0;34m,\u001b[0m \u001b[0malpha\u001b[0m \u001b[0;34m=\u001b[0m \u001b[0;36m0.8\u001b[0m\u001b[0;34m)\u001b[0m\u001b[0;34m\u001b[0m\u001b[0;34m\u001b[0m\u001b[0m\n\u001b[0m\u001b[1;32m      6\u001b[0m \u001b[0mplt\u001b[0m\u001b[0;34m.\u001b[0m\u001b[0mlegend\u001b[0m\u001b[0;34m(\u001b[0m\u001b[0;34m(\u001b[0m\u001b[0;34m'Died'\u001b[0m\u001b[0;34m,\u001b[0m\u001b[0;34m'Survived'\u001b[0m\u001b[0;34m)\u001b[0m\u001b[0;34m,\u001b[0m \u001b[0mfontsize\u001b[0m \u001b[0;34m=\u001b[0m \u001b[0;36m12\u001b[0m\u001b[0;34m)\u001b[0m\u001b[0;34m\u001b[0m\u001b[0;34m\u001b[0m\u001b[0m\n\u001b[1;32m      7\u001b[0m \u001b[0mplt\u001b[0m\u001b[0;34m.\u001b[0m\u001b[0mxlabel\u001b[0m\u001b[0;34m(\u001b[0m\u001b[0;34m'Pclass'\u001b[0m\u001b[0;34m,\u001b[0m \u001b[0mfontsize\u001b[0m \u001b[0;34m=\u001b[0m \u001b[0;36m18\u001b[0m\u001b[0;34m)\u001b[0m\u001b[0;34m\u001b[0m\u001b[0;34m\u001b[0m\u001b[0m\n",
      "\u001b[0;31mNameError\u001b[0m: name 'df_train' is not defined"
     ]
    },
    {
     "data": {
      "text/plain": [
       "<Figure size 576x396 with 0 Axes>"
      ]
     },
     "metadata": {},
     "output_type": "display_data"
    }
   ],
   "source": [
    "plt.rc('xtick', labelsize=14) \n",
    "plt.rc('ytick', labelsize=14)\n",
    "\n",
    "plt.figure()\n",
    "fig = df_train.groupby('Survived')['Pclass'].plot.hist(histtype= 'bar', alpha = 0.8)\n",
    "plt.legend(('Died','Survived'), fontsize = 12)\n",
    "plt.xlabel('Pclass', fontsize = 18)\n",
    "plt.show()"
   ]
  },
  {
   "cell_type": "code",
   "execution_count": 17,
   "metadata": {
    "execution": {
     "iopub.execute_input": "2021-05-07T10:40:44.989103Z",
     "iopub.status.busy": "2021-05-07T10:40:44.988411Z",
     "iopub.status.idle": "2021-05-07T10:40:44.998601Z",
     "shell.execute_reply": "2021-05-07T10:40:44.999185Z"
    },
    "papermill": {
     "duration": 0.044922,
     "end_time": "2021-05-07T10:40:44.999366",
     "exception": false,
     "start_time": "2021-05-07T10:40:44.954444",
     "status": "completed"
    },
    "tags": []
   },
   "outputs": [],
   "source": [
    "embarked_mode = train_data['Embarked'].mode()\n",
    "data = [train_data, test_data]\n",
    "for dataset in data:\n",
    "    dataset['Embarked'] = dataset['Embarked'].fillna(embarked_mode)"
   ]
  },
  {
   "cell_type": "code",
   "execution_count": 18,
   "metadata": {
    "execution": {
     "iopub.execute_input": "2021-05-07T10:40:45.066637Z",
     "iopub.status.busy": "2021-05-07T10:40:45.065882Z",
     "iopub.status.idle": "2021-05-07T10:40:46.410651Z",
     "shell.execute_reply": "2021-05-07T10:40:46.409611Z"
    },
    "papermill": {
     "duration": 1.379766,
     "end_time": "2021-05-07T10:40:46.410802",
     "exception": false,
     "start_time": "2021-05-07T10:40:45.031036",
     "status": "completed"
    },
    "tags": []
   },
   "outputs": [
    {
     "name": "stderr",
     "output_type": "stream",
     "text": [
      "/opt/conda/lib/python3.7/site-packages/seaborn/axisgrid.py:316: UserWarning:\n",
      "\n",
      "The `size` parameter has been renamed to `height`; please update your code.\n",
      "\n"
     ]
    },
    {
     "data": {
      "image/png": "[encoded data removed]",
      "text/plain": [
       "<Figure size 588.9x972 with 3 Axes>"
      ]
     },
     "metadata": {
      "needs_background": "light"
     },
     "output_type": "display_data"
    }
   ],
   "source": [
    "FacetGrid = sns.FacetGrid(train_data, row='Embarked', size=4.5, aspect=1.6)\n",
    "FacetGrid.map(sns.pointplot, 'Pclass', 'Survived', 'Sex', order=None, hue_order=None )\n",
    "FacetGrid.add_legend();"
   ]
  },
  {
   "cell_type": "code",
   "execution_count": 19,
   "metadata": {
    "execution": {
     "iopub.execute_input": "2021-05-07T10:40:46.483784Z",
     "iopub.status.busy": "2021-05-07T10:40:46.483075Z",
     "iopub.status.idle": "2021-05-07T10:40:46.670541Z",
     "shell.execute_reply": "2021-05-07T10:40:46.669988Z"
    },
    "papermill": {
     "duration": 0.226865,
     "end_time": "2021-05-07T10:40:46.670765",
     "exception": false,
     "start_time": "2021-05-07T10:40:46.443900",
     "status": "completed"
    },
    "tags": []
   },
   "outputs": [
    {
     "data": {
      "image/png": "[encoded data removed]",
      "text/plain": [
       "<Figure size 576x396 with 1 Axes>"
      ]
     },
     "metadata": {},
     "output_type": "display_data"
    }
   ],
   "source": [
    "sns.set(style=\"darkgrid\")\n",
    "sns.countplot( x='Survived', data=train_data, hue=\"Embarked\", palette=\"Set1\");"
   ]
  },
  {
   "cell_type": "code",
   "execution_count": 20,
   "metadata": {
    "execution": {
     "iopub.execute_input": "2021-05-07T10:40:46.755248Z",
     "iopub.status.busy": "2021-05-07T10:40:46.753051Z",
     "iopub.status.idle": "2021-05-07T10:40:47.420837Z",
     "shell.execute_reply": "2021-05-07T10:40:47.420203Z"
    },
    "papermill": {
     "duration": 0.715781,
     "end_time": "2021-05-07T10:40:47.420979",
     "exception": false,
     "start_time": "2021-05-07T10:40:46.705198",
     "status": "completed"
    },
    "tags": []
   },
   "outputs": [
    {
     "name": "stderr",
     "output_type": "stream",
     "text": [
      "/opt/conda/lib/python3.7/site-packages/seaborn/categorical.py:3714: UserWarning:\n",
      "\n",
      "The `factorplot` function has been renamed to `catplot`. The original name will be removed in a future release. Please update your code. Note that the default `kind` in `factorplot` (`'point'`) has changed `'strip'` in `catplot`.\n",
      "\n",
      "/opt/conda/lib/python3.7/site-packages/seaborn/_decorators.py:43: FutureWarning:\n",
      "\n",
      "Pass the following variables as keyword args: x, y. From version 0.12, the only valid positional argument will be `data`, and passing other arguments without an explicit keyword will result in an error or misinterpretation.\n",
      "\n"
     ]
    },
    {
     "data": {
      "image/png": "[encoded data removed]",
      "text/plain": [
       "<Figure size 900x360 with 1 Axes>"
      ]
     },
     "metadata": {},
     "output_type": "display_data"
    }
   ],
   "source": [
    "data = [train_data, test_data]\n",
    "for dataset in data:\n",
    "    dataset['relatives'] = dataset['SibSp'] + dataset['Parch']\n",
    "    dataset.loc[dataset['relatives'] > 0, 'travelled_alone'] = 'No'\n",
    "    dataset.loc[dataset['relatives'] == 0, 'travelled_alone'] = 'Yes'\n",
    "axes = sns.factorplot('relatives','Survived', \n",
    "                      data=train_data, aspect = 2.5, );"
   ]
  },
  {
   "cell_type": "code",
   "execution_count": 21,
   "metadata": {
    "execution": {
     "iopub.execute_input": "2021-05-07T10:40:47.499231Z",
     "iopub.status.busy": "2021-05-07T10:40:47.498572Z",
     "iopub.status.idle": "2021-05-07T10:40:47.750807Z",
     "shell.execute_reply": "2021-05-07T10:40:47.751314Z"
    },
    "papermill": {
     "duration": 0.294279,
     "end_time": "2021-05-07T10:40:47.751484",
     "exception": false,
     "start_time": "2021-05-07T10:40:47.457205",
     "status": "completed"
    },
    "tags": []
   },
   "outputs": [
    {
     "data": {
      "text/html": [
       "<div>                            <div id=\"7fd7dcc8-0701-43bb-a80b-8307c9ec8415\" class=\"plotly-graph-div\" style=\"height:525px; width:100%;\"></div>            <script type=\"text/javascript\">                require([\"plotly\"], function(Plotly) {                    window.PLOTLYENV=window.PLOTLYENV || {};                                    if (document.getElementById(\"7fd7dcc8-0701-43bb-a80b-8307c9ec8415\")) {                    Plotly.newPlot(                        \"7fd7dcc8-0701-43bb-a80b-8307c9ec8415\",                        [{\"alignmentgroup\": \"True\", \"bingroup\": \"x\", \"histfunc\": \"sum\", \"hovertemplate\": \"Sex=male<br>SibSp=%{x}<br>sum of Parch=%{y}<extra></extra>\", \"legendgroup\": \"male\", \"marker\": {\"color\": \"#636efa\"}, \"name\": \"male\", \"offsetgroup\": \"male\", \"orientation\": \"v\", \"showlegend\": true, \"type\": \"histogram\", \"x\": [1, 0, 0, 0, 3, 0, 1, 4, 0, 0, 0, 0, 0, 3, 0, 0, 0, 1, 1, 0, 0, 0, 0, 1, 2, 4, 0, 0, 0, 0, 5, 0, 1, 3, 0, 1, 0, 2, 0, 0, 1, 0, 0, 0, 0, 0, 0, 0, 0, 1, 0, 0, 0, 0, 1, 1, 0, 0, 0, 0, 1, 0, 0, 0, 2, 0, 0, 0, 0, 0, 0, 0, 1, 0, 2, 0, 1, 0, 1, 0, 0, 0, 0, 0, 0, 0, 1, 0, 0, 0, 0, 1, 0, 0, 0, 0, 0, 0, 0, 0, 0, 0, 8, 0, 0, 0, 4, 0, 0, 0, 0, 4, 0, 0, 1, 3, 0, 0, 0, 4, 2, 0, 0, 1, 0, 0, 1, 0, 0, 0, 8, 0, 0, 0, 1, 0, 0, 0, 0, 0, 1, 1, 0, 0, 0, 0, 0, 1, 0, 0, 0, 0, 0, 0, 0, 1, 0, 0, 0, 0, 0, 2, 1, 1, 0, 0, 1, 0, 4, 1, 0, 0, 4, 1, 0, 0, 0, 0, 4, 0, 0, 0, 0, 0, 0, 0, 0, 0, 0, 0, 0, 0, 0, 2, 0, 0, 1, 1, 0, 1, 0, 0, 0, 8, 0, 0, 0, 2, 0, 1, 0, 0, 1, 0, 0, 0, 1, 0, 0, 0, 1, 1, 0, 0, 1, 1, 0, 1, 0, 1, 1, 0, 0, 0, 0, 0, 0, 0, 0, 5, 0, 1, 0, 2, 0, 0, 0, 0, 0, 1, 1, 0, 1, 0, 0, 0, 0, 0, 0, 0, 0, 0, 1, 0, 0, 0, 0, 0, 1, 1, 0, 0, 1, 0, 0, 0, 0, 1, 1, 0, 1, 0, 0, 0, 0, 0, 0, 0, 0, 0, 0, 0, 0, 0, 0, 0, 0, 1, 1, 0, 5, 0, 0, 1, 0, 0, 1, 1, 0, 0, 0, 0, 0, 0, 0, 0, 1, 0, 0, 0, 0, 0, 0, 0, 0, 0, 0, 0, 0, 0, 0, 0, 0, 2, 0, 1, 0, 0, 1, 1, 0, 0, 1, 1, 0, 0, 0, 0, 0, 0, 0, 0, 0, 0, 2, 0, 0, 0, 0, 0, 0, 0, 0, 0, 0, 0, 0, 1, 0, 0, 0, 0, 1, 1, 0, 0, 1, 0, 0, 0, 0, 1, 0, 0, 0, 0, 0, 1, 0, 1, 1, 1, 0, 0, 0, 0, 0, 0, 0, 0, 0, 0, 0, 1, 1, 0, 0, 1, 0, 0, 0, 0, 0, 2, 0, 0, 0, 2, 0, 0, 0, 1, 2, 0, 0, 0, 1, 0, 0, 0, 0, 0, 0, 0, 0, 5, 1, 1, 4, 0, 0, 1, 0, 0, 0, 0, 0, 1, 0, 0, 0, 1, 0, 0, 1, 0, 1, 0, 0, 0, 0, 0, 1, 0, 0, 1, 0, 1, 0, 0, 0, 0, 0, 0, 0, 0, 0, 1, 1, 0, 1, 1, 1, 0, 0, 0, 0, 1, 0, 0, 0, 0, 0, 0, 0, 0, 1, 0, 0, 0, 0, 0, 0, 0, 0, 1, 0, 0, 4, 1, 0, 0, 0, 0, 0, 0, 0, 0, 1, 0, 0, 0, 0, 0, 0, 0, 0, 0, 0, 1, 0, 3, 0, 0, 4, 0, 0, 0, 0, 1, 0, 0, 0, 0, 0, 0, 0, 0, 0, 0, 0, 0, 8, 0, 0, 4, 0, 0, 0, 2, 1, 0, 0, 0, 1, 0, 0, 0, 0, 0, 0, 0, 0, 0, 0, 0, 0], \"xaxis\": \"x\", \"y\": [0, 0, 0, 0, 1, 0, 5, 1, 0, 0, 0, 0, 0, 2, 0, 0, 0, 0, 0, 0, 0, 0, 0, 0, 0, 1, 0, 1, 0, 0, 2, 0, 0, 2, 0, 1, 0, 0, 0, 0, 0, 0, 0, 0, 0, 2, 0, 0, 0, 3, 0, 0, 0, 0, 0, 2, 0, 0, 0, 1, 0, 0, 1, 0, 0, 0, 0, 0, 0, 0, 0, 0, 0, 1, 0, 0, 0, 1, 0, 0, 0, 0, 0, 0, 0, 0, 0, 0, 0, 0, 0, 1, 0, 2, 0, 0, 0, 2, 0, 1, 0, 0, 2, 1, 0, 0, 1, 2, 0, 0, 0, 1, 0, 0, 1, 1, 0, 0, 0, 2, 1, 0, 0, 1, 0, 0, 1, 0, 1, 0, 2, 0, 0, 0, 0, 0, 0, 0, 0, 0, 0, 0, 0, 0, 0, 0, 0, 0, 0, 0, 0, 0, 0, 0, 0, 0, 0, 0, 0, 0, 0, 0, 1, 0, 0, 0, 0, 0, 2, 1, 0, 0, 1, 0, 0, 0, 1, 0, 1, 0, 0, 0, 0, 0, 0, 0, 0, 0, 0, 0, 0, 0, 0, 0, 0, 0, 2, 0, 0, 1, 0, 0, 0, 2, 0, 0, 1, 0, 0, 0, 0, 0, 1, 0, 0, 0, 1, 0, 0, 0, 1, 0, 0, 0, 4, 0, 0, 0, 0, 0, 0, 0, 0, 2, 0, 0, 0, 0, 0, 2, 0, 2, 0, 0, 0, 0, 0, 0, 0, 0, 0, 0, 1, 0, 0, 0, 0, 0, 0, 0, 0, 0, 1, 0, 0, 0, 0, 0, 0, 4, 0, 0, 0, 0, 2, 0, 0, 2, 0, 0, 0, 0, 0, 0, 0, 0, 0, 0, 0, 0, 0, 0, 0, 0, 0, 0, 0, 0, 0, 0, 2, 0, 0, 0, 0, 0, 1, 0, 0, 0, 0, 0, 0, 0, 0, 0, 0, 0, 0, 0, 0, 0, 0, 0, 0, 0, 0, 0, 0, 0, 0, 0, 0, 1, 0, 1, 0, 0, 0, 0, 0, 0, 1, 1, 2, 0, 0, 0, 0, 0, 0, 0, 0, 0, 0, 0, 0, 0, 0, 0, 0, 0, 0, 0, 0, 0, 0, 1, 0, 0, 0, 0, 0, 1, 0, 0, 0, 0, 0, 0, 0, 0, 0, 0, 0, 0, 0, 1, 0, 0, 0, 1, 0, 0, 0, 0, 0, 0, 0, 0, 0, 0, 0, 1, 0, 0, 0, 0, 0, 0, 0, 0, 0, 0, 0, 0, 2, 0, 0, 0, 0, 0, 0, 0, 0, 0, 0, 0, 0, 0, 0, 0, 1, 0, 0, 2, 1, 2, 1, 0, 0, 0, 0, 0, 0, 0, 0, 1, 0, 0, 0, 0, 0, 0, 1, 0, 0, 0, 0, 0, 0, 0, 0, 0, 0, 0, 0, 0, 0, 0, 0, 0, 0, 0, 0, 0, 0, 0, 0, 0, 1, 1, 0, 0, 1, 0, 0, 1, 0, 0, 0, 0, 0, 0, 0, 0, 0, 0, 0, 0, 0, 0, 0, 0, 0, 2, 0, 0, 1, 2, 0, 0, 0, 0, 0, 0, 0, 0, 2, 1, 0, 0, 0, 0, 0, 0, 0, 0, 0, 1, 0, 2, 0, 0, 1, 0, 0, 2, 0, 1, 0, 0, 0, 0, 0, 0, 0, 0, 0, 0, 0, 0, 2, 0, 1, 2, 0, 0, 0, 0, 0, 0, 0, 0, 1, 0, 0, 0, 0, 0, 0, 0, 0, 0, 0, 0, 0], \"yaxis\": \"y\"}, {\"alignmentgroup\": \"True\", \"boxpoints\": \"all\", \"customdata\": [[1, 0, 3, \"Braund, Mr. Owen Harris\", \"male\", 22.0, \"A/5 21171\", 7.25, null, \"S\"], [5, 0, 3, \"Allen, Mr. William Henry\", \"male\", 35.0, \"373450\", 8.05, null, \"S\"], [6, 0, 3, \"Moran, Mr. James\", \"male\", null, \"330877\", 8.4583, null, \"Q\"], [7, 0, 1, \"McCarthy, Mr. Timothy J\", \"male\", 54.0, \"17463\", 51.8625, \"E46\", \"S\"], [8, 0, 3, \"Palsson, Master. Gosta Leonard\", \"male\", 2.0, \"349909\", 21.075, null, \"S\"], [13, 0, 3, \"Saundercock, Mr. William Henry\", \"male\", 20.0, \"A/5. 2151\", 8.05, null, \"S\"], [14, 0, 3, \"Andersson, Mr. Anders Johan\", \"male\", 39.0, \"347082\", 31.275, null, \"S\"], [17, 0, 3, \"Rice, Master. Eugene\", \"male\", 2.0, \"382652\", 29.125, null, \"Q\"], [18, 1, 2, \"Williams, Mr. Charles Eugene\", \"male\", null, \"244373\", 13.0, null, \"S\"], [21, 0, 2, \"Fynney, Mr. Joseph J\", \"male\", 35.0, \"239865\", 26.0, null, \"S\"], [22, 1, 2, \"Beesley, Mr. Lawrence\", \"male\", 34.0, \"248698\", 13.0, \"D56\", \"S\"], [24, 1, 1, \"Sloper, Mr. William Thompson\", \"male\", 28.0, \"113788\", 35.5, \"A6\", \"S\"], [27, 0, 3, \"Emir, Mr. Farred Chehab\", \"male\", null, \"2631\", 7.225, null, \"C\"], [28, 0, 1, \"Fortune, Mr. Charles Alexander\", \"male\", 19.0, \"19950\", 263.0, \"C23 C25 C27\", \"S\"], [30, 0, 3, \"Todoroff, Mr. Lalio\", \"male\", null, \"349216\", 7.8958, null, \"S\"], [31, 0, 1, \"Uruchurtu, Don. Manuel E\", \"male\", 40.0, \"PC 17601\", 27.7208, null, \"C\"], [34, 0, 2, \"Wheadon, Mr. Edward H\", \"male\", 66.0, \"C.A. 24579\", 10.5, null, \"S\"], [35, 0, 1, \"Meyer, Mr. Edgar Joseph\", \"male\", 28.0, \"PC 17604\", 82.1708, null, \"C\"], [36, 0, 1, \"Holverson, Mr. Alexander Oskar\", \"male\", 42.0, \"113789\", 52.0, null, \"S\"], [37, 1, 3, \"Mamee, Mr. Hanna\", \"male\", null, \"2677\", 7.2292, null, \"C\"], [38, 0, 3, \"Cann, Mr. Ernest Charles\", \"male\", 21.0, \"A./5. 2152\", 8.05, null, \"S\"], [43, 0, 3, \"Kraeff, Mr. Theodor\", \"male\", null, \"349253\", 7.8958, null, \"C\"], [46, 0, 3, \"Rogers, Mr. William John\", \"male\", null, \"S.C./A.4. 23567\", 8.05, null, \"S\"], [47, 0, 3, \"Lennon, Mr. Denis\", \"male\", null, \"370371\", 15.5, null, \"Q\"], [49, 0, 3, \"Samaan, Mr. Youssef\", \"male\", null, \"2662\", 21.6792, null, \"C\"], [51, 0, 3, \"Panula, Master. Juha Niilo\", \"male\", 7.0, \"3101295\", 39.6875, null, \"S\"], [52, 0, 3, \"Nosworthy, Mr. Richard Cater\", \"male\", 21.0, \"A/4. 39886\", 7.8, null, \"S\"], [55, 0, 1, \"Ostby, Mr. Engelhart Cornelius\", \"male\", 65.0, \"113509\", 61.9792, \"B30\", \"C\"], [56, 1, 1, \"Woolner, Mr. Hugh\", \"male\", null, \"19947\", 35.5, \"C52\", \"S\"], [58, 0, 3, \"Novel, Mr. Mansouer\", \"male\", 28.5, \"2697\", 7.2292, null, \"C\"], [60, 0, 3, \"Goodwin, Master. William Frederick\", \"male\", 11.0, \"CA 2144\", 46.9, null, \"S\"], [61, 0, 3, \"Sirayanian, Mr. Orsen\", \"male\", 22.0, \"2669\", 7.2292, null, \"C\"], [63, 0, 1, \"Harris, Mr. Henry Birkhardt\", \"male\", 45.0, \"36973\", 83.475, \"C83\", \"S\"], [64, 0, 3, \"Skoog, Master. Harald\", \"male\", 4.0, \"347088\", 27.9, null, \"S\"], [65, 0, 1, \"Stewart, Mr. Albert A\", \"male\", null, \"PC 17605\", 27.7208, null, \"C\"], [66, 1, 3, \"Moubarek, Master. Gerios\", \"male\", null, \"2661\", 15.2458, null, \"C\"], [68, 0, 3, \"Crease, Mr. Ernest James\", \"male\", 19.0, \"S.P. 3464\", 8.1583, null, \"S\"], [70, 0, 3, \"Kink, Mr. Vincenz\", \"male\", 26.0, \"315151\", 8.6625, null, \"S\"], [71, 0, 2, \"Jenkin, Mr. Stephen Curnow\", \"male\", 32.0, \"C.A. 33111\", 10.5, null, \"S\"], [73, 0, 2, \"Hood, Mr. Ambrose Jr\", \"male\", 21.0, \"S.O.C. 14879\", 73.5, null, \"S\"], [74, 0, 3, \"Chronopoulos, Mr. Apostolos\", \"male\", 26.0, \"2680\", 14.4542, null, \"C\"], [75, 1, 3, \"Bing, Mr. Lee\", \"male\", 32.0, \"1601\", 56.4958, null, \"S\"], [76, 0, 3, \"Moen, Mr. Sigurd Hansen\", \"male\", 25.0, \"348123\", 7.65, \"F G73\", \"S\"], [77, 0, 3, \"Staneff, Mr. Ivan\", \"male\", null, \"349208\", 7.8958, null, \"S\"], [78, 0, 3, \"Moutal, Mr. Rahamin Haim\", \"male\", null, \"374746\", 8.05, null, \"S\"], [79, 1, 2, \"Caldwell, Master. Alden Gates\", \"male\", 0.83, \"248738\", 29.0, null, \"S\"], [81, 0, 3, \"Waelens, Mr. Achille\", \"male\", 22.0, \"345767\", 9.0, null, \"S\"], [82, 1, 3, \"Sheerlinck, Mr. Jan Baptist\", \"male\", 29.0, \"345779\", 9.5, null, \"S\"], [84, 0, 1, \"Carrau, Mr. Francisco M\", \"male\", 28.0, \"113059\", 47.1, null, \"S\"], [87, 0, 3, \"Ford, Mr. William Neal\", \"male\", 16.0, \"W./C. 6608\", 34.375, null, \"S\"], [88, 0, 3, \"Slocovski, Mr. Selman Francis\", \"male\", null, \"SOTON/OQ 392086\", 8.05, null, \"S\"], [90, 0, 3, \"Celotti, Mr. Francesco\", \"male\", 24.0, \"343275\", 8.05, null, \"S\"], [91, 0, 3, \"Christmann, Mr. Emil\", \"male\", 29.0, \"343276\", 8.05, null, \"S\"], [92, 0, 3, \"Andreasson, Mr. Paul Edvin\", \"male\", 20.0, \"347466\", 7.8542, null, \"S\"], [93, 0, 1, \"Chaffee, Mr. Herbert Fuller\", \"male\", 46.0, \"W.E.P. 5734\", 61.175, \"E31\", \"S\"], [94, 0, 3, \"Dean, Mr. Bertram Frank\", \"male\", 26.0, \"C.A. 2315\", 20.575, null, \"S\"], [95, 0, 3, \"Coxon, Mr. Daniel\", \"male\", 59.0, \"364500\", 7.25, null, \"S\"], [96, 0, 3, \"Shorney, Mr. Charles Joseph\", \"male\", null, \"374910\", 8.05, null, \"S\"], [97, 0, 1, \"Goldschmidt, Mr. George B\", \"male\", 71.0, \"PC 17754\", 34.6542, \"A5\", \"C\"], [98, 1, 1, \"Greenfield, Mr. William Bertram\", \"male\", 23.0, \"PC 17759\", 63.3583, \"D10 D12\", \"C\"], [100, 0, 2, \"Kantor, Mr. Sinai\", \"male\", 34.0, \"244367\", 26.0, null, \"S\"], [102, 0, 3, \"Petroff, Mr. Pastcho (\\\"Pentcho\\\")\", \"male\", null, \"349215\", 7.8958, null, \"S\"], [103, 0, 1, \"White, Mr. Richard Frasar\", \"male\", 21.0, \"35281\", 77.2875, \"D26\", \"S\"], [104, 0, 3, \"Johansson, Mr. Gustaf Joel\", \"male\", 33.0, \"7540\", 8.6542, null, \"S\"], [105, 0, 3, \"Gustafsson, Mr. Anders Vilhelm\", \"male\", 37.0, \"3101276\", 7.925, null, \"S\"], [106, 0, 3, \"Mionoff, Mr. Stoytcho\", \"male\", 28.0, \"349207\", 7.8958, null, \"S\"], [108, 1, 3, \"Moss, Mr. Albert Johan\", \"male\", null, \"312991\", 7.775, null, \"S\"], [109, 0, 3, \"Rekic, Mr. Tido\", \"male\", 38.0, \"349249\", 7.8958, null, \"S\"], [111, 0, 1, \"Porter, Mr. Walter Chamberlain\", \"male\", 47.0, \"110465\", 52.0, \"C110\", \"S\"], [113, 0, 3, \"Barton, Mr. David John\", \"male\", 22.0, \"324669\", 8.05, null, \"S\"], [116, 0, 3, \"Pekoniemi, Mr. Edvard\", \"male\", 21.0, \"STON/O 2. 3101294\", 7.925, null, \"S\"], [117, 0, 3, \"Connors, Mr. Patrick\", \"male\", 70.5, \"370369\", 7.75, null, \"Q\"], [118, 0, 2, \"Turpin, Mr. William John Robert\", \"male\", 29.0, \"11668\", 21.0, null, \"S\"], [119, 0, 1, \"Baxter, Mr. Quigg Edmond\", \"male\", 24.0, \"PC 17558\", 247.5208, \"B58 B60\", \"C\"], [121, 0, 2, \"Hickman, Mr. Stanley George\", \"male\", 21.0, \"S.O.C. 14879\", 73.5, null, \"S\"], [122, 0, 3, \"Moore, Mr. Leonard Charles\", \"male\", null, \"A4. 54510\", 8.05, null, \"S\"], [123, 0, 2, \"Nasser, Mr. Nicholas\", \"male\", 32.5, \"237736\", 30.0708, null, \"C\"], [125, 0, 1, \"White, Mr. Percival Wayland\", \"male\", 54.0, \"35281\", 77.2875, \"D26\", \"S\"], [126, 1, 3, \"Nicola-Yarred, Master. Elias\", \"male\", 12.0, \"2651\", 11.2417, null, \"C\"], [127, 0, 3, \"McMahon, Mr. Martin\", \"male\", null, \"370372\", 7.75, null, \"Q\"], [128, 1, 3, \"Madsen, Mr. Fridtjof Arne\", \"male\", 24.0, \"C 17369\", 7.1417, null, \"S\"], [130, 0, 3, \"Ekstrom, Mr. Johan\", \"male\", 45.0, \"347061\", 6.975, null, \"S\"], [131, 0, 3, \"Drazenoic, Mr. Jozef\", \"male\", 33.0, \"349241\", 7.8958, null, \"C\"], [132, 0, 3, \"Coelho, Mr. Domingos Fernandeo\", \"male\", 20.0, \"SOTON/O.Q. 3101307\", 7.05, null, \"S\"], [135, 0, 2, \"Sobey, Mr. Samuel James Hayden\", \"male\", 25.0, \"C.A. 29178\", 13.0, null, \"S\"], [136, 0, 2, \"Richard, Mr. Emile\", \"male\", 23.0, \"SC/PARIS 2133\", 15.0458, null, \"C\"], [138, 0, 1, \"Futrelle, Mr. Jacques Heath\", \"male\", 37.0, \"113803\", 53.1, \"C123\", \"S\"], [139, 0, 3, \"Osen, Mr. Olaf Elon\", \"male\", 16.0, \"7534\", 9.2167, null, \"S\"], [140, 0, 1, \"Giglio, Mr. Victor\", \"male\", 24.0, \"PC 17593\", 79.2, \"B86\", \"C\"], [144, 0, 3, \"Burke, Mr. Jeremiah\", \"male\", 19.0, \"365222\", 6.75, null, \"Q\"], [145, 0, 2, \"Andrew, Mr. Edgardo Samuel\", \"male\", 18.0, \"231945\", 11.5, null, \"S\"], [146, 0, 2, \"Nicholls, Mr. Joseph Charles\", \"male\", 19.0, \"C.A. 33112\", 36.75, null, \"S\"], [147, 1, 3, \"Andersson, Mr. August Edvard (\\\"Wennerstrom\\\")\", \"male\", 27.0, \"350043\", 7.7958, null, \"S\"], [149, 0, 2, \"Navratil, Mr. Michel (\\\"Louis M Hoffman\\\")\", \"male\", 36.5, \"230080\", 26.0, \"F2\", \"S\"], [150, 0, 2, \"Byles, Rev. Thomas Roussel Davids\", \"male\", 42.0, \"244310\", 13.0, null, \"S\"], [151, 0, 2, \"Bateman, Rev. Robert James\", \"male\", 51.0, \"S.O.P. 1166\", 12.525, null, \"S\"], [153, 0, 3, \"Meo, Mr. Alfonzo\", \"male\", 55.5, \"A.5. 11206\", 8.05, null, \"S\"], [154, 0, 3, \"van Billiard, Mr. Austin Blyler\", \"male\", 40.5, \"A/5. 851\", 14.5, null, \"S\"], [155, 0, 3, \"Olsen, Mr. Ole Martin\", \"male\", null, \"Fa 265302\", 7.3125, null, \"S\"], [156, 0, 1, \"Williams, Mr. Charles Duane\", \"male\", 51.0, \"PC 17597\", 61.3792, null, \"C\"], [158, 0, 3, \"Corn, Mr. Harry\", \"male\", 30.0, \"SOTON/OQ 392090\", 8.05, null, \"S\"], [159, 0, 3, \"Smiljanic, Mr. Mile\", \"male\", null, \"315037\", 8.6625, null, \"S\"], [160, 0, 3, \"Sage, Master. Thomas Henry\", \"male\", null, \"CA. 2343\", 69.55, null, \"S\"], [161, 0, 3, \"Cribb, Mr. John Hatfield\", \"male\", 44.0, \"371362\", 16.1, null, \"S\"], [163, 0, 3, \"Bengtsson, Mr. John Viktor\", \"male\", 26.0, \"347068\", 7.775, null, \"S\"], [164, 0, 3, \"Calic, Mr. Jovo\", \"male\", 17.0, \"315093\", 8.6625, null, \"S\"], [165, 0, 3, \"Panula, Master. Eino Viljami\", \"male\", 1.0, \"3101295\", 39.6875, null, \"S\"], [166, 1, 3, \"Goldsmith, Master. Frank John William \\\"Frankie\\\"\", \"male\", 9.0, \"363291\", 20.525, null, \"S\"], [169, 0, 1, \"Baumann, Mr. John D\", \"male\", null, \"PC 17318\", 25.925, null, \"S\"], [170, 0, 3, \"Ling, Mr. Lee\", \"male\", 28.0, \"1601\", 56.4958, null, \"S\"], [171, 0, 1, \"Van der hoef, Mr. Wyckoff\", \"male\", 61.0, \"111240\", 33.5, \"B19\", \"S\"], [172, 0, 3, \"Rice, Master. Arthur\", \"male\", 4.0, \"382652\", 29.125, null, \"Q\"], [174, 0, 3, \"Sivola, Mr. Antti Wilhelm\", \"male\", 21.0, \"STON/O 2. 3101280\", 7.925, null, \"S\"], [175, 0, 1, \"Smith, Mr. James Clinch\", \"male\", 56.0, \"17764\", 30.6958, \"A7\", \"C\"], [176, 0, 3, \"Klasen, Mr. Klas Albin\", \"male\", 18.0, \"350404\", 7.8542, null, \"S\"], [177, 0, 3, \"Lefebre, Master. Henry Forbes\", \"male\", null, \"4133\", 25.4667, null, \"S\"], [179, 0, 2, \"Hale, Mr. Reginald\", \"male\", 30.0, \"250653\", 13.0, null, \"S\"], [180, 0, 3, \"Leonard, Mr. Lionel\", \"male\", 36.0, \"LINE\", 0.0, null, \"S\"], [182, 0, 2, \"Pernot, Mr. Rene\", \"male\", null, \"SC/PARIS 2131\", 15.05, null, \"C\"], [183, 0, 3, \"Asplund, Master. Clarence Gustaf Hugo\", \"male\", 9.0, \"347077\", 31.3875, null, \"S\"], [184, 1, 2, \"Becker, Master. Richard F\", \"male\", 1.0, \"230136\", 39.0, \"F4\", \"S\"], [186, 0, 1, \"Rood, Mr. Hugh Roscoe\", \"male\", null, \"113767\", 50.0, \"A32\", \"S\"], [188, 1, 1, \"Romaine, Mr. Charles Hallace (\\\"Mr C Rolmane\\\")\", \"male\", 45.0, \"111428\", 26.55, null, \"S\"], [189, 0, 3, \"Bourke, Mr. John\", \"male\", 40.0, \"364849\", 15.5, null, \"Q\"], [190, 0, 3, \"Turcin, Mr. Stjepan\", \"male\", 36.0, \"349247\", 7.8958, null, \"S\"], [192, 0, 2, \"Carbines, Mr. William\", \"male\", 19.0, \"28424\", 13.0, null, \"S\"], [194, 1, 2, \"Navratil, Master. Michel M\", \"male\", 3.0, \"230080\", 26.0, \"F2\", \"S\"], [197, 0, 3, \"Mernagh, Mr. Robert\", \"male\", null, \"368703\", 7.75, null, \"Q\"], [198, 0, 3, \"Olsen, Mr. Karl Siegwart Andreas\", \"male\", 42.0, \"4579\", 8.4042, null, \"S\"], [201, 0, 3, \"Vande Walle, Mr. Nestor Cyriel\", \"male\", 28.0, \"345770\", 9.5, null, \"S\"], [202, 0, 3, \"Sage, Mr. Frederick\", \"male\", null, \"CA. 2343\", 69.55, null, \"S\"], [203, 0, 3, \"Johanson, Mr. Jakob Alfred\", \"male\", 34.0, \"3101264\", 6.4958, null, \"S\"], [204, 0, 3, \"Youseff, Mr. Gerious\", \"male\", 45.5, \"2628\", 7.225, null, \"C\"], [205, 1, 3, \"Cohen, Mr. Gurshon \\\"Gus\\\"\", \"male\", 18.0, \"A/5 3540\", 8.05, null, \"S\"], [207, 0, 3, \"Backstrom, Mr. Karl Alfred\", \"male\", 32.0, \"3101278\", 15.85, null, \"S\"], [208, 1, 3, \"Albimona, Mr. Nassef Cassem\", \"male\", 26.0, \"2699\", 18.7875, null, \"C\"], [210, 1, 1, \"Blank, Mr. Henry\", \"male\", 40.0, \"112277\", 31.0, \"A31\", \"C\"], [211, 0, 3, \"Ali, Mr. Ahmed\", \"male\", 24.0, \"SOTON/O.Q. 3101311\", 7.05, null, \"S\"], [213, 0, 3, \"Perkin, Mr. John Henry\", \"male\", 22.0, \"A/5 21174\", 7.25, null, \"S\"], [214, 0, 2, \"Givard, Mr. Hans Kristensen\", \"male\", 30.0, \"250646\", 13.0, null, \"S\"], [215, 0, 3, \"Kiernan, Mr. Philip\", \"male\", null, \"367229\", 7.75, null, \"Q\"], [218, 0, 2, \"Jacobsohn, Mr. Sidney Samuel\", \"male\", 42.0, \"243847\", 27.0, null, \"S\"], [220, 0, 2, \"Harris, Mr. Walter\", \"male\", 30.0, \"W/C 14208\", 10.5, null, \"S\"], [221, 1, 3, \"Sunderland, Mr. Victor Francis\", \"male\", 16.0, \"SOTON/OQ 392089\", 8.05, null, \"S\"], [222, 0, 2, \"Bracken, Mr. James H\", \"male\", 27.0, \"220367\", 13.0, null, \"S\"], [223, 0, 3, \"Green, Mr. George Henry\", \"male\", 51.0, \"21440\", 8.05, null, \"S\"], [224, 0, 3, \"Nenkoff, Mr. Christo\", \"male\", null, \"349234\", 7.8958, null, \"S\"], [225, 1, 1, \"Hoyt, Mr. Frederick Maxfield\", \"male\", 38.0, \"19943\", 90.0, \"C93\", \"S\"], [226, 0, 3, \"Berglund, Mr. Karl Ivar Sven\", \"male\", 22.0, \"PP 4348\", 9.35, null, \"S\"], [227, 1, 2, \"Mellors, Mr. William John\", \"male\", 19.0, \"SW/PP 751\", 10.5, null, \"S\"], [228, 0, 3, \"Lovell, Mr. John Hall (\\\"Henry\\\")\", \"male\", 20.5, \"A/5 21173\", 7.25, null, \"S\"], [229, 0, 2, \"Fahlstrom, Mr. Arne Jonas\", \"male\", 18.0, \"236171\", 13.0, null, \"S\"], [232, 0, 3, \"Larsson, Mr. Bengt Edvin\", \"male\", 29.0, \"347067\", 7.775, null, \"S\"], [233, 0, 2, \"Sjostedt, Mr. Ernst Adolf\", \"male\", 59.0, \"237442\", 13.5, null, \"S\"], [235, 0, 2, \"Leyson, Mr. Robert William Norman\", \"male\", 24.0, \"C.A. 29566\", 10.5, null, \"S\"], [237, 0, 2, \"Hold, Mr. Stephen\", \"male\", 44.0, \"26707\", 26.0, null, \"S\"], [239, 0, 2, \"Pengelly, Mr. Frederick William\", \"male\", 19.0, \"28665\", 10.5, null, \"S\"], [240, 0, 2, \"Hunt, Mr. George Henry\", \"male\", 33.0, \"SCO/W 1585\", 12.275, null, \"S\"], [243, 0, 2, \"Coleridge, Mr. Reginald Charles\", \"male\", 29.0, \"W./C. 14263\", 10.5, null, \"S\"], [244, 0, 3, \"Maenpaa, Mr. Matti Alexanteri\", \"male\", 22.0, \"STON/O 2. 3101275\", 7.125, null, \"S\"], [245, 0, 3, \"Attalah, Mr. Sleiman\", \"male\", 30.0, \"2694\", 7.225, null, \"C\"], [246, 0, 1, \"Minahan, Dr. William Edward\", \"male\", 44.0, \"19928\", 90.0, \"C78\", \"Q\"], [249, 1, 1, \"Beckwith, Mr. Richard Leonard\", \"male\", 37.0, \"11751\", 52.5542, \"D35\", \"S\"], [250, 0, 2, \"Carter, Rev. Ernest Courtenay\", \"male\", 54.0, \"244252\", 26.0, null, \"S\"], [251, 0, 3, \"Reed, Mr. James George\", \"male\", null, \"362316\", 7.25, null, \"S\"], [253, 0, 1, \"Stead, Mr. William Thomas\", \"male\", 62.0, \"113514\", 26.55, \"C87\", \"S\"], [254, 0, 3, \"Lobb, Mr. William Arthur\", \"male\", 30.0, \"A/5. 3336\", 16.1, null, \"S\"], [261, 0, 3, \"Smith, Mr. Thomas\", \"male\", null, \"384461\", 7.75, null, \"Q\"], [262, 1, 3, \"Asplund, Master. Edvin Rojj Felix\", \"male\", 3.0, \"347077\", 31.3875, null, \"S\"], [263, 0, 1, \"Taussig, Mr. Emil\", \"male\", 52.0, \"110413\", 79.65, \"E67\", \"S\"], [264, 0, 1, \"Harrison, Mr. William\", \"male\", 40.0, \"112059\", 0.0, \"B94\", \"S\"], [266, 0, 2, \"Reeves, Mr. David\", \"male\", 36.0, \"C.A. 17248\", 10.5, null, \"S\"], [267, 0, 3, \"Panula, Mr. Ernesti Arvid\", \"male\", 16.0, \"3101295\", 39.6875, null, \"S\"], [268, 1, 3, \"Persson, Mr. Ernst Ulrik\", \"male\", 25.0, \"347083\", 7.775, null, \"S\"], [271, 0, 1, \"Cairns, Mr. Alexander\", \"male\", null, \"113798\", 31.0, null, \"S\"], [272, 1, 3, \"Tornquist, Mr. William Henry\", \"male\", 25.0, \"LINE\", 0.0, null, \"S\"], [274, 0, 1, \"Natsch, Mr. Charles H\", \"male\", 37.0, \"PC 17596\", 29.7, \"C118\", \"C\"], [278, 0, 2, \"Parkes, Mr. Francis \\\"Frank\\\"\", \"male\", null, \"239853\", 0.0, null, \"S\"], [279, 0, 3, \"Rice, Master. Eric\", \"male\", 7.0, \"382652\", 29.125, null, \"Q\"], [281, 0, 3, \"Duane, Mr. Frank\", \"male\", 65.0, \"336439\", 7.75, null, \"Q\"], [282, 0, 3, \"Olsson, Mr. Nils Johan Goransson\", \"male\", 28.0, \"347464\", 7.8542, null, \"S\"], [283, 0, 3, \"de Pelsmaeker, Mr. Alfons\", \"male\", 16.0, \"345778\", 9.5, null, \"S\"], [284, 1, 3, \"Dorking, Mr. Edward Arthur\", \"male\", 19.0, \"A/5. 10482\", 8.05, null, \"S\"], [285, 0, 1, \"Smith, Mr. Richard William\", \"male\", null, \"113056\", 26.0, \"A19\", \"S\"], [286, 0, 3, \"Stankovic, Mr. Ivan\", \"male\", 33.0, \"349239\", 8.6625, null, \"C\"], [287, 1, 3, \"de Mulder, Mr. Theodore\", \"male\", 30.0, \"345774\", 9.5, null, \"S\"], [288, 0, 3, \"Naidenoff, Mr. Penko\", \"male\", 22.0, \"349206\", 7.8958, null, \"S\"], [289, 1, 2, \"Hosono, Mr. Masabumi\", \"male\", 42.0, \"237798\", 13.0, null, \"S\"], [293, 0, 2, \"Levy, Mr. Rene Jacques\", \"male\", 36.0, \"SC/Paris 2163\", 12.875, \"D\", \"C\"], [295, 0, 3, \"Mineff, Mr. Ivan\", \"male\", 24.0, \"349233\", 7.8958, null, \"S\"], [296, 0, 1, \"Lewy, Mr. Ervin G\", \"male\", null, \"PC 17612\", 27.7208, null, \"C\"], [297, 0, 3, \"Hanna, Mr. Mansour\", \"male\", 23.5, \"2693\", 7.2292, null, \"C\"], [299, 1, 1, \"Saalfeld, Mr. Adolphe\", \"male\", null, \"19988\", 30.5, \"C106\", \"S\"], [302, 1, 3, \"McCoy, Mr. Bernard\", \"male\", null, \"367226\", 23.25, null, \"Q\"], [303, 0, 3, \"Johnson, Mr. William Cahoone Jr\", \"male\", 19.0, \"LINE\", 0.0, null, \"S\"], [305, 0, 3, \"Williams, Mr. Howard Hugh \\\"Harry\\\"\", \"male\", null, \"A/5 2466\", 8.05, null, \"S\"], [306, 1, 1, \"Allison, Master. Hudson Trevor\", \"male\", 0.92, \"113781\", 151.55, \"C22 C26\", \"S\"], [309, 0, 2, \"Abelson, Mr. Samuel\", \"male\", 30.0, \"P/PP 3381\", 24.0, null, \"C\"], [314, 0, 3, \"Hendekovic, Mr. Ignjac\", \"male\", 28.0, \"349243\", 7.8958, null, \"S\"], [315, 0, 2, \"Hart, Mr. Benjamin\", \"male\", 43.0, \"F.C.C. 13529\", 26.25, null, \"S\"], [318, 0, 2, \"Moraweck, Dr. Ernest\", \"male\", 54.0, \"29011\", 14.0, null, \"S\"], [321, 0, 3, \"Dennis, Mr. Samuel\", \"male\", 22.0, \"A/5 21172\", 7.25, null, \"S\"], [322, 0, 3, \"Danoff, Mr. Yoto\", \"male\", 27.0, \"349219\", 7.8958, null, \"S\"], [325, 0, 3, \"Sage, Mr. George John Jr\", \"male\", null, \"CA. 2343\", 69.55, null, \"S\"], [327, 0, 3, \"Nysveen, Mr. Johan Hansen\", \"male\", 61.0, \"345364\", 6.2375, null, \"S\"], [332, 0, 1, \"Partner, Mr. Austen\", \"male\", 45.5, \"113043\", 28.5, \"C124\", \"S\"], [333, 0, 1, \"Graham, Mr. George Edward\", \"male\", 38.0, \"PC 17582\", 153.4625, \"C91\", \"S\"], [334, 0, 3, \"Vander Planke, Mr. Leo Edmondus\", \"male\", 16.0, \"345764\", 18.0, null, \"S\"], [336, 0, 3, \"Denkoff, Mr. Mitto\", \"male\", null, \"349225\", 7.8958, null, \"S\"], [337, 0, 1, \"Pears, Mr. Thomas Clinton\", \"male\", 29.0, \"113776\", 66.6, \"C2\", \"S\"], [339, 1, 3, \"Dahl, Mr. Karl Edwart\", \"male\", 45.0, \"7598\", 8.05, null, \"S\"], [340, 0, 1, \"Blackwell, Mr. Stephen Weart\", \"male\", 45.0, \"113784\", 35.5, \"T\", \"S\"], [341, 1, 2, \"Navratil, Master. Edmond Roger\", \"male\", 2.0, \"230080\", 26.0, \"F2\", \"S\"], [343, 0, 2, \"Collander, Mr. Erik Gustaf\", \"male\", 28.0, \"248740\", 13.0, null, \"S\"], [344, 0, 2, \"Sedgwick, Mr. Charles Frederick Waddington\", \"male\", 25.0, \"244361\", 13.0, null, \"S\"], [345, 0, 2, \"Fox, Mr. Stanley Hubert\", \"male\", 36.0, \"229236\", 13.0, null, \"S\"], [349, 1, 3, \"Coutts, Master. William Loch \\\"William\\\"\", \"male\", 3.0, \"C.A. 37671\", 15.9, null, \"S\"], [350, 0, 3, \"Dimic, Mr. Jovan\", \"male\", 42.0, \"315088\", 8.6625, null, \"S\"], [351, 0, 3, \"Odahl, Mr. Nils Martin\", \"male\", 23.0, \"7267\", 9.225, null, \"S\"], [352, 0, 1, \"Williams-Lambert, Mr. Fletcher Fellows\", \"male\", null, \"113510\", 35.0, \"C128\", \"S\"], [353, 0, 3, \"Elias, Mr. Tannous\", \"male\", 15.0, \"2695\", 7.2292, null, \"C\"], [354, 0, 3, \"Arnold-Franchi, Mr. Josef\", \"male\", 25.0, \"349237\", 17.8, null, \"S\"], [355, 0, 3, \"Yousif, Mr. Wazli\", \"male\", null, \"2647\", 7.225, null, \"C\"], [356, 0, 3, \"Vanden Steen, Mr. Leo Peter\", \"male\", 28.0, \"345783\", 9.5, null, \"S\"], [361, 0, 3, \"Skoog, Mr. Wilhelm\", \"male\", 40.0, \"347088\", 27.9, null, \"S\"], [362, 0, 2, \"del Carlo, Mr. Sebastiano\", \"male\", 29.0, \"SC/PARIS 2167\", 27.7208, null, \"C\"], [364, 0, 3, \"Asim, Mr. Adola\", \"male\", 35.0, \"SOTON/O.Q. 3101310\", 7.05, null, \"S\"], [365, 0, 3, \"O'Brien, Mr. Thomas\", \"male\", null, \"370365\", 15.5, null, \"Q\"], [366, 0, 3, \"Adahl, Mr. Mauritz Nils Martin\", \"male\", 30.0, \"C 7076\", 7.25, null, \"S\"], [371, 1, 1, \"Harder, Mr. George Achilles\", \"male\", 25.0, \"11765\", 55.4417, \"E50\", \"C\"], [372, 0, 3, \"Wiklund, Mr. Jakob Alfred\", \"male\", 18.0, \"3101267\", 6.4958, null, \"S\"], [373, 0, 3, \"Beavan, Mr. William Thomas\", \"male\", 19.0, \"323951\", 8.05, null, \"S\"], [374, 0, 1, \"Ringhini, Mr. Sante\", \"male\", 22.0, \"PC 17760\", 135.6333, null, \"C\"], [378, 0, 1, \"Widener, Mr. Harry Elkins\", \"male\", 27.0, \"113503\", 211.5, \"C82\", \"C\"], [379, 0, 3, \"Betros, Mr. Tannous\", \"male\", 20.0, \"2648\", 4.0125, null, \"C\"], [380, 0, 3, \"Gustafsson, Mr. Karl Gideon\", \"male\", 19.0, \"347069\", 7.775, null, \"S\"], [383, 0, 3, \"Tikkanen, Mr. Juho\", \"male\", 32.0, \"STON/O 2. 3101293\", 7.925, null, \"S\"], [385, 0, 3, \"Plotcharsky, Mr. Vasil\", \"male\", null, \"349227\", 7.8958, null, \"S\"], [386, 0, 2, \"Davies, Mr. Charles Henry\", \"male\", 18.0, \"S.O.C. 14879\", 73.5, null, \"S\"], [387, 0, 3, \"Goodwin, Master. Sidney Leonard\", \"male\", 1.0, \"CA 2144\", 46.9, null, \"S\"], [389, 0, 3, \"Sadlier, Mr. Matthew\", \"male\", null, \"367655\", 7.7292, null, \"Q\"], [391, 1, 1, \"Carter, Mr. William Ernest\", \"male\", 36.0, \"113760\", 120.0, \"B96 B98\", \"S\"], [392, 1, 3, \"Jansson, Mr. Carl Olof\", \"male\", 21.0, \"350034\", 7.7958, null, \"S\"], [393, 0, 3, \"Gustafsson, Mr. Johan Birger\", \"male\", 28.0, \"3101277\", 7.925, null, \"S\"], [396, 0, 3, \"Johansson, Mr. Erik\", \"male\", 22.0, \"350052\", 7.7958, null, \"S\"], [398, 0, 2, \"McKane, Mr. Peter David\", \"male\", 46.0, \"28403\", 26.0, null, \"S\"], [399, 0, 2, \"Pain, Dr. Alfred\", \"male\", 23.0, \"244278\", 10.5, null, \"S\"], [401, 1, 3, \"Niskanen, Mr. Juha\", \"male\", 39.0, \"STON/O 2. 3101289\", 7.925, null, \"S\"], [402, 0, 3, \"Adams, Mr. John\", \"male\", 26.0, \"341826\", 8.05, null, \"S\"], [404, 0, 3, \"Hakkarainen, Mr. Pekka Pietari\", \"male\", 28.0, \"STON/O2. 3101279\", 15.85, null, \"S\"], [406, 0, 2, \"Gale, Mr. Shadrach\", \"male\", 34.0, \"28664\", 21.0, null, \"S\"], [407, 0, 3, \"Widegren, Mr. Carl/Charles Peter\", \"male\", 51.0, \"347064\", 7.75, null, \"S\"], [408, 1, 2, \"Richards, Master. William Rowe\", \"male\", 3.0, \"29106\", 18.75, null, \"S\"], [409, 0, 3, \"Birkeland, Mr. Hans Martin Monsen\", \"male\", 21.0, \"312992\", 7.775, null, \"S\"], [411, 0, 3, \"Sdycoff, Mr. Todor\", \"male\", null, \"349222\", 7.8958, null, \"S\"], [412, 0, 3, \"Hart, Mr. Henry\", \"male\", null, \"394140\", 6.8583, null, \"Q\"], [414, 0, 2, \"Cunningham, Mr. Alfred Fleming\", \"male\", null, \"239853\", 0.0, null, \"S\"], [415, 1, 3, \"Sundman, Mr. Johan Julian\", \"male\", 44.0, \"STON/O 2. 3101269\", 7.925, null, \"S\"], [419, 0, 2, \"Matthews, Mr. William John\", \"male\", 30.0, \"28228\", 13.0, null, \"S\"], [421, 0, 3, \"Gheorgheff, Mr. Stanio\", \"male\", null, \"349254\", 7.8958, null, \"C\"], [422, 0, 3, \"Charters, Mr. David\", \"male\", 21.0, \"A/5. 13032\", 7.7333, null, \"Q\"], [423, 0, 3, \"Zimmerman, Mr. Leo\", \"male\", 29.0, \"315082\", 7.875, null, \"S\"], [425, 0, 3, \"Rosblom, Mr. Viktor Richard\", \"male\", 18.0, \"370129\", 20.2125, null, \"S\"], [426, 0, 3, \"Wiseman, Mr. Phillippe\", \"male\", null, \"A/4. 34244\", 7.25, null, \"S\"], [429, 0, 3, \"Flynn, Mr. James\", \"male\", null, \"364851\", 7.75, null, \"Q\"], [430, 1, 3, \"Pickard, Mr. Berk (Berk Trembisky)\", \"male\", 32.0, \"SOTON/O.Q. 392078\", 8.05, \"E10\", \"S\"], [431, 1, 1, \"Bjornstrom-Steffansson, Mr. Mauritz Hakan\", \"male\", 28.0, \"110564\", 26.55, \"C52\", \"S\"], [434, 0, 3, \"Kallio, Mr. Nikolai Erland\", \"male\", 17.0, \"STON/O 2. 3101274\", 7.125, null, \"S\"], [435, 0, 1, \"Silvey, Mr. William Baird\", \"male\", 50.0, \"13507\", 55.9, \"E44\", \"S\"], [439, 0, 1, \"Fortune, Mr. Mark\", \"male\", 64.0, \"19950\", 263.0, \"C23 C25 C27\", \"S\"], [440, 0, 2, \"Kvillner, Mr. Johan Henrik Johannesson\", \"male\", 31.0, \"C.A. 18723\", 10.5, null, \"S\"], [442, 0, 3, \"Hampe, Mr. Leon\", \"male\", 20.0, \"345769\", 9.5, null, \"S\"], [443, 0, 3, \"Petterson, Mr. Johan Emil\", \"male\", 25.0, \"347076\", 7.775, null, \"S\"], [445, 1, 3, \"Johannesen-Bratthammer, Mr. Bernt\", \"male\", null, \"65306\", 8.1125, null, \"S\"], [446, 1, 1, \"Dodge, Master. Washington\", \"male\", 4.0, \"33638\", 81.8583, \"A34\", \"S\"], [448, 1, 1, \"Seward, Mr. Frederic Kimber\", \"male\", 34.0, \"113794\", 26.55, null, \"S\"], [450, 1, 1, \"Peuchen, Major. Arthur Godfrey\", \"male\", 52.0, \"113786\", 30.5, \"C104\", \"S\"], [451, 0, 2, \"West, Mr. Edwy Arthur\", \"male\", 36.0, \"C.A. 34651\", 27.75, null, \"S\"], [452, 0, 3, \"Hagland, Mr. Ingvald Olai Olsen\", \"male\", null, \"65303\", 19.9667, null, \"S\"], [453, 0, 1, \"Foreman, Mr. Benjamin Laventall\", \"male\", 30.0, \"113051\", 27.75, \"C111\", \"C\"], [454, 1, 1, \"Goldenberg, Mr. Samuel L\", \"male\", 49.0, \"17453\", 89.1042, \"C92\", \"C\"], [455, 0, 3, \"Peduzzi, Mr. Joseph\", \"male\", null, \"A/5 2817\", 8.05, null, \"S\"], [456, 1, 3, \"Jalsevac, Mr. Ivan\", \"male\", 29.0, \"349240\", 7.8958, null, \"C\"], [457, 0, 1, \"Millet, Mr. Francis Davis\", \"male\", 65.0, \"13509\", 26.55, \"E38\", \"S\"], [460, 0, 3, \"O'Connor, Mr. Maurice\", \"male\", null, \"371060\", 7.75, null, \"Q\"], [461, 1, 1, \"Anderson, Mr. Harry\", \"male\", 48.0, \"19952\", 26.55, \"E12\", \"S\"], [462, 0, 3, \"Morley, Mr. William\", \"male\", 34.0, \"364506\", 8.05, null, \"S\"], [463, 0, 1, \"Gee, Mr. Arthur H\", \"male\", 47.0, \"111320\", 38.5, \"E63\", \"S\"], [464, 0, 2, \"Milling, Mr. Jacob Christian\", \"male\", 48.0, \"234360\", 13.0, null, \"S\"], [465, 0, 3, \"Maisner, Mr. Simon\", \"male\", null, \"A/S 2816\", 8.05, null, \"S\"], [466, 0, 3, \"Goncalves, Mr. Manuel Estanslas\", \"male\", 38.0, \"SOTON/O.Q. 3101306\", 7.05, null, \"S\"], [467, 0, 2, \"Campbell, Mr. William\", \"male\", null, \"239853\", 0.0, null, \"S\"], [468, 0, 1, \"Smart, Mr. John Montgomery\", \"male\", 56.0, \"113792\", 26.55, null, \"S\"], [469, 0, 3, \"Scanlan, Mr. James\", \"male\", null, \"36209\", 7.725, null, \"Q\"], [471, 0, 3, \"Keefe, Mr. Arthur\", \"male\", null, \"323592\", 7.25, null, \"S\"], [472, 0, 3, \"Cacic, Mr. Luka\", \"male\", 38.0, \"315089\", 8.6625, null, \"S\"], [476, 0, 1, \"Clifford, Mr. George Quincy\", \"male\", null, \"110465\", 52.0, \"A14\", \"S\"], [477, 0, 2, \"Renouf, Mr. Peter Henry\", \"male\", 34.0, \"31027\", 21.0, null, \"S\"], [478, 0, 3, \"Braund, Mr. Lewis Richard\", \"male\", 29.0, \"3460\", 7.0458, null, \"S\"], [479, 0, 3, \"Karlsson, Mr. Nils August\", \"male\", 22.0, \"350060\", 7.5208, null, \"S\"], [481, 0, 3, \"Goodwin, Master. Harold Victor\", \"male\", 9.0, \"CA 2144\", 46.9, null, \"S\"], [482, 0, 2, \"Frost, Mr. Anthony Wood \\\"Archie\\\"\", \"male\", null, \"239854\", 0.0, null, \"S\"], [483, 0, 3, \"Rouse, Mr. Richard Henry\", \"male\", 50.0, \"A/5 3594\", 8.05, null, \"S\"], [485, 1, 1, \"Bishop, Mr. Dickinson H\", \"male\", 25.0, \"11967\", 91.0792, \"B49\", \"C\"], [488, 0, 1, \"Kent, Mr. Edward Austin\", \"male\", 58.0, \"11771\", 29.7, \"B37\", \"C\"], [489, 0, 3, \"Somerton, Mr. Francis William\", \"male\", 30.0, \"A.5. 18509\", 8.05, null, \"S\"], [490, 1, 3, \"Coutts, Master. Eden Leslie \\\"Neville\\\"\", \"male\", 9.0, \"C.A. 37671\", 15.9, null, \"S\"], [491, 0, 3, \"Hagland, Mr. Konrad Mathias Reiersen\", \"male\", null, \"65304\", 19.9667, null, \"S\"], [492, 0, 3, \"Windelov, Mr. Einar\", \"male\", 21.0, \"SOTON/OQ 3101317\", 7.25, null, \"S\"], [493, 0, 1, \"Molson, Mr. Harry Markland\", \"male\", 55.0, \"113787\", 30.5, \"C30\", \"S\"], [494, 0, 1, \"Artagaveytia, Mr. Ramon\", \"male\", 71.0, \"PC 17609\", 49.5042, null, \"C\"], [495, 0, 3, \"Stanley, Mr. Edward Roland\", \"male\", 21.0, \"A/4 45380\", 8.05, null, \"S\"], [496, 0, 3, \"Yousseff, Mr. Gerious\", \"male\", null, \"2627\", 14.4583, null, \"C\"], [498, 0, 3, \"Shellard, Mr. Frederick William\", \"male\", null, \"C.A. 6212\", 15.1, null, \"S\"], [500, 0, 3, \"Svensson, Mr. Olof\", \"male\", 24.0, \"350035\", 7.7958, null, \"S\"], [501, 0, 3, \"Calic, Mr. Petar\", \"male\", 17.0, \"315086\", 8.6625, null, \"S\"], [506, 0, 1, \"Penasco y Castellana, Mr. Victor de Satode\", \"male\", 18.0, \"PC 17758\", 108.9, \"C65\", \"C\"], [508, 1, 1, \"Bradley, Mr. George (\\\"George Arthur Brayton\\\")\", \"male\", null, \"111427\", 26.55, null, \"S\"], [509, 0, 3, \"Olsen, Mr. Henry Margido\", \"male\", 28.0, \"C 4001\", 22.525, null, \"S\"], [510, 1, 3, \"Lang, Mr. Fang\", \"male\", 26.0, \"1601\", 56.4958, null, \"S\"], [511, 1, 3, \"Daly, Mr. Eugene Patrick\", \"male\", 29.0, \"382651\", 7.75, null, \"Q\"], [512, 0, 3, \"Webber, Mr. James\", \"male\", null, \"SOTON/OQ 3101316\", 8.05, null, \"S\"], [513, 1, 1, \"McGough, Mr. James Robert\", \"male\", 36.0, \"PC 17473\", 26.2875, \"E25\", \"S\"], [515, 0, 3, \"Coleff, Mr. Satio\", \"male\", 24.0, \"349209\", 7.4958, null, \"S\"], [516, 0, 1, \"Walker, Mr. William Anderson\", \"male\", 47.0, \"36967\", 34.0208, \"D46\", \"S\"], [518, 0, 3, \"Ryan, Mr. Patrick\", \"male\", null, \"371110\", 24.15, null, \"Q\"], [520, 0, 3, \"Pavlovic, Mr. Stefo\", \"male\", 32.0, \"349242\", 7.8958, null, \"S\"], [522, 0, 3, \"Vovk, Mr. Janko\", \"male\", 22.0, \"349252\", 7.8958, null, \"S\"], [523, 0, 3, \"Lahoud, Mr. Sarkis\", \"male\", null, \"2624\", 7.225, null, \"C\"], [525, 0, 3, \"Kassem, Mr. Fared\", \"male\", null, \"2700\", 7.2292, null, \"C\"], [526, 0, 3, \"Farrell, Mr. James\", \"male\", 40.5, \"367232\", 7.75, null, \"Q\"], [528, 0, 1, \"Farthing, Mr. John\", \"male\", null, \"PC 17483\", 221.7792, \"C95\", \"S\"], [529, 0, 3, \"Salonen, Mr. Johan Werner\", \"male\", 39.0, \"3101296\", 7.925, null, \"S\"], [530, 0, 2, \"Hocking, Mr. Richard George\", \"male\", 23.0, \"29104\", 11.5, null, \"S\"], [532, 0, 3, \"Toufik, Mr. Nakli\", \"male\", null, \"2641\", 7.2292, null, \"C\"], [533, 0, 3, \"Elias, Mr. Joseph Jr\", \"male\", 17.0, \"2690\", 7.2292, null, \"C\"], [537, 0, 1, \"Butt, Major. Archibald Willingham\", \"male\", 45.0, \"113050\", 26.55, \"B38\", \"S\"], [539, 0, 3, \"Risien, Mr. Samuel Beard\", \"male\", null, \"364498\", 14.5, null, \"S\"], [544, 1, 2, \"Beane, Mr. Edward\", \"male\", 32.0, \"2908\", 26.0, null, \"S\"], [545, 0, 1, \"Douglas, Mr. Walter Donald\", \"male\", 50.0, \"PC 17761\", 106.425, \"C86\", \"C\"], [546, 0, 1, \"Nicholson, Mr. Arthur Ernest\", \"male\", 64.0, \"693\", 26.0, null, \"S\"], [548, 1, 2, \"Padro y Manent, Mr. Julian\", \"male\", null, \"SC/PARIS 2146\", 13.8625, null, \"C\"], [549, 0, 3, \"Goldsmith, Mr. Frank John\", \"male\", 33.0, \"363291\", 20.525, null, \"S\"], [550, 1, 2, \"Davies, Master. John Morgan Jr\", \"male\", 8.0, \"C.A. 33112\", 36.75, null, \"S\"], [551, 1, 1, \"Thayer, Mr. John Borland Jr\", \"male\", 17.0, \"17421\", 110.8833, \"C70\", \"C\"], [552, 0, 2, \"Sharp, Mr. Percival James R\", \"male\", 27.0, \"244358\", 26.0, null, \"S\"], [553, 0, 3, \"O'Brien, Mr. Timothy\", \"male\", null, \"330979\", 7.8292, null, \"Q\"], [554, 1, 3, \"Leeni, Mr. Fahim (\\\"Philip Zenni\\\")\", \"male\", 22.0, \"2620\", 7.225, null, \"C\"], [556, 0, 1, \"Wright, Mr. George\", \"male\", 62.0, \"113807\", 26.55, null, \"S\"], [558, 0, 1, \"Robbins, Mr. Victor\", \"male\", null, \"PC 17757\", 227.525, null, \"C\"], [561, 0, 3, \"Morrow, Mr. Thomas Rowan\", \"male\", null, \"372622\", 7.75, null, \"Q\"], [562, 0, 3, \"Sivic, Mr. Husein\", \"male\", 40.0, \"349251\", 7.8958, null, \"S\"], [563, 0, 2, \"Norman, Mr. Robert Douglas\", \"male\", 28.0, \"218629\", 13.5, null, \"S\"], [564, 0, 3, \"Simmons, Mr. John\", \"male\", null, \"SOTON/OQ 392082\", 8.05, null, \"S\"], [566, 0, 3, \"Davies, Mr. Alfred J\", \"male\", 24.0, \"A/4 48871\", 24.15, null, \"S\"], [567, 0, 3, \"Stoytcheff, Mr. Ilia\", \"male\", 19.0, \"349205\", 7.8958, null, \"S\"], [569, 0, 3, \"Doharr, Mr. Tannous\", \"male\", null, \"2686\", 7.2292, null, \"C\"], [570, 1, 3, \"Jonsson, Mr. Carl\", \"male\", 32.0, \"350417\", 7.8542, null, \"S\"], [571, 1, 2, \"Harris, Mr. George\", \"male\", 62.0, \"S.W./PP 752\", 10.5, null, \"S\"], [573, 1, 1, \"Flynn, Mr. John Irwin (\\\"Irving\\\")\", \"male\", 36.0, \"PC 17474\", 26.3875, \"E25\", \"S\"], [575, 0, 3, \"Rush, Mr. Alfred George John\", \"male\", 16.0, \"A/4. 20589\", 8.05, null, \"S\"], [576, 0, 3, \"Patchett, Mr. George\", \"male\", 19.0, \"358585\", 14.5, null, \"S\"], [580, 1, 3, \"Jussila, Mr. Eiriik\", \"male\", 32.0, \"STON/O 2. 3101286\", 7.925, null, \"S\"], [583, 0, 2, \"Downton, Mr. William James\", \"male\", 54.0, \"28403\", 26.0, null, \"S\"], [584, 0, 1, \"Ross, Mr. John Hugo\", \"male\", 36.0, \"13049\", 40.125, \"A10\", \"C\"], [585, 0, 3, \"Paulner, Mr. Uscher\", \"male\", null, \"3411\", 8.7125, null, \"C\"], [587, 0, 2, \"Jarvis, Mr. John Denzil\", \"male\", 47.0, \"237565\", 15.0, null, \"S\"], [588, 1, 1, \"Frolicher-Stehli, Mr. Maxmillian\", \"male\", 60.0, \"13567\", 79.2, \"B41\", \"C\"], [589, 0, 3, \"Gilinski, Mr. Eliezer\", \"male\", 22.0, \"14973\", 8.05, null, \"S\"], [590, 0, 3, \"Murdlin, Mr. Joseph\", \"male\", null, \"A./5. 3235\", 8.05, null, \"S\"], [591, 0, 3, \"Rintamaki, Mr. Matti\", \"male\", 35.0, \"STON/O 2. 3101273\", 7.125, null, \"S\"], [593, 0, 3, \"Elsbury, Mr. William James\", \"male\", 47.0, \"A/5 3902\", 7.25, null, \"S\"], [595, 0, 2, \"Chapman, Mr. John Henry\", \"male\", 37.0, \"SC/AH 29037\", 26.0, null, \"S\"], [596, 0, 3, \"Van Impe, Mr. Jean Baptiste\", \"male\", 36.0, \"345773\", 24.15, null, \"S\"], [598, 0, 3, \"Johnson, Mr. Alfred\", \"male\", 49.0, \"LINE\", 0.0, null, \"S\"], [599, 0, 3, \"Boulos, Mr. Hanna\", \"male\", null, \"2664\", 7.225, null, \"C\"], [600, 1, 1, \"Duff Gordon, Sir. Cosmo Edmund (\\\"Mr Morgan\\\")\", \"male\", 49.0, \"PC 17485\", 56.9292, \"A20\", \"C\"], [602, 0, 3, \"Slabenoff, Mr. Petco\", \"male\", null, \"349214\", 7.8958, null, \"S\"], [603, 0, 1, \"Harrington, Mr. Charles H\", \"male\", null, \"113796\", 42.4, null, \"S\"], [604, 0, 3, \"Torber, Mr. Ernst William\", \"male\", 44.0, \"364511\", 8.05, null, \"S\"], [605, 1, 1, \"Homer, Mr. Harry (\\\"Mr E Haven\\\")\", \"male\", 35.0, \"111426\", 26.55, null, \"C\"], [606, 0, 3, \"Lindell, Mr. Edvard Bengtsson\", \"male\", 36.0, \"349910\", 15.55, null, \"S\"], [607, 0, 3, \"Karaic, Mr. Milan\", \"male\", 30.0, \"349246\", 7.8958, null, \"S\"], [608, 1, 1, \"Daniel, Mr. Robert Williams\", \"male\", 27.0, \"113804\", 30.5, null, \"S\"], [612, 0, 3, \"Jardin, Mr. Jose Neto\", \"male\", null, \"SOTON/O.Q. 3101305\", 7.05, null, \"S\"], [614, 0, 3, \"Horgan, Mr. John\", \"male\", null, \"370377\", 7.75, null, \"Q\"], [615, 0, 3, \"Brocklebank, Mr. William Alfred\", \"male\", 35.0, \"364512\", 8.05, null, \"S\"], [617, 0, 3, \"Danbom, Mr. Ernst Gilbert\", \"male\", 34.0, \"347080\", 14.4, null, \"S\"], [620, 0, 2, \"Gavey, Mr. Lawrence\", \"male\", 26.0, \"31028\", 10.5, null, \"S\"], [621, 0, 3, \"Yasbeck, Mr. Antoni\", \"male\", 27.0, \"2659\", 14.4542, null, \"C\"], [622, 1, 1, \"Kimball, Mr. Edwin Nelson Jr\", \"male\", 42.0, \"11753\", 52.5542, \"D19\", \"S\"], [623, 1, 3, \"Nakid, Mr. Sahid\", \"male\", 20.0, \"2653\", 15.7417, null, \"C\"], [624, 0, 3, \"Hansen, Mr. Henry Damsgaard\", \"male\", 21.0, \"350029\", 7.8542, null, \"S\"], [625, 0, 3, \"Bowen, Mr. David John \\\"Dai\\\"\", \"male\", 21.0, \"54636\", 16.1, null, \"S\"], [626, 0, 1, \"Sutton, Mr. Frederick\", \"male\", 61.0, \"36963\", 32.3208, \"D50\", \"S\"], [627, 0, 2, \"Kirkland, Rev. Charles Leonard\", \"male\", 57.0, \"219533\", 12.35, null, \"Q\"], [629, 0, 3, \"Bostandyeff, Mr. Guentcho\", \"male\", 26.0, \"349224\", 7.8958, null, \"S\"], [630, 0, 3, \"O'Connell, Mr. Patrick D\", \"male\", null, \"334912\", 7.7333, null, \"Q\"], [631, 1, 1, \"Barkworth, Mr. Algernon Henry Wilson\", \"male\", 80.0, \"27042\", 30.0, \"A23\", \"S\"], [632, 0, 3, \"Lundahl, Mr. Johan Svensson\", \"male\", 51.0, \"347743\", 7.0542, null, \"S\"], [633, 1, 1, \"Stahelin-Maeglin, Dr. Max\", \"male\", 32.0, \"13214\", 30.5, \"B50\", \"C\"], [634, 0, 1, \"Parr, Mr. William Henry Marsh\", \"male\", null, \"112052\", 0.0, null, \"S\"], [637, 0, 3, \"Leinonen, Mr. Antti Gustaf\", \"male\", 32.0, \"STON/O 2. 3101292\", 7.925, null, \"S\"], [638, 0, 2, \"Collyer, Mr. Harvey\", \"male\", 31.0, \"C.A. 31921\", 26.25, null, \"S\"], [640, 0, 3, \"Thorneycroft, Mr. Percival\", \"male\", null, \"376564\", 16.1, null, \"S\"], [641, 0, 3, \"Jensen, Mr. Hans Peder\", \"male\", 20.0, \"350050\", 7.8542, null, \"S\"], [644, 1, 3, \"Foo, Mr. Choong\", \"male\", null, \"1601\", 56.4958, null, \"S\"], [646, 1, 1, \"Harper, Mr. Henry Sleeper\", \"male\", 48.0, \"PC 17572\", 76.7292, \"D33\", \"C\"], [647, 0, 3, \"Cor, Mr. Liudevit\", \"male\", 19.0, \"349231\", 7.8958, null, \"S\"], [648, 1, 1, \"Simonius-Blumer, Col. Oberst Alfons\", \"male\", 56.0, \"13213\", 35.5, \"A26\", \"C\"], [649, 0, 3, \"Willey, Mr. Edward\", \"male\", null, \"S.O./P.P. 751\", 7.55, null, \"S\"], [651, 0, 3, \"Mitkoff, Mr. Mito\", \"male\", null, \"349221\", 7.8958, null, \"S\"], [653, 0, 3, \"Kalvik, Mr. Johannes Halvorsen\", \"male\", 21.0, \"8475\", 8.4333, null, \"S\"], [656, 0, 2, \"Hickman, Mr. Leonard Mark\", \"male\", 24.0, \"S.O.C. 14879\", 73.5, null, \"S\"], [657, 0, 3, \"Radeff, Mr. Alexander\", \"male\", null, \"349223\", 7.8958, null, \"S\"], [659, 0, 2, \"Eitemiller, Mr. George Floyd\", \"male\", 23.0, \"29751\", 13.0, null, \"S\"], [660, 0, 1, \"Newell, Mr. Arthur Webster\", \"male\", 58.0, \"35273\", 113.275, \"D48\", \"C\"], [661, 1, 1, \"Frauenthal, Dr. Henry William\", \"male\", 50.0, \"PC 17611\", 133.65, null, \"S\"], [662, 0, 3, \"Badt, Mr. Mohamed\", \"male\", 40.0, \"2623\", 7.225, null, \"C\"], [663, 0, 1, \"Colley, Mr. Edward Pomeroy\", \"male\", 47.0, \"5727\", 25.5875, \"E58\", \"S\"], [664, 0, 3, \"Coleff, Mr. Peju\", \"male\", 36.0, \"349210\", 7.4958, null, \"S\"], [665, 1, 3, \"Lindqvist, Mr. Eino William\", \"male\", 20.0, \"STON/O 2. 3101285\", 7.925, null, \"S\"], [666, 0, 2, \"Hickman, Mr. Lewis\", \"male\", 32.0, \"S.O.C. 14879\", 73.5, null, \"S\"], [667, 0, 2, \"Butler, Mr. Reginald Fenton\", \"male\", 25.0, \"234686\", 13.0, null, \"S\"], [668, 0, 3, \"Rommetvedt, Mr. Knud Paust\", \"male\", null, \"312993\", 7.775, null, \"S\"], [669, 0, 3, \"Cook, Mr. Jacob\", \"male\", 43.0, \"A/5 3536\", 8.05, null, \"S\"], [672, 0, 1, \"Davidson, Mr. Thornton\", \"male\", 31.0, \"F.C. 12750\", 52.0, \"B71\", \"S\"], [673, 0, 2, \"Mitchell, Mr. Henry Michael\", \"male\", 70.0, \"C.A. 24580\", 10.5, null, \"S\"], [674, 1, 2, \"Wilhelms, Mr. Charles\", \"male\", 31.0, \"244270\", 13.0, null, \"S\"], [675, 0, 2, \"Watson, Mr. Ennis Hastings\", \"male\", null, \"239856\", 0.0, null, \"S\"], [676, 0, 3, \"Edvardsson, Mr. Gustaf Hjalmar\", \"male\", 18.0, \"349912\", 7.775, null, \"S\"], [677, 0, 3, \"Sawyer, Mr. Frederick Charles\", \"male\", 24.5, \"342826\", 8.05, null, \"S\"], [680, 1, 1, \"Cardeza, Mr. Thomas Drake Martinez\", \"male\", 36.0, \"PC 17755\", 512.3292, \"B51 B53 B55\", \"C\"], [682, 1, 1, \"Hassab, Mr. Hammad\", \"male\", 27.0, \"PC 17572\", 76.7292, \"D49\", \"C\"], [683, 0, 3, \"Olsvigen, Mr. Thor Anderson\", \"male\", 20.0, \"6563\", 9.225, null, \"S\"], [684, 0, 3, \"Goodwin, Mr. Charles Edward\", \"male\", 14.0, \"CA 2144\", 46.9, null, \"S\"], [685, 0, 2, \"Brown, Mr. Thomas William Solomon\", \"male\", 60.0, \"29750\", 39.0, null, \"S\"], [686, 0, 2, \"Laroche, Mr. Joseph Philippe Lemercier\", \"male\", 25.0, \"SC/Paris 2123\", 41.5792, null, \"C\"], [687, 0, 3, \"Panula, Mr. Jaako Arnold\", \"male\", 14.0, \"3101295\", 39.6875, null, \"S\"], [688, 0, 3, \"Dakic, Mr. Branko\", \"male\", 19.0, \"349228\", 10.1708, null, \"S\"], [689, 0, 3, \"Fischer, Mr. Eberhard Thelander\", \"male\", 18.0, \"350036\", 7.7958, null, \"S\"], [691, 1, 1, \"Dick, Mr. Albert Adrian\", \"male\", 31.0, \"17474\", 57.0, \"B20\", \"S\"], [693, 1, 3, \"Lam, Mr. Ali\", \"male\", null, \"1601\", 56.4958, null, \"S\"], [694, 0, 3, \"Saad, Mr. Khalil\", \"male\", 25.0, \"2672\", 7.225, null, \"C\"], [695, 0, 1, \"Weir, Col. John\", \"male\", 60.0, \"113800\", 26.55, null, \"S\"], [696, 0, 2, \"Chapman, Mr. Charles Henry\", \"male\", 52.0, \"248731\", 13.5, null, \"S\"], [697, 0, 3, \"Kelly, Mr. James\", \"male\", 44.0, \"363592\", 8.05, null, \"S\"], [699, 0, 1, \"Thayer, Mr. John Borland\", \"male\", 49.0, \"17421\", 110.8833, \"C68\", \"C\"], [700, 0, 3, \"Humblen, Mr. Adolf Mathias Nicolai Olsen\", \"male\", 42.0, \"348121\", 7.65, \"F G63\", \"S\"], [702, 1, 1, \"Silverthorne, Mr. Spencer Victor\", \"male\", 35.0, \"PC 17475\", 26.2875, \"E24\", \"S\"], [704, 0, 3, \"Gallagher, Mr. Martin\", \"male\", 25.0, \"36864\", 7.7417, null, \"Q\"], [705, 0, 3, \"Hansen, Mr. Henrik Juul\", \"male\", 26.0, \"350025\", 7.8542, null, \"S\"], [706, 0, 2, \"Morley, Mr. Henry Samuel (\\\"Mr Henry Marshall\\\")\", \"male\", 39.0, \"250655\", 26.0, null, \"S\"], [708, 1, 1, \"Calderhead, Mr. Edward Pennington\", \"male\", 42.0, \"PC 17476\", 26.2875, \"E24\", \"S\"], [710, 1, 3, \"Moubarek, Master. Halim Gonios (\\\"William George\\\")\", \"male\", null, \"2661\", 15.2458, null, \"C\"], [712, 0, 1, \"Klaber, Mr. Herman\", \"male\", null, \"113028\", 26.55, \"C124\", \"S\"], [713, 1, 1, \"Taylor, Mr. Elmer Zebley\", \"male\", 48.0, \"19996\", 52.0, \"C126\", \"S\"], [714, 0, 3, \"Larsson, Mr. August Viktor\", \"male\", 29.0, \"7545\", 9.4833, null, \"S\"], [715, 0, 2, \"Greenberg, Mr. Samuel\", \"male\", 52.0, \"250647\", 13.0, null, \"S\"], [716, 0, 3, \"Soholt, Mr. Peter Andreas Lauritz Andersen\", \"male\", 19.0, \"348124\", 7.65, \"F G73\", \"S\"], [719, 0, 3, \"McEvoy, Mr. Michael\", \"male\", null, \"36568\", 15.5, null, \"Q\"], [720, 0, 3, \"Johnson, Mr. Malkolm Joackim\", \"male\", 33.0, \"347062\", 7.775, null, \"S\"], [722, 0, 3, \"Jensen, Mr. Svend Lauritz\", \"male\", 17.0, \"350048\", 7.0542, null, \"S\"], [723, 0, 2, \"Gillespie, Mr. William Henry\", \"male\", 34.0, \"12233\", 13.0, null, \"S\"], [724, 0, 2, \"Hodges, Mr. Henry Price\", \"male\", 50.0, \"250643\", 13.0, null, \"S\"], [725, 1, 1, \"Chambers, Mr. Norman Campbell\", \"male\", 27.0, \"113806\", 53.1, \"E8\", \"S\"], [726, 0, 3, \"Oreskovic, Mr. Luka\", \"male\", 20.0, \"315094\", 8.6625, null, \"S\"], [729, 0, 2, \"Bryhl, Mr. Kurt Arnold Gottfrid\", \"male\", 25.0, \"236853\", 26.0, null, \"S\"], [732, 0, 3, \"Hassan, Mr. Houssein G N\", \"male\", 11.0, \"2699\", 18.7875, null, \"C\"], [733, 0, 2, \"Knight, Mr. Robert J\", \"male\", null, \"239855\", 0.0, null, \"S\"], [734, 0, 2, \"Berriman, Mr. William John\", \"male\", 23.0, \"28425\", 13.0, null, \"S\"], [735, 0, 2, \"Troupiansky, Mr. Moses Aaron\", \"male\", 23.0, \"233639\", 13.0, null, \"S\"], [736, 0, 3, \"Williams, Mr. Leslie\", \"male\", 28.5, \"54636\", 16.1, null, \"S\"], [738, 1, 1, \"Lesurer, Mr. Gustave J\", \"male\", 35.0, \"PC 17755\", 512.3292, \"B101\", \"C\"], [739, 0, 3, \"Ivanoff, Mr. Kanio\", \"male\", null, \"349201\", 7.8958, null, \"S\"], [740, 0, 3, \"Nankoff, Mr. Minko\", \"male\", null, \"349218\", 7.8958, null, \"S\"], [741, 1, 1, \"Hawksford, Mr. Walter James\", \"male\", null, \"16988\", 30.0, \"D45\", \"S\"], [742, 0, 1, \"Cavendish, Mr. Tyrell William\", \"male\", 36.0, \"19877\", 78.85, \"C46\", \"S\"], [744, 0, 3, \"McNamee, Mr. Neal\", \"male\", 24.0, \"376566\", 16.1, null, \"S\"], [745, 1, 3, \"Stranden, Mr. Juho\", \"male\", 31.0, \"STON/O 2. 3101288\", 7.925, null, \"S\"], [746, 0, 1, \"Crosby, Capt. Edward Gifford\", \"male\", 70.0, \"WE/P 5735\", 71.0, \"B22\", \"S\"], [747, 0, 3, \"Abbott, Mr. Rossmore Edward\", \"male\", 16.0, \"C.A. 2673\", 20.25, null, \"S\"], [749, 0, 1, \"Marvin, Mr. Daniel Warner\", \"male\", 19.0, \"113773\", 53.1, \"D30\", \"S\"], [750, 0, 3, \"Connaghton, Mr. Michael\", \"male\", 31.0, \"335097\", 7.75, null, \"Q\"], [752, 1, 3, \"Moor, Master. Meier\", \"male\", 6.0, \"392096\", 12.475, \"E121\", \"S\"], [753, 0, 3, \"Vande Velde, Mr. Johannes Joseph\", \"male\", 33.0, \"345780\", 9.5, null, \"S\"], [754, 0, 3, \"Jonkoff, Mr. Lalio\", \"male\", 23.0, \"349204\", 7.8958, null, \"S\"], [756, 1, 2, \"Hamalainen, Master. Viljo\", \"male\", 0.67, \"250649\", 14.5, null, \"S\"], [757, 0, 3, \"Carlsson, Mr. August Sigfrid\", \"male\", 28.0, \"350042\", 7.7958, null, \"S\"], [758, 0, 2, \"Bailey, Mr. Percy Andrew\", \"male\", 18.0, \"29108\", 11.5, null, \"S\"], [759, 0, 3, \"Theobald, Mr. Thomas Leonard\", \"male\", 34.0, \"363294\", 8.05, null, \"S\"], [761, 0, 3, \"Garfirth, Mr. John\", \"male\", null, \"358585\", 14.5, null, \"S\"], [762, 0, 3, \"Nirva, Mr. Iisakki Antino Aijo\", \"male\", 41.0, \"SOTON/O2 3101272\", 7.125, null, \"S\"], [763, 1, 3, \"Barah, Mr. Hanna Assi\", \"male\", 20.0, \"2663\", 7.2292, null, \"C\"], [765, 0, 3, \"Eklund, Mr. Hans Linus\", \"male\", 16.0, \"347074\", 7.775, null, \"S\"], [767, 0, 1, \"Brewe, Dr. Arthur Jackson\", \"male\", null, \"112379\", 39.6, null, \"C\"], [769, 0, 3, \"Moran, Mr. Daniel J\", \"male\", null, \"371110\", 24.15, null, \"Q\"], [770, 0, 3, \"Gronnestad, Mr. Daniel Danielsen\", \"male\", 32.0, \"8471\", 8.3625, null, \"S\"], [771, 0, 3, \"Lievens, Mr. Rene Aime\", \"male\", 24.0, \"345781\", 9.5, null, \"S\"], [772, 0, 3, \"Jensen, Mr. Niels Peder\", \"male\", 48.0, \"350047\", 7.8542, null, \"S\"], [774, 0, 3, \"Elias, Mr. Dibo\", \"male\", null, \"2674\", 7.225, null, \"C\"], [776, 0, 3, \"Myhrman, Mr. Pehr Fabian Oliver Malkolm\", \"male\", 18.0, \"347078\", 7.75, null, \"S\"], [777, 0, 3, \"Tobin, Mr. Roger\", \"male\", null, \"383121\", 7.75, \"F38\", \"Q\"], [779, 0, 3, \"Kilgannon, Mr. Thomas J\", \"male\", null, \"36865\", 7.7375, null, \"Q\"], [783, 0, 1, \"Long, Mr. Milton Clyde\", \"male\", 29.0, \"113501\", 30.0, \"D6\", \"S\"], [784, 0, 3, \"Johnston, Mr. Andrew G\", \"male\", null, \"W./C. 6607\", 23.45, null, \"S\"], [785, 0, 3, \"Ali, Mr. William\", \"male\", 25.0, \"SOTON/O.Q. 3101312\", 7.05, null, \"S\"], [786, 0, 3, \"Harmer, Mr. Abraham (David Lishin)\", \"male\", 25.0, \"374887\", 7.25, null, \"S\"], [788, 0, 3, \"Rice, Master. George Hugh\", \"male\", 8.0, \"382652\", 29.125, null, \"Q\"], [789, 1, 3, \"Dean, Master. Bertram Vere\", \"male\", 1.0, \"C.A. 2315\", 20.575, null, \"S\"], [790, 0, 1, \"Guggenheim, Mr. Benjamin\", \"male\", 46.0, \"PC 17593\", 79.2, \"B82 B84\", \"C\"], [791, 0, 3, \"Keane, Mr. Andrew \\\"Andy\\\"\", \"male\", null, \"12460\", 7.75, null, \"Q\"], [792, 0, 2, \"Gaskell, Mr. Alfred\", \"male\", 16.0, \"239865\", 26.0, null, \"S\"], [794, 0, 1, \"Hoyt, Mr. William Fisher\", \"male\", null, \"PC 17600\", 30.6958, null, \"C\"], [795, 0, 3, \"Dantcheff, Mr. Ristiu\", \"male\", 25.0, \"349203\", 7.8958, null, \"S\"], [796, 0, 2, \"Otter, Mr. Richard\", \"male\", 39.0, \"28213\", 13.0, null, \"S\"], [799, 0, 3, \"Ibrahim Shawah, Mr. Yousseff\", \"male\", 30.0, \"2685\", 7.2292, null, \"C\"], [801, 0, 2, \"Ponesell, Mr. Martin\", \"male\", 34.0, \"250647\", 13.0, null, \"S\"], [803, 1, 1, \"Carter, Master. William Thornton II\", \"male\", 11.0, \"113760\", 120.0, \"B96 B98\", \"S\"], [804, 1, 3, \"Thomas, Master. Assad Alexander\", \"male\", 0.42, \"2625\", 8.5167, null, \"C\"], [805, 1, 3, \"Hedman, Mr. Oskar Arvid\", \"male\", 27.0, \"347089\", 6.975, null, \"S\"], [806, 0, 3, \"Johansson, Mr. Karl Johan\", \"male\", 31.0, \"347063\", 7.775, null, \"S\"], [807, 0, 1, \"Andrews, Mr. Thomas Jr\", \"male\", 39.0, \"112050\", 0.0, \"A36\", \"S\"], [809, 0, 2, \"Meyer, Mr. August\", \"male\", 39.0, \"248723\", 13.0, null, \"S\"], [811, 0, 3, \"Alexander, Mr. William\", \"male\", 26.0, \"3474\", 7.8875, null, \"S\"], [812, 0, 3, \"Lester, Mr. James\", \"male\", 39.0, \"A/4 48871\", 24.15, null, \"S\"], [813, 0, 2, \"Slemen, Mr. Richard James\", \"male\", 35.0, \"28206\", 10.5, null, \"S\"], [815, 0, 3, \"Tomlin, Mr. Ernest Portage\", \"male\", 30.5, \"364499\", 8.05, null, \"S\"], [816, 0, 1, \"Fry, Mr. Richard\", \"male\", null, \"112058\", 0.0, \"B102\", \"S\"], [818, 0, 2, \"Mallet, Mr. Albert\", \"male\", 31.0, \"S.C./PARIS 2079\", 37.0042, null, \"C\"], [819, 0, 3, \"Holm, Mr. John Fredrik Alexander\", \"male\", 43.0, \"C 7075\", 6.45, null, \"S\"], [820, 0, 3, \"Skoog, Master. Karl Thorsten\", \"male\", 10.0, \"347088\", 27.9, null, \"S\"], [822, 1, 3, \"Lulic, Mr. Nikola\", \"male\", 27.0, \"315098\", 8.6625, null, \"S\"], [823, 0, 1, \"Reuchlin, Jonkheer. John George\", \"male\", 38.0, \"19972\", 0.0, null, \"S\"], [825, 0, 3, \"Panula, Master. Urho Abraham\", \"male\", 2.0, \"3101295\", 39.6875, null, \"S\"], [826, 0, 3, \"Flynn, Mr. John\", \"male\", null, \"368323\", 6.95, null, \"Q\"], [827, 0, 3, \"Lam, Mr. Len\", \"male\", null, \"1601\", 56.4958, null, \"S\"], [828, 1, 2, \"Mallet, Master. Andre\", \"male\", 1.0, \"S.C./PARIS 2079\", 37.0042, null, \"C\"], [829, 1, 3, \"McCormack, Mr. Thomas Joseph\", \"male\", null, \"367228\", 7.75, null, \"Q\"], [832, 1, 2, \"Richards, Master. George Sibley\", \"male\", 0.83, \"29106\", 18.75, null, \"S\"], [833, 0, 3, \"Saad, Mr. Amin\", \"male\", null, \"2671\", 7.2292, null, \"C\"], [834, 0, 3, \"Augustsson, Mr. Albert\", \"male\", 23.0, \"347468\", 7.8542, null, \"S\"], [835, 0, 3, \"Allum, Mr. Owen George\", \"male\", 18.0, \"2223\", 8.3, null, \"S\"], [837, 0, 3, \"Pasic, Mr. Jakob\", \"male\", 21.0, \"315097\", 8.6625, null, \"S\"], [838, 0, 3, \"Sirota, Mr. Maurice\", \"male\", null, \"392092\", 8.05, null, \"S\"], [839, 1, 3, \"Chip, Mr. Chang\", \"male\", 32.0, \"1601\", 56.4958, null, \"S\"], [840, 1, 1, \"Marechal, Mr. Pierre\", \"male\", null, \"11774\", 29.7, \"C47\", \"C\"], [841, 0, 3, \"Alhomaki, Mr. Ilmari Rudolf\", \"male\", 20.0, \"SOTON/O2 3101287\", 7.925, null, \"S\"], [842, 0, 2, \"Mudd, Mr. Thomas Charles\", \"male\", 16.0, \"S.O./P.P. 3\", 10.5, null, \"S\"], [844, 0, 3, \"Lemberopolous, Mr. Peter L\", \"male\", 34.5, \"2683\", 6.4375, null, \"C\"], [845, 0, 3, \"Culumovic, Mr. Jeso\", \"male\", 17.0, \"315090\", 8.6625, null, \"S\"], [846, 0, 3, \"Abbing, Mr. Anthony\", \"male\", 42.0, \"C.A. 5547\", 7.55, null, \"S\"], [847, 0, 3, \"Sage, Mr. Douglas Bullen\", \"male\", null, \"CA. 2343\", 69.55, null, \"S\"], [848, 0, 3, \"Markoff, Mr. Marin\", \"male\", 35.0, \"349213\", 7.8958, null, \"C\"], [849, 0, 2, \"Harper, Rev. John\", \"male\", 28.0, \"248727\", 33.0, null, \"S\"], [851, 0, 3, \"Andersson, Master. Sigvard Harald Elias\", \"male\", 4.0, \"347082\", 31.275, null, \"S\"], [852, 0, 3, \"Svensson, Mr. Johan\", \"male\", 74.0, \"347060\", 7.775, null, \"S\"], [858, 1, 1, \"Daly, Mr. Peter Denis \", \"male\", 51.0, \"113055\", 26.55, \"E17\", \"S\"], [860, 0, 3, \"Razi, Mr. Raihed\", \"male\", null, \"2629\", 7.2292, null, \"C\"], [861, 0, 3, \"Hansen, Mr. Claus Peter\", \"male\", 41.0, \"350026\", 14.1083, null, \"S\"], [862, 0, 2, \"Giles, Mr. Frederick Edward\", \"male\", 21.0, \"28134\", 11.5, null, \"S\"], [865, 0, 2, \"Gill, Mr. John William\", \"male\", 24.0, \"233866\", 13.0, null, \"S\"], [868, 0, 1, \"Roebling, Mr. Washington Augustus II\", \"male\", 31.0, \"PC 17590\", 50.4958, \"A24\", \"S\"], [869, 0, 3, \"van Melkebeke, Mr. Philemon\", \"male\", null, \"345777\", 9.5, null, \"S\"], [870, 1, 3, \"Johnson, Master. Harold Theodor\", \"male\", 4.0, \"347742\", 11.1333, null, \"S\"], [871, 0, 3, \"Balkic, Mr. Cerin\", \"male\", 26.0, \"349248\", 7.8958, null, \"S\"], [873, 0, 1, \"Carlsson, Mr. Frans Olof\", \"male\", 33.0, \"695\", 5.0, \"B51 B53 B55\", \"S\"], [874, 0, 3, \"Vander Cruyssen, Mr. Victor\", \"male\", 47.0, \"345765\", 9.0, null, \"S\"], [877, 0, 3, \"Gustafsson, Mr. Alfred Ossian\", \"male\", 20.0, \"7534\", 9.8458, null, \"S\"], [878, 0, 3, \"Petroff, Mr. Nedelio\", \"male\", 19.0, \"349212\", 7.8958, null, \"S\"], [879, 0, 3, \"Laleff, Mr. Kristo\", \"male\", null, \"349217\", 7.8958, null, \"S\"], [882, 0, 3, \"Markun, Mr. Johann\", \"male\", 33.0, \"349257\", 7.8958, null, \"S\"], [884, 0, 2, \"Banfield, Mr. Frederick James\", \"male\", 28.0, \"C.A./SOTON 34068\", 10.5, null, \"S\"], [885, 0, 3, \"Sutehall, Mr. Henry Jr\", \"male\", 25.0, \"SOTON/OQ 392076\", 7.05, null, \"S\"], [887, 0, 2, \"Montvila, Rev. Juozas\", \"male\", 27.0, \"211536\", 13.0, null, \"S\"], [890, 1, 1, \"Behr, Mr. Karl Howell\", \"male\", 26.0, \"111369\", 30.0, \"C148\", \"C\"], [891, 0, 3, \"Dooley, Mr. Patrick\", \"male\", 32.0, \"370376\", 7.75, null, \"Q\"]], \"fillcolor\": \"rgba(255,255,255,0)\", \"hoveron\": \"points\", \"hovertemplate\": \"Sex=%{customdata[4]}<br>SibSp=%{x}<br>PassengerId=%{customdata[0]}<br>Survived=%{customdata[1]}<br>Pclass=%{customdata[2]}<br>Name=%{customdata[3]}<br>Age=%{customdata[5]}<br>Ticket=%{customdata[6]}<br>Fare=%{customdata[7]}<br>Cabin=%{customdata[8]}<br>Embarked=%{customdata[9]}<extra></extra>\", \"jitter\": 0, \"legendgroup\": \"male\", \"line\": {\"color\": \"rgba(255,255,255,0)\"}, \"marker\": {\"color\": \"#636efa\", \"symbol\": \"line-ns-open\"}, \"name\": \"male\", \"offsetgroup\": \"male\", \"showlegend\": false, \"type\": \"box\", \"x\": [1, 0, 0, 0, 3, 0, 1, 4, 0, 0, 0, 0, 0, 3, 0, 0, 0, 1, 1, 0, 0, 0, 0, 1, 2, 4, 0, 0, 0, 0, 5, 0, 1, 3, 0, 1, 0, 2, 0, 0, 1, 0, 0, 0, 0, 0, 0, 0, 0, 1, 0, 0, 0, 0, 1, 1, 0, 0, 0, 0, 1, 0, 0, 0, 2, 0, 0, 0, 0, 0, 0, 0, 1, 0, 2, 0, 1, 0, 1, 0, 0, 0, 0, 0, 0, 0, 1, 0, 0, 0, 0, 1, 0, 0, 0, 0, 0, 0, 0, 0, 0, 0, 8, 0, 0, 0, 4, 0, 0, 0, 0, 4, 0, 0, 1, 3, 0, 0, 0, 4, 2, 0, 0, 1, 0, 0, 1, 0, 0, 0, 8, 0, 0, 0, 1, 0, 0, 0, 0, 0, 1, 1, 0, 0, 0, 0, 0, 1, 0, 0, 0, 0, 0, 0, 0, 1, 0, 0, 0, 0, 0, 2, 1, 1, 0, 0, 1, 0, 4, 1, 0, 0, 4, 1, 0, 0, 0, 0, 4, 0, 0, 0, 0, 0, 0, 0, 0, 0, 0, 0, 0, 0, 0, 2, 0, 0, 1, 1, 0, 1, 0, 0, 0, 8, 0, 0, 0, 2, 0, 1, 0, 0, 1, 0, 0, 0, 1, 0, 0, 0, 1, 1, 0, 0, 1, 1, 0, 1, 0, 1, 1, 0, 0, 0, 0, 0, 0, 0, 0, 5, 0, 1, 0, 2, 0, 0, 0, 0, 0, 1, 1, 0, 1, 0, 0, 0, 0, 0, 0, 0, 0, 0, 1, 0, 0, 0, 0, 0, 1, 1, 0, 0, 1, 0, 0, 0, 0, 1, 1, 0, 1, 0, 0, 0, 0, 0, 0, 0, 0, 0, 0, 0, 0, 0, 0, 0, 0, 1, 1, 0, 5, 0, 0, 1, 0, 0, 1, 1, 0, 0, 0, 0, 0, 0, 0, 0, 1, 0, 0, 0, 0, 0, 0, 0, 0, 0, 0, 0, 0, 0, 0, 0, 0, 2, 0, 1, 0, 0, 1, 1, 0, 0, 1, 1, 0, 0, 0, 0, 0, 0, 0, 0, 0, 0, 2, 0, 0, 0, 0, 0, 0, 0, 0, 0, 0, 0, 0, 1, 0, 0, 0, 0, 1, 1, 0, 0, 1, 0, 0, 0, 0, 1, 0, 0, 0, 0, 0, 1, 0, 1, 1, 1, 0, 0, 0, 0, 0, 0, 0, 0, 0, 0, 0, 1, 1, 0, 0, 1, 0, 0, 0, 0, 0, 2, 0, 0, 0, 2, 0, 0, 0, 1, 2, 0, 0, 0, 1, 0, 0, 0, 0, 0, 0, 0, 0, 5, 1, 1, 4, 0, 0, 1, 0, 0, 0, 0, 0, 1, 0, 0, 0, 1, 0, 0, 1, 0, 1, 0, 0, 0, 0, 0, 1, 0, 0, 1, 0, 1, 0, 0, 0, 0, 0, 0, 0, 0, 0, 1, 1, 0, 1, 1, 1, 0, 0, 0, 0, 1, 0, 0, 0, 0, 0, 0, 0, 0, 1, 0, 0, 0, 0, 0, 0, 0, 0, 1, 0, 0, 4, 1, 0, 0, 0, 0, 0, 0, 0, 0, 1, 0, 0, 0, 0, 0, 0, 0, 0, 0, 0, 1, 0, 3, 0, 0, 4, 0, 0, 0, 0, 1, 0, 0, 0, 0, 0, 0, 0, 0, 0, 0, 0, 0, 8, 0, 0, 4, 0, 0, 0, 2, 1, 0, 0, 0, 1, 0, 0, 0, 0, 0, 0, 0, 0, 0, 0, 0, 0], \"xaxis\": \"x2\", \"yaxis\": \"y2\"}, {\"alignmentgroup\": \"True\", \"bingroup\": \"x\", \"histfunc\": \"sum\", \"hovertemplate\": \"Sex=female<br>SibSp=%{x}<br>sum of Parch=%{y}<extra></extra>\", \"legendgroup\": \"female\", \"marker\": {\"color\": \"#EF553B\"}, \"name\": \"female\", \"offsetgroup\": \"female\", \"orientation\": \"v\", \"showlegend\": true, \"type\": \"histogram\", \"x\": [1, 0, 1, 0, 1, 1, 0, 0, 0, 1, 0, 0, 3, 1, 0, 1, 0, 2, 1, 1, 1, 1, 0, 0, 1, 1, 1, 0, 1, 0, 0, 4, 5, 0, 0, 0, 3, 3, 0, 0, 0, 1, 1, 1, 0, 4, 0, 1, 1, 1, 0, 0, 0, 1, 2, 1, 0, 0, 0, 1, 1, 0, 8, 0, 1, 0, 1, 0, 0, 0, 0, 0, 0, 0, 1, 0, 0, 3, 1, 4, 0, 0, 1, 1, 0, 0, 1, 0, 0, 0, 0, 0, 0, 0, 0, 0, 0, 0, 1, 0, 1, 0, 0, 1, 0, 1, 0, 0, 0, 0, 1, 0, 0, 2, 1, 0, 1, 0, 1, 0, 1, 0, 0, 1, 0, 2, 1, 0, 3, 0, 0, 1, 0, 0, 0, 0, 0, 1, 0, 0, 0, 3, 1, 0, 0, 0, 1, 0, 0, 1, 0, 0, 0, 1, 0, 3, 1, 0, 1, 0, 0, 1, 1, 0, 1, 1, 1, 2, 2, 1, 0, 0, 2, 1, 0, 2, 1, 0, 0, 0, 0, 3, 1, 1, 1, 0, 0, 0, 0, 0, 1, 0, 1, 0, 0, 0, 1, 0, 0, 0, 0, 0, 0, 4, 4, 1, 0, 1, 1, 1, 0, 0, 2, 0, 0, 1, 1, 1, 1, 0, 1, 0, 0, 2, 1, 0, 1, 1, 1, 1, 2, 0, 3, 0, 0, 0, 3, 2, 0, 0, 0, 0, 1, 1, 1, 0, 1, 0, 0, 0, 0, 1, 0, 0, 0, 0, 0, 0, 0, 3, 0, 1, 0, 1, 2, 0, 1, 1, 0, 1, 1, 0, 0, 1, 0, 0, 0, 1, 0, 8, 0, 0, 1, 1, 0, 1, 4, 0, 1, 0, 0, 1, 1, 0, 1, 1, 0, 1, 0, 1, 0, 0, 8, 0, 1, 1, 1, 0, 0, 0, 0, 0, 0, 1], \"xaxis\": \"x\", \"y\": [0, 0, 0, 2, 0, 1, 0, 0, 0, 0, 0, 0, 1, 5, 0, 0, 0, 0, 0, 0, 0, 2, 0, 0, 0, 0, 0, 0, 2, 0, 0, 2, 2, 0, 0, 0, 0, 2, 1, 0, 0, 0, 0, 0, 0, 2, 0, 1, 0, 0, 2, 2, 0, 0, 2, 0, 0, 0, 1, 4, 1, 0, 2, 2, 0, 0, 0, 0, 0, 0, 0, 1, 0, 0, 0, 0, 0, 1, 0, 2, 0, 2, 0, 0, 0, 2, 1, 2, 2, 0, 0, 0, 1, 0, 1, 0, 1, 0, 0, 0, 1, 0, 0, 0, 0, 2, 1, 0, 0, 0, 0, 0, 0, 2, 1, 0, 0, 2, 1, 0, 1, 0, 0, 1, 1, 0, 0, 0, 2, 0, 0, 0, 1, 0, 0, 0, 1, 0, 0, 0, 0, 1, 0, 0, 0, 2, 0, 0, 0, 0, 2, 0, 0, 0, 0, 1, 0, 0, 1, 2, 2, 1, 0, 0, 0, 0, 2, 2, 3, 1, 0, 1, 1, 0, 0, 1, 2, 0, 0, 1, 0, 1, 0, 0, 2, 0, 0, 0, 0, 2, 0, 0, 0, 0, 1, 0, 1, 2, 0, 2, 0, 2, 2, 2, 2, 0, 0, 0, 1, 0, 0, 4, 0, 0, 0, 0, 0, 1, 1, 2, 0, 2, 0, 1, 2, 0, 5, 0, 2, 0, 1, 0, 2, 0, 5, 0, 2, 1, 0, 1, 0, 0, 1, 0, 1, 0, 6, 0, 1, 1, 0, 0, 1, 0, 0, 0, 0, 0, 1, 0, 0, 0, 0, 3, 2, 0, 1, 2, 0, 2, 0, 0, 0, 3, 0, 1, 0, 0, 0, 2, 0, 0, 1, 1, 0, 0, 2, 0, 1, 1, 0, 0, 1, 0, 0, 1, 1, 0, 1, 1, 3, 0, 2, 0, 0, 1, 0, 0, 1, 1, 0, 5, 0, 2], \"yaxis\": \"y\"}, {\"alignmentgroup\": \"True\", \"boxpoints\": \"all\", \"customdata\": [[2, 1, 1, \"Cumings, Mrs. John Bradley (Florence Briggs Thayer)\", \"female\", 38.0, \"PC 17599\", 71.2833, \"C85\", \"C\"], [3, 1, 3, \"Heikkinen, Miss. Laina\", \"female\", 26.0, \"STON/O2. 3101282\", 7.925, null, \"S\"], [4, 1, 1, \"Futrelle, Mrs. Jacques Heath (Lily May Peel)\", \"female\", 35.0, \"113803\", 53.1, \"C123\", \"S\"], [9, 1, 3, \"Johnson, Mrs. Oscar W (Elisabeth Vilhelmina Berg)\", \"female\", 27.0, \"347742\", 11.1333, null, \"S\"], [10, 1, 2, \"Nasser, Mrs. Nicholas (Adele Achem)\", \"female\", 14.0, \"237736\", 30.0708, null, \"C\"], [11, 1, 3, \"Sandstrom, Miss. Marguerite Rut\", \"female\", 4.0, \"PP 9549\", 16.7, \"G6\", \"S\"], [12, 1, 1, \"Bonnell, Miss. Elizabeth\", \"female\", 58.0, \"113783\", 26.55, \"C103\", \"S\"], [15, 0, 3, \"Vestrom, Miss. Hulda Amanda Adolfina\", \"female\", 14.0, \"350406\", 7.8542, null, \"S\"], [16, 1, 2, \"Hewlett, Mrs. (Mary D Kingcome) \", \"female\", 55.0, \"248706\", 16.0, null, \"S\"], [19, 0, 3, \"Vander Planke, Mrs. Julius (Emelia Maria Vandemoortele)\", \"female\", 31.0, \"345763\", 18.0, null, \"S\"], [20, 1, 3, \"Masselmani, Mrs. Fatima\", \"female\", null, \"2649\", 7.225, null, \"C\"], [23, 1, 3, \"McGowan, Miss. Anna \\\"Annie\\\"\", \"female\", 15.0, \"330923\", 8.0292, null, \"Q\"], [25, 0, 3, \"Palsson, Miss. Torborg Danira\", \"female\", 8.0, \"349909\", 21.075, null, \"S\"], [26, 1, 3, \"Asplund, Mrs. Carl Oscar (Selma Augusta Emilia Johansson)\", \"female\", 38.0, \"347077\", 31.3875, null, \"S\"], [29, 1, 3, \"O'Dwyer, Miss. Ellen \\\"Nellie\\\"\", \"female\", null, \"330959\", 7.8792, null, \"Q\"], [32, 1, 1, \"Spencer, Mrs. William Augustus (Marie Eugenie)\", \"female\", null, \"PC 17569\", 146.5208, \"B78\", \"C\"], [33, 1, 3, \"Glynn, Miss. Mary Agatha\", \"female\", null, \"335677\", 7.75, null, \"Q\"], [39, 0, 3, \"Vander Planke, Miss. Augusta Maria\", \"female\", 18.0, \"345764\", 18.0, null, \"S\"], [40, 1, 3, \"Nicola-Yarred, Miss. Jamila\", \"female\", 14.0, \"2651\", 11.2417, null, \"C\"], [41, 0, 3, \"Ahlin, Mrs. Johan (Johanna Persdotter Larsson)\", \"female\", 40.0, \"7546\", 9.475, null, \"S\"], [42, 0, 2, \"Turpin, Mrs. William John Robert (Dorothy Ann Wonnacott)\", \"female\", 27.0, \"11668\", 21.0, null, \"S\"], [44, 1, 2, \"Laroche, Miss. Simonne Marie Anne Andree\", \"female\", 3.0, \"SC/Paris 2123\", 41.5792, null, \"C\"], [45, 1, 3, \"Devaney, Miss. Margaret Delia\", \"female\", 19.0, \"330958\", 7.8792, null, \"Q\"], [48, 1, 3, \"O'Driscoll, Miss. Bridget\", \"female\", null, \"14311\", 7.75, null, \"Q\"], [50, 0, 3, \"Arnold-Franchi, Mrs. Josef (Josefine Franchi)\", \"female\", 18.0, \"349237\", 17.8, null, \"S\"], [53, 1, 1, \"Harper, Mrs. Henry Sleeper (Myna Haxtun)\", \"female\", 49.0, \"PC 17572\", 76.7292, \"D33\", \"C\"], [54, 1, 2, \"Faunthorpe, Mrs. Lizzie (Elizabeth Anne Wilkinson)\", \"female\", 29.0, \"2926\", 26.0, null, \"S\"], [57, 1, 2, \"Rugg, Miss. Emily\", \"female\", 21.0, \"C.A. 31026\", 10.5, null, \"S\"], [59, 1, 2, \"West, Miss. Constance Mirium\", \"female\", 5.0, \"C.A. 34651\", 27.75, null, \"S\"], [62, 1, 1, \"Icard, Miss. Amelie\", \"female\", 38.0, \"113572\", 80.0, \"B28\", null], [67, 1, 2, \"Nye, Mrs. (Elizabeth Ramell)\", \"female\", 29.0, \"C.A. 29395\", 10.5, \"F33\", \"S\"], [69, 1, 3, \"Andersson, Miss. Erna Alexandra\", \"female\", 17.0, \"3101281\", 7.925, null, \"S\"], [72, 0, 3, \"Goodwin, Miss. Lillian Amy\", \"female\", 16.0, \"CA 2144\", 46.9, null, \"S\"], [80, 1, 3, \"Dowdell, Miss. Elizabeth\", \"female\", 30.0, \"364516\", 12.475, null, \"S\"], [83, 1, 3, \"McDermott, Miss. Brigdet Delia\", \"female\", null, \"330932\", 7.7875, null, \"Q\"], [85, 1, 2, \"Ilett, Miss. Bertha\", \"female\", 17.0, \"SO/C 14885\", 10.5, null, \"S\"], [86, 1, 3, \"Backstrom, Mrs. Karl Alfred (Maria Mathilda Gustafsson)\", \"female\", 33.0, \"3101278\", 15.85, null, \"S\"], [89, 1, 1, \"Fortune, Miss. Mabel Helen\", \"female\", 23.0, \"19950\", 263.0, \"C23 C25 C27\", \"S\"], [99, 1, 2, \"Doling, Mrs. John T (Ada Julia Bone)\", \"female\", 34.0, \"231919\", 23.0, null, \"S\"], [101, 0, 3, \"Petranec, Miss. Matilda\", \"female\", 28.0, \"349245\", 7.8958, null, \"S\"], [107, 1, 3, \"Salkjelsvik, Miss. Anna Kristine\", \"female\", 21.0, \"343120\", 7.65, null, \"S\"], [110, 1, 3, \"Moran, Miss. Bertha\", \"female\", null, \"371110\", 24.15, null, \"Q\"], [112, 0, 3, \"Zabour, Miss. Hileni\", \"female\", 14.5, \"2665\", 14.4542, null, \"C\"], [114, 0, 3, \"Jussila, Miss. Katriina\", \"female\", 20.0, \"4136\", 9.825, null, \"S\"], [115, 0, 3, \"Attalah, Miss. Malake\", \"female\", 17.0, \"2627\", 14.4583, null, \"C\"], [120, 0, 3, \"Andersson, Miss. Ellis Anna Maria\", \"female\", 2.0, \"347082\", 31.275, null, \"S\"], [124, 1, 2, \"Webber, Miss. Susan\", \"female\", 32.5, \"27267\", 13.0, \"E101\", \"S\"], [129, 1, 3, \"Peter, Miss. Anna\", \"female\", null, \"2668\", 22.3583, \"F E69\", \"C\"], [133, 0, 3, \"Robins, Mrs. Alexander A (Grace Charity Laury)\", \"female\", 47.0, \"A/5. 3337\", 14.5, null, \"S\"], [134, 1, 2, \"Weisz, Mrs. Leopold (Mathilde Francoise Pede)\", \"female\", 29.0, \"228414\", 26.0, null, \"S\"], [137, 1, 1, \"Newsom, Miss. Helen Monypeny\", \"female\", 19.0, \"11752\", 26.2833, \"D47\", \"S\"], [141, 0, 3, \"Boulos, Mrs. Joseph (Sultana)\", \"female\", null, \"2678\", 15.2458, null, \"C\"], [142, 1, 3, \"Nysten, Miss. Anna Sofia\", \"female\", 22.0, \"347081\", 7.75, null, \"S\"], [143, 1, 3, \"Hakkarainen, Mrs. Pekka Pietari (Elin Matilda Dolck)\", \"female\", 24.0, \"STON/O2. 3101279\", 15.85, null, \"S\"], [148, 0, 3, \"Ford, Miss. Robina Maggie \\\"Ruby\\\"\", \"female\", 9.0, \"W./C. 6608\", 34.375, null, \"S\"], [152, 1, 1, \"Pears, Mrs. Thomas (Edith Wearne)\", \"female\", 22.0, \"113776\", 66.6, \"C2\", \"S\"], [157, 1, 3, \"Gilnagh, Miss. Katherine \\\"Katie\\\"\", \"female\", 16.0, \"35851\", 7.7333, null, \"Q\"], [162, 1, 2, \"Watt, Mrs. James (Elizabeth \\\"Bessie\\\" Inglis Milne)\", \"female\", 40.0, \"C.A. 33595\", 15.75, null, \"S\"], [167, 1, 1, \"Chibnall, Mrs. (Edith Martha Bowerman)\", \"female\", null, \"113505\", 55.0, \"E33\", \"S\"], [168, 0, 3, \"Skoog, Mrs. William (Anna Bernhardina Karlsson)\", \"female\", 45.0, \"347088\", 27.9, null, \"S\"], [173, 1, 3, \"Johnson, Miss. Eleanor Ileen\", \"female\", 1.0, \"347742\", 11.1333, null, \"S\"], [178, 0, 1, \"Isham, Miss. Ann Elizabeth\", \"female\", 50.0, \"PC 17595\", 28.7125, \"C49\", \"C\"], [181, 0, 3, \"Sage, Miss. Constance Gladys\", \"female\", null, \"CA. 2343\", 69.55, null, \"S\"], [185, 1, 3, \"Kink-Heilmann, Miss. Luise Gretchen\", \"female\", 4.0, \"315153\", 22.025, null, \"S\"], [187, 1, 3, \"O'Brien, Mrs. Thomas (Johanna \\\"Hannah\\\" Godfrey)\", \"female\", null, \"370365\", 15.5, null, \"Q\"], [191, 1, 2, \"Pinsky, Mrs. (Rosa)\", \"female\", 32.0, \"234604\", 13.0, null, \"S\"], [193, 1, 3, \"Andersen-Jensen, Miss. Carla Christine Nielsine\", \"female\", 19.0, \"350046\", 7.8542, null, \"S\"], [195, 1, 1, \"Brown, Mrs. James Joseph (Margaret Tobin)\", \"female\", 44.0, \"PC 17610\", 27.7208, \"B4\", \"C\"], [196, 1, 1, \"Lurette, Miss. Elise\", \"female\", 58.0, \"PC 17569\", 146.5208, \"B80\", \"C\"], [199, 1, 3, \"Madigan, Miss. Margaret \\\"Maggie\\\"\", \"female\", null, \"370370\", 7.75, null, \"Q\"], [200, 0, 2, \"Yrois, Miss. Henriette (\\\"Mrs Harbeck\\\")\", \"female\", 24.0, \"248747\", 13.0, null, \"S\"], [206, 0, 3, \"Strom, Miss. Telma Matilda\", \"female\", 2.0, \"347054\", 10.4625, \"G6\", \"S\"], [209, 1, 3, \"Carr, Miss. Helen \\\"Ellen\\\"\", \"female\", 16.0, \"367231\", 7.75, null, \"Q\"], [212, 1, 2, \"Cameron, Miss. Clear Annie\", \"female\", 35.0, \"F.C.C. 13528\", 21.0, null, \"S\"], [216, 1, 1, \"Newell, Miss. Madeleine\", \"female\", 31.0, \"35273\", 113.275, \"D36\", \"C\"], [217, 1, 3, \"Honkanen, Miss. Eliina\", \"female\", 27.0, \"STON/O2. 3101283\", 7.925, null, \"S\"], [219, 1, 1, \"Bazzani, Miss. Albina\", \"female\", 32.0, \"11813\", 76.2917, \"D15\", \"C\"], [230, 0, 3, \"Lefebre, Miss. Mathilde\", \"female\", null, \"4133\", 25.4667, null, \"S\"], [231, 1, 1, \"Harris, Mrs. Henry Birkhardt (Irene Wallach)\", \"female\", 35.0, \"36973\", 83.475, \"C83\", \"S\"], [234, 1, 3, \"Asplund, Miss. Lillian Gertrud\", \"female\", 5.0, \"347077\", 31.3875, null, \"S\"], [236, 0, 3, \"Harknett, Miss. Alice Phoebe\", \"female\", null, \"W./C. 6609\", 7.55, null, \"S\"], [238, 1, 2, \"Collyer, Miss. Marjorie \\\"Lottie\\\"\", \"female\", 8.0, \"C.A. 31921\", 26.25, null, \"S\"], [241, 0, 3, \"Zabour, Miss. Thamine\", \"female\", null, \"2665\", 14.4542, null, \"C\"], [242, 1, 3, \"Murphy, Miss. Katherine \\\"Kate\\\"\", \"female\", null, \"367230\", 15.5, null, \"Q\"], [247, 0, 3, \"Lindahl, Miss. Agda Thorilda Viktoria\", \"female\", 25.0, \"347071\", 7.775, null, \"S\"], [248, 1, 2, \"Hamalainen, Mrs. William (Anna)\", \"female\", 24.0, \"250649\", 14.5, null, \"S\"], [252, 0, 3, \"Strom, Mrs. Wilhelm (Elna Matilda Persson)\", \"female\", 29.0, \"347054\", 10.4625, \"G6\", \"S\"], [255, 0, 3, \"Rosblom, Mrs. Viktor (Helena Wilhelmina)\", \"female\", 41.0, \"370129\", 20.2125, null, \"S\"], [256, 1, 3, \"Touma, Mrs. Darwis (Hanne Youssef Razi)\", \"female\", 29.0, \"2650\", 15.2458, null, \"C\"], [257, 1, 1, \"Thorne, Mrs. Gertrude Maybelle\", \"female\", null, \"PC 17585\", 79.2, null, \"C\"], [258, 1, 1, \"Cherry, Miss. Gladys\", \"female\", 30.0, \"110152\", 86.5, \"B77\", \"S\"], [259, 1, 1, \"Ward, Miss. Anna\", \"female\", 35.0, \"PC 17755\", 512.3292, null, \"C\"], [260, 1, 2, \"Parrish, Mrs. (Lutie Davis)\", \"female\", 50.0, \"230433\", 26.0, null, \"S\"], [265, 0, 3, \"Henry, Miss. Delia\", \"female\", null, \"382649\", 7.75, null, \"Q\"], [269, 1, 1, \"Graham, Mrs. William Thompson (Edith Junkins)\", \"female\", 58.0, \"PC 17582\", 153.4625, \"C125\", \"S\"], [270, 1, 1, \"Bissette, Miss. Amelia\", \"female\", 35.0, \"PC 17760\", 135.6333, \"C99\", \"S\"], [273, 1, 2, \"Mellinger, Mrs. (Elizabeth Anne Maidment)\", \"female\", 41.0, \"250644\", 19.5, null, \"S\"], [275, 1, 3, \"Healy, Miss. Hanora \\\"Nora\\\"\", \"female\", null, \"370375\", 7.75, null, \"Q\"], [276, 1, 1, \"Andrews, Miss. Kornelia Theodosia\", \"female\", 63.0, \"13502\", 77.9583, \"D7\", \"S\"], [277, 0, 3, \"Lindblom, Miss. Augusta Charlotta\", \"female\", 45.0, \"347073\", 7.75, null, \"S\"], [280, 1, 3, \"Abbott, Mrs. Stanton (Rosa Hunt)\", \"female\", 35.0, \"C.A. 2673\", 20.25, null, \"S\"], [290, 1, 3, \"Connolly, Miss. Kate\", \"female\", 22.0, \"370373\", 7.75, null, \"Q\"], [291, 1, 1, \"Barber, Miss. Ellen \\\"Nellie\\\"\", \"female\", 26.0, \"19877\", 78.85, null, \"S\"], [292, 1, 1, \"Bishop, Mrs. Dickinson H (Helen Walton)\", \"female\", 19.0, \"11967\", 91.0792, \"B49\", \"C\"], [294, 0, 3, \"Haas, Miss. Aloisia\", \"female\", 24.0, \"349236\", 8.85, null, \"S\"], [298, 0, 1, \"Allison, Miss. Helen Loraine\", \"female\", 2.0, \"113781\", 151.55, \"C22 C26\", \"S\"], [300, 1, 1, \"Baxter, Mrs. James (Helene DeLaudeniere Chaput)\", \"female\", 50.0, \"PC 17558\", 247.5208, \"B58 B60\", \"C\"], [301, 1, 3, \"Kelly, Miss. Anna Katherine \\\"Annie Kate\\\"\", \"female\", null, \"9234\", 7.75, null, \"Q\"], [304, 1, 2, \"Keane, Miss. Nora A\", \"female\", null, \"226593\", 12.35, \"E101\", \"Q\"], [307, 1, 1, \"Fleming, Miss. Margaret\", \"female\", null, \"17421\", 110.8833, null, \"C\"], [308, 1, 1, \"Penasco y Castellana, Mrs. Victor de Satode (Maria Josefa Perez de Soto y Vallejo)\", \"female\", 17.0, \"PC 17758\", 108.9, \"C65\", \"C\"], [310, 1, 1, \"Francatelli, Miss. Laura Mabel\", \"female\", 30.0, \"PC 17485\", 56.9292, \"E36\", \"C\"], [311, 1, 1, \"Hays, Miss. Margaret Bechstein\", \"female\", 24.0, \"11767\", 83.1583, \"C54\", \"C\"], [312, 1, 1, \"Ryerson, Miss. Emily Borie\", \"female\", 18.0, \"PC 17608\", 262.375, \"B57 B59 B63 B66\", \"C\"], [313, 0, 2, \"Lahtinen, Mrs. William (Anna Sylfven)\", \"female\", 26.0, \"250651\", 26.0, null, \"S\"], [316, 1, 3, \"Nilsson, Miss. Helmina Josefina\", \"female\", 26.0, \"347470\", 7.8542, null, \"S\"], [317, 1, 2, \"Kantor, Mrs. Sinai (Miriam Sternin)\", \"female\", 24.0, \"244367\", 26.0, null, \"S\"], [319, 1, 1, \"Wick, Miss. Mary Natalie\", \"female\", 31.0, \"36928\", 164.8667, \"C7\", \"S\"], [320, 1, 1, \"Spedden, Mrs. Frederic Oakley (Margaretta Corning Stone)\", \"female\", 40.0, \"16966\", 134.5, \"E34\", \"C\"], [323, 1, 2, \"Slayter, Miss. Hilda Mary\", \"female\", 30.0, \"234818\", 12.35, null, \"Q\"], [324, 1, 2, \"Caldwell, Mrs. Albert Francis (Sylvia Mae Harbaugh)\", \"female\", 22.0, \"248738\", 29.0, null, \"S\"], [326, 1, 1, \"Young, Miss. Marie Grice\", \"female\", 36.0, \"PC 17760\", 135.6333, \"C32\", \"C\"], [328, 1, 2, \"Ball, Mrs. (Ada E Hall)\", \"female\", 36.0, \"28551\", 13.0, \"D\", \"S\"], [329, 1, 3, \"Goldsmith, Mrs. Frank John (Emily Alice Brown)\", \"female\", 31.0, \"363291\", 20.525, null, \"S\"], [330, 1, 1, \"Hippach, Miss. Jean Gertrude\", \"female\", 16.0, \"111361\", 57.9792, \"B18\", \"C\"], [331, 1, 3, \"McCoy, Miss. Agnes\", \"female\", null, \"367226\", 23.25, null, \"Q\"], [335, 1, 1, \"Frauenthal, Mrs. Henry William (Clara Heinsheimer)\", \"female\", null, \"PC 17611\", 133.65, null, \"S\"], [338, 1, 1, \"Burns, Miss. Elizabeth Margaret\", \"female\", 41.0, \"16966\", 134.5, \"E40\", \"C\"], [342, 1, 1, \"Fortune, Miss. Alice Elizabeth\", \"female\", 24.0, \"19950\", 263.0, \"C23 C25 C27\", \"S\"], [346, 1, 2, \"Brown, Miss. Amelia \\\"Mildred\\\"\", \"female\", 24.0, \"248733\", 13.0, \"F33\", \"S\"], [347, 1, 2, \"Smith, Miss. Marion Elsie\", \"female\", 40.0, \"31418\", 13.0, null, \"S\"], [348, 1, 3, \"Davison, Mrs. Thomas Henry (Mary E Finck)\", \"female\", null, \"386525\", 16.1, null, \"S\"], [357, 1, 1, \"Bowerman, Miss. Elsie Edith\", \"female\", 22.0, \"113505\", 55.0, \"E33\", \"S\"], [358, 0, 2, \"Funk, Miss. Annie Clemmer\", \"female\", 38.0, \"237671\", 13.0, null, \"S\"], [359, 1, 3, \"McGovern, Miss. Mary\", \"female\", null, \"330931\", 7.8792, null, \"Q\"], [360, 1, 3, \"Mockler, Miss. Helen Mary \\\"Ellie\\\"\", \"female\", null, \"330980\", 7.8792, null, \"Q\"], [363, 0, 3, \"Barbara, Mrs. (Catherine David)\", \"female\", 45.0, \"2691\", 14.4542, null, \"C\"], [367, 1, 1, \"Warren, Mrs. Frank Manley (Anna Sophia Atkinson)\", \"female\", 60.0, \"110813\", 75.25, \"D37\", \"C\"], [368, 1, 3, \"Moussa, Mrs. (Mantoura Boulos)\", \"female\", null, \"2626\", 7.2292, null, \"C\"], [369, 1, 3, \"Jermyn, Miss. Annie\", \"female\", null, \"14313\", 7.75, null, \"Q\"], [370, 1, 1, \"Aubart, Mme. Leontine Pauline\", \"female\", 24.0, \"PC 17477\", 69.3, \"B35\", \"C\"], [375, 0, 3, \"Palsson, Miss. Stina Viola\", \"female\", 3.0, \"349909\", 21.075, null, \"S\"], [376, 1, 1, \"Meyer, Mrs. Edgar Joseph (Leila Saks)\", \"female\", null, \"PC 17604\", 82.1708, null, \"C\"], [377, 1, 3, \"Landergren, Miss. Aurora Adelia\", \"female\", 22.0, \"C 7077\", 7.25, null, \"S\"], [381, 1, 1, \"Bidois, Miss. Rosalie\", \"female\", 42.0, \"PC 17757\", 227.525, null, \"C\"], [382, 1, 3, \"Nakid, Miss. Maria (\\\"Mary\\\")\", \"female\", 1.0, \"2653\", 15.7417, null, \"C\"], [384, 1, 1, \"Holverson, Mrs. Alexander Oskar (Mary Aline Towner)\", \"female\", 35.0, \"113789\", 52.0, null, \"S\"], [388, 1, 2, \"Buss, Miss. Kate\", \"female\", 36.0, \"27849\", 13.0, null, \"S\"], [390, 1, 2, \"Lehmann, Miss. Bertha\", \"female\", 17.0, \"SC 1748\", 12.0, null, \"C\"], [394, 1, 1, \"Newell, Miss. Marjorie\", \"female\", 23.0, \"35273\", 113.275, \"D36\", \"C\"], [395, 1, 3, \"Sandstrom, Mrs. Hjalmar (Agnes Charlotta Bengtsson)\", \"female\", 24.0, \"PP 9549\", 16.7, \"G6\", \"S\"], [397, 0, 3, \"Olsson, Miss. Elina\", \"female\", 31.0, \"350407\", 7.8542, null, \"S\"], [400, 1, 2, \"Trout, Mrs. William H (Jessie L)\", \"female\", 28.0, \"240929\", 12.65, null, \"S\"], [403, 0, 3, \"Jussila, Miss. Mari Aina\", \"female\", 21.0, \"4137\", 9.825, null, \"S\"], [405, 0, 3, \"Oreskovic, Miss. Marija\", \"female\", 20.0, \"315096\", 8.6625, null, \"S\"], [410, 0, 3, \"Lefebre, Miss. Ida\", \"female\", null, \"4133\", 25.4667, null, \"S\"], [413, 1, 1, \"Minahan, Miss. Daisy E\", \"female\", 33.0, \"19928\", 90.0, \"C78\", \"Q\"], [416, 0, 3, \"Meek, Mrs. Thomas (Annie Louise Rowley)\", \"female\", null, \"343095\", 8.05, null, \"S\"], [417, 1, 2, \"Drew, Mrs. James Vivian (Lulu Thorne Christian)\", \"female\", 34.0, \"28220\", 32.5, null, \"S\"], [418, 1, 2, \"Silven, Miss. Lyyli Karoliina\", \"female\", 18.0, \"250652\", 13.0, null, \"S\"], [420, 0, 3, \"Van Impe, Miss. Catharina\", \"female\", 10.0, \"345773\", 24.15, null, \"S\"], [424, 0, 3, \"Danbom, Mrs. Ernst Gilbert (Anna Sigrid Maria Brogren)\", \"female\", 28.0, \"347080\", 14.4, null, \"S\"], [427, 1, 2, \"Clarke, Mrs. Charles V (Ada Maria Winfield)\", \"female\", 28.0, \"2003\", 26.0, null, \"S\"], [428, 1, 2, \"Phillips, Miss. Kate Florence (\\\"Mrs Kate Louise Phillips Marshall\\\")\", \"female\", 19.0, \"250655\", 26.0, null, \"S\"], [432, 1, 3, \"Thorneycroft, Mrs. Percival (Florence Kate White)\", \"female\", null, \"376564\", 16.1, null, \"S\"], [433, 1, 2, \"Louch, Mrs. Charles Alexander (Alice Adelaide Slow)\", \"female\", 42.0, \"SC/AH 3085\", 26.0, null, \"S\"], [436, 1, 1, \"Carter, Miss. Lucile Polk\", \"female\", 14.0, \"113760\", 120.0, \"B96 B98\", \"S\"], [437, 0, 3, \"Ford, Miss. Doolina Margaret \\\"Daisy\\\"\", \"female\", 21.0, \"W./C. 6608\", 34.375, null, \"S\"], [438, 1, 2, \"Richards, Mrs. Sidney (Emily Hocking)\", \"female\", 24.0, \"29106\", 18.75, null, \"S\"], [441, 1, 2, \"Hart, Mrs. Benjamin (Esther Ada Bloomfield)\", \"female\", 45.0, \"F.C.C. 13529\", 26.25, null, \"S\"], [444, 1, 2, \"Reynaldo, Ms. Encarnacion\", \"female\", 28.0, \"230434\", 13.0, null, \"S\"], [447, 1, 2, \"Mellinger, Miss. Madeleine Violet\", \"female\", 13.0, \"250644\", 19.5, null, \"S\"], [449, 1, 3, \"Baclini, Miss. Marie Catherine\", \"female\", 5.0, \"2666\", 19.2583, null, \"C\"], [458, 1, 1, \"Kenyon, Mrs. Frederick R (Marion)\", \"female\", null, \"17464\", 51.8625, \"D21\", \"S\"], [459, 1, 2, \"Toomey, Miss. Ellen\", \"female\", 50.0, \"F.C.C. 13531\", 10.5, null, \"S\"], [470, 1, 3, \"Baclini, Miss. Helene Barbara\", \"female\", 0.75, \"2666\", 19.2583, null, \"C\"], [473, 1, 2, \"West, Mrs. Edwy Arthur (Ada Mary Worth)\", \"female\", 33.0, \"C.A. 34651\", 27.75, null, \"S\"], [474, 1, 2, \"Jerwan, Mrs. Amin S (Marie Marthe Thuillard)\", \"female\", 23.0, \"SC/AH Basle 541\", 13.7917, \"D\", \"C\"], [475, 0, 3, \"Strandberg, Miss. Ida Sofia\", \"female\", 22.0, \"7553\", 9.8375, null, \"S\"], [480, 1, 3, \"Hirvonen, Miss. Hildur E\", \"female\", 2.0, \"3101298\", 12.2875, null, \"S\"], [484, 1, 3, \"Turkula, Mrs. (Hedwig)\", \"female\", 63.0, \"4134\", 9.5875, null, \"S\"], [486, 0, 3, \"Lefebre, Miss. Jeannie\", \"female\", null, \"4133\", 25.4667, null, \"S\"], [487, 1, 1, \"Hoyt, Mrs. Frederick Maxfield (Jane Anne Forby)\", \"female\", 35.0, \"19943\", 90.0, \"C93\", \"S\"], [497, 1, 1, \"Eustis, Miss. Elizabeth Mussey\", \"female\", 54.0, \"36947\", 78.2667, \"D20\", \"C\"], [499, 0, 1, \"Allison, Mrs. Hudson J C (Bessie Waldo Daniels)\", \"female\", 25.0, \"113781\", 151.55, \"C22 C26\", \"S\"], [502, 0, 3, \"Canavan, Miss. Mary\", \"female\", 21.0, \"364846\", 7.75, null, \"Q\"], [503, 0, 3, \"O'Sullivan, Miss. Bridget Mary\", \"female\", null, \"330909\", 7.6292, null, \"Q\"], [504, 0, 3, \"Laitinen, Miss. Kristina Sofia\", \"female\", 37.0, \"4135\", 9.5875, null, \"S\"], [505, 1, 1, \"Maioni, Miss. Roberta\", \"female\", 16.0, \"110152\", 86.5, \"B79\", \"S\"], [507, 1, 2, \"Quick, Mrs. Frederick Charles (Jane Richards)\", \"female\", 33.0, \"26360\", 26.0, null, \"S\"], [514, 1, 1, \"Rothschild, Mrs. Martin (Elizabeth L. Barrett)\", \"female\", 54.0, \"PC 17603\", 59.4, null, \"C\"], [517, 1, 2, \"Lemore, Mrs. (Amelia Milley)\", \"female\", 34.0, \"C.A. 34260\", 10.5, \"F33\", \"S\"], [519, 1, 2, \"Angle, Mrs. William A (Florence \\\"Mary\\\" Agnes Hughes)\", \"female\", 36.0, \"226875\", 26.0, null, \"S\"], [521, 1, 1, \"Perreault, Miss. Anne\", \"female\", 30.0, \"12749\", 93.5, \"B73\", \"S\"], [524, 1, 1, \"Hippach, Mrs. Louis Albert (Ida Sophia Fischer)\", \"female\", 44.0, \"111361\", 57.9792, \"B18\", \"C\"], [527, 1, 2, \"Ridsdale, Miss. Lucy\", \"female\", 50.0, \"W./C. 14258\", 10.5, null, \"S\"], [531, 1, 2, \"Quick, Miss. Phyllis May\", \"female\", 2.0, \"26360\", 26.0, null, \"S\"], [534, 1, 3, \"Peter, Mrs. Catherine (Catherine Rizk)\", \"female\", null, \"2668\", 22.3583, null, \"C\"], [535, 0, 3, \"Cacic, Miss. Marija\", \"female\", 30.0, \"315084\", 8.6625, null, \"S\"], [536, 1, 2, \"Hart, Miss. Eva Miriam\", \"female\", 7.0, \"F.C.C. 13529\", 26.25, null, \"S\"], [538, 1, 1, \"LeRoy, Miss. Bertha\", \"female\", 30.0, \"PC 17761\", 106.425, null, \"C\"], [540, 1, 1, \"Frolicher, Miss. Hedwig Margaritha\", \"female\", 22.0, \"13568\", 49.5, \"B39\", \"C\"], [541, 1, 1, \"Crosby, Miss. Harriet R\", \"female\", 36.0, \"WE/P 5735\", 71.0, \"B22\", \"S\"], [542, 0, 3, \"Andersson, Miss. Ingeborg Constanzia\", \"female\", 9.0, \"347082\", 31.275, null, \"S\"], [543, 0, 3, \"Andersson, Miss. Sigrid Elisabeth\", \"female\", 11.0, \"347082\", 31.275, null, \"S\"], [547, 1, 2, \"Beane, Mrs. Edward (Ethel Clarke)\", \"female\", 19.0, \"2908\", 26.0, null, \"S\"], [555, 1, 3, \"Ohman, Miss. Velin\", \"female\", 22.0, \"347085\", 7.775, null, \"S\"], [557, 1, 1, \"Duff Gordon, Lady. (Lucille Christiana Sutherland) (\\\"Mrs Morgan\\\")\", \"female\", 48.0, \"11755\", 39.6, \"A16\", \"C\"], [559, 1, 1, \"Taussig, Mrs. Emil (Tillie Mandelbaum)\", \"female\", 39.0, \"110413\", 79.65, \"E67\", \"S\"], [560, 1, 3, \"de Messemaeker, Mrs. Guillaume Joseph (Emma)\", \"female\", 36.0, \"345572\", 17.4, null, \"S\"], [565, 0, 3, \"Meanwell, Miss. (Marion Ogden)\", \"female\", null, \"SOTON/O.Q. 392087\", 8.05, null, \"S\"], [568, 0, 3, \"Palsson, Mrs. Nils (Alma Cornelia Berglund)\", \"female\", 29.0, \"349909\", 21.075, null, \"S\"], [572, 1, 1, \"Appleton, Mrs. Edward Dale (Charlotte Lamson)\", \"female\", 53.0, \"11769\", 51.4792, \"C101\", \"S\"], [574, 1, 3, \"Kelly, Miss. Mary\", \"female\", null, \"14312\", 7.75, null, \"Q\"], [577, 1, 2, \"Garside, Miss. Ethel\", \"female\", 34.0, \"243880\", 13.0, null, \"S\"], [578, 1, 1, \"Silvey, Mrs. William Baird (Alice Munger)\", \"female\", 39.0, \"13507\", 55.9, \"E44\", \"S\"], [579, 0, 3, \"Caram, Mrs. Joseph (Maria Elias)\", \"female\", null, \"2689\", 14.4583, null, \"C\"], [581, 1, 2, \"Christy, Miss. Julie Rachel\", \"female\", 25.0, \"237789\", 30.0, null, \"S\"], [582, 1, 1, \"Thayer, Mrs. John Borland (Marian Longstreth Morris)\", \"female\", 39.0, \"17421\", 110.8833, \"C68\", \"C\"], [586, 1, 1, \"Taussig, Miss. Ruth\", \"female\", 18.0, \"110413\", 79.65, \"E68\", \"S\"], [592, 1, 1, \"Stephenson, Mrs. Walter Bertram (Martha Eustis)\", \"female\", 52.0, \"36947\", 78.2667, \"D20\", \"C\"], [594, 0, 3, \"Bourke, Miss. Mary\", \"female\", null, \"364848\", 7.75, null, \"Q\"], [597, 1, 2, \"Leitch, Miss. Jessie Wills\", \"female\", null, \"248727\", 33.0, null, \"S\"], [601, 1, 2, \"Jacobsohn, Mrs. Sidney Samuel (Amy Frances Christy)\", \"female\", 24.0, \"243847\", 27.0, null, \"S\"], [609, 1, 2, \"Laroche, Mrs. Joseph (Juliette Marie Louise Lafargue)\", \"female\", 22.0, \"SC/Paris 2123\", 41.5792, null, \"C\"], [610, 1, 1, \"Shutes, Miss. Elizabeth W\", \"female\", 40.0, \"PC 17582\", 153.4625, \"C125\", \"S\"], [611, 0, 3, \"Andersson, Mrs. Anders Johan (Alfrida Konstantia Brogren)\", \"female\", 39.0, \"347082\", 31.275, null, \"S\"], [613, 1, 3, \"Murphy, Miss. Margaret Jane\", \"female\", null, \"367230\", 15.5, null, \"Q\"], [616, 1, 2, \"Herman, Miss. Alice\", \"female\", 24.0, \"220845\", 65.0, null, \"S\"], [618, 0, 3, \"Lobb, Mrs. William Arthur (Cordelia K Stanlick)\", \"female\", 26.0, \"A/5. 3336\", 16.1, null, \"S\"], [619, 1, 2, \"Becker, Miss. Marion Louise\", \"female\", 4.0, \"230136\", 39.0, \"F4\", \"S\"], [628, 1, 1, \"Longley, Miss. Gretchen Fiske\", \"female\", 21.0, \"13502\", 77.9583, \"D9\", \"S\"], [635, 0, 3, \"Skoog, Miss. Mabel\", \"female\", 9.0, \"347088\", 27.9, null, \"S\"], [636, 1, 2, \"Davis, Miss. Mary\", \"female\", 28.0, \"237668\", 13.0, null, \"S\"], [639, 0, 3, \"Panula, Mrs. Juha (Maria Emilia Ojala)\", \"female\", 41.0, \"3101295\", 39.6875, null, \"S\"], [642, 1, 1, \"Sagesser, Mlle. Emma\", \"female\", 24.0, \"PC 17477\", 69.3, \"B35\", \"C\"], [643, 0, 3, \"Skoog, Miss. Margit Elizabeth\", \"female\", 2.0, \"347088\", 27.9, null, \"S\"], [645, 1, 3, \"Baclini, Miss. Eugenie\", \"female\", 0.75, \"2666\", 19.2583, null, \"C\"], [650, 1, 3, \"Stanley, Miss. Amy Zillah Elsie\", \"female\", 23.0, \"CA. 2314\", 7.55, null, \"S\"], [652, 1, 2, \"Doling, Miss. Elsie\", \"female\", 18.0, \"231919\", 23.0, null, \"S\"], [654, 1, 3, \"O'Leary, Miss. Hanora \\\"Norah\\\"\", \"female\", null, \"330919\", 7.8292, null, \"Q\"], [655, 0, 3, \"Hegarty, Miss. Hanora \\\"Nora\\\"\", \"female\", 18.0, \"365226\", 6.75, null, \"Q\"], [658, 0, 3, \"Bourke, Mrs. John (Catherine)\", \"female\", 32.0, \"364849\", 15.5, null, \"Q\"], [670, 1, 1, \"Taylor, Mrs. Elmer Zebley (Juliet Cummins Wright)\", \"female\", null, \"19996\", 52.0, \"C126\", \"S\"], [671, 1, 2, \"Brown, Mrs. Thomas William Solomon (Elizabeth Catherine Ford)\", \"female\", 40.0, \"29750\", 39.0, null, \"S\"], [678, 1, 3, \"Turja, Miss. Anna Sofia\", \"female\", 18.0, \"4138\", 9.8417, null, \"S\"], [679, 0, 3, \"Goodwin, Mrs. Frederick (Augusta Tyler)\", \"female\", 43.0, \"CA 2144\", 46.9, null, \"S\"], [681, 0, 3, \"Peters, Miss. Katie\", \"female\", null, \"330935\", 8.1375, null, \"Q\"], [690, 1, 1, \"Madill, Miss. Georgette Alexandra\", \"female\", 15.0, \"24160\", 211.3375, \"B5\", \"S\"], [692, 1, 3, \"Karun, Miss. Manca\", \"female\", 4.0, \"349256\", 13.4167, null, \"C\"], [698, 1, 3, \"Mullens, Miss. Katherine \\\"Katie\\\"\", \"female\", null, \"35852\", 7.7333, null, \"Q\"], [701, 1, 1, \"Astor, Mrs. John Jacob (Madeleine Talmadge Force)\", \"female\", 18.0, \"PC 17757\", 227.525, \"C62 C64\", \"C\"], [703, 0, 3, \"Barbara, Miss. Saiide\", \"female\", 18.0, \"2691\", 14.4542, null, \"C\"], [707, 1, 2, \"Kelly, Mrs. Florence \\\"Fannie\\\"\", \"female\", 45.0, \"223596\", 13.5, null, \"S\"], [709, 1, 1, \"Cleaver, Miss. Alice\", \"female\", 22.0, \"113781\", 151.55, null, \"S\"], [711, 1, 1, \"Mayne, Mlle. Berthe Antonine (\\\"Mrs de Villiers\\\")\", \"female\", 24.0, \"PC 17482\", 49.5042, \"C90\", \"C\"], [717, 1, 1, \"Endres, Miss. Caroline Louise\", \"female\", 38.0, \"PC 17757\", 227.525, \"C45\", \"C\"], [718, 1, 2, \"Troutt, Miss. Edwina Celia \\\"Winnie\\\"\", \"female\", 27.0, \"34218\", 10.5, \"E101\", \"S\"], [721, 1, 2, \"Harper, Miss. Annie Jessie \\\"Nina\\\"\", \"female\", 6.0, \"248727\", 33.0, null, \"S\"], [727, 1, 2, \"Renouf, Mrs. Peter Henry (Lillian Jefferys)\", \"female\", 30.0, \"31027\", 21.0, null, \"S\"], [728, 1, 3, \"Mannion, Miss. Margareth\", \"female\", null, \"36866\", 7.7375, null, \"Q\"], [730, 0, 3, \"Ilmakangas, Miss. Pieta Sofia\", \"female\", 25.0, \"STON/O2. 3101271\", 7.925, null, \"S\"], [731, 1, 1, \"Allen, Miss. Elisabeth Walton\", \"female\", 29.0, \"24160\", 211.3375, \"B5\", \"S\"], [737, 0, 3, \"Ford, Mrs. Edward (Margaret Ann Watson)\", \"female\", 48.0, \"W./C. 6608\", 34.375, null, \"S\"], [743, 1, 1, \"Ryerson, Miss. Susan Parker \\\"Suzette\\\"\", \"female\", 21.0, \"PC 17608\", 262.375, \"B57 B59 B63 B66\", \"C\"], [748, 1, 2, \"Sinkkonen, Miss. Anna\", \"female\", 30.0, \"250648\", 13.0, null, \"S\"], [751, 1, 2, \"Wells, Miss. Joan\", \"female\", 4.0, \"29103\", 23.0, null, \"S\"], [755, 1, 2, \"Herman, Mrs. Samuel (Jane Laver)\", \"female\", 48.0, \"220845\", 65.0, null, \"S\"], [760, 1, 1, \"Rothes, the Countess. of (Lucy Noel Martha Dyer-Edwards)\", \"female\", 33.0, \"110152\", 86.5, \"B77\", \"S\"], [764, 1, 1, \"Carter, Mrs. William Ernest (Lucile Polk)\", \"female\", 36.0, \"113760\", 120.0, \"B96 B98\", \"S\"], [766, 1, 1, \"Hogeboom, Mrs. John C (Anna Andrews)\", \"female\", 51.0, \"13502\", 77.9583, \"D11\", \"S\"], [768, 0, 3, \"Mangan, Miss. Mary\", \"female\", 30.5, \"364850\", 7.75, null, \"Q\"], [773, 0, 2, \"Mack, Mrs. (Mary)\", \"female\", 57.0, \"S.O./P.P. 3\", 10.5, \"E77\", \"S\"], [775, 1, 2, \"Hocking, Mrs. Elizabeth (Eliza Needs)\", \"female\", 54.0, \"29105\", 23.0, null, \"S\"], [778, 1, 3, \"Emanuel, Miss. Virginia Ethel\", \"female\", 5.0, \"364516\", 12.475, null, \"S\"], [780, 1, 1, \"Robert, Mrs. Edward Scott (Elisabeth Walton McMillan)\", \"female\", 43.0, \"24160\", 211.3375, \"B3\", \"S\"], [781, 1, 3, \"Ayoub, Miss. Banoura\", \"female\", 13.0, \"2687\", 7.2292, null, \"C\"], [782, 1, 1, \"Dick, Mrs. Albert Adrian (Vera Gillespie)\", \"female\", 17.0, \"17474\", 57.0, \"B20\", \"S\"], [787, 1, 3, \"Sjoblom, Miss. Anna Sofia\", \"female\", 18.0, \"3101265\", 7.4958, null, \"S\"], [793, 0, 3, \"Sage, Miss. Stella Anna\", \"female\", null, \"CA. 2343\", 69.55, null, \"S\"], [797, 1, 1, \"Leader, Dr. Alice (Farnham)\", \"female\", 49.0, \"17465\", 25.9292, \"D17\", \"S\"], [798, 1, 3, \"Osman, Mrs. Mara\", \"female\", 31.0, \"349244\", 8.6833, null, \"S\"], [800, 0, 3, \"Van Impe, Mrs. Jean Baptiste (Rosalie Paula Govaert)\", \"female\", 30.0, \"345773\", 24.15, null, \"S\"], [802, 1, 2, \"Collyer, Mrs. Harvey (Charlotte Annie Tate)\", \"female\", 31.0, \"C.A. 31921\", 26.25, null, \"S\"], [808, 0, 3, \"Pettersson, Miss. Ellen Natalia\", \"female\", 18.0, \"347087\", 7.775, null, \"S\"], [810, 1, 1, \"Chambers, Mrs. Norman Campbell (Bertha Griggs)\", \"female\", 33.0, \"113806\", 53.1, \"E8\", \"S\"], [814, 0, 3, \"Andersson, Miss. Ebba Iris Alfrida\", \"female\", 6.0, \"347082\", 31.275, null, \"S\"], [817, 0, 3, \"Heininen, Miss. Wendla Maria\", \"female\", 23.0, \"STON/O2. 3101290\", 7.925, null, \"S\"], [821, 1, 1, \"Hays, Mrs. Charles Melville (Clara Jennings Gregg)\", \"female\", 52.0, \"12749\", 93.5, \"B69\", \"S\"], [824, 1, 3, \"Moor, Mrs. (Beila)\", \"female\", 27.0, \"392096\", 12.475, \"E121\", \"S\"], [830, 1, 1, \"Stone, Mrs. George Nelson (Martha Evelyn)\", \"female\", 62.0, \"113572\", 80.0, \"B28\", null], [831, 1, 3, \"Yasbeck, Mrs. Antoni (Selini Alexander)\", \"female\", 15.0, \"2659\", 14.4542, null, \"C\"], [836, 1, 1, \"Compton, Miss. Sara Rebecca\", \"female\", 39.0, \"PC 17756\", 83.1583, \"E49\", \"C\"], [843, 1, 1, \"Serepeca, Miss. Augusta\", \"female\", 30.0, \"113798\", 31.0, null, \"C\"], [850, 1, 1, \"Goldenberg, Mrs. Samuel L (Edwiga Grabowska)\", \"female\", null, \"17453\", 89.1042, \"C92\", \"C\"], [853, 0, 3, \"Boulos, Miss. Nourelain\", \"female\", 9.0, \"2678\", 15.2458, null, \"C\"], [854, 1, 1, \"Lines, Miss. Mary Conover\", \"female\", 16.0, \"PC 17592\", 39.4, \"D28\", \"S\"], [855, 0, 2, \"Carter, Mrs. Ernest Courtenay (Lilian Hughes)\", \"female\", 44.0, \"244252\", 26.0, null, \"S\"], [856, 1, 3, \"Aks, Mrs. Sam (Leah Rosen)\", \"female\", 18.0, \"392091\", 9.35, null, \"S\"], [857, 1, 1, \"Wick, Mrs. George Dennick (Mary Hitchcock)\", \"female\", 45.0, \"36928\", 164.8667, null, \"S\"], [859, 1, 3, \"Baclini, Mrs. Solomon (Latifa Qurban)\", \"female\", 24.0, \"2666\", 19.2583, null, \"C\"], [863, 1, 1, \"Swift, Mrs. Frederick Joel (Margaret Welles Barron)\", \"female\", 48.0, \"17466\", 25.9292, \"D17\", \"S\"], [864, 0, 3, \"Sage, Miss. Dorothy Edith \\\"Dolly\\\"\", \"female\", null, \"CA. 2343\", 69.55, null, \"S\"], [866, 1, 2, \"Bystrom, Mrs. (Karolina)\", \"female\", 42.0, \"236852\", 13.0, null, \"S\"], [867, 1, 2, \"Duran y More, Miss. Asuncion\", \"female\", 27.0, \"SC/PARIS 2149\", 13.8583, null, \"C\"], [872, 1, 1, \"Beckwith, Mrs. Richard Leonard (Sallie Monypeny)\", \"female\", 47.0, \"11751\", 52.5542, \"D35\", \"S\"], [875, 1, 2, \"Abelson, Mrs. Samuel (Hannah Wizosky)\", \"female\", 28.0, \"P/PP 3381\", 24.0, null, \"C\"], [876, 1, 3, \"Najib, Miss. Adele Kiamie \\\"Jane\\\"\", \"female\", 15.0, \"2667\", 7.225, null, \"C\"], [880, 1, 1, \"Potter, Mrs. Thomas Jr (Lily Alexenia Wilson)\", \"female\", 56.0, \"11767\", 83.1583, \"C50\", \"C\"], [881, 1, 2, \"Shelley, Mrs. William (Imanita Parrish Hall)\", \"female\", 25.0, \"230433\", 26.0, null, \"S\"], [883, 0, 3, \"Dahlberg, Miss. Gerda Ulrika\", \"female\", 22.0, \"7552\", 10.5167, null, \"S\"], [886, 0, 3, \"Rice, Mrs. William (Margaret Norton)\", \"female\", 39.0, \"382652\", 29.125, null, \"Q\"], [888, 1, 1, \"Graham, Miss. Margaret Edith\", \"female\", 19.0, \"112053\", 30.0, \"B42\", \"S\"], [889, 0, 3, \"Johnston, Miss. Catherine Helen \\\"Carrie\\\"\", \"female\", null, \"W./C. 6607\", 23.45, null, \"S\"]], \"fillcolor\": \"rgba(255,255,255,0)\", \"hoveron\": \"points\", \"hovertemplate\": \"Sex=%{customdata[4]}<br>SibSp=%{x}<br>PassengerId=%{customdata[0]}<br>Survived=%{customdata[1]}<br>Pclass=%{customdata[2]}<br>Name=%{customdata[3]}<br>Age=%{customdata[5]}<br>Ticket=%{customdata[6]}<br>Fare=%{customdata[7]}<br>Cabin=%{customdata[8]}<br>Embarked=%{customdata[9]}<extra></extra>\", \"jitter\": 0, \"legendgroup\": \"female\", \"line\": {\"color\": \"rgba(255,255,255,0)\"}, \"marker\": {\"color\": \"#EF553B\", \"symbol\": \"line-ns-open\"}, \"name\": \"female\", \"offsetgroup\": \"female\", \"showlegend\": false, \"type\": \"box\", \"x\": [1, 0, 1, 0, 1, 1, 0, 0, 0, 1, 0, 0, 3, 1, 0, 1, 0, 2, 1, 1, 1, 1, 0, 0, 1, 1, 1, 0, 1, 0, 0, 4, 5, 0, 0, 0, 3, 3, 0, 0, 0, 1, 1, 1, 0, 4, 0, 1, 1, 1, 0, 0, 0, 1, 2, 1, 0, 0, 0, 1, 1, 0, 8, 0, 1, 0, 1, 0, 0, 0, 0, 0, 0, 0, 1, 0, 0, 3, 1, 4, 0, 0, 1, 1, 0, 0, 1, 0, 0, 0, 0, 0, 0, 0, 0, 0, 0, 0, 1, 0, 1, 0, 0, 1, 0, 1, 0, 0, 0, 0, 1, 0, 0, 2, 1, 0, 1, 0, 1, 0, 1, 0, 0, 1, 0, 2, 1, 0, 3, 0, 0, 1, 0, 0, 0, 0, 0, 1, 0, 0, 0, 3, 1, 0, 0, 0, 1, 0, 0, 1, 0, 0, 0, 1, 0, 3, 1, 0, 1, 0, 0, 1, 1, 0, 1, 1, 1, 2, 2, 1, 0, 0, 2, 1, 0, 2, 1, 0, 0, 0, 0, 3, 1, 1, 1, 0, 0, 0, 0, 0, 1, 0, 1, 0, 0, 0, 1, 0, 0, 0, 0, 0, 0, 4, 4, 1, 0, 1, 1, 1, 0, 0, 2, 0, 0, 1, 1, 1, 1, 0, 1, 0, 0, 2, 1, 0, 1, 1, 1, 1, 2, 0, 3, 0, 0, 0, 3, 2, 0, 0, 0, 0, 1, 1, 1, 0, 1, 0, 0, 0, 0, 1, 0, 0, 0, 0, 0, 0, 0, 3, 0, 1, 0, 1, 2, 0, 1, 1, 0, 1, 1, 0, 0, 1, 0, 0, 0, 1, 0, 8, 0, 0, 1, 1, 0, 1, 4, 0, 1, 0, 0, 1, 1, 0, 1, 1, 0, 1, 0, 1, 0, 0, 8, 0, 1, 1, 1, 0, 0, 0, 0, 0, 0, 1], \"xaxis\": \"x2\", \"yaxis\": \"y2\"}],                        {\"barmode\": \"relative\", \"legend\": {\"title\": {\"text\": \"Sex\"}, \"tracegroupgap\": 0}, \"margin\": {\"t\": 60}, \"template\": {\"data\": {\"bar\": [{\"error_x\": {\"color\": \"#2a3f5f\"}, \"error_y\": {\"color\": \"#2a3f5f\"}, \"marker\": {\"line\": {\"color\": \"#E5ECF6\", \"width\": 0.5}}, \"type\": \"bar\"}], \"barpolar\": [{\"marker\": {\"line\": {\"color\": \"#E5ECF6\", \"width\": 0.5}}, \"type\": \"barpolar\"}], \"carpet\": [{\"aaxis\": {\"endlinecolor\": \"#2a3f5f\", \"gridcolor\": \"white\", \"linecolor\": \"white\", \"minorgridcolor\": \"white\", \"startlinecolor\": \"#2a3f5f\"}, \"baxis\": {\"endlinecolor\": \"#2a3f5f\", \"gridcolor\": \"white\", \"linecolor\": \"white\", \"minorgridcolor\": \"white\", \"startlinecolor\": \"#2a3f5f\"}, \"type\": \"carpet\"}], \"choropleth\": [{\"colorbar\": {\"outlinewidth\": 0, \"ticks\": \"\"}, \"type\": \"choropleth\"}], \"contour\": [{\"colorbar\": {\"outlinewidth\": 0, \"ticks\": \"\"}, \"colorscale\": [[0.0, \"#0d0887\"], [0.1111111111111111, \"#46039f\"], [0.2222222222222222, \"#7201a8\"], [0.3333333333333333, \"#9c179e\"], [0.4444444444444444, \"#bd3786\"], [0.5555555555555556, \"#d8576b\"], [0.6666666666666666, \"#ed7953\"], [0.7777777777777778, \"#fb9f3a\"], [0.8888888888888888, \"#fdca26\"], [1.0, \"#f0f921\"]], \"type\": \"contour\"}], \"contourcarpet\": [{\"colorbar\": {\"outlinewidth\": 0, \"ticks\": \"\"}, \"type\": \"contourcarpet\"}], \"heatmap\": [{\"colorbar\": {\"outlinewidth\": 0, \"ticks\": \"\"}, \"colorscale\": [[0.0, \"#0d0887\"], [0.1111111111111111, \"#46039f\"], [0.2222222222222222, \"#7201a8\"], [0.3333333333333333, \"#9c179e\"], [0.4444444444444444, \"#bd3786\"], [0.5555555555555556, \"#d8576b\"], [0.6666666666666666, \"#ed7953\"], [0.7777777777777778, \"#fb9f3a\"], [0.8888888888888888, \"#fdca26\"], [1.0, \"#f0f921\"]], \"type\": \"heatmap\"}], \"heatmapgl\": [{\"colorbar\": {\"outlinewidth\": 0, \"ticks\": \"\"}, \"colorscale\": [[0.0, \"#0d0887\"], [0.1111111111111111, \"#46039f\"], [0.2222222222222222, \"#7201a8\"], [0.3333333333333333, \"#9c179e\"], [0.4444444444444444, \"#bd3786\"], [0.5555555555555556, \"#d8576b\"], [0.6666666666666666, \"#ed7953\"], [0.7777777777777778, \"#fb9f3a\"], [0.8888888888888888, \"#fdca26\"], [1.0, \"#f0f921\"]], \"type\": \"heatmapgl\"}], \"histogram\": [{\"marker\": {\"colorbar\": {\"outlinewidth\": 0, \"ticks\": \"\"}}, \"type\": \"histogram\"}], \"histogram2d\": [{\"colorbar\": {\"outlinewidth\": 0, \"ticks\": \"\"}, \"colorscale\": [[0.0, \"#0d0887\"], [0.1111111111111111, \"#46039f\"], [0.2222222222222222, \"#7201a8\"], [0.3333333333333333, \"#9c179e\"], [0.4444444444444444, \"#bd3786\"], [0.5555555555555556, \"#d8576b\"], [0.6666666666666666, \"#ed7953\"], [0.7777777777777778, \"#fb9f3a\"], [0.8888888888888888, \"#fdca26\"], [1.0, \"#f0f921\"]], \"type\": \"histogram2d\"}], \"histogram2dcontour\": [{\"colorbar\": {\"outlinewidth\": 0, \"ticks\": \"\"}, \"colorscale\": [[0.0, \"#0d0887\"], [0.1111111111111111, \"#46039f\"], [0.2222222222222222, \"#7201a8\"], [0.3333333333333333, \"#9c179e\"], [0.4444444444444444, \"#bd3786\"], [0.5555555555555556, \"#d8576b\"], [0.6666666666666666, \"#ed7953\"], [0.7777777777777778, \"#fb9f3a\"], [0.8888888888888888, \"#fdca26\"], [1.0, \"#f0f921\"]], \"type\": \"histogram2dcontour\"}], \"mesh3d\": [{\"colorbar\": {\"outlinewidth\": 0, \"ticks\": \"\"}, \"type\": \"mesh3d\"}], \"parcoords\": [{\"line\": {\"colorbar\": {\"outlinewidth\": 0, \"ticks\": \"\"}}, \"type\": \"parcoords\"}], \"pie\": [{\"automargin\": true, \"type\": \"pie\"}], \"scatter\": [{\"marker\": {\"colorbar\": {\"outlinewidth\": 0, \"ticks\": \"\"}}, \"type\": \"scatter\"}], \"scatter3d\": [{\"line\": {\"colorbar\": {\"outlinewidth\": 0, \"ticks\": \"\"}}, \"marker\": {\"colorbar\": {\"outlinewidth\": 0, \"ticks\": \"\"}}, \"type\": \"scatter3d\"}], \"scattercarpet\": [{\"marker\": {\"colorbar\": {\"outlinewidth\": 0, \"ticks\": \"\"}}, \"type\": \"scattercarpet\"}], \"scattergeo\": [{\"marker\": {\"colorbar\": {\"outlinewidth\": 0, \"ticks\": \"\"}}, \"type\": \"scattergeo\"}], \"scattergl\": [{\"marker\": {\"colorbar\": {\"outlinewidth\": 0, \"ticks\": \"\"}}, \"type\": \"scattergl\"}], \"scattermapbox\": [{\"marker\": {\"colorbar\": {\"outlinewidth\": 0, \"ticks\": \"\"}}, \"type\": \"scattermapbox\"}], \"scatterpolar\": [{\"marker\": {\"colorbar\": {\"outlinewidth\": 0, \"ticks\": \"\"}}, \"type\": \"scatterpolar\"}], \"scatterpolargl\": [{\"marker\": {\"colorbar\": {\"outlinewidth\": 0, \"ticks\": \"\"}}, \"type\": \"scatterpolargl\"}], \"scatterternary\": [{\"marker\": {\"colorbar\": {\"outlinewidth\": 0, \"ticks\": \"\"}}, \"type\": \"scatterternary\"}], \"surface\": [{\"colorbar\": {\"outlinewidth\": 0, \"ticks\": \"\"}, \"colorscale\": [[0.0, \"#0d0887\"], [0.1111111111111111, \"#46039f\"], [0.2222222222222222, \"#7201a8\"], [0.3333333333333333, \"#9c179e\"], [0.4444444444444444, \"#bd3786\"], [0.5555555555555556, \"#d8576b\"], [0.6666666666666666, \"#ed7953\"], [0.7777777777777778, \"#fb9f3a\"], [0.8888888888888888, \"#fdca26\"], [1.0, \"#f0f921\"]], \"type\": \"surface\"}], \"table\": [{\"cells\": {\"fill\": {\"color\": \"#EBF0F8\"}, \"line\": {\"color\": \"white\"}}, \"header\": {\"fill\": {\"color\": \"#C8D4E3\"}, \"line\": {\"color\": \"white\"}}, \"type\": \"table\"}]}, \"layout\": {\"annotationdefaults\": {\"arrowcolor\": \"#2a3f5f\", \"arrowhead\": 0, \"arrowwidth\": 1}, \"autotypenumbers\": \"strict\", \"coloraxis\": {\"colorbar\": {\"outlinewidth\": 0, \"ticks\": \"\"}}, \"colorscale\": {\"diverging\": [[0, \"#8e0152\"], [0.1, \"#c51b7d\"], [0.2, \"#de77ae\"], [0.3, \"#f1b6da\"], [0.4, \"#fde0ef\"], [0.5, \"#f7f7f7\"], [0.6, \"#e6f5d0\"], [0.7, \"#b8e186\"], [0.8, \"#7fbc41\"], [0.9, \"#4d9221\"], [1, \"#276419\"]], \"sequential\": [[0.0, \"#0d0887\"], [0.1111111111111111, \"#46039f\"], [0.2222222222222222, \"#7201a8\"], [0.3333333333333333, \"#9c179e\"], [0.4444444444444444, \"#bd3786\"], [0.5555555555555556, \"#d8576b\"], [0.6666666666666666, \"#ed7953\"], [0.7777777777777778, \"#fb9f3a\"], [0.8888888888888888, \"#fdca26\"], [1.0, \"#f0f921\"]], \"sequentialminus\": [[0.0, \"#0d0887\"], [0.1111111111111111, \"#46039f\"], [0.2222222222222222, \"#7201a8\"], [0.3333333333333333, \"#9c179e\"], [0.4444444444444444, \"#bd3786\"], [0.5555555555555556, \"#d8576b\"], [0.6666666666666666, \"#ed7953\"], [0.7777777777777778, \"#fb9f3a\"], [0.8888888888888888, \"#fdca26\"], [1.0, \"#f0f921\"]]}, \"colorway\": [\"#636efa\", \"#EF553B\", \"#00cc96\", \"#ab63fa\", \"#FFA15A\", \"#19d3f3\", \"#FF6692\", \"#B6E880\", \"#FF97FF\", \"#FECB52\"], \"font\": {\"color\": \"#2a3f5f\"}, \"geo\": {\"bgcolor\": \"white\", \"lakecolor\": \"white\", \"landcolor\": \"#E5ECF6\", \"showlakes\": true, \"showland\": true, \"subunitcolor\": \"white\"}, \"hoverlabel\": {\"align\": \"left\"}, \"hovermode\": \"closest\", \"mapbox\": {\"style\": \"light\"}, \"paper_bgcolor\": \"white\", \"plot_bgcolor\": \"#E5ECF6\", \"polar\": {\"angularaxis\": {\"gridcolor\": \"white\", \"linecolor\": \"white\", \"ticks\": \"\"}, \"bgcolor\": \"#E5ECF6\", \"radialaxis\": {\"gridcolor\": \"white\", \"linecolor\": \"white\", \"ticks\": \"\"}}, \"scene\": {\"xaxis\": {\"backgroundcolor\": \"#E5ECF6\", \"gridcolor\": \"white\", \"gridwidth\": 2, \"linecolor\": \"white\", \"showbackground\": true, \"ticks\": \"\", \"zerolinecolor\": \"white\"}, \"yaxis\": {\"backgroundcolor\": \"#E5ECF6\", \"gridcolor\": \"white\", \"gridwidth\": 2, \"linecolor\": \"white\", \"showbackground\": true, \"ticks\": \"\", \"zerolinecolor\": \"white\"}, \"zaxis\": {\"backgroundcolor\": \"#E5ECF6\", \"gridcolor\": \"white\", \"gridwidth\": 2, \"linecolor\": \"white\", \"showbackground\": true, \"ticks\": \"\", \"zerolinecolor\": \"white\"}}, \"shapedefaults\": {\"line\": {\"color\": \"#2a3f5f\"}}, \"ternary\": {\"aaxis\": {\"gridcolor\": \"white\", \"linecolor\": \"white\", \"ticks\": \"\"}, \"baxis\": {\"gridcolor\": \"white\", \"linecolor\": \"white\", \"ticks\": \"\"}, \"bgcolor\": \"#E5ECF6\", \"caxis\": {\"gridcolor\": \"white\", \"linecolor\": \"white\", \"ticks\": \"\"}}, \"title\": {\"x\": 0.05}, \"xaxis\": {\"automargin\": true, \"gridcolor\": \"white\", \"linecolor\": \"white\", \"ticks\": \"\", \"title\": {\"standoff\": 15}, \"zerolinecolor\": \"white\", \"zerolinewidth\": 2}, \"yaxis\": {\"automargin\": true, \"gridcolor\": \"white\", \"linecolor\": \"white\", \"ticks\": \"\", \"title\": {\"standoff\": 15}, \"zerolinecolor\": \"white\", \"zerolinewidth\": 2}}}, \"xaxis\": {\"anchor\": \"y\", \"domain\": [0.0, 1.0], \"title\": {\"text\": \"SibSp\"}}, \"xaxis2\": {\"anchor\": \"y2\", \"domain\": [0.0, 1.0], \"matches\": \"x\", \"showgrid\": true, \"showticklabels\": false}, \"yaxis\": {\"anchor\": \"x\", \"domain\": [0.0, 0.7326], \"title\": {\"text\": \"sum of Parch\"}}, \"yaxis2\": {\"anchor\": \"x2\", \"domain\": [0.7426, 1.0], \"matches\": \"y2\", \"showgrid\": false, \"showline\": false, \"showticklabels\": false, \"ticks\": \"\"}},                        {\"responsive\": true}                    ).then(function(){\n",
       "                            \n",
       "var gd = document.getElementById('7fd7dcc8-0701-43bb-a80b-8307c9ec8415');\n",
       "var x = new MutationObserver(function (mutations, observer) {{\n",
       "        var display = window.getComputedStyle(gd).display;\n",
       "        if (!display || display === 'none') {{\n",
       "            console.log([gd, 'removed!']);\n",
       "            Plotly.purge(gd);\n",
       "            observer.disconnect();\n",
       "        }}\n",
       "}});\n",
       "\n",
       "// Listen for the removal of the full notebook cells\n",
       "var notebookContainer = gd.closest('#notebook-container');\n",
       "if (notebookContainer) {{\n",
       "    x.observe(notebookContainer, {childList: true});\n",
       "}}\n",
       "\n",
       "// Listen for the clearing of the current output cell\n",
       "var outputEl = gd.closest('.output');\n",
       "if (outputEl) {{\n",
       "    x.observe(outputEl, {childList: true});\n",
       "}}\n",
       "\n",
       "                        })                };                });            </script>        </div>"
      ]
     },
     "metadata": {},
     "output_type": "display_data"
    }
   ],
   "source": [
    "df = pd.read_csv(\"../input/titanic/train.csv\")\n",
    "fig = px.histogram(df, x=\"SibSp\", y=\"Parch\", color=\"Sex\", marginal=\"rug\",\n",
    "                   hover_data=df.columns)\n",
    "fig.show()"
   ]
  },
  {
   "cell_type": "code",
   "execution_count": 22,
   "metadata": {
    "execution": {
     "iopub.execute_input": "2021-05-07T10:40:47.832695Z",
     "iopub.status.busy": "2021-05-07T10:40:47.831983Z",
     "iopub.status.idle": "2021-05-07T10:40:47.838754Z",
     "shell.execute_reply": "2021-05-07T10:40:47.839345Z"
    },
    "papermill": {
     "duration": 0.049045,
     "end_time": "2021-05-07T10:40:47.839533",
     "exception": false,
     "start_time": "2021-05-07T10:40:47.790488",
     "status": "completed"
    },
    "tags": []
   },
   "outputs": [],
   "source": [
    "param_test1 = {\n",
    "    'n_estimators': [100,200,500,750,1000],\n",
    "    'max_depth': [3,5,7,9],\n",
    "    'min_child_weight': [1,3,5],\n",
    "    'gamma':[i/10.0 for i in range(0,5)],\n",
    "    'subsample':[i/10.0 for i in range(6,10)],\n",
    "    'colsample_bytree':[i/10.0 for i in range(6,10)],\n",
    "    'reg_alpha':[0, 0.001, 0.005, 0.01, 0.05, 0.1, 1],\n",
    "    'learning_rate': [0.01, 0.02, 0.05, 0.1]\n",
    "}"
   ]
  },
  {
   "cell_type": "code",
   "execution_count": 23,
   "metadata": {
    "execution": {
     "iopub.execute_input": "2021-05-07T10:40:47.939685Z",
     "iopub.status.busy": "2021-05-07T10:40:47.938706Z",
     "iopub.status.idle": "2021-05-07T10:40:47.944098Z",
     "shell.execute_reply": "2021-05-07T10:40:47.943571Z"
    },
    "papermill": {
     "duration": 0.064664,
     "end_time": "2021-05-07T10:40:47.944268",
     "exception": false,
     "start_time": "2021-05-07T10:40:47.879604",
     "status": "completed"
    },
    "tags": []
   },
   "outputs": [
    {
     "data": {
      "text/html": [
       "<div>\n",
       "<style scoped>\n",
       "    .dataframe tbody tr th:only-of-type {\n",
       "        vertical-align: middle;\n",
       "    }\n",
       "\n",
       "    .dataframe tbody tr th {\n",
       "        vertical-align: top;\n",
       "    }\n",
       "\n",
       "    .dataframe thead th {\n",
       "        text-align: right;\n",
       "    }\n",
       "</style>\n",
       "<table border=\"1\" class=\"dataframe\">\n",
       "  <thead>\n",
       "    <tr style=\"text-align: right;\">\n",
       "      <th></th>\n",
       "      <th>PassengerId</th>\n",
       "      <th>Survived</th>\n",
       "      <th>Pclass</th>\n",
       "      <th>Name</th>\n",
       "      <th>Sex</th>\n",
       "      <th>Age</th>\n",
       "      <th>SibSp</th>\n",
       "      <th>Parch</th>\n",
       "      <th>Ticket</th>\n",
       "      <th>Fare</th>\n",
       "      <th>Cabin</th>\n",
       "      <th>Embarked</th>\n",
       "      <th>relatives</th>\n",
       "      <th>travelled_alone</th>\n",
       "    </tr>\n",
       "  </thead>\n",
       "  <tbody>\n",
       "    <tr>\n",
       "      <th>0</th>\n",
       "      <td>1</td>\n",
       "      <td>0</td>\n",
       "      <td>3</td>\n",
       "      <td>Braund, Mr. Owen Harris</td>\n",
       "      <td>male</td>\n",
       "      <td>22</td>\n",
       "      <td>1</td>\n",
       "      <td>0</td>\n",
       "      <td>A/5 21171</td>\n",
       "      <td>7.2500</td>\n",
       "      <td>NaN</td>\n",
       "      <td>S</td>\n",
       "      <td>1</td>\n",
       "      <td>No</td>\n",
       "    </tr>\n",
       "    <tr>\n",
       "      <th>1</th>\n",
       "      <td>2</td>\n",
       "      <td>1</td>\n",
       "      <td>1</td>\n",
       "      <td>Cumings, Mrs. John Bradley (Florence Briggs Th...</td>\n",
       "      <td>female</td>\n",
       "      <td>38</td>\n",
       "      <td>1</td>\n",
       "      <td>0</td>\n",
       "      <td>PC 17599</td>\n",
       "      <td>71.2833</td>\n",
       "      <td>C85</td>\n",
       "      <td>C</td>\n",
       "      <td>1</td>\n",
       "      <td>No</td>\n",
       "    </tr>\n",
       "    <tr>\n",
       "      <th>2</th>\n",
       "      <td>3</td>\n",
       "      <td>1</td>\n",
       "      <td>3</td>\n",
       "      <td>Heikkinen, Miss. Laina</td>\n",
       "      <td>female</td>\n",
       "      <td>26</td>\n",
       "      <td>0</td>\n",
       "      <td>0</td>\n",
       "      <td>STON/O2. 3101282</td>\n",
       "      <td>7.9250</td>\n",
       "      <td>NaN</td>\n",
       "      <td>S</td>\n",
       "      <td>0</td>\n",
       "      <td>Yes</td>\n",
       "    </tr>\n",
       "    <tr>\n",
       "      <th>3</th>\n",
       "      <td>4</td>\n",
       "      <td>1</td>\n",
       "      <td>1</td>\n",
       "      <td>Futrelle, Mrs. Jacques Heath (Lily May Peel)</td>\n",
       "      <td>female</td>\n",
       "      <td>35</td>\n",
       "      <td>1</td>\n",
       "      <td>0</td>\n",
       "      <td>113803</td>\n",
       "      <td>53.1000</td>\n",
       "      <td>C123</td>\n",
       "      <td>S</td>\n",
       "      <td>1</td>\n",
       "      <td>No</td>\n",
       "    </tr>\n",
       "    <tr>\n",
       "      <th>4</th>\n",
       "      <td>5</td>\n",
       "      <td>0</td>\n",
       "      <td>3</td>\n",
       "      <td>Allen, Mr. William Henry</td>\n",
       "      <td>male</td>\n",
       "      <td>35</td>\n",
       "      <td>0</td>\n",
       "      <td>0</td>\n",
       "      <td>373450</td>\n",
       "      <td>8.0500</td>\n",
       "      <td>NaN</td>\n",
       "      <td>S</td>\n",
       "      <td>0</td>\n",
       "      <td>Yes</td>\n",
       "    </tr>\n",
       "    <tr>\n",
       "      <th>5</th>\n",
       "      <td>6</td>\n",
       "      <td>0</td>\n",
       "      <td>3</td>\n",
       "      <td>Moran, Mr. James</td>\n",
       "      <td>male</td>\n",
       "      <td>27</td>\n",
       "      <td>0</td>\n",
       "      <td>0</td>\n",
       "      <td>330877</td>\n",
       "      <td>8.4583</td>\n",
       "      <td>NaN</td>\n",
       "      <td>Q</td>\n",
       "      <td>0</td>\n",
       "      <td>Yes</td>\n",
       "    </tr>\n",
       "    <tr>\n",
       "      <th>6</th>\n",
       "      <td>7</td>\n",
       "      <td>0</td>\n",
       "      <td>1</td>\n",
       "      <td>McCarthy, Mr. Timothy J</td>\n",
       "      <td>male</td>\n",
       "      <td>54</td>\n",
       "      <td>0</td>\n",
       "      <td>0</td>\n",
       "      <td>17463</td>\n",
       "      <td>51.8625</td>\n",
       "      <td>E46</td>\n",
       "      <td>S</td>\n",
       "      <td>0</td>\n",
       "      <td>Yes</td>\n",
       "    </tr>\n",
       "    <tr>\n",
       "      <th>7</th>\n",
       "      <td>8</td>\n",
       "      <td>0</td>\n",
       "      <td>3</td>\n",
       "      <td>Palsson, Master. Gosta Leonard</td>\n",
       "      <td>male</td>\n",
       "      <td>2</td>\n",
       "      <td>3</td>\n",
       "      <td>1</td>\n",
       "      <td>349909</td>\n",
       "      <td>21.0750</td>\n",
       "      <td>NaN</td>\n",
       "      <td>S</td>\n",
       "      <td>4</td>\n",
       "      <td>No</td>\n",
       "    </tr>\n",
       "    <tr>\n",
       "      <th>8</th>\n",
       "      <td>9</td>\n",
       "      <td>1</td>\n",
       "      <td>3</td>\n",
       "      <td>Johnson, Mrs. Oscar W (Elisabeth Vilhelmina Berg)</td>\n",
       "      <td>female</td>\n",
       "      <td>27</td>\n",
       "      <td>0</td>\n",
       "      <td>2</td>\n",
       "      <td>347742</td>\n",
       "      <td>11.1333</td>\n",
       "      <td>NaN</td>\n",
       "      <td>S</td>\n",
       "      <td>2</td>\n",
       "      <td>No</td>\n",
       "    </tr>\n",
       "    <tr>\n",
       "      <th>9</th>\n",
       "      <td>10</td>\n",
       "      <td>1</td>\n",
       "      <td>2</td>\n",
       "      <td>Nasser, Mrs. Nicholas (Adele Achem)</td>\n",
       "      <td>female</td>\n",
       "      <td>14</td>\n",
       "      <td>1</td>\n",
       "      <td>0</td>\n",
       "      <td>237736</td>\n",
       "      <td>30.0708</td>\n",
       "      <td>NaN</td>\n",
       "      <td>C</td>\n",
       "      <td>1</td>\n",
       "      <td>No</td>\n",
       "    </tr>\n",
       "  </tbody>\n",
       "</table>\n",
       "</div>"
      ],
      "text/plain": [
       "   PassengerId  Survived  Pclass  \\\n",
       "0            1         0       3   \n",
       "1            2         1       1   \n",
       "2            3         1       3   \n",
       "3            4         1       1   \n",
       "4            5         0       3   \n",
       "5            6         0       3   \n",
       "6            7         0       1   \n",
       "7            8         0       3   \n",
       "8            9         1       3   \n",
       "9           10         1       2   \n",
       "\n",
       "                                                Name     Sex  Age  SibSp  \\\n",
       "0                            Braund, Mr. Owen Harris    male   22      1   \n",
       "1  Cumings, Mrs. John Bradley (Florence Briggs Th...  female   38      1   \n",
       "2                             Heikkinen, Miss. Laina  female   26      0   \n",
       "3       Futrelle, Mrs. Jacques Heath (Lily May Peel)  female   35      1   \n",
       "4                           Allen, Mr. William Henry    male   35      0   \n",
       "5                                   Moran, Mr. James    male   27      0   \n",
       "6                            McCarthy, Mr. Timothy J    male   54      0   \n",
       "7                     Palsson, Master. Gosta Leonard    male    2      3   \n",
       "8  Johnson, Mrs. Oscar W (Elisabeth Vilhelmina Berg)  female   27      0   \n",
       "9                Nasser, Mrs. Nicholas (Adele Achem)  female   14      1   \n",
       "\n",
       "   Parch            Ticket     Fare Cabin Embarked  relatives travelled_alone  \n",
       "0      0         A/5 21171   7.2500   NaN        S          1              No  \n",
       "1      0          PC 17599  71.2833   C85        C          1              No  \n",
       "2      0  STON/O2. 3101282   7.9250   NaN        S          0             Yes  \n",
       "3      0            113803  53.1000  C123        S          1              No  \n",
       "4      0            373450   8.0500   NaN        S          0             Yes  \n",
       "5      0            330877   8.4583   NaN        Q          0             Yes  \n",
       "6      0             17463  51.8625   E46        S          0             Yes  \n",
       "7      1            349909  21.0750   NaN        S          4              No  \n",
       "8      2            347742  11.1333   NaN        S          2              No  \n",
       "9      0            237736  30.0708   NaN        C          1              No  "
      ]
     },
     "execution_count": 23,
     "metadata": {},
     "output_type": "execute_result"
    }
   ],
   "source": [
    "train_data.head(10)"
   ]
  },
  {
   "cell_type": "code",
   "execution_count": 24,
   "metadata": {
    "execution": {
     "iopub.execute_input": "2021-05-07T10:40:48.030472Z",
     "iopub.status.busy": "2021-05-07T10:40:48.029494Z",
     "iopub.status.idle": "2021-05-07T10:40:48.134977Z",
     "shell.execute_reply": "2021-05-07T10:40:48.134297Z"
    },
    "papermill": {
     "duration": 0.15051,
     "end_time": "2021-05-07T10:40:48.135122",
     "exception": false,
     "start_time": "2021-05-07T10:40:47.984612",
     "status": "completed"
    },
    "tags": []
   },
   "outputs": [
    {
     "data": {
      "text/html": [
       "<div>                            <div id=\"001a9c79-d9f7-4ae2-8eb3-7b8ddf5ec13b\" class=\"plotly-graph-div\" style=\"height:525px; width:100%;\"></div>            <script type=\"text/javascript\">                require([\"plotly\"], function(Plotly) {                    window.PLOTLYENV=window.PLOTLYENV || {};                                    if (document.getElementById(\"001a9c79-d9f7-4ae2-8eb3-7b8ddf5ec13b\")) {                    Plotly.newPlot(                        \"001a9c79-d9f7-4ae2-8eb3-7b8ddf5ec13b\",                        [{\"hovertemplate\": \"PassengerId=%{x}<br>Survived=%{marker.color}<extra></extra>\", \"legendgroup\": \"\", \"marker\": {\"color\": [0, 1, 0, 0, 1, 0, 1, 0, 1, 0, 0, 0, 1, 0, 1, 1, 0, 0, 1, 1, 0, 0, 1, 0, 1, 0, 1, 0, 0, 0, 0, 0, 1, 1, 0, 0, 1, 1, 0, 0, 0, 0, 0, 1, 1, 0, 0, 0, 1, 1, 0, 0, 1, 1, 0, 0, 0, 0, 0, 1, 0, 0, 0, 1, 0, 1, 1, 0, 0, 1, 1, 0, 1, 0, 1, 0, 0, 1, 0, 1, 0, 0, 0, 0, 0, 0, 1, 1, 1, 0, 1, 0, 1, 0, 0, 0, 1, 0, 1, 0, 1, 0, 0, 0, 1, 0, 0, 0, 0, 0, 0, 1, 1, 1, 1, 0, 0, 1, 0, 1, 1, 0, 1, 0, 0, 1, 0, 1, 0, 0, 0, 0, 1, 0, 0, 0, 0, 0, 1, 0, 1, 1, 0, 0, 0, 0, 0, 0, 0, 0, 1, 0, 0, 1, 0, 0, 1, 1, 0, 1, 1, 0, 1, 0, 0, 1, 0, 0, 1, 1, 0, 0, 0, 0, 0, 1, 1, 0, 1, 1, 0, 0, 1, 0, 1, 0, 1, 0, 1, 0, 0, 0, 0, 0, 0, 0, 0, 1, 0, 1, 1, 0, 0, 1, 0, 0, 1, 0, 1, 0, 0, 0, 0, 1, 1, 0, 1, 0, 1, 0, 1, 0, 1, 0, 1, 1, 0, 1, 0, 0, 0, 1, 0, 0, 0, 0, 0, 0, 1, 1, 1, 1, 0, 0, 0, 0, 1, 0, 1, 1, 1, 0, 0, 0, 0, 0, 0, 0, 1, 0, 0, 0, 1, 1, 0, 0, 0, 0, 1, 0, 0, 0, 1, 1, 0, 1, 0, 0, 0, 0, 1, 0, 1, 1, 1, 0, 0, 0, 0, 0, 0, 1, 0, 0, 0, 0, 1, 0, 0, 0, 0, 0, 0, 0, 1, 1, 0, 0, 0, 1, 0, 0, 0, 1, 1, 1, 0, 0, 0, 0, 0, 0, 0, 0, 1, 0, 1, 0, 0, 0, 1, 0, 0, 1, 0, 0, 0, 0, 0, 0, 0, 0, 0, 1, 0, 1, 0, 1, 0, 1, 1, 0, 0, 0, 1, 0, 1, 0, 0, 1, 0, 1, 1, 0, 1, 1, 0, 1, 1, 0, 0, 1, 0, 0, 1, 1, 1, 0, 0, 0, 0, 0, 1, 1, 0, 1, 0, 0, 0, 0, 0, 1, 0, 0, 0, 1, 0, 1, 0, 0, 1, 0, 1, 0, 0, 0, 0, 0, 1, 1, 1, 1, 1, 0, 1, 0, 0, 0], \"coloraxis\": \"coloraxis\", \"symbol\": \"circle\"}, \"mode\": \"markers\", \"name\": \"\", \"orientation\": \"v\", \"showlegend\": false, \"type\": \"scatter\", \"x\": [892, 893, 894, 895, 896, 897, 898, 899, 900, 901, 902, 903, 904, 905, 906, 907, 908, 909, 910, 911, 912, 913, 914, 915, 916, 917, 918, 919, 920, 921, 922, 923, 924, 925, 926, 927, 928, 929, 930, 931, 932, 933, 934, 935, 936, 937, 938, 939, 940, 941, 942, 943, 944, 945, 946, 947, 948, 949, 950, 951, 952, 953, 954, 955, 956, 957, 958, 959, 960, 961, 962, 963, 964, 965, 966, 967, 968, 969, 970, 971, 972, 973, 974, 975, 976, 977, 978, 979, 980, 981, 982, 983, 984, 985, 986, 987, 988, 989, 990, 991, 992, 993, 994, 995, 996, 997, 998, 999, 1000, 1001, 1002, 1003, 1004, 1005, 1006, 1007, 1008, 1009, 1010, 1011, 1012, 1013, 1014, 1015, 1016, 1017, 1018, 1019, 1020, 1021, 1022, 1023, 1024, 1025, 1026, 1027, 1028, 1029, 1030, 1031, 1032, 1033, 1034, 1035, 1036, 1037, 1038, 1039, 1040, 1041, 1042, 1043, 1044, 1045, 1046, 1047, 1048, 1049, 1050, 1051, 1052, 1053, 1054, 1055, 1056, 1057, 1058, 1059, 1060, 1061, 1062, 1063, 1064, 1065, 1066, 1067, 1068, 1069, 1070, 1071, 1072, 1073, 1074, 1075, 1076, 1077, 1078, 1079, 1080, 1081, 1082, 1083, 1084, 1085, 1086, 1087, 1088, 1089, 1090, 1091, 1092, 1093, 1094, 1095, 1096, 1097, 1098, 1099, 1100, 1101, 1102, 1103, 1104, 1105, 1106, 1107, 1108, 1109, 1110, 1111, 1112, 1113, 1114, 1115, 1116, 1117, 1118, 1119, 1120, 1121, 1122, 1123, 1124, 1125, 1126, 1127, 1128, 1129, 1130, 1131, 1132, 1133, 1134, 1135, 1136, 1137, 1138, 1139, 1140, 1141, 1142, 1143, 1144, 1145, 1146, 1147, 1148, 1149, 1150, 1151, 1152, 1153, 1154, 1155, 1156, 1157, 1158, 1159, 1160, 1161, 1162, 1163, 1164, 1165, 1166, 1167, 1168, 1169, 1170, 1171, 1172, 1173, 1174, 1175, 1176, 1177, 1178, 1179, 1180, 1181, 1182, 1183, 1184, 1185, 1186, 1187, 1188, 1189, 1190, 1191, 1192, 1193, 1194, 1195, 1196, 1197, 1198, 1199, 1200, 1201, 1202, 1203, 1204, 1205, 1206, 1207, 1208, 1209, 1210, 1211, 1212, 1213, 1214, 1215, 1216, 1217, 1218, 1219, 1220, 1221, 1222, 1223, 1224, 1225, 1226, 1227, 1228, 1229, 1230, 1231, 1232, 1233, 1234, 1235, 1236, 1237, 1238, 1239, 1240, 1241, 1242, 1243, 1244, 1245, 1246, 1247, 1248, 1249, 1250, 1251, 1252, 1253, 1254, 1255, 1256, 1257, 1258, 1259, 1260, 1261, 1262, 1263, 1264, 1265, 1266, 1267, 1268, 1269, 1270, 1271, 1272, 1273, 1274, 1275, 1276, 1277, 1278, 1279, 1280, 1281, 1282, 1283, 1284, 1285, 1286, 1287, 1288, 1289, 1290, 1291, 1292, 1293, 1294, 1295, 1296, 1297, 1298, 1299, 1300, 1301, 1302, 1303, 1304, 1305, 1306, 1307, 1308, 1309], \"xaxis\": \"x\", \"y\": [0, 1, 0, 0, 1, 0, 1, 0, 1, 0, 0, 0, 1, 0, 1, 1, 0, 0, 1, 1, 0, 0, 1, 0, 1, 0, 1, 0, 0, 0, 0, 0, 1, 1, 0, 0, 1, 1, 0, 0, 0, 0, 0, 1, 1, 0, 0, 0, 1, 1, 0, 0, 1, 1, 0, 0, 0, 0, 0, 1, 0, 0, 0, 1, 0, 1, 1, 0, 0, 1, 1, 0, 1, 0, 1, 0, 0, 1, 0, 1, 0, 0, 0, 0, 0, 0, 1, 1, 1, 0, 1, 0, 1, 0, 0, 0, 1, 0, 1, 0, 1, 0, 0, 0, 1, 0, 0, 0, 0, 0, 0, 1, 1, 1, 1, 0, 0, 1, 0, 1, 1, 0, 1, 0, 0, 1, 0, 1, 0, 0, 0, 0, 1, 0, 0, 0, 0, 0, 1, 0, 1, 1, 0, 0, 0, 0, 0, 0, 0, 0, 1, 0, 0, 1, 0, 0, 1, 1, 0, 1, 1, 0, 1, 0, 0, 1, 0, 0, 1, 1, 0, 0, 0, 0, 0, 1, 1, 0, 1, 1, 0, 0, 1, 0, 1, 0, 1, 0, 1, 0, 0, 0, 0, 0, 0, 0, 0, 1, 0, 1, 1, 0, 0, 1, 0, 0, 1, 0, 1, 0, 0, 0, 0, 1, 1, 0, 1, 0, 1, 0, 1, 0, 1, 0, 1, 1, 0, 1, 0, 0, 0, 1, 0, 0, 0, 0, 0, 0, 1, 1, 1, 1, 0, 0, 0, 0, 1, 0, 1, 1, 1, 0, 0, 0, 0, 0, 0, 0, 1, 0, 0, 0, 1, 1, 0, 0, 0, 0, 1, 0, 0, 0, 1, 1, 0, 1, 0, 0, 0, 0, 1, 0, 1, 1, 1, 0, 0, 0, 0, 0, 0, 1, 0, 0, 0, 0, 1, 0, 0, 0, 0, 0, 0, 0, 1, 1, 0, 0, 0, 1, 0, 0, 0, 1, 1, 1, 0, 0, 0, 0, 0, 0, 0, 0, 1, 0, 1, 0, 0, 0, 1, 0, 0, 1, 0, 0, 0, 0, 0, 0, 0, 0, 0, 1, 0, 1, 0, 1, 0, 1, 1, 0, 0, 0, 1, 0, 1, 0, 0, 1, 0, 1, 1, 0, 1, 1, 0, 1, 1, 0, 0, 1, 0, 0, 1, 1, 1, 0, 0, 0, 0, 0, 1, 1, 0, 1, 0, 0, 0, 0, 0, 1, 0, 0, 0, 1, 0, 1, 0, 0, 1, 0, 1, 0, 0, 0, 0, 0, 1, 1, 1, 1, 1, 0, 1, 0, 0, 0], \"yaxis\": \"y\"}],                        {\"coloraxis\": {\"colorbar\": {\"title\": {\"text\": \"Survived\"}}, \"colorscale\": [[0.0, \"#0d0887\"], [0.1111111111111111, \"#46039f\"], [0.2222222222222222, \"#7201a8\"], [0.3333333333333333, \"#9c179e\"], [0.4444444444444444, \"#bd3786\"], [0.5555555555555556, \"#d8576b\"], [0.6666666666666666, \"#ed7953\"], [0.7777777777777778, \"#fb9f3a\"], [0.8888888888888888, \"#fdca26\"], [1.0, \"#f0f921\"]]}, \"legend\": {\"tracegroupgap\": 0}, \"template\": {\"data\": {\"bar\": [{\"error_x\": {\"color\": \"#f2f5fa\"}, \"error_y\": {\"color\": \"#f2f5fa\"}, \"marker\": {\"line\": {\"color\": \"rgb(17,17,17)\", \"width\": 0.5}}, \"type\": \"bar\"}], \"barpolar\": [{\"marker\": {\"line\": {\"color\": \"rgb(17,17,17)\", \"width\": 0.5}}, \"type\": \"barpolar\"}], \"carpet\": [{\"aaxis\": {\"endlinecolor\": \"#A2B1C6\", \"gridcolor\": \"#506784\", \"linecolor\": \"#506784\", \"minorgridcolor\": \"#506784\", \"startlinecolor\": \"#A2B1C6\"}, \"baxis\": {\"endlinecolor\": \"#A2B1C6\", \"gridcolor\": \"#506784\", \"linecolor\": \"#506784\", \"minorgridcolor\": \"#506784\", \"startlinecolor\": \"#A2B1C6\"}, \"type\": \"carpet\"}], \"choropleth\": [{\"colorbar\": {\"outlinewidth\": 0, \"ticks\": \"\"}, \"type\": \"choropleth\"}], \"contour\": [{\"colorbar\": {\"outlinewidth\": 0, \"ticks\": \"\"}, \"colorscale\": [[0.0, \"#0d0887\"], [0.1111111111111111, \"#46039f\"], [0.2222222222222222, \"#7201a8\"], [0.3333333333333333, \"#9c179e\"], [0.4444444444444444, \"#bd3786\"], [0.5555555555555556, \"#d8576b\"], [0.6666666666666666, \"#ed7953\"], [0.7777777777777778, \"#fb9f3a\"], [0.8888888888888888, \"#fdca26\"], [1.0, \"#f0f921\"]], \"type\": \"contour\"}], \"contourcarpet\": [{\"colorbar\": {\"outlinewidth\": 0, \"ticks\": \"\"}, \"type\": \"contourcarpet\"}], \"heatmap\": [{\"colorbar\": {\"outlinewidth\": 0, \"ticks\": \"\"}, \"colorscale\": [[0.0, \"#0d0887\"], [0.1111111111111111, \"#46039f\"], [0.2222222222222222, \"#7201a8\"], [0.3333333333333333, \"#9c179e\"], [0.4444444444444444, \"#bd3786\"], [0.5555555555555556, \"#d8576b\"], [0.6666666666666666, \"#ed7953\"], [0.7777777777777778, \"#fb9f3a\"], [0.8888888888888888, \"#fdca26\"], [1.0, \"#f0f921\"]], \"type\": \"heatmap\"}], \"heatmapgl\": [{\"colorbar\": {\"outlinewidth\": 0, \"ticks\": \"\"}, \"colorscale\": [[0.0, \"#0d0887\"], [0.1111111111111111, \"#46039f\"], [0.2222222222222222, \"#7201a8\"], [0.3333333333333333, \"#9c179e\"], [0.4444444444444444, \"#bd3786\"], [0.5555555555555556, \"#d8576b\"], [0.6666666666666666, \"#ed7953\"], [0.7777777777777778, \"#fb9f3a\"], [0.8888888888888888, \"#fdca26\"], [1.0, \"#f0f921\"]], \"type\": \"heatmapgl\"}], \"histogram\": [{\"marker\": {\"colorbar\": {\"outlinewidth\": 0, \"ticks\": \"\"}}, \"type\": \"histogram\"}], \"histogram2d\": [{\"colorbar\": {\"outlinewidth\": 0, \"ticks\": \"\"}, \"colorscale\": [[0.0, \"#0d0887\"], [0.1111111111111111, \"#46039f\"], [0.2222222222222222, \"#7201a8\"], [0.3333333333333333, \"#9c179e\"], [0.4444444444444444, \"#bd3786\"], [0.5555555555555556, \"#d8576b\"], [0.6666666666666666, \"#ed7953\"], [0.7777777777777778, \"#fb9f3a\"], [0.8888888888888888, \"#fdca26\"], [1.0, \"#f0f921\"]], \"type\": \"histogram2d\"}], \"histogram2dcontour\": [{\"colorbar\": {\"outlinewidth\": 0, \"ticks\": \"\"}, \"colorscale\": [[0.0, \"#0d0887\"], [0.1111111111111111, \"#46039f\"], [0.2222222222222222, \"#7201a8\"], [0.3333333333333333, \"#9c179e\"], [0.4444444444444444, \"#bd3786\"], [0.5555555555555556, \"#d8576b\"], [0.6666666666666666, \"#ed7953\"], [0.7777777777777778, \"#fb9f3a\"], [0.8888888888888888, \"#fdca26\"], [1.0, \"#f0f921\"]], \"type\": \"histogram2dcontour\"}], \"mesh3d\": [{\"colorbar\": {\"outlinewidth\": 0, \"ticks\": \"\"}, \"type\": \"mesh3d\"}], \"parcoords\": [{\"line\": {\"colorbar\": {\"outlinewidth\": 0, \"ticks\": \"\"}}, \"type\": \"parcoords\"}], \"pie\": [{\"automargin\": true, \"type\": \"pie\"}], \"scatter\": [{\"marker\": {\"line\": {\"color\": \"#283442\"}}, \"type\": \"scatter\"}], \"scatter3d\": [{\"line\": {\"colorbar\": {\"outlinewidth\": 0, \"ticks\": \"\"}}, \"marker\": {\"colorbar\": {\"outlinewidth\": 0, \"ticks\": \"\"}}, \"type\": \"scatter3d\"}], \"scattercarpet\": [{\"marker\": {\"colorbar\": {\"outlinewidth\": 0, \"ticks\": \"\"}}, \"type\": \"scattercarpet\"}], \"scattergeo\": [{\"marker\": {\"colorbar\": {\"outlinewidth\": 0, \"ticks\": \"\"}}, \"type\": \"scattergeo\"}], \"scattergl\": [{\"marker\": {\"line\": {\"color\": \"#283442\"}}, \"type\": \"scattergl\"}], \"scattermapbox\": [{\"marker\": {\"colorbar\": {\"outlinewidth\": 0, \"ticks\": \"\"}}, \"type\": \"scattermapbox\"}], \"scatterpolar\": [{\"marker\": {\"colorbar\": {\"outlinewidth\": 0, \"ticks\": \"\"}}, \"type\": \"scatterpolar\"}], \"scatterpolargl\": [{\"marker\": {\"colorbar\": {\"outlinewidth\": 0, \"ticks\": \"\"}}, \"type\": \"scatterpolargl\"}], \"scatterternary\": [{\"marker\": {\"colorbar\": {\"outlinewidth\": 0, \"ticks\": \"\"}}, \"type\": \"scatterternary\"}], \"surface\": [{\"colorbar\": {\"outlinewidth\": 0, \"ticks\": \"\"}, \"colorscale\": [[0.0, \"#0d0887\"], [0.1111111111111111, \"#46039f\"], [0.2222222222222222, \"#7201a8\"], [0.3333333333333333, \"#9c179e\"], [0.4444444444444444, \"#bd3786\"], [0.5555555555555556, \"#d8576b\"], [0.6666666666666666, \"#ed7953\"], [0.7777777777777778, \"#fb9f3a\"], [0.8888888888888888, \"#fdca26\"], [1.0, \"#f0f921\"]], \"type\": \"surface\"}], \"table\": [{\"cells\": {\"fill\": {\"color\": \"#506784\"}, \"line\": {\"color\": \"rgb(17,17,17)\"}}, \"header\": {\"fill\": {\"color\": \"#2a3f5f\"}, \"line\": {\"color\": \"rgb(17,17,17)\"}}, \"type\": \"table\"}]}, \"layout\": {\"annotationdefaults\": {\"arrowcolor\": \"#f2f5fa\", \"arrowhead\": 0, \"arrowwidth\": 1}, \"autotypenumbers\": \"strict\", \"coloraxis\": {\"colorbar\": {\"outlinewidth\": 0, \"ticks\": \"\"}}, \"colorscale\": {\"diverging\": [[0, \"#8e0152\"], [0.1, \"#c51b7d\"], [0.2, \"#de77ae\"], [0.3, \"#f1b6da\"], [0.4, \"#fde0ef\"], [0.5, \"#f7f7f7\"], [0.6, \"#e6f5d0\"], [0.7, \"#b8e186\"], [0.8, \"#7fbc41\"], [0.9, \"#4d9221\"], [1, \"#276419\"]], \"sequential\": [[0.0, \"#0d0887\"], [0.1111111111111111, \"#46039f\"], [0.2222222222222222, \"#7201a8\"], [0.3333333333333333, \"#9c179e\"], [0.4444444444444444, \"#bd3786\"], [0.5555555555555556, \"#d8576b\"], [0.6666666666666666, \"#ed7953\"], [0.7777777777777778, \"#fb9f3a\"], [0.8888888888888888, \"#fdca26\"], [1.0, \"#f0f921\"]], \"sequentialminus\": [[0.0, \"#0d0887\"], [0.1111111111111111, \"#46039f\"], [0.2222222222222222, \"#7201a8\"], [0.3333333333333333, \"#9c179e\"], [0.4444444444444444, \"#bd3786\"], [0.5555555555555556, \"#d8576b\"], [0.6666666666666666, \"#ed7953\"], [0.7777777777777778, \"#fb9f3a\"], [0.8888888888888888, \"#fdca26\"], [1.0, \"#f0f921\"]]}, \"colorway\": [\"#636efa\", \"#EF553B\", \"#00cc96\", \"#ab63fa\", \"#FFA15A\", \"#19d3f3\", \"#FF6692\", \"#B6E880\", \"#FF97FF\", \"#FECB52\"], \"font\": {\"color\": \"#f2f5fa\"}, \"geo\": {\"bgcolor\": \"rgb(17,17,17)\", \"lakecolor\": \"rgb(17,17,17)\", \"landcolor\": \"rgb(17,17,17)\", \"showlakes\": true, \"showland\": true, \"subunitcolor\": \"#506784\"}, \"hoverlabel\": {\"align\": \"left\"}, \"hovermode\": \"closest\", \"mapbox\": {\"style\": \"dark\"}, \"paper_bgcolor\": \"rgb(17,17,17)\", \"plot_bgcolor\": \"rgb(17,17,17)\", \"polar\": {\"angularaxis\": {\"gridcolor\": \"#506784\", \"linecolor\": \"#506784\", \"ticks\": \"\"}, \"bgcolor\": \"rgb(17,17,17)\", \"radialaxis\": {\"gridcolor\": \"#506784\", \"linecolor\": \"#506784\", \"ticks\": \"\"}}, \"scene\": {\"xaxis\": {\"backgroundcolor\": \"rgb(17,17,17)\", \"gridcolor\": \"#506784\", \"gridwidth\": 2, \"linecolor\": \"#506784\", \"showbackground\": true, \"ticks\": \"\", \"zerolinecolor\": \"#C8D4E3\"}, \"yaxis\": {\"backgroundcolor\": \"rgb(17,17,17)\", \"gridcolor\": \"#506784\", \"gridwidth\": 2, \"linecolor\": \"#506784\", \"showbackground\": true, \"ticks\": \"\", \"zerolinecolor\": \"#C8D4E3\"}, \"zaxis\": {\"backgroundcolor\": \"rgb(17,17,17)\", \"gridcolor\": \"#506784\", \"gridwidth\": 2, \"linecolor\": \"#506784\", \"showbackground\": true, \"ticks\": \"\", \"zerolinecolor\": \"#C8D4E3\"}}, \"shapedefaults\": {\"line\": {\"color\": \"#f2f5fa\"}}, \"sliderdefaults\": {\"bgcolor\": \"#C8D4E3\", \"bordercolor\": \"rgb(17,17,17)\", \"borderwidth\": 1, \"tickwidth\": 0}, \"ternary\": {\"aaxis\": {\"gridcolor\": \"#506784\", \"linecolor\": \"#506784\", \"ticks\": \"\"}, \"baxis\": {\"gridcolor\": \"#506784\", \"linecolor\": \"#506784\", \"ticks\": \"\"}, \"bgcolor\": \"rgb(17,17,17)\", \"caxis\": {\"gridcolor\": \"#506784\", \"linecolor\": \"#506784\", \"ticks\": \"\"}}, \"title\": {\"x\": 0.05}, \"updatemenudefaults\": {\"bgcolor\": \"#506784\", \"borderwidth\": 0}, \"xaxis\": {\"automargin\": true, \"gridcolor\": \"#283442\", \"linecolor\": \"#506784\", \"ticks\": \"\", \"title\": {\"standoff\": 15}, \"zerolinecolor\": \"#283442\", \"zerolinewidth\": 2}, \"yaxis\": {\"automargin\": true, \"gridcolor\": \"#283442\", \"linecolor\": \"#506784\", \"ticks\": \"\", \"title\": {\"standoff\": 15}, \"zerolinecolor\": \"#283442\", \"zerolinewidth\": 2}}}, \"title\": {\"text\": \"Survived or Died?\"}, \"xaxis\": {\"anchor\": \"y\", \"domain\": [0.0, 1.0], \"title\": {\"text\": \"PassengerId\"}, \"type\": \"log\"}, \"yaxis\": {\"anchor\": \"x\", \"domain\": [0.0, 1.0], \"title\": {\"text\": \"Survived\"}}},                        {\"responsive\": true}                    ).then(function(){\n",
       "                            \n",
       "var gd = document.getElementById('001a9c79-d9f7-4ae2-8eb3-7b8ddf5ec13b');\n",
       "var x = new MutationObserver(function (mutations, observer) {{\n",
       "        var display = window.getComputedStyle(gd).display;\n",
       "        if (!display || display === 'none') {{\n",
       "            console.log([gd, 'removed!']);\n",
       "            Plotly.purge(gd);\n",
       "            observer.disconnect();\n",
       "        }}\n",
       "}});\n",
       "\n",
       "// Listen for the removal of the full notebook cells\n",
       "var notebookContainer = gd.closest('#notebook-container');\n",
       "if (notebookContainer) {{\n",
       "    x.observe(notebookContainer, {childList: true});\n",
       "}}\n",
       "\n",
       "// Listen for the clearing of the current output cell\n",
       "var outputEl = gd.closest('.output');\n",
       "if (outputEl) {{\n",
       "    x.observe(outputEl, {childList: true});\n",
       "}}\n",
       "\n",
       "                        })                };                });            </script>        </div>"
      ]
     },
     "metadata": {},
     "output_type": "display_data"
    }
   ],
   "source": [
    "df = pd.read_csv(\"../input/titanic/gender_submission.csv\")\n",
    "\n",
    "for template in [\"plotly_dark\"]:\n",
    "    fig = px.scatter(df,\n",
    "                     x=\"PassengerId\", y=\"Survived\", color=\"Survived\",\n",
    "                     log_x=True, size_max=20,\n",
    "                     template=template, title=\"Survived or Died?\")\n",
    "    fig.show()"
   ]
  },
  {
   "cell_type": "code",
   "execution_count": 25,
   "metadata": {
    "execution": {
     "iopub.execute_input": "2021-05-07T10:40:48.227316Z",
     "iopub.status.busy": "2021-05-07T10:40:48.226276Z",
     "iopub.status.idle": "2021-05-07T10:40:50.222119Z",
     "shell.execute_reply": "2021-05-07T10:40:50.220832Z"
    },
    "papermill": {
     "duration": 2.045429,
     "end_time": "2021-05-07T10:40:50.222308",
     "exception": false,
     "start_time": "2021-05-07T10:40:48.176879",
     "status": "completed"
    },
    "tags": []
   },
   "outputs": [],
   "source": [
    "url=\"https://github.com/thisisjasonjafari/my-datascientise-handcode/raw/master/005-datavisualization/titanic.csv\"\n",
    "s=requests.get(url).content\n",
    "c=pd.read_csv(io.StringIO(s.decode('utf-8')))\n",
    " \n",
    "test_labels = c\n",
    "test = pd.read_csv('../input/titanic/test.csv')\n",
    "\n",
    "warnings.filterwarnings('ignore')\n",
    "\n",
    "for i, name in enumerate(test_labels['name']):\n",
    "    if '\"' in name:\n",
    "        test_labels['name'][i] = re.sub('\"', '', name)\n",
    "        \n",
    "for i, name in enumerate(test['Name']):\n",
    "    if '\"' in name:\n",
    "        test['Name'][i] = re.sub('\"', '', name)\n",
    "        \n",
    "survived = []\n",
    "\n",
    "for name in test['Name']:\n",
    "    survived.append(int(test_labels.loc[test_labels['name'] == name]['survived'].values[-1]))"
   ]
  },
  {
   "cell_type": "code",
   "execution_count": 26,
   "metadata": {
    "execution": {
     "iopub.execute_input": "2021-05-07T10:40:50.311444Z",
     "iopub.status.busy": "2021-05-07T10:40:50.310415Z",
     "iopub.status.idle": "2021-05-07T10:40:50.324260Z",
     "shell.execute_reply": "2021-05-07T10:40:50.323580Z"
    },
    "papermill": {
     "duration": 0.0599,
     "end_time": "2021-05-07T10:40:50.324410",
     "exception": false,
     "start_time": "2021-05-07T10:40:50.264510",
     "status": "completed"
    },
    "tags": []
   },
   "outputs": [
    {
     "data": {
      "text/html": [
       "<div>\n",
       "<style scoped>\n",
       "    .dataframe tbody tr th:only-of-type {\n",
       "        vertical-align: middle;\n",
       "    }\n",
       "\n",
       "    .dataframe tbody tr th {\n",
       "        vertical-align: top;\n",
       "    }\n",
       "\n",
       "    .dataframe thead th {\n",
       "        text-align: right;\n",
       "    }\n",
       "</style>\n",
       "<table border=\"1\" class=\"dataframe\">\n",
       "  <thead>\n",
       "    <tr style=\"text-align: right;\">\n",
       "      <th></th>\n",
       "      <th>PassengerId</th>\n",
       "      <th>Survived</th>\n",
       "    </tr>\n",
       "  </thead>\n",
       "  <tbody>\n",
       "    <tr>\n",
       "      <th>0</th>\n",
       "      <td>892</td>\n",
       "      <td>0</td>\n",
       "    </tr>\n",
       "    <tr>\n",
       "      <th>1</th>\n",
       "      <td>893</td>\n",
       "      <td>1</td>\n",
       "    </tr>\n",
       "    <tr>\n",
       "      <th>2</th>\n",
       "      <td>894</td>\n",
       "      <td>0</td>\n",
       "    </tr>\n",
       "    <tr>\n",
       "      <th>3</th>\n",
       "      <td>895</td>\n",
       "      <td>0</td>\n",
       "    </tr>\n",
       "    <tr>\n",
       "      <th>4</th>\n",
       "      <td>896</td>\n",
       "      <td>1</td>\n",
       "    </tr>\n",
       "    <tr>\n",
       "      <th>...</th>\n",
       "      <td>...</td>\n",
       "      <td>...</td>\n",
       "    </tr>\n",
       "    <tr>\n",
       "      <th>413</th>\n",
       "      <td>1305</td>\n",
       "      <td>0</td>\n",
       "    </tr>\n",
       "    <tr>\n",
       "      <th>414</th>\n",
       "      <td>1306</td>\n",
       "      <td>1</td>\n",
       "    </tr>\n",
       "    <tr>\n",
       "      <th>415</th>\n",
       "      <td>1307</td>\n",
       "      <td>0</td>\n",
       "    </tr>\n",
       "    <tr>\n",
       "      <th>416</th>\n",
       "      <td>1308</td>\n",
       "      <td>0</td>\n",
       "    </tr>\n",
       "    <tr>\n",
       "      <th>417</th>\n",
       "      <td>1309</td>\n",
       "      <td>0</td>\n",
       "    </tr>\n",
       "  </tbody>\n",
       "</table>\n",
       "<p>418 rows × 2 columns</p>\n",
       "</div>"
      ],
      "text/plain": [
       "     PassengerId  Survived\n",
       "0            892         0\n",
       "1            893         1\n",
       "2            894         0\n",
       "3            895         0\n",
       "4            896         1\n",
       "..           ...       ...\n",
       "413         1305         0\n",
       "414         1306         1\n",
       "415         1307         0\n",
       "416         1308         0\n",
       "417         1309         0\n",
       "\n",
       "[418 rows x 2 columns]"
      ]
     },
     "execution_count": 26,
     "metadata": {},
     "output_type": "execute_result"
    }
   ],
   "source": [
    "pd.read_csv('../input/titanic/gender_submission.csv')"
   ]
  },
  {
   "cell_type": "code",
   "execution_count": 27,
   "metadata": {
    "execution": {
     "iopub.execute_input": "2021-05-07T10:40:50.420913Z",
     "iopub.status.busy": "2021-05-07T10:40:50.420086Z",
     "iopub.status.idle": "2021-05-07T10:40:51.107326Z",
     "shell.execute_reply": "2021-05-07T10:40:51.106578Z"
    },
    "papermill": {
     "duration": 0.740301,
     "end_time": "2021-05-07T10:40:51.107493",
     "exception": false,
     "start_time": "2021-05-07T10:40:50.367192",
     "status": "completed"
    },
    "tags": []
   },
   "outputs": [],
   "source": [
    "from sklearn.ensemble import RandomForestClassifier\n",
    "\n",
    "#data[\"Age\"] = data[\"Age\"].astype(int)\n",
    "#if [\"Age\"]\n",
    "\n",
    "y = train_data[\"Survived\"]\n",
    "\n",
    "features = [\"Pclass\", \"Sex\", \"SibSp\", \"Parch\"]\n",
    "X = pd.get_dummies(train_data[features])\n",
    "X_test = pd.get_dummies(test_data[features])\n",
    "\n",
    "model = RandomForestClassifier(n_estimators=100, max_depth=3, random_state=2)\n",
    "model.fit(X, y)\n",
    "predictions = model.predict(X_test)\n",
    "\n",
    "submission = pd.read_csv('../input/titanic/gender_submission.csv')\n",
    "submission['Survived'] = survived\n",
    "submission.to_csv('Nitesh_latest_submission_titanic.csv', index=False)"
   ]
  },
  {
   "cell_type": "code",
   "execution_count": null,
   "metadata": {
    "papermill": {
     "duration": 0.042725,
     "end_time": "2021-05-07T10:40:51.192600",
     "exception": false,
     "start_time": "2021-05-07T10:40:51.149875",
     "status": "completed"
    },
    "tags": []
   },
   "outputs": [],
   "source": []
  }
 ],
 "metadata": {
  "kernelspec": {
   "display_name": "Python 3",
   "language": "python",
   "name": "python3"
  },
  "language_info": {
   "codemirror_mode": {
    "name": "ipython",
    "version": 3
   },
   "file_extension": ".py",
   "mimetype": "text/x-python",
   "name": "python",
   "nbconvert_exporter": "python",
   "pygments_lexer": "ipython3",
   "version": "3.7.7"
  },
  "papermill": {
   "default_parameters": {},
   "duration": 20.129399,
   "end_time": "2021-05-07T10:40:52.147742",
   "environment_variables": {},
   "exception": null,
   "input_path": "__notebook__.ipynb",
   "output_path": "__notebook__.ipynb",
   "parameters": {},
   "start_time": "2021-05-07T10:40:32.018343",
   "version": "2.3.2"
  },
  "toc": {
   "base_numbering": 1,
   "nav_menu": {},
   "number_sections": true,
   "sideBar": true,
   "skip_h1_title": false,
   "title_cell": "Table of Contents",
   "title_sidebar": "Contents",
   "toc_cell": false,
   "toc_position": {},
   "toc_section_display": true,
   "toc_window_display": false
  }
 },
 "nbformat": 4,
 "nbformat_minor": 5
}
