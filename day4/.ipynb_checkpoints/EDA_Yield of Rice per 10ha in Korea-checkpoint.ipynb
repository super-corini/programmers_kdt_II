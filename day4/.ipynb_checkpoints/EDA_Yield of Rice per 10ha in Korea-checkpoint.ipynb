{
 "cells": [
  {
   "cell_type": "markdown",
   "id": "dc09b646",
   "metadata": {},
   "source": [
    "## Exploratory Data Analysis  \n",
    "  \n",
    "탐색적 데이터 분석을 실습해봅시다. with Yield of Rice per 10ha in Korea  \n",
    "※해당 데이터는 [통계청](https://kosis.kr/statisticsList/statisticsListIndex.do?menuId=M_01_01&vwcd=MT_ZTITLE&parmTabId=M_01_01&outLink=Y&entrType=#content-group) 과 [기상청](https://data.kma.go.kr/data/grnd/selectAsosRltmList.do?pgmNo=36) 자료를 기반으로 편집했습니다.\n",
    "1. 분석의 목적과 변수 확인  \n",
    "2. 데이터 전체적으로 살펴보기  \n",
    "3. 데이터의 개별 속성 파악하기  "
   ]
  },
  {
   "cell_type": "code",
   "execution_count": 2,
   "id": "c81dc968",
   "metadata": {},
   "outputs": [],
   "source": [
    "## 라이브러리 불러오기\n",
    "\n",
    "import numpy as np\n",
    "import pandas as pd\n",
    "import matplotlib.pyplot as plt\n",
    "import seaborn as sns\n",
    "\n",
    "%matplotlib inline"
   ]
  },
  {
   "cell_type": "code",
   "execution_count": 3,
   "id": "0963ae5b",
   "metadata": {},
   "outputs": [],
   "source": [
    "## 데이터 불러오기\n",
    "\n",
    "rice_df = pd.read_csv(\"./Yield of Rice per 10ha in Korea.csv\")"
   ]
  },
  {
   "cell_type": "markdown",
   "id": "1b4e85a1",
   "metadata": {},
   "source": [
    "### 1. 분석의 목적과 변수 확인\n",
    "- 연간 기후와 조곡 생산량은 어떤 상관성이 있을까?"
   ]
  },
  {
   "cell_type": "code",
   "execution_count": 4,
   "id": "6af54cc1",
   "metadata": {
    "scrolled": true
   },
   "outputs": [
    {
     "data": {
      "text/html": [
       "<div>\n",
       "<style scoped>\n",
       "    .dataframe tbody tr th:only-of-type {\n",
       "        vertical-align: middle;\n",
       "    }\n",
       "\n",
       "    .dataframe tbody tr th {\n",
       "        vertical-align: top;\n",
       "    }\n",
       "\n",
       "    .dataframe thead th {\n",
       "        text-align: right;\n",
       "    }\n",
       "</style>\n",
       "<table border=\"1\" class=\"dataframe\">\n",
       "  <thead>\n",
       "    <tr style=\"text-align: right;\">\n",
       "      <th></th>\n",
       "      <th>행정구역</th>\n",
       "      <th>기후측정지점명</th>\n",
       "      <th>일시</th>\n",
       "      <th>평균기온(°C)</th>\n",
       "      <th>최저기온(°C)</th>\n",
       "      <th>최고기온(°C)</th>\n",
       "      <th>평균최저기온(°C)</th>\n",
       "      <th>평균최고기온(°C)</th>\n",
       "      <th>합계 강수량(mm)</th>\n",
       "      <th>일 최다 강수량(mm)</th>\n",
       "      <th>평균 상대습도(%)</th>\n",
       "      <th>합계 일조시간(hr)</th>\n",
       "      <th>일조율(%)</th>\n",
       "      <th>10a당 조곡 생산량(kg)</th>\n",
       "    </tr>\n",
       "  </thead>\n",
       "  <tbody>\n",
       "    <tr>\n",
       "      <th>0</th>\n",
       "      <td>강원도</td>\n",
       "      <td>춘천</td>\n",
       "      <td>1982</td>\n",
       "      <td>11.0</td>\n",
       "      <td>-17.8</td>\n",
       "      <td>35.5</td>\n",
       "      <td>5.6</td>\n",
       "      <td>17.8</td>\n",
       "      <td>927.6</td>\n",
       "      <td>67.6</td>\n",
       "      <td>72.3</td>\n",
       "      <td>2343.7</td>\n",
       "      <td>52.85</td>\n",
       "      <td>555</td>\n",
       "    </tr>\n",
       "    <tr>\n",
       "      <th>1</th>\n",
       "      <td>강원도</td>\n",
       "      <td>춘천</td>\n",
       "      <td>1983</td>\n",
       "      <td>11.1</td>\n",
       "      <td>-17.0</td>\n",
       "      <td>35.5</td>\n",
       "      <td>5.9</td>\n",
       "      <td>17.1</td>\n",
       "      <td>1153.7</td>\n",
       "      <td>108.1</td>\n",
       "      <td>73.4</td>\n",
       "      <td>2306.1</td>\n",
       "      <td>51.81</td>\n",
       "      <td>533</td>\n",
       "    </tr>\n",
       "    <tr>\n",
       "      <th>2</th>\n",
       "      <td>강원도</td>\n",
       "      <td>춘천</td>\n",
       "      <td>1984</td>\n",
       "      <td>10.5</td>\n",
       "      <td>-23.2</td>\n",
       "      <td>35.0</td>\n",
       "      <td>5.1</td>\n",
       "      <td>16.7</td>\n",
       "      <td>1342.2</td>\n",
       "      <td>260.0</td>\n",
       "      <td>71.1</td>\n",
       "      <td>2401.6</td>\n",
       "      <td>53.84</td>\n",
       "      <td>584</td>\n",
       "    </tr>\n",
       "    <tr>\n",
       "      <th>3</th>\n",
       "      <td>강원도</td>\n",
       "      <td>춘천</td>\n",
       "      <td>1985</td>\n",
       "      <td>10.8</td>\n",
       "      <td>-22.6</td>\n",
       "      <td>36.0</td>\n",
       "      <td>5.8</td>\n",
       "      <td>16.6</td>\n",
       "      <td>1191.5</td>\n",
       "      <td>82.0</td>\n",
       "      <td>70.2</td>\n",
       "      <td>2166.6</td>\n",
       "      <td>48.67</td>\n",
       "      <td>587</td>\n",
       "    </tr>\n",
       "    <tr>\n",
       "      <th>4</th>\n",
       "      <td>강원도</td>\n",
       "      <td>춘천</td>\n",
       "      <td>1986</td>\n",
       "      <td>10.3</td>\n",
       "      <td>-25.6</td>\n",
       "      <td>34.3</td>\n",
       "      <td>5.1</td>\n",
       "      <td>16.4</td>\n",
       "      <td>1021.6</td>\n",
       "      <td>71.0</td>\n",
       "      <td>69.8</td>\n",
       "      <td>2297.3</td>\n",
       "      <td>51.61</td>\n",
       "      <td>576</td>\n",
       "    </tr>\n",
       "  </tbody>\n",
       "</table>\n",
       "</div>"
      ],
      "text/plain": [
       "  행정구역 기후측정지점명    일시  평균기온(°C)  최저기온(°C)  최고기온(°C)  평균최저기온(°C)  평균최고기온(°C)  \\\n",
       "0  강원도      춘천  1982      11.0     -17.8      35.5         5.6        17.8   \n",
       "1  강원도      춘천  1983      11.1     -17.0      35.5         5.9        17.1   \n",
       "2  강원도      춘천  1984      10.5     -23.2      35.0         5.1        16.7   \n",
       "3  강원도      춘천  1985      10.8     -22.6      36.0         5.8        16.6   \n",
       "4  강원도      춘천  1986      10.3     -25.6      34.3         5.1        16.4   \n",
       "\n",
       "   합계 강수량(mm)  일 최다 강수량(mm)  평균 상대습도(%)  합계 일조시간(hr)  일조율(%)  10a당 조곡 생산량(kg)  \n",
       "0       927.6          67.6        72.3       2343.7   52.85              555  \n",
       "1      1153.7         108.1        73.4       2306.1   51.81              533  \n",
       "2      1342.2         260.0        71.1       2401.6   53.84              584  \n",
       "3      1191.5          82.0        70.2       2166.6   48.67              587  \n",
       "4      1021.6          71.0        69.8       2297.3   51.61              576  "
      ]
     },
     "execution_count": 4,
     "metadata": {},
     "output_type": "execute_result"
    }
   ],
   "source": [
    "## 상위 5개 데이터 확인하기\n",
    "\n",
    "rice_df.head(5)"
   ]
  },
  {
   "cell_type": "code",
   "execution_count": 5,
   "id": "d19a4290",
   "metadata": {},
   "outputs": [
    {
     "data": {
      "text/plain": [
       "행정구역                object\n",
       "기후측정지점명             object\n",
       "일시                   int64\n",
       "평균기온(°C)           float64\n",
       "최저기온(°C)           float64\n",
       "최고기온(°C)           float64\n",
       "평균최저기온(°C)         float64\n",
       "평균최고기온(°C)         float64\n",
       "합계 강수량(mm)         float64\n",
       "일 최다 강수량(mm)       float64\n",
       "평균 상대습도(%)         float64\n",
       "합계 일조시간(hr)        float64\n",
       "일조율(%)             float64\n",
       "10a당 조곡 생산량(kg)      int64\n",
       "dtype: object"
      ]
     },
     "execution_count": 5,
     "metadata": {},
     "output_type": "execute_result"
    }
   ],
   "source": [
    "## 각 Column의 데이터 타입 확인하기\n",
    "\n",
    "rice_df.dtypes"
   ]
  },
  {
   "cell_type": "markdown",
   "id": "b68e4a3a",
   "metadata": {},
   "source": [
    "### 2. 데이터 전체적으로 살펴보기"
   ]
  },
  {
   "cell_type": "code",
   "execution_count": 6,
   "id": "1cf67abb",
   "metadata": {},
   "outputs": [
    {
     "data": {
      "text/html": [
       "<div>\n",
       "<style scoped>\n",
       "    .dataframe tbody tr th:only-of-type {\n",
       "        vertical-align: middle;\n",
       "    }\n",
       "\n",
       "    .dataframe tbody tr th {\n",
       "        vertical-align: top;\n",
       "    }\n",
       "\n",
       "    .dataframe thead th {\n",
       "        text-align: right;\n",
       "    }\n",
       "</style>\n",
       "<table border=\"1\" class=\"dataframe\">\n",
       "  <thead>\n",
       "    <tr style=\"text-align: right;\">\n",
       "      <th></th>\n",
       "      <th>일시</th>\n",
       "      <th>평균기온(°C)</th>\n",
       "      <th>최저기온(°C)</th>\n",
       "      <th>최고기온(°C)</th>\n",
       "      <th>평균최저기온(°C)</th>\n",
       "      <th>평균최고기온(°C)</th>\n",
       "      <th>합계 강수량(mm)</th>\n",
       "      <th>일 최다 강수량(mm)</th>\n",
       "      <th>평균 상대습도(%)</th>\n",
       "      <th>합계 일조시간(hr)</th>\n",
       "      <th>일조율(%)</th>\n",
       "      <th>10a당 조곡 생산량(kg)</th>\n",
       "    </tr>\n",
       "  </thead>\n",
       "  <tbody>\n",
       "    <tr>\n",
       "      <th>count</th>\n",
       "      <td>312.000000</td>\n",
       "      <td>312.000000</td>\n",
       "      <td>312.000000</td>\n",
       "      <td>312.000000</td>\n",
       "      <td>312.000000</td>\n",
       "      <td>312.000000</td>\n",
       "      <td>312.000000</td>\n",
       "      <td>312.000000</td>\n",
       "      <td>312.000000</td>\n",
       "      <td>312.000000</td>\n",
       "      <td>312.000000</td>\n",
       "      <td>312.000000</td>\n",
       "    </tr>\n",
       "    <tr>\n",
       "      <th>mean</th>\n",
       "      <td>2001.000000</td>\n",
       "      <td>12.214423</td>\n",
       "      <td>-15.238141</td>\n",
       "      <td>35.179487</td>\n",
       "      <td>6.930128</td>\n",
       "      <td>18.310897</td>\n",
       "      <td>1236.869231</td>\n",
       "      <td>127.349038</td>\n",
       "      <td>70.797756</td>\n",
       "      <td>2249.455769</td>\n",
       "      <td>50.716827</td>\n",
       "      <td>651.881410</td>\n",
       "    </tr>\n",
       "    <tr>\n",
       "      <th>std</th>\n",
       "      <td>11.272708</td>\n",
       "      <td>1.016243</td>\n",
       "      <td>3.856158</td>\n",
       "      <td>1.592394</td>\n",
       "      <td>1.293835</td>\n",
       "      <td>1.093452</td>\n",
       "      <td>318.295314</td>\n",
       "      <td>53.290535</td>\n",
       "      <td>5.066144</td>\n",
       "      <td>251.581115</td>\n",
       "      <td>5.470317</td>\n",
       "      <td>54.156633</td>\n",
       "    </tr>\n",
       "    <tr>\n",
       "      <th>min</th>\n",
       "      <td>1982.000000</td>\n",
       "      <td>10.200000</td>\n",
       "      <td>-26.000000</td>\n",
       "      <td>30.300000</td>\n",
       "      <td>3.300000</td>\n",
       "      <td>16.200000</td>\n",
       "      <td>505.100000</td>\n",
       "      <td>33.700000</td>\n",
       "      <td>59.600000</td>\n",
       "      <td>1632.600000</td>\n",
       "      <td>38.930000</td>\n",
       "      <td>418.000000</td>\n",
       "    </tr>\n",
       "    <tr>\n",
       "      <th>25%</th>\n",
       "      <td>1991.000000</td>\n",
       "      <td>11.400000</td>\n",
       "      <td>-17.600000</td>\n",
       "      <td>34.200000</td>\n",
       "      <td>6.000000</td>\n",
       "      <td>17.500000</td>\n",
       "      <td>1012.850000</td>\n",
       "      <td>88.500000</td>\n",
       "      <td>67.050000</td>\n",
       "      <td>2078.000000</td>\n",
       "      <td>46.757500</td>\n",
       "      <td>615.000000</td>\n",
       "    </tr>\n",
       "    <tr>\n",
       "      <th>50%</th>\n",
       "      <td>2001.000000</td>\n",
       "      <td>12.100000</td>\n",
       "      <td>-15.300000</td>\n",
       "      <td>35.200000</td>\n",
       "      <td>7.000000</td>\n",
       "      <td>18.200000</td>\n",
       "      <td>1218.200000</td>\n",
       "      <td>116.750000</td>\n",
       "      <td>70.800000</td>\n",
       "      <td>2257.650000</td>\n",
       "      <td>50.750000</td>\n",
       "      <td>654.000000</td>\n",
       "    </tr>\n",
       "    <tr>\n",
       "      <th>75%</th>\n",
       "      <td>2011.000000</td>\n",
       "      <td>13.000000</td>\n",
       "      <td>-12.475000</td>\n",
       "      <td>36.100000</td>\n",
       "      <td>7.900000</td>\n",
       "      <td>19.000000</td>\n",
       "      <td>1429.900000</td>\n",
       "      <td>156.450000</td>\n",
       "      <td>74.300000</td>\n",
       "      <td>2385.500000</td>\n",
       "      <td>53.545000</td>\n",
       "      <td>689.000000</td>\n",
       "    </tr>\n",
       "    <tr>\n",
       "      <th>max</th>\n",
       "      <td>2020.000000</td>\n",
       "      <td>14.700000</td>\n",
       "      <td>-6.300000</td>\n",
       "      <td>40.400000</td>\n",
       "      <td>9.800000</td>\n",
       "      <td>21.700000</td>\n",
       "      <td>2313.300000</td>\n",
       "      <td>308.500000</td>\n",
       "      <td>86.000000</td>\n",
       "      <td>3313.800000</td>\n",
       "      <td>74.510000</td>\n",
       "      <td>772.000000</td>\n",
       "    </tr>\n",
       "  </tbody>\n",
       "</table>\n",
       "</div>"
      ],
      "text/plain": [
       "                일시    평균기온(°C)    최저기온(°C)    최고기온(°C)  평균최저기온(°C)  \\\n",
       "count   312.000000  312.000000  312.000000  312.000000  312.000000   \n",
       "mean   2001.000000   12.214423  -15.238141   35.179487    6.930128   \n",
       "std      11.272708    1.016243    3.856158    1.592394    1.293835   \n",
       "min    1982.000000   10.200000  -26.000000   30.300000    3.300000   \n",
       "25%    1991.000000   11.400000  -17.600000   34.200000    6.000000   \n",
       "50%    2001.000000   12.100000  -15.300000   35.200000    7.000000   \n",
       "75%    2011.000000   13.000000  -12.475000   36.100000    7.900000   \n",
       "max    2020.000000   14.700000   -6.300000   40.400000    9.800000   \n",
       "\n",
       "       평균최고기온(°C)   합계 강수량(mm)  일 최다 강수량(mm)  평균 상대습도(%)  합계 일조시간(hr)  \\\n",
       "count  312.000000   312.000000    312.000000  312.000000   312.000000   \n",
       "mean    18.310897  1236.869231    127.349038   70.797756  2249.455769   \n",
       "std      1.093452   318.295314     53.290535    5.066144   251.581115   \n",
       "min     16.200000   505.100000     33.700000   59.600000  1632.600000   \n",
       "25%     17.500000  1012.850000     88.500000   67.050000  2078.000000   \n",
       "50%     18.200000  1218.200000    116.750000   70.800000  2257.650000   \n",
       "75%     19.000000  1429.900000    156.450000   74.300000  2385.500000   \n",
       "max     21.700000  2313.300000    308.500000   86.000000  3313.800000   \n",
       "\n",
       "           일조율(%)  10a당 조곡 생산량(kg)  \n",
       "count  312.000000       312.000000  \n",
       "mean    50.716827       651.881410  \n",
       "std      5.470317        54.156633  \n",
       "min     38.930000       418.000000  \n",
       "25%     46.757500       615.000000  \n",
       "50%     50.750000       654.000000  \n",
       "75%     53.545000       689.000000  \n",
       "max     74.510000       772.000000  "
      ]
     },
     "execution_count": 6,
     "metadata": {},
     "output_type": "execute_result"
    }
   ],
   "source": [
    "rice_df.describe()"
   ]
  },
  {
   "cell_type": "code",
   "execution_count": 7,
   "id": "10399ffc",
   "metadata": {},
   "outputs": [
    {
     "data": {
      "text/html": [
       "<div>\n",
       "<style scoped>\n",
       "    .dataframe tbody tr th:only-of-type {\n",
       "        vertical-align: middle;\n",
       "    }\n",
       "\n",
       "    .dataframe tbody tr th {\n",
       "        vertical-align: top;\n",
       "    }\n",
       "\n",
       "    .dataframe thead th {\n",
       "        text-align: right;\n",
       "    }\n",
       "</style>\n",
       "<table border=\"1\" class=\"dataframe\">\n",
       "  <thead>\n",
       "    <tr style=\"text-align: right;\">\n",
       "      <th></th>\n",
       "      <th>일시</th>\n",
       "      <th>평균기온(°C)</th>\n",
       "      <th>최저기온(°C)</th>\n",
       "      <th>최고기온(°C)</th>\n",
       "      <th>평균최저기온(°C)</th>\n",
       "      <th>평균최고기온(°C)</th>\n",
       "      <th>합계 강수량(mm)</th>\n",
       "      <th>일 최다 강수량(mm)</th>\n",
       "      <th>평균 상대습도(%)</th>\n",
       "      <th>합계 일조시간(hr)</th>\n",
       "      <th>일조율(%)</th>\n",
       "      <th>10a당 조곡 생산량(kg)</th>\n",
       "    </tr>\n",
       "  </thead>\n",
       "  <tbody>\n",
       "    <tr>\n",
       "      <th>일시</th>\n",
       "      <td>1.000000</td>\n",
       "      <td>0.300385</td>\n",
       "      <td>0.085450</td>\n",
       "      <td>0.254235</td>\n",
       "      <td>0.211643</td>\n",
       "      <td>0.267932</td>\n",
       "      <td>-0.004941</td>\n",
       "      <td>-0.023179</td>\n",
       "      <td>-0.318299</td>\n",
       "      <td>-0.308869</td>\n",
       "      <td>-0.325546</td>\n",
       "      <td>0.457198</td>\n",
       "    </tr>\n",
       "    <tr>\n",
       "      <th>평균기온(°C)</th>\n",
       "      <td>0.300385</td>\n",
       "      <td>1.000000</td>\n",
       "      <td>0.696874</td>\n",
       "      <td>0.131224</td>\n",
       "      <td>0.874072</td>\n",
       "      <td>0.735418</td>\n",
       "      <td>0.031624</td>\n",
       "      <td>-0.034266</td>\n",
       "      <td>0.045280</td>\n",
       "      <td>0.029772</td>\n",
       "      <td>0.038983</td>\n",
       "      <td>0.235170</td>\n",
       "    </tr>\n",
       "    <tr>\n",
       "      <th>최저기온(°C)</th>\n",
       "      <td>0.085450</td>\n",
       "      <td>0.696874</td>\n",
       "      <td>1.000000</td>\n",
       "      <td>-0.159100</td>\n",
       "      <td>0.669847</td>\n",
       "      <td>0.423315</td>\n",
       "      <td>-0.054524</td>\n",
       "      <td>-0.064550</td>\n",
       "      <td>0.163448</td>\n",
       "      <td>0.034924</td>\n",
       "      <td>0.060458</td>\n",
       "      <td>0.144470</td>\n",
       "    </tr>\n",
       "    <tr>\n",
       "      <th>최고기온(°C)</th>\n",
       "      <td>0.254235</td>\n",
       "      <td>0.131224</td>\n",
       "      <td>-0.159100</td>\n",
       "      <td>1.000000</td>\n",
       "      <td>-0.113503</td>\n",
       "      <td>0.437531</td>\n",
       "      <td>-0.306641</td>\n",
       "      <td>-0.137708</td>\n",
       "      <td>-0.333399</td>\n",
       "      <td>0.200157</td>\n",
       "      <td>0.194822</td>\n",
       "      <td>0.188930</td>\n",
       "    </tr>\n",
       "    <tr>\n",
       "      <th>평균최저기온(°C)</th>\n",
       "      <td>0.211643</td>\n",
       "      <td>0.874072</td>\n",
       "      <td>0.669847</td>\n",
       "      <td>-0.113503</td>\n",
       "      <td>1.000000</td>\n",
       "      <td>0.330778</td>\n",
       "      <td>0.221405</td>\n",
       "      <td>0.073108</td>\n",
       "      <td>0.283852</td>\n",
       "      <td>0.022783</td>\n",
       "      <td>0.021507</td>\n",
       "      <td>0.252886</td>\n",
       "    </tr>\n",
       "    <tr>\n",
       "      <th>평균최고기온(°C)</th>\n",
       "      <td>0.267932</td>\n",
       "      <td>0.735418</td>\n",
       "      <td>0.423315</td>\n",
       "      <td>0.437531</td>\n",
       "      <td>0.330778</td>\n",
       "      <td>1.000000</td>\n",
       "      <td>-0.234421</td>\n",
       "      <td>-0.179395</td>\n",
       "      <td>-0.315120</td>\n",
       "      <td>0.019126</td>\n",
       "      <td>0.034781</td>\n",
       "      <td>0.104009</td>\n",
       "    </tr>\n",
       "    <tr>\n",
       "      <th>합계 강수량(mm)</th>\n",
       "      <td>-0.004941</td>\n",
       "      <td>0.031624</td>\n",
       "      <td>-0.054524</td>\n",
       "      <td>-0.306641</td>\n",
       "      <td>0.221405</td>\n",
       "      <td>-0.234421</td>\n",
       "      <td>1.000000</td>\n",
       "      <td>0.603707</td>\n",
       "      <td>0.128049</td>\n",
       "      <td>-0.286347</td>\n",
       "      <td>-0.304139</td>\n",
       "      <td>-0.290353</td>\n",
       "    </tr>\n",
       "    <tr>\n",
       "      <th>일 최다 강수량(mm)</th>\n",
       "      <td>-0.023179</td>\n",
       "      <td>-0.034266</td>\n",
       "      <td>-0.064550</td>\n",
       "      <td>-0.137708</td>\n",
       "      <td>0.073108</td>\n",
       "      <td>-0.179395</td>\n",
       "      <td>0.603707</td>\n",
       "      <td>1.000000</td>\n",
       "      <td>0.012011</td>\n",
       "      <td>-0.131556</td>\n",
       "      <td>-0.131692</td>\n",
       "      <td>-0.166952</td>\n",
       "    </tr>\n",
       "    <tr>\n",
       "      <th>평균 상대습도(%)</th>\n",
       "      <td>-0.318299</td>\n",
       "      <td>0.045280</td>\n",
       "      <td>0.163448</td>\n",
       "      <td>-0.333399</td>\n",
       "      <td>0.283852</td>\n",
       "      <td>-0.315120</td>\n",
       "      <td>0.128049</td>\n",
       "      <td>0.012011</td>\n",
       "      <td>1.000000</td>\n",
       "      <td>0.180242</td>\n",
       "      <td>0.135661</td>\n",
       "      <td>0.005192</td>\n",
       "    </tr>\n",
       "    <tr>\n",
       "      <th>합계 일조시간(hr)</th>\n",
       "      <td>-0.308869</td>\n",
       "      <td>0.029772</td>\n",
       "      <td>0.034924</td>\n",
       "      <td>0.200157</td>\n",
       "      <td>0.022783</td>\n",
       "      <td>0.019126</td>\n",
       "      <td>-0.286347</td>\n",
       "      <td>-0.131556</td>\n",
       "      <td>0.180242</td>\n",
       "      <td>1.000000</td>\n",
       "      <td>0.964338</td>\n",
       "      <td>0.084718</td>\n",
       "    </tr>\n",
       "    <tr>\n",
       "      <th>일조율(%)</th>\n",
       "      <td>-0.325546</td>\n",
       "      <td>0.038983</td>\n",
       "      <td>0.060458</td>\n",
       "      <td>0.194822</td>\n",
       "      <td>0.021507</td>\n",
       "      <td>0.034781</td>\n",
       "      <td>-0.304139</td>\n",
       "      <td>-0.131692</td>\n",
       "      <td>0.135661</td>\n",
       "      <td>0.964338</td>\n",
       "      <td>1.000000</td>\n",
       "      <td>0.090849</td>\n",
       "    </tr>\n",
       "    <tr>\n",
       "      <th>10a당 조곡 생산량(kg)</th>\n",
       "      <td>0.457198</td>\n",
       "      <td>0.235170</td>\n",
       "      <td>0.144470</td>\n",
       "      <td>0.188930</td>\n",
       "      <td>0.252886</td>\n",
       "      <td>0.104009</td>\n",
       "      <td>-0.290353</td>\n",
       "      <td>-0.166952</td>\n",
       "      <td>0.005192</td>\n",
       "      <td>0.084718</td>\n",
       "      <td>0.090849</td>\n",
       "      <td>1.000000</td>\n",
       "    </tr>\n",
       "  </tbody>\n",
       "</table>\n",
       "</div>"
      ],
      "text/plain": [
       "                       일시  평균기온(°C)  최저기온(°C)  최고기온(°C)  평균최저기온(°C)  \\\n",
       "일시               1.000000  0.300385  0.085450  0.254235    0.211643   \n",
       "평균기온(°C)         0.300385  1.000000  0.696874  0.131224    0.874072   \n",
       "최저기온(°C)         0.085450  0.696874  1.000000 -0.159100    0.669847   \n",
       "최고기온(°C)         0.254235  0.131224 -0.159100  1.000000   -0.113503   \n",
       "평균최저기온(°C)       0.211643  0.874072  0.669847 -0.113503    1.000000   \n",
       "평균최고기온(°C)       0.267932  0.735418  0.423315  0.437531    0.330778   \n",
       "합계 강수량(mm)      -0.004941  0.031624 -0.054524 -0.306641    0.221405   \n",
       "일 최다 강수량(mm)    -0.023179 -0.034266 -0.064550 -0.137708    0.073108   \n",
       "평균 상대습도(%)      -0.318299  0.045280  0.163448 -0.333399    0.283852   \n",
       "합계 일조시간(hr)     -0.308869  0.029772  0.034924  0.200157    0.022783   \n",
       "일조율(%)          -0.325546  0.038983  0.060458  0.194822    0.021507   \n",
       "10a당 조곡 생산량(kg)  0.457198  0.235170  0.144470  0.188930    0.252886   \n",
       "\n",
       "                 평균최고기온(°C)  합계 강수량(mm)  일 최다 강수량(mm)  평균 상대습도(%)  \\\n",
       "일시                 0.267932   -0.004941     -0.023179   -0.318299   \n",
       "평균기온(°C)           0.735418    0.031624     -0.034266    0.045280   \n",
       "최저기온(°C)           0.423315   -0.054524     -0.064550    0.163448   \n",
       "최고기온(°C)           0.437531   -0.306641     -0.137708   -0.333399   \n",
       "평균최저기온(°C)         0.330778    0.221405      0.073108    0.283852   \n",
       "평균최고기온(°C)         1.000000   -0.234421     -0.179395   -0.315120   \n",
       "합계 강수량(mm)        -0.234421    1.000000      0.603707    0.128049   \n",
       "일 최다 강수량(mm)      -0.179395    0.603707      1.000000    0.012011   \n",
       "평균 상대습도(%)        -0.315120    0.128049      0.012011    1.000000   \n",
       "합계 일조시간(hr)        0.019126   -0.286347     -0.131556    0.180242   \n",
       "일조율(%)             0.034781   -0.304139     -0.131692    0.135661   \n",
       "10a당 조곡 생산량(kg)    0.104009   -0.290353     -0.166952    0.005192   \n",
       "\n",
       "                 합계 일조시간(hr)    일조율(%)  10a당 조곡 생산량(kg)  \n",
       "일시                 -0.308869 -0.325546         0.457198  \n",
       "평균기온(°C)            0.029772  0.038983         0.235170  \n",
       "최저기온(°C)            0.034924  0.060458         0.144470  \n",
       "최고기온(°C)            0.200157  0.194822         0.188930  \n",
       "평균최저기온(°C)          0.022783  0.021507         0.252886  \n",
       "평균최고기온(°C)          0.019126  0.034781         0.104009  \n",
       "합계 강수량(mm)         -0.286347 -0.304139        -0.290353  \n",
       "일 최다 강수량(mm)       -0.131556 -0.131692        -0.166952  \n",
       "평균 상대습도(%)          0.180242  0.135661         0.005192  \n",
       "합계 일조시간(hr)         1.000000  0.964338         0.084718  \n",
       "일조율(%)              0.964338  1.000000         0.090849  \n",
       "10a당 조곡 생산량(kg)     0.084718  0.090849         1.000000  "
      ]
     },
     "execution_count": 7,
     "metadata": {},
     "output_type": "execute_result"
    }
   ],
   "source": [
    "## 상관계수 확인\n",
    "\n",
    "rice_df.corr()"
   ]
  },
  {
   "cell_type": "code",
   "execution_count": 8,
   "id": "553af92e",
   "metadata": {},
   "outputs": [
    {
     "data": {
      "text/html": [
       "<div>\n",
       "<style scoped>\n",
       "    .dataframe tbody tr th:only-of-type {\n",
       "        vertical-align: middle;\n",
       "    }\n",
       "\n",
       "    .dataframe tbody tr th {\n",
       "        vertical-align: top;\n",
       "    }\n",
       "\n",
       "    .dataframe thead th {\n",
       "        text-align: right;\n",
       "    }\n",
       "</style>\n",
       "<table border=\"1\" class=\"dataframe\">\n",
       "  <thead>\n",
       "    <tr style=\"text-align: right;\">\n",
       "      <th></th>\n",
       "      <th>행정구역</th>\n",
       "      <th>기후측정지점명</th>\n",
       "      <th>일시</th>\n",
       "      <th>평균기온(°C)</th>\n",
       "      <th>최저기온(°C)</th>\n",
       "      <th>최고기온(°C)</th>\n",
       "      <th>평균최저기온(°C)</th>\n",
       "      <th>평균최고기온(°C)</th>\n",
       "      <th>합계 강수량(mm)</th>\n",
       "      <th>일 최다 강수량(mm)</th>\n",
       "      <th>평균 상대습도(%)</th>\n",
       "      <th>합계 일조시간(hr)</th>\n",
       "      <th>일조율(%)</th>\n",
       "      <th>10a당 조곡 생산량(kg)</th>\n",
       "    </tr>\n",
       "  </thead>\n",
       "  <tbody>\n",
       "    <tr>\n",
       "      <th>0</th>\n",
       "      <td>False</td>\n",
       "      <td>False</td>\n",
       "      <td>False</td>\n",
       "      <td>False</td>\n",
       "      <td>False</td>\n",
       "      <td>False</td>\n",
       "      <td>False</td>\n",
       "      <td>False</td>\n",
       "      <td>False</td>\n",
       "      <td>False</td>\n",
       "      <td>False</td>\n",
       "      <td>False</td>\n",
       "      <td>False</td>\n",
       "      <td>False</td>\n",
       "    </tr>\n",
       "    <tr>\n",
       "      <th>1</th>\n",
       "      <td>False</td>\n",
       "      <td>False</td>\n",
       "      <td>False</td>\n",
       "      <td>False</td>\n",
       "      <td>False</td>\n",
       "      <td>False</td>\n",
       "      <td>False</td>\n",
       "      <td>False</td>\n",
       "      <td>False</td>\n",
       "      <td>False</td>\n",
       "      <td>False</td>\n",
       "      <td>False</td>\n",
       "      <td>False</td>\n",
       "      <td>False</td>\n",
       "    </tr>\n",
       "    <tr>\n",
       "      <th>2</th>\n",
       "      <td>False</td>\n",
       "      <td>False</td>\n",
       "      <td>False</td>\n",
       "      <td>False</td>\n",
       "      <td>False</td>\n",
       "      <td>False</td>\n",
       "      <td>False</td>\n",
       "      <td>False</td>\n",
       "      <td>False</td>\n",
       "      <td>False</td>\n",
       "      <td>False</td>\n",
       "      <td>False</td>\n",
       "      <td>False</td>\n",
       "      <td>False</td>\n",
       "    </tr>\n",
       "    <tr>\n",
       "      <th>3</th>\n",
       "      <td>False</td>\n",
       "      <td>False</td>\n",
       "      <td>False</td>\n",
       "      <td>False</td>\n",
       "      <td>False</td>\n",
       "      <td>False</td>\n",
       "      <td>False</td>\n",
       "      <td>False</td>\n",
       "      <td>False</td>\n",
       "      <td>False</td>\n",
       "      <td>False</td>\n",
       "      <td>False</td>\n",
       "      <td>False</td>\n",
       "      <td>False</td>\n",
       "    </tr>\n",
       "    <tr>\n",
       "      <th>4</th>\n",
       "      <td>False</td>\n",
       "      <td>False</td>\n",
       "      <td>False</td>\n",
       "      <td>False</td>\n",
       "      <td>False</td>\n",
       "      <td>False</td>\n",
       "      <td>False</td>\n",
       "      <td>False</td>\n",
       "      <td>False</td>\n",
       "      <td>False</td>\n",
       "      <td>False</td>\n",
       "      <td>False</td>\n",
       "      <td>False</td>\n",
       "      <td>False</td>\n",
       "    </tr>\n",
       "    <tr>\n",
       "      <th>...</th>\n",
       "      <td>...</td>\n",
       "      <td>...</td>\n",
       "      <td>...</td>\n",
       "      <td>...</td>\n",
       "      <td>...</td>\n",
       "      <td>...</td>\n",
       "      <td>...</td>\n",
       "      <td>...</td>\n",
       "      <td>...</td>\n",
       "      <td>...</td>\n",
       "      <td>...</td>\n",
       "      <td>...</td>\n",
       "      <td>...</td>\n",
       "      <td>...</td>\n",
       "    </tr>\n",
       "    <tr>\n",
       "      <th>307</th>\n",
       "      <td>False</td>\n",
       "      <td>False</td>\n",
       "      <td>False</td>\n",
       "      <td>False</td>\n",
       "      <td>False</td>\n",
       "      <td>False</td>\n",
       "      <td>False</td>\n",
       "      <td>False</td>\n",
       "      <td>False</td>\n",
       "      <td>False</td>\n",
       "      <td>False</td>\n",
       "      <td>False</td>\n",
       "      <td>False</td>\n",
       "      <td>False</td>\n",
       "    </tr>\n",
       "    <tr>\n",
       "      <th>308</th>\n",
       "      <td>False</td>\n",
       "      <td>False</td>\n",
       "      <td>False</td>\n",
       "      <td>False</td>\n",
       "      <td>False</td>\n",
       "      <td>False</td>\n",
       "      <td>False</td>\n",
       "      <td>False</td>\n",
       "      <td>False</td>\n",
       "      <td>False</td>\n",
       "      <td>False</td>\n",
       "      <td>False</td>\n",
       "      <td>False</td>\n",
       "      <td>False</td>\n",
       "    </tr>\n",
       "    <tr>\n",
       "      <th>309</th>\n",
       "      <td>False</td>\n",
       "      <td>False</td>\n",
       "      <td>False</td>\n",
       "      <td>False</td>\n",
       "      <td>False</td>\n",
       "      <td>False</td>\n",
       "      <td>False</td>\n",
       "      <td>False</td>\n",
       "      <td>False</td>\n",
       "      <td>False</td>\n",
       "      <td>False</td>\n",
       "      <td>False</td>\n",
       "      <td>False</td>\n",
       "      <td>False</td>\n",
       "    </tr>\n",
       "    <tr>\n",
       "      <th>310</th>\n",
       "      <td>False</td>\n",
       "      <td>False</td>\n",
       "      <td>False</td>\n",
       "      <td>False</td>\n",
       "      <td>False</td>\n",
       "      <td>False</td>\n",
       "      <td>False</td>\n",
       "      <td>False</td>\n",
       "      <td>False</td>\n",
       "      <td>False</td>\n",
       "      <td>False</td>\n",
       "      <td>False</td>\n",
       "      <td>False</td>\n",
       "      <td>False</td>\n",
       "    </tr>\n",
       "    <tr>\n",
       "      <th>311</th>\n",
       "      <td>False</td>\n",
       "      <td>False</td>\n",
       "      <td>False</td>\n",
       "      <td>False</td>\n",
       "      <td>False</td>\n",
       "      <td>False</td>\n",
       "      <td>False</td>\n",
       "      <td>False</td>\n",
       "      <td>False</td>\n",
       "      <td>False</td>\n",
       "      <td>False</td>\n",
       "      <td>False</td>\n",
       "      <td>False</td>\n",
       "      <td>False</td>\n",
       "    </tr>\n",
       "  </tbody>\n",
       "</table>\n",
       "<p>312 rows × 14 columns</p>\n",
       "</div>"
      ],
      "text/plain": [
       "      행정구역  기후측정지점명     일시  평균기온(°C)  최저기온(°C)  최고기온(°C)  평균최저기온(°C)  \\\n",
       "0    False    False  False     False     False     False       False   \n",
       "1    False    False  False     False     False     False       False   \n",
       "2    False    False  False     False     False     False       False   \n",
       "3    False    False  False     False     False     False       False   \n",
       "4    False    False  False     False     False     False       False   \n",
       "..     ...      ...    ...       ...       ...       ...         ...   \n",
       "307  False    False  False     False     False     False       False   \n",
       "308  False    False  False     False     False     False       False   \n",
       "309  False    False  False     False     False     False       False   \n",
       "310  False    False  False     False     False     False       False   \n",
       "311  False    False  False     False     False     False       False   \n",
       "\n",
       "     평균최고기온(°C)  합계 강수량(mm)  일 최다 강수량(mm)  평균 상대습도(%)  합계 일조시간(hr)  일조율(%)  \\\n",
       "0         False       False         False       False        False   False   \n",
       "1         False       False         False       False        False   False   \n",
       "2         False       False         False       False        False   False   \n",
       "3         False       False         False       False        False   False   \n",
       "4         False       False         False       False        False   False   \n",
       "..          ...         ...           ...         ...          ...     ...   \n",
       "307       False       False         False       False        False   False   \n",
       "308       False       False         False       False        False   False   \n",
       "309       False       False         False       False        False   False   \n",
       "310       False       False         False       False        False   False   \n",
       "311       False       False         False       False        False   False   \n",
       "\n",
       "     10a당 조곡 생산량(kg)  \n",
       "0              False  \n",
       "1              False  \n",
       "2              False  \n",
       "3              False  \n",
       "4              False  \n",
       "..               ...  \n",
       "307            False  \n",
       "308            False  \n",
       "309            False  \n",
       "310            False  \n",
       "311            False  \n",
       "\n",
       "[312 rows x 14 columns]"
      ]
     },
     "execution_count": 8,
     "metadata": {},
     "output_type": "execute_result"
    }
   ],
   "source": [
    "## 결측치 확인\n",
    "\n",
    "rice_df.isnull()"
   ]
  },
  {
   "cell_type": "code",
   "execution_count": 9,
   "id": "fd4be13e",
   "metadata": {},
   "outputs": [
    {
     "data": {
      "text/plain": [
       "행정구역               0\n",
       "기후측정지점명            0\n",
       "일시                 0\n",
       "평균기온(°C)           0\n",
       "최저기온(°C)           0\n",
       "최고기온(°C)           0\n",
       "평균최저기온(°C)         0\n",
       "평균최고기온(°C)         0\n",
       "합계 강수량(mm)         0\n",
       "일 최다 강수량(mm)       0\n",
       "평균 상대습도(%)         0\n",
       "합계 일조시간(hr)        0\n",
       "일조율(%)             0\n",
       "10a당 조곡 생산량(kg)    0\n",
       "dtype: int64"
      ]
     },
     "execution_count": 9,
     "metadata": {},
     "output_type": "execute_result"
    }
   ],
   "source": [
    "rice_df.isnull().sum()"
   ]
  },
  {
   "cell_type": "markdown",
   "id": "a4e30e1d",
   "metadata": {},
   "source": [
    "### 3. 데이터의 개별 속성 파악하기"
   ]
  },
  {
   "cell_type": "markdown",
   "id": "825f215d",
   "metadata": {},
   "source": [
    "#### 1. 행정구역, 기후측정지점명"
   ]
  },
  {
   "cell_type": "code",
   "execution_count": 10,
   "id": "fde6ff82",
   "metadata": {},
   "outputs": [
    {
     "data": {
      "text/plain": [
       "경기도이천     39\n",
       "경상남도밀양    39\n",
       "전라북도부안    39\n",
       "전라남도해남    39\n",
       "충청남도서산    39\n",
       "경상북도의성    39\n",
       "강원도춘천     39\n",
       "충청북도충주    39\n",
       "dtype: int64"
      ]
     },
     "execution_count": 10,
     "metadata": {},
     "output_type": "execute_result"
    }
   ],
   "source": [
    "region_df = rice_df['행정구역'] + rice_df['기후측정지점명']\n",
    "region_df.value_counts()\n",
    "\n",
    "## 행정구역에 기후측정지점이 몇 종류 있는지 확인한 결과,\n",
    "## 해당 자료는 행정구역별로 기후측정지점이 하나 있도록 선가공이 되었다."
   ]
  },
  {
   "cell_type": "markdown",
   "id": "e8a34fcf",
   "metadata": {},
   "source": [
    "#### 2. 일시"
   ]
  },
  {
   "cell_type": "code",
   "execution_count": 11,
   "id": "4dda7728",
   "metadata": {},
   "outputs": [
    {
     "data": {
      "text/plain": [
       "1982    8\n",
       "2011    8\n",
       "2004    8\n",
       "2005    8\n",
       "2006    8\n",
       "2007    8\n",
       "2008    8\n",
       "2009    8\n",
       "2010    8\n",
       "2012    8\n",
       "2002    8\n",
       "2013    8\n",
       "2014    8\n",
       "2015    8\n",
       "2016    8\n",
       "2017    8\n",
       "2018    8\n",
       "2019    8\n",
       "2003    8\n",
       "2001    8\n",
       "1983    8\n",
       "1991    8\n",
       "1984    8\n",
       "1985    8\n",
       "1986    8\n",
       "1987    8\n",
       "1988    8\n",
       "1989    8\n",
       "1990    8\n",
       "1992    8\n",
       "2000    8\n",
       "1993    8\n",
       "1994    8\n",
       "1995    8\n",
       "1996    8\n",
       "1997    8\n",
       "1998    8\n",
       "1999    8\n",
       "2020    8\n",
       "Name: 일시, dtype: int64"
      ]
     },
     "execution_count": 11,
     "metadata": {},
     "output_type": "execute_result"
    }
   ],
   "source": [
    "rice_df['일시'].value_counts()\n",
    "\n",
    "## 일시(실제로는 년도)는 각각 행정구역 팔도에 맞춰 있는 것으로 보아\n",
    "## 해당 자료는 한 일시(년도)에 팔도의 데이터가 한 세트씩 있도록 선가공이 되었다."
   ]
  },
  {
   "cell_type": "markdown",
   "id": "554d52db",
   "metadata": {},
   "source": [
    "#### 3-1. 10a당 조곡 생산량(kg) - 지역별"
   ]
  },
  {
   "cell_type": "code",
   "execution_count": 12,
   "id": "17582872",
   "metadata": {},
   "outputs": [
    {
     "data": {
      "text/html": [
       "<div>\n",
       "<style scoped>\n",
       "    .dataframe tbody tr th:only-of-type {\n",
       "        vertical-align: middle;\n",
       "    }\n",
       "\n",
       "    .dataframe tbody tr th {\n",
       "        vertical-align: top;\n",
       "    }\n",
       "\n",
       "    .dataframe thead th {\n",
       "        text-align: right;\n",
       "    }\n",
       "</style>\n",
       "<table border=\"1\" class=\"dataframe\">\n",
       "  <thead>\n",
       "    <tr style=\"text-align: right;\">\n",
       "      <th></th>\n",
       "      <th>10a당 조곡 생산량(kg)</th>\n",
       "    </tr>\n",
       "    <tr>\n",
       "      <th>행정구역</th>\n",
       "      <th></th>\n",
       "    </tr>\n",
       "  </thead>\n",
       "  <tbody>\n",
       "    <tr>\n",
       "      <th>강원도</th>\n",
       "      <td>617.769231</td>\n",
       "    </tr>\n",
       "    <tr>\n",
       "      <th>경기도</th>\n",
       "      <td>624.538462</td>\n",
       "    </tr>\n",
       "    <tr>\n",
       "      <th>경상남도</th>\n",
       "      <td>623.512821</td>\n",
       "    </tr>\n",
       "    <tr>\n",
       "      <th>경상북도</th>\n",
       "      <td>657.205128</td>\n",
       "    </tr>\n",
       "    <tr>\n",
       "      <th>전라남도</th>\n",
       "      <td>639.871795</td>\n",
       "    </tr>\n",
       "    <tr>\n",
       "      <th>전라북도</th>\n",
       "      <td>698.974359</td>\n",
       "    </tr>\n",
       "    <tr>\n",
       "      <th>충청남도</th>\n",
       "      <td>697.487179</td>\n",
       "    </tr>\n",
       "    <tr>\n",
       "      <th>충청북도</th>\n",
       "      <td>655.692308</td>\n",
       "    </tr>\n",
       "  </tbody>\n",
       "</table>\n",
       "</div>"
      ],
      "text/plain": [
       "      10a당 조곡 생산량(kg)\n",
       "행정구역                 \n",
       "강원도        617.769231\n",
       "경기도        624.538462\n",
       "경상남도       623.512821\n",
       "경상북도       657.205128\n",
       "전라남도       639.871795\n",
       "전라북도       698.974359\n",
       "충청남도       697.487179\n",
       "충청북도       655.692308"
      ]
     },
     "execution_count": 12,
     "metadata": {},
     "output_type": "execute_result"
    }
   ],
   "source": [
    "region_pdf = rice_df[['행정구역', '10a당 조곡 생산량(kg)']].groupby(['행정구역']).mean()\n",
    "region_pdf"
   ]
  },
  {
   "cell_type": "code",
   "execution_count": 13,
   "id": "231edd1a",
   "metadata": {},
   "outputs": [
    {
     "name": "stdout",
     "output_type": "stream",
     "text": [
      "C:\\Users\\user\\anaconda3\\envs\\GreppSchool\\lib\\site-packages\\matplotlib\\mpl-data\\matplotlibrc\n"
     ]
    }
   ],
   "source": [
    "import matplotlib as mpl\n",
    "\n",
    "print(mpl.matplotlib_fname())"
   ]
  },
  {
   "cell_type": "code",
   "execution_count": 14,
   "id": "24c384d1",
   "metadata": {},
   "outputs": [
    {
     "name": "stdout",
     "output_type": "stream",
     "text": [
      "C:\\Users\\user\\.matplotlib\n"
     ]
    }
   ],
   "source": [
    "print(mpl.get_cachedir())"
   ]
  },
  {
   "cell_type": "code",
   "execution_count": 17,
   "id": "633c2fb2",
   "metadata": {},
   "outputs": [],
   "source": [
    "mpl.rcParams['font.family'] = 'MaruBuri-Regular'\n",
    "mpl.rcParams['font.size'] = 12"
   ]
  },
  {
   "cell_type": "code",
   "execution_count": 18,
   "id": "3c756301",
   "metadata": {},
   "outputs": [
    {
     "data": {
      "text/plain": [
       "<AxesSubplot:xlabel='행정구역'>"
      ]
     },
     "execution_count": 18,
     "metadata": {},
     "output_type": "execute_result"
    },
    {
     "data": {
      "image/png": "[encoded data removed]",
      "text/plain": [
       "<Figure size 432x288 with 1 Axes>"
      ]
     },
     "metadata": {
      "needs_background": "light"
     },
     "output_type": "display_data"
    }
   ],
   "source": [
    "region_pdf.plot.bar()\n",
    "\n",
    "## 행정구역 팔도 중 전라북도, 충청남도의 면적당 생산량이 유독 높은데\n",
    "## 나머지 전라도/경상도의 생산량이 높지 않은 것으로 보아\n",
    "## 한국 내 위도 차이가 상관성이 있다기보다는\n",
    "## 현 통계로는 알 수 없는 지리적 특징 등과의 상관성이 있을 것이다."
   ]
  },
  {
   "cell_type": "markdown",
   "id": "92ff73f1",
   "metadata": {},
   "source": [
    "#### 3-2. 10a당 조곡 생산량(kg) - 연도별"
   ]
  },
  {
   "cell_type": "code",
   "execution_count": 20,
   "id": "8b0fd43b",
   "metadata": {},
   "outputs": [
    {
     "data": {
      "text/html": [
       "<div>\n",
       "<style scoped>\n",
       "    .dataframe tbody tr th:only-of-type {\n",
       "        vertical-align: middle;\n",
       "    }\n",
       "\n",
       "    .dataframe tbody tr th {\n",
       "        vertical-align: top;\n",
       "    }\n",
       "\n",
       "    .dataframe thead th {\n",
       "        text-align: right;\n",
       "    }\n",
       "</style>\n",
       "<table border=\"1\" class=\"dataframe\">\n",
       "  <thead>\n",
       "    <tr style=\"text-align: right;\">\n",
       "      <th></th>\n",
       "      <th>10a당 조곡 생산량(kg)</th>\n",
       "    </tr>\n",
       "    <tr>\n",
       "      <th>일시</th>\n",
       "      <th></th>\n",
       "    </tr>\n",
       "  </thead>\n",
       "  <tbody>\n",
       "    <tr>\n",
       "      <th>1982</th>\n",
       "      <td>612.375</td>\n",
       "    </tr>\n",
       "    <tr>\n",
       "      <th>1983</th>\n",
       "      <td>614.875</td>\n",
       "    </tr>\n",
       "    <tr>\n",
       "      <th>1984</th>\n",
       "      <td>643.250</td>\n",
       "    </tr>\n",
       "    <tr>\n",
       "      <th>1985</th>\n",
       "      <td>632.125</td>\n",
       "    </tr>\n",
       "    <tr>\n",
       "      <th>1986</th>\n",
       "      <td>632.375</td>\n",
       "    </tr>\n",
       "  </tbody>\n",
       "</table>\n",
       "</div>"
      ],
      "text/plain": [
       "      10a당 조곡 생산량(kg)\n",
       "일시                   \n",
       "1982          612.375\n",
       "1983          614.875\n",
       "1984          643.250\n",
       "1985          632.125\n",
       "1986          632.375"
      ]
     },
     "execution_count": 20,
     "metadata": {},
     "output_type": "execute_result"
    }
   ],
   "source": [
    "year_pdf = rice_df[['일시', '10a당 조곡 생산량(kg)']].groupby(['일시']).mean()\n",
    "year_pdf.head(5)"
   ]
  },
  {
   "cell_type": "code",
   "execution_count": 23,
   "id": "d2c974c3",
   "metadata": {},
   "outputs": [
    {
     "data": {
      "text/plain": [
       "<AxesSubplot:xlabel='일시'>"
      ]
     },
     "execution_count": 23,
     "metadata": {},
     "output_type": "execute_result"
    },
    {
     "data": {
      "image/png": "[encoded data removed]",
      "text/plain": [
       "<Figure size 432x288 with 1 Axes>"
      ]
     },
     "metadata": {
      "needs_background": "light"
     },
     "output_type": "display_data"
    }
   ],
   "source": [
    "year_pdf.plot.line()\n",
    "\n",
    "## 자료가 다소 부족하지만 일시(연도)에 따라 어느정도 주기를 그리면서 우상향한다.\n",
    "## 위 상관계수를 참고하면 일정 일시마다 주기적으로 변화하는 기후도 어느 정도 상관이 있을 수도 있지만\n",
    "## 근본적인 우상향의 원인은 통계 외적으로 일시가 지나면서 변하는 것,\n",
    "## 예를 들어 농업 기술 발전 등이 있을 수 있다."
   ]
  },
  {
   "cell_type": "markdown",
   "id": "cc5dc941",
   "metadata": {},
   "source": [
    "#### 3-3. 10a당 조곡 생산량(kg) - 기온별"
   ]
  },
  {
   "cell_type": "code",
   "execution_count": 25,
   "id": "9f2e7aeb",
   "metadata": {},
   "outputs": [
    {
     "data": {
      "image/png": "[encoded data removed]",
      "text/plain": [
       "<Figure size 432x288 with 1 Axes>"
      ]
     },
     "metadata": {
      "needs_background": "light"
     },
     "output_type": "display_data"
    }
   ],
   "source": [
    "## 평균 기온 기준\n",
    "plt.scatter(rice_df['평균기온(°C)'], rice_df['10a당 조곡 생산량(kg)'])\n",
    "plt.xlabel(\"평균기온\")\n",
    "plt.ylabel(\"10a당 조곡 생산량(kg)\")\n",
    "\n",
    "plt.show()\n",
    "\n",
    "## 평균 기온 12~13도 사이에 높은 조곡 생산량 데이터가 많이 분포하고 있지만\n",
    "## 상관성이 크다고 하기는 어렵다."
   ]
  },
  {
   "cell_type": "code",
   "execution_count": 27,
   "id": "a0d2b73b",
   "metadata": {},
   "outputs": [
    {
     "data": {
      "image/png": "[encoded data removed]",
      "text/plain": [
       "<Figure size 432x288 with 1 Axes>"
      ]
     },
     "metadata": {
      "needs_background": "light"
     },
     "output_type": "display_data"
    }
   ],
   "source": [
    "## 최고 기온 기준\n",
    "plt.scatter(rice_df['최고기온(°C)'], rice_df['10a당 조곡 생산량(kg)'])\n",
    "plt.xlabel(\"최고기온\")\n",
    "plt.ylabel(\"10a당 조곡 생산량(kg)\")\n",
    "\n",
    "plt.show()\n",
    "\n",
    "## 특정 온도(34~36)에만 최고 기온 데이터가 몰려 있어\n",
    "## 상관성이 낮은 것은 물론이고 데이터로서의 가치가 낮다고 판단된다."
   ]
  },
  {
   "cell_type": "code",
   "execution_count": 29,
   "id": "6b1e9e61",
   "metadata": {},
   "outputs": [
    {
     "data": {
      "image/png": "[encoded data removed]",
      "text/plain": [
       "<Figure size 432x288 with 1 Axes>"
      ]
     },
     "metadata": {
      "needs_background": "light"
     },
     "output_type": "display_data"
    }
   ],
   "source": [
    "## 평균 최저 기온 기준\n",
    "plt.scatter(rice_df['평균최저기온(°C)'], rice_df['10a당 조곡 생산량(kg)'])\n",
    "plt.xlabel(\"평균최저기온\")\n",
    "plt.ylabel(\"10a당 조곡 생산량(kg)\")\n",
    "\n",
    "plt.show()\n",
    "\n",
    "## 위 최고 기온의 그래프가 데이터로서의 가치가 낮다고 판단되듯이\n",
    "## 최저 기온, 평균 최고 기온을 무시하고 상관 관계 표에서 높은 상관성을 보여준\n",
    "## 평균 최저 기온을 확인했으나 이 역시 위와 비슷한 문제를 지니고 있다."
   ]
  },
  {
   "cell_type": "markdown",
   "id": "8e351b2d",
   "metadata": {},
   "source": [
    "#### 3-3. 10a당 조곡 생산량(kg) - 강수량별"
   ]
  },
  {
   "cell_type": "code",
   "execution_count": 30,
   "id": "836f4d75",
   "metadata": {},
   "outputs": [
    {
     "data": {
      "image/png": "[encoded data removed]",
      "text/plain": [
       "<Figure size 432x288 with 1 Axes>"
      ]
     },
     "metadata": {
      "needs_background": "light"
     },
     "output_type": "display_data"
    }
   ],
   "source": [
    "## 합계 강수량 기준\n",
    "plt.scatter(rice_df['합계 강수량(mm)'], rice_df['10a당 조곡 생산량(kg)'])\n",
    "plt.xlabel(\"합계 강수량(mm)\")\n",
    "plt.ylabel(\"10a당 조곡 생산량(kg)\")\n",
    "\n",
    "plt.show()\n",
    "\n",
    "## 강수량별 데이터 분포가 일정하지 않아서 판단하기 어렵지만\n",
    "## 미세하게 반비례 상관성을 보인다고 본다."
   ]
  },
  {
   "cell_type": "code",
   "execution_count": 31,
   "id": "518d40f1",
   "metadata": {},
   "outputs": [
    {
     "data": {
      "image/png": "[encoded data removed]",
      "text/plain": [
       "<Figure size 432x288 with 1 Axes>"
      ]
     },
     "metadata": {
      "needs_background": "light"
     },
     "output_type": "display_data"
    }
   ],
   "source": [
    "## 일 최다 강수량 기준\n",
    "plt.scatter(rice_df['일 최다 강수량(mm)'], rice_df['10a당 조곡 생산량(kg)'])\n",
    "plt.xlabel(\"일 최다 강수량(mm)\")\n",
    "plt.ylabel(\"10a당 조곡 생산량(kg)\")\n",
    "\n",
    "plt.show()\n",
    "\n",
    "## 합계 강수량 기준과 달리 데이터 분포도 편향되어 있고 상관성을 찾기 어렵다."
   ]
  },
  {
   "cell_type": "markdown",
   "id": "594d3bb8",
   "metadata": {},
   "source": [
    "#### 4. 일시 기준 강수량 vs 기온"
   ]
  },
  {
   "cell_type": "code",
   "execution_count": 32,
   "id": "d43ec235",
   "metadata": {},
   "outputs": [
    {
     "data": {
      "text/html": [
       "<div>\n",
       "<style scoped>\n",
       "    .dataframe tbody tr th:only-of-type {\n",
       "        vertical-align: middle;\n",
       "    }\n",
       "\n",
       "    .dataframe tbody tr th {\n",
       "        vertical-align: top;\n",
       "    }\n",
       "\n",
       "    .dataframe thead th {\n",
       "        text-align: right;\n",
       "    }\n",
       "</style>\n",
       "<table border=\"1\" class=\"dataframe\">\n",
       "  <thead>\n",
       "    <tr style=\"text-align: right;\">\n",
       "      <th></th>\n",
       "      <th>10a당 조곡 생산량(kg)</th>\n",
       "      <th>평균기온(°C)</th>\n",
       "      <th>합계 강수량(mm)</th>\n",
       "    </tr>\n",
       "    <tr>\n",
       "      <th>일시</th>\n",
       "      <th></th>\n",
       "      <th></th>\n",
       "      <th></th>\n",
       "    </tr>\n",
       "  </thead>\n",
       "  <tbody>\n",
       "    <tr>\n",
       "      <th>1982</th>\n",
       "      <td>612.375</td>\n",
       "      <td>12.0250</td>\n",
       "      <td>903.4875</td>\n",
       "    </tr>\n",
       "    <tr>\n",
       "      <th>1983</th>\n",
       "      <td>614.875</td>\n",
       "      <td>12.0000</td>\n",
       "      <td>1140.9250</td>\n",
       "    </tr>\n",
       "    <tr>\n",
       "      <th>1984</th>\n",
       "      <td>643.250</td>\n",
       "      <td>11.3875</td>\n",
       "      <td>1264.8500</td>\n",
       "    </tr>\n",
       "    <tr>\n",
       "      <th>1985</th>\n",
       "      <td>632.125</td>\n",
       "      <td>11.7500</td>\n",
       "      <td>1494.5875</td>\n",
       "    </tr>\n",
       "    <tr>\n",
       "      <th>1986</th>\n",
       "      <td>632.375</td>\n",
       "      <td>11.1375</td>\n",
       "      <td>1155.2500</td>\n",
       "    </tr>\n",
       "  </tbody>\n",
       "</table>\n",
       "</div>"
      ],
      "text/plain": [
       "      10a당 조곡 생산량(kg)  평균기온(°C)  합계 강수량(mm)\n",
       "일시                                         \n",
       "1982          612.375   12.0250    903.4875\n",
       "1983          614.875   12.0000   1140.9250\n",
       "1984          643.250   11.3875   1264.8500\n",
       "1985          632.125   11.7500   1494.5875\n",
       "1986          632.375   11.1375   1155.2500"
      ]
     },
     "execution_count": 32,
     "metadata": {},
     "output_type": "execute_result"
    }
   ],
   "source": [
    "year_pdf = rice_df[['일시', '10a당 조곡 생산량(kg)', '평균기온(°C)', '합계 강수량(mm)']].groupby(['일시']).mean()\n",
    "year_pdf.head(5)"
   ]
  },
  {
   "cell_type": "code",
   "execution_count": 34,
   "id": "643ab75f",
   "metadata": {},
   "outputs": [
    {
     "data": {
      "text/html": [
       "<div>\n",
       "<style scoped>\n",
       "    .dataframe tbody tr th:only-of-type {\n",
       "        vertical-align: middle;\n",
       "    }\n",
       "\n",
       "    .dataframe tbody tr th {\n",
       "        vertical-align: top;\n",
       "    }\n",
       "\n",
       "    .dataframe thead th {\n",
       "        text-align: right;\n",
       "    }\n",
       "</style>\n",
       "<table border=\"1\" class=\"dataframe\">\n",
       "  <thead>\n",
       "    <tr style=\"text-align: right;\">\n",
       "      <th></th>\n",
       "      <th>10a당 조곡 생산량(kg)</th>\n",
       "      <th>평균기온(°C)</th>\n",
       "      <th>합계 강수량(mm)</th>\n",
       "    </tr>\n",
       "    <tr>\n",
       "      <th>일시</th>\n",
       "      <th></th>\n",
       "      <th></th>\n",
       "      <th></th>\n",
       "    </tr>\n",
       "  </thead>\n",
       "  <tbody>\n",
       "    <tr>\n",
       "      <th>1982</th>\n",
       "      <td>1224.75</td>\n",
       "      <td>1202.50</td>\n",
       "      <td>903.4875</td>\n",
       "    </tr>\n",
       "    <tr>\n",
       "      <th>1983</th>\n",
       "      <td>1229.75</td>\n",
       "      <td>1200.00</td>\n",
       "      <td>1140.9250</td>\n",
       "    </tr>\n",
       "    <tr>\n",
       "      <th>1984</th>\n",
       "      <td>1286.50</td>\n",
       "      <td>1138.75</td>\n",
       "      <td>1264.8500</td>\n",
       "    </tr>\n",
       "    <tr>\n",
       "      <th>1985</th>\n",
       "      <td>1264.25</td>\n",
       "      <td>1175.00</td>\n",
       "      <td>1494.5875</td>\n",
       "    </tr>\n",
       "    <tr>\n",
       "      <th>1986</th>\n",
       "      <td>1264.75</td>\n",
       "      <td>1113.75</td>\n",
       "      <td>1155.2500</td>\n",
       "    </tr>\n",
       "  </tbody>\n",
       "</table>\n",
       "</div>"
      ],
      "text/plain": [
       "      10a당 조곡 생산량(kg)  평균기온(°C)  합계 강수량(mm)\n",
       "일시                                         \n",
       "1982          1224.75   1202.50    903.4875\n",
       "1983          1229.75   1200.00   1140.9250\n",
       "1984          1286.50   1138.75   1264.8500\n",
       "1985          1264.25   1175.00   1494.5875\n",
       "1986          1264.75   1113.75   1155.2500"
      ]
     },
     "execution_count": 34,
     "metadata": {},
     "output_type": "execute_result"
    }
   ],
   "source": [
    "## 값들의 원활한 비교를 위해 조곡 생산량과 평균기온에 상수를 곱해준다.\n",
    "\n",
    "year_pdf['10a당 조곡 생산량(kg)'] = year_pdf['10a당 조곡 생산량(kg)'] * 2\n",
    "year_pdf['평균기온(°C)'] = year_pdf['평균기온(°C)'] * 100\n",
    "year_pdf.head(5)"
   ]
  },
  {
   "cell_type": "code",
   "execution_count": 36,
   "id": "6c99fb69",
   "metadata": {},
   "outputs": [
    {
     "data": {
      "text/plain": [
       "<AxesSubplot:xlabel='일시'>"
      ]
     },
     "execution_count": 36,
     "metadata": {},
     "output_type": "execute_result"
    },
    {
     "data": {
      "image/png": "[encoded data removed]",
      "text/plain": [
       "<Figure size 432x288 with 1 Axes>"
      ]
     },
     "metadata": {
      "needs_background": "light"
     },
     "output_type": "display_data"
    }
   ],
   "source": [
    "year_pdf.plot.line()\n",
    "\n",
    "## 해당 그래프로 보아 합계 강수량은 연도와는 상관성이 적고\n",
    "## 기온, 조곡 생산량과도 상관성이 있다고 하기 어렵다고 판단된다."
   ]
  },
  {
   "cell_type": "code",
   "execution_count": 39,
   "id": "5af409da",
   "metadata": {},
   "outputs": [
    {
     "data": {
      "text/html": [
       "<div>\n",
       "<style scoped>\n",
       "    .dataframe tbody tr th:only-of-type {\n",
       "        vertical-align: middle;\n",
       "    }\n",
       "\n",
       "    .dataframe tbody tr th {\n",
       "        vertical-align: top;\n",
       "    }\n",
       "\n",
       "    .dataframe thead th {\n",
       "        text-align: right;\n",
       "    }\n",
       "</style>\n",
       "<table border=\"1\" class=\"dataframe\">\n",
       "  <thead>\n",
       "    <tr style=\"text-align: right;\">\n",
       "      <th></th>\n",
       "      <th>10a당 조곡 생산량(kg)</th>\n",
       "      <th>평균기온(°C)</th>\n",
       "    </tr>\n",
       "    <tr>\n",
       "      <th>일시</th>\n",
       "      <th></th>\n",
       "      <th></th>\n",
       "    </tr>\n",
       "  </thead>\n",
       "  <tbody>\n",
       "    <tr>\n",
       "      <th>1982</th>\n",
       "      <td>612.375</td>\n",
       "      <td>601.250</td>\n",
       "    </tr>\n",
       "    <tr>\n",
       "      <th>1983</th>\n",
       "      <td>614.875</td>\n",
       "      <td>600.000</td>\n",
       "    </tr>\n",
       "    <tr>\n",
       "      <th>1984</th>\n",
       "      <td>643.250</td>\n",
       "      <td>569.375</td>\n",
       "    </tr>\n",
       "    <tr>\n",
       "      <th>1985</th>\n",
       "      <td>632.125</td>\n",
       "      <td>587.500</td>\n",
       "    </tr>\n",
       "    <tr>\n",
       "      <th>1986</th>\n",
       "      <td>632.375</td>\n",
       "      <td>556.875</td>\n",
       "    </tr>\n",
       "  </tbody>\n",
       "</table>\n",
       "</div>"
      ],
      "text/plain": [
       "      10a당 조곡 생산량(kg)  평균기온(°C)\n",
       "일시                             \n",
       "1982          612.375   601.250\n",
       "1983          614.875   600.000\n",
       "1984          643.250   569.375\n",
       "1985          632.125   587.500\n",
       "1986          632.375   556.875"
      ]
     },
     "execution_count": 39,
     "metadata": {},
     "output_type": "execute_result"
    }
   ],
   "source": [
    "## 나머지 일시/기온/조곡 생산량 간의 상관성을 파악하기 위해\n",
    "## 합계 강수량을 뺀 그래프를 출력하겠다.\n",
    "\n",
    "year_pdf = rice_df[['일시', '10a당 조곡 생산량(kg)', '평균기온(°C)']].groupby(['일시']).mean()\n",
    "year_pdf['평균기온(°C)'] = year_pdf['평균기온(°C)'] * 50\n",
    "year_pdf.head(5)"
   ]
  },
  {
   "cell_type": "code",
   "execution_count": 40,
   "id": "7566b655",
   "metadata": {},
   "outputs": [
    {
     "data": {
      "text/plain": [
       "<AxesSubplot:xlabel='일시'>"
      ]
     },
     "execution_count": 40,
     "metadata": {},
     "output_type": "execute_result"
    },
    {
     "data": {
      "image/png": "[encoded data removed]",
      "text/plain": [
       "<Figure size 432x288 with 1 Axes>"
      ]
     },
     "metadata": {
      "needs_background": "light"
     },
     "output_type": "display_data"
    }
   ],
   "source": [
    "year_pdf.plot.line()\n",
    "\n",
    "## 우선 큰 흐름상 일시, 평균기온, 조곡 생산량 모두 비례적인 상관성을 보인다.\n",
    "## 그러나 평균기온과 조곡 생산량을 보면 단순 비례적 상관성이 있다고 하기는 어렵고\n",
    "## 주기 기준으로 보면 역으로 반비례적 상관성이 있다고 할 수 있다.\n",
    "## 각각 조곡 생산량의 경우 일시가 지나면서 농업 기술의 발달에 의한 생산량 증가,\n",
    "## 평균 기온의 경우 일시가 지나면서 심해지는 지구 온난화가 더 인과적인 관계이고\n",
    "## 두 값의 비례적 상관성은 일시와의 상관 관계인 요소들에 의한 것일 뿐,\n",
    "## 실제로는 서로 반비례적인 상관성을 지닐 수 있다고 본다."
   ]
  },
  {
   "cell_type": "markdown",
   "id": "58f95ca1",
   "metadata": {},
   "source": [
    "### 결론  \n",
    "  \n",
    "1. 조곡 생산량은 기후보다는 각 지역의 지리적 특성에 더 큰 상관성을 지닌다.\n",
    "2. 조곡 생산량은 일시에 높은 상관성을 지닌다.\n",
    "3. 조곡 생산량은 평균기온과 크게는 비례적 상관성을 지니지만 주기 형태를 보면 반비례적 상관성을 지닌다."
   ]
  }
 ],
 "metadata": {
  "kernelspec": {
   "display_name": "Python 3",
   "language": "python",
   "name": "python3"
  },
  "language_info": {
   "codemirror_mode": {
    "name": "ipython",
    "version": 3
   },
   "file_extension": ".py",
   "mimetype": "text/x-python",
   "name": "python",
   "nbconvert_exporter": "python",
   "pygments_lexer": "ipython3",
   "version": "3.8.8"
  }
 },
 "nbformat": 4,
 "nbformat_minor": 5
}
