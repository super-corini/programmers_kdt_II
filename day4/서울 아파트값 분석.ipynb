{
 "cells": [
  {
   "cell_type": "code",
   "execution_count": 17,
   "id": "d5b212fb",
   "metadata": {},
   "outputs": [],
   "source": [
    "import pandas as pd\n",
    "import matplotlib.pyplot as plt\n",
    "import seaborn as sns\n",
    "import numpy as np\n",
    "\n",
    "%matplotlib inline\n",
    "plt.rcParams['font.family'] = 'AppleGothic'"
   ]
  },
  {
   "cell_type": "code",
   "execution_count": 18,
   "id": "d1e0e288",
   "metadata": {},
   "outputs": [
    {
     "name": "stderr",
     "output_type": "stream",
     "text": [
      "/opt/homebrew/Caskroom/miniforge/base/envs/tf/lib/python3.8/site-packages/IPython/core/interactiveshell.py:3169: DtypeWarning: Columns (6) have mixed types.Specify dtype option on import or set low_memory=False.\n",
      "  has_raised = await self.run_ast_nodes(code_ast.body, cell_name,\n"
     ]
    }
   ],
   "source": [
    "data = pd.read_csv('~/ML_data/Apart Deal.csv')"
   ]
  },
  {
   "cell_type": "code",
   "execution_count": 19,
   "id": "ee97a8df",
   "metadata": {},
   "outputs": [
    {
     "data": {
      "text/html": [
       "<div>\n",
       "<style scoped>\n",
       "    .dataframe tbody tr th:only-of-type {\n",
       "        vertical-align: middle;\n",
       "    }\n",
       "\n",
       "    .dataframe tbody tr th {\n",
       "        vertical-align: top;\n",
       "    }\n",
       "\n",
       "    .dataframe thead th {\n",
       "        text-align: right;\n",
       "    }\n",
       "</style>\n",
       "<table border=\"1\" class=\"dataframe\">\n",
       "  <thead>\n",
       "    <tr style=\"text-align: right;\">\n",
       "      <th></th>\n",
       "      <th>지역코드</th>\n",
       "      <th>법정동</th>\n",
       "      <th>거래일</th>\n",
       "      <th>아파트</th>\n",
       "      <th>지번</th>\n",
       "      <th>전용면적</th>\n",
       "      <th>층</th>\n",
       "      <th>건축년도</th>\n",
       "      <th>거래금액</th>\n",
       "    </tr>\n",
       "  </thead>\n",
       "  <tbody>\n",
       "    <tr>\n",
       "      <th>0</th>\n",
       "      <td>31110</td>\n",
       "      <td>학성동</td>\n",
       "      <td>5/30/2020 0:00</td>\n",
       "      <td>남운학성타운</td>\n",
       "      <td>379</td>\n",
       "      <td>135.5800</td>\n",
       "      <td>8</td>\n",
       "      <td>1991</td>\n",
       "      <td>26700</td>\n",
       "    </tr>\n",
       "    <tr>\n",
       "      <th>1</th>\n",
       "      <td>31110</td>\n",
       "      <td>남외동</td>\n",
       "      <td>1/3/2020 0:00</td>\n",
       "      <td>남외푸르지오1차</td>\n",
       "      <td>506-1</td>\n",
       "      <td>101.6000</td>\n",
       "      <td>2</td>\n",
       "      <td>2006</td>\n",
       "      <td>35500</td>\n",
       "    </tr>\n",
       "    <tr>\n",
       "      <th>2</th>\n",
       "      <td>31110</td>\n",
       "      <td>남외동</td>\n",
       "      <td>1/3/2020 0:00</td>\n",
       "      <td>에일린의뜰</td>\n",
       "      <td>500</td>\n",
       "      <td>84.9920</td>\n",
       "      <td>11</td>\n",
       "      <td>2007</td>\n",
       "      <td>36500</td>\n",
       "    </tr>\n",
       "    <tr>\n",
       "      <th>3</th>\n",
       "      <td>31110</td>\n",
       "      <td>남외동</td>\n",
       "      <td>1/3/2020 0:00</td>\n",
       "      <td>남외푸르지오1차</td>\n",
       "      <td>506-1</td>\n",
       "      <td>118.7060</td>\n",
       "      <td>8</td>\n",
       "      <td>2006</td>\n",
       "      <td>43000</td>\n",
       "    </tr>\n",
       "    <tr>\n",
       "      <th>4</th>\n",
       "      <td>31110</td>\n",
       "      <td>남외동</td>\n",
       "      <td>1/4/2020 0:00</td>\n",
       "      <td>남외푸르지오2차</td>\n",
       "      <td>501-1</td>\n",
       "      <td>84.9636</td>\n",
       "      <td>7</td>\n",
       "      <td>2007</td>\n",
       "      <td>38700</td>\n",
       "    </tr>\n",
       "  </tbody>\n",
       "</table>\n",
       "</div>"
      ],
      "text/plain": [
       "    지역코드  법정동             거래일       아파트     지번      전용면적   층  건축년도   거래금액\n",
       "0  31110  학성동  5/30/2020 0:00    남운학성타운    379  135.5800   8  1991  26700\n",
       "1  31110  남외동   1/3/2020 0:00  남외푸르지오1차  506-1  101.6000   2  2006  35500\n",
       "2  31110  남외동   1/3/2020 0:00     에일린의뜰    500   84.9920  11  2007  36500\n",
       "3  31110  남외동   1/3/2020 0:00  남외푸르지오1차  506-1  118.7060   8  2006  43000\n",
       "4  31110  남외동   1/4/2020 0:00  남외푸르지오2차  501-1   84.9636   7  2007  38700"
      ]
     },
     "execution_count": 19,
     "metadata": {},
     "output_type": "execute_result"
    }
   ],
   "source": [
    "data.head()"
   ]
  },
  {
   "cell_type": "code",
   "execution_count": 20,
   "id": "fc1aacd1",
   "metadata": {},
   "outputs": [
    {
     "data": {
      "text/plain": [
       "38841327"
      ]
     },
     "execution_count": 20,
     "metadata": {},
     "output_type": "execute_result"
    }
   ],
   "source": [
    "data.size"
   ]
  },
  {
   "cell_type": "code",
   "execution_count": 21,
   "id": "650ea188",
   "metadata": {},
   "outputs": [
    {
     "data": {
      "text/plain": [
       "array([31110, 31140, 31170, 31200, 31710, 36110, 41111, 41113, 41115,\n",
       "       41117, 41131, 41133, 41135, 41150, 41171, 41173, 41190, 41210,\n",
       "       41220, 41250, 41271, 41273, 41281, 41285, 41287, 41290, 41310,\n",
       "       41360, 41370, 41390, 41410, 41430, 41450, 41461, 41463, 41465,\n",
       "       41480, 41500, 41550, 41570, 41590, 41610, 41630, 41650, 41670,\n",
       "       41800, 41820, 41830, 42110, 42130, 42150, 42170, 42190, 42210,\n",
       "       42230, 42720, 42730, 42750, 42760, 42770, 42780, 42790, 42800,\n",
       "       42810, 42820, 42830, 43111, 43112, 43113, 43114, 43130, 43150,\n",
       "       43720, 43730, 43740, 43745, 43750, 43760, 43770, 43800, 44131,\n",
       "       44133, 44150, 44180, 44200, 44210, 44230, 44250, 44270, 44710,\n",
       "       44760, 44770, 44790, 44800, 44810, 44825, 45111, 45113, 45130,\n",
       "       45140, 45180, 45190, 45210, 45710, 45720, 45730, 45740, 45750,\n",
       "       45770, 45790, 45800, 46110, 46130, 46150, 46170, 46230, 46710,\n",
       "       46720, 46730, 46770, 46780, 46790, 46800, 46810, 46820, 46830,\n",
       "       46840, 46860, 46870, 46880, 46890, 46900, 47111, 47113, 47130,\n",
       "       47150, 47170, 47190, 47210, 47230, 47250, 47280, 47290, 47720,\n",
       "       47730, 47750, 47760, 47770, 47820, 47830, 47840, 47850, 47900,\n",
       "       47920, 47930, 47940, 48121, 48123, 48125, 48127, 48129, 48170,\n",
       "       48220, 48240, 48250, 48270, 48310, 48330, 48720, 48730, 48740,\n",
       "       48820, 48840, 48850, 48860, 48870, 48880, 48890, 50110, 50130,\n",
       "       11110, 11140, 11170, 11200, 11215, 11230, 11260, 11290, 11305,\n",
       "       11320, 11350, 11380, 11410, 11440, 11470, 11500, 11530, 11545,\n",
       "       11560, 11590, 11620, 11650, 11680, 11710, 11740, 26110, 26140,\n",
       "       26170, 26200, 26230, 26260, 26290, 26320, 26350, 26380, 26410,\n",
       "       26440, 26470, 26500, 26530, 26710, 27110, 27140, 27170, 27200,\n",
       "       27230, 27260, 27290, 27710, 28110, 28140, 28177, 28185, 28200,\n",
       "       28237, 28245, 28260, 28710, 29110, 29140, 29155, 29170, 29200,\n",
       "       30110, 30140, 30170, 30200, 30230, 46910])"
      ]
     },
     "execution_count": 21,
     "metadata": {},
     "output_type": "execute_result"
    }
   ],
   "source": [
    "data['지역코드'].unique()"
   ]
  },
  {
   "cell_type": "markdown",
   "id": "9025f23c",
   "metadata": {},
   "source": [
    "데이터가 너무 많다. 사람들이 가장 관심 있어하는 서울(지역코드:11---)만 보도록하겠다."
   ]
  },
  {
   "cell_type": "code",
   "execution_count": 22,
   "id": "526a6abe",
   "metadata": {},
   "outputs": [
    {
     "name": "stdout",
     "output_type": "stream",
     "text": [
      "<class 'pandas.core.frame.DataFrame'>\n",
      "Int64Index: 557061 entries, 655312 to 4288652\n",
      "Data columns (total 9 columns):\n",
      " #   Column  Non-Null Count   Dtype  \n",
      "---  ------  --------------   -----  \n",
      " 0   지역코드    557061 non-null  int64  \n",
      " 1   법정동     557061 non-null  object \n",
      " 2   거래일     557061 non-null  object \n",
      " 3   아파트     557061 non-null  object \n",
      " 4   지번      556845 non-null  object \n",
      " 5   전용면적    557061 non-null  float64\n",
      " 6   층       557061 non-null  object \n",
      " 7   건축년도    557061 non-null  int64  \n",
      " 8   거래금액    557061 non-null  int64  \n",
      "dtypes: float64(1), int64(3), object(5)\n",
      "memory usage: 42.5+ MB\n"
     ]
    },
    {
     "data": {
      "text/html": [
       "<div>\n",
       "<style scoped>\n",
       "    .dataframe tbody tr th:only-of-type {\n",
       "        vertical-align: middle;\n",
       "    }\n",
       "\n",
       "    .dataframe tbody tr th {\n",
       "        vertical-align: top;\n",
       "    }\n",
       "\n",
       "    .dataframe thead th {\n",
       "        text-align: right;\n",
       "    }\n",
       "</style>\n",
       "<table border=\"1\" class=\"dataframe\">\n",
       "  <thead>\n",
       "    <tr style=\"text-align: right;\">\n",
       "      <th></th>\n",
       "      <th>지역코드</th>\n",
       "      <th>법정동</th>\n",
       "      <th>거래일</th>\n",
       "      <th>아파트</th>\n",
       "      <th>지번</th>\n",
       "      <th>전용면적</th>\n",
       "      <th>층</th>\n",
       "      <th>건축년도</th>\n",
       "      <th>거래금액</th>\n",
       "    </tr>\n",
       "  </thead>\n",
       "  <tbody>\n",
       "    <tr>\n",
       "      <th>655312</th>\n",
       "      <td>11110</td>\n",
       "      <td>내수동</td>\n",
       "      <td>1/13/2018</td>\n",
       "      <td>경희궁의아침2단지</td>\n",
       "      <td>71</td>\n",
       "      <td>140.78</td>\n",
       "      <td>15</td>\n",
       "      <td>2004</td>\n",
       "      <td>130000</td>\n",
       "    </tr>\n",
       "    <tr>\n",
       "      <th>655313</th>\n",
       "      <td>11110</td>\n",
       "      <td>내수동</td>\n",
       "      <td>1/19/2018</td>\n",
       "      <td>경희궁 파크팰리스</td>\n",
       "      <td>95</td>\n",
       "      <td>103.77</td>\n",
       "      <td>5</td>\n",
       "      <td>2003</td>\n",
       "      <td>96000</td>\n",
       "    </tr>\n",
       "    <tr>\n",
       "      <th>655314</th>\n",
       "      <td>11110</td>\n",
       "      <td>내수동</td>\n",
       "      <td>1/23/2018</td>\n",
       "      <td>경희궁의아침3단지</td>\n",
       "      <td>72</td>\n",
       "      <td>123.13</td>\n",
       "      <td>10</td>\n",
       "      <td>2004</td>\n",
       "      <td>118000</td>\n",
       "    </tr>\n",
       "    <tr>\n",
       "      <th>655315</th>\n",
       "      <td>11110</td>\n",
       "      <td>내수동</td>\n",
       "      <td>1/30/2018</td>\n",
       "      <td>세종로대우</td>\n",
       "      <td>167</td>\n",
       "      <td>66.96</td>\n",
       "      <td>13</td>\n",
       "      <td>1994</td>\n",
       "      <td>54500</td>\n",
       "    </tr>\n",
       "    <tr>\n",
       "      <th>655316</th>\n",
       "      <td>11110</td>\n",
       "      <td>내수동</td>\n",
       "      <td>1/31/2018</td>\n",
       "      <td>세종로대우</td>\n",
       "      <td>167</td>\n",
       "      <td>76.66</td>\n",
       "      <td>11</td>\n",
       "      <td>1994</td>\n",
       "      <td>64000</td>\n",
       "    </tr>\n",
       "  </tbody>\n",
       "</table>\n",
       "</div>"
      ],
      "text/plain": [
       "         지역코드  법정동        거래일        아파트   지번    전용면적   층  건축년도    거래금액\n",
       "655312  11110  내수동  1/13/2018  경희궁의아침2단지   71  140.78  15  2004  130000\n",
       "655313  11110  내수동  1/19/2018  경희궁 파크팰리스   95  103.77   5  2003   96000\n",
       "655314  11110  내수동  1/23/2018  경희궁의아침3단지   72  123.13  10  2004  118000\n",
       "655315  11110  내수동  1/30/2018      세종로대우  167   66.96  13  1994   54500\n",
       "655316  11110  내수동  1/31/2018      세종로대우  167   76.66  11  1994   64000"
      ]
     },
     "execution_count": 22,
     "metadata": {},
     "output_type": "execute_result"
    }
   ],
   "source": [
    "Seoul = data[12000 > data['지역코드']]\n",
    "Seoul = Seoul[Seoul['지역코드'] > 11000]\n",
    "Seoul.info()\n",
    "Seoul.head()"
   ]
  },
  {
   "cell_type": "markdown",
   "id": "f84ab191",
   "metadata": {},
   "source": [
    "1. 다행히도 Null값은 없다.\n",
    "2. '층'의 Dtype이 Int가 아니다. 모두 int형으로 바꿔주자\n",
    "3. '거래일'의 Dtype을 다른 숫자, 연산들과 호환하기 쉽도록 datatime으로 바꿔보자"
   ]
  },
  {
   "cell_type": "code",
   "execution_count": 23,
   "id": "8d0e0059",
   "metadata": {},
   "outputs": [],
   "source": [
    "Seoul['거래일'] = pd.to_datetime(Seoul['거래일'])"
   ]
  },
  {
   "cell_type": "code",
   "execution_count": 24,
   "id": "f7de478d",
   "metadata": {},
   "outputs": [
    {
     "name": "stdout",
     "output_type": "stream",
     "text": [
      "<class 'pandas.core.frame.DataFrame'>\n",
      "Int64Index: 557061 entries, 655312 to 4288652\n",
      "Data columns (total 9 columns):\n",
      " #   Column  Non-Null Count   Dtype         \n",
      "---  ------  --------------   -----         \n",
      " 0   지역코드    557061 non-null  int64         \n",
      " 1   법정동     557061 non-null  object        \n",
      " 2   거래일     557061 non-null  datetime64[ns]\n",
      " 3   아파트     557061 non-null  object        \n",
      " 4   지번      556845 non-null  object        \n",
      " 5   전용면적    557061 non-null  float64       \n",
      " 6   층       557061 non-null  int64         \n",
      " 7   건축년도    557061 non-null  int64         \n",
      " 8   거래금액    557061 non-null  int64         \n",
      "dtypes: datetime64[ns](1), float64(1), int64(4), object(3)\n",
      "memory usage: 42.5+ MB\n"
     ]
    }
   ],
   "source": [
    "Seoul['층'] = np.int64(Seoul['층'])\n",
    "Seoul.info()"
   ]
  },
  {
   "cell_type": "code",
   "execution_count": 25,
   "id": "e01b4c7d",
   "metadata": {},
   "outputs": [
    {
     "data": {
      "text/plain": [
       "-4      1\n",
       " 69     2\n",
       " 61     3\n",
       " 68     3\n",
       " 59     4\n",
       " 67     4\n",
       " 65     4\n",
       " 64     4\n",
       " 60     4\n",
       " 66     5\n",
       " 62     5\n",
       " 56     6\n",
       "-3      6\n",
       " 57     7\n",
       " 63     7\n",
       " 55    12\n",
       " 58    13\n",
       " 50    14\n",
       " 52    15\n",
       " 53    15\n",
       "Name: 층, dtype: int64"
      ]
     },
     "execution_count": 25,
     "metadata": {},
     "output_type": "execute_result"
    }
   ],
   "source": [
    "Seoul['층'].value_counts().sort_values()[:20]"
   ]
  },
  {
   "cell_type": "markdown",
   "id": "fb76a6e1",
   "metadata": {},
   "source": [
    "마이너스 값을 가진 층과 초고층은 데이터가 적어 평균 수요에 노이즈로 작용할 수 있으므로 제외하도록 하자."
   ]
  },
  {
   "cell_type": "code",
   "execution_count": 31,
   "id": "da5085df",
   "metadata": {},
   "outputs": [],
   "source": [
    "Seoul = Seoul[Seoul['층'] >= 0]\n",
    "Seoul = Seoul[Seoul['층'] < 59]"
   ]
  },
  {
   "cell_type": "code",
   "execution_count": 38,
   "id": "b0bf355b",
   "metadata": {},
   "outputs": [
    {
     "data": {
      "text/plain": [
       "84.96     10747\n",
       "84.99     10531\n",
       "84.97     10432\n",
       "84.98     10248\n",
       "59.99      6506\n",
       "          ...  \n",
       "25.39         1\n",
       "64.16         1\n",
       "156.25        1\n",
       "100.37        1\n",
       "80.22         1\n",
       "Name: 전용면적, Length: 12499, dtype: int64"
      ]
     },
     "execution_count": 38,
     "metadata": {},
     "output_type": "execute_result"
    }
   ],
   "source": [
    "Seoul['전용면적'].value_counts()"
   ]
  },
  {
   "cell_type": "markdown",
   "id": "7800894b",
   "metadata": {},
   "source": [
    "전용면적의 영향은 미미할 것이라 생각한다. 84와 84.3의 가격차이가 없을 것이라 본다.(증명은 생략)"
   ]
  },
  {
   "cell_type": "code",
   "execution_count": 39,
   "id": "990b9340",
   "metadata": {},
   "outputs": [],
   "source": [
    "Seoul['전용면적'] = np.int64(Seoul['전용면적'])"
   ]
  },
  {
   "cell_type": "code",
   "execution_count": 40,
   "id": "03cd76c9",
   "metadata": {},
   "outputs": [
    {
     "data": {
      "text/html": [
       "<div>\n",
       "<style scoped>\n",
       "    .dataframe tbody tr th:only-of-type {\n",
       "        vertical-align: middle;\n",
       "    }\n",
       "\n",
       "    .dataframe tbody tr th {\n",
       "        vertical-align: top;\n",
       "    }\n",
       "\n",
       "    .dataframe thead th {\n",
       "        text-align: right;\n",
       "    }\n",
       "</style>\n",
       "<table border=\"1\" class=\"dataframe\">\n",
       "  <thead>\n",
       "    <tr style=\"text-align: right;\">\n",
       "      <th></th>\n",
       "      <th>지역코드</th>\n",
       "      <th>전용면적</th>\n",
       "      <th>층</th>\n",
       "      <th>건축년도</th>\n",
       "      <th>거래금액</th>\n",
       "    </tr>\n",
       "  </thead>\n",
       "  <tbody>\n",
       "    <tr>\n",
       "      <th>지역코드</th>\n",
       "      <td>1.000000</td>\n",
       "      <td>0.072400</td>\n",
       "      <td>-0.010648</td>\n",
       "      <td>-0.085248</td>\n",
       "      <td>0.261758</td>\n",
       "    </tr>\n",
       "    <tr>\n",
       "      <th>전용면적</th>\n",
       "      <td>0.072400</td>\n",
       "      <td>1.000000</td>\n",
       "      <td>0.112377</td>\n",
       "      <td>0.076071</td>\n",
       "      <td>0.591015</td>\n",
       "    </tr>\n",
       "    <tr>\n",
       "      <th>층</th>\n",
       "      <td>-0.010648</td>\n",
       "      <td>0.112377</td>\n",
       "      <td>1.000000</td>\n",
       "      <td>0.194802</td>\n",
       "      <td>0.152213</td>\n",
       "    </tr>\n",
       "    <tr>\n",
       "      <th>건축년도</th>\n",
       "      <td>-0.085248</td>\n",
       "      <td>0.076071</td>\n",
       "      <td>0.194802</td>\n",
       "      <td>1.000000</td>\n",
       "      <td>0.053414</td>\n",
       "    </tr>\n",
       "    <tr>\n",
       "      <th>거래금액</th>\n",
       "      <td>0.261758</td>\n",
       "      <td>0.591015</td>\n",
       "      <td>0.152213</td>\n",
       "      <td>0.053414</td>\n",
       "      <td>1.000000</td>\n",
       "    </tr>\n",
       "  </tbody>\n",
       "</table>\n",
       "</div>"
      ],
      "text/plain": [
       "          지역코드      전용면적         층      건축년도      거래금액\n",
       "지역코드  1.000000  0.072400 -0.010648 -0.085248  0.261758\n",
       "전용면적  0.072400  1.000000  0.112377  0.076071  0.591015\n",
       "층    -0.010648  0.112377  1.000000  0.194802  0.152213\n",
       "건축년도 -0.085248  0.076071  0.194802  1.000000  0.053414\n",
       "거래금액  0.261758  0.591015  0.152213  0.053414  1.000000"
      ]
     },
     "execution_count": 40,
     "metadata": {},
     "output_type": "execute_result"
    }
   ],
   "source": [
    "Seoul.corr()"
   ]
  },
  {
   "cell_type": "code",
   "execution_count": 41,
   "id": "416bf66c",
   "metadata": {},
   "outputs": [
    {
     "data": {
      "text/html": [
       "<div>\n",
       "<style scoped>\n",
       "    .dataframe tbody tr th:only-of-type {\n",
       "        vertical-align: middle;\n",
       "    }\n",
       "\n",
       "    .dataframe tbody tr th {\n",
       "        vertical-align: top;\n",
       "    }\n",
       "\n",
       "    .dataframe thead th {\n",
       "        text-align: right;\n",
       "    }\n",
       "</style>\n",
       "<table border=\"1\" class=\"dataframe\">\n",
       "  <thead>\n",
       "    <tr style=\"text-align: right;\">\n",
       "      <th></th>\n",
       "      <th>지역코드</th>\n",
       "      <th>전용면적</th>\n",
       "      <th>층</th>\n",
       "      <th>건축년도</th>\n",
       "      <th>거래금액</th>\n",
       "    </tr>\n",
       "  </thead>\n",
       "  <tbody>\n",
       "    <tr>\n",
       "      <th>count</th>\n",
       "      <td>556902.000000</td>\n",
       "      <td>556902.000000</td>\n",
       "      <td>556902.000000</td>\n",
       "      <td>556902.000000</td>\n",
       "      <td>556902.000000</td>\n",
       "    </tr>\n",
       "    <tr>\n",
       "      <th>mean</th>\n",
       "      <td>11458.542428</td>\n",
       "      <td>78.000156</td>\n",
       "      <td>9.010172</td>\n",
       "      <td>1999.339744</td>\n",
       "      <td>62832.121962</td>\n",
       "    </tr>\n",
       "    <tr>\n",
       "      <th>std</th>\n",
       "      <td>174.295876</td>\n",
       "      <td>29.637330</td>\n",
       "      <td>6.066642</td>\n",
       "      <td>9.418959</td>\n",
       "      <td>45435.861955</td>\n",
       "    </tr>\n",
       "    <tr>\n",
       "      <th>min</th>\n",
       "      <td>11110.000000</td>\n",
       "      <td>10.000000</td>\n",
       "      <td>1.000000</td>\n",
       "      <td>1961.000000</td>\n",
       "      <td>700.000000</td>\n",
       "    </tr>\n",
       "    <tr>\n",
       "      <th>25%</th>\n",
       "      <td>11320.000000</td>\n",
       "      <td>59.000000</td>\n",
       "      <td>4.000000</td>\n",
       "      <td>1993.000000</td>\n",
       "      <td>35500.000000</td>\n",
       "    </tr>\n",
       "    <tr>\n",
       "      <th>50%</th>\n",
       "      <td>11470.000000</td>\n",
       "      <td>84.000000</td>\n",
       "      <td>8.000000</td>\n",
       "      <td>2000.000000</td>\n",
       "      <td>50000.000000</td>\n",
       "    </tr>\n",
       "    <tr>\n",
       "      <th>75%</th>\n",
       "      <td>11620.000000</td>\n",
       "      <td>84.000000</td>\n",
       "      <td>13.000000</td>\n",
       "      <td>2006.000000</td>\n",
       "      <td>75000.000000</td>\n",
       "    </tr>\n",
       "    <tr>\n",
       "      <th>max</th>\n",
       "      <td>11740.000000</td>\n",
       "      <td>424.000000</td>\n",
       "      <td>58.000000</td>\n",
       "      <td>2021.000000</td>\n",
       "      <td>840000.000000</td>\n",
       "    </tr>\n",
       "  </tbody>\n",
       "</table>\n",
       "</div>"
      ],
      "text/plain": [
       "                지역코드           전용면적              층           건축년도  \\\n",
       "count  556902.000000  556902.000000  556902.000000  556902.000000   \n",
       "mean    11458.542428      78.000156       9.010172    1999.339744   \n",
       "std       174.295876      29.637330       6.066642       9.418959   \n",
       "min     11110.000000      10.000000       1.000000    1961.000000   \n",
       "25%     11320.000000      59.000000       4.000000    1993.000000   \n",
       "50%     11470.000000      84.000000       8.000000    2000.000000   \n",
       "75%     11620.000000      84.000000      13.000000    2006.000000   \n",
       "max     11740.000000     424.000000      58.000000    2021.000000   \n",
       "\n",
       "                거래금액  \n",
       "count  556902.000000  \n",
       "mean    62832.121962  \n",
       "std     45435.861955  \n",
       "min       700.000000  \n",
       "25%     35500.000000  \n",
       "50%     50000.000000  \n",
       "75%     75000.000000  \n",
       "max    840000.000000  "
      ]
     },
     "execution_count": 41,
     "metadata": {},
     "output_type": "execute_result"
    }
   ],
   "source": [
    "Seoul.describe()"
   ]
  },
  {
   "cell_type": "code",
   "execution_count": 33,
   "id": "765d0f91",
   "metadata": {},
   "outputs": [
    {
     "data": {
      "image/png": "[encoded data removed]",
      "text/plain": [
       "<Figure size 432x288 with 1 Axes>"
      ]
     },
     "metadata": {
      "needs_background": "light"
     },
     "output_type": "display_data"
    }
   ],
   "source": [
    "sns.lineplot(x=Seoul['층'],y=Seoul['거래금액'])\n",
    "plt.show()"
   ]
  },
  {
   "cell_type": "markdown",
   "id": "09e42f5c",
   "metadata": {},
   "source": [
    "아주 직설적으로 해석할 수 있는 그래프다. 고층일수록 거래금액도 오른다.\n",
    "대체적으로 20층 밑으로는 상승률이 크지 않다. 적정 높이 이상층부터는 건축법에 의해 뭔가 까다롭다고 들은 적이 있다.\n",
    "아무튼 합리적으로 고층을 사고 싶을 때는 20층 즈음이 좋지 않을까? 고층을 추구한다면 애매하게 8층 살 바에는 14층 사는 것이 좋아보이는 듯!"
   ]
  },
  {
   "cell_type": "code",
   "execution_count": 42,
   "id": "33c71207",
   "metadata": {},
   "outputs": [
    {
     "data": {
      "image/png": "[encoded data removed]",
      "text/plain": [
       "<Figure size 432x288 with 1 Axes>"
      ]
     },
     "metadata": {
      "needs_background": "light"
     },
     "output_type": "display_data"
    }
   ],
   "source": [
    "Seoul.plot(kind='scatter', x='전용면적', y='거래금액', alpha=0.1)\n",
    "plt.show()"
   ]
  },
  {
   "cell_type": "markdown",
   "id": "4d375004",
   "metadata": {},
   "source": [
    "전용면적에 따라 거래금액도 대체적으로 상승한다."
   ]
  },
  {
   "cell_type": "code",
   "execution_count": 34,
   "id": "8e44d11d",
   "metadata": {},
   "outputs": [
    {
     "data": {
      "image/png": "[encoded data removed]",
      "text/plain": [
       "<Figure size 432x288 with 1 Axes>"
      ]
     },
     "metadata": {
      "needs_background": "light"
     },
     "output_type": "display_data"
    }
   ],
   "source": [
    "sns.lineplot(x=Seoul['거래일'],y=Seoul['거래금액'])\n",
    "plt.show()"
   ]
  },
  {
   "cell_type": "markdown",
   "id": "8d9ea7d1",
   "metadata": {},
   "source": [
    "노이즈가 많긴하지만, 시간이 지날수록 거래금액이 조금씩 올라가는 것을 볼 수 있다. "
   ]
  },
  {
   "cell_type": "code",
   "execution_count": null,
   "id": "f2caf6d1",
   "metadata": {},
   "outputs": [],
   "source": []
  }
 ],
 "metadata": {
  "kernelspec": {
   "display_name": "Python 3",
   "language": "python",
   "name": "python3"
  },
  "language_info": {
   "codemirror_mode": {
    "name": "ipython",
    "version": 3
   },
   "file_extension": ".py",
   "mimetype": "text/x-python",
   "name": "python",
   "nbconvert_exporter": "python",
   "pygments_lexer": "ipython3",
   "version": "3.8.8"
  }
 },
 "nbformat": 4,
 "nbformat_minor": 5
}
