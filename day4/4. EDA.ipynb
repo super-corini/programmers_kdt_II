{
 "cells": [
  {
   "cell_type": "markdown",
   "id": "weekly-furniture",
   "metadata": {},
   "source": [
    "## Mission : It's Your Turn!"
   ]
  },
  {
   "cell_type": "markdown",
   "id": "encouraging-default",
   "metadata": {},
   "source": [
    "### 2. [Kaggle](https://www.kaggle.com/datasets)에서 Dataset을 찾고, 이 Dataset에서 유의미한 Feature를 3개 이상 찾고 이를 시각화해봅시다.\n",
    "\n",
    "함께 보면 좋은 라이브러리 document\n",
    "- [numpy]()\n",
    "- [pandas]()\n",
    "- [seaborn]()\n",
    "- [matplotlib]()"
   ]
  },
  {
   "cell_type": "markdown",
   "id": "tested-dubai",
   "metadata": {},
   "source": [
    "## 0. 라이브러리 설치"
   ]
  },
  {
   "cell_type": "code",
   "execution_count": 1,
   "id": "scientific-rebate",
   "metadata": {},
   "outputs": [],
   "source": [
    "import pandas as pd\n",
    "import numpy as np\n",
    "import matplotlib.pyplot as plt\n",
    "import seaborn as sns\n",
    "\n",
    "%matplotlib inline"
   ]
  },
  {
   "cell_type": "code",
   "execution_count": 3,
   "id": "lesser-alert",
   "metadata": {},
   "outputs": [],
   "source": [
    "Loan_payment_df = pd.read_csv('./Loan payments data.csv')"
   ]
  },
  {
   "cell_type": "markdown",
   "id": "amazing-forum",
   "metadata": {},
   "source": [
    "## 1. 데이데셋 선정 : [대출 고객의 상환 정보](https://www.kaggle.com/zhijinzhai/loandata/version/1)"
   ]
  },
  {
   "cell_type": "markdown",
   "id": "ambient-geometry",
   "metadata": {},
   "source": [
    "### 분석 목적 및 데이터 확인"
   ]
  },
  {
   "cell_type": "code",
   "execution_count": 4,
   "id": "promotional-optimization",
   "metadata": {},
   "outputs": [
    {
     "data": {
      "text/html": [
       "<div>\n",
       "<style scoped>\n",
       "    .dataframe tbody tr th:only-of-type {\n",
       "        vertical-align: middle;\n",
       "    }\n",
       "\n",
       "    .dataframe tbody tr th {\n",
       "        vertical-align: top;\n",
       "    }\n",
       "\n",
       "    .dataframe thead th {\n",
       "        text-align: right;\n",
       "    }\n",
       "</style>\n",
       "<table border=\"1\" class=\"dataframe\">\n",
       "  <thead>\n",
       "    <tr style=\"text-align: right;\">\n",
       "      <th></th>\n",
       "      <th>Loan_ID</th>\n",
       "      <th>loan_status</th>\n",
       "      <th>Principal</th>\n",
       "      <th>terms</th>\n",
       "      <th>effective_date</th>\n",
       "      <th>due_date</th>\n",
       "      <th>paid_off_time</th>\n",
       "      <th>past_due_days</th>\n",
       "      <th>age</th>\n",
       "      <th>education</th>\n",
       "      <th>Gender</th>\n",
       "    </tr>\n",
       "  </thead>\n",
       "  <tbody>\n",
       "    <tr>\n",
       "      <th>0</th>\n",
       "      <td>xqd20166231</td>\n",
       "      <td>PAIDOFF</td>\n",
       "      <td>1000</td>\n",
       "      <td>30</td>\n",
       "      <td>9/8/2016</td>\n",
       "      <td>10/7/2016</td>\n",
       "      <td>9/14/2016 19:31</td>\n",
       "      <td>NaN</td>\n",
       "      <td>45</td>\n",
       "      <td>High School or Below</td>\n",
       "      <td>male</td>\n",
       "    </tr>\n",
       "    <tr>\n",
       "      <th>1</th>\n",
       "      <td>xqd20168902</td>\n",
       "      <td>PAIDOFF</td>\n",
       "      <td>1000</td>\n",
       "      <td>30</td>\n",
       "      <td>9/8/2016</td>\n",
       "      <td>10/7/2016</td>\n",
       "      <td>10/7/2016 9:00</td>\n",
       "      <td>NaN</td>\n",
       "      <td>50</td>\n",
       "      <td>Bechalor</td>\n",
       "      <td>female</td>\n",
       "    </tr>\n",
       "    <tr>\n",
       "      <th>2</th>\n",
       "      <td>xqd20160003</td>\n",
       "      <td>PAIDOFF</td>\n",
       "      <td>1000</td>\n",
       "      <td>30</td>\n",
       "      <td>9/8/2016</td>\n",
       "      <td>10/7/2016</td>\n",
       "      <td>9/25/2016 16:58</td>\n",
       "      <td>NaN</td>\n",
       "      <td>33</td>\n",
       "      <td>Bechalor</td>\n",
       "      <td>female</td>\n",
       "    </tr>\n",
       "    <tr>\n",
       "      <th>3</th>\n",
       "      <td>xqd20160004</td>\n",
       "      <td>PAIDOFF</td>\n",
       "      <td>1000</td>\n",
       "      <td>15</td>\n",
       "      <td>9/8/2016</td>\n",
       "      <td>9/22/2016</td>\n",
       "      <td>9/22/2016 20:00</td>\n",
       "      <td>NaN</td>\n",
       "      <td>27</td>\n",
       "      <td>college</td>\n",
       "      <td>male</td>\n",
       "    </tr>\n",
       "    <tr>\n",
       "      <th>4</th>\n",
       "      <td>xqd20160005</td>\n",
       "      <td>PAIDOFF</td>\n",
       "      <td>1000</td>\n",
       "      <td>30</td>\n",
       "      <td>9/9/2016</td>\n",
       "      <td>10/8/2016</td>\n",
       "      <td>9/23/2016 21:36</td>\n",
       "      <td>NaN</td>\n",
       "      <td>28</td>\n",
       "      <td>college</td>\n",
       "      <td>female</td>\n",
       "    </tr>\n",
       "  </tbody>\n",
       "</table>\n",
       "</div>"
      ],
      "text/plain": [
       "       Loan_ID loan_status  Principal  terms effective_date   due_date  \\\n",
       "0  xqd20166231     PAIDOFF       1000     30       9/8/2016  10/7/2016   \n",
       "1  xqd20168902     PAIDOFF       1000     30       9/8/2016  10/7/2016   \n",
       "2  xqd20160003     PAIDOFF       1000     30       9/8/2016  10/7/2016   \n",
       "3  xqd20160004     PAIDOFF       1000     15       9/8/2016  9/22/2016   \n",
       "4  xqd20160005     PAIDOFF       1000     30       9/9/2016  10/8/2016   \n",
       "\n",
       "     paid_off_time  past_due_days  age             education  Gender  \n",
       "0  9/14/2016 19:31            NaN   45  High School or Below    male  \n",
       "1   10/7/2016 9:00            NaN   50              Bechalor  female  \n",
       "2  9/25/2016 16:58            NaN   33              Bechalor  female  \n",
       "3  9/22/2016 20:00            NaN   27               college    male  \n",
       "4  9/23/2016 21:36            NaN   28               college  female  "
      ]
     },
     "execution_count": 4,
     "metadata": {},
     "output_type": "execute_result"
    }
   ],
   "source": [
    "Loan_payment_df.head(5)"
   ]
  },
  {
   "cell_type": "code",
   "execution_count": 5,
   "id": "aware-review",
   "metadata": {},
   "outputs": [
    {
     "data": {
      "text/plain": [
       "Index(['Loan_ID', 'loan_status', 'Principal', 'terms', 'effective_date',\n",
       "       'due_date', 'paid_off_time', 'past_due_days', 'age', 'education',\n",
       "       'Gender'],\n",
       "      dtype='object')"
      ]
     },
     "execution_count": 5,
     "metadata": {},
     "output_type": "execute_result"
    }
   ],
   "source": [
    "Loan_payment_df.columns"
   ]
  },
  {
   "cell_type": "markdown",
   "id": "suspended-disclosure",
   "metadata": {},
   "source": [
    "- Loan_ID : 대출 고객 ID\n",
    "- loan_status : 대출 상환 여부\n",
    "- Principal\t: 대출 금액\n",
    "- terms\t: 대출금 지급까지 걸린 기간\n",
    "- effective_date : 계약 효과가 발휘되는 날짜\n",
    "- due_date : 대출금 납부 기한 날짜\n",
    "- paid_off_time : 대출금을 모두 상환한 날짜\n",
    "- past_due_days : 대출금 납부기한을 초과한 날짜\n",
    "- age : 고객 나이\n",
    "- education : 고객의 교육 수준(최종학력)\n",
    "- Gender : 고객의 성별"
   ]
  },
  {
   "cell_type": "code",
   "execution_count": 6,
   "id": "documented-residence",
   "metadata": {},
   "outputs": [
    {
     "data": {
      "text/plain": [
       "Loan_ID            object\n",
       "loan_status        object\n",
       "Principal           int64\n",
       "terms               int64\n",
       "effective_date     object\n",
       "due_date           object\n",
       "paid_off_time      object\n",
       "past_due_days     float64\n",
       "age                 int64\n",
       "education          object\n",
       "Gender             object\n",
       "dtype: object"
      ]
     },
     "execution_count": 6,
     "metadata": {},
     "output_type": "execute_result"
    }
   ],
   "source": [
    "Loan_payment_df.dtypes"
   ]
  },
  {
   "cell_type": "markdown",
   "id": "beginning-blackjack",
   "metadata": {},
   "source": [
    "### 데이터 전체적으로 살펴보기"
   ]
  },
  {
   "cell_type": "code",
   "execution_count": 7,
   "id": "tutorial-ribbon",
   "metadata": {},
   "outputs": [
    {
     "data": {
      "text/html": [
       "<div>\n",
       "<style scoped>\n",
       "    .dataframe tbody tr th:only-of-type {\n",
       "        vertical-align: middle;\n",
       "    }\n",
       "\n",
       "    .dataframe tbody tr th {\n",
       "        vertical-align: top;\n",
       "    }\n",
       "\n",
       "    .dataframe thead th {\n",
       "        text-align: right;\n",
       "    }\n",
       "</style>\n",
       "<table border=\"1\" class=\"dataframe\">\n",
       "  <thead>\n",
       "    <tr style=\"text-align: right;\">\n",
       "      <th></th>\n",
       "      <th>Principal</th>\n",
       "      <th>terms</th>\n",
       "      <th>past_due_days</th>\n",
       "      <th>age</th>\n",
       "    </tr>\n",
       "  </thead>\n",
       "  <tbody>\n",
       "    <tr>\n",
       "      <th>count</th>\n",
       "      <td>500.000000</td>\n",
       "      <td>500.000000</td>\n",
       "      <td>200.00000</td>\n",
       "      <td>500.000000</td>\n",
       "    </tr>\n",
       "    <tr>\n",
       "      <th>mean</th>\n",
       "      <td>943.200000</td>\n",
       "      <td>22.824000</td>\n",
       "      <td>36.01000</td>\n",
       "      <td>31.116000</td>\n",
       "    </tr>\n",
       "    <tr>\n",
       "      <th>std</th>\n",
       "      <td>115.240274</td>\n",
       "      <td>8.000064</td>\n",
       "      <td>29.38088</td>\n",
       "      <td>6.084784</td>\n",
       "    </tr>\n",
       "    <tr>\n",
       "      <th>min</th>\n",
       "      <td>300.000000</td>\n",
       "      <td>7.000000</td>\n",
       "      <td>1.00000</td>\n",
       "      <td>18.000000</td>\n",
       "    </tr>\n",
       "    <tr>\n",
       "      <th>25%</th>\n",
       "      <td>1000.000000</td>\n",
       "      <td>15.000000</td>\n",
       "      <td>3.00000</td>\n",
       "      <td>27.000000</td>\n",
       "    </tr>\n",
       "    <tr>\n",
       "      <th>50%</th>\n",
       "      <td>1000.000000</td>\n",
       "      <td>30.000000</td>\n",
       "      <td>37.00000</td>\n",
       "      <td>30.000000</td>\n",
       "    </tr>\n",
       "    <tr>\n",
       "      <th>75%</th>\n",
       "      <td>1000.000000</td>\n",
       "      <td>30.000000</td>\n",
       "      <td>60.00000</td>\n",
       "      <td>35.000000</td>\n",
       "    </tr>\n",
       "    <tr>\n",
       "      <th>max</th>\n",
       "      <td>1000.000000</td>\n",
       "      <td>30.000000</td>\n",
       "      <td>76.00000</td>\n",
       "      <td>51.000000</td>\n",
       "    </tr>\n",
       "  </tbody>\n",
       "</table>\n",
       "</div>"
      ],
      "text/plain": [
       "         Principal       terms  past_due_days         age\n",
       "count   500.000000  500.000000      200.00000  500.000000\n",
       "mean    943.200000   22.824000       36.01000   31.116000\n",
       "std     115.240274    8.000064       29.38088    6.084784\n",
       "min     300.000000    7.000000        1.00000   18.000000\n",
       "25%    1000.000000   15.000000        3.00000   27.000000\n",
       "50%    1000.000000   30.000000       37.00000   30.000000\n",
       "75%    1000.000000   30.000000       60.00000   35.000000\n",
       "max    1000.000000   30.000000       76.00000   51.000000"
      ]
     },
     "execution_count": 7,
     "metadata": {},
     "output_type": "execute_result"
    }
   ],
   "source": [
    "Loan_payment_df.describe()"
   ]
  },
  {
   "cell_type": "markdown",
   "id": "pending-consultation",
   "metadata": {},
   "source": [
    "- Principal의 경우 평균 943달러, 최대 1000달러\n",
    "- terms의 경우 지급까지 평균 22일 소요\n",
    "- past_due_days의 경우 평균 36일 소요\n",
    "- age의 경우 최대 51세, 최소 18세로 다양한 연령층이 존재"
   ]
  },
  {
   "cell_type": "code",
   "execution_count": 8,
   "id": "located-cinema",
   "metadata": {
    "scrolled": true
   },
   "outputs": [
    {
     "data": {
      "text/plain": [
       "Loan_ID             0\n",
       "loan_status         0\n",
       "Principal           0\n",
       "terms               0\n",
       "effective_date      0\n",
       "due_date            0\n",
       "paid_off_time     100\n",
       "past_due_days     300\n",
       "age                 0\n",
       "education           0\n",
       "Gender              0\n",
       "dtype: int64"
      ]
     },
     "execution_count": 8,
     "metadata": {},
     "output_type": "execute_result"
    }
   ],
   "source": [
    "Loan_payment_df.isnull().sum()"
   ]
  },
  {
   "cell_type": "markdown",
   "id": "blond-apartment",
   "metadata": {},
   "source": [
    "- paid_off_time : 대출금을 모두 상환한 날짜\n",
    "- past_due_days : 대출금을 모두 상환하는데 걸린 기간"
   ]
  },
  {
   "cell_type": "markdown",
   "id": "colored-consideration",
   "metadata": {},
   "source": [
    "### 데이터 범주화"
   ]
  },
  {
   "cell_type": "markdown",
   "id": "coordinate-rover",
   "metadata": {},
   "source": [
    "- loan_status(대출 상환 여부)의 범주화\n",
    "- 0: 상환X, 1: 상환O"
   ]
  },
  {
   "cell_type": "code",
   "execution_count": 9,
   "id": "loaded-seminar",
   "metadata": {},
   "outputs": [
    {
     "data": {
      "text/plain": [
       "array(['PAIDOFF', 'COLLECTION', 'COLLECTION_PAIDOFF'], dtype=object)"
      ]
     },
     "execution_count": 9,
     "metadata": {},
     "output_type": "execute_result"
    }
   ],
   "source": [
    "Loan_payment_df['loan_status'].unique()"
   ]
  },
  {
   "cell_type": "markdown",
   "id": "common-toolbox",
   "metadata": {},
   "source": [
    "- PAIDOFF : 기한 내에 대출금 모두 상환\n",
    "- COLLECTION : Data 수집 당시까지 미납(연체)\n",
    "- COLLECTION_PAIDOFF : 기한은 지났지만 대출금 모두 상환\n",
    "- 따라서 `PAIDOFF -> 1`(상환 O),\n",
    "- `COLLECTION,COLLECTION_PAIDOFF = 0`(상환 X)"
   ]
  },
  {
   "cell_type": "code",
   "execution_count": 10,
   "id": "absent-demographic",
   "metadata": {},
   "outputs": [],
   "source": [
    "new_loan_status = []\n",
    "\n",
    "for i in range(500):\n",
    "    if Loan_payment_df['loan_status'][i] == 'PAIDOFF':\n",
    "        new_loan_status.append(1)\n",
    "    else:\n",
    "        new_loan_status.append(0)\n",
    "\n",
    "Loan_payment_df['Loan_status'] = new_loan_status"
   ]
  },
  {
   "cell_type": "code",
   "execution_count": 11,
   "id": "worse-beads",
   "metadata": {},
   "outputs": [
    {
     "data": {
      "text/plain": [
       "array(['High School or Below', 'Bechalor', 'college', 'Master or Above'],\n",
       "      dtype=object)"
      ]
     },
     "execution_count": 11,
     "metadata": {},
     "output_type": "execute_result"
    }
   ],
   "source": [
    "Loan_payment_df['education'].unique()"
   ]
  },
  {
   "cell_type": "markdown",
   "id": "technological-string",
   "metadata": {},
   "source": [
    "- High School or Below : 고졸\n",
    "- college : 대졸\n",
    "- Bechalor : 석사\n",
    "- Master or Above : 박사 이상\n",
    "- 따라서 `High School or Below -> 0`\n",
    "- `college -> 1`\n",
    "- `Bechalor -> 2`\n",
    "- `Master or Above -> 3`"
   ]
  },
  {
   "cell_type": "code",
   "execution_count": 12,
   "id": "aggressive-separation",
   "metadata": {},
   "outputs": [],
   "source": [
    "new_education = []\n",
    "\n",
    "for i in range(500):\n",
    "    if Loan_payment_df['education'][i] == 'High School or Below':\n",
    "        new_education.append(0)\n",
    "    elif Loan_payment_df['education'][i] == 'college':\n",
    "        new_education.append(1)\n",
    "    elif Loan_payment_df['education'][i] == 'Bechalor':\n",
    "        new_education.append(2)\n",
    "    else:\n",
    "        new_education.append(3)\n",
    "\n",
    "Loan_payment_df['Education'] = new_education"
   ]
  },
  {
   "cell_type": "markdown",
   "id": "funky-skating",
   "metadata": {},
   "source": [
    "### 결측치 처리"
   ]
  },
  {
   "cell_type": "markdown",
   "id": "blessed-coordination",
   "metadata": {},
   "source": [
    "- 대출금의 상환여부를 종속변수라 생각\n",
    "- 날짜에 맞게 대출금을 상환한 경우 past_due_days(대출금 납부기한을 초과한 날짜)는 null값이 되는 것이 정상 : loan_status(Paidoff)\n",
    "- 아직 상환하지 않은 경우 paid_off_time(대출금을 모두 상환한 날짜)는 null값이 되는 것이 정상 : loan_status(Collection or Collection=Paidoff)\n",
    "- 따라서 결측치 처리X (분석에 이용x)"
   ]
  },
  {
   "cell_type": "code",
   "execution_count": 13,
   "id": "positive-glenn",
   "metadata": {},
   "outputs": [
    {
     "data": {
      "text/html": [
       "<div>\n",
       "<style scoped>\n",
       "    .dataframe tbody tr th:only-of-type {\n",
       "        vertical-align: middle;\n",
       "    }\n",
       "\n",
       "    .dataframe tbody tr th {\n",
       "        vertical-align: top;\n",
       "    }\n",
       "\n",
       "    .dataframe thead th {\n",
       "        text-align: right;\n",
       "    }\n",
       "</style>\n",
       "<table border=\"1\" class=\"dataframe\">\n",
       "  <thead>\n",
       "    <tr style=\"text-align: right;\">\n",
       "      <th></th>\n",
       "      <th>Loan_ID</th>\n",
       "      <th>loan_status</th>\n",
       "      <th>Principal</th>\n",
       "      <th>terms</th>\n",
       "      <th>effective_date</th>\n",
       "      <th>due_date</th>\n",
       "      <th>paid_off_time</th>\n",
       "      <th>past_due_days</th>\n",
       "      <th>age</th>\n",
       "      <th>education</th>\n",
       "      <th>Gender</th>\n",
       "      <th>Loan_status</th>\n",
       "      <th>Education</th>\n",
       "    </tr>\n",
       "  </thead>\n",
       "  <tbody>\n",
       "    <tr>\n",
       "      <th>300</th>\n",
       "      <td>xqd20160301</td>\n",
       "      <td>COLLECTION</td>\n",
       "      <td>1000</td>\n",
       "      <td>15</td>\n",
       "      <td>9/9/2016</td>\n",
       "      <td>9/23/2016</td>\n",
       "      <td>NaN</td>\n",
       "      <td>76.0</td>\n",
       "      <td>29</td>\n",
       "      <td>college</td>\n",
       "      <td>male</td>\n",
       "      <td>0</td>\n",
       "      <td>1</td>\n",
       "    </tr>\n",
       "    <tr>\n",
       "      <th>301</th>\n",
       "      <td>xqd20160302</td>\n",
       "      <td>COLLECTION</td>\n",
       "      <td>1000</td>\n",
       "      <td>30</td>\n",
       "      <td>9/9/2016</td>\n",
       "      <td>10/8/2016</td>\n",
       "      <td>NaN</td>\n",
       "      <td>61.0</td>\n",
       "      <td>37</td>\n",
       "      <td>High School or Below</td>\n",
       "      <td>male</td>\n",
       "      <td>0</td>\n",
       "      <td>0</td>\n",
       "    </tr>\n",
       "    <tr>\n",
       "      <th>302</th>\n",
       "      <td>xqd20160303</td>\n",
       "      <td>COLLECTION</td>\n",
       "      <td>1000</td>\n",
       "      <td>30</td>\n",
       "      <td>9/9/2016</td>\n",
       "      <td>10/8/2016</td>\n",
       "      <td>NaN</td>\n",
       "      <td>61.0</td>\n",
       "      <td>33</td>\n",
       "      <td>High School or Below</td>\n",
       "      <td>male</td>\n",
       "      <td>0</td>\n",
       "      <td>0</td>\n",
       "    </tr>\n",
       "    <tr>\n",
       "      <th>303</th>\n",
       "      <td>xqd20160304</td>\n",
       "      <td>COLLECTION</td>\n",
       "      <td>800</td>\n",
       "      <td>15</td>\n",
       "      <td>9/9/2016</td>\n",
       "      <td>9/23/2016</td>\n",
       "      <td>NaN</td>\n",
       "      <td>76.0</td>\n",
       "      <td>27</td>\n",
       "      <td>college</td>\n",
       "      <td>male</td>\n",
       "      <td>0</td>\n",
       "      <td>1</td>\n",
       "    </tr>\n",
       "    <tr>\n",
       "      <th>304</th>\n",
       "      <td>xqd20160305</td>\n",
       "      <td>COLLECTION</td>\n",
       "      <td>800</td>\n",
       "      <td>15</td>\n",
       "      <td>9/9/2016</td>\n",
       "      <td>9/23/2016</td>\n",
       "      <td>NaN</td>\n",
       "      <td>76.0</td>\n",
       "      <td>24</td>\n",
       "      <td>Bechalor</td>\n",
       "      <td>male</td>\n",
       "      <td>0</td>\n",
       "      <td>2</td>\n",
       "    </tr>\n",
       "    <tr>\n",
       "      <th>...</th>\n",
       "      <td>...</td>\n",
       "      <td>...</td>\n",
       "      <td>...</td>\n",
       "      <td>...</td>\n",
       "      <td>...</td>\n",
       "      <td>...</td>\n",
       "      <td>...</td>\n",
       "      <td>...</td>\n",
       "      <td>...</td>\n",
       "      <td>...</td>\n",
       "      <td>...</td>\n",
       "      <td>...</td>\n",
       "      <td>...</td>\n",
       "    </tr>\n",
       "    <tr>\n",
       "      <th>395</th>\n",
       "      <td>xqd20160396</td>\n",
       "      <td>COLLECTION</td>\n",
       "      <td>1000</td>\n",
       "      <td>30</td>\n",
       "      <td>9/11/2016</td>\n",
       "      <td>10/10/2016</td>\n",
       "      <td>NaN</td>\n",
       "      <td>59.0</td>\n",
       "      <td>25</td>\n",
       "      <td>High School or Below</td>\n",
       "      <td>male</td>\n",
       "      <td>0</td>\n",
       "      <td>0</td>\n",
       "    </tr>\n",
       "    <tr>\n",
       "      <th>396</th>\n",
       "      <td>xqd20160397</td>\n",
       "      <td>COLLECTION</td>\n",
       "      <td>1000</td>\n",
       "      <td>30</td>\n",
       "      <td>9/12/2016</td>\n",
       "      <td>10/11/2016</td>\n",
       "      <td>NaN</td>\n",
       "      <td>58.0</td>\n",
       "      <td>33</td>\n",
       "      <td>High School or Below</td>\n",
       "      <td>male</td>\n",
       "      <td>0</td>\n",
       "      <td>0</td>\n",
       "    </tr>\n",
       "    <tr>\n",
       "      <th>397</th>\n",
       "      <td>xqd20160398</td>\n",
       "      <td>COLLECTION</td>\n",
       "      <td>800</td>\n",
       "      <td>15</td>\n",
       "      <td>9/12/2016</td>\n",
       "      <td>9/26/2016</td>\n",
       "      <td>NaN</td>\n",
       "      <td>73.0</td>\n",
       "      <td>39</td>\n",
       "      <td>college</td>\n",
       "      <td>male</td>\n",
       "      <td>0</td>\n",
       "      <td>1</td>\n",
       "    </tr>\n",
       "    <tr>\n",
       "      <th>398</th>\n",
       "      <td>xqd20160399</td>\n",
       "      <td>COLLECTION</td>\n",
       "      <td>1000</td>\n",
       "      <td>30</td>\n",
       "      <td>9/12/2016</td>\n",
       "      <td>11/10/2016</td>\n",
       "      <td>NaN</td>\n",
       "      <td>28.0</td>\n",
       "      <td>28</td>\n",
       "      <td>college</td>\n",
       "      <td>male</td>\n",
       "      <td>0</td>\n",
       "      <td>1</td>\n",
       "    </tr>\n",
       "    <tr>\n",
       "      <th>399</th>\n",
       "      <td>xqd20160400</td>\n",
       "      <td>COLLECTION</td>\n",
       "      <td>1000</td>\n",
       "      <td>30</td>\n",
       "      <td>9/12/2016</td>\n",
       "      <td>10/11/2016</td>\n",
       "      <td>NaN</td>\n",
       "      <td>58.0</td>\n",
       "      <td>26</td>\n",
       "      <td>college</td>\n",
       "      <td>male</td>\n",
       "      <td>0</td>\n",
       "      <td>1</td>\n",
       "    </tr>\n",
       "  </tbody>\n",
       "</table>\n",
       "<p>100 rows × 13 columns</p>\n",
       "</div>"
      ],
      "text/plain": [
       "         Loan_ID loan_status  Principal  terms effective_date    due_date  \\\n",
       "300  xqd20160301  COLLECTION       1000     15       9/9/2016   9/23/2016   \n",
       "301  xqd20160302  COLLECTION       1000     30       9/9/2016   10/8/2016   \n",
       "302  xqd20160303  COLLECTION       1000     30       9/9/2016   10/8/2016   \n",
       "303  xqd20160304  COLLECTION        800     15       9/9/2016   9/23/2016   \n",
       "304  xqd20160305  COLLECTION        800     15       9/9/2016   9/23/2016   \n",
       "..           ...         ...        ...    ...            ...         ...   \n",
       "395  xqd20160396  COLLECTION       1000     30      9/11/2016  10/10/2016   \n",
       "396  xqd20160397  COLLECTION       1000     30      9/12/2016  10/11/2016   \n",
       "397  xqd20160398  COLLECTION        800     15      9/12/2016   9/26/2016   \n",
       "398  xqd20160399  COLLECTION       1000     30      9/12/2016  11/10/2016   \n",
       "399  xqd20160400  COLLECTION       1000     30      9/12/2016  10/11/2016   \n",
       "\n",
       "    paid_off_time  past_due_days  age             education Gender  \\\n",
       "300           NaN           76.0   29               college   male   \n",
       "301           NaN           61.0   37  High School or Below   male   \n",
       "302           NaN           61.0   33  High School or Below   male   \n",
       "303           NaN           76.0   27               college   male   \n",
       "304           NaN           76.0   24              Bechalor   male   \n",
       "..            ...            ...  ...                   ...    ...   \n",
       "395           NaN           59.0   25  High School or Below   male   \n",
       "396           NaN           58.0   33  High School or Below   male   \n",
       "397           NaN           73.0   39               college   male   \n",
       "398           NaN           28.0   28               college   male   \n",
       "399           NaN           58.0   26               college   male   \n",
       "\n",
       "     Loan_status  Education  \n",
       "300            0          1  \n",
       "301            0          0  \n",
       "302            0          0  \n",
       "303            0          1  \n",
       "304            0          2  \n",
       "..           ...        ...  \n",
       "395            0          0  \n",
       "396            0          0  \n",
       "397            0          1  \n",
       "398            0          1  \n",
       "399            0          1  \n",
       "\n",
       "[100 rows x 13 columns]"
      ]
     },
     "execution_count": 13,
     "metadata": {},
     "output_type": "execute_result"
    }
   ],
   "source": [
    "Loan_payment_df[Loan_payment_df['paid_off_time'].isnull()== True]"
   ]
  },
  {
   "cell_type": "code",
   "execution_count": 14,
   "id": "extra-string",
   "metadata": {},
   "outputs": [
    {
     "data": {
      "text/html": [
       "<div>\n",
       "<style scoped>\n",
       "    .dataframe tbody tr th:only-of-type {\n",
       "        vertical-align: middle;\n",
       "    }\n",
       "\n",
       "    .dataframe tbody tr th {\n",
       "        vertical-align: top;\n",
       "    }\n",
       "\n",
       "    .dataframe thead th {\n",
       "        text-align: right;\n",
       "    }\n",
       "</style>\n",
       "<table border=\"1\" class=\"dataframe\">\n",
       "  <thead>\n",
       "    <tr style=\"text-align: right;\">\n",
       "      <th></th>\n",
       "      <th>Loan_ID</th>\n",
       "      <th>loan_status</th>\n",
       "      <th>Principal</th>\n",
       "      <th>terms</th>\n",
       "      <th>effective_date</th>\n",
       "      <th>due_date</th>\n",
       "      <th>paid_off_time</th>\n",
       "      <th>past_due_days</th>\n",
       "      <th>age</th>\n",
       "      <th>education</th>\n",
       "      <th>Gender</th>\n",
       "      <th>Loan_status</th>\n",
       "      <th>Education</th>\n",
       "    </tr>\n",
       "  </thead>\n",
       "  <tbody>\n",
       "    <tr>\n",
       "      <th>0</th>\n",
       "      <td>xqd20166231</td>\n",
       "      <td>PAIDOFF</td>\n",
       "      <td>1000</td>\n",
       "      <td>30</td>\n",
       "      <td>9/8/2016</td>\n",
       "      <td>10/7/2016</td>\n",
       "      <td>9/14/2016 19:31</td>\n",
       "      <td>NaN</td>\n",
       "      <td>45</td>\n",
       "      <td>High School or Below</td>\n",
       "      <td>male</td>\n",
       "      <td>1</td>\n",
       "      <td>0</td>\n",
       "    </tr>\n",
       "    <tr>\n",
       "      <th>1</th>\n",
       "      <td>xqd20168902</td>\n",
       "      <td>PAIDOFF</td>\n",
       "      <td>1000</td>\n",
       "      <td>30</td>\n",
       "      <td>9/8/2016</td>\n",
       "      <td>10/7/2016</td>\n",
       "      <td>10/7/2016 9:00</td>\n",
       "      <td>NaN</td>\n",
       "      <td>50</td>\n",
       "      <td>Bechalor</td>\n",
       "      <td>female</td>\n",
       "      <td>1</td>\n",
       "      <td>2</td>\n",
       "    </tr>\n",
       "    <tr>\n",
       "      <th>2</th>\n",
       "      <td>xqd20160003</td>\n",
       "      <td>PAIDOFF</td>\n",
       "      <td>1000</td>\n",
       "      <td>30</td>\n",
       "      <td>9/8/2016</td>\n",
       "      <td>10/7/2016</td>\n",
       "      <td>9/25/2016 16:58</td>\n",
       "      <td>NaN</td>\n",
       "      <td>33</td>\n",
       "      <td>Bechalor</td>\n",
       "      <td>female</td>\n",
       "      <td>1</td>\n",
       "      <td>2</td>\n",
       "    </tr>\n",
       "    <tr>\n",
       "      <th>3</th>\n",
       "      <td>xqd20160004</td>\n",
       "      <td>PAIDOFF</td>\n",
       "      <td>1000</td>\n",
       "      <td>15</td>\n",
       "      <td>9/8/2016</td>\n",
       "      <td>9/22/2016</td>\n",
       "      <td>9/22/2016 20:00</td>\n",
       "      <td>NaN</td>\n",
       "      <td>27</td>\n",
       "      <td>college</td>\n",
       "      <td>male</td>\n",
       "      <td>1</td>\n",
       "      <td>1</td>\n",
       "    </tr>\n",
       "    <tr>\n",
       "      <th>4</th>\n",
       "      <td>xqd20160005</td>\n",
       "      <td>PAIDOFF</td>\n",
       "      <td>1000</td>\n",
       "      <td>30</td>\n",
       "      <td>9/9/2016</td>\n",
       "      <td>10/8/2016</td>\n",
       "      <td>9/23/2016 21:36</td>\n",
       "      <td>NaN</td>\n",
       "      <td>28</td>\n",
       "      <td>college</td>\n",
       "      <td>female</td>\n",
       "      <td>1</td>\n",
       "      <td>1</td>\n",
       "    </tr>\n",
       "    <tr>\n",
       "      <th>...</th>\n",
       "      <td>...</td>\n",
       "      <td>...</td>\n",
       "      <td>...</td>\n",
       "      <td>...</td>\n",
       "      <td>...</td>\n",
       "      <td>...</td>\n",
       "      <td>...</td>\n",
       "      <td>...</td>\n",
       "      <td>...</td>\n",
       "      <td>...</td>\n",
       "      <td>...</td>\n",
       "      <td>...</td>\n",
       "      <td>...</td>\n",
       "    </tr>\n",
       "    <tr>\n",
       "      <th>295</th>\n",
       "      <td>xqd20160296</td>\n",
       "      <td>PAIDOFF</td>\n",
       "      <td>1000</td>\n",
       "      <td>30</td>\n",
       "      <td>9/14/2016</td>\n",
       "      <td>10/13/2016</td>\n",
       "      <td>10/13/2016 13:00</td>\n",
       "      <td>NaN</td>\n",
       "      <td>30</td>\n",
       "      <td>college</td>\n",
       "      <td>female</td>\n",
       "      <td>1</td>\n",
       "      <td>1</td>\n",
       "    </tr>\n",
       "    <tr>\n",
       "      <th>296</th>\n",
       "      <td>xqd20160297</td>\n",
       "      <td>PAIDOFF</td>\n",
       "      <td>800</td>\n",
       "      <td>15</td>\n",
       "      <td>9/14/2016</td>\n",
       "      <td>9/28/2016</td>\n",
       "      <td>9/21/2016 4:42</td>\n",
       "      <td>NaN</td>\n",
       "      <td>27</td>\n",
       "      <td>college</td>\n",
       "      <td>male</td>\n",
       "      <td>1</td>\n",
       "      <td>1</td>\n",
       "    </tr>\n",
       "    <tr>\n",
       "      <th>297</th>\n",
       "      <td>xqd20160298</td>\n",
       "      <td>PAIDOFF</td>\n",
       "      <td>1000</td>\n",
       "      <td>30</td>\n",
       "      <td>9/14/2016</td>\n",
       "      <td>10/13/2016</td>\n",
       "      <td>10/13/2016 9:00</td>\n",
       "      <td>NaN</td>\n",
       "      <td>29</td>\n",
       "      <td>High School or Below</td>\n",
       "      <td>male</td>\n",
       "      <td>1</td>\n",
       "      <td>0</td>\n",
       "    </tr>\n",
       "    <tr>\n",
       "      <th>298</th>\n",
       "      <td>xqd20160299</td>\n",
       "      <td>PAIDOFF</td>\n",
       "      <td>1000</td>\n",
       "      <td>30</td>\n",
       "      <td>9/14/2016</td>\n",
       "      <td>10/13/2016</td>\n",
       "      <td>10/13/2016 9:00</td>\n",
       "      <td>NaN</td>\n",
       "      <td>40</td>\n",
       "      <td>High School or Below</td>\n",
       "      <td>male</td>\n",
       "      <td>1</td>\n",
       "      <td>0</td>\n",
       "    </tr>\n",
       "    <tr>\n",
       "      <th>299</th>\n",
       "      <td>xqd20160300</td>\n",
       "      <td>PAIDOFF</td>\n",
       "      <td>1000</td>\n",
       "      <td>30</td>\n",
       "      <td>9/14/2016</td>\n",
       "      <td>10/13/2016</td>\n",
       "      <td>10/13/2016 11:00</td>\n",
       "      <td>NaN</td>\n",
       "      <td>28</td>\n",
       "      <td>college</td>\n",
       "      <td>male</td>\n",
       "      <td>1</td>\n",
       "      <td>1</td>\n",
       "    </tr>\n",
       "  </tbody>\n",
       "</table>\n",
       "<p>300 rows × 13 columns</p>\n",
       "</div>"
      ],
      "text/plain": [
       "         Loan_ID loan_status  Principal  terms effective_date    due_date  \\\n",
       "0    xqd20166231     PAIDOFF       1000     30       9/8/2016   10/7/2016   \n",
       "1    xqd20168902     PAIDOFF       1000     30       9/8/2016   10/7/2016   \n",
       "2    xqd20160003     PAIDOFF       1000     30       9/8/2016   10/7/2016   \n",
       "3    xqd20160004     PAIDOFF       1000     15       9/8/2016   9/22/2016   \n",
       "4    xqd20160005     PAIDOFF       1000     30       9/9/2016   10/8/2016   \n",
       "..           ...         ...        ...    ...            ...         ...   \n",
       "295  xqd20160296     PAIDOFF       1000     30      9/14/2016  10/13/2016   \n",
       "296  xqd20160297     PAIDOFF        800     15      9/14/2016   9/28/2016   \n",
       "297  xqd20160298     PAIDOFF       1000     30      9/14/2016  10/13/2016   \n",
       "298  xqd20160299     PAIDOFF       1000     30      9/14/2016  10/13/2016   \n",
       "299  xqd20160300     PAIDOFF       1000     30      9/14/2016  10/13/2016   \n",
       "\n",
       "        paid_off_time  past_due_days  age             education  Gender  \\\n",
       "0     9/14/2016 19:31            NaN   45  High School or Below    male   \n",
       "1      10/7/2016 9:00            NaN   50              Bechalor  female   \n",
       "2     9/25/2016 16:58            NaN   33              Bechalor  female   \n",
       "3     9/22/2016 20:00            NaN   27               college    male   \n",
       "4     9/23/2016 21:36            NaN   28               college  female   \n",
       "..                ...            ...  ...                   ...     ...   \n",
       "295  10/13/2016 13:00            NaN   30               college  female   \n",
       "296    9/21/2016 4:42            NaN   27               college    male   \n",
       "297   10/13/2016 9:00            NaN   29  High School or Below    male   \n",
       "298   10/13/2016 9:00            NaN   40  High School or Below    male   \n",
       "299  10/13/2016 11:00            NaN   28               college    male   \n",
       "\n",
       "     Loan_status  Education  \n",
       "0              1          0  \n",
       "1              1          2  \n",
       "2              1          2  \n",
       "3              1          1  \n",
       "4              1          1  \n",
       "..           ...        ...  \n",
       "295            1          1  \n",
       "296            1          1  \n",
       "297            1          0  \n",
       "298            1          0  \n",
       "299            1          1  \n",
       "\n",
       "[300 rows x 13 columns]"
      ]
     },
     "execution_count": 14,
     "metadata": {},
     "output_type": "execute_result"
    }
   ],
   "source": [
    "Loan_payment_df[Loan_payment_df['past_due_days'].isnull()== True]"
   ]
  },
  {
   "cell_type": "markdown",
   "id": "responsible-matthew",
   "metadata": {},
   "source": [
    "### object type -> datetime type(필요X)"
   ]
  },
  {
   "cell_type": "code",
   "execution_count": 15,
   "id": "finite-toilet",
   "metadata": {},
   "outputs": [],
   "source": [
    "Loan_payment_df['paid_off_time']= pd.to_datetime(Loan_payment_df['paid_off_time'])\n",
    "Loan_payment_df['effective_date']= pd.to_datetime(Loan_payment_df['effective_date'], format='%m/%d/%Y', errors='coerce')"
   ]
  },
  {
   "cell_type": "code",
   "execution_count": 16,
   "id": "toxic-grocery",
   "metadata": {
    "scrolled": true
   },
   "outputs": [
    {
     "data": {
      "text/plain": [
       "Loan_ID                   object\n",
       "loan_status               object\n",
       "Principal                  int64\n",
       "terms                      int64\n",
       "effective_date    datetime64[ns]\n",
       "due_date                  object\n",
       "paid_off_time     datetime64[ns]\n",
       "past_due_days            float64\n",
       "age                        int64\n",
       "education                 object\n",
       "Gender                    object\n",
       "Loan_status                int64\n",
       "Education                  int64\n",
       "dtype: object"
      ]
     },
     "execution_count": 16,
     "metadata": {},
     "output_type": "execute_result"
    }
   ],
   "source": [
    "Loan_payment_df.dtypes"
   ]
  },
  {
   "cell_type": "code",
   "execution_count": 17,
   "id": "intellectual-capability",
   "metadata": {},
   "outputs": [
    {
     "data": {
      "text/html": [
       "<div>\n",
       "<style scoped>\n",
       "    .dataframe tbody tr th:only-of-type {\n",
       "        vertical-align: middle;\n",
       "    }\n",
       "\n",
       "    .dataframe tbody tr th {\n",
       "        vertical-align: top;\n",
       "    }\n",
       "\n",
       "    .dataframe thead th {\n",
       "        text-align: right;\n",
       "    }\n",
       "</style>\n",
       "<table border=\"1\" class=\"dataframe\">\n",
       "  <thead>\n",
       "    <tr style=\"text-align: right;\">\n",
       "      <th></th>\n",
       "      <th>Principal</th>\n",
       "      <th>terms</th>\n",
       "      <th>past_due_days</th>\n",
       "      <th>age</th>\n",
       "      <th>Loan_status</th>\n",
       "      <th>Education</th>\n",
       "    </tr>\n",
       "  </thead>\n",
       "  <tbody>\n",
       "    <tr>\n",
       "      <th>Principal</th>\n",
       "      <td>1.000000</td>\n",
       "      <td>0.534302</td>\n",
       "      <td>-0.093139</td>\n",
       "      <td>-0.092613</td>\n",
       "      <td>-0.087235</td>\n",
       "      <td>-0.104652</td>\n",
       "    </tr>\n",
       "    <tr>\n",
       "      <th>terms</th>\n",
       "      <td>0.534302</td>\n",
       "      <td>1.000000</td>\n",
       "      <td>-0.102613</td>\n",
       "      <td>-0.074259</td>\n",
       "      <td>-0.108395</td>\n",
       "      <td>-0.123988</td>\n",
       "    </tr>\n",
       "    <tr>\n",
       "      <th>past_due_days</th>\n",
       "      <td>-0.093139</td>\n",
       "      <td>-0.102613</td>\n",
       "      <td>1.000000</td>\n",
       "      <td>-0.053849</td>\n",
       "      <td>NaN</td>\n",
       "      <td>-0.067452</td>\n",
       "    </tr>\n",
       "    <tr>\n",
       "      <th>age</th>\n",
       "      <td>-0.092613</td>\n",
       "      <td>-0.074259</td>\n",
       "      <td>-0.053849</td>\n",
       "      <td>1.000000</td>\n",
       "      <td>0.018939</td>\n",
       "      <td>0.039788</td>\n",
       "    </tr>\n",
       "    <tr>\n",
       "      <th>Loan_status</th>\n",
       "      <td>-0.087235</td>\n",
       "      <td>-0.108395</td>\n",
       "      <td>NaN</td>\n",
       "      <td>0.018939</td>\n",
       "      <td>1.000000</td>\n",
       "      <td>0.025100</td>\n",
       "    </tr>\n",
       "    <tr>\n",
       "      <th>Education</th>\n",
       "      <td>-0.104652</td>\n",
       "      <td>-0.123988</td>\n",
       "      <td>-0.067452</td>\n",
       "      <td>0.039788</td>\n",
       "      <td>0.025100</td>\n",
       "      <td>1.000000</td>\n",
       "    </tr>\n",
       "  </tbody>\n",
       "</table>\n",
       "</div>"
      ],
      "text/plain": [
       "               Principal     terms  past_due_days       age  Loan_status  \\\n",
       "Principal       1.000000  0.534302      -0.093139 -0.092613    -0.087235   \n",
       "terms           0.534302  1.000000      -0.102613 -0.074259    -0.108395   \n",
       "past_due_days  -0.093139 -0.102613       1.000000 -0.053849          NaN   \n",
       "age            -0.092613 -0.074259      -0.053849  1.000000     0.018939   \n",
       "Loan_status    -0.087235 -0.108395            NaN  0.018939     1.000000   \n",
       "Education      -0.104652 -0.123988      -0.067452  0.039788     0.025100   \n",
       "\n",
       "               Education  \n",
       "Principal      -0.104652  \n",
       "terms          -0.123988  \n",
       "past_due_days  -0.067452  \n",
       "age             0.039788  \n",
       "Loan_status     0.025100  \n",
       "Education       1.000000  "
      ]
     },
     "execution_count": 17,
     "metadata": {},
     "output_type": "execute_result"
    }
   ],
   "source": [
    "Loan_payment_df.corr()"
   ]
  },
  {
   "cell_type": "markdown",
   "id": "located-rubber",
   "metadata": {},
   "source": [
    "- 수치형 데이터의 대부분의 상관계수가 높다고 볼수 없다.\n",
    "- Principal 과 terms은 양의 상관계수가 존재\n",
    "- terms와 past_due_day는 양의 상관계수가 존재"
   ]
  },
  {
   "cell_type": "markdown",
   "id": "liberal-triumph",
   "metadata": {},
   "source": [
    "## 2. 데이터셋에 대한 가설"
   ]
  },
  {
   "cell_type": "markdown",
   "id": "extra-eating",
   "metadata": {},
   "source": [
    "- Principal(대출 금액)와 상환여부 사이에 관계가 존재하는지?\n",
    "- Gender(성별)와 상환여부 사이에 관계가 존재하는지?\n",
    "- 여성과 남성 중 상환율이 더 높은 경우는?\n",
    "- Age(나이)가 상환여부 사이에 관계가 존재하는지?\n",
    "- Education(교육수준)와 상환여부 사이에 관계가 존재하는지?\n",
    "- Terms(대출금 지급까지 걸린 기간)와 상환여부 사이에 관계가 존재하는지?\n",
    "- Age와 Education사이에 관계가 존재하는지?\n",
    "- Age와 Education에 따라 상환여부가 달라지는지?\n",
    "\n",
    "- Terms와 Gender에 따라 상환여부가 달라지는지?\n"
   ]
  },
  {
   "cell_type": "markdown",
   "id": "legitimate-sound",
   "metadata": {},
   "source": [
    "## 3. 가설을 증명하기 위한 여러 데이터 분석 / 시각화"
   ]
  },
  {
   "cell_type": "markdown",
   "id": "coral-pattern",
   "metadata": {},
   "source": [
    "### 데이터의 개별 속성 파악하기"
   ]
  },
  {
   "cell_type": "markdown",
   "id": "hydraulic-shuttle",
   "metadata": {},
   "source": [
    "### I. Loan_status\n",
    "- `0 : 상환`\n",
    "- `1 : 미상환`"
   ]
  },
  {
   "cell_type": "code",
   "execution_count": 18,
   "id": "adolescent-detective",
   "metadata": {},
   "outputs": [
    {
     "data": {
      "text/plain": [
       "1    300\n",
       "0    200\n",
       "Name: Loan_status, dtype: int64"
      ]
     },
     "execution_count": 18,
     "metadata": {},
     "output_type": "execute_result"
    }
   ],
   "source": [
    "Loan_payment_df['Loan_status'].value_counts()"
   ]
  },
  {
   "cell_type": "code",
   "execution_count": 19,
   "id": "alternate-interstate",
   "metadata": {},
   "outputs": [
    {
     "data": {
      "image/png": "[encoded data removed]",
      "text/plain": [
       "<Figure size 432x288 with 1 Axes>"
      ]
     },
     "metadata": {
      "needs_background": "light"
     },
     "output_type": "display_data"
    }
   ],
   "source": [
    "sns.countplot(x ='Loan_status', data = Loan_payment_df)\n",
    "plt.show()"
   ]
  },
  {
   "cell_type": "markdown",
   "id": "looking-contact",
   "metadata": {},
   "source": [
    "- 상환 : 300명\n",
    "- 미상환 : 200명"
   ]
  },
  {
   "cell_type": "markdown",
   "id": "threaded-denmark",
   "metadata": {},
   "source": [
    "### II. Principal"
   ]
  },
  {
   "cell_type": "code",
   "execution_count": 20,
   "id": "valued-heater",
   "metadata": {},
   "outputs": [
    {
     "data": {
      "text/plain": [
       "count     500.000000\n",
       "mean      943.200000\n",
       "std       115.240274\n",
       "min       300.000000\n",
       "25%      1000.000000\n",
       "50%      1000.000000\n",
       "75%      1000.000000\n",
       "max      1000.000000\n",
       "Name: Principal, dtype: float64"
      ]
     },
     "execution_count": 20,
     "metadata": {},
     "output_type": "execute_result"
    }
   ],
   "source": [
    "Loan_payment_df['Principal'].describe() "
   ]
  },
  {
   "cell_type": "code",
   "execution_count": 21,
   "id": "conservative-connectivity",
   "metadata": {},
   "outputs": [
    {
     "data": {
      "text/plain": [
       "1000    377\n",
       "800     111\n",
       "300       6\n",
       "500       3\n",
       "900       2\n",
       "700       1\n",
       "Name: Principal, dtype: int64"
      ]
     },
     "execution_count": 21,
     "metadata": {},
     "output_type": "execute_result"
    }
   ],
   "source": [
    "Loan_payment_df['Principal'].value_counts()"
   ]
  },
  {
   "cell_type": "code",
   "execution_count": 22,
   "id": "threatened-television",
   "metadata": {},
   "outputs": [
    {
     "data": {
      "image/png": "[encoded data removed]",
      "text/plain": [
       "<Figure size 432x288 with 1 Axes>"
      ]
     },
     "metadata": {
      "needs_background": "light"
     },
     "output_type": "display_data"
    }
   ],
   "source": [
    "sns.countplot(Loan_payment_df['Principal'])\n",
    "plt.show()"
   ]
  },
  {
   "cell_type": "code",
   "execution_count": 23,
   "id": "committed-village",
   "metadata": {},
   "outputs": [
    {
     "data": {
      "image/png": "[encoded data removed]",
      "text/plain": [
       "<Figure size 432x288 with 1 Axes>"
      ]
     },
     "metadata": {
      "needs_background": "light"
     },
     "output_type": "display_data"
    }
   ],
   "source": [
    "Loan_payment_df['Principal'][Loan_payment_df.Loan_status == 0].plot(kind='kde')\n",
    "Loan_payment_df['Principal'][Loan_payment_df.Loan_status == 1].plot(kind='kde')\n",
    "plt.legend(['NOT PAIDOFF','PAIDOFF'])\n",
    "plt.show()"
   ]
  },
  {
   "cell_type": "markdown",
   "id": "stock-berlin",
   "metadata": {},
   "source": [
    "- 많은 고객들이 빌리는 금액 800달러와 1000달러의 경우 상환하는 경우보다 미상환 하는 경우가 많다 "
   ]
  },
  {
   "cell_type": "markdown",
   "id": "indoor-session",
   "metadata": {},
   "source": [
    "### III. Gender\n",
    "- `female`\n",
    "- `male`"
   ]
  },
  {
   "cell_type": "code",
   "execution_count": 24,
   "id": "precise-configuration",
   "metadata": {},
   "outputs": [
    {
     "data": {
      "text/plain": [
       "Gender  Loan_status\n",
       "female  0               24\n",
       "        1               53\n",
       "male    0              176\n",
       "        1              247\n",
       "Name: Loan_status, dtype: int64"
      ]
     },
     "execution_count": 24,
     "metadata": {},
     "output_type": "execute_result"
    }
   ],
   "source": [
    "Loan_payment_df.groupby(['Gender','Loan_status'])['Loan_status'].count()"
   ]
  },
  {
   "cell_type": "code",
   "execution_count": 25,
   "id": "addressed-lodging",
   "metadata": {},
   "outputs": [
    {
     "data": {
      "image/png": "[encoded data removed]",
      "text/plain": [
       "<Figure size 720x360 with 2 Axes>"
      ]
     },
     "metadata": {
      "needs_background": "light"
     },
     "output_type": "display_data"
    }
   ],
   "source": [
    "sns.catplot(x='Gender',col ='Loan_status', kind = 'count',data=Loan_payment_df)\n",
    "plt.show()"
   ]
  },
  {
   "cell_type": "code",
   "execution_count": 26,
   "id": "formed-partner",
   "metadata": {},
   "outputs": [
    {
     "data": {
      "text/html": [
       "<div>\n",
       "<style scoped>\n",
       "    .dataframe tbody tr th:only-of-type {\n",
       "        vertical-align: middle;\n",
       "    }\n",
       "\n",
       "    .dataframe tbody tr th {\n",
       "        vertical-align: top;\n",
       "    }\n",
       "\n",
       "    .dataframe thead th {\n",
       "        text-align: right;\n",
       "    }\n",
       "</style>\n",
       "<table border=\"1\" class=\"dataframe\">\n",
       "  <thead>\n",
       "    <tr style=\"text-align: right;\">\n",
       "      <th></th>\n",
       "      <th>Loan_status</th>\n",
       "    </tr>\n",
       "    <tr>\n",
       "      <th>Gender</th>\n",
       "      <th></th>\n",
       "    </tr>\n",
       "  </thead>\n",
       "  <tbody>\n",
       "    <tr>\n",
       "      <th>female</th>\n",
       "      <td>0.688312</td>\n",
       "    </tr>\n",
       "    <tr>\n",
       "      <th>male</th>\n",
       "      <td>0.583924</td>\n",
       "    </tr>\n",
       "  </tbody>\n",
       "</table>\n",
       "</div>"
      ],
      "text/plain": [
       "        Loan_status\n",
       "Gender             \n",
       "female     0.688312\n",
       "male       0.583924"
      ]
     },
     "execution_count": 26,
     "metadata": {},
     "output_type": "execute_result"
    }
   ],
   "source": [
    "Loan_payment_df[['Gender','Loan_status']].groupby(['Gender']).mean()"
   ]
  },
  {
   "cell_type": "code",
   "execution_count": 27,
   "id": "needed-programmer",
   "metadata": {},
   "outputs": [
    {
     "data": {
      "image/png": "[encoded data removed]",
      "text/plain": [
       "<Figure size 432x288 with 2 Axes>"
      ]
     },
     "metadata": {
      "needs_background": "light"
     },
     "output_type": "display_data"
    }
   ],
   "source": [
    "sns.heatmap(Loan_payment_df[['Gender','Loan_status']].groupby(['Gender']).mean())\n",
    "plt.show()"
   ]
  },
  {
   "cell_type": "markdown",
   "id": "viral-arabic",
   "metadata": {},
   "source": [
    "- 상환률은 남성보다 여성의 경우 더 높다."
   ]
  },
  {
   "cell_type": "markdown",
   "id": "offshore-yugoslavia",
   "metadata": {},
   "source": [
    "### IV. Age"
   ]
  },
  {
   "cell_type": "code",
   "execution_count": 28,
   "id": "detailed-convert",
   "metadata": {},
   "outputs": [
    {
     "data": {
      "text/plain": [
       "count    500.000000\n",
       "mean      31.116000\n",
       "std        6.084784\n",
       "min       18.000000\n",
       "25%       27.000000\n",
       "50%       30.000000\n",
       "75%       35.000000\n",
       "max       51.000000\n",
       "Name: age, dtype: float64"
      ]
     },
     "execution_count": 28,
     "metadata": {},
     "output_type": "execute_result"
    }
   ],
   "source": [
    "Loan_payment_df['age'].describe()"
   ]
  },
  {
   "cell_type": "code",
   "execution_count": 29,
   "id": "generic-engine",
   "metadata": {},
   "outputs": [
    {
     "data": {
      "image/png": "[encoded data removed]",
      "text/plain": [
       "<Figure size 720x360 with 1 Axes>"
      ]
     },
     "metadata": {
      "needs_background": "light"
     },
     "output_type": "display_data"
    }
   ],
   "source": [
    "fig, ax = plt.subplots(1,1, figsize=(10,5))\n",
    "sns.kdeplot(Loan_payment_df[Loan_payment_df.Loan_status==0]['age'],ax=ax)\n",
    "sns.kdeplot(Loan_payment_df[Loan_payment_df.Loan_status==1]['age'],ax=ax)\n",
    "plt.legend(['NOT PAIDOFF','PAIDOFF'])\n",
    "plt.show()"
   ]
  },
  {
   "cell_type": "markdown",
   "id": "adapted-interview",
   "metadata": {},
   "source": [
    "- 30대의 경우 상환하는 사람이 상환하지 못하는 사람보다 많음\n",
    "- 20대의 경우 상환하지 못하는 사람이 상환하는 사람보다 많음"
   ]
  },
  {
   "cell_type": "markdown",
   "id": "superb-briefs",
   "metadata": {},
   "source": [
    "### V. Education\n",
    "- `0 : High School or Below`\n",
    "- `1 : college`\n",
    "- `2 : Bechalor`\n",
    "- `3 : Master or Above`"
   ]
  },
  {
   "cell_type": "code",
   "execution_count": 30,
   "id": "cardiovascular-community",
   "metadata": {},
   "outputs": [
    {
     "data": {
      "text/html": [
       "<div>\n",
       "<style scoped>\n",
       "    .dataframe tbody tr th:only-of-type {\n",
       "        vertical-align: middle;\n",
       "    }\n",
       "\n",
       "    .dataframe tbody tr th {\n",
       "        vertical-align: top;\n",
       "    }\n",
       "\n",
       "    .dataframe thead th {\n",
       "        text-align: right;\n",
       "    }\n",
       "</style>\n",
       "<table border=\"1\" class=\"dataframe\">\n",
       "  <thead>\n",
       "    <tr style=\"text-align: right;\">\n",
       "      <th></th>\n",
       "      <th>Loan_status</th>\n",
       "    </tr>\n",
       "    <tr>\n",
       "      <th>Education</th>\n",
       "      <th></th>\n",
       "    </tr>\n",
       "  </thead>\n",
       "  <tbody>\n",
       "    <tr>\n",
       "      <th>0</th>\n",
       "      <td>209</td>\n",
       "    </tr>\n",
       "    <tr>\n",
       "      <th>1</th>\n",
       "      <td>220</td>\n",
       "    </tr>\n",
       "    <tr>\n",
       "      <th>2</th>\n",
       "      <td>67</td>\n",
       "    </tr>\n",
       "    <tr>\n",
       "      <th>3</th>\n",
       "      <td>4</td>\n",
       "    </tr>\n",
       "  </tbody>\n",
       "</table>\n",
       "</div>"
      ],
      "text/plain": [
       "           Loan_status\n",
       "Education             \n",
       "0                  209\n",
       "1                  220\n",
       "2                   67\n",
       "3                    4"
      ]
     },
     "execution_count": 30,
     "metadata": {},
     "output_type": "execute_result"
    }
   ],
   "source": [
    "Loan_payment_df[['Education','Loan_status']].groupby(['Education']).count()"
   ]
  },
  {
   "cell_type": "code",
   "execution_count": 31,
   "id": "german-xerox",
   "metadata": {},
   "outputs": [
    {
     "data": {
      "text/html": [
       "<div>\n",
       "<style scoped>\n",
       "    .dataframe tbody tr th:only-of-type {\n",
       "        vertical-align: middle;\n",
       "    }\n",
       "\n",
       "    .dataframe tbody tr th {\n",
       "        vertical-align: top;\n",
       "    }\n",
       "\n",
       "    .dataframe thead th {\n",
       "        text-align: right;\n",
       "    }\n",
       "</style>\n",
       "<table border=\"1\" class=\"dataframe\">\n",
       "  <thead>\n",
       "    <tr style=\"text-align: right;\">\n",
       "      <th></th>\n",
       "      <th>Loan_status</th>\n",
       "    </tr>\n",
       "    <tr>\n",
       "      <th>Education</th>\n",
       "      <th></th>\n",
       "    </tr>\n",
       "  </thead>\n",
       "  <tbody>\n",
       "    <tr>\n",
       "      <th>0</th>\n",
       "      <td>123</td>\n",
       "    </tr>\n",
       "    <tr>\n",
       "      <th>1</th>\n",
       "      <td>133</td>\n",
       "    </tr>\n",
       "    <tr>\n",
       "      <th>2</th>\n",
       "      <td>41</td>\n",
       "    </tr>\n",
       "    <tr>\n",
       "      <th>3</th>\n",
       "      <td>3</td>\n",
       "    </tr>\n",
       "  </tbody>\n",
       "</table>\n",
       "</div>"
      ],
      "text/plain": [
       "           Loan_status\n",
       "Education             \n",
       "0                  123\n",
       "1                  133\n",
       "2                   41\n",
       "3                    3"
      ]
     },
     "execution_count": 31,
     "metadata": {},
     "output_type": "execute_result"
    }
   ],
   "source": [
    "Loan_payment_df[['Education','Loan_status']].groupby(['Education']).sum()"
   ]
  },
  {
   "cell_type": "code",
   "execution_count": 32,
   "id": "occupational-dodge",
   "metadata": {},
   "outputs": [
    {
     "data": {
      "text/html": [
       "<div>\n",
       "<style scoped>\n",
       "    .dataframe tbody tr th:only-of-type {\n",
       "        vertical-align: middle;\n",
       "    }\n",
       "\n",
       "    .dataframe tbody tr th {\n",
       "        vertical-align: top;\n",
       "    }\n",
       "\n",
       "    .dataframe thead th {\n",
       "        text-align: right;\n",
       "    }\n",
       "</style>\n",
       "<table border=\"1\" class=\"dataframe\">\n",
       "  <thead>\n",
       "    <tr style=\"text-align: right;\">\n",
       "      <th></th>\n",
       "      <th></th>\n",
       "      <th>Loan_status</th>\n",
       "    </tr>\n",
       "    <tr>\n",
       "      <th>Education</th>\n",
       "      <th>Gender</th>\n",
       "      <th></th>\n",
       "    </tr>\n",
       "  </thead>\n",
       "  <tbody>\n",
       "    <tr>\n",
       "      <th rowspan=\"2\" valign=\"top\">0</th>\n",
       "      <th>female</th>\n",
       "      <td>31</td>\n",
       "    </tr>\n",
       "    <tr>\n",
       "      <th>male</th>\n",
       "      <td>178</td>\n",
       "    </tr>\n",
       "    <tr>\n",
       "      <th rowspan=\"2\" valign=\"top\">1</th>\n",
       "      <th>female</th>\n",
       "      <td>33</td>\n",
       "    </tr>\n",
       "    <tr>\n",
       "      <th>male</th>\n",
       "      <td>187</td>\n",
       "    </tr>\n",
       "    <tr>\n",
       "      <th rowspan=\"2\" valign=\"top\">2</th>\n",
       "      <th>female</th>\n",
       "      <td>13</td>\n",
       "    </tr>\n",
       "    <tr>\n",
       "      <th>male</th>\n",
       "      <td>54</td>\n",
       "    </tr>\n",
       "    <tr>\n",
       "      <th>3</th>\n",
       "      <th>male</th>\n",
       "      <td>4</td>\n",
       "    </tr>\n",
       "  </tbody>\n",
       "</table>\n",
       "</div>"
      ],
      "text/plain": [
       "                  Loan_status\n",
       "Education Gender             \n",
       "0         female           31\n",
       "          male            178\n",
       "1         female           33\n",
       "          male            187\n",
       "2         female           13\n",
       "          male             54\n",
       "3         male              4"
      ]
     },
     "execution_count": 32,
     "metadata": {},
     "output_type": "execute_result"
    }
   ],
   "source": [
    "Loan_payment_df[['Education','Loan_status','Gender']].groupby(['Education','Gender']).count()"
   ]
  },
  {
   "cell_type": "markdown",
   "id": "alike-hungarian",
   "metadata": {},
   "source": [
    "- 여성의 경우 박사를 졸업한 인원이 존재하지 않음"
   ]
  },
  {
   "cell_type": "code",
   "execution_count": 33,
   "id": "distinguished-passing",
   "metadata": {},
   "outputs": [
    {
     "data": {
      "text/html": [
       "<div>\n",
       "<style scoped>\n",
       "    .dataframe tbody tr th:only-of-type {\n",
       "        vertical-align: middle;\n",
       "    }\n",
       "\n",
       "    .dataframe tbody tr th {\n",
       "        vertical-align: top;\n",
       "    }\n",
       "\n",
       "    .dataframe thead th {\n",
       "        text-align: right;\n",
       "    }\n",
       "</style>\n",
       "<table border=\"1\" class=\"dataframe\">\n",
       "  <thead>\n",
       "    <tr style=\"text-align: right;\">\n",
       "      <th></th>\n",
       "      <th>Loan_status</th>\n",
       "    </tr>\n",
       "    <tr>\n",
       "      <th>Education</th>\n",
       "      <th></th>\n",
       "    </tr>\n",
       "  </thead>\n",
       "  <tbody>\n",
       "    <tr>\n",
       "      <th>0</th>\n",
       "      <td>0.588517</td>\n",
       "    </tr>\n",
       "    <tr>\n",
       "      <th>1</th>\n",
       "      <td>0.604545</td>\n",
       "    </tr>\n",
       "    <tr>\n",
       "      <th>2</th>\n",
       "      <td>0.611940</td>\n",
       "    </tr>\n",
       "    <tr>\n",
       "      <th>3</th>\n",
       "      <td>0.750000</td>\n",
       "    </tr>\n",
       "  </tbody>\n",
       "</table>\n",
       "</div>"
      ],
      "text/plain": [
       "           Loan_status\n",
       "Education             \n",
       "0             0.588517\n",
       "1             0.604545\n",
       "2             0.611940\n",
       "3             0.750000"
      ]
     },
     "execution_count": 33,
     "metadata": {},
     "output_type": "execute_result"
    }
   ],
   "source": [
    "Loan_payment_df[['Education','Loan_status']].groupby(['Education']).mean()"
   ]
  },
  {
   "cell_type": "code",
   "execution_count": 34,
   "id": "technical-mattress",
   "metadata": {},
   "outputs": [
    {
     "data": {
      "image/png": "[encoded data removed]",
      "text/plain": [
       "<Figure size 432x288 with 2 Axes>"
      ]
     },
     "metadata": {
      "needs_background": "light"
     },
     "output_type": "display_data"
    }
   ],
   "source": [
    "sns.heatmap(Loan_payment_df[['Education','Loan_status']].groupby(['Education']).mean())\n",
    "plt.show()"
   ]
  },
  {
   "cell_type": "markdown",
   "id": "unavailable-thickness",
   "metadata": {},
   "source": [
    "- Education의 수준이 높을수록 상환하는 사람의 비율이 높다"
   ]
  },
  {
   "cell_type": "markdown",
   "id": "invalid-affair",
   "metadata": {},
   "source": [
    "### VI. Terms"
   ]
  },
  {
   "cell_type": "code",
   "execution_count": 35,
   "id": "handmade-witness",
   "metadata": {},
   "outputs": [
    {
     "data": {
      "text/plain": [
       "array([30, 15,  7])"
      ]
     },
     "execution_count": 35,
     "metadata": {},
     "output_type": "execute_result"
    }
   ],
   "source": [
    "Loan_payment_df['terms'].unique()"
   ]
  },
  {
   "cell_type": "code",
   "execution_count": 36,
   "id": "about-blind",
   "metadata": {},
   "outputs": [
    {
     "data": {
      "text/plain": [
       "30    272\n",
       "15    207\n",
       "7      21\n",
       "Name: terms, dtype: int64"
      ]
     },
     "execution_count": 36,
     "metadata": {},
     "output_type": "execute_result"
    }
   ],
   "source": [
    "Loan_payment_df['terms'].value_counts()"
   ]
  },
  {
   "cell_type": "code",
   "execution_count": 37,
   "id": "failing-constitution",
   "metadata": {},
   "outputs": [
    {
     "data": {
      "text/plain": [
       "terms  Loan_status\n",
       "7      0                1\n",
       "       1               20\n",
       "15     0               80\n",
       "       1              127\n",
       "30     0              119\n",
       "       1              153\n",
       "Name: Loan_status, dtype: int64"
      ]
     },
     "execution_count": 37,
     "metadata": {},
     "output_type": "execute_result"
    }
   ],
   "source": [
    "Loan_payment_df.groupby(['terms','Loan_status'])['Loan_status'].count()"
   ]
  },
  {
   "cell_type": "code",
   "execution_count": 38,
   "id": "improving-sympathy",
   "metadata": {},
   "outputs": [
    {
     "data": {
      "text/html": [
       "<div>\n",
       "<style scoped>\n",
       "    .dataframe tbody tr th:only-of-type {\n",
       "        vertical-align: middle;\n",
       "    }\n",
       "\n",
       "    .dataframe tbody tr th {\n",
       "        vertical-align: top;\n",
       "    }\n",
       "\n",
       "    .dataframe thead th {\n",
       "        text-align: right;\n",
       "    }\n",
       "</style>\n",
       "<table border=\"1\" class=\"dataframe\">\n",
       "  <thead>\n",
       "    <tr style=\"text-align: right;\">\n",
       "      <th></th>\n",
       "      <th>Loan_status</th>\n",
       "    </tr>\n",
       "    <tr>\n",
       "      <th>terms</th>\n",
       "      <th></th>\n",
       "    </tr>\n",
       "  </thead>\n",
       "  <tbody>\n",
       "    <tr>\n",
       "      <th>7</th>\n",
       "      <td>0.952381</td>\n",
       "    </tr>\n",
       "    <tr>\n",
       "      <th>15</th>\n",
       "      <td>0.613527</td>\n",
       "    </tr>\n",
       "    <tr>\n",
       "      <th>30</th>\n",
       "      <td>0.562500</td>\n",
       "    </tr>\n",
       "  </tbody>\n",
       "</table>\n",
       "</div>"
      ],
      "text/plain": [
       "       Loan_status\n",
       "terms             \n",
       "7         0.952381\n",
       "15        0.613527\n",
       "30        0.562500"
      ]
     },
     "execution_count": 38,
     "metadata": {},
     "output_type": "execute_result"
    }
   ],
   "source": [
    "Loan_payment_df[['terms','Loan_status']].groupby(['terms']).mean()"
   ]
  },
  {
   "cell_type": "code",
   "execution_count": 39,
   "id": "starting-paris",
   "metadata": {},
   "outputs": [
    {
     "data": {
      "image/png": "[encoded data removed]",
      "text/plain": [
       "<Figure size 432x288 with 2 Axes>"
      ]
     },
     "metadata": {
      "needs_background": "light"
     },
     "output_type": "display_data"
    }
   ],
   "source": [
    "sns.heatmap(Loan_payment_df[['terms','Loan_status']].groupby(['terms']).mean())\n",
    "plt.show()"
   ]
  },
  {
   "cell_type": "markdown",
   "id": "sweet-potter",
   "metadata": {},
   "source": [
    "- 대출금 지급까지 걸린 기간이 7일인 경우, 상환비율이 95%로 매우 높음을 확인\n",
    "- 대출금 지급까지 걸린 기간이 짧을수록 상환비율이 더 높다는 것을 확인\n"
   ]
  },
  {
   "cell_type": "markdown",
   "id": "dynamic-minority",
   "metadata": {},
   "source": [
    "### VII. Age vs Education"
   ]
  },
  {
   "cell_type": "code",
   "execution_count": 95,
   "id": "weird-uganda",
   "metadata": {},
   "outputs": [
    {
     "data": {
      "image/png": "[encoded data removed]",
      "text/plain": [
       "<Figure size 432x288 with 1 Axes>"
      ]
     },
     "metadata": {
      "needs_background": "light"
     },
     "output_type": "display_data"
    }
   ],
   "source": [
    "Loan_payment_df['age'][Loan_payment_df.Education == 0].plot(kind='kde')\n",
    "Loan_payment_df['age'][Loan_payment_df.Education == 1].plot(kind='kde')\n",
    "Loan_payment_df['age'][Loan_payment_df.Education == 2].plot(kind='kde')\n",
    "Loan_payment_df['age'][Loan_payment_df.Education == 3].plot(kind='kde')\n",
    "plt.legend(['High School or Below','college','Bechalor','Master or Above'])\n",
    "plt.show()"
   ]
  },
  {
   "cell_type": "markdown",
   "id": "forty-royalty",
   "metadata": {},
   "source": [
    "- 연령대가 높아질수록 더 높은 학위를 가진것으로 확인"
   ]
  },
  {
   "cell_type": "markdown",
   "id": "bearing-twist",
   "metadata": {},
   "source": [
    "### VIII. Age + Education vs Loan_status"
   ]
  },
  {
   "cell_type": "code",
   "execution_count": 110,
   "id": "juvenile-biology",
   "metadata": {},
   "outputs": [
    {
     "data": {
      "image/png": "[encoded data removed]",
      "text/plain": [
       "<Figure size 430.5x360 with 1 Axes>"
      ]
     },
     "metadata": {
      "needs_background": "light"
     },
     "output_type": "display_data"
    }
   ],
   "source": [
    "sns.catplot(x='Education',y='Loan_status',hue='Gender',kind='point',data=Loan_payment_df)\n",
    "plt.show()"
   ]
  },
  {
   "cell_type": "markdown",
   "id": "inside-blair",
   "metadata": {},
   "source": [
    "- 학력이 높아질수록 여성의 경우 남성보다 상환을 잘하는 경향을 확인\n",
    "- 남성이면서 박사졸업의 경우, 편차가 매우 심한것을 확인"
   ]
  },
  {
   "cell_type": "markdown",
   "id": "incident-equation",
   "metadata": {},
   "source": [
    "### IX. Terms + Gender vs Loan_status"
   ]
  },
  {
   "cell_type": "code",
   "execution_count": 115,
   "id": "necessary-notion",
   "metadata": {},
   "outputs": [
    {
     "data": {
      "image/png": "[encoded data removed]",
      "text/plain": [
       "<Figure size 430.5x360 with 1 Axes>"
      ]
     },
     "metadata": {
      "needs_background": "light"
     },
     "output_type": "display_data"
    }
   ],
   "source": [
    "sns.catplot(x='terms',y='Loan_status',hue='Gender',kind='point',data=Loan_payment_df)\n",
    "plt.show()"
   ]
  },
  {
   "cell_type": "markdown",
   "id": "presidential-laser",
   "metadata": {},
   "source": [
    "- 남성은 대출금 지급까지 걸린 기간이 7일인 경우 높은 확률로 기한까지 상환을 하지만, 대출금 지급까지 걸린 기간이 15일 이상인 경우 상환율이 떨어지는 경향을 확인\n",
    "- 여성의 경우, 대출급 지금까지 걸린 기간이 길어질수록 상환율이 떨어지는 것을 확인"
   ]
  }
 ],
 "metadata": {
  "kernelspec": {
   "display_name": "Python 3",
   "language": "python",
   "name": "python3"
  },
  "language_info": {
   "codemirror_mode": {
    "name": "ipython",
    "version": 3
   },
   "file_extension": ".py",
   "mimetype": "text/x-python",
   "name": "python",
   "nbconvert_exporter": "python",
   "pygments_lexer": "ipython3",
   "version": "3.7.10"
  }
 },
 "nbformat": 4,
 "nbformat_minor": 5
}
