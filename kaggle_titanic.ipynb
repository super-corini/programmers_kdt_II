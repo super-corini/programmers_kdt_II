{
 "cells": [
  {
   "cell_type": "markdown",
   "metadata": {},
   "source": [
    "## Titanic"
   ]
  },
  {
   "cell_type": "markdown",
   "metadata": {},
   "source": [
    "### 이해한 내용\n",
    "- 우선 빠른 시간 내에 이해를 필요로 해서 한글본으로 보았습니다.\n",
    "- 가장 먼저 결측치를 확인해보았는데 결측치를 경우에 따라 제거하고 채우는 방식을 확인할 수 있었습니다.\n",
    "    - 결측값이 너무 많은 경우(cabin) : 컬럼을 아예 제거\n",
    "    - 결측값을 중앙값으로 채우거나 최빈값으로 채우는 방법\n",
    "- SibSp와 Parch 변수들은 모두 가족을 의미하는 것이기 때문에 다중 공선성을 고려하여 하나로 합친 다음에 여행을 혼자 왔는지 아닌지로 파생변수를 만들었습니다.\n",
    "오히려 가족이 1~2명 있는 것보다 혼자 온 경우 많이 죽었기 때문에 이렇게 혼자 왔는지 아닌지로 나누는 방법도 좋다고 생각합니다."
   ]
  },
  {
   "cell_type": "markdown",
   "metadata": {},
   "source": [
    "목차:\n",
    "\n",
    "**[I. 데이터 불러오기 및 확인](#one)**\n",
    "\n",
    "- [a. 데이터 불러오기 및 결측치 확인](#one-a)\n",
    "\n",
    "**[II. EDA & FE](#two)**\n",
    "\n",
    "- [a. Pclass](#two-a)\n",
    "- [b. Sex](#two-b)\n",
    "- [c. SibSp](#two-c)\n",
    "- [d. Parch](#two-d)\n",
    "- [e. Name](#two-e)\n",
    "- [f. Age](#two-f)\n",
    "- [g. Embarked](#two-g)\n",
    "- [h. Fare](#two-h)\n",
    "- [i. cabin](#two-i)\n",
    "\n",
    "    \n",
    "**[III. 모델링](#three)**\n",
    "\n",
    "- [a. 로지스틱 회귀](#three-a)\n",
    "- [b. kfold](#three-b)\n",
    "- [c. 파라미터 튜닝 & GridSearchCV](#three-c)\n",
    "\n",
    "**[IV. 예측](#four)**\n",
    "\n",
    "- [a. 앙상블](#four-a)\n",
    "- [b. voting](#four-b)\n",
    "- [c. stacking](#four-c)"
   ]
  },
  {
   "cell_type": "markdown",
   "metadata": {},
   "source": [
    "## I. 데이터 불러오기 및 확인 <a id=\"one\"></a>"
   ]
  },
  {
   "cell_type": "code",
   "execution_count": null,
   "metadata": {},
   "outputs": [],
   "source": []
  },
  {
   "cell_type": "markdown",
   "metadata": {},
   "source": [
    "1. 변수 | 설명\n",
    "------- | -------\n",
    "**PassengerId** | id\n",
    "**Survived** | 생존 여부 (0 = 사망, 1 = 생존) \n",
    "**Pclass** | 티켓 클래스 (1 = 1등석, 2 = 2등석, 3 = 3등석)\n",
    "**name** | 이름  \n",
    "**Sex** | 성별\n",
    "**Age** | 나이\n",
    "**SibSp** | 함께 탑승한 자녀 , 배우자 의 수\n",
    "**Parch** | 함께 탑승한 부모님 , 아이들 의 수\n",
    "**Fare** | 요금\n",
    "**Ticket** | 티켓 번호\n",
    "**Cabin** | 수하물 번호\n",
    "**Embarked** | 선착장 "
   ]
  },
  {
   "cell_type": "code",
   "execution_count": null,
   "metadata": {},
   "outputs": [],
   "source": [
    "import pandas as pd\n",
    "import numpy as np\n",
    "import matplotlib.pyplot as plt\n",
    "%matplotlib inline\n",
    "import seaborn as sns\n",
    "import warnings\n",
    "warnings.filterwarnings(\"ignore\")"
   ]
  },
  {
   "cell_type": "code",
   "execution_count": null,
   "metadata": {},
   "outputs": [],
   "source": [
    "plt.rcParams[\"font.family\"] = 'Malgun Gothic'"
   ]
  },
  {
   "cell_type": "markdown",
   "metadata": {},
   "source": [
    "### a. 데이터 불러오기 및 결측치 확인 <a id=\"one-a\"></a>"
   ]
  },
  {
   "cell_type": "code",
   "execution_count": null,
   "metadata": {},
   "outputs": [],
   "source": [
    "train = pd.read_csv(\"../input/titanic/train.csv\")\n",
    "test = pd.read_csv(\"../input/titanic/test.csv\")\n",
    "sample_submission = pd.read_csv('../input/titanic/gender_submission.csv')"
   ]
  },
  {
   "cell_type": "code",
   "execution_count": null,
   "metadata": {},
   "outputs": [],
   "source": [
    "train.head(3)"
   ]
  },
  {
   "cell_type": "code",
   "execution_count": null,
   "metadata": {},
   "outputs": [],
   "source": [
    "test.head()"
   ]
  },
  {
   "cell_type": "code",
   "execution_count": null,
   "metadata": {},
   "outputs": [],
   "source": [
    "train.info()"
   ]
  },
  {
   "cell_type": "code",
   "execution_count": null,
   "metadata": {},
   "outputs": [],
   "source": [
    "test.info()"
   ]
  },
  {
   "cell_type": "code",
   "execution_count": null,
   "metadata": {},
   "outputs": [],
   "source": [
    "train.isnull().sum()"
   ]
  },
  {
   "cell_type": "code",
   "execution_count": null,
   "metadata": {},
   "outputs": [],
   "source": [
    "test.isnull().sum()"
   ]
  },
  {
   "cell_type": "markdown",
   "metadata": {},
   "source": [
    "> 결측치 확인 결과 AGE와 Cabin, Embarked 피처에 대해 처리를 해줘야 될거 같다"
   ]
  },
  {
   "cell_type": "markdown",
   "metadata": {},
   "source": [
    "## II. EDA & FE <a id=\"two\"></a> "
   ]
  },
  {
   "cell_type": "code",
   "execution_count": null,
   "metadata": {},
   "outputs": [],
   "source": [
    "fe_name = list(test)\n",
    "df_train = train[fe_name]\n",
    "df = pd.concat((df_train,test))"
   ]
  },
  {
   "cell_type": "code",
   "execution_count": null,
   "metadata": {},
   "outputs": [],
   "source": [
    "print(train.shape, test.shape, df.shape)"
   ]
  },
  {
   "cell_type": "code",
   "execution_count": null,
   "metadata": {},
   "outputs": [],
   "source": [
    "target = train['Survived']"
   ]
  },
  {
   "cell_type": "code",
   "execution_count": null,
   "metadata": {},
   "outputs": [],
   "source": [
    "def stack_plot(feature):\n",
    "    survived = train[train['Survived'] == 1][feature].value_counts()\n",
    "    dead = train[train['Survived'] == 0][feature].value_counts()\n",
    "    df = pd.DataFrame([survived,dead])\n",
    "    df.index = ['survived','dead']\n",
    "    df.plot(kind='bar', stacked= True, figsize = (10,5))"
   ]
  },
  {
   "cell_type": "code",
   "execution_count": null,
   "metadata": {},
   "outputs": [],
   "source": [
    "lable = ['survived','dead']\n",
    "plt.title('생존 수')\n",
    "plt.pie(train['Survived'].value_counts(),labels= lable,autopct='%.f%%')"
   ]
  },
  {
   "cell_type": "markdown",
   "metadata": {},
   "source": [
    ">전체 62%가 사망한것을 볼 수 있다."
   ]
  },
  {
   "cell_type": "markdown",
   "metadata": {},
   "source": [
    "### a.Pclass <a id=\"two-a\"></a>"
   ]
  },
  {
   "cell_type": "code",
   "execution_count": null,
   "metadata": {},
   "outputs": [],
   "source": [
    "stack_plot('Pclass')"
   ]
  },
  {
   "cell_type": "code",
   "execution_count": null,
   "metadata": {},
   "outputs": [],
   "source": [
    "Pclass_encoded = pd.get_dummies(df['Pclass'],prefix= 'Pclass')\n",
    "df = pd.concat((df,Pclass_encoded), axis=1)\n",
    "df = df.drop(columns = 'Pclass')"
   ]
  },
  {
   "cell_type": "markdown",
   "metadata": {},
   "source": [
    ">3등석 사람이 많이 죽은 것을 볼 수 있으며 Pclass 피처는 카테코리 변수로 판단하여 원핫 인코딩을 위해 더미변수로 만듭니다."
   ]
  },
  {
   "cell_type": "markdown",
   "metadata": {},
   "source": [
    "### b.Sex <a id=\"two-b\"></a>"
   ]
  },
  {
   "cell_type": "code",
   "execution_count": null,
   "metadata": {},
   "outputs": [],
   "source": [
    "stack_plot('Sex')"
   ]
  },
  {
   "cell_type": "code",
   "execution_count": null,
   "metadata": {},
   "outputs": [],
   "source": [
    "sex_encoded = pd.get_dummies(df['Sex'],prefix= 'Sex')\n",
    "df = pd.concat((df,sex_encoded), axis=1)\n",
    "df = df.drop(columns = 'Sex')"
   ]
  },
  {
   "cell_type": "code",
   "execution_count": null,
   "metadata": {},
   "outputs": [],
   "source": [
    "df.drop('Sex_female', axis=1, inplace=True)"
   ]
  },
  {
   "cell_type": "markdown",
   "metadata": {},
   "source": [
    ">Sex 피처는 카테코리 변수로 판단하여 원핫 인코딩을 위해 더미변수로 만듭니다."
   ]
  },
  {
   "cell_type": "markdown",
   "metadata": {},
   "source": [
    "### c.SibSp <a id=\"two-c\"></a>"
   ]
  },
  {
   "cell_type": "code",
   "execution_count": null,
   "metadata": {},
   "outputs": [],
   "source": [
    "stack_plot('SibSp')"
   ]
  },
  {
   "cell_type": "markdown",
   "metadata": {},
   "source": [
    "### d.Parch <a id=\"two-d\"></a>"
   ]
  },
  {
   "cell_type": "code",
   "execution_count": null,
   "metadata": {},
   "outputs": [],
   "source": [
    "stack_plot('Parch')"
   ]
  },
  {
   "cell_type": "code",
   "execution_count": null,
   "metadata": {},
   "outputs": [],
   "source": [
    "df['Travelpeople']=df[\"SibSp\"]+df[\"Parch\"]\n",
    "df['TravelAlone']=np.where(df['Travelpeople']>0, 0, 1)"
   ]
  },
  {
   "cell_type": "code",
   "execution_count": null,
   "metadata": {},
   "outputs": [],
   "source": [
    "df.drop('SibSp', axis=1, inplace=True)\n",
    "df.drop('Parch', axis=1, inplace=True)"
   ]
  },
  {
   "cell_type": "code",
   "execution_count": null,
   "metadata": {},
   "outputs": [],
   "source": [
    "df.drop('Travelpeople', axis=1, inplace=True)"
   ]
  },
  {
   "cell_type": "markdown",
   "metadata": {},
   "source": [
    ">SibSp와 Parch 변수들은 같이 여행을 온 경우로 판단하여\n",
    "다중 공선성을 고려하여 하나로 합친 다음에 여행을 혼자 왔는지 아닌지로 파생변수를 만듭니다."
   ]
  },
  {
   "cell_type": "markdown",
   "metadata": {},
   "source": [
    "### e.Name <a id=\"two-e\"></a>"
   ]
  },
  {
   "cell_type": "markdown",
   "metadata": {},
   "source": [
    ">Mr - 남자\n",
    "Mrs. 결혼한 기혼 여자\n",
    "Miss. 결혼하지 않은 미혼 여자\n",
    "Ms. 여자일경우"
   ]
  },
  {
   "cell_type": "code",
   "execution_count": null,
   "metadata": {},
   "outputs": [],
   "source": [
    "df['New_name']  = df['Name'].str.extract('([A-Za-z]+)\\.', expand=False)\n",
    "train['New_name']  = train['Name'].str.extract('([A-Za-z]+)\\.', expand=False)"
   ]
  },
  {
   "cell_type": "code",
   "execution_count": null,
   "metadata": {},
   "outputs": [],
   "source": [
    "train ['New_name'] =  train['New_name'].map({\"Mr\": 0 , \"Mrs\":2, \"Miss\":1,\"Dr\":3,\"Rev\":3,\n",
    "                                             \"Mlle\":3,\"Major\":3,\"Col\":3,\"Ms\":3,\"Jonkheer\":3,\n",
    "                                             \"Sir\" :3,\"Lady\":3,\"Mme\":3,\"Capt\":3,\"Don\":3,\"Countess\":3})\n",
    "df['New_name'] =  df['New_name'].map({\"Mr\": 0 , \"Mrs\":2, \"Miss\":1,\"Dr\":3,\"Rev\":3,\n",
    "                                             \"Mlle\":3,\"Major\":3,\"Col\":3,\"Ms\":3,\"Jonkheer\":3,\n",
    "                                             \"Sir\" :3,\"Lady\":3,\"Mme\":3,\"Capt\":3,\"Don\":3,\"Countess\":3})"
   ]
  },
  {
   "cell_type": "code",
   "execution_count": null,
   "metadata": {},
   "outputs": [],
   "source": [
    "stack_plot('New_name')"
   ]
  },
  {
   "cell_type": "code",
   "execution_count": null,
   "metadata": {},
   "outputs": [],
   "source": [
    "df['New_name'] = df['New_name'].fillna('0')"
   ]
  },
  {
   "cell_type": "code",
   "execution_count": null,
   "metadata": {},
   "outputs": [],
   "source": [
    "df = df.astype({'New_name':'float'})"
   ]
  },
  {
   "cell_type": "code",
   "execution_count": null,
   "metadata": {},
   "outputs": [],
   "source": [
    "df = df.drop(columns = 'Name')"
   ]
  },
  {
   "cell_type": "code",
   "execution_count": null,
   "metadata": {},
   "outputs": [],
   "source": [
    "New_name_encoded = pd.get_dummies(df['New_name'],prefix= 'New_name')\n",
    "df = pd.concat((df,New_name_encoded), axis=1)\n",
    "df = df.drop(columns = 'New_name')"
   ]
  },
  {
   "cell_type": "markdown",
   "metadata": {},
   "source": [
    "> 이름의 경우 정규 표현식을 이용해서 Name 피처를 처리해주고 남자 여자 그외로 매핑해준다.\n",
    "Mr - 남자 / Mrs. 결혼한 기혼 여자 / Miss. 결혼하지 않은 미혼 여자 / MS. 여자일 경우\n",
    "그래프를 보면 남자가 많이 사망한것으로 보며 결측치를 남자로 채웠고 더미변수를 만들어 주었다."
   ]
  },
  {
   "cell_type": "markdown",
   "metadata": {},
   "source": [
    "### f.Age <a id=\"two-f\"></a>"
   ]
  },
  {
   "cell_type": "code",
   "execution_count": null,
   "metadata": {},
   "outputs": [],
   "source": [
    "df['Age'].hist(bins = 15)"
   ]
  },
  {
   "cell_type": "code",
   "execution_count": null,
   "metadata": {},
   "outputs": [],
   "source": [
    "df['Age'].fillna(28, inplace = True)"
   ]
  },
  {
   "cell_type": "markdown",
   "metadata": {},
   "source": [
    ">Age 피처의 데이터 확인결과 우측으로 기울어져있기 때문에 평균값을 사용하는 것보다 중앙값을 사용하기로 했다"
   ]
  },
  {
   "cell_type": "markdown",
   "metadata": {},
   "source": [
    "### g.Embarked <a id=\"two-g\"></a>"
   ]
  },
  {
   "cell_type": "code",
   "execution_count": null,
   "metadata": {},
   "outputs": [],
   "source": [
    "sns.countplot(x= 'Embarked', data= df)"
   ]
  },
  {
   "cell_type": "code",
   "execution_count": null,
   "metadata": {},
   "outputs": [],
   "source": [
    "df['Embarked'].fillna('S',inplace=True)"
   ]
  },
  {
   "cell_type": "code",
   "execution_count": null,
   "metadata": {},
   "outputs": [],
   "source": [
    "Embarked_encoded = pd.get_dummies(df['Embarked'],prefix= 'Embarked')\n",
    "df = pd.concat((df,Embarked_encoded), axis=1)\n",
    "df = df.drop(columns = 'Embarked')"
   ]
  },
  {
   "cell_type": "markdown",
   "metadata": {},
   "source": [
    ">Embarked 피처는 countplot 결과 S선착장이 많은 것을 볼 수 잇으며 결측치를 S로 대체하였고\n",
    "카테코리 변수로 판단하여 원핫 인코딩을 위해 더미변수로 만듭니다."
   ]
  },
  {
   "cell_type": "markdown",
   "metadata": {},
   "source": [
    "### h.Fare <a id=\"two-h\"></a>"
   ]
  },
  {
   "cell_type": "code",
   "execution_count": null,
   "metadata": {},
   "outputs": [],
   "source": [
    "from scipy.stats import norm"
   ]
  },
  {
   "cell_type": "code",
   "execution_count": null,
   "metadata": {},
   "outputs": [],
   "source": [
    "sns.distplot(train['Fare'],fit = norm)"
   ]
  },
  {
   "cell_type": "markdown",
   "metadata": {},
   "source": [
    ">정규규분포가 아닌 매우 비대칭 분포 멱변환을 통해서 정규화를 시켜준다"
   ]
  },
  {
   "cell_type": "code",
   "execution_count": null,
   "metadata": {},
   "outputs": [],
   "source": [
    "df['Fare'] = df['Fare'].map(lambda i : np.log(i) if i >0 else 0)"
   ]
  },
  {
   "cell_type": "code",
   "execution_count": null,
   "metadata": {},
   "outputs": [],
   "source": [
    "sns.distplot(df['Fare'],fit = norm)"
   ]
  },
  {
   "cell_type": "markdown",
   "metadata": {},
   "source": [
    ">정규규분포가 아닌 매우 비대칭 분포 멱변환을 통해서 정규화를 시켜준다"
   ]
  },
  {
   "cell_type": "markdown",
   "metadata": {},
   "source": [
    "### i.Cabin <a id=\"two-i\"></a>"
   ]
  },
  {
   "cell_type": "code",
   "execution_count": null,
   "metadata": {},
   "outputs": [],
   "source": [
    "df['Cabin'].value_counts()"
   ]
  },
  {
   "cell_type": "code",
   "execution_count": null,
   "metadata": {},
   "outputs": [],
   "source": [
    "df = df.drop(columns = 'Cabin')"
   ]
  },
  {
   "cell_type": "markdown",
   "metadata": {},
   "source": [
    ">변수에 결측값이 너무 많아. 이 값은 승객의 클래스 및 지불 된 운임과 관련이있는 것으로 보고 드롭했습니다"
   ]
  },
  {
   "cell_type": "code",
   "execution_count": null,
   "metadata": {},
   "outputs": [],
   "source": [
    "df = df.drop(['PassengerId','Ticket'],axis = 1)"
   ]
  },
  {
   "cell_type": "markdown",
   "metadata": {},
   "source": [
    "> PassengerId , Ticket 피처들도 모델링 과정에 필요없는 변수들이므로 드롭해줍니다"
   ]
  },
  {
   "cell_type": "code",
   "execution_count": null,
   "metadata": {},
   "outputs": [],
   "source": [
    "df.isnull().sum()"
   ]
  },
  {
   "cell_type": "code",
   "execution_count": null,
   "metadata": {},
   "outputs": [],
   "source": []
  },
  {
   "cell_type": "markdown",
   "metadata": {},
   "source": [
    "## III. 모델링 <a id=\"three\"></a>"
   ]
  },
  {
   "cell_type": "code",
   "execution_count": null,
   "metadata": {},
   "outputs": [],
   "source": [
    "from xgboost import XGBClassifier\n",
    "from lightgbm import LGBMClassifier\n",
    "from sklearn.neighbors import KNeighborsClassifier\n",
    "from sklearn.ensemble import RandomForestClassifier\n",
    "from sklearn.ensemble import GradientBoostingClassifier\n",
    "from sklearn.tree import DecisionTreeClassifier\n",
    "from sklearn.linear_model import LogisticRegression\n",
    "from sklearn.svm import SVC"
   ]
  },
  {
   "cell_type": "markdown",
   "metadata": {},
   "source": [
    "### a. 로지스틱 회귀 <a id=\"three-a\"></a>"
   ]
  },
  {
   "cell_type": "code",
   "execution_count": null,
   "metadata": {},
   "outputs": [],
   "source": [
    "new_train = df[:train.shape[0]]\n",
    "new_test = df[train.shape[0]:]"
   ]
  },
  {
   "cell_type": "code",
   "execution_count": null,
   "metadata": {},
   "outputs": [],
   "source": [
    "cols=[\"Age\", \"Fare\", \"TravelAlone\", \"Pclass_1\", \"Pclass_2\",\"Embarked_C\",\"Embarked_S\",\n",
    "      \"Sex_male\",'New_name_0.0','New_name_1.0', 'New_name_2.0'] "
   ]
  },
  {
   "cell_type": "code",
   "execution_count": null,
   "metadata": {},
   "outputs": [],
   "source": [
    "X = new_train[cols]\n",
    "Y = train['Survived']"
   ]
  },
  {
   "cell_type": "code",
   "execution_count": null,
   "metadata": {},
   "outputs": [],
   "source": [
    "import statsmodels.api as sm\n",
    "from scipy import stats\n",
    "stats.chisqprob = lambda chisq, df: stats.chi2.sf(chisq, df)\n",
    "logit_model=sm.Logit(Y,X)\n",
    "result=logit_model.fit()\n",
    "print(result.summary())"
   ]
  },
  {
   "cell_type": "markdown",
   "metadata": {},
   "source": [
    "> 로지스틱 모델 확인 결과 Fare, Embarked_S,Embarked_C,New_name_0 피처에 대해서 p-value가 0.05 기준으로 높게 나와있으므로 해당 피처를 모두 제고하고 다시 확인해 봅니다."
   ]
  },
  {
   "cell_type": "code",
   "execution_count": null,
   "metadata": {},
   "outputs": [],
   "source": [
    "cols2 = [\"Age\", \"TravelAlone\", \"Pclass_1\", \"Pclass_2\",\"Embarked_S\",\n",
    "      \"Sex_male\",'New_name_1.0', 'New_name_2.0'] "
   ]
  },
  {
   "cell_type": "code",
   "execution_count": null,
   "metadata": {},
   "outputs": [],
   "source": [
    "X2=new_train[cols2]\n",
    "Y=train['Survived']\n",
    "\n",
    "logit_model=sm.Logit(Y,X2)\n",
    "result=logit_model.fit()\n",
    "print(result.summary())"
   ]
  },
  {
   "cell_type": "markdown",
   "metadata": {},
   "source": [
    "> 로지스틱 모델 확인 결과 TravelAlone 피처에 대해서 p-value가 0.05 기준으로 높게 나와있으므로 피처를 모두 제고하고 다시 확인해 봅니다."
   ]
  },
  {
   "cell_type": "code",
   "execution_count": null,
   "metadata": {},
   "outputs": [],
   "source": [
    "cols3=[\"Age\", \"Pclass_1\", \"Pclass_2\",\"Embarked_S\",\n",
    "      \"Sex_male\",'New_name_1.0', 'New_name_2.0'] "
   ]
  },
  {
   "cell_type": "code",
   "execution_count": null,
   "metadata": {},
   "outputs": [],
   "source": [
    "X3=new_train[cols3]\n",
    "Y=train['Survived']\n",
    "\n",
    "logit_model=sm.Logit(Y,X3)\n",
    "result=logit_model.fit()\n",
    "print(result.summary())"
   ]
  },
  {
   "cell_type": "markdown",
   "metadata": {},
   "source": [
    "> 모든 피처들이 유의수준 0.05보다 낮은것을 확인 할 수 있습니다."
   ]
  },
  {
   "cell_type": "code",
   "execution_count": null,
   "metadata": {},
   "outputs": [],
   "source": [
    "f_test = new_test[cols3]"
   ]
  },
  {
   "cell_type": "code",
   "execution_count": null,
   "metadata": {},
   "outputs": [],
   "source": [
    "from sklearn.linear_model import LogisticRegression\n",
    "\n",
    "logreg = LogisticRegression()\n",
    "logreg.fit(X3, Y)\n",
    "\n",
    "print(\"모델 Accuracy : {:.2f}%\".format(logreg.score(X3, Y)*100))"
   ]
  },
  {
   "cell_type": "markdown",
   "metadata": {},
   "source": [
    "> 모델의 Accuracy를 높이기 위해서 로지스틱 회귀를 사용할 수 있겠지만 모델의 성능을 높이기 위해서\n",
    "여러 모델을 활용하여 앙상블을 합니다"
   ]
  },
  {
   "cell_type": "markdown",
   "metadata": {},
   "source": [
    "### b. kfold <a id=\"three-b\"></a>"
   ]
  },
  {
   "cell_type": "code",
   "execution_count": null,
   "metadata": {},
   "outputs": [],
   "source": [
    "from sklearn.model_selection import GridSearchCV, cross_val_score, StratifiedKFold"
   ]
  },
  {
   "cell_type": "code",
   "execution_count": null,
   "metadata": {},
   "outputs": [],
   "source": [
    "from xgboost import XGBClassifier\n",
    "from lightgbm import LGBMClassifier\n",
    "from sklearn.neighbors import KNeighborsClassifier\n",
    "from sklearn.ensemble import RandomForestClassifier\n",
    "from sklearn.ensemble import GradientBoostingClassifier\n",
    "from sklearn.tree import DecisionTreeClassifier\n",
    "from sklearn.linear_model import LogisticRegression\n",
    "from sklearn.svm import SVC"
   ]
  },
  {
   "cell_type": "code",
   "execution_count": null,
   "metadata": {},
   "outputs": [],
   "source": [
    "kfold = StratifiedKFold(n_splits=8)"
   ]
  },
  {
   "cell_type": "code",
   "execution_count": null,
   "metadata": {},
   "outputs": [],
   "source": [
    "random_state = 1\n",
    "clf = []\n",
    "\n",
    "clf.append(XGBClassifier(random_state = random_state))\n",
    "clf.append(LGBMClassifier(random_state = random_state))\n",
    "clf.append(KNeighborsClassifier())\n",
    "clf.append(RandomForestClassifier(random_state=random_state))\n",
    "clf.append(GradientBoostingClassifier(random_state=random_state))\n",
    "clf.append(DecisionTreeClassifier(random_state=random_state))\n",
    "clf.append(LogisticRegression(random_state = random_state))\n",
    "clf.append(SVC(random_state=random_state))"
   ]
  },
  {
   "cell_type": "code",
   "execution_count": null,
   "metadata": {},
   "outputs": [],
   "source": [
    "clf_results = []\n",
    "for classifier in clf :\n",
    "    clf_results.append(cross_val_score(classifier, new_train, y = Y, scoring = \"accuracy\", cv = kfold, n_jobs=4))"
   ]
  },
  {
   "cell_type": "code",
   "execution_count": null,
   "metadata": {},
   "outputs": [],
   "source": [
    "clf_means = []\n",
    "clf_std = []\n",
    "for clf_result in clf_results:\n",
    "    clf_means.append(clf_result.mean())\n",
    "    clf_std.append(clf_result.std())"
   ]
  },
  {
   "cell_type": "code",
   "execution_count": null,
   "metadata": {},
   "outputs": [],
   "source": [
    "clf_re = pd.DataFrame({\"CrossValMeans\":clf_means,\"CrossValerrors\": clf_std})\n",
    "clf_re"
   ]
  },
  {
   "cell_type": "markdown",
   "metadata": {},
   "source": [
    "> 데이터 세트를 8개의 그룹으로 분할한 다음에 8개의 모델에 대해서 기본 모델을 구축한 뒤 gridsearchcv를 통해서 변수들을 최적화 시켜줍니다. kfold 확인 결과 4개의 모델을 이용해서 앙상블 하려고 합니다 "
   ]
  },
  {
   "cell_type": "markdown",
   "metadata": {},
   "source": [
    "### c. 파라미터 튜닝 & GridSearchCV <a id=\"three-c\"></a>"
   ]
  },
  {
   "cell_type": "code",
   "execution_count": null,
   "metadata": {},
   "outputs": [],
   "source": [
    "# XGBoost 파라미터 튜닝 \n",
    "XGB = XGBClassifier()\n",
    "xgb_param_grid = {'learning_rate': [1,0.1,0.01,0.001],\n",
    "              'n_estimators': [50, 100, 200, 500, 1000],\n",
    "              'max_depth' : [1,3,5,10,50]}\n",
    "gsXGB = GridSearchCV(XGB,param_grid = xgb_param_grid, cv=kfold, scoring=\"accuracy\", n_jobs= 4, verbose = 1)\n",
    "gsXGB.fit(new_train,Y)\n",
    "XGB_best = gsXGB.best_estimator_\n",
    "\n",
    "# 최고 점수\n",
    "gsXGB.best_score_"
   ]
  },
  {
   "cell_type": "code",
   "execution_count": null,
   "metadata": {},
   "outputs": [],
   "source": [
    "#LGBMClassifier 파라미터 튜닝\n",
    "LGB = LGBMClassifier()\n",
    "lgb_param_grid = {\n",
    "    'n_estimators': [400, 700, 1000], \n",
    "    'max_depth': [15,20,25],\n",
    "    'num_leaves': [50, 100, 200],\n",
    "    'min_split_gain': [0.3, 0.4],\n",
    "}\n",
    "gsLGB = GridSearchCV(LGB,param_grid = lgb_param_grid, cv=kfold, scoring=\"accuracy\", n_jobs= 4, verbose = 1)\n",
    "gsLGB.fit(new_train,Y)\n",
    "LGB_best = gsLGB.best_estimator_\n",
    "\n",
    "# 최고 점수\n",
    "gsLGB.best_score_"
   ]
  },
  {
   "cell_type": "code",
   "execution_count": null,
   "metadata": {},
   "outputs": [],
   "source": [
    "# RandomForestClassifier 파라미터 튜닝 \n",
    "RFC = RandomForestClassifier()\n",
    "\n",
    "rf_param_grid = {\"max_depth\": [None],\n",
    "              \"max_features\": [1, 3, 7],\n",
    "              \"min_samples_split\": [2, 3, 7],\n",
    "              \"min_samples_leaf\": [1, 3, 7],\n",
    "              \"bootstrap\": [False],\n",
    "              \"n_estimators\" :[100,300],\n",
    "              \"criterion\": [\"gini\"]}\n",
    "gsRFC = GridSearchCV(RFC,param_grid = rf_param_grid, cv=kfold, scoring=\"accuracy\", n_jobs= 4, verbose = 1)\n",
    "gsRFC.fit(new_train,Y)\n",
    "RFC_best = gsRFC.best_estimator_\n",
    "\n",
    "# 최고 점수\n",
    "gsRFC.best_score_"
   ]
  },
  {
   "cell_type": "markdown",
   "metadata": {},
   "source": [
    ">Extra Tree Classifier와 유사하게 Random Forest는 여러 의사 결정 트리 분류자를 데이터 집합의 다양한 하위 샘플에 맞추고 평균을 사용하여 예측 정확도를 개선하고 과적 합을 제어합니다. 하위 샘플 크기는 항상 원래 입력 샘플 크기와 동일하지만 bootstrap = True (기본값) 인 경우 샘플이 대체로 그려집니다.\n",
    "\n",
    ">ET와 RF의 차이점-\n",
    ">1) 분할에서 변수를 선택할 때, 훈련 세트의 부트 스트랩 샘플 대신 전체 훈련 세트에서 샘플이 추출됩니다.\n",
    ">2) 분할은 각 분할에서 샘플의 값 범위에서 무작위로 완전히 선택됩니다."
   ]
  },
  {
   "cell_type": "code",
   "execution_count": null,
   "metadata": {},
   "outputs": [],
   "source": [
    "# Gradient boosting 파라미터 튜닝\n",
    "GBC = GradientBoostingClassifier()\n",
    "gb_param_grid = {'loss' : [\"deviance\"],\n",
    "              'n_estimators' : [100,200,300],\n",
    "              'learning_rate': [0.1, 0.05, 0.01],\n",
    "              'max_depth': [4, 8],\n",
    "              'min_samples_leaf': [100,150],\n",
    "              'max_features': [0.3, 0.1] \n",
    "              }\n",
    "gsGBC = GridSearchCV(GBC,param_grid = gb_param_grid, cv=kfold, scoring=\"accuracy\", n_jobs= 4, verbose = 1)\n",
    "gsGBC.fit(new_train,Y)\n",
    "GBC_best = gsGBC.best_estimator_\n",
    "\n",
    "# 최고 점수\n",
    "gsGBC.best_score_"
   ]
  },
  {
   "cell_type": "markdown",
   "metadata": {},
   "source": [
    "> 그라디언트 부스팅은 예측 모델을 작성하는 가장 강력한 기술 중 하나로 부스팅은 단계별 모델 방식으로 가산 모델을 작성하여 약한 학습자를 강력한 학습자로 변환하는 방법 \n",
    "부스팅에서 각각의 새 트리는 원래 데이터 세트의 수정 된 버전에 적합하다."
   ]
  },
  {
   "cell_type": "markdown",
   "metadata": {},
   "source": [
    "## IV. 예측 <a id=\"four\"></a>"
   ]
  },
  {
   "cell_type": "markdown",
   "metadata": {},
   "source": [
    "### a.앙상블 <a id=\"four-a\"></a>"
   ]
  },
  {
   "cell_type": "code",
   "execution_count": null,
   "metadata": {},
   "outputs": [],
   "source": [
    "test_Survived_XGB = pd.Series(XGB_best.predict(new_test), name=\"XGB\")\n",
    "test_Survived_LGB = pd.Series(LGB_best.predict(new_test), name=\"LGB\")\n",
    "test_Survived_RFC = pd.Series(RFC_best.predict(new_test), name=\"RFC\")\n",
    "test_Survived_GBC = pd.Series(GBC_best.predict(new_test), name=\"GBC\")\n",
    "\n",
    "ensemble_results = pd.concat([test_Survived_XGB,test_Survived_LGB,\n",
    "                              test_Survived_RFC,test_Survived_GBC],axis=1)\n",
    "g= sns.heatmap(ensemble_results.corr(),annot=True)"
   ]
  },
  {
   "cell_type": "markdown",
   "metadata": {},
   "source": [
    "> 4가지 모델을 heatmap을 통해서 상관관계를 비교해보고 상관성이 높은 RFC와 LGB 모델을 이용하여\n",
    "앙상블 모델을 만들어서 결과를 제출합니다"
   ]
  },
  {
   "cell_type": "markdown",
   "metadata": {},
   "source": [
    "### b.보팅 <a id=\"four-b\"></a>"
   ]
  },
  {
   "cell_type": "code",
   "execution_count": null,
   "metadata": {},
   "outputs": [],
   "source": [
    "from sklearn.ensemble import VotingClassifier"
   ]
  },
  {
   "cell_type": "code",
   "execution_count": null,
   "metadata": {},
   "outputs": [],
   "source": [
    "votingC = VotingClassifier(estimators=[('XGB', XGB_best), ('LGB', LGB_best),\n",
    "('RFC', RFC_best), ('GBC',GBC_best)], voting='soft', n_jobs=4)\n",
    "votingC = votingC.fit(new_train, Y)  "
   ]
  },
  {
   "cell_type": "code",
   "execution_count": null,
   "metadata": {},
   "outputs": [],
   "source": [
    "test_Survived = pd.Series(votingC.predict(new_test), name=\"Survived\")"
   ]
  },
  {
   "cell_type": "code",
   "execution_count": null,
   "metadata": {},
   "outputs": [],
   "source": [
    "submission = pd.DataFrame({\n",
    "    \"PassengerId\" :test[\"PassengerId\"],\n",
    "    \"Survived\": test_Survived\n",
    "})"
   ]
  },
  {
   "cell_type": "code",
   "execution_count": null,
   "metadata": {},
   "outputs": [],
   "source": [
    "submission.to_csv('voting_titanic.csv',index=False) "
   ]
  },
  {
   "cell_type": "markdown",
   "metadata": {},
   "source": [
    "> 투표는 여러 머신 러닝 모델의 예측을 결합하는 가장 간단한 방법 중 하나입니다. 실제 분류기는 아니지만 각 알고리즘의 다른 특성을 이용하기 위해 병렬로 학습되고 평가되는 다른 세트에 대한 래퍼입니다. 투표를 기반으로 구축하고 예측 한 모델의 예측을 결합합니다."
   ]
  },
  {
   "cell_type": "markdown",
   "metadata": {},
   "source": [
    "### c.스태킹 <a id=\"four-c\"></a>"
   ]
  },
  {
   "cell_type": "code",
   "execution_count": null,
   "metadata": {},
   "outputs": [],
   "source": [
    "from mlxtend.classifier import StackingClassifier\n",
    "from sklearn.utils.testing import ignore_warnings"
   ]
  },
  {
   "cell_type": "code",
   "execution_count": null,
   "metadata": {},
   "outputs": [],
   "source": [
    "clf1 = XGB_best\n",
    "clf2 = LGB_best\n",
    "clf3 = RFC_best\n",
    "clf4 = GBC_best\n",
    "\n",
    "lr = LogisticRegression()\n",
    "st_clf = StackingClassifier(classifiers=[clf1, clf1, clf2, clf3, clf4], meta_classifier=lr)\n",
    "params = {'meta_classifier__C': [0.1,1.0,5.0,10.0] ,\n",
    "          #'use_probas': [True] ,\n",
    "          #'average_probas': [True] ,\n",
    "          'use_features_in_secondary' : [True, False]\n",
    "         }\n",
    "with ignore_warnings(category=DeprecationWarning):\n",
    "    st_clf_grid = GridSearchCV(estimator=st_clf, param_grid=params, cv=5, refit=True)\n",
    "    st_clf_grid.fit(new_train, Y)\n",
    "    st_clf_grid.best_score_"
   ]
  },
  {
   "cell_type": "code",
   "execution_count": null,
   "metadata": {},
   "outputs": [],
   "source": [
    "with ignore_warnings(category=DeprecationWarning):    \n",
    "    pred_all_stack = st_clf_grid.predict(new_test)\n",
    "\n",
    "submission1 = pd.DataFrame({\n",
    "    \"PassengerId\" :test[\"PassengerId\"],\n",
    "    \"Survived\": pred_all_stack\n",
    "})\n",
    "#submission1.to_csv('stack_clf.csv',index=False)"
   ]
  },
  {
   "cell_type": "markdown",
   "metadata": {},
   "source": [
    ">Boosting, Stacking 및 Voting과 같은 분류에 앙상블 모델을 적용하여 타이타닉 생존자 예측을 하였다"
   ]
  }
 ],
 "metadata": {
  "kernelspec": {
   "display_name": "Python 3",
   "language": "python",
   "name": "python3"
  },
  "language_info": {
   "codemirror_mode": {
    "name": "ipython",
    "version": 3
   },
   "file_extension": ".py",
   "mimetype": "text/x-python",
   "name": "python",
   "nbconvert_exporter": "python",
   "pygments_lexer": "ipython3",
   "version": "3.6.6"
  }
 },
 "nbformat": 4,
 "nbformat_minor": 4
}
