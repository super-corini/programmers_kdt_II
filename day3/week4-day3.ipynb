{
 "cells": [
  {
   "cell_type": "markdown",
   "id": "18f15089",
   "metadata": {},
   "source": [
    "### Day 3 Mission: 본문에서 언급된 Feature를 제외하고 유의미한 Feature를 1개 이상 찾아봅시다\n",
    "\n",
    "- Fare? Sibsp? Parch?"
   ]
  },
  {
   "cell_type": "code",
   "execution_count": 1,
   "id": "1709262c",
   "metadata": {},
   "outputs": [],
   "source": [
    "import numpy as np\n",
    "import pandas as pd\n",
    "import matplotlib.pyplot as plt\n",
    "import seaborn as sns\n",
    "\n",
    "%matplotlib inline\n",
    "titanic_df = pd.read_csv('./train.csv')"
   ]
  },
  {
   "cell_type": "code",
   "execution_count": 60,
   "id": "a1c55ac6",
   "metadata": {},
   "outputs": [
    {
     "data": {
      "image/png": "[encoded data removed]",
      "text/plain": [
       "<Figure size 432x288 with 1 Axes>"
      ]
     },
     "metadata": {
      "needs_background": "light"
     },
     "output_type": "display_data"
    }
   ],
   "source": [
    "## 의미: Parch(부모/자식 탑승)가 많을 수록 생존율이 떨어짐\n",
    "\n",
    "sns.countplot(x='Parch', data=titanic_df[titanic_df.Survived ==1])\n",
    "\n",
    "plt.ylabel('Survived Count')\n",
    "plt.show()"
   ]
  }
 ],
 "metadata": {
  "kernelspec": {
   "display_name": "Python 3",
   "language": "python",
   "name": "python3"
  },
  "language_info": {
   "codemirror_mode": {
    "name": "ipython",
    "version": 3
   },
   "file_extension": ".py",
   "mimetype": "text/x-python",
   "name": "python",
   "nbconvert_exporter": "python",
   "pygments_lexer": "ipython3",
   "version": "3.9.4"
  }
 },
 "nbformat": 4,
 "nbformat_minor": 5
}
