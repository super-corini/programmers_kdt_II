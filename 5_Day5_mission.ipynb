{
  "nbformat": 4,
  "nbformat_minor": 0,
  "metadata": {
    "colab": {
      "name": " 5. Day5 mission.ipynb",
      "provenance": [],
      "collapsed_sections": [],
      "toc_visible": true,
      "authorship_tag": "ABX9TyMfszwsRuq3OAKK6nJvQxsl",
      "include_colab_link": true
    },
    "kernelspec": {
      "name": "python3",
      "display_name": "Python 3"
    },
    "language_info": {
      "name": "python"
    }
  },
  "cells": [
    {
      "cell_type": "markdown",
      "metadata": {
        "id": "view-in-github",
        "colab_type": "text"
      },
      "source": [
        "<a href=\"https://colab.research.google.com/github/withMichelle/programmers_kdt_II/blob/week3/5_Day5_mission.ipynb\" target=\"_parent\"><img src=\"https://colab.research.google.com/assets/colab-badge.svg\" alt=\"Open In Colab\"/></a>"
      ]
    },
    {
      "cell_type": "code",
      "metadata": {
        "id": "d88bMInuDlL6"
      },
      "source": [
        "import numpy as np\n",
        "import pandas as pd\n",
        "import seaborn as sns \n",
        "import matplotlib.pyplot as plt\n",
        "#matplotlib inline "
      ],
      "execution_count": null,
      "outputs": []
    },
    {
      "cell_type": "markdown",
      "metadata": {
        "id": "QBcVL_o2D76z"
      },
      "source": [
        "# 1.Netflix"
      ]
    },
    {
      "cell_type": "code",
      "metadata": {
        "colab": {
          "base_uri": "https://localhost:8080/"
        },
        "id": "hN8A17rKE9fz",
        "outputId": "609f51e3-ae90-4fd9-b0a1-6e7fbc0486e9"
      },
      "source": [
        "!kaggle datasets download -d shivamb/netflix-shows\n",
        "!unzip '*.zip'\n"
      ],
      "execution_count": null,
      "outputs": [
        {
          "output_type": "stream",
          "text": [
            "netflix-shows.zip: Skipping, found more recently modified local copy (use --force to force download)\n",
            "Archive:  netflix-shows.zip\n",
            "  inflating: netflix_titles.csv      \n"
          ],
          "name": "stdout"
        }
      ]
    },
    {
      "cell_type": "code",
      "metadata": {
        "colab": {
          "base_uri": "https://localhost:8080/"
        },
        "id": "zhFXd2NgFpXe",
        "outputId": "6bdb3135-0d84-4568-b194-600d5e758f80"
      },
      "source": [
        "!ls"
      ],
      "execution_count": null,
      "outputs": [
        {
          "output_type": "stream",
          "text": [
            "netflix-shows.zip  netflix_titles.csv  sample_data\n"
          ],
          "name": "stdout"
        }
      ]
    },
    {
      "cell_type": "code",
      "metadata": {
        "colab": {
          "base_uri": "https://localhost:8080/",
          "height": 108
        },
        "id": "uhVpGcLwFfDg",
        "outputId": "4492e631-54d3-468f-ab5c-4f59dd8e0db7"
      },
      "source": [
        "netflix = pd.read_csv('netflix_titles.csv')\n",
        "netflix.head(1)"
      ],
      "execution_count": null,
      "outputs": [
        {
          "output_type": "execute_result",
          "data": {
            "text/html": [
              "<div>\n",
              "<style scoped>\n",
              "    .dataframe tbody tr th:only-of-type {\n",
              "        vertical-align: middle;\n",
              "    }\n",
              "\n",
              "    .dataframe tbody tr th {\n",
              "        vertical-align: top;\n",
              "    }\n",
              "\n",
              "    .dataframe thead th {\n",
              "        text-align: right;\n",
              "    }\n",
              "</style>\n",
              "<table border=\"1\" class=\"dataframe\">\n",
              "  <thead>\n",
              "    <tr style=\"text-align: right;\">\n",
              "      <th></th>\n",
              "      <th>show_id</th>\n",
              "      <th>type</th>\n",
              "      <th>title</th>\n",
              "      <th>director</th>\n",
              "      <th>cast</th>\n",
              "      <th>country</th>\n",
              "      <th>date_added</th>\n",
              "      <th>release_year</th>\n",
              "      <th>rating</th>\n",
              "      <th>duration</th>\n",
              "      <th>listed_in</th>\n",
              "      <th>description</th>\n",
              "    </tr>\n",
              "  </thead>\n",
              "  <tbody>\n",
              "    <tr>\n",
              "      <th>0</th>\n",
              "      <td>s1</td>\n",
              "      <td>TV Show</td>\n",
              "      <td>3%</td>\n",
              "      <td>NaN</td>\n",
              "      <td>João Miguel, Bianca Comparato, Michel Gomes, R...</td>\n",
              "      <td>Brazil</td>\n",
              "      <td>August 14, 2020</td>\n",
              "      <td>2020</td>\n",
              "      <td>TV-MA</td>\n",
              "      <td>4 Seasons</td>\n",
              "      <td>International TV Shows, TV Dramas, TV Sci-Fi &amp;...</td>\n",
              "      <td>In a future where the elite inhabit an island ...</td>\n",
              "    </tr>\n",
              "  </tbody>\n",
              "</table>\n",
              "</div>"
            ],
            "text/plain": [
              "  show_id  ...                                        description\n",
              "0      s1  ...  In a future where the elite inhabit an island ...\n",
              "\n",
              "[1 rows x 12 columns]"
            ]
          },
          "metadata": {
            "tags": []
          },
          "execution_count": 16
        }
      ]
    },
    {
      "cell_type": "markdown",
      "metadata": {
        "id": "qruPLEeHD_d4"
      },
      "source": [
        "## 한국 작품은 총 얼마나 있는가?\n"
      ]
    },
    {
      "cell_type": "code",
      "metadata": {
        "colab": {
          "base_uri": "https://localhost:8080/"
        },
        "id": "xfqnTyuZF5ic",
        "outputId": "adb846aa-470c-495c-a20d-da4f6f086e02"
      },
      "source": [
        "netflix[netflix['country']=='South Korea'].agg({'show_id':'count'})"
      ],
      "execution_count": null,
      "outputs": [
        {
          "output_type": "execute_result",
          "data": {
            "text/plain": [
              "show_id    183\n",
              "dtype: int64"
            ]
          },
          "metadata": {
            "tags": []
          },
          "execution_count": 26
        }
      ]
    },
    {
      "cell_type": "markdown",
      "metadata": {
        "id": "6v54E9uhEGIa"
      },
      "source": [
        "## 가장 많은 작품이 올라간 국가는 어디이고, 얼마나 많은 작품이 있는가? "
      ]
    },
    {
      "cell_type": "code",
      "metadata": {
        "colab": {
          "base_uri": "https://localhost:8080/",
          "height": 105
        },
        "id": "pe1yuYQhEKZv",
        "outputId": "0ad98a0d-686e-42a2-d5dc-7e75fb924f53"
      },
      "source": [
        "raw = netflix.groupby('country').agg({'show_id':'count'})\n",
        "answer = raw.sort_values(by='show_id',ascending=False)\n",
        "answer.head(1)"
      ],
      "execution_count": null,
      "outputs": [
        {
          "output_type": "execute_result",
          "data": {
            "text/html": [
              "<div>\n",
              "<style scoped>\n",
              "    .dataframe tbody tr th:only-of-type {\n",
              "        vertical-align: middle;\n",
              "    }\n",
              "\n",
              "    .dataframe tbody tr th {\n",
              "        vertical-align: top;\n",
              "    }\n",
              "\n",
              "    .dataframe thead th {\n",
              "        text-align: right;\n",
              "    }\n",
              "</style>\n",
              "<table border=\"1\" class=\"dataframe\">\n",
              "  <thead>\n",
              "    <tr style=\"text-align: right;\">\n",
              "      <th></th>\n",
              "      <th>show_id</th>\n",
              "    </tr>\n",
              "    <tr>\n",
              "      <th>country</th>\n",
              "      <th></th>\n",
              "    </tr>\n",
              "  </thead>\n",
              "  <tbody>\n",
              "    <tr>\n",
              "      <th>United States</th>\n",
              "      <td>2555</td>\n",
              "    </tr>\n",
              "  </tbody>\n",
              "</table>\n",
              "</div>"
            ],
            "text/plain": [
              "               show_id\n",
              "country               \n",
              "United States     2555"
            ]
          },
          "metadata": {
            "tags": []
          },
          "execution_count": 31
        }
      ]
    },
    {
      "cell_type": "markdown",
      "metadata": {
        "id": "smNeYsWtEL6m"
      },
      "source": [
        "# 2. 가즈아!!!"
      ]
    },
    {
      "cell_type": "markdown",
      "metadata": {
        "id": "6ySzvvrAER41"
      },
      "source": [
        "## 2016.6 ~ 2017.6 기간의 5-MA(Moving Average) 비트코인 가격 그래프\n"
      ]
    },
    {
      "cell_type": "code",
      "metadata": {
        "colab": {
          "base_uri": "https://localhost:8080/",
          "height": 76
        },
        "id": "jnaIXQ-FHlT6",
        "outputId": "775889e3-6235-47ca-929c-f7f8de52faa1"
      },
      "source": [
        "bitcoin = pd.read_csv('/content/BitCoin.csv')\n",
        "\n",
        "df = bitcoin.sort_values(by='Date').drop('Unnamed: 0', axis=1)\n",
        "df.head(1)"
      ],
      "execution_count": null,
      "outputs": [
        {
          "output_type": "execute_result",
          "data": {
            "text/html": [
              "<div>\n",
              "<style scoped>\n",
              "    .dataframe tbody tr th:only-of-type {\n",
              "        vertical-align: middle;\n",
              "    }\n",
              "\n",
              "    .dataframe tbody tr th {\n",
              "        vertical-align: top;\n",
              "    }\n",
              "\n",
              "    .dataframe thead th {\n",
              "        text-align: right;\n",
              "    }\n",
              "</style>\n",
              "<table border=\"1\" class=\"dataframe\">\n",
              "  <thead>\n",
              "    <tr style=\"text-align: right;\">\n",
              "      <th></th>\n",
              "      <th>Date</th>\n",
              "      <th>Open</th>\n",
              "      <th>High</th>\n",
              "      <th>Low</th>\n",
              "      <th>Close</th>\n",
              "      <th>Volume</th>\n",
              "      <th>Market Cap</th>\n",
              "    </tr>\n",
              "  </thead>\n",
              "  <tbody>\n",
              "    <tr>\n",
              "      <th>1605</th>\n",
              "      <td>2013-01-05</td>\n",
              "      <td>139.0</td>\n",
              "      <td>139.89</td>\n",
              "      <td>107.72</td>\n",
              "      <td>116.99</td>\n",
              "      <td>8026718.801</td>\n",
              "      <td>1542820000</td>\n",
              "    </tr>\n",
              "  </tbody>\n",
              "</table>\n",
              "</div>"
            ],
            "text/plain": [
              "            Date   Open    High     Low   Close       Volume  Market Cap\n",
              "1605  2013-01-05  139.0  139.89  107.72  116.99  8026718.801  1542820000"
            ]
          },
          "metadata": {
            "tags": []
          },
          "execution_count": 47
        }
      ]
    },
    {
      "cell_type": "code",
      "metadata": {
        "colab": {
          "base_uri": "https://localhost:8080/",
          "height": 191
        },
        "id": "yxcOfnkXJVTv",
        "outputId": "12fbf01f-31b2-4ee8-cb9f-cef58bf2da55"
      },
      "source": [
        "df['ma5'] = df['Open'].rolling(5).mean()\n",
        "df_graph = df[df['Date'].between('2016-06-01','2017-06-30')]\n",
        "df_graph.head()"
      ],
      "execution_count": null,
      "outputs": [
        {
          "output_type": "execute_result",
          "data": {
            "text/html": [
              "<div>\n",
              "<style scoped>\n",
              "    .dataframe tbody tr th:only-of-type {\n",
              "        vertical-align: middle;\n",
              "    }\n",
              "\n",
              "    .dataframe tbody tr th {\n",
              "        vertical-align: top;\n",
              "    }\n",
              "\n",
              "    .dataframe thead th {\n",
              "        text-align: right;\n",
              "    }\n",
              "</style>\n",
              "<table border=\"1\" class=\"dataframe\">\n",
              "  <thead>\n",
              "    <tr style=\"text-align: right;\">\n",
              "      <th></th>\n",
              "      <th>Date</th>\n",
              "      <th>Open</th>\n",
              "      <th>High</th>\n",
              "      <th>Low</th>\n",
              "      <th>Close</th>\n",
              "      <th>Volume</th>\n",
              "      <th>Market Cap</th>\n",
              "      <th>ma5</th>\n",
              "    </tr>\n",
              "  </thead>\n",
              "  <tbody>\n",
              "    <tr>\n",
              "      <th>625</th>\n",
              "      <td>2016-06-01</td>\n",
              "      <td>431.86</td>\n",
              "      <td>431.86</td>\n",
              "      <td>426.34</td>\n",
              "      <td>429.11</td>\n",
              "      <td>34042500.0</td>\n",
              "      <td>6498830000</td>\n",
              "      <td>499.006</td>\n",
              "    </tr>\n",
              "    <tr>\n",
              "      <th>594</th>\n",
              "      <td>2016-06-02</td>\n",
              "      <td>386.59</td>\n",
              "      <td>386.63</td>\n",
              "      <td>372.39</td>\n",
              "      <td>376.52</td>\n",
              "      <td>49249300.0</td>\n",
              "      <td>5865740000</td>\n",
              "      <td>481.718</td>\n",
              "    </tr>\n",
              "    <tr>\n",
              "      <th>565</th>\n",
              "      <td>2016-06-03</td>\n",
              "      <td>400.52</td>\n",
              "      <td>411.91</td>\n",
              "      <td>395.78</td>\n",
              "      <td>407.71</td>\n",
              "      <td>91212500.0</td>\n",
              "      <td>6121400000</td>\n",
              "      <td>456.326</td>\n",
              "    </tr>\n",
              "    <tr>\n",
              "      <th>534</th>\n",
              "      <td>2016-06-04</td>\n",
              "      <td>424.28</td>\n",
              "      <td>424.53</td>\n",
              "      <td>422.73</td>\n",
              "      <td>423.41</td>\n",
              "      <td>59091000.0</td>\n",
              "      <td>6533260000</td>\n",
              "      <td>435.488</td>\n",
              "    </tr>\n",
              "    <tr>\n",
              "      <th>504</th>\n",
              "      <td>2016-06-05</td>\n",
              "      <td>447.94</td>\n",
              "      <td>461.38</td>\n",
              "      <td>447.07</td>\n",
              "      <td>459.60</td>\n",
              "      <td>72796800.0</td>\n",
              "      <td>6947800000</td>\n",
              "      <td>418.238</td>\n",
              "    </tr>\n",
              "  </tbody>\n",
              "</table>\n",
              "</div>"
            ],
            "text/plain": [
              "           Date    Open    High  ...      Volume  Market Cap      ma5\n",
              "625  2016-06-01  431.86  431.86  ...  34042500.0  6498830000  499.006\n",
              "594  2016-06-02  386.59  386.63  ...  49249300.0  5865740000  481.718\n",
              "565  2016-06-03  400.52  411.91  ...  91212500.0  6121400000  456.326\n",
              "534  2016-06-04  424.28  424.53  ...  59091000.0  6533260000  435.488\n",
              "504  2016-06-05  447.94  461.38  ...  72796800.0  6947800000  418.238\n",
              "\n",
              "[5 rows x 8 columns]"
            ]
          },
          "metadata": {
            "tags": []
          },
          "execution_count": 48
        }
      ]
    },
    {
      "cell_type": "code",
      "metadata": {
        "colab": {
          "base_uri": "https://localhost:8080/",
          "height": 352
        },
        "id": "e7_3I8twLVyF",
        "outputId": "50e0c16e-ec6f-4457-dc8b-e02447c54a10"
      },
      "source": [
        "\n",
        "# 선의 색깔은 노란색(#f2a900) 으로 해야합니다.\n",
        "# x-axis label과 y-axis label은 적절한 텍스트로 추가되어야 합니다.\n",
        "# 이동평균의 기준은 Open Column으로 계산합니다.\n",
        "# 이외에도 그래프를 알아보기 쉽게 하기 위한 정보(Text, Facet 등)을 추가하는 것도 좋습니다.\n",
        "# 💡 이동평균(Moving Average)법은 시계열 데이터를 표현하는 데에 많이 사용하는 방법 중 하나입니다.\n",
        "\n",
        "plt.figure(figsize=(15,5))\n",
        "plt.plot(df_graph.Date, df_graph.ma5, color='#f2a900')\n",
        "\n",
        "plt.xlabel('date')\n",
        "plt.ylabel('ma_5days')\n",
        "plt.title('Bitcoin', fontsize=15)\n",
        "plt.show()"
      ],
      "execution_count": null,
      "outputs": [
        {
          "output_type": "display_data",
          "data": {
            "image/png": "[encoded data removed]",
            "text/plain": [
              "<Figure size 1080x360 with 1 Axes>"
            ]
          },
          "metadata": {
            "tags": [],
            "needs_background": "light"
          }
        }
      ]
    },
    {
      "cell_type": "markdown",
      "metadata": {
        "id": "fwxxfOy9Ebwu"
      },
      "source": [
        "## 2016.6 ~ 2017.6 기간에 해당하는 비트코인의 5-MA 그래프와 이더리움의 5-MA 그래프를 동시에 그려주세요.\n",
        "\n"
      ]
    },
    {
      "cell_type": "code",
      "metadata": {
        "colab": {
          "base_uri": "https://localhost:8080/",
          "height": 76
        },
        "id": "J_ZT5QZ8NxpB",
        "outputId": "a0497689-9579-4cd0-950e-feed742e2ccb"
      },
      "source": [
        "ether = pd.read_csv('/content/ETH_day.csv')\n",
        "\n",
        "df = ether.sort_values(by='Date')\n",
        "df.head(1)"
      ],
      "execution_count": null,
      "outputs": [
        {
          "output_type": "execute_result",
          "data": {
            "text/html": [
              "<div>\n",
              "<style scoped>\n",
              "    .dataframe tbody tr th:only-of-type {\n",
              "        vertical-align: middle;\n",
              "    }\n",
              "\n",
              "    .dataframe tbody tr th {\n",
              "        vertical-align: top;\n",
              "    }\n",
              "\n",
              "    .dataframe thead th {\n",
              "        text-align: right;\n",
              "    }\n",
              "</style>\n",
              "<table border=\"1\" class=\"dataframe\">\n",
              "  <thead>\n",
              "    <tr style=\"text-align: right;\">\n",
              "      <th></th>\n",
              "      <th>Date</th>\n",
              "      <th>Symbol</th>\n",
              "      <th>Open</th>\n",
              "      <th>High</th>\n",
              "      <th>Low</th>\n",
              "      <th>Close</th>\n",
              "      <th>Volume ETH</th>\n",
              "      <th>Volume USD</th>\n",
              "    </tr>\n",
              "  </thead>\n",
              "  <tbody>\n",
              "    <tr>\n",
              "      <th>1437</th>\n",
              "      <td>2016-05-09</td>\n",
              "      <td>ETHUSD</td>\n",
              "      <td>12.0</td>\n",
              "      <td>12.0</td>\n",
              "      <td>9.36</td>\n",
              "      <td>9.98</td>\n",
              "      <td>1317.9</td>\n",
              "      <td>12885.06</td>\n",
              "    </tr>\n",
              "  </tbody>\n",
              "</table>\n",
              "</div>"
            ],
            "text/plain": [
              "            Date  Symbol  Open  High   Low  Close  Volume ETH  Volume USD\n",
              "1437  2016-05-09  ETHUSD  12.0  12.0  9.36   9.98      1317.9    12885.06"
            ]
          },
          "metadata": {
            "tags": []
          },
          "execution_count": 49
        }
      ]
    },
    {
      "cell_type": "code",
      "metadata": {
        "colab": {
          "base_uri": "https://localhost:8080/",
          "height": 191
        },
        "id": "1EJAibsPOEAd",
        "outputId": "2f48d077-a052-48c9-84d9-573a2d16f300"
      },
      "source": [
        "df['ma5'] = df['Open'].rolling(5).mean()\n",
        "df_graph_ether = df[df['Date'].between('2016-06-01','2017-06-30')]\n",
        "df_graph_ether.head()"
      ],
      "execution_count": null,
      "outputs": [
        {
          "output_type": "execute_result",
          "data": {
            "text/html": [
              "<div>\n",
              "<style scoped>\n",
              "    .dataframe tbody tr th:only-of-type {\n",
              "        vertical-align: middle;\n",
              "    }\n",
              "\n",
              "    .dataframe tbody tr th {\n",
              "        vertical-align: top;\n",
              "    }\n",
              "\n",
              "    .dataframe thead th {\n",
              "        text-align: right;\n",
              "    }\n",
              "</style>\n",
              "<table border=\"1\" class=\"dataframe\">\n",
              "  <thead>\n",
              "    <tr style=\"text-align: right;\">\n",
              "      <th></th>\n",
              "      <th>Date</th>\n",
              "      <th>Symbol</th>\n",
              "      <th>Open</th>\n",
              "      <th>High</th>\n",
              "      <th>Low</th>\n",
              "      <th>Close</th>\n",
              "      <th>Volume ETH</th>\n",
              "      <th>Volume USD</th>\n",
              "      <th>ma5</th>\n",
              "    </tr>\n",
              "  </thead>\n",
              "  <tbody>\n",
              "    <tr>\n",
              "      <th>1414</th>\n",
              "      <td>2016-06-01</td>\n",
              "      <td>ETHUSD</td>\n",
              "      <td>14.18</td>\n",
              "      <td>14.35</td>\n",
              "      <td>13.54</td>\n",
              "      <td>13.95</td>\n",
              "      <td>6390.06</td>\n",
              "      <td>89027.81</td>\n",
              "      <td>12.514</td>\n",
              "    </tr>\n",
              "    <tr>\n",
              "      <th>1413</th>\n",
              "      <td>2016-06-02</td>\n",
              "      <td>ETHUSD</td>\n",
              "      <td>13.95</td>\n",
              "      <td>14.13</td>\n",
              "      <td>13.82</td>\n",
              "      <td>13.90</td>\n",
              "      <td>942.85</td>\n",
              "      <td>13180.38</td>\n",
              "      <td>13.026</td>\n",
              "    </tr>\n",
              "    <tr>\n",
              "      <th>1412</th>\n",
              "      <td>2016-06-03</td>\n",
              "      <td>ETHUSD</td>\n",
              "      <td>13.90</td>\n",
              "      <td>16.05</td>\n",
              "      <td>13.50</td>\n",
              "      <td>14.02</td>\n",
              "      <td>11426.53</td>\n",
              "      <td>157342.19</td>\n",
              "      <td>13.444</td>\n",
              "    </tr>\n",
              "    <tr>\n",
              "      <th>1411</th>\n",
              "      <td>2016-06-04</td>\n",
              "      <td>ETHUSD</td>\n",
              "      <td>14.02</td>\n",
              "      <td>14.16</td>\n",
              "      <td>13.64</td>\n",
              "      <td>13.86</td>\n",
              "      <td>4330.50</td>\n",
              "      <td>59977.39</td>\n",
              "      <td>13.742</td>\n",
              "    </tr>\n",
              "    <tr>\n",
              "      <th>1410</th>\n",
              "      <td>2016-06-05</td>\n",
              "      <td>ETHUSD</td>\n",
              "      <td>13.86</td>\n",
              "      <td>13.92</td>\n",
              "      <td>13.70</td>\n",
              "      <td>13.91</td>\n",
              "      <td>787.49</td>\n",
              "      <td>10869.67</td>\n",
              "      <td>13.982</td>\n",
              "    </tr>\n",
              "  </tbody>\n",
              "</table>\n",
              "</div>"
            ],
            "text/plain": [
              "            Date  Symbol   Open   High  ...  Close  Volume ETH  Volume USD     ma5\n",
              "1414  2016-06-01  ETHUSD  14.18  14.35  ...  13.95     6390.06    89027.81  12.514\n",
              "1413  2016-06-02  ETHUSD  13.95  14.13  ...  13.90      942.85    13180.38  13.026\n",
              "1412  2016-06-03  ETHUSD  13.90  16.05  ...  14.02    11426.53   157342.19  13.444\n",
              "1411  2016-06-04  ETHUSD  14.02  14.16  ...  13.86     4330.50    59977.39  13.742\n",
              "1410  2016-06-05  ETHUSD  13.86  13.92  ...  13.91      787.49    10869.67  13.982\n",
              "\n",
              "[5 rows x 9 columns]"
            ]
          },
          "metadata": {
            "tags": []
          },
          "execution_count": 50
        }
      ]
    },
    {
      "cell_type": "code",
      "metadata": {
        "id": "q1vb4ZlCEjGD"
      },
      "source": [
        "선의 색깔은 비트코인 : 노란색(#f2a900), 이더리움 : 검은색(#3c3c3d) 으로 해야합니다.\n",
        "x-axis label과 y-axis label은 적절한 텍스트로 추가되어야 합니다.\n",
        "이동평균의 기준은 Open Column으로 계산합니다.\n",
        "이외에도 그래프를 알아보기 쉽게 하기 위한 정보(Text, Facet 등)을 추가하는 것도 좋습니다.\n",
        "\n",
        "\n",
        "# 선의 색깔은 노란색(#f2a900) 으로 해야합니다.\n",
        "# x-axis label과 y-axis label은 적절한 텍스트로 추가되어야 합니다.\n",
        "# 이동평균의 기준은 Open Column으로 계산합니다.\n",
        "# 이외에도 그래프를 알아보기 쉽게 하기 위한 정보(Text, Facet 등)을 추가하는 것도 좋습니다.\n",
        "# 💡 이동평균(Moving Average)법은 시계열 데이터를 표현하는 데에 많이 사용하는 방법 중 하나입니다.\n",
        "\n",
        "\n",
        "plt.figure(figsize=(15,5))\n",
        "plt.plot(df_graph.Date, df_graph.ma5, color='#f2a900')\n",
        "\n",
        "plt.xlabel('date')\n",
        "plt.ylabel('ma_5days')\n",
        "plt.title('Bitcoin', fontsize=15)\n",
        "plt.show()"
      ],
      "execution_count": null,
      "outputs": []
    },
    {
      "cell_type": "code",
      "metadata": {
        "colab": {
          "base_uri": "https://localhost:8080/",
          "height": 266
        },
        "id": "ChDPIzDkQJ7H",
        "outputId": "453f8380-7ef8-4cab-864c-115b13b9ebe2"
      },
      "source": [
        "import matplotlib.pyplot as plt\n",
        "\n",
        "# Some sample lists\n",
        "l1 = [0.7,0.8,0.8,0.9,0.8,0.7,0.6,0.9,1.0,0.9]\n",
        "l2 = [0.2,0.3,0.1,0.0,0.2,0.1,0.3,0.1,0.2,0.1]\n",
        "l3 = [0.4,0.6,0.4,0.5,0.4,0.5,0.6,0.4,0.5,0.4]\n",
        "\n",
        "l4 = [78,87,77,65,89,98,74,94,85,73]\n",
        "l5 = [16,44,14,55,34,36,76,54,43,32]\n",
        "\n",
        "# Make a figure\n",
        "fig = plt.figure()\n",
        "\n",
        "# Make room for legend at bottom\n",
        "fig.subplots_adjust(bottom=0.2)\n",
        "\n",
        "# The axes for your lists 1-3\n",
        "ax1 = fig.add_subplot(211)\n",
        "# A twin axis for list 4. This shares the x axis, but has a separate y axis\n",
        "ax2 = ax1.twinx()\n",
        "\n",
        "# Plot lines 1-3\n",
        "line1 = ax1.plot(l1,'bo-',label='list 1')\n",
        "line2 = ax1.plot(l2,'go-',label='list 2')\n",
        "line3 = ax1.plot(l3,'ro-',label='list 3')\n",
        "\n",
        "# Plot line 4\n",
        "line4 = ax2.plot(l4,'yo-',label='list 4')\n",
        "\n",
        "# Some sensible y limits\n",
        "ax1.set_ylim(0,1)\n",
        "ax2.set_ylim(0,100)\n",
        "\n",
        "# Your second subplot, for lists 4&5\n",
        "ax3 = fig.add_subplot(212)\n",
        "\n",
        "# Plot lines 4&5\n",
        "ax3.plot(l4,'yo-',label='list 4')\n",
        "line5 = ax3.plot(l5,'mo-',label='list 5')\n",
        "\n",
        "# To get lines 1-5 on the same legend, we need to \n",
        "# gather all the lines together before calling legend\n",
        "lines = line1+line2+line3+line4+line5\n",
        "labels = [l.get_label() for l in lines]\n",
        "\n",
        "# giving loc a tuple in axes-coords. ncol=5 for 5 columns\n",
        "ax3.legend(lines, labels, loc=(0,-0.4), ncol=5)\n",
        "\n",
        "ax3.set_xlabel('events')\n",
        "\n",
        "# Display the figure\n",
        "plt.show()"
      ],
      "execution_count": null,
      "outputs": [
        {
          "output_type": "display_data",
          "data": {
            "image/png": "[encoded data removed]",
            "text/plain": [
              "<Figure size 432x288 with 3 Axes>"
            ]
          },
          "metadata": {
            "tags": [],
            "needs_background": "light"
          }
        }
      ]
    },
    {
      "cell_type": "code",
      "metadata": {
        "colab": {
          "base_uri": "https://localhost:8080/",
          "height": 311
        },
        "id": "Y5dT7CIWO5e7",
        "outputId": "38125ee4-3e50-484b-9847-4345a9d5b5c5"
      },
      "source": [
        "\n",
        "fig = plt.figure(figsize=(15,10))\n",
        "\n",
        "# The axes for your lists 1-2\n",
        "ax1 = fig.add_subplot(211)\n",
        "ax2 = ax1.twinx()\n",
        "\n",
        "ax1.plot(df_graph.Date, df_graph.ma5,color='#f2a900', label='Bitcoin')\n",
        "ax2.plot(df_graph_ether.Date, df_graph_ether.ma5, color='#3c3c3d', label='Etherium')\n",
        "\n",
        "ax2.set_ylim(0,3000)\n",
        "\n",
        "ax1.set_ylabel('Bitcoin')\n",
        "ax2.set_ylabel('Etherium')\n",
        "ax2.set_xlabel('date')\n",
        "\n",
        "plt.title('Bitcoin vs Etherium MA 5 days ')\n",
        "ax1.legend()\n",
        "ax2.legend()\n",
        "plt.show()\n"
      ],
      "execution_count": null,
      "outputs": [
        {
          "output_type": "display_data",
          "data": {
            "image/png": "[encoded data removed]",
            "text/plain": [
              "<Figure size 1080x720 with 2 Axes>"
            ]
          },
          "metadata": {
            "tags": [],
            "needs_background": "light"
          }
        }
      ]
    }
  ]
}