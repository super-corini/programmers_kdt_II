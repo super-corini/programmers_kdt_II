{
 "cells": [
  {
   "cell_type": "markdown",
   "metadata": {},
   "source": [
    "# 0. Jupyter Notebook 시작하기\n",
    "**Jupyter Notebook을 사용해 Python 프로그래밍을 진행해봅시다.**"
   ]
  },
  {
   "cell_type": "markdown",
   "metadata": {},
   "source": [
    "1. Jupyter Notebook의 단축키 익히기  \n",
    "    - Esc : 명령 모드\n",
    "        - **Y** : Code Cell\n",
    "        - **M** : Markdown Cell\n",
    "        - **A** : 현재 셀 위에 셀 만들기\n",
    "        - **B** : 현재 셀 아래에 셀 만들기\n",
    "        - **dd** : 현재 셀 삭제하기\n",
    "    - Enter : 편집 모드\n",
    "    - ctrl(cmd) + Enter : 셀 실행하기(Code) / 형식 반영하기(Markdown) \n",
    "2. Markdown\n",
    "    - Header : #, ##, ###  \n",
    "    - *italic* : _, *  \n",
    "    - **bold** : __, **\n",
    "    - ~strikethrough~ : ~\n",
    "    - unordered list : -, ...\n",
    "    - ordered list : 1. "
   ]
  },
  {
   "cell_type": "markdown",
   "metadata": {},
   "source": [
    "----"
   ]
  },
  {
   "cell_type": "markdown",
   "metadata": {},
   "source": [
    "## Jupyter Notebook Tutorial\n",
    "\n",
    "**마우스 없이 키보드만으로 아래 미션들을 해결해봅시다!**"
   ]
  },
  {
   "cell_type": "markdown",
   "metadata": {},
   "source": [
    "### Mission 1\n",
    "Code Mode로 이 셀 **아래**에 Python Code로 Hello World!를 출력해봅시다."
   ]
  },
  {
   "cell_type": "code",
   "execution_count": 1,
   "metadata": {
    "ExecuteTime": {
     "end_time": "2021-05-04T11:11:32.877853Z",
     "start_time": "2021-05-04T11:11:32.846640Z"
    }
   },
   "outputs": [
    {
     "name": "stdout",
     "output_type": "stream",
     "text": [
      "Hello World!\n"
     ]
    }
   ],
   "source": [
    "print('Hello World!')"
   ]
  },
  {
   "cell_type": "markdown",
   "metadata": {},
   "source": [
    "----"
   ]
  },
  {
   "cell_type": "markdown",
   "metadata": {},
   "source": [
    "# 손동현\n",
    "\n",
    "## 출신\n",
    "  - 울산\n",
    "  \n",
    "## 학교\n",
    "  - 울산대학교 IT융합전공\n",
    "  - 집 앞에 있어서 갔음\n",
    "  - ~사실 경북대도 넣었는데 떨어짐~\n",
    "  \n",
    "## 취미\n",
    "  - 게임\n",
    "    - 플스, 스위치, 스팀, 온라인, 모바일 가리지 않음\n",
    "    - ~엑박은 조금..... PC 게임패스를 쓰는 합리적인 소비자가 되도록 하자~\n",
    "    - 플스, 스위치, 스팀 친추 환영(제발 친구해줘요)\n",
    "    - 모바일\n",
    "      - 포켓몬 고, 가디언테일즈, 와일드리프트, 카러플\n",
    "  - 운동\n",
    "    - 태권도 5단\n",
    "    - 옛날엔 했는데......\n",
    "    - 개인 사정으로 정 떨어져서 관둠\n",
    "    \n",
    "## 치킨\n",
    "  - 치.킨.조.아"
   ]
  },
  {
   "cell_type": "markdown",
   "metadata": {},
   "source": [
    "### Mission 2\n",
    "Edit Mode로 이 셀 **위**에 자기소개 글을 적어봅시다."
   ]
  },
  {
   "cell_type": "markdown",
   "metadata": {},
   "source": [
    "----"
   ]
  },
  {
   "cell_type": "markdown",
   "metadata": {},
   "source": [
    "### Mission 3\n",
    "아래 Cell의 속성을 바꿔서 파이썬 코드가 잘 실행되게 해주세요!"
   ]
  },
  {
   "cell_type": "code",
   "execution_count": 2,
   "metadata": {
    "ExecuteTime": {
     "end_time": "2021-05-04T11:22:45.059588Z",
     "start_time": "2021-05-04T11:22:45.028383Z"
    }
   },
   "outputs": [
    {
     "name": "stdout",
     "output_type": "stream",
     "text": [
      "5\n"
     ]
    }
   ],
   "source": [
    "import random as rand  \n",
    "print(rand.randint(0, 10))"
   ]
  },
  {
   "cell_type": "markdown",
   "metadata": {},
   "source": [
    "----"
   ]
  },
  {
   "cell_type": "markdown",
   "metadata": {},
   "source": [
    "## Mission 4\n",
    "\n",
    "출출한 야심한 밤, 라면을 끓여먹으려고 합니다.\n",
    "이를 함께 준비해볼까요?\n",
    "\n",
    "### 4.1\n",
    "라면 먹고 싶은 마음이 너무 큰 우리, 아래에 셀을 추가하고, **헤더 1 크기**의 큰 글씨로 \"라면먹고싶다!\"를 적어봅시다."
   ]
  },
  {
   "cell_type": "markdown",
   "metadata": {},
   "source": [
    "# 라면먹고 싶다! "
   ]
  },
  {
   "cell_type": "markdown",
   "metadata": {},
   "source": [
    "### 4.2\n",
    "어떤 라면을 먹고 싶으신가요? 여러분이 먹고 싶은 라면을 아래 셀을 추가하고 다음과 같이 *italic* 체와 함께 적어봅시다.  \n",
    "ex) 나는 *불닭볶음면* 이 땡긴다..."
   ]
  },
  {
   "cell_type": "markdown",
   "metadata": {
    "ExecuteTime": {
     "end_time": "2021-05-04T11:23:34.446561Z",
     "start_time": "2021-05-04T11:23:34.415356Z"
    }
   },
   "source": [
    "절대 *열라면* 해"
   ]
  },
  {
   "cell_type": "markdown",
   "metadata": {},
   "source": [
    "### 4.3\n",
    "아래 셀에는 라면을 만들 때 쓸 재료들이 있습니다.  \n",
    "1. 재료들을 unordered list로 만들어봅시다.\n",
    "2. 꼭 넣어야 하는 재료는 **bold** 처리를 해줍시다.\n",
    "3. 넣지 말아야하는 재료는 ~strikethrough~ 처리를 해줍시다."
   ]
  },
  {
   "cell_type": "markdown",
   "metadata": {},
   "source": [
    "- **물**  \n",
    "- **라면 스프**\n",
    "- **라면**  \n",
    "- **계란**  \n",
    "- ~치즈~  \n",
    "- ~홍삼~\n",
    "- ~아메리카노~"
   ]
  },
  {
   "cell_type": "markdown",
   "metadata": {},
   "source": [
    "### 4.4  \n",
    "아래 셀에는 라면을 끓이는 순서가 뒤죽박죽 나열되어있습니다.  \n",
    "순서에 맞게 이를 ordered list로 만들어주세요.  \n",
    "(이 Mission에서는 마우스를 사용해도 됩니다!)"
   ]
  },
  {
   "cell_type": "markdown",
   "metadata": {},
   "source": [
    "1. 냄비에 물을 올리고 불을 켠다.  \n",
    "2. 끓는 물에 라면과 라면 스프를 넣는다.  \n",
    "3. 면이 다 익었을 때 즈음 추가 재료들을 넣어준다.  \n",
    "4. 불을 끄고, 맛있게 먹는다!  "
   ]
  },
  {
   "cell_type": "markdown",
   "metadata": {},
   "source": [
    "----"
   ]
  }
 ],
 "metadata": {
  "kernelspec": {
   "display_name": "Python 3",
   "language": "python",
   "name": "python3"
  },
  "language_info": {
   "codemirror_mode": {
    "name": "ipython",
    "version": 3
   },
   "file_extension": ".py",
   "mimetype": "text/x-python",
   "name": "python",
   "nbconvert_exporter": "python",
   "pygments_lexer": "ipython3",
   "version": "3.8.5"
  },
  "toc": {
   "base_numbering": 1,
   "nav_menu": {},
   "number_sections": true,
   "sideBar": true,
   "skip_h1_title": false,
   "title_cell": "Table of Contents",
   "title_sidebar": "Contents",
   "toc_cell": false,
   "toc_position": {},
   "toc_section_display": true,
   "toc_window_display": false
  }
 },
 "nbformat": 4,
 "nbformat_minor": 4
}
