{
 "cells": [
  {
   "cell_type": "markdown",
   "metadata": {},
   "source": [
    "# 2. 파이썬으로 데이터 주무르기, pandas\n",
    "**pandas를 활용해서 데이터프레임을 다뤄봅시다.**"
   ]
  },
  {
   "cell_type": "markdown",
   "metadata": {},
   "source": [
    "1. Pandas 시작하기\n",
    "    - prerequisite : Table\n",
    "    - pandas import하기\n",
    "   \n",
    "2. Pandas로 1차원 데이터 다루기 - Series \n",
    "    - Series 선언하기\n",
    "    - Series vs ndarray\n",
    "    - Series vs dict\n",
    "    - Series에 이름 붙이기\n",
    "3. Pandas로 2차원 데이터 다루기 - dataframe\n",
    "    - dataframe 선언하기\n",
    "    - from csv to dataframe\n",
    "    - dataframe 자료 접근하기\n",
    "\n",
    "[수업에 사용된 covid 데이터](https://www.kaggle.com/imdevskp/corona-virus-report)"
   ]
  },
  {
   "cell_type": "markdown",
   "metadata": {},
   "source": [
    "## I. pandas 시작하기"
   ]
  },
  {
   "cell_type": "markdown",
   "metadata": {},
   "source": [
    "## II. pandas로 1차원 데이터 다루기 - Series"
   ]
  },
  {
   "cell_type": "markdown",
   "metadata": {},
   "source": [
    "## III. Pandas로 2차원 데이터 다루기 - dataframe"
   ]
  },
  {
   "cell_type": "markdown",
   "metadata": {},
   "source": [
    "## Mission:\n",
    "### 1. covid 데이터에서 100 case 대비 사망률(`Deaths / 100 Cases`)이 가장 높은 국가는?"
   ]
  },
  {
   "cell_type": "code",
   "execution_count": 1,
   "metadata": {},
   "outputs": [
    {
     "data": {
      "text/plain": [
       "184    Yemen\n",
       "Name: Country/Region, dtype: object"
      ]
     },
     "execution_count": 1,
     "metadata": {},
     "output_type": "execute_result"
    }
   ],
   "source": [
    "import pandas as pd\n",
    "covid = pd.read_csv('./country_wise_latest.csv')\n",
    "\n",
    "covid[covid['Deaths / 100 Cases'] == covid['Deaths / 100 Cases'].max()]['Country/Region']"
   ]
  },
  {
   "cell_type": "markdown",
   "metadata": {},
   "source": [
    "### 2. covid 데이터에서 신규 확진자가 없는 나라 중 WHO Region이 'Europe'를 모두 출력하면?  \n",
    "Hint : 한 줄에 동시에 두가지 조건을 Apply하는 경우 Warning이 발생할 수 있습니다."
   ]
  },
  {
   "cell_type": "code",
   "execution_count": 3,
   "metadata": {},
   "outputs": [
    {
     "name": "stdout",
     "output_type": "stream",
     "text": [
      "    Country/Region  Confirmed  Deaths  Recovered  Active  New cases  \\\n",
      "56         Estonia       2034      69       1923      42          0   \n",
      "75        Holy See         12       0         12       0          0   \n",
      "95          Latvia       1219      31       1045     143          0   \n",
      "100  Liechtenstein         86       1         81       4          0   \n",
      "113         Monaco        116       4        104       8          0   \n",
      "143     San Marino        699      42        657       0          0   \n",
      "157          Spain     272421   28432     150376   93613          0   \n",
      "\n",
      "     New deaths  New recovered  Deaths / 100 Cases  Recovered / 100 Cases  \\\n",
      "56            0              1                3.39                  94.54   \n",
      "75            0              0                0.00                 100.00   \n",
      "95            0              0                2.54                  85.73   \n",
      "100           0              0                1.16                  94.19   \n",
      "113           0              0                3.45                  89.66   \n",
      "143           0              0                6.01                  93.99   \n",
      "157           0              0               10.44                  55.20   \n",
      "\n",
      "     Deaths / 100 Recovered  Confirmed last week  1 week change  \\\n",
      "56                     3.59                 2021             13   \n",
      "75                     0.00                   12              0   \n",
      "95                     2.97                 1192             27   \n",
      "100                    1.23                   86              0   \n",
      "113                    3.85                  109              7   \n",
      "143                    6.39                  699              0   \n",
      "157                   18.91               264836           7585   \n",
      "\n",
      "     1 week % increase WHO Region  \n",
      "56                0.64     Europe  \n",
      "75                0.00     Europe  \n",
      "95                2.27     Europe  \n",
      "100               0.00     Europe  \n",
      "113               6.42     Europe  \n",
      "143               0.00     Europe  \n",
      "157               2.86     Europe  \n"
     ]
    }
   ],
   "source": [
    "zero_covid_cases = covid['New cases'] == 0\n",
    "covid_europe = covid['WHO Region'] == 'Europe'\n",
    "answer = covid[zero_covid_cases & covid_europe]\n",
    "print(answer)"
   ]
  },
  {
   "cell_type": "markdown",
   "metadata": {},
   "source": [
    "### 3. 다음 [데이터](https://www.kaggle.com/neuromusic/avocado-prices)를 이용해 각 Region별로 아보카도가 가장 비싼 평균가격(AveragePrice)을 출력하면?"
   ]
  },
  {
   "cell_type": "code",
   "execution_count": 6,
   "metadata": {},
   "outputs": [
    {
     "name": "stdout",
     "output_type": "stream",
     "text": [
      "                     Unnamed: 0        Date  AveragePrice  Total Volume  \\\n",
      "region                                                                    \n",
      "Albany                       52  2018-03-25          2.13     216738.47   \n",
      "Atlanta                      52  2018-03-25          2.75     957792.07   \n",
      "BaltimoreWashington          52  2018-03-25          2.28    1225103.27   \n",
      "Boise                        52  2018-03-25          2.79     136377.55   \n",
      "Boston                       52  2018-03-25          2.19     999783.13   \n",
      "BuffaloRochester             52  2018-03-25          2.57     201142.55   \n",
      "California                   52  2018-03-25          2.58   11213596.29   \n",
      "Charlotte                    52  2018-03-25          2.83     411160.94   \n",
      "Chicago                      52  2018-03-25          2.30    1802646.35   \n",
      "CincinnatiDayton             52  2018-03-25          2.20     538518.77   \n",
      "Columbus                     52  2018-03-25          2.22     333398.29   \n",
      "DallasFtWorth                52  2018-03-25          1.90    1885401.44   \n",
      "Denver                       52  2018-03-25          2.16    1381528.74   \n",
      "Detroit                      52  2018-03-25          2.08     880540.45   \n",
      "GrandRapids                  52  2018-03-25          2.73     408921.57   \n",
      "GreatLakes                   52  2018-03-25          1.98    7094764.73   \n",
      "HarrisburgScranton           52  2018-03-25          2.27     395673.05   \n",
      "HartfordSpringfield          52  2018-03-25          2.68     522565.33   \n",
      "Houston                      52  2018-03-25          1.92    2381742.59   \n",
      "Indianapolis                 52  2018-03-25          2.10     335442.41   \n",
      "Jacksonville                 52  2018-03-25          2.99     398543.91   \n",
      "LasVegas                     52  2018-03-25          3.03     680234.93   \n",
      "LosAngeles                   52  2018-03-25          2.44    5470227.08   \n",
      "Louisville                   52  2018-03-25          2.29     169828.77   \n",
      "MiamiFtLauderdale            52  2018-03-25          3.05    1310671.51   \n",
      "Midsouth                     52  2018-03-25          2.17    5286412.87   \n",
      "Nashville                    52  2018-03-25          2.24     391780.25   \n",
      "NewOrleansMobile             52  2018-03-25          2.32     633235.06   \n",
      "NewYork                      52  2018-03-25          2.65    2959541.38   \n",
      "Northeast                    52  2018-03-25          2.31    7508650.27   \n",
      "NorthernNewEngland           52  2018-03-25          1.96     847261.25   \n",
      "Orlando                      52  2018-03-25          2.87     759532.37   \n",
      "Philadelphia                 52  2018-03-25          2.45     819224.30   \n",
      "PhoenixTucson                52  2018-03-25          2.62    2200550.27   \n",
      "Pittsburgh                   52  2018-03-25          1.83     214738.04   \n",
      "Plains                       52  2018-03-25          2.13    3575499.21   \n",
      "Portland                     52  2018-03-25          2.86    1189151.17   \n",
      "RaleighGreensboro            52  2018-03-25          3.04     552900.21   \n",
      "RichmondNorfolk              52  2018-03-25          2.05     469093.71   \n",
      "Roanoke                      52  2018-03-25          2.27     287728.25   \n",
      "Sacramento                   52  2018-03-25          2.82     862337.10   \n",
      "SanDiego                     52  2018-03-25          2.74     917660.79   \n",
      "SanFrancisco                 52  2018-03-25          3.25    1706251.05   \n",
      "Seattle                      52  2018-03-25          2.96    1093144.23   \n",
      "SouthCarolina                52  2018-03-25          2.21     706098.15   \n",
      "SouthCentral                 52  2018-03-25          1.81   10323174.59   \n",
      "Southeast                    52  2018-03-25          2.33    7545938.97   \n",
      "Spokane                      52  2018-03-25          2.95     165785.94   \n",
      "StLouis                      52  2018-03-25          2.84     348135.49   \n",
      "Syracuse                     52  2018-03-25          2.44     113023.35   \n",
      "Tampa                        52  2018-03-25          3.17     893143.94   \n",
      "TotalUS                      52  2018-03-25          2.09   62505646.52   \n",
      "West                         52  2018-03-25          2.52   11274749.11   \n",
      "WestTexNewMexico             52  2018-03-25          2.93    1637554.42   \n",
      "\n",
      "                            4046         4225        4770   Total Bags  \\\n",
      "region                                                                   \n",
      "Albany                  34912.97    195725.06     5883.16     36806.79   \n",
      "Atlanta                553198.56    211776.98     4251.74    425991.21   \n",
      "BaltimoreWashington    202958.24    805041.45    83652.48    488208.25   \n",
      "Boise                   69544.59     36532.33    23346.13     93735.23   \n",
      "Boston                  85204.27    865836.92    81859.54    220254.40   \n",
      "BuffaloRochester        26274.97     99364.48     6707.85    101271.16   \n",
      "California            4794142.14   4097591.67   424389.60   3462625.70   \n",
      "Charlotte               95176.35    172311.19    80813.88    223765.32   \n",
      "Chicago                378806.26   1235325.42   224554.50    510679.10   \n",
      "CincinnatiDayton       102019.45    224967.68    30149.60    397270.05   \n",
      "Columbus               140453.99     61748.67    36191.68    162102.31   \n",
      "DallasFtWorth         1013252.58    509069.75   143875.64    788607.81   \n",
      "Denver                 239163.63    608156.34    62908.07    749722.33   \n",
      "Detroit                214826.74    287359.89   192417.10    375815.94   \n",
      "GrandRapids              7888.33    298897.77   143538.35     87927.29   \n",
      "GreatLakes            1410647.88   3117639.02   704466.56   2141227.31   \n",
      "HarrisburgScranton     125847.54    247409.27     4525.24    120786.61   \n",
      "HartfordSpringfield     85641.41    449501.24    23027.59    110584.26   \n",
      "Houston               1134750.48    597855.73   210029.30   1120622.10   \n",
      "Indianapolis            90305.67    181784.28    27708.02    155633.65   \n",
      "Jacksonville           206007.07     70592.24     2356.55    141030.88   \n",
      "LasVegas               286395.34    212174.53    18141.91    264249.77   \n",
      "LosAngeles            2914047.44   1447533.80   121002.86   2701609.82   \n",
      "Louisville              37508.86     98136.23    10193.62     78880.66   \n",
      "MiamiFtLauderdale      897435.51    281503.40     9947.00    292462.33   \n",
      "Midsouth              1259113.31   2257429.97   388259.15   2299234.65   \n",
      "Nashville              186689.66     59611.16    17578.18    193381.81   \n",
      "NewOrleansMobile       400599.94     80089.33    15050.73    161891.76   \n",
      "NewYork                294591.11   2283465.22   279630.35    806773.40   \n",
      "Northeast              736158.49   5402444.45   375904.92   1925092.30   \n",
      "NorthernNewEngland     211564.36    754096.71    64720.71    196316.33   \n",
      "Orlando                511953.91    151154.50     2083.82    223889.61   \n",
      "Philadelphia           130162.76    511600.73    58242.14    288606.41   \n",
      "PhoenixTucson         1200632.86    531226.65    57213.24    534479.18   \n",
      "Pittsburgh             107597.81    145405.43     5316.06     99834.61   \n",
      "Plains                2157030.64   1165322.88    53882.08    869560.91   \n",
      "Portland               264203.19    535324.57    45229.53    737683.65   \n",
      "RaleighGreensboro      123228.06    230068.42    88450.29    320856.77   \n",
      "RichmondNorfolk        145746.61    168148.89    21686.02    214438.38   \n",
      "Roanoke                 82020.39     79535.27     2541.99    150169.93   \n",
      "Sacramento             321474.22    518775.30    34235.86    136289.77   \n",
      "SanDiego               424263.68    439224.74    32042.58    378746.24   \n",
      "SanFrancisco           560686.25   1113987.54    76966.69    236417.93   \n",
      "Seattle                263440.86    578708.75    18076.48    650319.01   \n",
      "SouthCarolina          365828.76    182799.50    27248.16    272030.47   \n",
      "SouthCentral          5160896.68   2390282.14   804558.25   4014132.29   \n",
      "Southeast             4492704.70   1537592.22    97111.62   2379984.02   \n",
      "Spokane                 46467.69     84741.31     6422.29     89795.19   \n",
      "StLouis                209893.28     80994.41      895.48    260500.63   \n",
      "Syracuse                10004.38     78340.67     3980.63     35695.67   \n",
      "Tampa                  564685.19    200199.09     2087.35    260556.30   \n",
      "TotalUS              22743616.17  20470572.61  2546439.11  19373134.37   \n",
      "West                  4377537.67   3872672.00   281618.20   4145406.70   \n",
      "WestTexNewMexico      1067388.68    376232.89    74916.26    424013.40   \n",
      "\n",
      "                      Small Bags  Large Bags  XLarge Bags     type  year  \n",
      "region                                                                    \n",
      "Albany                  30126.31    27205.98      2900.00  organic  2018  \n",
      "Atlanta                292317.81   217337.59     10972.77  organic  2018  \n",
      "BaltimoreWashington    483402.85    43483.00     13745.00  organic  2018  \n",
      "Boise                   93645.45    40491.57      1231.57  organic  2018  \n",
      "Boston                 215552.06    52294.16      4745.00  organic  2018  \n",
      "BuffaloRochester       101271.16    62156.06      5795.00  organic  2018  \n",
      "California            3403581.49   508755.56     86800.09  organic  2018  \n",
      "Charlotte              218181.70    17681.68      5520.00  organic  2018  \n",
      "Chicago                143295.47   423185.75     11540.00  organic  2018  \n",
      "CincinnatiDayton       165544.38   363468.52      9387.59  organic  2018  \n",
      "Columbus               135610.65    39927.30      8519.43  organic  2018  \n",
      "DallasFtWorth          673212.32   187840.93     30681.22  organic  2018  \n",
      "Denver                 326361.97   706052.84      4612.42  organic  2018  \n",
      "Detroit                349596.64    89516.48     38570.18  organic  2018  \n",
      "GrandRapids             80548.80    26632.00     43708.82  organic  2018  \n",
      "GreatLakes            1436877.51   832296.70    131300.76  organic  2018  \n",
      "HarrisburgScranton     119477.01    28613.00     11095.48  organic  2018  \n",
      "HartfordSpringfield    109324.82    28942.00      3881.61  organic  2018  \n",
      "Houston               1010539.42   629791.58     30753.33  organic  2018  \n",
      "Indianapolis           104102.69   111176.50      7575.88  organic  2018  \n",
      "Jacksonville            79274.34    92767.01      5995.00  organic  2018  \n",
      "LasVegas                93651.31   207843.81      1473.33  organic  2018  \n",
      "LosAngeles            2656630.42   362931.85     61316.94  organic  2018  \n",
      "Louisville              53034.96    55257.34      4074.69  organic  2018  \n",
      "MiamiFtLauderdale      120093.14   220080.54     17369.72  organic  2018  \n",
      "Midsouth              2062091.77   280722.16     79133.56  organic  2018  \n",
      "Nashville              186396.09    45308.77      2780.00  organic  2018  \n",
      "NewOrleansMobile       128875.87    43469.83     16675.00  organic  2018  \n",
      "NewYork                774634.09   305309.26     18757.50  organic  2018  \n",
      "Northeast             1495884.84   640105.84     69794.85  organic  2018  \n",
      "NorthernNewEngland     176636.74   154825.16      9655.00  organic  2018  \n",
      "Orlando                 94810.52   155928.30     19396.39  organic  2018  \n",
      "Philadelphia           261473.35    54389.00      8255.40  organic  2018  \n",
      "PhoenixTucson          330740.57   330583.10      6709.75  organic  2018  \n",
      "Pittsburgh              48023.13    63248.94      6515.00  organic  2018  \n",
      "Plains                 717323.25   190573.14     52003.87  organic  2018  \n",
      "Portland               678871.57   391141.49      7648.30  organic  2018  \n",
      "RaleighGreensboro      312969.23    19822.48     10935.00  organic  2018  \n",
      "RichmondNorfolk        187621.35    26710.36      9460.83  organic  2018  \n",
      "Roanoke                116918.04    32938.52      5763.33  organic  2018  \n",
      "Sacramento             128164.60     5504.02      7129.43  organic  2018  \n",
      "SanDiego               318872.23   155614.62      5649.28  organic  2018  \n",
      "SanFrancisco           231913.11    11823.61     10906.94  organic  2018  \n",
      "Seattle                573866.81   312387.51      1943.12  organic  2018  \n",
      "SouthCarolina          200563.64    70398.75     14585.00  organic  2018  \n",
      "SouthCentral          3398569.92  1049435.14    108072.79  organic  2018  \n",
      "Southeast             1405622.59  1318520.16     92787.50  organic  2018  \n",
      "Spokane                 75098.77    43887.36       331.90  organic  2018  \n",
      "StLouis                225966.72    54426.61     18517.91  organic  2018  \n",
      "Syracuse                34559.23    22305.58      3005.00  organic  2018  \n",
      "Tampa                  150022.99   150133.37     15976.67  organic  2018  \n",
      "TotalUS              13384586.80  5719096.61    551693.65  organic  2018  \n",
      "West                  2780258.77  2838239.39     26564.17  organic  2018  \n",
      "WestTexNewMexico       243993.80   287509.52     38120.00  organic  2018  \n"
     ]
    }
   ],
   "source": [
    "avocado = pd.read_csv('./avocado.csv')\n",
    "average_price = avocado.groupby(avocado['region'])\n",
    "print(average_price.max())"
   ]
  },
  {
   "cell_type": "code",
   "execution_count": null,
   "metadata": {},
   "outputs": [],
   "source": []
  }
 ],
 "metadata": {
  "kernelspec": {
   "display_name": "Python 3",
   "language": "python",
   "name": "python3"
  },
  "language_info": {
   "codemirror_mode": {
    "name": "ipython",
    "version": 3
   },
   "file_extension": ".py",
   "mimetype": "text/x-python",
   "name": "python",
   "nbconvert_exporter": "python",
   "pygments_lexer": "ipython3",
   "version": "3.9.0"
  }
 },
 "nbformat": 4,
 "nbformat_minor": 4
}
