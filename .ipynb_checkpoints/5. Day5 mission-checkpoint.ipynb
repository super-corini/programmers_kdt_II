{
 "cells": [
  {
   "cell_type": "markdown",
   "id": "2d36d987",
   "metadata": {},
   "source": [
    "<h1> Mission 1.Netflix and Code</h1>  \n",
    "\n",
    "---\n",
    "\n",
    " 호주니는 요즘 넷플릭스를 보는데 심취해있다. 최근 넷플릭스와 협업하는 K-Contents가 늘어가는 것을 보면서 자부심을 느끼는 한편, 넷플릭스에 얼마나 많은 한국 작품이 있는지 궁금해졌다. 호주니를 도와 넷플릭스에 얼마나 많은 한국 작품이 있는지 알아보자.\n",
    " \n",
    "![image](https://user-images.githubusercontent.com/59414764/117310802-96aef600-aebe-11eb-8bf6-c497ebb2dd41.png)"
   ]
  },
  {
   "cell_type": "markdown",
   "id": "2fef0037",
   "metadata": {},
   "source": [
    "<h2> Mandatory Part </h2>"
   ]
  },
  {
   "cell_type": "markdown",
   "id": "565ce35d",
   "metadata": {},
   "source": [
    "<a href=\"https://www.kaggle.com/shivamb/netflix-shows\">넷플릭스 데이터</a>가 주어졌을 때, 다음 질문에 답하시오:\n",
    "\n",
    "<ul>\n",
    "    <li>\n",
    "        <strong>한국 작품</strong>은 총 얼마나 있는가?\n",
    "        <ul>\n",
    "            <li>\n",
    "                country column을 기준으로 한다.\n",
    "            </li>\n",
    "            <li>\n",
    "                \"South Korea\"인 경우만 인정한다.(\"US, South Korea\"는 인정하지 않음)\n",
    "            </li>\n",
    "        </ul>\n",
    "    </li>\n",
    "</ul>\n",
    "\n",
    "생각보다 많은 작품이 있었음에 놀란 호주니는 K-콘텐츠를 넘어 글로벌 콘텐츠에 관심을 가지게 되었다. 이 과정에서 가장 많은 콘텐츠가 있는 국가는 어디일지 궁금해졌다. 호주니를 도와 이번에는 넷플릭스에서 가장 많은 작품을 만든 나라가 어디이고, 얼마나 많은 작품을 produce했는지 알아보자.\n",
    "\n"
   ]
  },
  {
   "cell_type": "code",
   "execution_count": 440,
   "id": "d21e16cd",
   "metadata": {},
   "outputs": [],
   "source": [
    "import numpy as np\n",
    "import pandas as pd"
   ]
  },
  {
   "cell_type": "code",
   "execution_count": 441,
   "id": "c5c0146b",
   "metadata": {},
   "outputs": [],
   "source": [
    "data_folder_dir = \"~/ML Data/\"\n",
    "\n",
    "netflix = pd.read_csv(data_folder_dir + 'netflix_titles.csv')"
   ]
  },
  {
   "cell_type": "code",
   "execution_count": 442,
   "id": "ddffba20",
   "metadata": {},
   "outputs": [
    {
     "data": {
      "text/html": [
       "<div>\n",
       "<style scoped>\n",
       "    .dataframe tbody tr th:only-of-type {\n",
       "        vertical-align: middle;\n",
       "    }\n",
       "\n",
       "    .dataframe tbody tr th {\n",
       "        vertical-align: top;\n",
       "    }\n",
       "\n",
       "    .dataframe thead th {\n",
       "        text-align: right;\n",
       "    }\n",
       "</style>\n",
       "<table border=\"1\" class=\"dataframe\">\n",
       "  <thead>\n",
       "    <tr style=\"text-align: right;\">\n",
       "      <th></th>\n",
       "      <th>show_id</th>\n",
       "      <th>type</th>\n",
       "      <th>title</th>\n",
       "      <th>director</th>\n",
       "      <th>cast</th>\n",
       "      <th>country</th>\n",
       "      <th>date_added</th>\n",
       "      <th>release_year</th>\n",
       "      <th>rating</th>\n",
       "      <th>duration</th>\n",
       "      <th>listed_in</th>\n",
       "      <th>description</th>\n",
       "    </tr>\n",
       "  </thead>\n",
       "  <tbody>\n",
       "    <tr>\n",
       "      <th>0</th>\n",
       "      <td>s1</td>\n",
       "      <td>TV Show</td>\n",
       "      <td>3%</td>\n",
       "      <td>NaN</td>\n",
       "      <td>João Miguel, Bianca Comparato, Michel Gomes, R...</td>\n",
       "      <td>Brazil</td>\n",
       "      <td>August 14, 2020</td>\n",
       "      <td>2020</td>\n",
       "      <td>TV-MA</td>\n",
       "      <td>4 Seasons</td>\n",
       "      <td>International TV Shows, TV Dramas, TV Sci-Fi &amp;...</td>\n",
       "      <td>In a future where the elite inhabit an island ...</td>\n",
       "    </tr>\n",
       "    <tr>\n",
       "      <th>1</th>\n",
       "      <td>s2</td>\n",
       "      <td>Movie</td>\n",
       "      <td>7:19</td>\n",
       "      <td>Jorge Michel Grau</td>\n",
       "      <td>Demián Bichir, Héctor Bonilla, Oscar Serrano, ...</td>\n",
       "      <td>Mexico</td>\n",
       "      <td>December 23, 2016</td>\n",
       "      <td>2016</td>\n",
       "      <td>TV-MA</td>\n",
       "      <td>93 min</td>\n",
       "      <td>Dramas, International Movies</td>\n",
       "      <td>After a devastating earthquake hits Mexico Cit...</td>\n",
       "    </tr>\n",
       "    <tr>\n",
       "      <th>2</th>\n",
       "      <td>s3</td>\n",
       "      <td>Movie</td>\n",
       "      <td>23:59</td>\n",
       "      <td>Gilbert Chan</td>\n",
       "      <td>Tedd Chan, Stella Chung, Henley Hii, Lawrence ...</td>\n",
       "      <td>Singapore</td>\n",
       "      <td>December 20, 2018</td>\n",
       "      <td>2011</td>\n",
       "      <td>R</td>\n",
       "      <td>78 min</td>\n",
       "      <td>Horror Movies, International Movies</td>\n",
       "      <td>When an army recruit is found dead, his fellow...</td>\n",
       "    </tr>\n",
       "    <tr>\n",
       "      <th>3</th>\n",
       "      <td>s4</td>\n",
       "      <td>Movie</td>\n",
       "      <td>9</td>\n",
       "      <td>Shane Acker</td>\n",
       "      <td>Elijah Wood, John C. Reilly, Jennifer Connelly...</td>\n",
       "      <td>United States</td>\n",
       "      <td>November 16, 2017</td>\n",
       "      <td>2009</td>\n",
       "      <td>PG-13</td>\n",
       "      <td>80 min</td>\n",
       "      <td>Action &amp; Adventure, Independent Movies, Sci-Fi...</td>\n",
       "      <td>In a postapocalyptic world, rag-doll robots hi...</td>\n",
       "    </tr>\n",
       "    <tr>\n",
       "      <th>4</th>\n",
       "      <td>s5</td>\n",
       "      <td>Movie</td>\n",
       "      <td>21</td>\n",
       "      <td>Robert Luketic</td>\n",
       "      <td>Jim Sturgess, Kevin Spacey, Kate Bosworth, Aar...</td>\n",
       "      <td>United States</td>\n",
       "      <td>January 1, 2020</td>\n",
       "      <td>2008</td>\n",
       "      <td>PG-13</td>\n",
       "      <td>123 min</td>\n",
       "      <td>Dramas</td>\n",
       "      <td>A brilliant group of students become card-coun...</td>\n",
       "    </tr>\n",
       "  </tbody>\n",
       "</table>\n",
       "</div>"
      ],
      "text/plain": [
       "  show_id     type  title           director  \\\n",
       "0      s1  TV Show     3%                NaN   \n",
       "1      s2    Movie   7:19  Jorge Michel Grau   \n",
       "2      s3    Movie  23:59       Gilbert Chan   \n",
       "3      s4    Movie      9        Shane Acker   \n",
       "4      s5    Movie     21     Robert Luketic   \n",
       "\n",
       "                                                cast        country  \\\n",
       "0  João Miguel, Bianca Comparato, Michel Gomes, R...         Brazil   \n",
       "1  Demián Bichir, Héctor Bonilla, Oscar Serrano, ...         Mexico   \n",
       "2  Tedd Chan, Stella Chung, Henley Hii, Lawrence ...      Singapore   \n",
       "3  Elijah Wood, John C. Reilly, Jennifer Connelly...  United States   \n",
       "4  Jim Sturgess, Kevin Spacey, Kate Bosworth, Aar...  United States   \n",
       "\n",
       "          date_added  release_year rating   duration  \\\n",
       "0    August 14, 2020          2020  TV-MA  4 Seasons   \n",
       "1  December 23, 2016          2016  TV-MA     93 min   \n",
       "2  December 20, 2018          2011      R     78 min   \n",
       "3  November 16, 2017          2009  PG-13     80 min   \n",
       "4    January 1, 2020          2008  PG-13    123 min   \n",
       "\n",
       "                                           listed_in  \\\n",
       "0  International TV Shows, TV Dramas, TV Sci-Fi &...   \n",
       "1                       Dramas, International Movies   \n",
       "2                Horror Movies, International Movies   \n",
       "3  Action & Adventure, Independent Movies, Sci-Fi...   \n",
       "4                                             Dramas   \n",
       "\n",
       "                                         description  \n",
       "0  In a future where the elite inhabit an island ...  \n",
       "1  After a devastating earthquake hits Mexico Cit...  \n",
       "2  When an army recruit is found dead, his fellow...  \n",
       "3  In a postapocalyptic world, rag-doll robots hi...  \n",
       "4  A brilliant group of students become card-coun...  "
      ]
     },
     "execution_count": 442,
     "metadata": {},
     "output_type": "execute_result"
    }
   ],
   "source": [
    "netflix.head()"
   ]
  },
  {
   "cell_type": "code",
   "execution_count": 443,
   "id": "29714343",
   "metadata": {},
   "outputs": [
    {
     "name": "stdout",
     "output_type": "stream",
     "text": [
      "<class 'pandas.core.frame.DataFrame'>\n",
      "RangeIndex: 7787 entries, 0 to 7786\n",
      "Data columns (total 12 columns):\n",
      " #   Column        Non-Null Count  Dtype \n",
      "---  ------        --------------  ----- \n",
      " 0   show_id       7787 non-null   object\n",
      " 1   type          7787 non-null   object\n",
      " 2   title         7787 non-null   object\n",
      " 3   director      5398 non-null   object\n",
      " 4   cast          7069 non-null   object\n",
      " 5   country       7280 non-null   object\n",
      " 6   date_added    7777 non-null   object\n",
      " 7   release_year  7787 non-null   int64 \n",
      " 8   rating        7780 non-null   object\n",
      " 9   duration      7787 non-null   object\n",
      " 10  listed_in     7787 non-null   object\n",
      " 11  description   7787 non-null   object\n",
      "dtypes: int64(1), object(11)\n",
      "memory usage: 730.2+ KB\n"
     ]
    }
   ],
   "source": [
    "netflix.info()"
   ]
  },
  {
   "cell_type": "code",
   "execution_count": 444,
   "id": "db85b8e0",
   "metadata": {},
   "outputs": [],
   "source": [
    "netflix_country = netflix['country']"
   ]
  },
  {
   "cell_type": "code",
   "execution_count": 445,
   "id": "0256fa4e",
   "metadata": {},
   "outputs": [
    {
     "name": "stdout",
     "output_type": "stream",
     "text": [
      "답: 넷플릭스에서 한국 작품은 총 183개 있습니다.\n"
     ]
    }
   ],
   "source": [
    "# 방법 1\n",
    "answer = netflix_country.value_counts()['South Korea']\n",
    "\n",
    "print(\"답: 넷플릭스에서 한국 작품은 총 {}개 있습니다.\".format(answer))"
   ]
  },
  {
   "cell_type": "code",
   "execution_count": 446,
   "id": "684b80b9",
   "metadata": {},
   "outputs": [
    {
     "name": "stdout",
     "output_type": "stream",
     "text": [
      "답: 넷플릭스에서 한국 작품은 총 183개 있습니다.\n"
     ]
    }
   ],
   "source": [
    "# 방법 2\n",
    "answer = netflix[netflix_country=='South Korea'].shape[0]\n",
    "\n",
    "print(\"답: 넷플릭스에서 한국 작품은 총 {}개 있습니다.\".format(answer))"
   ]
  },
  {
   "cell_type": "markdown",
   "id": "3ed19ad1",
   "metadata": {},
   "source": [
    "<h2>Bonus Part</h2>  \n",
    "\n",
    "<a href=\"https://www.kaggle.com/shivamb/netflix-shows\">넷플릭스 데이터</a>가 주어졌을 때, 다음 질문에 답하시오:\n",
    "\n",
    "<ul>\n",
    "    <li>\n",
    "        가장 많은 작품이 올라간 국가는 어디이고, 얼마나 많은 작품이 있는가?\n",
    "        <ul>\n",
    "            <li>\n",
    "                country column을 기준으로 한다.\n",
    "            </li>\n",
    "            <li>\n",
    "                <Strong>단일 국가</Strong>인 경우를 기준으로 결과를 구해보자.\n",
    "            </li>\n",
    "        </ul>\n",
    "    </li>\n",
    "</ul>"
   ]
  },
  {
   "cell_type": "code",
   "execution_count": 447,
   "id": "97d97aab",
   "metadata": {},
   "outputs": [
    {
     "name": "stdout",
     "output_type": "stream",
     "text": [
      "가장 많은 국가는 United States(이)고, 2555개의 작품이 United States에서 만들어졌습니다.\n"
     ]
    }
   ],
   "source": [
    "country_cnts = netflix_country.value_counts()\n",
    "max_country = country_cnts.idxmax()\n",
    "max_country_value = country_cnts.max()\n",
    "\n",
    "print(\"가장 많은 국가는 {}(이)고, {}개의 작품이 {}에서 만들어졌습니다.\".format(max_country, max_country_value, max_country))"
   ]
  },
  {
   "cell_type": "code",
   "execution_count": 448,
   "id": "a12404c2",
   "metadata": {},
   "outputs": [
    {
     "name": "stdout",
     "output_type": "stream",
     "text": [
      "United States는 아래와 같은 나라와 공동으로 참여했으며, 자체 제작, 공동 제작을 모두 합하면 3297개의 작품을 만들었습니다.\n",
      "\n",
      "['Brazil', 'Iran', 'South Korea', 'Uruguay', 'Turkey', 'Zimbabwe', 'Greece', 'Bulgaria', 'Bahamas', 'Philippines', 'Italy', 'Mexico', 'Denmark', 'Spain', 'Botswana', 'Egypt', 'Portugal', 'Germany', 'Argentina', 'Kazakhstan', 'Belgium', 'Hungary', 'France', 'Colombia', 'West Germany', 'Iraq', 'Senegal', 'Liechtenstein', 'Finland', 'Uganda', 'Samoa', 'Peru', 'Dominican Republic', 'China', 'Venezuela', 'Russia', 'Namibia', 'Armenia', 'Taiwan', 'Ukraine', 'Bangladesh', 'India', 'Cambodia', 'Chile', 'Lebanon', 'Qatar', 'United Kingdom', 'Thailand', 'Bermuda', 'United Arab Emirates', 'Somalia', 'Luxembourg', 'Israel', 'Puerto Rico', 'Panama', 'Saudi Arabia', 'Austria', 'Jordan', 'Czech Republic', 'Switzerland', 'Serbia', 'Morocco', 'Japan', 'New Zealand', 'Jamaica', 'Norway', 'Nigeria', 'Canada', 'Poland', 'Pakistan', 'Cayman Islands', 'East Germany', 'Ghana', 'Mongolia', 'Indonesia', 'Singapore', 'Netherlands', 'Malta', 'Sweden', 'Ireland', 'South Africa', 'Hong Kong', 'Iceland', 'Australia', 'Ecuador', 'Romania', 'Nicaragua', 'Kenya', 'Sudan']\n"
     ]
    }
   ],
   "source": [
    "max_country_join = {}\n",
    "for country in netflix['country'].unique():\n",
    "    if type(country) == str and max_country in country:\n",
    "        max_country_join[country] = country_cnts[country]\n",
    "\n",
    "join_list = (','.join(max_country_join.keys())).replace(\", \",\",\").split(',')\n",
    "join_list = list(filter(lambda x: x and x != max_country, set(join_list)))\n",
    "join_country_sum = sum(max_country_join.values())\n",
    "\n",
    "print(\"{}는 아래와 같은 나라와 공동으로 참여했으며, 자체 제작, 공동 제작을 모두 합하면 {}개의 작품을 만들었습니다.\\n\".format(max_country, join_country_sum))\n",
    "print(join_list)"
   ]
  },
  {
   "cell_type": "markdown",
   "id": "d4b03f63",
   "metadata": {},
   "source": [
    "<h1>Mission 2.가즈아!</h1>\n",
    "\n",
    "---\n",
    "\n",
    "서울의 소시민 나일론 마스크는 요즘 가상화폐에 푹 빠져있다. 매일매일 극락과 지옥을 오가는 매운맛에 정신을 못 차리고 있는데, 그의 친구인 호주니는 그에게 정신차리게 하기 위해 비트코인 광풍이 일었던 2017년 한 해의 가격의 변화를 보여주려고 한다. 그런데 매일매일의 데이터를 보여주는 것보다 이것의 추세를 표현해주면 좋겠다는 생각이 들어 <Strong>Moving Average(이동평균법)</Strong> 를 도입하고자 한다. 호주니를 도와 마스크씨를 설득해보자.\n",
    "![image](https://user-images.githubusercontent.com/59414764/117319048-e93fe080-aec5-11eb-934f-63328b3e05cf.png)\n",
    "\n"
   ]
  },
  {
   "cell_type": "markdown",
   "id": "bf6b9971",
   "metadata": {},
   "source": [
    "<h2>Mandatory Part</h2>\n",
    "\n",
    "--- \n",
    "\n",
    "<a href=\"https://www.kaggle.com/rishidamarla/bitcoin-prices-20112015\">비트코인 데이터</a>가 주어졌을 때 2016. 6 ~ 2017. 6 기간의 <strong>비트코인의 5-MA 그래프와 이더리움의 5-MA 그래프를 동시에</strong> 그려주세요.\n",
    "\n",
    "<ul>\n",
    "    <li>\n",
    "        선의 색깔은 <strong>노란색(#f2a900)</strong> 으로 해야합니다.\n",
    "    </li>\n",
    "    <li>\n",
    "        x-axis label과 y-axis label은 적절한 텍스트로 추가되어야 합니다.\n",
    "    </li>\n",
    "    <li>\n",
    "        이동평균의 기준은 Open Column으로 계산합니다.\n",
    "    </li>\n",
    "    <li>\n",
    "        이외에도 그래프를 알아보기 쉽게 하기 위한 정보(Text, Facet 등)을 추가하는 것도 좋습니다.\n",
    "    </li>\n",
    "</ul>\n",
    "\n",
    "💡 이동평균(Moving Average)법은 시계열 데이터를 표현하는 데에 많이 사용하는 방법 중 하나입니다.\n",
    "\n",
    "---\n",
    "\n",
    "해당 그래프를 본 나일론 마스크씨는 정신을 차렸다. 정확히는 비트코인만 바라본 본인을 말이다. 정말 많은 가상화폐가 있는데 비트코인만 바라본 본인을 돌아보게 되었다. 더불어 가장 핫한 코인인 이더리움 또한 관심이 생겼는데, 마스크씨는 2017년 한 해에 이 두개의 추세를 비교하고싶어한다. 마스크씨를 도와 비트코인과 이더리움의 가격 추세 비교를 도와주자.\n",
    "\n",
    "--- "
   ]
  },
  {
   "cell_type": "code",
   "execution_count": 449,
   "id": "ef81519f",
   "metadata": {},
   "outputs": [
    {
     "name": "stdout",
     "output_type": "stream",
     "text": [
      "<class 'pandas.core.frame.DataFrame'>\n",
      "RangeIndex: 1609 entries, 0 to 1608\n",
      "Data columns (total 8 columns):\n",
      " #   Column      Non-Null Count  Dtype  \n",
      "---  ------      --------------  -----  \n",
      " 0   Unnamed: 0  1609 non-null   int64  \n",
      " 1   Date        1609 non-null   object \n",
      " 2   Open        1609 non-null   float64\n",
      " 3   High        1609 non-null   float64\n",
      " 4   Low         1609 non-null   float64\n",
      " 5   Close       1609 non-null   float64\n",
      " 6   Volume      1609 non-null   float64\n",
      " 7   Market Cap  1609 non-null   int64  \n",
      "dtypes: float64(5), int64(2), object(1)\n",
      "memory usage: 100.7+ KB\n"
     ]
    }
   ],
   "source": [
    "bitcoin = pd.read_csv(data_folder_dir + 'BitCoin.csv')\n",
    "bitcoin.info()"
   ]
  },
  {
   "cell_type": "code",
   "execution_count": 450,
   "id": "624dc5b2",
   "metadata": {},
   "outputs": [
    {
     "data": {
      "text/html": [
       "<div>\n",
       "<style scoped>\n",
       "    .dataframe tbody tr th:only-of-type {\n",
       "        vertical-align: middle;\n",
       "    }\n",
       "\n",
       "    .dataframe tbody tr th {\n",
       "        vertical-align: top;\n",
       "    }\n",
       "\n",
       "    .dataframe thead th {\n",
       "        text-align: right;\n",
       "    }\n",
       "</style>\n",
       "<table border=\"1\" class=\"dataframe\">\n",
       "  <thead>\n",
       "    <tr style=\"text-align: right;\">\n",
       "      <th></th>\n",
       "      <th>Unnamed: 0</th>\n",
       "      <th>Date</th>\n",
       "      <th>Open</th>\n",
       "      <th>High</th>\n",
       "      <th>Low</th>\n",
       "      <th>Close</th>\n",
       "      <th>Volume</th>\n",
       "      <th>Market Cap</th>\n",
       "    </tr>\n",
       "  </thead>\n",
       "  <tbody>\n",
       "    <tr>\n",
       "      <th>0</th>\n",
       "      <td>0</td>\n",
       "      <td>2017-09-22</td>\n",
       "      <td>3628.02</td>\n",
       "      <td>3758.27</td>\n",
       "      <td>3553.53</td>\n",
       "      <td>3630.70</td>\n",
       "      <td>1.194830e+09</td>\n",
       "      <td>60152300000</td>\n",
       "    </tr>\n",
       "    <tr>\n",
       "      <th>1</th>\n",
       "      <td>1</td>\n",
       "      <td>2017-09-21</td>\n",
       "      <td>3901.47</td>\n",
       "      <td>3916.42</td>\n",
       "      <td>3613.63</td>\n",
       "      <td>3631.04</td>\n",
       "      <td>1.411480e+09</td>\n",
       "      <td>64677600000</td>\n",
       "    </tr>\n",
       "    <tr>\n",
       "      <th>2</th>\n",
       "      <td>2</td>\n",
       "      <td>2017-09-20</td>\n",
       "      <td>3916.36</td>\n",
       "      <td>4031.39</td>\n",
       "      <td>3857.73</td>\n",
       "      <td>3905.95</td>\n",
       "      <td>1.213830e+09</td>\n",
       "      <td>64918500000</td>\n",
       "    </tr>\n",
       "    <tr>\n",
       "      <th>3</th>\n",
       "      <td>3</td>\n",
       "      <td>2017-09-19</td>\n",
       "      <td>4073.79</td>\n",
       "      <td>4094.07</td>\n",
       "      <td>3868.87</td>\n",
       "      <td>3924.97</td>\n",
       "      <td>1.563980e+09</td>\n",
       "      <td>67520300000</td>\n",
       "    </tr>\n",
       "    <tr>\n",
       "      <th>4</th>\n",
       "      <td>4</td>\n",
       "      <td>2017-09-18</td>\n",
       "      <td>3591.09</td>\n",
       "      <td>4079.23</td>\n",
       "      <td>3591.09</td>\n",
       "      <td>4065.20</td>\n",
       "      <td>1.943210e+09</td>\n",
       "      <td>59514100000</td>\n",
       "    </tr>\n",
       "  </tbody>\n",
       "</table>\n",
       "</div>"
      ],
      "text/plain": [
       "   Unnamed: 0        Date     Open     High      Low    Close        Volume  \\\n",
       "0           0  2017-09-22  3628.02  3758.27  3553.53  3630.70  1.194830e+09   \n",
       "1           1  2017-09-21  3901.47  3916.42  3613.63  3631.04  1.411480e+09   \n",
       "2           2  2017-09-20  3916.36  4031.39  3857.73  3905.95  1.213830e+09   \n",
       "3           3  2017-09-19  4073.79  4094.07  3868.87  3924.97  1.563980e+09   \n",
       "4           4  2017-09-18  3591.09  4079.23  3591.09  4065.20  1.943210e+09   \n",
       "\n",
       "    Market Cap  \n",
       "0  60152300000  \n",
       "1  64677600000  \n",
       "2  64918500000  \n",
       "3  67520300000  \n",
       "4  59514100000  "
      ]
     },
     "execution_count": 450,
     "metadata": {},
     "output_type": "execute_result"
    }
   ],
   "source": [
    "bitcoin.head()"
   ]
  },
  {
   "cell_type": "code",
   "execution_count": 451,
   "id": "2426f950",
   "metadata": {},
   "outputs": [],
   "source": [
    "period = pd.period_range('2016-06-01','2017-06-30')"
   ]
  },
  {
   "cell_type": "code",
   "execution_count": 452,
   "id": "63db9784",
   "metadata": {},
   "outputs": [],
   "source": [
    "bitcoin['Date'] = pd.to_datetime(bitcoin['Date'].values)\n",
    "bitcoin = bitcoin.sort_values(by='Date')"
   ]
  },
  {
   "cell_type": "code",
   "execution_count": 453,
   "id": "d9a3f386",
   "metadata": {},
   "outputs": [
    {
     "name": "stderr",
     "output_type": "stream",
     "text": [
      "/Library/Frameworks/Python.framework/Versions/3.9/lib/python3.9/site-packages/pandas/core/indexing.py:1637: SettingWithCopyWarning: \n",
      "A value is trying to be set on a copy of a slice from a DataFrame\n",
      "\n",
      "See the caveats in the documentation: https://pandas.pydata.org/pandas-docs/stable/user_guide/indexing.html#returning-a-view-versus-a-copy\n",
      "  self._setitem_single_block(indexer, value, name)\n"
     ]
    }
   ],
   "source": [
    "bitcoin['5-MA'] = None\n",
    "for idx, bc in enumerate(bitcoin.iloc):\n",
    "    if idx > len(bitcoin) - 5:\n",
    "        break\n",
    "    bitcoin['5-MA'].iloc[idx] = np.mean(bitcoin.iloc[idx:idx+5].Open)"
   ]
  },
  {
   "cell_type": "code",
   "execution_count": 454,
   "id": "6127d610",
   "metadata": {},
   "outputs": [
    {
     "data": {
      "text/html": [
       "<div>\n",
       "<style scoped>\n",
       "    .dataframe tbody tr th:only-of-type {\n",
       "        vertical-align: middle;\n",
       "    }\n",
       "\n",
       "    .dataframe tbody tr th {\n",
       "        vertical-align: top;\n",
       "    }\n",
       "\n",
       "    .dataframe thead th {\n",
       "        text-align: right;\n",
       "    }\n",
       "</style>\n",
       "<table border=\"1\" class=\"dataframe\">\n",
       "  <thead>\n",
       "    <tr style=\"text-align: right;\">\n",
       "      <th></th>\n",
       "      <th>Unnamed: 0</th>\n",
       "      <th>Date</th>\n",
       "      <th>Open</th>\n",
       "      <th>High</th>\n",
       "      <th>Low</th>\n",
       "      <th>Close</th>\n",
       "      <th>Volume</th>\n",
       "      <th>Market Cap</th>\n",
       "      <th>5-MA</th>\n",
       "    </tr>\n",
       "  </thead>\n",
       "  <tbody>\n",
       "    <tr>\n",
       "      <th>625</th>\n",
       "      <td>625</td>\n",
       "      <td>2016-06-01</td>\n",
       "      <td>431.86</td>\n",
       "      <td>431.86</td>\n",
       "      <td>426.34</td>\n",
       "      <td>429.11</td>\n",
       "      <td>34042500.0</td>\n",
       "      <td>6498830000</td>\n",
       "      <td>418.238</td>\n",
       "    </tr>\n",
       "    <tr>\n",
       "      <th>594</th>\n",
       "      <td>594</td>\n",
       "      <td>2016-06-02</td>\n",
       "      <td>386.59</td>\n",
       "      <td>386.63</td>\n",
       "      <td>372.39</td>\n",
       "      <td>376.52</td>\n",
       "      <td>49249300.0</td>\n",
       "      <td>5865740000</td>\n",
       "      <td>446.786</td>\n",
       "    </tr>\n",
       "    <tr>\n",
       "      <th>565</th>\n",
       "      <td>565</td>\n",
       "      <td>2016-06-03</td>\n",
       "      <td>400.52</td>\n",
       "      <td>411.91</td>\n",
       "      <td>395.78</td>\n",
       "      <td>407.71</td>\n",
       "      <td>91212500.0</td>\n",
       "      <td>6121400000</td>\n",
       "      <td>503.552</td>\n",
       "    </tr>\n",
       "    <tr>\n",
       "      <th>534</th>\n",
       "      <td>534</td>\n",
       "      <td>2016-06-04</td>\n",
       "      <td>424.28</td>\n",
       "      <td>424.53</td>\n",
       "      <td>422.73</td>\n",
       "      <td>423.41</td>\n",
       "      <td>59091000.0</td>\n",
       "      <td>6533260000</td>\n",
       "      <td>538.454</td>\n",
       "    </tr>\n",
       "    <tr>\n",
       "      <th>504</th>\n",
       "      <td>504</td>\n",
       "      <td>2016-06-05</td>\n",
       "      <td>447.94</td>\n",
       "      <td>461.38</td>\n",
       "      <td>447.07</td>\n",
       "      <td>459.60</td>\n",
       "      <td>72796800.0</td>\n",
       "      <td>6947800000</td>\n",
       "      <td>574.9</td>\n",
       "    </tr>\n",
       "  </tbody>\n",
       "</table>\n",
       "</div>"
      ],
      "text/plain": [
       "     Unnamed: 0       Date    Open    High     Low   Close      Volume  \\\n",
       "625         625 2016-06-01  431.86  431.86  426.34  429.11  34042500.0   \n",
       "594         594 2016-06-02  386.59  386.63  372.39  376.52  49249300.0   \n",
       "565         565 2016-06-03  400.52  411.91  395.78  407.71  91212500.0   \n",
       "534         534 2016-06-04  424.28  424.53  422.73  423.41  59091000.0   \n",
       "504         504 2016-06-05  447.94  461.38  447.07  459.60  72796800.0   \n",
       "\n",
       "     Market Cap     5-MA  \n",
       "625  6498830000  418.238  \n",
       "594  5865740000  446.786  \n",
       "565  6121400000  503.552  \n",
       "534  6533260000  538.454  \n",
       "504  6947800000    574.9  "
      ]
     },
     "execution_count": 454,
     "metadata": {},
     "output_type": "execute_result"
    }
   ],
   "source": [
    "bitcoin = bitcoin[bitcoin['Date'] >= '20160601']\n",
    "bitcoin = bitcoin[bitcoin['Date'] < '20170701']\n",
    "bitcoin.head()"
   ]
  },
  {
   "cell_type": "code",
   "execution_count": 455,
   "id": "85273e6a",
   "metadata": {},
   "outputs": [],
   "source": [
    "import seaborn as sns\n",
    "import matplotlib.pyplot as plt"
   ]
  },
  {
   "cell_type": "code",
   "execution_count": 456,
   "id": "cbd771c8",
   "metadata": {},
   "outputs": [
    {
     "data": {
      "image/png": "[encoded data removed]",
      "text/plain": [
       "<Figure size 1440x360 with 1 Axes>"
      ]
     },
     "metadata": {
      "needs_background": "light"
     },
     "output_type": "display_data"
    }
   ],
   "source": [
    "plt.figure(figsize=(20,5))\n",
    "plt.xlabel('Date')\n",
    "plt.ylabel('5-MA')\n",
    "plt.plot(bitcoin['Date'], bitcoin['5-MA'], '#f2a900')\n",
    "plt.show()"
   ]
  },
  {
   "cell_type": "markdown",
   "id": "32894861",
   "metadata": {},
   "source": [
    "<h2>Bonus Part</h2>\n",
    "\n",
    "---\n",
    "\n",
    "위에 주어진 데이터와 더불어 <a href=\"https://www.kaggle.com/prasoonkottarathil/ethereum-historical-dataset?select=ETH_day.csv\">이더리움 데이터</a>도 주어졌을 때, 2016.6 ~ 2017.6 기간에 해당하는 <strong>비트코인의 5-MA 그래프와 이더리움의 5-MA 그래프를 동시에</strong> 그려주세요.\n",
    "\n",
    "<ul>\n",
    "    <li>\n",
    "        선의 색깔은 비트코인 : <strong>노란색(#f2a900)</strong>, 이더리움 : <strong>검은색(#3c3c3d)</strong> 으로 해야합니다.\n",
    "    </li>\n",
    "    <li>\n",
    "        x-axis label과 y-axis label은 적절한 텍스트로 추가되어야 합니다.\n",
    "    </li>\n",
    "    <li>\n",
    "        이동평균의 기준은 Open Column으로 계산합니다.\n",
    "    </li>\n",
    "    <li>\n",
    "        이외에도 그래프를 알아보기 쉽게 하기 위한 정보(Text, Facet 등)을 추가하는 것도 좋습니다.\n",
    "    </li>\n",
    "</ul>\n",
    "\n",
    "---"
   ]
  },
  {
   "cell_type": "code",
   "execution_count": 457,
   "id": "2ae0177a",
   "metadata": {},
   "outputs": [
    {
     "data": {
      "text/html": [
       "<div>\n",
       "<style scoped>\n",
       "    .dataframe tbody tr th:only-of-type {\n",
       "        vertical-align: middle;\n",
       "    }\n",
       "\n",
       "    .dataframe tbody tr th {\n",
       "        vertical-align: top;\n",
       "    }\n",
       "\n",
       "    .dataframe thead th {\n",
       "        text-align: right;\n",
       "    }\n",
       "</style>\n",
       "<table border=\"1\" class=\"dataframe\">\n",
       "  <thead>\n",
       "    <tr style=\"text-align: right;\">\n",
       "      <th></th>\n",
       "      <th>Date</th>\n",
       "      <th>Symbol</th>\n",
       "      <th>Open</th>\n",
       "      <th>High</th>\n",
       "      <th>Low</th>\n",
       "      <th>Close</th>\n",
       "      <th>Volume ETH</th>\n",
       "      <th>Volume USD</th>\n",
       "    </tr>\n",
       "  </thead>\n",
       "  <tbody>\n",
       "    <tr>\n",
       "      <th>0</th>\n",
       "      <td>2020-04-15</td>\n",
       "      <td>ETHUSD</td>\n",
       "      <td>158.61</td>\n",
       "      <td>158.61</td>\n",
       "      <td>158.61</td>\n",
       "      <td>158.61</td>\n",
       "      <td>0.00</td>\n",
       "      <td>0.00</td>\n",
       "    </tr>\n",
       "    <tr>\n",
       "      <th>1</th>\n",
       "      <td>2020-04-14</td>\n",
       "      <td>ETHUSD</td>\n",
       "      <td>156.97</td>\n",
       "      <td>162.15</td>\n",
       "      <td>155.74</td>\n",
       "      <td>158.61</td>\n",
       "      <td>18061.58</td>\n",
       "      <td>2872210.44</td>\n",
       "    </tr>\n",
       "    <tr>\n",
       "      <th>2</th>\n",
       "      <td>2020-04-13</td>\n",
       "      <td>ETHUSD</td>\n",
       "      <td>158.56</td>\n",
       "      <td>159.51</td>\n",
       "      <td>150.12</td>\n",
       "      <td>156.97</td>\n",
       "      <td>15698.32</td>\n",
       "      <td>2416728.28</td>\n",
       "    </tr>\n",
       "    <tr>\n",
       "      <th>3</th>\n",
       "      <td>2020-04-12</td>\n",
       "      <td>ETHUSD</td>\n",
       "      <td>158.66</td>\n",
       "      <td>165.37</td>\n",
       "      <td>155.21</td>\n",
       "      <td>158.56</td>\n",
       "      <td>12877.33</td>\n",
       "      <td>2082804.05</td>\n",
       "    </tr>\n",
       "    <tr>\n",
       "      <th>4</th>\n",
       "      <td>2020-04-11</td>\n",
       "      <td>ETHUSD</td>\n",
       "      <td>158.26</td>\n",
       "      <td>161.49</td>\n",
       "      <td>154.25</td>\n",
       "      <td>158.66</td>\n",
       "      <td>13761.72</td>\n",
       "      <td>2172914.57</td>\n",
       "    </tr>\n",
       "  </tbody>\n",
       "</table>\n",
       "</div>"
      ],
      "text/plain": [
       "         Date  Symbol    Open    High     Low   Close  Volume ETH  Volume USD\n",
       "0  2020-04-15  ETHUSD  158.61  158.61  158.61  158.61        0.00        0.00\n",
       "1  2020-04-14  ETHUSD  156.97  162.15  155.74  158.61    18061.58  2872210.44\n",
       "2  2020-04-13  ETHUSD  158.56  159.51  150.12  156.97    15698.32  2416728.28\n",
       "3  2020-04-12  ETHUSD  158.66  165.37  155.21  158.56    12877.33  2082804.05\n",
       "4  2020-04-11  ETHUSD  158.26  161.49  154.25  158.66    13761.72  2172914.57"
      ]
     },
     "execution_count": 457,
     "metadata": {},
     "output_type": "execute_result"
    }
   ],
   "source": [
    "ethereum = pd.read_csv(data_folder_dir + 'ETH_day.csv')\n",
    "ethereum.head()"
   ]
  },
  {
   "cell_type": "code",
   "execution_count": 458,
   "id": "0621bf7b",
   "metadata": {},
   "outputs": [],
   "source": [
    "ethereum['Date'] = pd.to_datetime(ethereum['Date'].values)\n",
    "ethereum = ethereum.sort_values(by='Date')"
   ]
  },
  {
   "cell_type": "code",
   "execution_count": 459,
   "id": "1795e247",
   "metadata": {},
   "outputs": [
    {
     "name": "stderr",
     "output_type": "stream",
     "text": [
      "/Library/Frameworks/Python.framework/Versions/3.9/lib/python3.9/site-packages/pandas/core/indexing.py:1637: SettingWithCopyWarning: \n",
      "A value is trying to be set on a copy of a slice from a DataFrame\n",
      "\n",
      "See the caveats in the documentation: https://pandas.pydata.org/pandas-docs/stable/user_guide/indexing.html#returning-a-view-versus-a-copy\n",
      "  self._setitem_single_block(indexer, value, name)\n"
     ]
    }
   ],
   "source": [
    "ethereum['5-MA'] = None\n",
    "for idx, eth in enumerate(ethereum.iloc):\n",
    "    if idx > len(ethereum) - 5:\n",
    "        break\n",
    "    ethereum['5-MA'].iloc[idx] = np.mean(ethereum.iloc[idx:idx+5].Open)"
   ]
  },
  {
   "cell_type": "code",
   "execution_count": 460,
   "id": "1762374b",
   "metadata": {},
   "outputs": [
    {
     "data": {
      "text/html": [
       "<div>\n",
       "<style scoped>\n",
       "    .dataframe tbody tr th:only-of-type {\n",
       "        vertical-align: middle;\n",
       "    }\n",
       "\n",
       "    .dataframe tbody tr th {\n",
       "        vertical-align: top;\n",
       "    }\n",
       "\n",
       "    .dataframe thead th {\n",
       "        text-align: right;\n",
       "    }\n",
       "</style>\n",
       "<table border=\"1\" class=\"dataframe\">\n",
       "  <thead>\n",
       "    <tr style=\"text-align: right;\">\n",
       "      <th></th>\n",
       "      <th>Date</th>\n",
       "      <th>Symbol</th>\n",
       "      <th>Open</th>\n",
       "      <th>High</th>\n",
       "      <th>Low</th>\n",
       "      <th>Close</th>\n",
       "      <th>Volume ETH</th>\n",
       "      <th>Volume USD</th>\n",
       "      <th>5-MA</th>\n",
       "    </tr>\n",
       "  </thead>\n",
       "  <tbody>\n",
       "    <tr>\n",
       "      <th>1414</th>\n",
       "      <td>2016-06-01</td>\n",
       "      <td>ETHUSD</td>\n",
       "      <td>14.18</td>\n",
       "      <td>14.35</td>\n",
       "      <td>13.54</td>\n",
       "      <td>13.95</td>\n",
       "      <td>6390.06</td>\n",
       "      <td>89027.81</td>\n",
       "      <td>13.982</td>\n",
       "    </tr>\n",
       "    <tr>\n",
       "      <th>1413</th>\n",
       "      <td>2016-06-02</td>\n",
       "      <td>ETHUSD</td>\n",
       "      <td>13.95</td>\n",
       "      <td>14.13</td>\n",
       "      <td>13.82</td>\n",
       "      <td>13.90</td>\n",
       "      <td>942.85</td>\n",
       "      <td>13180.38</td>\n",
       "      <td>13.928</td>\n",
       "    </tr>\n",
       "    <tr>\n",
       "      <th>1412</th>\n",
       "      <td>2016-06-03</td>\n",
       "      <td>ETHUSD</td>\n",
       "      <td>13.90</td>\n",
       "      <td>16.05</td>\n",
       "      <td>13.50</td>\n",
       "      <td>14.02</td>\n",
       "      <td>11426.53</td>\n",
       "      <td>157342.19</td>\n",
       "      <td>13.97</td>\n",
       "    </tr>\n",
       "    <tr>\n",
       "      <th>1411</th>\n",
       "      <td>2016-06-04</td>\n",
       "      <td>ETHUSD</td>\n",
       "      <td>14.02</td>\n",
       "      <td>14.16</td>\n",
       "      <td>13.64</td>\n",
       "      <td>13.86</td>\n",
       "      <td>4330.50</td>\n",
       "      <td>59977.39</td>\n",
       "      <td>14.09</td>\n",
       "    </tr>\n",
       "    <tr>\n",
       "      <th>1410</th>\n",
       "      <td>2016-06-05</td>\n",
       "      <td>ETHUSD</td>\n",
       "      <td>13.86</td>\n",
       "      <td>13.92</td>\n",
       "      <td>13.70</td>\n",
       "      <td>13.91</td>\n",
       "      <td>787.49</td>\n",
       "      <td>10869.67</td>\n",
       "      <td>14.188</td>\n",
       "    </tr>\n",
       "  </tbody>\n",
       "</table>\n",
       "</div>"
      ],
      "text/plain": [
       "           Date  Symbol   Open   High    Low  Close  Volume ETH  Volume USD  \\\n",
       "1414 2016-06-01  ETHUSD  14.18  14.35  13.54  13.95     6390.06    89027.81   \n",
       "1413 2016-06-02  ETHUSD  13.95  14.13  13.82  13.90      942.85    13180.38   \n",
       "1412 2016-06-03  ETHUSD  13.90  16.05  13.50  14.02    11426.53   157342.19   \n",
       "1411 2016-06-04  ETHUSD  14.02  14.16  13.64  13.86     4330.50    59977.39   \n",
       "1410 2016-06-05  ETHUSD  13.86  13.92  13.70  13.91      787.49    10869.67   \n",
       "\n",
       "        5-MA  \n",
       "1414  13.982  \n",
       "1413  13.928  \n",
       "1412   13.97  \n",
       "1411   14.09  \n",
       "1410  14.188  "
      ]
     },
     "execution_count": 460,
     "metadata": {},
     "output_type": "execute_result"
    }
   ],
   "source": [
    "ethereum = ethereum[ethereum['Date'] >= '20160601']\n",
    "ethereum = ethereum[ethereum['Date'] < '20170701']\n",
    "ethereum.head()"
   ]
  },
  {
   "cell_type": "code",
   "execution_count": 461,
   "id": "b0645eed",
   "metadata": {},
   "outputs": [
    {
     "data": {
      "text/plain": [
       "(377, 395)"
      ]
     },
     "execution_count": 461,
     "metadata": {},
     "output_type": "execute_result"
    }
   ],
   "source": [
    "len(bitcoin), len(ethereum)"
   ]
  },
  {
   "cell_type": "code",
   "execution_count": 462,
   "id": "dc46308d",
   "metadata": {},
   "outputs": [],
   "source": [
    "crypto = pd.merge(bitcoin, ethereum, on='Date', how='inner')\n",
    "crypto_5MA = crypto[['5-MA_x','5-MA_y']]"
   ]
  },
  {
   "cell_type": "code",
   "execution_count": 463,
   "id": "a1f7f148",
   "metadata": {},
   "outputs": [],
   "source": [
    "crypto_5MA.columns = ['bitcoin', 'ethereum']\n",
    "crypto_5MA.index = crypto['Date']"
   ]
  },
  {
   "cell_type": "code",
   "execution_count": 464,
   "id": "3873ffee",
   "metadata": {},
   "outputs": [
    {
     "data": {
      "text/html": [
       "<div>\n",
       "<style scoped>\n",
       "    .dataframe tbody tr th:only-of-type {\n",
       "        vertical-align: middle;\n",
       "    }\n",
       "\n",
       "    .dataframe tbody tr th {\n",
       "        vertical-align: top;\n",
       "    }\n",
       "\n",
       "    .dataframe thead th {\n",
       "        text-align: right;\n",
       "    }\n",
       "</style>\n",
       "<table border=\"1\" class=\"dataframe\">\n",
       "  <thead>\n",
       "    <tr style=\"text-align: right;\">\n",
       "      <th></th>\n",
       "      <th>bitcoin</th>\n",
       "      <th>ethereum</th>\n",
       "    </tr>\n",
       "    <tr>\n",
       "      <th>Date</th>\n",
       "      <th></th>\n",
       "      <th></th>\n",
       "    </tr>\n",
       "  </thead>\n",
       "  <tbody>\n",
       "    <tr>\n",
       "      <th>2016-06-01</th>\n",
       "      <td>418.238</td>\n",
       "      <td>13.982</td>\n",
       "    </tr>\n",
       "    <tr>\n",
       "      <th>2016-06-02</th>\n",
       "      <td>446.786</td>\n",
       "      <td>13.928</td>\n",
       "    </tr>\n",
       "    <tr>\n",
       "      <th>2016-06-03</th>\n",
       "      <td>503.552</td>\n",
       "      <td>13.97</td>\n",
       "    </tr>\n",
       "    <tr>\n",
       "      <th>2016-06-04</th>\n",
       "      <td>538.454</td>\n",
       "      <td>14.09</td>\n",
       "    </tr>\n",
       "    <tr>\n",
       "      <th>2016-06-05</th>\n",
       "      <td>574.9</td>\n",
       "      <td>14.188</td>\n",
       "    </tr>\n",
       "  </tbody>\n",
       "</table>\n",
       "</div>"
      ],
      "text/plain": [
       "            bitcoin ethereum\n",
       "Date                        \n",
       "2016-06-01  418.238   13.982\n",
       "2016-06-02  446.786   13.928\n",
       "2016-06-03  503.552    13.97\n",
       "2016-06-04  538.454    14.09\n",
       "2016-06-05    574.9   14.188"
      ]
     },
     "execution_count": 464,
     "metadata": {},
     "output_type": "execute_result"
    }
   ],
   "source": [
    "crypto_5MA.head()"
   ]
  },
  {
   "cell_type": "code",
   "execution_count": 465,
   "id": "ad2e97f4",
   "metadata": {},
   "outputs": [
    {
     "data": {
      "image/png": "[encoded data removed]",
      "text/plain": [
       "<Figure size 1440x360 with 1 Axes>"
      ]
     },
     "metadata": {
      "needs_background": "light"
     },
     "output_type": "display_data"
    }
   ],
   "source": [
    "plt.figure(figsize=(20,5))\n",
    "plt.xlabel('Date')\n",
    "plt.ylabel('5-MA')\n",
    "plt.plot(crypto_5MA.index, crypto_5MA['bitcoin'], '#f2a900', label='bitcoin')\n",
    "plt.plot(crypto_5MA.index, crypto_5MA['ethereum'], '#3c3c3d', label='ethereum')\n",
    "plt.legend()\n",
    "plt.show()"
   ]
  }
 ],
 "metadata": {
  "kernelspec": {
   "display_name": "Python 3",
   "language": "python",
   "name": "python3"
  },
  "language_info": {
   "codemirror_mode": {
    "name": "ipython",
    "version": 3
   },
   "file_extension": ".py",
   "mimetype": "text/x-python",
   "name": "python",
   "nbconvert_exporter": "python",
   "pygments_lexer": "ipython3",
   "version": "3.9.4"
  }
 },
 "nbformat": 4,
 "nbformat_minor": 5
}
