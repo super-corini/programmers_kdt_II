{
  "nbformat": 4,
  "nbformat_minor": 0,
  "metadata": {
    "colab": {
      "name": "Day1.ipynb",
      "provenance": [],
      "include_colab_link": true
    },
    "kernelspec": {
      "name": "python3",
      "display_name": "Python 3"
    },
    "language_info": {
      "name": "python"
    }
  },
  "cells": [
    {
      "cell_type": "markdown",
      "metadata": {
        "id": "view-in-github",
        "colab_type": "text"
      },
      "source": [
        "<a href=\"https://colab.research.google.com/github/Zzang-yeah/programmers_kdt_II/blob/week4/Day1.ipynb\" target=\"_parent\"><img src=\"https://colab.research.google.com/assets/colab-badge.svg\" alt=\"Open In Colab\"/></a>"
      ]
    },
    {
      "cell_type": "markdown",
      "metadata": {
        "id": "coHxuyVDBXJm"
      },
      "source": [
        "#Day 1 - Flask를 Flask 답게\n",
        "실습에서는 GET 과 POST 를 이용해서 /menu 자원으로부터 데이터를 가지고오고, 자원에 데이터를 추가해보았습니다. 이는 자원에서 할 수 있는 4가지 logic인 CRUD(Create, Read, Update, Delete) 중 Read와 Create에 해당하는 부분입니다. 이를 바탕으로 다음 과제를 해결해봅시다.\n",
        "\n",
        "##필수 과제 : 메뉴 관리 CRUD 구현하기\n",
        "HTTP 메서드 PUT 를 이용해 Update, DELETE 를 이용해 Delete 기능을 구현해주세요.\n",
        "* PUT /menu/<int:id> : 해당하는 id에 해당하는 데이터를 갱신합니다. (HTTPRequest의 Body에 갱신할 내용이 json으로 전달됩니다.)\n",
        "* DELETE /menu/<int:id> : 해당하는 id에 해당하는 데이터를 삭제합니다.\n",
        "* @app.route() 의 인자로 들어가는 경로에는 다음과 같이 사용해줄 수도 있습니다.\n",
        "\n",
        "```\n",
        "@app.route('/<name>') # URL에 <>를 붙임으로서 이를 함수의 인자로 대입할 수 있습니다.\n",
        "def my_view_func(name):\n",
        "    return name\n",
        "```\n",
        "\n",
        "\n",
        "\n"
      ]
    },
    {
      "cell_type": "code",
      "metadata": {
        "id": "OHjj6q-c0GNR"
      },
      "source": [
        "from flask import Flask, jsonify, request\n",
        "\n",
        "app=Flask(__name__)\n",
        "\n",
        "menus=[\n",
        "       {'id':1,'name':'Espresso','price':3800},\n",
        "       {'id':2,'name':'Americano','price':4000},\n",
        "       {'id':3,'name':'CafeLatte','price':4500},\n",
        "]\n",
        "\n",
        "#'/'주소를 입력받았을 때 아래에 있는 함수를 실행\n",
        "@app.route('/')\n",
        "def hello_flask():\n",
        "    return 'Hello World'\n",
        "\n",
        "#GET/menus : 자료를 가지고 온다.\n",
        "@app.route('/menus')\n",
        "def get_menus():\n",
        "  return jsonify({\"menus\":menus})\n",
        "\n",
        "#POST/menus : 자료를 자원에 추가한다.\n",
        "@app.route('/menus', methods=['POST'])\n",
        "def create_menu():\n",
        "  #전달받은 자료를 menus자원에 추가\n",
        "  request_data=request.get_json() #{\"name\":..., \"price\":...}\n",
        "  new_menu={\n",
        "      'id':4,\n",
        "      \"name\":request_data['name'],\n",
        "      \"price\":request_data['price'],\n",
        "  }\n",
        "  menus.append(new_menu)\n",
        "  return jsonify()\n",
        "\n",
        "#PUT /menu/<int:id> : 해당하는 id에 해당하는 데이터를 갱신합니다. (HTTPRequest의 Body에 갱신할 내용이 json으로 전달됩니다.)\n",
        "@app.route('/menus/<int:id>', methods=['PUT'])\n",
        "def update_menu(id):\n",
        "  request_data=request.get_json()\n",
        "  for i in menus:\n",
        "    if i['id']==id:\n",
        "      i['name']=request_data['name']\n",
        "      i['price']=request_data['price']\n",
        "      return jsonify(i)\n",
        "  return '없지롱'\n",
        "\n",
        "#DELETE /menu/int:id: 해당하는 id에 해당하는 데이터를 삭제합니다.\n",
        "@app.route('/menus/<int:id>',methods=['DELETE'])\n",
        "def delete_menu(id):\n",
        "    request_data=request.get_json()\n",
        "    for i in menus:\n",
        "        if i['id']==id:\n",
        "            return jsonify(menus.pop(i))\n",
        "    return '없지롱'\n",
        "\n",
        "#name space가 main인 경우 즉, app.py를 직접적으로 실행한 경우 app.run()을 실행\n",
        "#app이 모듈로써가 아니라 직접적인 실행파일로 실행될 때 해당 로직을 사용\n",
        "if __name__=='__main__':\n",
        "    app.run()\n",
        "    app = Flask(__name__)"
      ],
      "execution_count": null,
      "outputs": []
    },
    {
      "cell_type": "markdown",
      "metadata": {
        "id": "qEQxRb2aCACf"
      },
      "source": [
        "\n",
        "##보너스 과제 I: ID야 움직여라 얍!\n",
        "* 새로운 menu를 추가하는 POST 영역에서 id가 4로 고정되어있는 문제가 발생합니다.\n",
        "* POST 요청이 들어올 때마다 id가 하나씩 증가하여 menu 리스트에 추가될 수 있도록 코드를 수정해주세요.\n",
        "* 이 과제는 필수 과제 이후에 진행되어야 합니다.     "
      ]
    },
    {
      "cell_type": "code",
      "metadata": {
        "id": "xgGEvPtR1E1Z"
      },
      "source": [
        "#POST/menus : 자료를 자원에 추가한다.\n",
        "@app.route('/menus', methods=['POST'])\n",
        "def create_menu():\n",
        "  #전달받은 자료를 menus자원에 추가\n",
        "  request_data=request.get_json() #{\"name\":..., \"price\":...}\n",
        "  new_id=len(menus)\n",
        "  new_menu={\n",
        "      'id':new_id+1,\n",
        "      \"name\":request_data['name'],\n",
        "      \"price\":request_data['price'],\n",
        "  }\n",
        "  menus.append(new_menu)\n",
        "  return jsonify()"
      ],
      "execution_count": null,
      "outputs": []
    },
    {
      "cell_type": "markdown",
      "metadata": {
        "id": "5U3aszeOCW0t"
      },
      "source": [
        "##보너스 과제 II : 데이터베이스 연동하기\n",
        "* 수업에서 다룬 API는 서버를 재시작하면 모든 정보가 리셋되는 치명적인 문제가 있었습니다. 이를 해결하기 위해 데이터만을 저장하는 데이터베이스를 도입하여 Flask과 연동할 필요가 생겼습니다.\n",
        "* SQL과 ORM 중 하나를 선택하여 데이터베이스와 Flask app을 연동해봅시다. (즉, 자원에 CRUD가 발생하면 이 정보가 데이터베이스에 저장되어야합니다.)\n",
        "* 이 과제는 필수 과제, 보너스 과제 I 이후에 진행되어야 합니다."
      ]
    }
  ]
}