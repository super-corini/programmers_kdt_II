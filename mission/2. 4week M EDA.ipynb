{
 "metadata": {
  "language_info": {
   "codemirror_mode": {
    "name": "ipython",
    "version": 3
   },
   "file_extension": ".py",
   "mimetype": "text/x-python",
   "name": "python",
   "nbconvert_exporter": "python",
   "pygments_lexer": "ipython3",
   "version": "3.9.5"
  },
  "orig_nbformat": 2,
  "kernelspec": {
   "name": "python395jvsc74a57bd0e25d969c92605c0c7f415fe0832a23d7af293f208a65b2ef2c6d7f3dcccb9abb",
   "display_name": "Python 3.9.5 64-bit"
  },
  "metadata": {
   "interpreter": {
    "hash": "e25d969c92605c0c7f415fe0832a23d7af293f208a65b2ef2c6d7f3dcccb9abb"
   }
  }
 },
 "nbformat": 4,
 "nbformat_minor": 2,
 "cells": [
  {
   "source": [
    "### 2. [Kaggle](https://www.kaggle.com/datasets)에서 Dataset을 찾고, 이 Dataset에서 유의미한 Feature를 3개 이상 찾고 이를 시각화해봅시다.\n",
    "\n",
    "함께 보면 좋은 라이브러리 document\n",
    "- [numpy]()\n",
    "- [pandas]()\n",
    "- [seaborn]()\n",
    "- [matplotlib]()"
   ],
   "cell_type": "markdown",
   "metadata": {}
  },
  {
   "source": [
    "[와인 데이터](https://www.kaggle.com/aminbamavadat/winereviewscsv)\n",
    "\n",
    "kaggle datasets download -d aminbamavadat/winereviewscsv\n",
    "\n",
    "mkdir winedata \n",
    "\n",
    "unzip winereviewscsv.zip -d winedata/ \n"
   ],
   "cell_type": "markdown",
   "metadata": {}
  },
  {
   "cell_type": "code",
   "execution_count": 1,
   "metadata": {},
   "outputs": [],
   "source": [
    "import numpy as np\n",
    "import pandas as pd\n",
    "import matplotlib.pyplot as plt \n",
    "import seaborn as sns \n",
    "\n",
    "%matplotlib inline"
   ]
  },
  {
   "cell_type": "code",
   "execution_count": null,
   "metadata": {},
   "outputs": [],
   "source": [
    "wine_df = pd.read_csv('./winedata/winemag-data_first150k.csv')\n"
   ]
  },
  {
   "cell_type": "code",
   "execution_count": null,
   "metadata": {},
   "outputs": [],
   "source": [
    "wine_df"
   ]
  },
  {
   "cell_type": "code",
   "execution_count": null,
   "metadata": {},
   "outputs": [],
   "source": [
    "sns.heatmap(wine_df.corr())\n",
    "plt.show()"
   ]
  },
  {
   "source": [
    "### 음 유의미한 데이터 3개 무엇으로 할것이냐\n",
    "\n",
    " 1. 가격과 지역 그리고 점수\n",
    "\n",
    " 2. 품종과 점수 비율\n",
    "\n",
    " 3. 무명와인(지역소비와인) 와인점수 와 가격\n",
    "\n"
   ],
   "cell_type": "markdown",
   "metadata": {}
  },
  {
   "source": [
    "## 1. 가격과 지역 그리고 점수\n"
   ],
   "cell_type": "markdown",
   "metadata": {}
  },
  {
   "cell_type": "code",
   "execution_count": null,
   "metadata": {},
   "outputs": [],
   "source": [
    "sns.catplot(x='points', y='price', hue='country', kind='point', data=wine_df)"
   ]
  },
  {
   "source": [
    "## 2. 품종과 점수\n",
    "\n",
    "2-1 데이터 카운트를 통한 품종별 점수 갯수 구하기\n"
   ],
   "cell_type": "markdown",
   "metadata": {}
  },
  {
   "cell_type": "code",
   "execution_count": null,
   "metadata": {},
   "outputs": [],
   "source": [
    "sns.catplot(x='points', y='variety', kind='bar', data=wine_df)"
   ]
  },
  {
   "cell_type": "code",
   "execution_count": null,
   "metadata": {},
   "outputs": [],
   "source": [
    "variety_df= wine_df['variety'].value_counts()\n",
    "variety_df = variety_df[variety_df > 1000]\n",
    "variety_df.reset_index()['index']"
   ]
  },
  {
   "cell_type": "code",
   "execution_count": null,
   "metadata": {},
   "outputs": [],
   "source": [
    "winevar_df=wine_df[wine_df.variety.isin(variety_df.reset_index()['index'])]"
   ]
  },
  {
   "cell_type": "code",
   "execution_count": null,
   "metadata": {},
   "outputs": [],
   "source": [
    " winevarietypoints_df = winevar_df[['variety','points']].value_counts().reset_index().sort_values(by = ['variety','points']).reset_index().drop(['index'], axis=1)"
   ]
  },
  {
   "cell_type": "code",
   "execution_count": null,
   "metadata": {},
   "outputs": [],
   "source": [
    "winevarietypoints_df['relative'] = (winevarietypoints_df[0]/winevarietypoints_df.groupby(['variety']).sum().loc[winevarietypoints_df.variety[0]][0])**0.25\n",
    "winevarietypoints_df"
   ]
  },
  {
   "cell_type": "code",
   "execution_count": null,
   "metadata": {},
   "outputs": [],
   "source": [
    "sns.catplot(x='relative', y=\"variety\", hue=\"points\", kind=\"bar\", data=winevarietypoints_df, palette='coolwarm')\n",
    "plt.xlabel('count')\n",
    "plt.show()"
   ]
  },
  {
   "source": [
    "### 3. 무명와인(지역소비와인) 와인점수 와 가격"
   ],
   "cell_type": "markdown",
   "metadata": {}
  },
  {
   "cell_type": "code",
   "execution_count": null,
   "metadata": {},
   "outputs": [],
   "source": [
    "nanwine_df=wine_df[wine_df['designation'].isnull()]"
   ]
  },
  {
   "cell_type": "code",
   "execution_count": null,
   "metadata": {},
   "outputs": [],
   "source": [
    "#무명와인(지역소비와인) 와인점수 와 가격\n",
    "sns.catplot(x='points', y='price', hue='country', kind='point', data=nanwine_df)"
   ]
  },
  {
   "cell_type": "code",
   "execution_count": null,
   "metadata": {},
   "outputs": [],
   "source": []
  },
  {
   "cell_type": "code",
   "execution_count": null,
   "metadata": {},
   "outputs": [],
   "source": []
  }
 ]
}