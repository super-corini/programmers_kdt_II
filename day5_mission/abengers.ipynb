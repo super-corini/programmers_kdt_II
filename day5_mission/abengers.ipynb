{
 "cells": [
  {
   "cell_type": "markdown",
   "id": "72ec1273",
   "metadata": {},
   "source": [
    "### Mission 2. Abengers, Assemble!"
   ]
  },
  {
   "cell_type": "code",
   "execution_count": 4,
   "id": "7e3ae988",
   "metadata": {},
   "outputs": [],
   "source": [
    "## 라이브러리 불러오기\n",
    "\n",
    "import numpy as np\n",
    "import pandas as pd\n",
    "import matplotlib.pyplot as plt\n",
    "import seaborn as sns\n",
    "\n",
    "%matplotlib inline"
   ]
  },
  {
   "cell_type": "code",
   "execution_count": 3,
   "id": "a7dab221",
   "metadata": {},
   "outputs": [],
   "source": [
    "abengers_df = pd.read_csv('./charcters_stats.csv')"
   ]
  },
  {
   "cell_type": "markdown",
   "id": "bcbb2e0b",
   "metadata": {},
   "source": [
    "### Core Mission\n",
    "1. 캐릭터는 저마다 지능, 힘, ... 등 다양한 수치를 지니고 있다. **이러한 수치의 합이 가장 큰 캐릭터는 누구인가?** 이를 보이기 위한 과정을 보여라.\n",
    "2. **좋은 캐릭터와 나쁜 캐릭터의 능력치들의 수치 분포**를 알고 싶다. 이를 표현하기 위한 적절한 그래프를 선택해서 이를 위한 전처리를 진행하고, 시각화하여라."
   ]
  },
  {
   "cell_type": "markdown",
   "id": "809813d9",
   "metadata": {},
   "source": [
    "### 데이터 살펴보기\n",
    "- Alignment : 정치적 지지도 -> 수치적인게 아니라서 고려하지 않음\n",
    "- 'Total = Inteligence + Strngth + Speed + Durability + Power + Combat'인것으로 보임\n",
    "    - 이를 확인하기 위해 행별로 'Inteligence + Strngth + Speed + Durability + Power + Combat'의 합계를 구하고 그 값이 Total과 동일한지 확인해본다.\n",
    "    - 모두 동일하다면, 수치의 합이 가장 큰 캐릭터는 **Total값이 가장 높은 캐릭터**이다."
   ]
  },
  {
   "cell_type": "code",
   "execution_count": 5,
   "id": "f92d7337",
   "metadata": {},
   "outputs": [
    {
     "data": {
      "text/html": [
       "<div>\n",
       "<style scoped>\n",
       "    .dataframe tbody tr th:only-of-type {\n",
       "        vertical-align: middle;\n",
       "    }\n",
       "\n",
       "    .dataframe tbody tr th {\n",
       "        vertical-align: top;\n",
       "    }\n",
       "\n",
       "    .dataframe thead th {\n",
       "        text-align: right;\n",
       "    }\n",
       "</style>\n",
       "<table border=\"1\" class=\"dataframe\">\n",
       "  <thead>\n",
       "    <tr style=\"text-align: right;\">\n",
       "      <th></th>\n",
       "      <th>Name</th>\n",
       "      <th>Alignment</th>\n",
       "      <th>Intelligence</th>\n",
       "      <th>Strength</th>\n",
       "      <th>Speed</th>\n",
       "      <th>Durability</th>\n",
       "      <th>Power</th>\n",
       "      <th>Combat</th>\n",
       "      <th>Total</th>\n",
       "    </tr>\n",
       "  </thead>\n",
       "  <tbody>\n",
       "    <tr>\n",
       "      <th>0</th>\n",
       "      <td>3-D Man</td>\n",
       "      <td>good</td>\n",
       "      <td>50</td>\n",
       "      <td>31</td>\n",
       "      <td>43</td>\n",
       "      <td>32</td>\n",
       "      <td>25</td>\n",
       "      <td>52</td>\n",
       "      <td>233</td>\n",
       "    </tr>\n",
       "    <tr>\n",
       "      <th>1</th>\n",
       "      <td>A-Bomb</td>\n",
       "      <td>good</td>\n",
       "      <td>38</td>\n",
       "      <td>100</td>\n",
       "      <td>17</td>\n",
       "      <td>80</td>\n",
       "      <td>17</td>\n",
       "      <td>64</td>\n",
       "      <td>316</td>\n",
       "    </tr>\n",
       "    <tr>\n",
       "      <th>2</th>\n",
       "      <td>Abe Sapien</td>\n",
       "      <td>good</td>\n",
       "      <td>88</td>\n",
       "      <td>14</td>\n",
       "      <td>35</td>\n",
       "      <td>42</td>\n",
       "      <td>35</td>\n",
       "      <td>85</td>\n",
       "      <td>299</td>\n",
       "    </tr>\n",
       "    <tr>\n",
       "      <th>3</th>\n",
       "      <td>Abin Sur</td>\n",
       "      <td>good</td>\n",
       "      <td>50</td>\n",
       "      <td>90</td>\n",
       "      <td>53</td>\n",
       "      <td>64</td>\n",
       "      <td>84</td>\n",
       "      <td>65</td>\n",
       "      <td>406</td>\n",
       "    </tr>\n",
       "    <tr>\n",
       "      <th>4</th>\n",
       "      <td>Abomination</td>\n",
       "      <td>bad</td>\n",
       "      <td>63</td>\n",
       "      <td>80</td>\n",
       "      <td>53</td>\n",
       "      <td>90</td>\n",
       "      <td>55</td>\n",
       "      <td>95</td>\n",
       "      <td>436</td>\n",
       "    </tr>\n",
       "  </tbody>\n",
       "</table>\n",
       "</div>"
      ],
      "text/plain": [
       "          Name Alignment  Intelligence  Strength  Speed  Durability  Power  \\\n",
       "0      3-D Man      good            50        31     43          32     25   \n",
       "1       A-Bomb      good            38       100     17          80     17   \n",
       "2   Abe Sapien      good            88        14     35          42     35   \n",
       "3     Abin Sur      good            50        90     53          64     84   \n",
       "4  Abomination       bad            63        80     53          90     55   \n",
       "\n",
       "   Combat  Total  \n",
       "0      52    233  \n",
       "1      64    316  \n",
       "2      85    299  \n",
       "3      65    406  \n",
       "4      95    436  "
      ]
     },
     "execution_count": 5,
     "metadata": {},
     "output_type": "execute_result"
    }
   ],
   "source": [
    "abengers_df.head(5)"
   ]
  },
  {
   "cell_type": "code",
   "execution_count": 6,
   "id": "52b87cad",
   "metadata": {},
   "outputs": [
    {
     "data": {
      "text/plain": [
       "Name            object\n",
       "Alignment       object\n",
       "Intelligence     int64\n",
       "Strength         int64\n",
       "Speed            int64\n",
       "Durability       int64\n",
       "Power            int64\n",
       "Combat           int64\n",
       "Total            int64\n",
       "dtype: object"
      ]
     },
     "execution_count": 6,
     "metadata": {},
     "output_type": "execute_result"
    }
   ],
   "source": [
    "abengers_df.dtypes"
   ]
  },
  {
   "cell_type": "markdown",
   "id": "2bf143b3",
   "metadata": {},
   "source": [
    "### 이상치, 결측치 확인 \n",
    "- 이상치는 보이지 않음\n",
    "- Alignment에서 3개의 결측치가 있다."
   ]
  },
  {
   "cell_type": "code",
   "execution_count": 7,
   "id": "ccff8411",
   "metadata": {},
   "outputs": [
    {
     "data": {
      "text/html": [
       "<div>\n",
       "<style scoped>\n",
       "    .dataframe tbody tr th:only-of-type {\n",
       "        vertical-align: middle;\n",
       "    }\n",
       "\n",
       "    .dataframe tbody tr th {\n",
       "        vertical-align: top;\n",
       "    }\n",
       "\n",
       "    .dataframe thead th {\n",
       "        text-align: right;\n",
       "    }\n",
       "</style>\n",
       "<table border=\"1\" class=\"dataframe\">\n",
       "  <thead>\n",
       "    <tr style=\"text-align: right;\">\n",
       "      <th></th>\n",
       "      <th>Intelligence</th>\n",
       "      <th>Strength</th>\n",
       "      <th>Speed</th>\n",
       "      <th>Durability</th>\n",
       "      <th>Power</th>\n",
       "      <th>Combat</th>\n",
       "      <th>Total</th>\n",
       "    </tr>\n",
       "  </thead>\n",
       "  <tbody>\n",
       "    <tr>\n",
       "      <th>count</th>\n",
       "      <td>611.000000</td>\n",
       "      <td>611.000000</td>\n",
       "      <td>611.000000</td>\n",
       "      <td>611.000000</td>\n",
       "      <td>611.000000</td>\n",
       "      <td>611.000000</td>\n",
       "      <td>611.000000</td>\n",
       "    </tr>\n",
       "    <tr>\n",
       "      <th>mean</th>\n",
       "      <td>44.502455</td>\n",
       "      <td>29.083470</td>\n",
       "      <td>27.306056</td>\n",
       "      <td>41.839607</td>\n",
       "      <td>40.312602</td>\n",
       "      <td>43.206219</td>\n",
       "      <td>226.250409</td>\n",
       "    </tr>\n",
       "    <tr>\n",
       "      <th>std</th>\n",
       "      <td>32.924722</td>\n",
       "      <td>32.610939</td>\n",
       "      <td>25.760173</td>\n",
       "      <td>36.543849</td>\n",
       "      <td>34.539910</td>\n",
       "      <td>33.270329</td>\n",
       "      <td>167.324034</td>\n",
       "    </tr>\n",
       "    <tr>\n",
       "      <th>min</th>\n",
       "      <td>1.000000</td>\n",
       "      <td>1.000000</td>\n",
       "      <td>1.000000</td>\n",
       "      <td>1.000000</td>\n",
       "      <td>0.000000</td>\n",
       "      <td>1.000000</td>\n",
       "      <td>5.000000</td>\n",
       "    </tr>\n",
       "    <tr>\n",
       "      <th>25%</th>\n",
       "      <td>1.000000</td>\n",
       "      <td>1.000000</td>\n",
       "      <td>1.000000</td>\n",
       "      <td>1.000000</td>\n",
       "      <td>0.000000</td>\n",
       "      <td>1.000000</td>\n",
       "      <td>5.000000</td>\n",
       "    </tr>\n",
       "    <tr>\n",
       "      <th>50%</th>\n",
       "      <td>50.000000</td>\n",
       "      <td>10.000000</td>\n",
       "      <td>23.000000</td>\n",
       "      <td>32.000000</td>\n",
       "      <td>37.000000</td>\n",
       "      <td>50.000000</td>\n",
       "      <td>255.000000</td>\n",
       "    </tr>\n",
       "    <tr>\n",
       "      <th>75%</th>\n",
       "      <td>75.000000</td>\n",
       "      <td>53.000000</td>\n",
       "      <td>42.000000</td>\n",
       "      <td>80.000000</td>\n",
       "      <td>67.000000</td>\n",
       "      <td>70.000000</td>\n",
       "      <td>351.500000</td>\n",
       "    </tr>\n",
       "    <tr>\n",
       "      <th>max</th>\n",
       "      <td>113.000000</td>\n",
       "      <td>100.000000</td>\n",
       "      <td>100.000000</td>\n",
       "      <td>120.000000</td>\n",
       "      <td>100.000000</td>\n",
       "      <td>101.000000</td>\n",
       "      <td>581.000000</td>\n",
       "    </tr>\n",
       "  </tbody>\n",
       "</table>\n",
       "</div>"
      ],
      "text/plain": [
       "       Intelligence    Strength       Speed  Durability       Power  \\\n",
       "count    611.000000  611.000000  611.000000  611.000000  611.000000   \n",
       "mean      44.502455   29.083470   27.306056   41.839607   40.312602   \n",
       "std       32.924722   32.610939   25.760173   36.543849   34.539910   \n",
       "min        1.000000    1.000000    1.000000    1.000000    0.000000   \n",
       "25%        1.000000    1.000000    1.000000    1.000000    0.000000   \n",
       "50%       50.000000   10.000000   23.000000   32.000000   37.000000   \n",
       "75%       75.000000   53.000000   42.000000   80.000000   67.000000   \n",
       "max      113.000000  100.000000  100.000000  120.000000  100.000000   \n",
       "\n",
       "           Combat       Total  \n",
       "count  611.000000  611.000000  \n",
       "mean    43.206219  226.250409  \n",
       "std     33.270329  167.324034  \n",
       "min      1.000000    5.000000  \n",
       "25%      1.000000    5.000000  \n",
       "50%     50.000000  255.000000  \n",
       "75%     70.000000  351.500000  \n",
       "max    101.000000  581.000000  "
      ]
     },
     "execution_count": 7,
     "metadata": {},
     "output_type": "execute_result"
    }
   ],
   "source": [
    "abengers_df.describe()"
   ]
  },
  {
   "cell_type": "code",
   "execution_count": 8,
   "id": "fde5a068",
   "metadata": {},
   "outputs": [
    {
     "data": {
      "text/plain": [
       "Name            0\n",
       "Alignment       3\n",
       "Intelligence    0\n",
       "Strength        0\n",
       "Speed           0\n",
       "Durability      0\n",
       "Power           0\n",
       "Combat          0\n",
       "Total           0\n",
       "dtype: int64"
      ]
     },
     "execution_count": 8,
     "metadata": {},
     "output_type": "execute_result"
    }
   ],
   "source": [
    "abengers_df.isnull().sum()"
   ]
  },
  {
   "cell_type": "markdown",
   "id": "412645db",
   "metadata": {},
   "source": [
    "### 1. 수치의 합이 가장 큰 캐릭터\n",
    "- 'Total = Inteligence + Strngth + Speed + Durability + Power + Combat'인지 확인해본다..\n",
    "    - 아래에서 행별로 Inteligence ~ Combat까지의 합계를 구하고 이 값이 Total과 동일하지 않은 행이 있는지 확인해보았지만 아무것도 나오지 않았다.\n",
    "    - 즉, 모든 행이 'Total = Inteligence + Strngth + Speed + Durability + Power + Combat'을 만족한다.\n",
    "  \n",
    "수치의 합이 가장 큰 캐릭터는 **'Martian Manhunter'** 입니다."
   ]
  },
  {
   "cell_type": "code",
   "execution_count": 18,
   "id": "b1b5b4f9",
   "metadata": {},
   "outputs": [
    {
     "data": {
      "text/html": [
       "<div>\n",
       "<style scoped>\n",
       "    .dataframe tbody tr th:only-of-type {\n",
       "        vertical-align: middle;\n",
       "    }\n",
       "\n",
       "    .dataframe tbody tr th {\n",
       "        vertical-align: top;\n",
       "    }\n",
       "\n",
       "    .dataframe thead th {\n",
       "        text-align: right;\n",
       "    }\n",
       "</style>\n",
       "<table border=\"1\" class=\"dataframe\">\n",
       "  <thead>\n",
       "    <tr style=\"text-align: right;\">\n",
       "      <th></th>\n",
       "      <th>Name</th>\n",
       "      <th>Alignment</th>\n",
       "      <th>Intelligence</th>\n",
       "      <th>Strength</th>\n",
       "      <th>Speed</th>\n",
       "      <th>Durability</th>\n",
       "      <th>Power</th>\n",
       "      <th>Combat</th>\n",
       "      <th>Total</th>\n",
       "    </tr>\n",
       "  </thead>\n",
       "  <tbody>\n",
       "  </tbody>\n",
       "</table>\n",
       "</div>"
      ],
      "text/plain": [
       "Empty DataFrame\n",
       "Columns: [Name, Alignment, Intelligence, Strength, Speed, Durability, Power, Combat, Total]\n",
       "Index: []"
      ]
     },
     "execution_count": 18,
     "metadata": {},
     "output_type": "execute_result"
    }
   ],
   "source": [
    "# Total이 'Inteligence + Strngth + Speed + Durability + Power + Combat' 각 수치의 합이 맞는지 확인하는 과정\n",
    "# Total과 다른 값이 나오면 결과값이 보이게 했으나 아무것도 나오지 않았다.\n",
    "abengers_df[abengers_df.iloc[:,2:-1].sum(axis=1) != abengers_df['Total']]"
   ]
  },
  {
   "cell_type": "code",
   "execution_count": 20,
   "id": "5524dfcc",
   "metadata": {},
   "outputs": [
    {
     "data": {
      "text/html": [
       "<div>\n",
       "<style scoped>\n",
       "    .dataframe tbody tr th:only-of-type {\n",
       "        vertical-align: middle;\n",
       "    }\n",
       "\n",
       "    .dataframe tbody tr th {\n",
       "        vertical-align: top;\n",
       "    }\n",
       "\n",
       "    .dataframe thead th {\n",
       "        text-align: right;\n",
       "    }\n",
       "</style>\n",
       "<table border=\"1\" class=\"dataframe\">\n",
       "  <thead>\n",
       "    <tr style=\"text-align: right;\">\n",
       "      <th></th>\n",
       "      <th>Name</th>\n",
       "      <th>Alignment</th>\n",
       "      <th>Intelligence</th>\n",
       "      <th>Strength</th>\n",
       "      <th>Speed</th>\n",
       "      <th>Durability</th>\n",
       "      <th>Power</th>\n",
       "      <th>Combat</th>\n",
       "      <th>Total</th>\n",
       "    </tr>\n",
       "  </thead>\n",
       "  <tbody>\n",
       "    <tr>\n",
       "      <th>361</th>\n",
       "      <td>Martian Manhunter</td>\n",
       "      <td>good</td>\n",
       "      <td>100</td>\n",
       "      <td>100</td>\n",
       "      <td>96</td>\n",
       "      <td>100</td>\n",
       "      <td>100</td>\n",
       "      <td>85</td>\n",
       "      <td>581</td>\n",
       "    </tr>\n",
       "  </tbody>\n",
       "</table>\n",
       "</div>"
      ],
      "text/plain": [
       "                  Name Alignment  Intelligence  Strength  Speed  Durability  \\\n",
       "361  Martian Manhunter      good           100       100     96         100   \n",
       "\n",
       "     Power  Combat  Total  \n",
       "361    100      85    581  "
      ]
     },
     "execution_count": 20,
     "metadata": {},
     "output_type": "execute_result"
    }
   ],
   "source": [
    "abengers_df[abengers_df['Total']==abengers_df['Total'].max()]"
   ]
  },
  {
   "cell_type": "markdown",
   "id": "d312bda7",
   "metadata": {},
   "source": [
    "### 2. 좋은 캐릭터와 나쁜 캐릭터의 능력치들의 수치 분포\n",
    "- 위에서 살펴봤을 때, Alignment에 3개의 결측치가 있다.\n",
    "    - 캐릭터의 좋고 나쁨을 판단할 수 없기 때문에 결측치는 채우지 않고 제거한다.\n",
    "- countplot -> 좋은 캐릭터가 나쁜 캐릭터보다 훨씬 많다.\n",
    "- kdeplot -> 전체 능력치가 200~400 중간 정도 되는 캐릭터는 좋은 캐릭터가 더 많다. 하지만 능력치가 400을 넘어가면 오히려 나쁜 캐릭터가 더 밀집해있다.\n",
    "- swarmplot -> 좀 더 어떻게 분포되어 있는지 확인할 수 있었다."
   ]
  },
  {
   "cell_type": "code",
   "execution_count": 24,
   "id": "f06df04b",
   "metadata": {},
   "outputs": [
    {
     "data": {
      "text/plain": [
       "Name            608\n",
       "Alignment       608\n",
       "Intelligence    608\n",
       "Strength        608\n",
       "Speed           608\n",
       "Durability      608\n",
       "Power           608\n",
       "Combat          608\n",
       "Total           608\n",
       "dtype: int64"
      ]
     },
     "execution_count": 24,
     "metadata": {},
     "output_type": "execute_result"
    }
   ],
   "source": [
    "# 결측치 제거 함수 .dropna() 사용\n",
    "# Alignment에 결측치가 있다면 그 행을 제거하겠다.\n",
    "abengers_df = abengers_df.dropna(subset=['Alignment'])\n",
    "abengers_df.count()"
   ]
  },
  {
   "cell_type": "code",
   "execution_count": 28,
   "id": "34c62b1a",
   "metadata": {},
   "outputs": [
    {
     "data": {
      "text/plain": [
       "good       432\n",
       "bad        165\n",
       "neutral     11\n",
       "Name: Alignment, dtype: int64"
      ]
     },
     "execution_count": 28,
     "metadata": {},
     "output_type": "execute_result"
    }
   ],
   "source": [
    "# Alignment 각 요소들의 인원수는?\n",
    "\n",
    "abengers_df['Alignment'].value_counts()"
   ]
  },
  {
   "cell_type": "code",
   "execution_count": 29,
   "id": "8166ea93",
   "metadata": {},
   "outputs": [
    {
     "data": {
      "image/png": "[encoded data removed]",
      "text/plain": [
       "<Figure size 432x288 with 1 Axes>"
      ]
     },
     "metadata": {
      "needs_background": "light"
     },
     "output_type": "display_data"
    }
   ],
   "source": [
    "sns.countplot(x='Alignment', data=abengers_df)\n",
    "plt.show()"
   ]
  },
  {
   "cell_type": "code",
   "execution_count": 31,
   "id": "ade65958",
   "metadata": {},
   "outputs": [
    {
     "data": {
      "image/png": "[encoded data removed]",
      "text/plain": [
       "<Figure size 720x360 with 1 Axes>"
      ]
     },
     "metadata": {
      "needs_background": "light"
     },
     "output_type": "display_data"
    }
   ],
   "source": [
    "#\n",
    "\n",
    "fig, ax = plt.subplots(1,1,figsize=(10, 5))\n",
    "sns.kdeplot(x=abengers_df[abengers_df.Alignment=='good']['Total'], ax=ax)\n",
    "sns.kdeplot(x=abengers_df[abengers_df.Alignment=='bad']['Total'], ax=ax)\n",
    "\n",
    "plt.legend(['good','bad'])\n",
    "\n",
    "plt.show()"
   ]
  },
  {
   "cell_type": "code",
   "execution_count": 35,
   "id": "1caae686",
   "metadata": {
    "scrolled": true
   },
   "outputs": [
    {
     "name": "stderr",
     "output_type": "stream",
     "text": [
      "c:\\users\\jys96\\appdata\\local\\programs\\python\\python36\\lib\\site-packages\\seaborn\\categorical.py:1296: UserWarning: 29.9% of the points cannot be placed; you may want to decrease the size of the markers or use stripplot.\n",
      "  warnings.warn(msg, UserWarning)\n",
      "c:\\users\\jys96\\appdata\\local\\programs\\python\\python36\\lib\\site-packages\\seaborn\\categorical.py:1296: UserWarning: 15.8% of the points cannot be placed; you may want to decrease the size of the markers or use stripplot.\n",
      "  warnings.warn(msg, UserWarning)\n"
     ]
    },
    {
     "data": {
      "image/png": "[encoded data removed]",
      "text/plain": [
       "<Figure size 432x288 with 1 Axes>"
      ]
     },
     "metadata": {
      "needs_background": "light"
     },
     "output_type": "display_data"
    }
   ],
   "source": [
    "s = sns.swarmplot(x='Alignment',y='Total',data=abengers_df)\n",
    "plt.show()"
   ]
  },
  {
   "cell_type": "code",
   "execution_count": null,
   "id": "356986eb",
   "metadata": {},
   "outputs": [],
   "source": []
  }
 ],
 "metadata": {
  "kernelspec": {
   "display_name": "Python 3",
   "language": "python",
   "name": "python3"
  },
  "language_info": {
   "codemirror_mode": {
    "name": "ipython",
    "version": 3
   },
   "file_extension": ".py",
   "mimetype": "text/x-python",
   "name": "python",
   "nbconvert_exporter": "python",
   "pygments_lexer": "ipython3",
   "version": "3.6.6"
  }
 },
 "nbformat": 4,
 "nbformat_minor": 5
}
