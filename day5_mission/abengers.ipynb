{
 "cells": [
  {
   "cell_type": "markdown",
   "id": "1574101d",
   "metadata": {},
   "source": [
    "# Core Mission\n",
    "## 1. 캐릭터 능력 수치의 합이 가장 큰 캐릭터는?"
   ]
  },
  {
   "cell_type": "code",
   "execution_count": 1,
   "id": "4fc08659",
   "metadata": {},
   "outputs": [],
   "source": [
    "import numpy as np\n",
    "import pandas as pd\n",
    "import seaborn as sns\n",
    "import matplotlib.pyplot as plt\n",
    "\n",
    "%matplotlib inline"
   ]
  },
  {
   "cell_type": "code",
   "execution_count": 2,
   "id": "e5224ec4",
   "metadata": {},
   "outputs": [
    {
     "data": {
      "text/html": [
       "<div>\n",
       "<style scoped>\n",
       "    .dataframe tbody tr th:only-of-type {\n",
       "        vertical-align: middle;\n",
       "    }\n",
       "\n",
       "    .dataframe tbody tr th {\n",
       "        vertical-align: top;\n",
       "    }\n",
       "\n",
       "    .dataframe thead th {\n",
       "        text-align: right;\n",
       "    }\n",
       "</style>\n",
       "<table border=\"1\" class=\"dataframe\">\n",
       "  <thead>\n",
       "    <tr style=\"text-align: right;\">\n",
       "      <th></th>\n",
       "      <th>Name</th>\n",
       "      <th>Alignment</th>\n",
       "      <th>Intelligence</th>\n",
       "      <th>Strength</th>\n",
       "      <th>Speed</th>\n",
       "      <th>Durability</th>\n",
       "      <th>Power</th>\n",
       "      <th>Combat</th>\n",
       "      <th>Total</th>\n",
       "    </tr>\n",
       "  </thead>\n",
       "  <tbody>\n",
       "    <tr>\n",
       "      <th>0</th>\n",
       "      <td>3-D Man</td>\n",
       "      <td>good</td>\n",
       "      <td>50</td>\n",
       "      <td>31</td>\n",
       "      <td>43</td>\n",
       "      <td>32</td>\n",
       "      <td>25</td>\n",
       "      <td>52</td>\n",
       "      <td>233</td>\n",
       "    </tr>\n",
       "    <tr>\n",
       "      <th>1</th>\n",
       "      <td>A-Bomb</td>\n",
       "      <td>good</td>\n",
       "      <td>38</td>\n",
       "      <td>100</td>\n",
       "      <td>17</td>\n",
       "      <td>80</td>\n",
       "      <td>17</td>\n",
       "      <td>64</td>\n",
       "      <td>316</td>\n",
       "    </tr>\n",
       "    <tr>\n",
       "      <th>2</th>\n",
       "      <td>Abe Sapien</td>\n",
       "      <td>good</td>\n",
       "      <td>88</td>\n",
       "      <td>14</td>\n",
       "      <td>35</td>\n",
       "      <td>42</td>\n",
       "      <td>35</td>\n",
       "      <td>85</td>\n",
       "      <td>299</td>\n",
       "    </tr>\n",
       "    <tr>\n",
       "      <th>3</th>\n",
       "      <td>Abin Sur</td>\n",
       "      <td>good</td>\n",
       "      <td>50</td>\n",
       "      <td>90</td>\n",
       "      <td>53</td>\n",
       "      <td>64</td>\n",
       "      <td>84</td>\n",
       "      <td>65</td>\n",
       "      <td>406</td>\n",
       "    </tr>\n",
       "    <tr>\n",
       "      <th>4</th>\n",
       "      <td>Abomination</td>\n",
       "      <td>bad</td>\n",
       "      <td>63</td>\n",
       "      <td>80</td>\n",
       "      <td>53</td>\n",
       "      <td>90</td>\n",
       "      <td>55</td>\n",
       "      <td>95</td>\n",
       "      <td>436</td>\n",
       "    </tr>\n",
       "  </tbody>\n",
       "</table>\n",
       "</div>"
      ],
      "text/plain": [
       "          Name Alignment  Intelligence  Strength  Speed  Durability  Power  \\\n",
       "0      3-D Man      good            50        31     43          32     25   \n",
       "1       A-Bomb      good            38       100     17          80     17   \n",
       "2   Abe Sapien      good            88        14     35          42     35   \n",
       "3     Abin Sur      good            50        90     53          64     84   \n",
       "4  Abomination       bad            63        80     53          90     55   \n",
       "\n",
       "   Combat  Total  \n",
       "0      52    233  \n",
       "1      64    316  \n",
       "2      85    299  \n",
       "3      65    406  \n",
       "4      95    436  "
      ]
     },
     "execution_count": 2,
     "metadata": {},
     "output_type": "execute_result"
    }
   ],
   "source": [
    "df = pd.read_csv('./charcters_stats.csv')\n",
    "df.head()"
   ]
  },
  {
   "cell_type": "code",
   "execution_count": 3,
   "id": "88f619c1",
   "metadata": {},
   "outputs": [
    {
     "data": {
      "text/html": [
       "<div>\n",
       "<style scoped>\n",
       "    .dataframe tbody tr th:only-of-type {\n",
       "        vertical-align: middle;\n",
       "    }\n",
       "\n",
       "    .dataframe tbody tr th {\n",
       "        vertical-align: top;\n",
       "    }\n",
       "\n",
       "    .dataframe thead th {\n",
       "        text-align: right;\n",
       "    }\n",
       "</style>\n",
       "<table border=\"1\" class=\"dataframe\">\n",
       "  <thead>\n",
       "    <tr style=\"text-align: right;\">\n",
       "      <th></th>\n",
       "      <th>Intelligence</th>\n",
       "      <th>Strength</th>\n",
       "      <th>Speed</th>\n",
       "      <th>Durability</th>\n",
       "      <th>Power</th>\n",
       "      <th>Combat</th>\n",
       "      <th>Total</th>\n",
       "    </tr>\n",
       "  </thead>\n",
       "  <tbody>\n",
       "    <tr>\n",
       "      <th>count</th>\n",
       "      <td>611.000000</td>\n",
       "      <td>611.000000</td>\n",
       "      <td>611.000000</td>\n",
       "      <td>611.000000</td>\n",
       "      <td>611.000000</td>\n",
       "      <td>611.000000</td>\n",
       "      <td>611.000000</td>\n",
       "    </tr>\n",
       "    <tr>\n",
       "      <th>mean</th>\n",
       "      <td>44.502455</td>\n",
       "      <td>29.083470</td>\n",
       "      <td>27.306056</td>\n",
       "      <td>41.839607</td>\n",
       "      <td>40.312602</td>\n",
       "      <td>43.206219</td>\n",
       "      <td>226.250409</td>\n",
       "    </tr>\n",
       "    <tr>\n",
       "      <th>std</th>\n",
       "      <td>32.924722</td>\n",
       "      <td>32.610939</td>\n",
       "      <td>25.760173</td>\n",
       "      <td>36.543849</td>\n",
       "      <td>34.539910</td>\n",
       "      <td>33.270329</td>\n",
       "      <td>167.324034</td>\n",
       "    </tr>\n",
       "    <tr>\n",
       "      <th>min</th>\n",
       "      <td>1.000000</td>\n",
       "      <td>1.000000</td>\n",
       "      <td>1.000000</td>\n",
       "      <td>1.000000</td>\n",
       "      <td>0.000000</td>\n",
       "      <td>1.000000</td>\n",
       "      <td>5.000000</td>\n",
       "    </tr>\n",
       "    <tr>\n",
       "      <th>25%</th>\n",
       "      <td>1.000000</td>\n",
       "      <td>1.000000</td>\n",
       "      <td>1.000000</td>\n",
       "      <td>1.000000</td>\n",
       "      <td>0.000000</td>\n",
       "      <td>1.000000</td>\n",
       "      <td>5.000000</td>\n",
       "    </tr>\n",
       "    <tr>\n",
       "      <th>50%</th>\n",
       "      <td>50.000000</td>\n",
       "      <td>10.000000</td>\n",
       "      <td>23.000000</td>\n",
       "      <td>32.000000</td>\n",
       "      <td>37.000000</td>\n",
       "      <td>50.000000</td>\n",
       "      <td>255.000000</td>\n",
       "    </tr>\n",
       "    <tr>\n",
       "      <th>75%</th>\n",
       "      <td>75.000000</td>\n",
       "      <td>53.000000</td>\n",
       "      <td>42.000000</td>\n",
       "      <td>80.000000</td>\n",
       "      <td>67.000000</td>\n",
       "      <td>70.000000</td>\n",
       "      <td>351.500000</td>\n",
       "    </tr>\n",
       "    <tr>\n",
       "      <th>max</th>\n",
       "      <td>113.000000</td>\n",
       "      <td>100.000000</td>\n",
       "      <td>100.000000</td>\n",
       "      <td>120.000000</td>\n",
       "      <td>100.000000</td>\n",
       "      <td>101.000000</td>\n",
       "      <td>581.000000</td>\n",
       "    </tr>\n",
       "  </tbody>\n",
       "</table>\n",
       "</div>"
      ],
      "text/plain": [
       "       Intelligence    Strength       Speed  Durability       Power  \\\n",
       "count    611.000000  611.000000  611.000000  611.000000  611.000000   \n",
       "mean      44.502455   29.083470   27.306056   41.839607   40.312602   \n",
       "std       32.924722   32.610939   25.760173   36.543849   34.539910   \n",
       "min        1.000000    1.000000    1.000000    1.000000    0.000000   \n",
       "25%        1.000000    1.000000    1.000000    1.000000    0.000000   \n",
       "50%       50.000000   10.000000   23.000000   32.000000   37.000000   \n",
       "75%       75.000000   53.000000   42.000000   80.000000   67.000000   \n",
       "max      113.000000  100.000000  100.000000  120.000000  100.000000   \n",
       "\n",
       "           Combat       Total  \n",
       "count  611.000000  611.000000  \n",
       "mean    43.206219  226.250409  \n",
       "std     33.270329  167.324034  \n",
       "min      1.000000    5.000000  \n",
       "25%      1.000000    5.000000  \n",
       "50%     50.000000  255.000000  \n",
       "75%     70.000000  351.500000  \n",
       "max    101.000000  581.000000  "
      ]
     },
     "execution_count": 3,
     "metadata": {},
     "output_type": "execute_result"
    }
   ],
   "source": [
    "df.describe()"
   ]
  },
  {
   "cell_type": "code",
   "execution_count": 4,
   "id": "7668991d",
   "metadata": {},
   "outputs": [
    {
     "data": {
      "text/html": [
       "<div>\n",
       "<style scoped>\n",
       "    .dataframe tbody tr th:only-of-type {\n",
       "        vertical-align: middle;\n",
       "    }\n",
       "\n",
       "    .dataframe tbody tr th {\n",
       "        vertical-align: top;\n",
       "    }\n",
       "\n",
       "    .dataframe thead th {\n",
       "        text-align: right;\n",
       "    }\n",
       "</style>\n",
       "<table border=\"1\" class=\"dataframe\">\n",
       "  <thead>\n",
       "    <tr style=\"text-align: right;\">\n",
       "      <th></th>\n",
       "      <th>Intelligence</th>\n",
       "      <th>Strength</th>\n",
       "      <th>Speed</th>\n",
       "      <th>Durability</th>\n",
       "      <th>Power</th>\n",
       "      <th>Combat</th>\n",
       "      <th>Total</th>\n",
       "    </tr>\n",
       "  </thead>\n",
       "  <tbody>\n",
       "    <tr>\n",
       "      <th>Intelligence</th>\n",
       "      <td>1.000000</td>\n",
       "      <td>0.565508</td>\n",
       "      <td>0.619845</td>\n",
       "      <td>0.683933</td>\n",
       "      <td>0.720550</td>\n",
       "      <td>0.783679</td>\n",
       "      <td>0.856352</td>\n",
       "    </tr>\n",
       "    <tr>\n",
       "      <th>Strength</th>\n",
       "      <td>0.565508</td>\n",
       "      <td>1.000000</td>\n",
       "      <td>0.640657</td>\n",
       "      <td>0.793649</td>\n",
       "      <td>0.639829</td>\n",
       "      <td>0.575045</td>\n",
       "      <td>0.824557</td>\n",
       "    </tr>\n",
       "    <tr>\n",
       "      <th>Speed</th>\n",
       "      <td>0.619845</td>\n",
       "      <td>0.640657</td>\n",
       "      <td>1.000000</td>\n",
       "      <td>0.704255</td>\n",
       "      <td>0.683467</td>\n",
       "      <td>0.594568</td>\n",
       "      <td>0.813902</td>\n",
       "    </tr>\n",
       "    <tr>\n",
       "      <th>Durability</th>\n",
       "      <td>0.683933</td>\n",
       "      <td>0.793649</td>\n",
       "      <td>0.704255</td>\n",
       "      <td>1.000000</td>\n",
       "      <td>0.756840</td>\n",
       "      <td>0.679583</td>\n",
       "      <td>0.907441</td>\n",
       "    </tr>\n",
       "    <tr>\n",
       "      <th>Power</th>\n",
       "      <td>0.720550</td>\n",
       "      <td>0.639829</td>\n",
       "      <td>0.683467</td>\n",
       "      <td>0.756840</td>\n",
       "      <td>1.000000</td>\n",
       "      <td>0.653452</td>\n",
       "      <td>0.873359</td>\n",
       "    </tr>\n",
       "    <tr>\n",
       "      <th>Combat</th>\n",
       "      <td>0.783679</td>\n",
       "      <td>0.575045</td>\n",
       "      <td>0.594568</td>\n",
       "      <td>0.679583</td>\n",
       "      <td>0.653452</td>\n",
       "      <td>1.000000</td>\n",
       "      <td>0.839966</td>\n",
       "    </tr>\n",
       "    <tr>\n",
       "      <th>Total</th>\n",
       "      <td>0.856352</td>\n",
       "      <td>0.824557</td>\n",
       "      <td>0.813902</td>\n",
       "      <td>0.907441</td>\n",
       "      <td>0.873359</td>\n",
       "      <td>0.839966</td>\n",
       "      <td>1.000000</td>\n",
       "    </tr>\n",
       "  </tbody>\n",
       "</table>\n",
       "</div>"
      ],
      "text/plain": [
       "              Intelligence  Strength     Speed  Durability     Power  \\\n",
       "Intelligence      1.000000  0.565508  0.619845    0.683933  0.720550   \n",
       "Strength          0.565508  1.000000  0.640657    0.793649  0.639829   \n",
       "Speed             0.619845  0.640657  1.000000    0.704255  0.683467   \n",
       "Durability        0.683933  0.793649  0.704255    1.000000  0.756840   \n",
       "Power             0.720550  0.639829  0.683467    0.756840  1.000000   \n",
       "Combat            0.783679  0.575045  0.594568    0.679583  0.653452   \n",
       "Total             0.856352  0.824557  0.813902    0.907441  0.873359   \n",
       "\n",
       "                Combat     Total  \n",
       "Intelligence  0.783679  0.856352  \n",
       "Strength      0.575045  0.824557  \n",
       "Speed         0.594568  0.813902  \n",
       "Durability    0.679583  0.907441  \n",
       "Power         0.653452  0.873359  \n",
       "Combat        1.000000  0.839966  \n",
       "Total         0.839966  1.000000  "
      ]
     },
     "execution_count": 4,
     "metadata": {},
     "output_type": "execute_result"
    }
   ],
   "source": [
    "df.corr()"
   ]
  },
  {
   "cell_type": "code",
   "execution_count": 5,
   "id": "cab93a7b",
   "metadata": {},
   "outputs": [
    {
     "data": {
      "text/plain": [
       "Name            0\n",
       "Alignment       3\n",
       "Intelligence    0\n",
       "Strength        0\n",
       "Speed           0\n",
       "Durability      0\n",
       "Power           0\n",
       "Combat          0\n",
       "Total           0\n",
       "dtype: int64"
      ]
     },
     "execution_count": 5,
     "metadata": {},
     "output_type": "execute_result"
    }
   ],
   "source": [
    "df.isnull().sum()"
   ]
  },
  {
   "cell_type": "markdown",
   "id": "b19aa73b",
   "metadata": {},
   "source": [
    "### Total이 수치의 합을 나타내므로 total값이 최대치인 행의 Name"
   ]
  },
  {
   "cell_type": "code",
   "execution_count": 16,
   "id": "f04806ae",
   "metadata": {},
   "outputs": [
    {
     "data": {
      "text/plain": [
       "361    Martian Manhunter\n",
       "Name: Name, dtype: object"
      ]
     },
     "execution_count": 16,
     "metadata": {},
     "output_type": "execute_result"
    }
   ],
   "source": [
    "df[df['Total']==df['Total'].max()].Name"
   ]
  },
  {
   "cell_type": "markdown",
   "id": "0c2c983e",
   "metadata": {},
   "source": [
    "Matrian Manhunter(마션 맨헌터)가 수치의 합이 가장 큰 캐릭터이다. "
   ]
  },
  {
   "cell_type": "markdown",
   "id": "45f7f7e4",
   "metadata": {},
   "source": [
    "### 수치의 합이 높은 순서대로 top50 캐릭터 확인해보기"
   ]
  },
  {
   "cell_type": "code",
   "execution_count": 10,
   "id": "c019d409",
   "metadata": {},
   "outputs": [
    {
     "data": {
      "text/html": [
       "<div>\n",
       "<style scoped>\n",
       "    .dataframe tbody tr th:only-of-type {\n",
       "        vertical-align: middle;\n",
       "    }\n",
       "\n",
       "    .dataframe tbody tr th {\n",
       "        vertical-align: top;\n",
       "    }\n",
       "\n",
       "    .dataframe thead th {\n",
       "        text-align: right;\n",
       "    }\n",
       "</style>\n",
       "<table border=\"1\" class=\"dataframe\">\n",
       "  <thead>\n",
       "    <tr style=\"text-align: right;\">\n",
       "      <th></th>\n",
       "      <th>Name</th>\n",
       "      <th>Total</th>\n",
       "    </tr>\n",
       "  </thead>\n",
       "  <tbody>\n",
       "    <tr>\n",
       "      <th>361</th>\n",
       "      <td>Martian Manhunter</td>\n",
       "      <td>581</td>\n",
       "    </tr>\n",
       "    <tr>\n",
       "      <th>242</th>\n",
       "      <td>General Zod</td>\n",
       "      <td>579</td>\n",
       "    </tr>\n",
       "    <tr>\n",
       "      <th>535</th>\n",
       "      <td>Superboy-Prime</td>\n",
       "      <td>579</td>\n",
       "    </tr>\n",
       "    <tr>\n",
       "      <th>537</th>\n",
       "      <td>Superman</td>\n",
       "      <td>579</td>\n",
       "    </tr>\n",
       "    <tr>\n",
       "      <th>16</th>\n",
       "      <td>Amazo</td>\n",
       "      <td>575</td>\n",
       "    </tr>\n",
       "    <tr>\n",
       "      <th>525</th>\n",
       "      <td>Stardust</td>\n",
       "      <td>568</td>\n",
       "    </tr>\n",
       "    <tr>\n",
       "      <th>238</th>\n",
       "      <td>Galactus</td>\n",
       "      <td>553</td>\n",
       "    </tr>\n",
       "    <tr>\n",
       "      <th>82</th>\n",
       "      <td>Bizarro</td>\n",
       "      <td>550</td>\n",
       "    </tr>\n",
       "    <tr>\n",
       "      <th>203</th>\n",
       "      <td>Dormammu</td>\n",
       "      <td>546</td>\n",
       "    </tr>\n",
       "    <tr>\n",
       "      <th>546</th>\n",
       "      <td>Thor</td>\n",
       "      <td>546</td>\n",
       "    </tr>\n",
       "    <tr>\n",
       "      <th>201</th>\n",
       "      <td>Doomsday</td>\n",
       "      <td>545</td>\n",
       "    </tr>\n",
       "    <tr>\n",
       "      <th>536</th>\n",
       "      <td>Supergirl</td>\n",
       "      <td>544</td>\n",
       "    </tr>\n",
       "    <tr>\n",
       "      <th>171</th>\n",
       "      <td>Cyborg Superman</td>\n",
       "      <td>540</td>\n",
       "    </tr>\n",
       "    <tr>\n",
       "      <th>417</th>\n",
       "      <td>Nova</td>\n",
       "      <td>538</td>\n",
       "    </tr>\n",
       "    <tr>\n",
       "      <th>219</th>\n",
       "      <td>Faora</td>\n",
       "      <td>535</td>\n",
       "    </tr>\n",
       "    <tr>\n",
       "      <th>356</th>\n",
       "      <td>Magus</td>\n",
       "      <td>531</td>\n",
       "    </tr>\n",
       "    <tr>\n",
       "      <th>5</th>\n",
       "      <td>Abraxas</td>\n",
       "      <td>526</td>\n",
       "    </tr>\n",
       "    <tr>\n",
       "      <th>84</th>\n",
       "      <td>Black Adam</td>\n",
       "      <td>525</td>\n",
       "    </tr>\n",
       "    <tr>\n",
       "      <th>251</th>\n",
       "      <td>Goku</td>\n",
       "      <td>521</td>\n",
       "    </tr>\n",
       "    <tr>\n",
       "      <th>306</th>\n",
       "      <td>Jean Grey</td>\n",
       "      <td>517</td>\n",
       "    </tr>\n",
       "    <tr>\n",
       "      <th>433</th>\n",
       "      <td>Phoenix</td>\n",
       "      <td>517</td>\n",
       "    </tr>\n",
       "    <tr>\n",
       "      <th>218</th>\n",
       "      <td>Fallen One II</td>\n",
       "      <td>512</td>\n",
       "    </tr>\n",
       "    <tr>\n",
       "      <th>180</th>\n",
       "      <td>Darkseid</td>\n",
       "      <td>506</td>\n",
       "    </tr>\n",
       "    <tr>\n",
       "      <th>422</th>\n",
       "      <td>Onslaught</td>\n",
       "      <td>505</td>\n",
       "    </tr>\n",
       "    <tr>\n",
       "      <th>365</th>\n",
       "      <td>Match</td>\n",
       "      <td>498</td>\n",
       "    </tr>\n",
       "    <tr>\n",
       "      <th>26</th>\n",
       "      <td>Anti-Monitor</td>\n",
       "      <td>496</td>\n",
       "    </tr>\n",
       "    <tr>\n",
       "      <th>29</th>\n",
       "      <td>Apocalypse</td>\n",
       "      <td>493</td>\n",
       "    </tr>\n",
       "    <tr>\n",
       "      <th>589</th>\n",
       "      <td>Watcher</td>\n",
       "      <td>492</td>\n",
       "    </tr>\n",
       "    <tr>\n",
       "      <th>299</th>\n",
       "      <td>Iron Man</td>\n",
       "      <td>492</td>\n",
       "    </tr>\n",
       "    <tr>\n",
       "      <th>583</th>\n",
       "      <td>War Machine</td>\n",
       "      <td>491</td>\n",
       "    </tr>\n",
       "    <tr>\n",
       "      <th>438</th>\n",
       "      <td>Power Girl</td>\n",
       "      <td>490</td>\n",
       "    </tr>\n",
       "    <tr>\n",
       "      <th>534</th>\n",
       "      <td>Superboy</td>\n",
       "      <td>487</td>\n",
       "    </tr>\n",
       "    <tr>\n",
       "      <th>345</th>\n",
       "      <td>Lobo</td>\n",
       "      <td>486</td>\n",
       "    </tr>\n",
       "    <tr>\n",
       "      <th>542</th>\n",
       "      <td>Thanos</td>\n",
       "      <td>485</td>\n",
       "    </tr>\n",
       "    <tr>\n",
       "      <th>85</th>\n",
       "      <td>Black Bolt</td>\n",
       "      <td>482</td>\n",
       "    </tr>\n",
       "    <tr>\n",
       "      <th>547</th>\n",
       "      <td>Thor Girl</td>\n",
       "      <td>482</td>\n",
       "    </tr>\n",
       "    <tr>\n",
       "      <th>138</th>\n",
       "      <td>Captain Marvel</td>\n",
       "      <td>480</td>\n",
       "    </tr>\n",
       "    <tr>\n",
       "      <th>600</th>\n",
       "      <td>Wonder Woman</td>\n",
       "      <td>480</td>\n",
       "    </tr>\n",
       "    <tr>\n",
       "      <th>499</th>\n",
       "      <td>Silver Surfer</td>\n",
       "      <td>480</td>\n",
       "    </tr>\n",
       "    <tr>\n",
       "      <th>564</th>\n",
       "      <td>Ultron</td>\n",
       "      <td>477</td>\n",
       "    </tr>\n",
       "    <tr>\n",
       "      <th>511</th>\n",
       "      <td>Spawn</td>\n",
       "      <td>470</td>\n",
       "    </tr>\n",
       "    <tr>\n",
       "      <th>578</th>\n",
       "      <td>Vision</td>\n",
       "      <td>467</td>\n",
       "    </tr>\n",
       "    <tr>\n",
       "      <th>70</th>\n",
       "      <td>Beyonder</td>\n",
       "      <td>467</td>\n",
       "    </tr>\n",
       "    <tr>\n",
       "      <th>604</th>\n",
       "      <td>X-Man</td>\n",
       "      <td>465</td>\n",
       "    </tr>\n",
       "    <tr>\n",
       "      <th>585</th>\n",
       "      <td>Warlock</td>\n",
       "      <td>464</td>\n",
       "    </tr>\n",
       "    <tr>\n",
       "      <th>281</th>\n",
       "      <td>Hercules</td>\n",
       "      <td>461</td>\n",
       "    </tr>\n",
       "    <tr>\n",
       "      <th>288</th>\n",
       "      <td>Hulk</td>\n",
       "      <td>461</td>\n",
       "    </tr>\n",
       "    <tr>\n",
       "      <th>191</th>\n",
       "      <td>Destroyer</td>\n",
       "      <td>461</td>\n",
       "    </tr>\n",
       "    <tr>\n",
       "      <th>11</th>\n",
       "      <td>Air-Walker</td>\n",
       "      <td>460</td>\n",
       "    </tr>\n",
       "    <tr>\n",
       "      <th>147</th>\n",
       "      <td>Century</td>\n",
       "      <td>459</td>\n",
       "    </tr>\n",
       "  </tbody>\n",
       "</table>\n",
       "</div>"
      ],
      "text/plain": [
       "                  Name  Total\n",
       "361  Martian Manhunter    581\n",
       "242        General Zod    579\n",
       "535     Superboy-Prime    579\n",
       "537           Superman    579\n",
       "16               Amazo    575\n",
       "525           Stardust    568\n",
       "238           Galactus    553\n",
       "82             Bizarro    550\n",
       "203           Dormammu    546\n",
       "546               Thor    546\n",
       "201           Doomsday    545\n",
       "536          Supergirl    544\n",
       "171    Cyborg Superman    540\n",
       "417               Nova    538\n",
       "219              Faora    535\n",
       "356              Magus    531\n",
       "5              Abraxas    526\n",
       "84          Black Adam    525\n",
       "251               Goku    521\n",
       "306          Jean Grey    517\n",
       "433            Phoenix    517\n",
       "218      Fallen One II    512\n",
       "180           Darkseid    506\n",
       "422          Onslaught    505\n",
       "365              Match    498\n",
       "26        Anti-Monitor    496\n",
       "29          Apocalypse    493\n",
       "589            Watcher    492\n",
       "299           Iron Man    492\n",
       "583        War Machine    491\n",
       "438         Power Girl    490\n",
       "534           Superboy    487\n",
       "345               Lobo    486\n",
       "542             Thanos    485\n",
       "85          Black Bolt    482\n",
       "547          Thor Girl    482\n",
       "138     Captain Marvel    480\n",
       "600       Wonder Woman    480\n",
       "499      Silver Surfer    480\n",
       "564             Ultron    477\n",
       "511              Spawn    470\n",
       "578             Vision    467\n",
       "70            Beyonder    467\n",
       "604              X-Man    465\n",
       "585            Warlock    464\n",
       "281           Hercules    461\n",
       "288               Hulk    461\n",
       "191          Destroyer    461\n",
       "11          Air-Walker    460\n",
       "147            Century    459"
      ]
     },
     "execution_count": 10,
     "metadata": {},
     "output_type": "execute_result"
    }
   ],
   "source": [
    "top_hero = df[['Name','Total']].sort_values(by=['Total'], axis=0, ascending=False).head(50)\n",
    "top_hero"
   ]
  },
  {
   "cell_type": "markdown",
   "id": "cdca9922",
   "metadata": {},
   "source": [
    "## 2. 좋은 캐릭터와 나쁜 캐릭터들의 능력치 분포"
   ]
  },
  {
   "cell_type": "markdown",
   "id": "f4906570",
   "metadata": {},
   "source": [
    "### Intelligence"
   ]
  },
  {
   "cell_type": "code",
   "execution_count": 30,
   "id": "e4cd5960",
   "metadata": {},
   "outputs": [
    {
     "data": {
      "text/plain": [
       "<AxesSubplot:xlabel='Alignment', ylabel='Intelligence'>"
      ]
     },
     "execution_count": 30,
     "metadata": {},
     "output_type": "execute_result"
    },
    {
     "data": {
      "image/png": "[encoded data removed]",
      "text/plain": [
       "<Figure size 432x288 with 1 Axes>"
      ]
     },
     "metadata": {
      "needs_background": "light"
     },
     "output_type": "display_data"
    }
   ],
   "source": [
    "sns.barplot(data=df, x=\"Alignment\", y=\"Intelligence\")"
   ]
  },
  {
   "cell_type": "code",
   "execution_count": 40,
   "id": "c5660622",
   "metadata": {},
   "outputs": [
    {
     "data": {
      "text/plain": [
       "<AxesSubplot:xlabel='Alignment', ylabel='Intelligence'>"
      ]
     },
     "execution_count": 40,
     "metadata": {},
     "output_type": "execute_result"
    },
    {
     "data": {
      "image/png": "[encoded data removed]",
      "text/plain": [
       "<Figure size 432x288 with 1 Axes>"
      ]
     },
     "metadata": {
      "needs_background": "light"
     },
     "output_type": "display_data"
    }
   ],
   "source": [
    "sns.barplot(data=df[['Alignment', 'Intelligence']][(df['Alignment']=='good') | (df['Alignment']=='bad')], x=\"Alignment\", y=\"Intelligence\")"
   ]
  },
  {
   "cell_type": "markdown",
   "id": "5d8c7791",
   "metadata": {},
   "source": [
    "### Strength"
   ]
  },
  {
   "cell_type": "code",
   "execution_count": 41,
   "id": "66663e27",
   "metadata": {},
   "outputs": [
    {
     "data": {
      "text/plain": [
       "<AxesSubplot:xlabel='Alignment', ylabel='Strength'>"
      ]
     },
     "execution_count": 41,
     "metadata": {},
     "output_type": "execute_result"
    },
    {
     "data": {
      "image/png": "[encoded data removed]",
      "text/plain": [
       "<Figure size 432x288 with 1 Axes>"
      ]
     },
     "metadata": {
      "needs_background": "light"
     },
     "output_type": "display_data"
    }
   ],
   "source": [
    "sns.barplot(data=df[['Alignment', 'Strength']][(df['Alignment']=='good') | (df['Alignment']=='bad')], x=\"Alignment\", y=\"Strength\")"
   ]
  },
  {
   "cell_type": "markdown",
   "id": "d3f9c944",
   "metadata": {},
   "source": [
    "### Speed"
   ]
  },
  {
   "cell_type": "code",
   "execution_count": 42,
   "id": "1979e965",
   "metadata": {},
   "outputs": [
    {
     "data": {
      "text/plain": [
       "<AxesSubplot:xlabel='Alignment', ylabel='Speed'>"
      ]
     },
     "execution_count": 42,
     "metadata": {},
     "output_type": "execute_result"
    },
    {
     "data": {
      "image/png": "[encoded data removed]",
      "text/plain": [
       "<Figure size 432x288 with 1 Axes>"
      ]
     },
     "metadata": {
      "needs_background": "light"
     },
     "output_type": "display_data"
    }
   ],
   "source": [
    "sns.barplot(data=df[['Alignment', 'Speed']][(df['Alignment']=='good') | (df['Alignment']=='bad')], x=\"Alignment\", y=\"Speed\")"
   ]
  },
  {
   "cell_type": "markdown",
   "id": "fe140e74",
   "metadata": {},
   "source": [
    "### Durability"
   ]
  },
  {
   "cell_type": "code",
   "execution_count": 43,
   "id": "e7e153d8",
   "metadata": {},
   "outputs": [
    {
     "data": {
      "text/plain": [
       "<AxesSubplot:xlabel='Alignment', ylabel='Durability'>"
      ]
     },
     "execution_count": 43,
     "metadata": {},
     "output_type": "execute_result"
    },
    {
     "data": {
      "image/png": "[encoded data removed]",
      "text/plain": [
       "<Figure size 432x288 with 1 Axes>"
      ]
     },
     "metadata": {
      "needs_background": "light"
     },
     "output_type": "display_data"
    }
   ],
   "source": [
    "sns.barplot(data=df[['Alignment', 'Durability']][(df['Alignment']=='good') | (df['Alignment']=='bad')], x=\"Alignment\", y=\"Durability\")"
   ]
  },
  {
   "cell_type": "markdown",
   "id": "6b155840",
   "metadata": {},
   "source": [
    "### Power"
   ]
  },
  {
   "cell_type": "code",
   "execution_count": 45,
   "id": "b037edd7",
   "metadata": {},
   "outputs": [
    {
     "data": {
      "text/plain": [
       "<AxesSubplot:xlabel='Alignment', ylabel='Power'>"
      ]
     },
     "execution_count": 45,
     "metadata": {},
     "output_type": "execute_result"
    },
    {
     "data": {
      "image/png": "[encoded data removed]",
      "text/plain": [
       "<Figure size 432x288 with 1 Axes>"
      ]
     },
     "metadata": {
      "needs_background": "light"
     },
     "output_type": "display_data"
    }
   ],
   "source": [
    "sns.barplot(data=df[['Alignment', 'Power']][(df['Alignment']=='good') | (df['Alignment']=='bad')], x=\"Alignment\", y=\"Power\")"
   ]
  },
  {
   "cell_type": "markdown",
   "id": "a7029734",
   "metadata": {},
   "source": [
    "### Combat"
   ]
  },
  {
   "cell_type": "code",
   "execution_count": 46,
   "id": "0112d73c",
   "metadata": {},
   "outputs": [
    {
     "data": {
      "text/plain": [
       "<AxesSubplot:xlabel='Alignment', ylabel='Combat'>"
      ]
     },
     "execution_count": 46,
     "metadata": {},
     "output_type": "execute_result"
    },
    {
     "data": {
      "image/png": "[encoded data removed]",
      "text/plain": [
       "<Figure size 432x288 with 1 Axes>"
      ]
     },
     "metadata": {
      "needs_background": "light"
     },
     "output_type": "display_data"
    }
   ],
   "source": [
    "sns.barplot(data=df[['Alignment', 'Combat']][(df['Alignment']=='good') | (df['Alignment']=='bad')], x=\"Alignment\", y=\"Combat\")"
   ]
  },
  {
   "cell_type": "markdown",
   "id": "1f9e9b0e",
   "metadata": {},
   "source": [
    "=> 전체적으로 bad 진영 캐릭터들의 수치가 good진영 캐릭터들보다 높다는 것을 알 수 있다"
   ]
  },
  {
   "cell_type": "markdown",
   "id": "f1c986ee",
   "metadata": {},
   "source": [
    "분포도보다 평균을 비교한 내용이라 분포도를 그려서 비교하는 차트를 만들어봐할 것 같다..."
   ]
  },
  {
   "cell_type": "code",
   "execution_count": null,
   "id": "5bec0dd7",
   "metadata": {},
   "outputs": [],
   "source": []
  }
 ],
 "metadata": {
  "kernelspec": {
   "display_name": "Python 3",
   "language": "python",
   "name": "python3"
  },
  "language_info": {
   "codemirror_mode": {
    "name": "ipython",
    "version": 3
   },
   "file_extension": ".py",
   "mimetype": "text/x-python",
   "name": "python",
   "nbconvert_exporter": "python",
   "pygments_lexer": "ipython3",
   "version": "3.9.4"
  }
 },
 "nbformat": 4,
 "nbformat_minor": 5
}
