{
 "cells": [
  {
   "cell_type": "markdown",
   "id": "95b3dd26",
   "metadata": {},
   "source": [
    "# Mission 2. Abengers, Assemble!\n",
    "\n",
    "## Core Mission\n",
    "- 다음 질문에 답하시오.\n",
    "    - 캐릭터는 저마다 지능, 힘, ... 등 다양한 수치를 지니고 있다. 이러한 수치의 합이 가장 큰 캐릭터는 누구인가? 이를 보이기 위한 과정을 보여라.\n",
    "    - 좋은 캐릭터와 나쁜 캐릭터의 능력치들의 수치 분포를 알고 싶다. 이를 표현하기 위한 적절한 그래프를 선택해서 이를 위한 전처리를 진행하고, 시각화하여라."
   ]
  },
  {
   "cell_type": "code",
   "execution_count": 1,
   "id": "23f54f92",
   "metadata": {},
   "outputs": [],
   "source": [
    "import numpy as np\n",
    "import pandas as pd\n",
    "import matplotlib.pyplot as plt\n",
    "import seaborn as sns\n",
    "\n",
    "%matplotlib inline"
   ]
  },
  {
   "cell_type": "code",
   "execution_count": 2,
   "id": "2d5fb889",
   "metadata": {},
   "outputs": [
    {
     "data": {
      "text/html": [
       "<div>\n",
       "<style scoped>\n",
       "    .dataframe tbody tr th:only-of-type {\n",
       "        vertical-align: middle;\n",
       "    }\n",
       "\n",
       "    .dataframe tbody tr th {\n",
       "        vertical-align: top;\n",
       "    }\n",
       "\n",
       "    .dataframe thead th {\n",
       "        text-align: right;\n",
       "    }\n",
       "</style>\n",
       "<table border=\"1\" class=\"dataframe\">\n",
       "  <thead>\n",
       "    <tr style=\"text-align: right;\">\n",
       "      <th></th>\n",
       "      <th>Name</th>\n",
       "      <th>Alignment</th>\n",
       "      <th>Intelligence</th>\n",
       "      <th>Strength</th>\n",
       "      <th>Speed</th>\n",
       "      <th>Durability</th>\n",
       "      <th>Power</th>\n",
       "      <th>Combat</th>\n",
       "      <th>Total</th>\n",
       "    </tr>\n",
       "  </thead>\n",
       "  <tbody>\n",
       "    <tr>\n",
       "      <th>0</th>\n",
       "      <td>3-D Man</td>\n",
       "      <td>good</td>\n",
       "      <td>50</td>\n",
       "      <td>31</td>\n",
       "      <td>43</td>\n",
       "      <td>32</td>\n",
       "      <td>25</td>\n",
       "      <td>52</td>\n",
       "      <td>233</td>\n",
       "    </tr>\n",
       "    <tr>\n",
       "      <th>1</th>\n",
       "      <td>A-Bomb</td>\n",
       "      <td>good</td>\n",
       "      <td>38</td>\n",
       "      <td>100</td>\n",
       "      <td>17</td>\n",
       "      <td>80</td>\n",
       "      <td>17</td>\n",
       "      <td>64</td>\n",
       "      <td>316</td>\n",
       "    </tr>\n",
       "    <tr>\n",
       "      <th>2</th>\n",
       "      <td>Abe Sapien</td>\n",
       "      <td>good</td>\n",
       "      <td>88</td>\n",
       "      <td>14</td>\n",
       "      <td>35</td>\n",
       "      <td>42</td>\n",
       "      <td>35</td>\n",
       "      <td>85</td>\n",
       "      <td>299</td>\n",
       "    </tr>\n",
       "    <tr>\n",
       "      <th>3</th>\n",
       "      <td>Abin Sur</td>\n",
       "      <td>good</td>\n",
       "      <td>50</td>\n",
       "      <td>90</td>\n",
       "      <td>53</td>\n",
       "      <td>64</td>\n",
       "      <td>84</td>\n",
       "      <td>65</td>\n",
       "      <td>406</td>\n",
       "    </tr>\n",
       "    <tr>\n",
       "      <th>4</th>\n",
       "      <td>Abomination</td>\n",
       "      <td>bad</td>\n",
       "      <td>63</td>\n",
       "      <td>80</td>\n",
       "      <td>53</td>\n",
       "      <td>90</td>\n",
       "      <td>55</td>\n",
       "      <td>95</td>\n",
       "      <td>436</td>\n",
       "    </tr>\n",
       "    <tr>\n",
       "      <th>...</th>\n",
       "      <td>...</td>\n",
       "      <td>...</td>\n",
       "      <td>...</td>\n",
       "      <td>...</td>\n",
       "      <td>...</td>\n",
       "      <td>...</td>\n",
       "      <td>...</td>\n",
       "      <td>...</td>\n",
       "      <td>...</td>\n",
       "    </tr>\n",
       "    <tr>\n",
       "      <th>606</th>\n",
       "      <td>Yellowjacket</td>\n",
       "      <td>good</td>\n",
       "      <td>88</td>\n",
       "      <td>10</td>\n",
       "      <td>12</td>\n",
       "      <td>28</td>\n",
       "      <td>12</td>\n",
       "      <td>14</td>\n",
       "      <td>164</td>\n",
       "    </tr>\n",
       "    <tr>\n",
       "      <th>607</th>\n",
       "      <td>Yellowjacket II</td>\n",
       "      <td>good</td>\n",
       "      <td>50</td>\n",
       "      <td>10</td>\n",
       "      <td>35</td>\n",
       "      <td>28</td>\n",
       "      <td>31</td>\n",
       "      <td>28</td>\n",
       "      <td>182</td>\n",
       "    </tr>\n",
       "    <tr>\n",
       "      <th>608</th>\n",
       "      <td>Ymir</td>\n",
       "      <td>good</td>\n",
       "      <td>50</td>\n",
       "      <td>100</td>\n",
       "      <td>27</td>\n",
       "      <td>100</td>\n",
       "      <td>83</td>\n",
       "      <td>28</td>\n",
       "      <td>388</td>\n",
       "    </tr>\n",
       "    <tr>\n",
       "      <th>609</th>\n",
       "      <td>Zatanna</td>\n",
       "      <td>good</td>\n",
       "      <td>75</td>\n",
       "      <td>10</td>\n",
       "      <td>23</td>\n",
       "      <td>28</td>\n",
       "      <td>100</td>\n",
       "      <td>56</td>\n",
       "      <td>292</td>\n",
       "    </tr>\n",
       "    <tr>\n",
       "      <th>610</th>\n",
       "      <td>Zoom</td>\n",
       "      <td>bad</td>\n",
       "      <td>50</td>\n",
       "      <td>10</td>\n",
       "      <td>100</td>\n",
       "      <td>28</td>\n",
       "      <td>72</td>\n",
       "      <td>28</td>\n",
       "      <td>288</td>\n",
       "    </tr>\n",
       "  </tbody>\n",
       "</table>\n",
       "<p>611 rows × 9 columns</p>\n",
       "</div>"
      ],
      "text/plain": [
       "                Name Alignment  Intelligence  Strength  Speed  Durability  \\\n",
       "0            3-D Man      good            50        31     43          32   \n",
       "1             A-Bomb      good            38       100     17          80   \n",
       "2         Abe Sapien      good            88        14     35          42   \n",
       "3           Abin Sur      good            50        90     53          64   \n",
       "4        Abomination       bad            63        80     53          90   \n",
       "..               ...       ...           ...       ...    ...         ...   \n",
       "606     Yellowjacket      good            88        10     12          28   \n",
       "607  Yellowjacket II      good            50        10     35          28   \n",
       "608             Ymir      good            50       100     27         100   \n",
       "609          Zatanna      good            75        10     23          28   \n",
       "610             Zoom       bad            50        10    100          28   \n",
       "\n",
       "     Power  Combat  Total  \n",
       "0       25      52    233  \n",
       "1       17      64    316  \n",
       "2       35      85    299  \n",
       "3       84      65    406  \n",
       "4       55      95    436  \n",
       "..     ...     ...    ...  \n",
       "606     12      14    164  \n",
       "607     31      28    182  \n",
       "608     83      28    388  \n",
       "609    100      56    292  \n",
       "610     72      28    288  \n",
       "\n",
       "[611 rows x 9 columns]"
      ]
     },
     "execution_count": 2,
     "metadata": {},
     "output_type": "execute_result"
    }
   ],
   "source": [
    "stat_df = pd.read_csv(\"./charcters_stats.csv\")\n",
    "\n",
    "stat_df"
   ]
  },
  {
   "cell_type": "markdown",
   "id": "3570808b",
   "metadata": {},
   "source": [
    "### 능력치수치의 합이 가장 큰 캐릭터\n",
    "- 능력치 Alignment, Intelligence, Strength, Speed, Durability, Power, Combat들의 합인 Total이 이미 존재\n",
    "    - Total이 가장 큰 캐릭터를 찾으면 됨"
   ]
  },
  {
   "cell_type": "code",
   "execution_count": 11,
   "id": "1be523f6",
   "metadata": {},
   "outputs": [
    {
     "data": {
      "text/plain": [
       "361    Martian Manhunter\n",
       "Name: Name, dtype: object"
      ]
     },
     "execution_count": 11,
     "metadata": {},
     "output_type": "execute_result"
    }
   ],
   "source": [
    "stat_df[stat_df['Total'] == stat_df['Total'].max() ]['Name']\n",
    "# 마션 맨헌터 - DC 코믹스"
   ]
  },
  {
   "cell_type": "code",
   "execution_count": 76,
   "id": "a6d6ce21",
   "metadata": {},
   "outputs": [
    {
     "data": {
      "text/plain": [
       "361    581\n",
       "Name: Total, dtype: int64"
      ]
     },
     "execution_count": 76,
     "metadata": {},
     "output_type": "execute_result"
    }
   ],
   "source": [
    "stat_df[stat_df['Total'] == stat_df['Total'].max() ]['Total']"
   ]
  },
  {
   "cell_type": "markdown",
   "id": "c4353e44",
   "metadata": {},
   "source": [
    "### Good / Bad (Alignment) 캐릭터의 능력치 수치 분포\n",
    "- 능력치의 수치만 보았을 때는 Bad 캐릭터가 Good 캐릭터 보다 능력치가 높은 경우가 많았음.\n",
    "    - **~(그래서 맨날 Good 캐릭터가 힘을 합쳐야 Bad 캐릭터를 이길 수 있나보다)~**"
   ]
  },
  {
   "cell_type": "code",
   "execution_count": 158,
   "id": "315753c7",
   "metadata": {},
   "outputs": [
    {
     "data": {
      "text/plain": [
       "Name            0\n",
       "Alignment       3\n",
       "Intelligence    0\n",
       "Strength        0\n",
       "Speed           0\n",
       "Durability      0\n",
       "Power           0\n",
       "Combat          0\n",
       "Total           0\n",
       "dtype: int64"
      ]
     },
     "execution_count": 158,
     "metadata": {},
     "output_type": "execute_result"
    }
   ],
   "source": [
    "#stat_df['Alignment'].count() \n",
    "# Alignment의 개수를 확인 했을때 전체 값과 맞지 않음 = NA 값이 존재함\n",
    "\n",
    "# 결측치 존재 여부 확인\n",
    "stat_df.isnull().sum()\n",
    "# Alignment에 3개의 결측치가 존재"
   ]
  },
  {
   "cell_type": "code",
   "execution_count": 62,
   "id": "b1e344c9",
   "metadata": {},
   "outputs": [
    {
     "data": {
      "image/png": "[encoded data removed]",
      "text/plain": [
       "<Figure size 720x360 with 1 Axes>"
      ]
     },
     "metadata": {
      "needs_background": "light"
     },
     "output_type": "display_data"
    }
   ],
   "source": [
    "#  종합적인 캐릭터 능력치를  Alignment (Good, Bad, Neutral, None)를 기준으로 분류\n",
    "fig, ax = plt.subplots(1, 1, figsize=(10,5))\n",
    "sns.kdeplot(stat_df.loc[(stat_df['Alignment'] == 'good'), 'Total'], ax=ax, color = 'r') # good = red\n",
    "sns.kdeplot(stat_df.loc[(stat_df['Alignment'] == 'bad'), 'Total'], ax=ax, color = 'b') # bad = blue\n",
    "sns.kdeplot(stat_df.loc[(stat_df['Alignment'] == 'neutral'), 'Total'], ax=ax, color = 'g') # neutral = green\n",
    "sns.kdeplot(stat_df.loc[(stat_df['Alignment'].isnull()), 'Total'], ax=ax, color = 'black') # none = black\n",
    "\n",
    "plt.title(\"Total Stat [Alignment (Good vs Bad)]\")\n",
    " \n",
    "plt.legend(['Good', 'Bad', 'Neutral', 'None'])\n",
    "    \n",
    "plt.show()"
   ]
  },
  {
   "cell_type": "markdown",
   "id": "a4132d41",
   "metadata": {},
   "source": [
    "#### Good / Bad / Neutral 을 비교해 보았을 때\n",
    "- **평균을 따졌을 때 Good 캐릭터 보다는 Bad 캐릭터의 능력치가 더 높음을 알 수 있다.**\n",
    "- Neutral 캐릭터가 가장 평균이 높았다.\n",
    "    - ~(역시 중립이 가장 쎄다.)~"
   ]
  },
  {
   "cell_type": "code",
   "execution_count": 63,
   "id": "2ca6abdf",
   "metadata": {},
   "outputs": [
    {
     "data": {
      "text/plain": [
       "214.99074074074073"
      ]
     },
     "execution_count": 63,
     "metadata": {},
     "output_type": "execute_result"
    }
   ],
   "source": [
    "stat_df[(stat_df['Alignment'] == 'good')]['Total'].mean()"
   ]
  },
  {
   "cell_type": "code",
   "execution_count": 64,
   "id": "69f2babf",
   "metadata": {},
   "outputs": [
    {
     "data": {
      "text/plain": [
       "247.21212121212122"
      ]
     },
     "execution_count": 64,
     "metadata": {},
     "output_type": "execute_result"
    }
   ],
   "source": [
    "stat_df[(stat_df['Alignment'] == 'bad')]['Total'].mean()"
   ]
  },
  {
   "cell_type": "code",
   "execution_count": 65,
   "id": "9ca00d15",
   "metadata": {},
   "outputs": [
    {
     "data": {
      "text/plain": [
       "355.3636363636364"
      ]
     },
     "execution_count": 65,
     "metadata": {},
     "output_type": "execute_result"
    }
   ],
   "source": [
    "stat_df[(stat_df['Alignment'] == 'neutral')]['Total'].mean()"
   ]
  },
  {
   "cell_type": "code",
   "execution_count": 53,
   "id": "c89f1487",
   "metadata": {},
   "outputs": [
    {
     "data": {
      "text/plain": [
       "<AxesSubplot:xlabel='Alignment', ylabel='Total'>"
      ]
     },
     "execution_count": 53,
     "metadata": {},
     "output_type": "execute_result"
    },
    {
     "data": {
      "image/png": "[encoded data removed]",
      "text/plain": [
       "<Figure size 432x288 with 1 Axes>"
      ]
     },
     "metadata": {
      "needs_background": "light"
     },
     "output_type": "display_data"
    }
   ],
   "source": [
    "sns.stripplot(x='Alignment', y='Total', data= stat_df, size = 3)"
   ]
  },
  {
   "cell_type": "markdown",
   "id": "798a08a9",
   "metadata": {},
   "source": [
    "---"
   ]
  },
  {
   "cell_type": "markdown",
   "id": "989786f7",
   "metadata": {},
   "source": [
    "# Mission 2. Abengers, Assemble!\n",
    "\n",
    "## Extra Mission\n",
    "- 다음 질문에 답하시오.\n",
    "    - 캐릭터는 저마다 지능, 힘, ... 등 다양한 수치를 지니고 있다. 또한 각 캐릭터는 DC, 마블 등 다양한 코믹스 회사를 바탕으로 하고 있다. 어떤 코믹스 회사의 캐릭터들이 능력치 합의 평균이 가장 큰가? 이를 보이기 위한 과정을 보여라.\n",
    "    - 좋은 캐릭터와 나쁜 캐릭터가 격돌한다고 한다. 격돌하는 경우 캐릭터들의 능력치의 합의 평균이 큰 팀이 이긴다고 한다. 단, 불의를 못참는 중립 캐릭터들은 중립캐릭터가 없었을 당시에 열세인 팀에 가담한다. 이러한 상황일때 결과적으로 어떤 캐릭터 진영이 승리할 것인가? 이를 보이기 위한 과정을 보여라.\n",
    "    - **이 데이터를 이용해 진행하고 싶은 EDA 및 시각화가 있다면 자유롭게 진행하여라.**\n",
    "    - 이 과제는 핵심 임무 이후에 진행되어야 한다."
   ]
  },
  {
   "cell_type": "markdown",
   "id": "ddbae3a6",
   "metadata": {},
   "source": [
    "### l. 어떤 코믹스 회사의 캐릭터들이 능력치 합의 평균이 가장 큰가?\n",
    "\n",
    "#### 위에서 사용한 charcters_stats.csv 만을 보았을 때는 각 캐릭터가 어느 코믹스 회사를 바탕으로 하고 있는지 알 수 없다.\n",
    "- #### 주어진 csv 파일들 중 marvel_characters_info.csv에 코믹스 회사별 캐릭터 데이터가 주어짐\n",
    "    - 두 dataframe을 merge하여 코믹스 별 캐릭터의 스테이터스를 나타낼 수 있음\n",
    "\n",
    "- (Merge된 dataframe)을 코믹스 회사를 기준으로 `.groupby()` 하여 `Total`의 합을 계산 해준다.\n",
    "- Sort 해보면 Marvel Comics 가 압도적 1등, 그 뒤을 이어 DC Comics가 2등 .... 임을 알 수 있다."
   ]
  },
  {
   "cell_type": "code",
   "execution_count": 220,
   "id": "4838e244",
   "metadata": {},
   "outputs": [
    {
     "data": {
      "text/html": [
       "<div>\n",
       "<style scoped>\n",
       "    .dataframe tbody tr th:only-of-type {\n",
       "        vertical-align: middle;\n",
       "    }\n",
       "\n",
       "    .dataframe tbody tr th {\n",
       "        vertical-align: top;\n",
       "    }\n",
       "\n",
       "    .dataframe thead th {\n",
       "        text-align: right;\n",
       "    }\n",
       "</style>\n",
       "<table border=\"1\" class=\"dataframe\">\n",
       "  <thead>\n",
       "    <tr style=\"text-align: right;\">\n",
       "      <th></th>\n",
       "      <th>ID</th>\n",
       "      <th>Name</th>\n",
       "      <th>Alignment</th>\n",
       "      <th>Gender</th>\n",
       "      <th>EyeColor</th>\n",
       "      <th>Race</th>\n",
       "      <th>HairColor</th>\n",
       "      <th>Publisher</th>\n",
       "      <th>SkinColor</th>\n",
       "      <th>Height</th>\n",
       "      <th>Weight</th>\n",
       "    </tr>\n",
       "  </thead>\n",
       "  <tbody>\n",
       "    <tr>\n",
       "      <th>0</th>\n",
       "      <td>0</td>\n",
       "      <td>A-Bomb</td>\n",
       "      <td>good</td>\n",
       "      <td>Male</td>\n",
       "      <td>yellow</td>\n",
       "      <td>Human</td>\n",
       "      <td>No Hair</td>\n",
       "      <td>Marvel Comics</td>\n",
       "      <td>-</td>\n",
       "      <td>203.0</td>\n",
       "      <td>441.0</td>\n",
       "    </tr>\n",
       "    <tr>\n",
       "      <th>1</th>\n",
       "      <td>1</td>\n",
       "      <td>Abe Sapien</td>\n",
       "      <td>good</td>\n",
       "      <td>Male</td>\n",
       "      <td>blue</td>\n",
       "      <td>Icthyo Sapien</td>\n",
       "      <td>No Hair</td>\n",
       "      <td>Dark Horse Comics</td>\n",
       "      <td>blue</td>\n",
       "      <td>191.0</td>\n",
       "      <td>65.0</td>\n",
       "    </tr>\n",
       "    <tr>\n",
       "      <th>2</th>\n",
       "      <td>2</td>\n",
       "      <td>Abin Sur</td>\n",
       "      <td>good</td>\n",
       "      <td>Male</td>\n",
       "      <td>blue</td>\n",
       "      <td>Ungaran</td>\n",
       "      <td>No Hair</td>\n",
       "      <td>DC Comics</td>\n",
       "      <td>red</td>\n",
       "      <td>185.0</td>\n",
       "      <td>90.0</td>\n",
       "    </tr>\n",
       "    <tr>\n",
       "      <th>3</th>\n",
       "      <td>3</td>\n",
       "      <td>Abomination</td>\n",
       "      <td>bad</td>\n",
       "      <td>Male</td>\n",
       "      <td>green</td>\n",
       "      <td>Human / Radiation</td>\n",
       "      <td>No Hair</td>\n",
       "      <td>Marvel Comics</td>\n",
       "      <td>-</td>\n",
       "      <td>203.0</td>\n",
       "      <td>441.0</td>\n",
       "    </tr>\n",
       "    <tr>\n",
       "      <th>4</th>\n",
       "      <td>4</td>\n",
       "      <td>Abraxas</td>\n",
       "      <td>bad</td>\n",
       "      <td>Male</td>\n",
       "      <td>blue</td>\n",
       "      <td>Cosmic Entity</td>\n",
       "      <td>Black</td>\n",
       "      <td>Marvel Comics</td>\n",
       "      <td>-</td>\n",
       "      <td>-99.0</td>\n",
       "      <td>-99.0</td>\n",
       "    </tr>\n",
       "    <tr>\n",
       "      <th>...</th>\n",
       "      <td>...</td>\n",
       "      <td>...</td>\n",
       "      <td>...</td>\n",
       "      <td>...</td>\n",
       "      <td>...</td>\n",
       "      <td>...</td>\n",
       "      <td>...</td>\n",
       "      <td>...</td>\n",
       "      <td>...</td>\n",
       "      <td>...</td>\n",
       "      <td>...</td>\n",
       "    </tr>\n",
       "    <tr>\n",
       "      <th>729</th>\n",
       "      <td>729</td>\n",
       "      <td>Yellowjacket II</td>\n",
       "      <td>good</td>\n",
       "      <td>Female</td>\n",
       "      <td>blue</td>\n",
       "      <td>Human</td>\n",
       "      <td>Strawberry Blond</td>\n",
       "      <td>Marvel Comics</td>\n",
       "      <td>-</td>\n",
       "      <td>165.0</td>\n",
       "      <td>52.0</td>\n",
       "    </tr>\n",
       "    <tr>\n",
       "      <th>730</th>\n",
       "      <td>730</td>\n",
       "      <td>Ymir</td>\n",
       "      <td>good</td>\n",
       "      <td>Male</td>\n",
       "      <td>white</td>\n",
       "      <td>Frost Giant</td>\n",
       "      <td>No Hair</td>\n",
       "      <td>Marvel Comics</td>\n",
       "      <td>white</td>\n",
       "      <td>304.8</td>\n",
       "      <td>-99.0</td>\n",
       "    </tr>\n",
       "    <tr>\n",
       "      <th>731</th>\n",
       "      <td>731</td>\n",
       "      <td>Yoda</td>\n",
       "      <td>good</td>\n",
       "      <td>Male</td>\n",
       "      <td>brown</td>\n",
       "      <td>Yoda's species</td>\n",
       "      <td>White</td>\n",
       "      <td>George Lucas</td>\n",
       "      <td>green</td>\n",
       "      <td>66.0</td>\n",
       "      <td>17.0</td>\n",
       "    </tr>\n",
       "    <tr>\n",
       "      <th>732</th>\n",
       "      <td>732</td>\n",
       "      <td>Zatanna</td>\n",
       "      <td>good</td>\n",
       "      <td>Female</td>\n",
       "      <td>blue</td>\n",
       "      <td>Human</td>\n",
       "      <td>Black</td>\n",
       "      <td>DC Comics</td>\n",
       "      <td>-</td>\n",
       "      <td>170.0</td>\n",
       "      <td>57.0</td>\n",
       "    </tr>\n",
       "    <tr>\n",
       "      <th>733</th>\n",
       "      <td>733</td>\n",
       "      <td>Zoom</td>\n",
       "      <td>bad</td>\n",
       "      <td>Male</td>\n",
       "      <td>red</td>\n",
       "      <td>-</td>\n",
       "      <td>Brown</td>\n",
       "      <td>DC Comics</td>\n",
       "      <td>-</td>\n",
       "      <td>185.0</td>\n",
       "      <td>81.0</td>\n",
       "    </tr>\n",
       "  </tbody>\n",
       "</table>\n",
       "<p>734 rows × 11 columns</p>\n",
       "</div>"
      ],
      "text/plain": [
       "      ID             Name Alignment  Gender EyeColor               Race  \\\n",
       "0      0           A-Bomb      good    Male   yellow              Human   \n",
       "1      1       Abe Sapien      good    Male     blue      Icthyo Sapien   \n",
       "2      2         Abin Sur      good    Male     blue            Ungaran   \n",
       "3      3      Abomination       bad    Male    green  Human / Radiation   \n",
       "4      4          Abraxas       bad    Male     blue      Cosmic Entity   \n",
       "..   ...              ...       ...     ...      ...                ...   \n",
       "729  729  Yellowjacket II      good  Female     blue              Human   \n",
       "730  730             Ymir      good    Male    white        Frost Giant   \n",
       "731  731             Yoda      good    Male    brown     Yoda's species   \n",
       "732  732          Zatanna      good  Female     blue              Human   \n",
       "733  733             Zoom       bad    Male      red                  -   \n",
       "\n",
       "            HairColor          Publisher SkinColor  Height  Weight  \n",
       "0             No Hair      Marvel Comics         -   203.0   441.0  \n",
       "1             No Hair  Dark Horse Comics      blue   191.0    65.0  \n",
       "2             No Hair          DC Comics       red   185.0    90.0  \n",
       "3             No Hair      Marvel Comics         -   203.0   441.0  \n",
       "4               Black      Marvel Comics         -   -99.0   -99.0  \n",
       "..                ...                ...       ...     ...     ...  \n",
       "729  Strawberry Blond      Marvel Comics         -   165.0    52.0  \n",
       "730           No Hair      Marvel Comics     white   304.8   -99.0  \n",
       "731             White       George Lucas     green    66.0    17.0  \n",
       "732             Black          DC Comics         -   170.0    57.0  \n",
       "733             Brown          DC Comics         -   185.0    81.0  \n",
       "\n",
       "[734 rows x 11 columns]"
      ]
     },
     "execution_count": 220,
     "metadata": {},
     "output_type": "execute_result"
    }
   ],
   "source": [
    "char_df = pd.read_csv(\"./marvel_characters_info.csv\")\n",
    "\n",
    "char_df"
   ]
  },
  {
   "cell_type": "code",
   "execution_count": 221,
   "id": "d6d4238d",
   "metadata": {},
   "outputs": [
    {
     "data": {
      "text/html": [
       "<div>\n",
       "<style scoped>\n",
       "    .dataframe tbody tr th:only-of-type {\n",
       "        vertical-align: middle;\n",
       "    }\n",
       "\n",
       "    .dataframe tbody tr th {\n",
       "        vertical-align: top;\n",
       "    }\n",
       "\n",
       "    .dataframe thead th {\n",
       "        text-align: right;\n",
       "    }\n",
       "</style>\n",
       "<table border=\"1\" class=\"dataframe\">\n",
       "  <thead>\n",
       "    <tr style=\"text-align: right;\">\n",
       "      <th></th>\n",
       "      <th>Name</th>\n",
       "      <th>Publisher</th>\n",
       "    </tr>\n",
       "  </thead>\n",
       "  <tbody>\n",
       "    <tr>\n",
       "      <th>0</th>\n",
       "      <td>A-Bomb</td>\n",
       "      <td>Marvel Comics</td>\n",
       "    </tr>\n",
       "    <tr>\n",
       "      <th>1</th>\n",
       "      <td>Abe Sapien</td>\n",
       "      <td>Dark Horse Comics</td>\n",
       "    </tr>\n",
       "    <tr>\n",
       "      <th>2</th>\n",
       "      <td>Abin Sur</td>\n",
       "      <td>DC Comics</td>\n",
       "    </tr>\n",
       "    <tr>\n",
       "      <th>3</th>\n",
       "      <td>Abomination</td>\n",
       "      <td>Marvel Comics</td>\n",
       "    </tr>\n",
       "    <tr>\n",
       "      <th>4</th>\n",
       "      <td>Abraxas</td>\n",
       "      <td>Marvel Comics</td>\n",
       "    </tr>\n",
       "    <tr>\n",
       "      <th>...</th>\n",
       "      <td>...</td>\n",
       "      <td>...</td>\n",
       "    </tr>\n",
       "    <tr>\n",
       "      <th>729</th>\n",
       "      <td>Yellowjacket II</td>\n",
       "      <td>Marvel Comics</td>\n",
       "    </tr>\n",
       "    <tr>\n",
       "      <th>730</th>\n",
       "      <td>Ymir</td>\n",
       "      <td>Marvel Comics</td>\n",
       "    </tr>\n",
       "    <tr>\n",
       "      <th>731</th>\n",
       "      <td>Yoda</td>\n",
       "      <td>George Lucas</td>\n",
       "    </tr>\n",
       "    <tr>\n",
       "      <th>732</th>\n",
       "      <td>Zatanna</td>\n",
       "      <td>DC Comics</td>\n",
       "    </tr>\n",
       "    <tr>\n",
       "      <th>733</th>\n",
       "      <td>Zoom</td>\n",
       "      <td>DC Comics</td>\n",
       "    </tr>\n",
       "  </tbody>\n",
       "</table>\n",
       "<p>734 rows × 2 columns</p>\n",
       "</div>"
      ],
      "text/plain": [
       "                Name          Publisher\n",
       "0             A-Bomb      Marvel Comics\n",
       "1         Abe Sapien  Dark Horse Comics\n",
       "2           Abin Sur          DC Comics\n",
       "3        Abomination      Marvel Comics\n",
       "4            Abraxas      Marvel Comics\n",
       "..               ...                ...\n",
       "729  Yellowjacket II      Marvel Comics\n",
       "730             Ymir      Marvel Comics\n",
       "731             Yoda       George Lucas\n",
       "732          Zatanna          DC Comics\n",
       "733             Zoom          DC Comics\n",
       "\n",
       "[734 rows x 2 columns]"
      ]
     },
     "execution_count": 221,
     "metadata": {},
     "output_type": "execute_result"
    }
   ],
   "source": [
    "pub_df = char_df[(['Name', 'Publisher'])]\n",
    "\n",
    "pub_df"
   ]
  },
  {
   "cell_type": "code",
   "execution_count": 222,
   "id": "ac588da9",
   "metadata": {},
   "outputs": [
    {
     "data": {
      "text/html": [
       "<div>\n",
       "<style scoped>\n",
       "    .dataframe tbody tr th:only-of-type {\n",
       "        vertical-align: middle;\n",
       "    }\n",
       "\n",
       "    .dataframe tbody tr th {\n",
       "        vertical-align: top;\n",
       "    }\n",
       "\n",
       "    .dataframe thead th {\n",
       "        text-align: right;\n",
       "    }\n",
       "</style>\n",
       "<table border=\"1\" class=\"dataframe\">\n",
       "  <thead>\n",
       "    <tr style=\"text-align: right;\">\n",
       "      <th></th>\n",
       "      <th>Name</th>\n",
       "      <th>Alignment</th>\n",
       "      <th>Total</th>\n",
       "    </tr>\n",
       "  </thead>\n",
       "  <tbody>\n",
       "    <tr>\n",
       "      <th>0</th>\n",
       "      <td>3-D Man</td>\n",
       "      <td>good</td>\n",
       "      <td>233</td>\n",
       "    </tr>\n",
       "    <tr>\n",
       "      <th>1</th>\n",
       "      <td>A-Bomb</td>\n",
       "      <td>good</td>\n",
       "      <td>316</td>\n",
       "    </tr>\n",
       "    <tr>\n",
       "      <th>2</th>\n",
       "      <td>Abe Sapien</td>\n",
       "      <td>good</td>\n",
       "      <td>299</td>\n",
       "    </tr>\n",
       "    <tr>\n",
       "      <th>3</th>\n",
       "      <td>Abin Sur</td>\n",
       "      <td>good</td>\n",
       "      <td>406</td>\n",
       "    </tr>\n",
       "    <tr>\n",
       "      <th>4</th>\n",
       "      <td>Abomination</td>\n",
       "      <td>bad</td>\n",
       "      <td>436</td>\n",
       "    </tr>\n",
       "    <tr>\n",
       "      <th>...</th>\n",
       "      <td>...</td>\n",
       "      <td>...</td>\n",
       "      <td>...</td>\n",
       "    </tr>\n",
       "    <tr>\n",
       "      <th>606</th>\n",
       "      <td>Yellowjacket</td>\n",
       "      <td>good</td>\n",
       "      <td>164</td>\n",
       "    </tr>\n",
       "    <tr>\n",
       "      <th>607</th>\n",
       "      <td>Yellowjacket II</td>\n",
       "      <td>good</td>\n",
       "      <td>182</td>\n",
       "    </tr>\n",
       "    <tr>\n",
       "      <th>608</th>\n",
       "      <td>Ymir</td>\n",
       "      <td>good</td>\n",
       "      <td>388</td>\n",
       "    </tr>\n",
       "    <tr>\n",
       "      <th>609</th>\n",
       "      <td>Zatanna</td>\n",
       "      <td>good</td>\n",
       "      <td>292</td>\n",
       "    </tr>\n",
       "    <tr>\n",
       "      <th>610</th>\n",
       "      <td>Zoom</td>\n",
       "      <td>bad</td>\n",
       "      <td>288</td>\n",
       "    </tr>\n",
       "  </tbody>\n",
       "</table>\n",
       "<p>611 rows × 3 columns</p>\n",
       "</div>"
      ],
      "text/plain": [
       "                Name Alignment  Total\n",
       "0            3-D Man      good    233\n",
       "1             A-Bomb      good    316\n",
       "2         Abe Sapien      good    299\n",
       "3           Abin Sur      good    406\n",
       "4        Abomination       bad    436\n",
       "..               ...       ...    ...\n",
       "606     Yellowjacket      good    164\n",
       "607  Yellowjacket II      good    182\n",
       "608             Ymir      good    388\n",
       "609          Zatanna      good    292\n",
       "610             Zoom       bad    288\n",
       "\n",
       "[611 rows x 3 columns]"
      ]
     },
     "execution_count": 222,
     "metadata": {},
     "output_type": "execute_result"
    }
   ],
   "source": [
    "stat_total_df = stat_df[(['Name', 'Alignment', 'Total'])]\n",
    "stat_total_df"
   ]
  },
  {
   "cell_type": "code",
   "execution_count": 223,
   "id": "ad164e9d",
   "metadata": {},
   "outputs": [
    {
     "data": {
      "text/html": [
       "<div>\n",
       "<style scoped>\n",
       "    .dataframe tbody tr th:only-of-type {\n",
       "        vertical-align: middle;\n",
       "    }\n",
       "\n",
       "    .dataframe tbody tr th {\n",
       "        vertical-align: top;\n",
       "    }\n",
       "\n",
       "    .dataframe thead th {\n",
       "        text-align: right;\n",
       "    }\n",
       "</style>\n",
       "<table border=\"1\" class=\"dataframe\">\n",
       "  <thead>\n",
       "    <tr style=\"text-align: right;\">\n",
       "      <th></th>\n",
       "      <th>Name</th>\n",
       "      <th>Alignment</th>\n",
       "      <th>Total</th>\n",
       "      <th>Publisher</th>\n",
       "    </tr>\n",
       "  </thead>\n",
       "  <tbody>\n",
       "    <tr>\n",
       "      <th>0</th>\n",
       "      <td>A-Bomb</td>\n",
       "      <td>good</td>\n",
       "      <td>316</td>\n",
       "      <td>Marvel Comics</td>\n",
       "    </tr>\n",
       "    <tr>\n",
       "      <th>1</th>\n",
       "      <td>Abe Sapien</td>\n",
       "      <td>good</td>\n",
       "      <td>299</td>\n",
       "      <td>Dark Horse Comics</td>\n",
       "    </tr>\n",
       "    <tr>\n",
       "      <th>2</th>\n",
       "      <td>Abin Sur</td>\n",
       "      <td>good</td>\n",
       "      <td>406</td>\n",
       "      <td>DC Comics</td>\n",
       "    </tr>\n",
       "    <tr>\n",
       "      <th>3</th>\n",
       "      <td>Abomination</td>\n",
       "      <td>bad</td>\n",
       "      <td>436</td>\n",
       "      <td>Marvel Comics</td>\n",
       "    </tr>\n",
       "    <tr>\n",
       "      <th>4</th>\n",
       "      <td>Abraxas</td>\n",
       "      <td>bad</td>\n",
       "      <td>526</td>\n",
       "      <td>Marvel Comics</td>\n",
       "    </tr>\n",
       "    <tr>\n",
       "      <th>...</th>\n",
       "      <td>...</td>\n",
       "      <td>...</td>\n",
       "      <td>...</td>\n",
       "      <td>...</td>\n",
       "    </tr>\n",
       "    <tr>\n",
       "      <th>595</th>\n",
       "      <td>Yellowjacket</td>\n",
       "      <td>good</td>\n",
       "      <td>164</td>\n",
       "      <td>Marvel Comics</td>\n",
       "    </tr>\n",
       "    <tr>\n",
       "      <th>596</th>\n",
       "      <td>Yellowjacket II</td>\n",
       "      <td>good</td>\n",
       "      <td>182</td>\n",
       "      <td>Marvel Comics</td>\n",
       "    </tr>\n",
       "    <tr>\n",
       "      <th>597</th>\n",
       "      <td>Ymir</td>\n",
       "      <td>good</td>\n",
       "      <td>388</td>\n",
       "      <td>Marvel Comics</td>\n",
       "    </tr>\n",
       "    <tr>\n",
       "      <th>598</th>\n",
       "      <td>Zatanna</td>\n",
       "      <td>good</td>\n",
       "      <td>292</td>\n",
       "      <td>DC Comics</td>\n",
       "    </tr>\n",
       "    <tr>\n",
       "      <th>599</th>\n",
       "      <td>Zoom</td>\n",
       "      <td>bad</td>\n",
       "      <td>288</td>\n",
       "      <td>DC Comics</td>\n",
       "    </tr>\n",
       "  </tbody>\n",
       "</table>\n",
       "<p>600 rows × 4 columns</p>\n",
       "</div>"
      ],
      "text/plain": [
       "                Name Alignment  Total          Publisher\n",
       "0             A-Bomb      good    316      Marvel Comics\n",
       "1         Abe Sapien      good    299  Dark Horse Comics\n",
       "2           Abin Sur      good    406          DC Comics\n",
       "3        Abomination       bad    436      Marvel Comics\n",
       "4            Abraxas       bad    526      Marvel Comics\n",
       "..               ...       ...    ...                ...\n",
       "595     Yellowjacket      good    164      Marvel Comics\n",
       "596  Yellowjacket II      good    182      Marvel Comics\n",
       "597             Ymir      good    388      Marvel Comics\n",
       "598          Zatanna      good    292          DC Comics\n",
       "599             Zoom       bad    288          DC Comics\n",
       "\n",
       "[600 rows x 4 columns]"
      ]
     },
     "execution_count": 223,
     "metadata": {},
     "output_type": "execute_result"
    }
   ],
   "source": [
    "# 두 dataframe에서 중복되는 Name을 기준으로 merge 한 결과\n",
    "## 기존 status 가 나타나 있는 dataframe을 기준으로 publisher dataframe과 Name 데이터가 완전히 겹치지 않아 손실 발생\n",
    "comic_df = pd.merge(stat_total_df, pub_df)\n",
    "comic_df"
   ]
  },
  {
   "cell_type": "code",
   "execution_count": 224,
   "id": "83edf442",
   "metadata": {},
   "outputs": [
    {
     "data": {
      "text/plain": [
       "Name         0\n",
       "Alignment    3\n",
       "Total        0\n",
       "Publisher    7\n",
       "dtype: int64"
      ]
     },
     "execution_count": 224,
     "metadata": {},
     "output_type": "execute_result"
    }
   ],
   "source": [
    "# 결측치 확인\n",
    "comic_df.isnull().sum()\n",
    "# Alignment에 3개, Publisher에 7개의 결측치가 존재\n",
    "# 결측치가 존재 하지만 대세에 영향을 주지 않으므로 무시하도록 한다."
   ]
  },
  {
   "cell_type": "code",
   "execution_count": 225,
   "id": "05dfb5d7",
   "metadata": {},
   "outputs": [
    {
     "data": {
      "text/plain": [
       "Publisher\n",
       "Marvel Comics        85104\n",
       "DC Comics            43591\n",
       "NBC - Heroes          2670\n",
       "Dark Horse Comics     1575\n",
       "Shueisha               963\n",
       "SyFy                   944\n",
       "Image Comics           918\n",
       "ABC Studios            664\n",
       "Icon Comics            592\n",
       "Microsoft              425\n",
       "Sony Pictures          398\n",
       "Universal Studios      237\n",
       "HarperCollins           30\n",
       "Team Epic TV            25\n",
       "Wildstorm               10\n",
       "Hanna-Barbera            5\n",
       "Name: Total, dtype: int64"
      ]
     },
     "execution_count": 225,
     "metadata": {},
     "output_type": "execute_result"
    }
   ],
   "source": [
    "comic_df['Total'].groupby(by = comic_df['Publisher']).sum().sort_values(ascending = False)"
   ]
  },
  {
   "cell_type": "markdown",
   "id": "af7e0495",
   "metadata": {},
   "source": [
    "### ll. 좋은 캐릭터와 나쁜 캐릭터가 격돌한다고 한다. \n",
    "- 격돌하는 경우 캐릭터들의 능력치의 합의 평균이 큰 팀이 이긴다고 한다. \n",
    "- 단, 불의를 못참는 중립 캐릭터들은 중립캐릭터가 없었을 당시에 열세인 팀에 가담한다. \n",
    "- 이러한 상황일때 결과적으로 어떤 캐릭터 진영이 승리할 것인가? 이를 보이기 위한 과정을 보여라."
   ]
  },
  {
   "cell_type": "markdown",
   "id": "a7dcba1a",
   "metadata": {},
   "source": [
    "#### 주의 사항\n",
    "- 중립 캐릭터가 영향력을 미치게 된다.\n",
    "- Alignment가 결측치인 경우를 어떻게 처리해야하는가 \n",
    "    - **Alignment가 결측치인 경우 중립캐릭터로 보는걸로 하자!**"
   ]
  },
  {
   "cell_type": "code",
   "execution_count": 233,
   "id": "b3141e86",
   "metadata": {},
   "outputs": [],
   "source": [
    "na = stat_total_df['Alignment'].fillna('neutral')"
   ]
  },
  {
   "cell_type": "code",
   "execution_count": 234,
   "id": "87482c63",
   "metadata": {},
   "outputs": [
    {
     "data": {
      "text/plain": [
       "Alignment\n",
       "bad        165\n",
       "good       432\n",
       "neutral     11\n",
       "Name: Total, dtype: int64"
      ]
     },
     "execution_count": 234,
     "metadata": {},
     "output_type": "execute_result"
    }
   ],
   "source": [
    "# 결측치 처리를 안한 상태의 Alignment - 수\n",
    "stat_total_df['Total'].groupby(by = stat_total_df['Alignment']).count()"
   ]
  },
  {
   "cell_type": "code",
   "execution_count": 235,
   "id": "de7eef26",
   "metadata": {},
   "outputs": [
    {
     "data": {
      "text/plain": [
       "Alignment\n",
       "bad        40790\n",
       "good       92876\n",
       "neutral     3909\n",
       "Name: Total, dtype: int64"
      ]
     },
     "execution_count": 235,
     "metadata": {},
     "output_type": "execute_result"
    }
   ],
   "source": [
    "# 결측치 처리를 안한 상태의 Alignment 의 Total 합산\n",
    "stat_total_df['Total'].groupby(by = stat_total_df['Alignment']).sum()"
   ]
  },
  {
   "cell_type": "code",
   "execution_count": 236,
   "id": "86cedc94",
   "metadata": {},
   "outputs": [
    {
     "data": {
      "text/plain": [
       "Alignment\n",
       "bad        165\n",
       "good       432\n",
       "neutral     14\n",
       "Name: Total, dtype: int64"
      ]
     },
     "execution_count": 236,
     "metadata": {},
     "output_type": "execute_result"
    }
   ],
   "source": [
    "# 결측치를 neutral로 바꿔준 상태의 Alignment 의 수\n",
    "stat_total_df['Total'].groupby(by = na).count()"
   ]
  },
  {
   "cell_type": "code",
   "execution_count": 237,
   "id": "1419fa64",
   "metadata": {},
   "outputs": [
    {
     "data": {
      "text/plain": [
       "Alignment\n",
       "bad        40790\n",
       "good       92876\n",
       "neutral     4573\n",
       "Name: Total, dtype: int64"
      ]
     },
     "execution_count": 237,
     "metadata": {},
     "output_type": "execute_result"
    }
   ],
   "source": [
    "# 캐릭터 능력치의 총 합만 따져봤을때는 Good 캐릭터 수가 432 Bad 캐릭터 수가 165로 수 싸움에 밀려 총합이 Good이 더 크다.\n",
    "# 이러니 Good Vs Bad로 싸우면 수 싸움이든 어쨋든 정의는 승리한다.\n",
    "stat_total_df['Total'].groupby(by = na).sum()"
   ]
  },
  {
   "cell_type": "code",
   "execution_count": 238,
   "id": "81ea5ff9",
   "metadata": {},
   "outputs": [
    {
     "data": {
      "text/plain": [
       "Alignment\n",
       "bad        247.212121\n",
       "good       214.990741\n",
       "neutral    326.642857\n",
       "Name: Total, dtype: float64"
      ]
     },
     "execution_count": 238,
     "metadata": {},
     "output_type": "execute_result"
    }
   ],
   "source": [
    "# 그러나 우리가 필요한 데이터는 평균 데이터이므로 평균을 내주면 Bad 캐릭터가 Good 캐릭터 보다 쎄다는 것을 알 수 있다.\n",
    "# 역시 악당이 강하다. 그래야 싸울 맛이 나지....\n",
    "# 그래야 힘을 합쳐 싸우지....\n",
    "stat_total_df['Total'].groupby(by = na).mean()"
   ]
  },
  {
   "cell_type": "code",
   "execution_count": 239,
   "id": "e0778573",
   "metadata": {},
   "outputs": [
    {
     "data": {
      "text/plain": [
       "218.49551569506727"
      ]
     },
     "execution_count": 239,
     "metadata": {},
     "output_type": "execute_result"
    }
   ],
   "source": [
    "# 위의 이유에서 중립(neutral)은 Good의 편에 서게 된다.\n",
    "# 위의 값을 보면 계산 해보지 않아도 택도 없음을 알 수 있지만 일단 계산 해보자\n",
    "\n",
    "stat_ali = stat_total_df['Total'].groupby(by = na).sum()\n",
    "count_ali = stat_total_df['Total'].groupby(by = na).count()\n",
    "new_good = (stat_ali.good+ stat_ali.neutral) / (count_ali.good+ count_ali.neutral)\n",
    "new_good\n",
    "# 역시 택도 없다. 선은 힘을 합치지 않으면 악을 이길 수 없다."
   ]
  },
  {
   "cell_type": "markdown",
   "id": "8c047994",
   "metadata": {},
   "source": [
    "### 결론\n",
    "#### 선은 악을 1vs1로 이기는게 아니라 Assemble!!! 해서 힘을 합쳐 악에 맞서 싸운다.\n",
    "- 그렇지 않으면 재미없어서 못볼듯.....\n",
    "- 하지만 선은 언제나 승리한다."
   ]
  },
  {
   "cell_type": "markdown",
   "id": "d9157584",
   "metadata": {},
   "source": [
    "### lll. 그렇다면 DC vs Marvel 을 생각해보자\n",
    "#### 단순하게 비교하는 것은 재미가 없다.\n",
    "- #### DC 악당 vs Marvel 히어로\n",
    "- #### Marvel 악당 vs DC 히어로\n",
    "를 한다면 결과는 어떻게 될까.... 그래도 세계는 평화로울까?"
   ]
  },
  {
   "cell_type": "markdown",
   "id": "697b185c",
   "metadata": {},
   "source": [
    "#### comic_df = pd.merge(stat_total_df, pub_df)를 그대로 이용하자"
   ]
  },
  {
   "cell_type": "code",
   "execution_count": 263,
   "id": "f91a330b",
   "metadata": {},
   "outputs": [
    {
     "data": {
      "text/plain": [
       "232.07563025210084"
      ]
     },
     "execution_count": 263,
     "metadata": {},
     "output_type": "execute_result"
    }
   ],
   "source": [
    "# comic_df = pd.merge(stat_total_df, pub_df)\n",
    "# sns.kdeplot(exame_df.loc[exame_df[\"parental level of education\"] == \"some high school\"]['total score'], ax=ax)\n",
    "DC_good = comic_df['Total'][comic_df['Publisher'] == 'DC Comics'][comic_df['Alignment'] == 'good'].mean()\n",
    "DC_good"
   ]
  },
  {
   "cell_type": "code",
   "execution_count": 264,
   "id": "b1dfff26",
   "metadata": {},
   "outputs": [
    {
     "data": {
      "text/plain": [
       "306.5217391304348"
      ]
     },
     "execution_count": 264,
     "metadata": {},
     "output_type": "execute_result"
    }
   ],
   "source": [
    "DC_bad = comic_df['Total'][comic_df['Publisher'] == 'DC Comics'][comic_df['Alignment'] == 'bad'].mean()\n",
    "DC_bad"
   ]
  },
  {
   "cell_type": "code",
   "execution_count": 265,
   "id": "e5bce20d",
   "metadata": {},
   "outputs": [
    {
     "data": {
      "text/plain": [
       "233.172131147541"
      ]
     },
     "execution_count": 265,
     "metadata": {},
     "output_type": "execute_result"
    }
   ],
   "source": [
    "Marvel_good = comic_df['Total'][comic_df['Publisher'] == 'Marvel Comics'][comic_df['Alignment'] == 'good'].mean()\n",
    "Marvel_good"
   ]
  },
  {
   "cell_type": "code",
   "execution_count": 266,
   "id": "9993cf0f",
   "metadata": {},
   "outputs": [
    {
     "data": {
      "text/plain": [
       "260.31632653061223"
      ]
     },
     "execution_count": 266,
     "metadata": {},
     "output_type": "execute_result"
    }
   ],
   "source": [
    "Marvel_bad = comic_df['Total'][comic_df['Publisher'] == 'Marvel Comics'][comic_df['Alignment'] == 'bad'].mean()\n",
    "Marvel_bad"
   ]
  },
  {
   "cell_type": "markdown",
   "id": "d96eff0f",
   "metadata": {},
   "source": [
    "### Marvel 히어로가 DC 히어로 보다 강한데..... DC 악당이 Marvel악당에 비해 너무 강하다....\n",
    "- #### 세계관이 다르다보니 차이가 나나보다....\n",
    "\n",
    "### ~그러면 DC 히어로는 Marvel히어로 보다 평균적으로 약한데 대체 어떻게 더쎈 악당들을 이기는거지... 그 S 가 넘사인가..~"
   ]
  },
  {
   "cell_type": "code",
   "execution_count": 270,
   "id": "a62f734f",
   "metadata": {},
   "outputs": [
    {
     "name": "stderr",
     "output_type": "stream",
     "text": [
      "<ipython-input-270-16be03db766d>:5: UserWarning: Boolean Series key will be reindexed to match DataFrame index.\n",
      "  sns.kdeplot(comic_df.loc[comic_df['Publisher'] == 'DC Comics'][comic_df['Alignment'] == 'good']['Total'], ax=ax)\n",
      "<ipython-input-270-16be03db766d>:6: UserWarning: Boolean Series key will be reindexed to match DataFrame index.\n",
      "  sns.kdeplot(comic_df.loc[comic_df['Publisher'] == 'DC Comics'][comic_df['Alignment'] == 'bad']['Total'], ax=ax)\n",
      "<ipython-input-270-16be03db766d>:7: UserWarning: Boolean Series key will be reindexed to match DataFrame index.\n",
      "  sns.kdeplot(comic_df.loc[comic_df['Publisher'] == 'Marvel Comics'][comic_df['Alignment'] == 'good']['Total'], ax=ax)\n",
      "<ipython-input-270-16be03db766d>:8: UserWarning: Boolean Series key will be reindexed to match DataFrame index.\n",
      "  sns.kdeplot(comic_df.loc[comic_df['Publisher'] == 'Marvel Comics'][comic_df['Alignment'] == 'bad']['Total'], ax=ax)\n"
     ]
    },
    {
     "data": {
      "image/png": "[encoded data removed]",
      "text/plain": [
       "<Figure size 1080x360 with 1 Axes>"
      ]
     },
     "metadata": {
      "needs_background": "light"
     },
     "output_type": "display_data"
    }
   ],
   "source": [
    "fig, ax = plt.subplots(1, 1, figsize=(15,5))\n",
    "\n",
    "sns.kdeplot(comic_df.loc[comic_df['Publisher'] == 'DC Comics'][comic_df['Alignment'] == 'good']['Total'], ax=ax)\n",
    "sns.kdeplot(comic_df.loc[comic_df['Publisher'] == 'DC Comics'][comic_df['Alignment'] == 'bad']['Total'], ax=ax)\n",
    "sns.kdeplot(comic_df.loc[comic_df['Publisher'] == 'Marvel Comics'][comic_df['Alignment'] == 'good']['Total'], ax=ax)\n",
    "sns.kdeplot(comic_df.loc[comic_df['Publisher'] == 'Marvel Comics'][comic_df['Alignment'] == 'bad']['Total'], ax=ax)\n",
    "\n",
    "plt.title(\"DC & Marvel (good vs bad)\")   \n",
    "\n",
    "plt.legend(['DC good', 'DC bad', 'Marvel good', 'Marvel bad'])\n",
    "plt.show()"
   ]
  },
  {
   "cell_type": "code",
   "execution_count": 273,
   "id": "5b2cf63c",
   "metadata": {},
   "outputs": [
    {
     "name": "stderr",
     "output_type": "stream",
     "text": [
      "<ipython-input-273-78baf61491fa>:3: UserWarning: Boolean Series key will be reindexed to match DataFrame index.\n",
      "  sns.kdeplot(comic_df.loc[comic_df['Publisher'] == 'DC Comics'][comic_df['Alignment'] == 'good']['Total'], ax=ax)\n",
      "<ipython-input-273-78baf61491fa>:4: UserWarning: Boolean Series key will be reindexed to match DataFrame index.\n",
      "  sns.kdeplot(comic_df.loc[comic_df['Publisher'] == 'Marvel Comics'][comic_df['Alignment'] == 'bad']['Total'], ax=ax)\n"
     ]
    },
    {
     "data": {
      "image/png": "[encoded data removed]",
      "text/plain": [
       "<Figure size 1080x360 with 1 Axes>"
      ]
     },
     "metadata": {
      "needs_background": "light"
     },
     "output_type": "display_data"
    }
   ],
   "source": [
    "fig, ax = plt.subplots(1, 1, figsize=(15,5))\n",
    "\n",
    "sns.kdeplot(comic_df.loc[comic_df['Publisher'] == 'DC Comics'][comic_df['Alignment'] == 'good']['Total'], ax=ax)\n",
    "sns.kdeplot(comic_df.loc[comic_df['Publisher'] == 'Marvel Comics'][comic_df['Alignment'] == 'bad']['Total'], ax=ax)\n",
    "\n",
    "plt.title(\"DC good VS Marvel bad\")   \n",
    "\n",
    "plt.legend(['DC good', 'Marvel bad'])\n",
    "plt.show()"
   ]
  },
  {
   "cell_type": "code",
   "execution_count": 274,
   "id": "036b1031",
   "metadata": {},
   "outputs": [
    {
     "name": "stderr",
     "output_type": "stream",
     "text": [
      "<ipython-input-274-b455dbf58456>:3: UserWarning: Boolean Series key will be reindexed to match DataFrame index.\n",
      "  sns.kdeplot(comic_df.loc[comic_df['Publisher'] == 'DC Comics'][comic_df['Alignment'] == 'bad']['Total'], ax=ax)\n",
      "<ipython-input-274-b455dbf58456>:4: UserWarning: Boolean Series key will be reindexed to match DataFrame index.\n",
      "  sns.kdeplot(comic_df.loc[comic_df['Publisher'] == 'Marvel Comics'][comic_df['Alignment'] == 'good']['Total'], ax=ax)\n"
     ]
    },
    {
     "data": {
      "image/png": "[encoded data removed]",
      "text/plain": [
       "<Figure size 1080x360 with 1 Axes>"
      ]
     },
     "metadata": {
      "needs_background": "light"
     },
     "output_type": "display_data"
    }
   ],
   "source": [
    "fig, ax = plt.subplots(1, 1, figsize=(15,5))\n",
    "\n",
    "sns.kdeplot(comic_df.loc[comic_df['Publisher'] == 'DC Comics'][comic_df['Alignment'] == 'bad']['Total'], ax=ax)\n",
    "sns.kdeplot(comic_df.loc[comic_df['Publisher'] == 'Marvel Comics'][comic_df['Alignment'] == 'good']['Total'], ax=ax)\n",
    "\n",
    "plt.title(\"DC bad VS Marvel good\")   \n",
    "\n",
    "plt.legend(['DC bad', 'Marvel good'])\n",
    "plt.show()"
   ]
  },
  {
   "cell_type": "markdown",
   "id": "be960a83",
   "metadata": {},
   "source": [
    "### 마지막으로 lV. 여러가지 종족 중 어느 종족이 가장 강할까?"
   ]
  },
  {
   "cell_type": "code",
   "execution_count": 276,
   "id": "427510de",
   "metadata": {},
   "outputs": [
    {
     "data": {
      "text/html": [
       "<div>\n",
       "<style scoped>\n",
       "    .dataframe tbody tr th:only-of-type {\n",
       "        vertical-align: middle;\n",
       "    }\n",
       "\n",
       "    .dataframe tbody tr th {\n",
       "        vertical-align: top;\n",
       "    }\n",
       "\n",
       "    .dataframe thead th {\n",
       "        text-align: right;\n",
       "    }\n",
       "</style>\n",
       "<table border=\"1\" class=\"dataframe\">\n",
       "  <thead>\n",
       "    <tr style=\"text-align: right;\">\n",
       "      <th></th>\n",
       "      <th>Name</th>\n",
       "      <th>Race</th>\n",
       "    </tr>\n",
       "  </thead>\n",
       "  <tbody>\n",
       "    <tr>\n",
       "      <th>0</th>\n",
       "      <td>A-Bomb</td>\n",
       "      <td>Human</td>\n",
       "    </tr>\n",
       "    <tr>\n",
       "      <th>1</th>\n",
       "      <td>Abe Sapien</td>\n",
       "      <td>Icthyo Sapien</td>\n",
       "    </tr>\n",
       "    <tr>\n",
       "      <th>2</th>\n",
       "      <td>Abin Sur</td>\n",
       "      <td>Ungaran</td>\n",
       "    </tr>\n",
       "    <tr>\n",
       "      <th>3</th>\n",
       "      <td>Abomination</td>\n",
       "      <td>Human / Radiation</td>\n",
       "    </tr>\n",
       "    <tr>\n",
       "      <th>4</th>\n",
       "      <td>Abraxas</td>\n",
       "      <td>Cosmic Entity</td>\n",
       "    </tr>\n",
       "    <tr>\n",
       "      <th>...</th>\n",
       "      <td>...</td>\n",
       "      <td>...</td>\n",
       "    </tr>\n",
       "    <tr>\n",
       "      <th>729</th>\n",
       "      <td>Yellowjacket II</td>\n",
       "      <td>Human</td>\n",
       "    </tr>\n",
       "    <tr>\n",
       "      <th>730</th>\n",
       "      <td>Ymir</td>\n",
       "      <td>Frost Giant</td>\n",
       "    </tr>\n",
       "    <tr>\n",
       "      <th>731</th>\n",
       "      <td>Yoda</td>\n",
       "      <td>Yoda's species</td>\n",
       "    </tr>\n",
       "    <tr>\n",
       "      <th>732</th>\n",
       "      <td>Zatanna</td>\n",
       "      <td>Human</td>\n",
       "    </tr>\n",
       "    <tr>\n",
       "      <th>733</th>\n",
       "      <td>Zoom</td>\n",
       "      <td>-</td>\n",
       "    </tr>\n",
       "  </tbody>\n",
       "</table>\n",
       "<p>734 rows × 2 columns</p>\n",
       "</div>"
      ],
      "text/plain": [
       "                Name               Race\n",
       "0             A-Bomb              Human\n",
       "1         Abe Sapien      Icthyo Sapien\n",
       "2           Abin Sur            Ungaran\n",
       "3        Abomination  Human / Radiation\n",
       "4            Abraxas      Cosmic Entity\n",
       "..               ...                ...\n",
       "729  Yellowjacket II              Human\n",
       "730             Ymir        Frost Giant\n",
       "731             Yoda     Yoda's species\n",
       "732          Zatanna              Human\n",
       "733             Zoom                  -\n",
       "\n",
       "[734 rows x 2 columns]"
      ]
     },
     "execution_count": 276,
     "metadata": {},
     "output_type": "execute_result"
    }
   ],
   "source": [
    "# stat_total_df = stat_df[(['Name', 'Alignment', 'Total'])]\n",
    "race_df = char_df[(['Name', 'Race'])]\n",
    "race_df"
   ]
  },
  {
   "cell_type": "code",
   "execution_count": 277,
   "id": "356ded83",
   "metadata": {},
   "outputs": [
    {
     "data": {
      "text/html": [
       "<div>\n",
       "<style scoped>\n",
       "    .dataframe tbody tr th:only-of-type {\n",
       "        vertical-align: middle;\n",
       "    }\n",
       "\n",
       "    .dataframe tbody tr th {\n",
       "        vertical-align: top;\n",
       "    }\n",
       "\n",
       "    .dataframe thead th {\n",
       "        text-align: right;\n",
       "    }\n",
       "</style>\n",
       "<table border=\"1\" class=\"dataframe\">\n",
       "  <thead>\n",
       "    <tr style=\"text-align: right;\">\n",
       "      <th></th>\n",
       "      <th>Name</th>\n",
       "      <th>Alignment</th>\n",
       "      <th>Total</th>\n",
       "      <th>Race</th>\n",
       "    </tr>\n",
       "  </thead>\n",
       "  <tbody>\n",
       "    <tr>\n",
       "      <th>0</th>\n",
       "      <td>A-Bomb</td>\n",
       "      <td>good</td>\n",
       "      <td>316</td>\n",
       "      <td>Human</td>\n",
       "    </tr>\n",
       "    <tr>\n",
       "      <th>1</th>\n",
       "      <td>Abe Sapien</td>\n",
       "      <td>good</td>\n",
       "      <td>299</td>\n",
       "      <td>Icthyo Sapien</td>\n",
       "    </tr>\n",
       "    <tr>\n",
       "      <th>2</th>\n",
       "      <td>Abin Sur</td>\n",
       "      <td>good</td>\n",
       "      <td>406</td>\n",
       "      <td>Ungaran</td>\n",
       "    </tr>\n",
       "    <tr>\n",
       "      <th>3</th>\n",
       "      <td>Abomination</td>\n",
       "      <td>bad</td>\n",
       "      <td>436</td>\n",
       "      <td>Human / Radiation</td>\n",
       "    </tr>\n",
       "    <tr>\n",
       "      <th>4</th>\n",
       "      <td>Abraxas</td>\n",
       "      <td>bad</td>\n",
       "      <td>526</td>\n",
       "      <td>Cosmic Entity</td>\n",
       "    </tr>\n",
       "    <tr>\n",
       "      <th>...</th>\n",
       "      <td>...</td>\n",
       "      <td>...</td>\n",
       "      <td>...</td>\n",
       "      <td>...</td>\n",
       "    </tr>\n",
       "    <tr>\n",
       "      <th>595</th>\n",
       "      <td>Yellowjacket</td>\n",
       "      <td>good</td>\n",
       "      <td>164</td>\n",
       "      <td>Human</td>\n",
       "    </tr>\n",
       "    <tr>\n",
       "      <th>596</th>\n",
       "      <td>Yellowjacket II</td>\n",
       "      <td>good</td>\n",
       "      <td>182</td>\n",
       "      <td>Human</td>\n",
       "    </tr>\n",
       "    <tr>\n",
       "      <th>597</th>\n",
       "      <td>Ymir</td>\n",
       "      <td>good</td>\n",
       "      <td>388</td>\n",
       "      <td>Frost Giant</td>\n",
       "    </tr>\n",
       "    <tr>\n",
       "      <th>598</th>\n",
       "      <td>Zatanna</td>\n",
       "      <td>good</td>\n",
       "      <td>292</td>\n",
       "      <td>Human</td>\n",
       "    </tr>\n",
       "    <tr>\n",
       "      <th>599</th>\n",
       "      <td>Zoom</td>\n",
       "      <td>bad</td>\n",
       "      <td>288</td>\n",
       "      <td>-</td>\n",
       "    </tr>\n",
       "  </tbody>\n",
       "</table>\n",
       "<p>600 rows × 4 columns</p>\n",
       "</div>"
      ],
      "text/plain": [
       "                Name Alignment  Total               Race\n",
       "0             A-Bomb      good    316              Human\n",
       "1         Abe Sapien      good    299      Icthyo Sapien\n",
       "2           Abin Sur      good    406            Ungaran\n",
       "3        Abomination       bad    436  Human / Radiation\n",
       "4            Abraxas       bad    526      Cosmic Entity\n",
       "..               ...       ...    ...                ...\n",
       "595     Yellowjacket      good    164              Human\n",
       "596  Yellowjacket II      good    182              Human\n",
       "597             Ymir      good    388        Frost Giant\n",
       "598          Zatanna      good    292              Human\n",
       "599             Zoom       bad    288                  -\n",
       "\n",
       "[600 rows x 4 columns]"
      ]
     },
     "execution_count": 277,
     "metadata": {},
     "output_type": "execute_result"
    }
   ],
   "source": [
    "race_stat_df = pd.merge(stat_total_df, race_df)\n",
    "race_stat_df"
   ]
  },
  {
   "cell_type": "code",
   "execution_count": 319,
   "id": "0e430c37",
   "metadata": {},
   "outputs": [
    {
     "data": {
      "text/plain": [
       "Race\n",
       "Martian              581.000000\n",
       "Bizarro              550.000000\n",
       "Cosmic Entity        539.500000\n",
       "Kryptonian           528.142857\n",
       "Saiyan               521.000000\n",
       "Czarnian             486.000000\n",
       "Human-Kree           480.000000\n",
       "Eternal              471.500000\n",
       "Human / Cosmic       453.333333\n",
       "Android              448.500000\n",
       "Bolovaxian           446.000000\n",
       "New God              440.500000\n",
       "Asgardian            429.750000\n",
       "Korugaran            428.000000\n",
       "Flora Colossus       419.000000\n",
       "Demi-God             415.000000\n",
       "Ungaran              406.000000\n",
       "Alien                402.200000\n",
       "Kakarantharaian      392.000000\n",
       "Frost Giant          380.500000\n",
       "Tamaranean           377.000000\n",
       "Symbiote             371.142857\n",
       "Neyaphem             370.000000\n",
       "Human-Vuldarian      370.000000\n",
       "Demon                354.200000\n",
       "Mutant / Clone       336.000000\n",
       "Inhuman              335.000000\n",
       "Clone                329.000000\n",
       "Zombie               323.000000\n",
       "Cyborg               309.250000\n",
       "Human / Radiation    304.181818\n",
       "Mutant               300.673913\n",
       "Icthyo Sapien        299.000000\n",
       "Metahuman            287.000000\n",
       "Vampire              273.500000\n",
       "Atlantean            261.400000\n",
       "Human                253.724138\n",
       "Amazon               242.500000\n",
       "God / Eternal        226.222222\n",
       "Human / Altered      215.000000\n",
       "Animal               198.000000\n",
       "Alpha                188.800000\n",
       "-                    163.602007\n",
       "Planet                 5.000000\n",
       "Name: Total, dtype: float64"
      ]
     },
     "execution_count": 319,
     "metadata": {},
     "output_type": "execute_result"
    }
   ],
   "source": [
    "race_stat_df['Total'].groupby(by = race_stat_df['Race']).mean().sort_values(ascending = False)"
   ]
  },
  {
   "cell_type": "code",
   "execution_count": 371,
   "id": "1eb556cc",
   "metadata": {},
   "outputs": [
    {
     "data": {
      "image/png": "[encoded data removed]",
      "text/plain": [
       "<Figure size 2160x360 with 1 Axes>"
      ]
     },
     "metadata": {
      "needs_background": "light"
     },
     "output_type": "display_data"
    }
   ],
   "source": [
    "fig, ax = plt.subplots(1, 1, figsize=(30,5))\n",
    "# race_stat_df['Total'].groupby(by = race_stat_df['Race']).mean().to_frame().sort_values(by = 'Total', ascending = False)\n",
    "sorted_df = race_stat_df.groupby(['Race'])['Total'].mean().to_frame().sort_values(by = 'Total', ascending = False)\n",
    "sns.barplot(x = sorted_df.index, y= 'Total', data = sorted_df)\n",
    "\n",
    "plt.xlabel('Race')\n",
    "plt.xticks(fontsize=15, rotation=90) # when X tick labels are long\n",
    "plt.title(\"Power Of Race\", fontsize = 30)\n",
    "\n",
    "plt.show()"
   ]
  },
  {
   "cell_type": "code",
   "execution_count": null,
   "id": "c833c3f4",
   "metadata": {},
   "outputs": [],
   "source": []
  }
 ],
 "metadata": {
  "kernelspec": {
   "display_name": "Python 3",
   "language": "python",
   "name": "python3"
  },
  "language_info": {
   "codemirror_mode": {
    "name": "ipython",
    "version": 3
   },
   "file_extension": ".py",
   "mimetype": "text/x-python",
   "name": "python",
   "nbconvert_exporter": "python",
   "pygments_lexer": "ipython3",
   "version": "3.8.2"
  }
 },
 "nbformat": 4,
 "nbformat_minor": 5
}
