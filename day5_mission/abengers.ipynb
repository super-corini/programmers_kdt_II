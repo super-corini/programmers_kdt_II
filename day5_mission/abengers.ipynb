{
 "metadata": {
  "language_info": {
   "codemirror_mode": {
    "name": "ipython",
    "version": 3
   },
   "file_extension": ".py",
   "mimetype": "text/x-python",
   "name": "python",
   "nbconvert_exporter": "python",
   "pygments_lexer": "ipython3",
   "version": "3.9.5"
  },
  "orig_nbformat": 2,
  "kernelspec": {
   "name": "python395jvsc74a57bd0e25d969c92605c0c7f415fe0832a23d7af293f208a65b2ef2c6d7f3dcccb9abb",
   "display_name": "Python 3.9.5 64-bit"
  },
  "metadata": {
   "interpreter": {
    "hash": "e25d969c92605c0c7f415fe0832a23d7af293f208a65b2ef2c6d7f3dcccb9abb"
   }
  }
 },
 "nbformat": 4,
 "nbformat_minor": 2,
 "cells": [
  {
   "source": [
    "# Mission 2.\n",
    "'''\n",
    "이 미션은 다음 데이터 셋을 이용해서 진행되어야합니다.\n",
    "(https://www.kaggle.com/dannielr/marvel-superheroes?select=charcters_stats.csv)\n",
    "제출할 파일 : abengers.ipynb\n",
    "\n",
    "###Core Mission \n",
    "\n",
    "다음질문에 답하시오\n",
    "\n",
    "-캐릭터는 저마다 지능,힘, 등 다양한 수치를 지니고 있다 이러한 $수치의 합이 가장 큰$ 캐릭터는 누구인가? 이를 보이기 위한 과정을 보여라\n",
    "\n",
    "-좋은 캐릭터와 나쁜 캐릭터의 능력치들의 수치 분포를 알고 싶다. 이를 표현하기 위한 적절한 그래프를 선택해서 이를 위한 전처리를 진행하고 시각화하여라\n",
    "\n",
    "###Extra Mission\n",
    "다음 질문에 답하시오\n",
    "\n",
    "-캐릭터는 저마다 지능 힘 등 다양한 수치를 지니고 있다. \n",
    "\n",
    "또한 각 캐릭터는 DC 마블등 다양한 코믹스 회사를 바탕으로 하고 있다 어떤 코믹스 회가의 캐릭터들이 *능력치 합의 평균이 가장 큰*가?\n",
    "\n",
    "이를 보이기 위한 과정을 보여라\n",
    "\n",
    "-좋은 캐릭터와 나쁜 캐릭터가 격돌한다고 한다. 격돌하는 경우 캐릭터들의 능력치의 합의 평균이 큰 팀이 이긴다고 한다. \n",
    "\n",
    "단, 불의를 못참는 중립 캐릭털들은 중립캐릭터가 없었을 당시에 열세인 팀에 가담한다\n",
    "\n",
    "이러한 상활일때 결과적으로 어떤 캐릭터 진영이 승리할 것인가? 이를 보이기 위한 과정을 보여라\n",
    "\n",
    "- 이 데이터를 이용해 진행하고 싶은 EDA 및 시각화가 있다면 자유롭게 진행하여라\n",
    "\n",
    "- 이과제는 핵심임무 이후에 진행되어야 한다.\n",
    "\n",
    "'''"
   ],
   "cell_type": "markdown",
   "metadata": {}
  },
  {
   "source": [
    "mkdir superheroes\n",
    "\n",
    "cd superheroes\n",
    "\n",
    "kaggle datasets download -d dannielr/marvel-superheroes\n",
    "\n",
    "unzip marvel-superheroes.zip "
   ],
   "cell_type": "markdown",
   "metadata": {}
  },
  {
   "cell_type": "code",
   "execution_count": null,
   "metadata": {},
   "outputs": [],
   "source": [
    "import numpy as np \n",
    "import pandas as pd \n",
    "import matplotlib.pyplot as plt \n",
    "import seaborn as sns \n",
    "\n",
    "%matplotlib inline"
   ]
  },
  {
   "cell_type": "code",
   "execution_count": null,
   "metadata": {},
   "outputs": [],
   "source": [
    "superheroes_df = pd.read_csv('./superheroes/charcters_stats.csv')\n",
    "superheroes_df"
   ]
  },
  {
   "source": [
    "### 1. 캐릭터는 저마다 지능,힘, 등 다양한 수치를 지니고 있다 이러한 수치의 합이 가장큰  캐릭터는 누구인가? 이를 보이기 위한 과정을 보여라"
   ],
   "cell_type": "markdown",
   "metadata": {}
  },
  {
   "cell_type": "code",
   "execution_count": null,
   "metadata": {},
   "outputs": [],
   "source": [
    "superheroes_df.loc[superheroes_df['Total'].idxmax()]"
   ]
  },
  {
   "source": [
    "### 2. 좋은 캐릭터와 나쁜 캐릭터의 능력치들의 수치 분포를 알고 싶다. 이를 표현하기 위한 적절한 그래프를 선택해서 이를 위한 전처리를 진행하고 시각화하여라"
   ],
   "cell_type": "markdown",
   "metadata": {}
  },
  {
   "cell_type": "code",
   "execution_count": null,
   "metadata": {},
   "outputs": [],
   "source": [
    "superheroes_df.groupby(['Alignment','Intelligence','Strength','Speed','Durability','Power','Combat'])['Alignment'].count()"
   ]
  },
  {
   "cell_type": "code",
   "execution_count": null,
   "metadata": {},
   "outputs": [],
   "source": [
    "goodhero = superheroes_df.loc[superheroes_df['Alignment'] == 'good']\n",
    "badhero = superheroes_df.loc[superheroes_df['Alignment'] == 'bad']"
   ]
  },
  {
   "cell_type": "code",
   "execution_count": null,
   "metadata": {},
   "outputs": [],
   "source": [
    "#Intelligence\n",
    "g_Intelligence=(goodhero['Intelligence'].value_counts()/goodhero['Name'].count()).sort_index().reset_index()\n",
    "b_Intelligence=(badhero['Intelligence'].value_counts()/badhero['Name'].count()).sort_index().reset_index()\n",
    "#Strength\n",
    "g_Strength=(goodhero['Strength'].value_counts()/goodhero['Name'].count()).sort_index().reset_index()\n",
    "b_Strength=(badhero['Strength'].value_counts()/badhero['Name'].count()).sort_index().reset_index()\n",
    "#Speed\n",
    "g_Speed=(goodhero['Speed'].value_counts()/goodhero['Name'].count()).sort_index().reset_index()\n",
    "b_Speed=(badhero['Speed'].value_counts()/badhero['Name'].count()).sort_index().reset_index()\n",
    "#Durability\n",
    "g_Durability=(goodhero['Durability'].value_counts()/goodhero['Name'].count()).sort_index().reset_index()\n",
    "b_Durability=(badhero['Durability'].value_counts()/badhero['Name'].count()).sort_index().reset_index()\n",
    "#Power\n",
    "g_Power=(goodhero['Power'].value_counts()/goodhero['Name'].count()).sort_index().reset_index()\n",
    "b_Power=(badhero['Power'].value_counts()/badhero['Name'].count()).sort_index().reset_index()\n",
    "#Combat\n",
    "g_Combat=(goodhero['Combat'].value_counts()/goodhero['Name'].count()).sort_index().reset_index()\n",
    "b_Combat=(badhero['Combat'].value_counts()/badhero['Name'].count()).sort_index().reset_index()"
   ]
  },
  {
   "cell_type": "code",
   "execution_count": null,
   "metadata": {},
   "outputs": [],
   "source": [
    "b_Speed"
   ]
  },
  {
   "source": [
    "색깔 만들기"
   ],
   "cell_type": "markdown",
   "metadata": {}
  },
  {
   "cell_type": "code",
   "execution_count": null,
   "metadata": {},
   "outputs": [],
   "source": [
    "redcolor = {}\n",
    "bluecolor = {}\n",
    "for i in range(0,101):\n",
    "    redcolor[i] = \"#ff{0:02x}{0:02x}\".format(int((101-i)/100*255))\n",
    "    bluecolor[i] = \"#{0:02x}{0:02x}ff\".format(int((101-i)/100*255))"
   ]
  },
  {
   "cell_type": "code",
   "execution_count": null,
   "metadata": {},
   "outputs": [],
   "source": [
    "def badcolorsmaker(indexlist):\n",
    "    color = []\n",
    "    for i in indexlist['index']:\n",
    "        if i > 100 :\n",
    "            color.append(\"#000000\")\n",
    "        else:\n",
    "            color.append(redcolor[i])\n",
    "    return color\n",
    "def goodcolorsmaker(indexlist):\n",
    "    color = []\n",
    "    for i in indexlist['index']:\n",
    "        if i > 100 :\n",
    "            color.append(\"#000000\")\n",
    "        else:\n",
    "            color.append(bluecolor[i])\n",
    "    return color"
   ]
  },
  {
   "cell_type": "code",
   "execution_count": null,
   "metadata": {},
   "outputs": [],
   "source": [
    "b_Combat['Combat']"
   ]
  },
  {
   "cell_type": "code",
   "execution_count": null,
   "metadata": {},
   "outputs": [],
   "source": [
    "fig, ax =plt.subplots(2,3, figsize=(20, 15))\n",
    "\n",
    "wedgeprops1={'width': 0.7, 'edgecolor': 'w', 'linewidth': 1}\n",
    "wedgeprops2={'width': 0.3, 'edgecolor': 'w', 'linewidth': 1}\n",
    "# 0,0 Intelligence\n",
    "ax[0,0].set_title('Intelligence')\n",
    "ax[0][0].pie(b_Intelligence['Intelligence'],labels=b_Intelligence['index'], startangle=90, wedgeprops=wedgeprops1, colors=badcolorsmaker(b_Intelligence),labeldistance=0.5)\n",
    "ax[0][0].pie(g_Intelligence['Intelligence'],labels=g_Intelligence['index'],startangle=90, wedgeprops=wedgeprops2, labeldistance=0.8,colors=goodcolorsmaker(g_Intelligence))\n",
    "#0,1 Strength\n",
    "ax[0,1].set_title('Strength')\n",
    "ax[0][1].pie(b_Strength['Strength'],labels=b_Strength['index'], startangle=90, wedgeprops=wedgeprops1, colors=badcolorsmaker(b_Strength),labeldistance=0.5)\n",
    "ax[0][1].pie(g_Strength['Strength'],labels=g_Strength['index'],startangle=90, wedgeprops=wedgeprops2, labeldistance=0.8,colors=goodcolorsmaker(g_Strength))\n",
    "#0,2 Speed\n",
    "ax[0,2].set_title('Speed')\n",
    "ax[0][2].pie(b_Speed['Speed'],labels=b_Speed['index'], startangle=90, wedgeprops=wedgeprops1, colors=badcolorsmaker(b_Speed),labeldistance=0.5)\n",
    "ax[0][2].pie(g_Speed['Speed'],labels=g_Speed['index'],startangle=90, wedgeprops=wedgeprops2, labeldistance=0.8,colors=goodcolorsmaker(g_Speed))\n",
    "#1,0 Durability\n",
    "ax[1,0].set_title('Durability')\n",
    "ax[1][0].pie(b_Durability['Durability'],labels=b_Durability['index'], startangle=90, wedgeprops=wedgeprops1, colors=badcolorsmaker(b_Durability),labeldistance=0.5)\n",
    "ax[1][0].pie(g_Durability['Durability'],labels=g_Durability['index'],startangle=90, wedgeprops=wedgeprops2, labeldistance=0.8,colors=goodcolorsmaker(g_Durability))\n",
    "#1,1 Power\n",
    "ax[1,1].set_title('Power')\n",
    "ax[1][1].pie(b_Power['Power'],labels=b_Power['index'], startangle=90, wedgeprops=wedgeprops1, colors=badcolorsmaker(b_Power),labeldistance=0.5)\n",
    "ax[1][1].pie(g_Power['Power'],labels=g_Power['index'],startangle=90, wedgeprops=wedgeprops2, labeldistance=0.8,colors=goodcolorsmaker(g_Power))\n",
    "#1,2 Combat\n",
    "ax[1,2].set_title('Combat')\n",
    "ax[1][2].pie(b_Combat['Combat'],labels=b_Combat['index'], startangle=90, wedgeprops=wedgeprops1, colors=badcolorsmaker(b_Combat),labeldistance=0.5)\n",
    "ax[1][2].pie(g_Combat['Combat'],labels=g_Combat['index'],startangle=90, wedgeprops=wedgeprops2, labeldistance=0.8,colors=goodcolorsmaker(g_Combat))\n",
    "plt.show()"
   ]
  },
  {
   "source": [
    "## Extra Mission\n",
    "\n",
    "다음 질문에 답하시오\n",
    "\n",
    "-캐릭터는 저마다 지능 힘 등 다양한 수치를 지니고 있다. \n",
    "\n",
    "또한 각 캐릭터는 DC 마블등 다양한 코믹스 회사를 바탕으로 하고 있다 어떤 코믹스 회가의 캐릭터들이 *능력치 합의 평균이 가장 큰*가?\n",
    "\n",
    "이를 보이기 위한 과정을 보여라\n",
    "\n",
    "-좋은 캐릭터와 나쁜 캐릭터가 격돌한다고 한다. 격돌하는 경우 캐릭터들의 능력치의 합의 평균이 큰 팀이 이긴다고 한다. \n",
    "\n",
    "단, 불의를 못참는 중립 캐릭털들은 중립캐릭터가 없었을 당시에 열세인 팀에 가담한다\n",
    "\n",
    "이러한 상활일때 결과적으로 어떤 캐릭터 진영이 승리할 것인가? 이를 보이기 위한 과정을 보여라\n",
    "\n",
    "- 이 데이터를 이용해 진행하고 싶은 EDA 및 시각화가 있다면 자유롭게 진행하여라\n",
    "\n",
    "- 이과제는 핵심임무 이후에 진행되어야 한다."
   ],
   "cell_type": "markdown",
   "metadata": {}
  },
  {
   "cell_type": "code",
   "execution_count": null,
   "metadata": {},
   "outputs": [],
   "source": [
    "import numpy as np \n",
    "import pandas as pd \n",
    "import matplotlib.pyplot as plt \n",
    "import seaborn as sns \n",
    "\n",
    "%matplotlib inline"
   ]
  },
  {
   "cell_type": "code",
   "execution_count": null,
   "metadata": {},
   "outputs": [],
   "source": [
    "superheroes_df = pd.read_csv(\"./superheroes/charcters_stats.csv\")\n",
    "superheroes_df\n"
   ]
  },
  {
   "cell_type": "code",
   "execution_count": null,
   "metadata": {},
   "outputs": [],
   "source": [
    "marvel_df = pd.read_csv(\"./superheroes/marvel_characters_info.csv\")"
   ]
  },
  {
   "cell_type": "code",
   "execution_count": null,
   "metadata": {},
   "outputs": [],
   "source": [
    "marge_df=pd.merge(superheroes_df,marvel_df)"
   ]
  },
  {
   "cell_type": "code",
   "execution_count": null,
   "metadata": {},
   "outputs": [],
   "source": [
    "marge_df[['Publisher','Total']].groupby(['Publisher']).mean()"
   ]
  },
  {
   "cell_type": "code",
   "execution_count": null,
   "metadata": {},
   "outputs": [],
   "source": [
    "marge_df[['Publisher','Total']].groupby(['Publisher']).mean().reset_index().max()"
   ]
  },
  {
   "source": [
    "이봄베이!! 이봄베이~!!!\n",
    "\n",
    "와칸다 포에버!!!\n"
   ],
   "cell_type": "markdown",
   "metadata": {}
  },
  {
   "cell_type": "code",
   "execution_count": null,
   "metadata": {},
   "outputs": [],
   "source": [
    "superheroes_df['Alignment'].unique()"
   ]
  },
  {
   "cell_type": "code",
   "execution_count": null,
   "metadata": {},
   "outputs": [],
   "source": [
    "gvsb_df=superheroes_df[['Alignment','Total']].groupby(['Alignment']).mean()"
   ]
  },
  {
   "cell_type": "code",
   "execution_count": null,
   "metadata": {},
   "outputs": [],
   "source": [
    "superheroes_df[superheroes_df['Alignment'].isnull()]"
   ]
  },
  {
   "cell_type": "code",
   "execution_count": null,
   "metadata": {},
   "outputs": [],
   "source": [
    "gvsb_df"
   ]
  },
  {
   "cell_type": "code",
   "execution_count": null,
   "metadata": {},
   "outputs": [],
   "source": [
    "if (gvsb_df.loc['bad']-gvsb_df.loc['good'])['Total'] > 0:\n",
    "    gvsb_df.loc['good'] = (s_sum.loc['good']['Total']+ s_sum.loc['neutral']['Total'] + n_sum)/(s_count.loc['good']['Total'] + s_count.loc['neutral']['Total'] + n_count)\n",
    "else:\n",
    "    gvsb_df.loc['bad'] = (s_sum.loc['bad']['Total']+ s_sum.loc['neutral']['Total'] + n_sum)/(s_count.loc['bad']['Total'] + s_count.loc['neutral']['Total'] + n_count)\n"
   ]
  },
  {
   "cell_type": "code",
   "execution_count": null,
   "metadata": {},
   "outputs": [],
   "source": [
    "s_sum=superheroes_df[['Alignment','Total']].groupby(['Alignment']).sum()"
   ]
  },
  {
   "cell_type": "code",
   "execution_count": null,
   "metadata": {},
   "outputs": [],
   "source": [
    "n_sum=superheroes_df[superheroes_df['Alignment'].isnull()]['Total'].sum()"
   ]
  },
  {
   "cell_type": "code",
   "execution_count": null,
   "metadata": {},
   "outputs": [],
   "source": [
    "s_count=superheroes_df[['Alignment','Total']].groupby(['Alignment']).count()"
   ]
  },
  {
   "cell_type": "code",
   "execution_count": null,
   "metadata": {},
   "outputs": [],
   "source": [
    "n_count=superheroes_df[superheroes_df['Alignment'].isnull()]['Total'].count()"
   ]
  },
  {
   "cell_type": "code",
   "execution_count": null,
   "metadata": {},
   "outputs": [],
   "source": [
    "(s_sum.loc['good']['Total']+ s_sum.loc['neutral']['Total'] + n_sum)/(s_count.loc['good']['Total'] + s_count.loc['neutral']['Total'] + n_count)"
   ]
  },
  {
   "cell_type": "code",
   "execution_count": null,
   "metadata": {},
   "outputs": [],
   "source": [
    "gvsb_df"
   ]
  },
  {
   "cell_type": "code",
   "execution_count": null,
   "metadata": {},
   "outputs": [],
   "source": [
    "if (gvsb_df.loc['bad']-gvsb_df.loc['good'])['Total'] > 0:\n",
    "    print('가로우 : 괴인이 최고다!')\n",
    "else:\n",
    "    print('어벤저스 어셈블')"
   ]
  },
  {
   "cell_type": "code",
   "execution_count": null,
   "metadata": {},
   "outputs": [],
   "source": []
  }
 ]
}