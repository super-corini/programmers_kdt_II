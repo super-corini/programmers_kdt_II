{
 "cells": [
  {
   "cell_type": "code",
   "execution_count": 52,
   "id": "c60a3a81",
   "metadata": {},
   "outputs": [],
   "source": [
    "import pandas as pd\n",
    "import numpy as np\n",
    "import scipy.stats as stats\n",
    "\n",
    "import seaborn as sns\n",
    "import matplotlib.pyplot as plt\n",
    "%matplotlib inline"
   ]
  },
  {
   "cell_type": "code",
   "execution_count": 2,
   "id": "b2e54059",
   "metadata": {},
   "outputs": [],
   "source": [
    "raw = pd.read_csv('charcters_stats.csv')"
   ]
  },
  {
   "cell_type": "code",
   "execution_count": 3,
   "id": "cbe92233",
   "metadata": {},
   "outputs": [
    {
     "name": "stdout",
     "output_type": "stream",
     "text": [
      "<class 'pandas.core.frame.DataFrame'>\n",
      "RangeIndex: 611 entries, 0 to 610\n",
      "Data columns (total 9 columns):\n",
      " #   Column        Non-Null Count  Dtype \n",
      "---  ------        --------------  ----- \n",
      " 0   Name          611 non-null    object\n",
      " 1   Alignment     608 non-null    object\n",
      " 2   Intelligence  611 non-null    int64 \n",
      " 3   Strength      611 non-null    int64 \n",
      " 4   Speed         611 non-null    int64 \n",
      " 5   Durability    611 non-null    int64 \n",
      " 6   Power         611 non-null    int64 \n",
      " 7   Combat        611 non-null    int64 \n",
      " 8   Total         611 non-null    int64 \n",
      "dtypes: int64(7), object(2)\n",
      "memory usage: 43.1+ KB\n"
     ]
    }
   ],
   "source": [
    "raw.info()"
   ]
  },
  {
   "cell_type": "code",
   "execution_count": 4,
   "id": "b404c005",
   "metadata": {},
   "outputs": [
    {
     "data": {
      "text/html": [
       "<div>\n",
       "<style scoped>\n",
       "    .dataframe tbody tr th:only-of-type {\n",
       "        vertical-align: middle;\n",
       "    }\n",
       "\n",
       "    .dataframe tbody tr th {\n",
       "        vertical-align: top;\n",
       "    }\n",
       "\n",
       "    .dataframe thead th {\n",
       "        text-align: right;\n",
       "    }\n",
       "</style>\n",
       "<table border=\"1\" class=\"dataframe\">\n",
       "  <thead>\n",
       "    <tr style=\"text-align: right;\">\n",
       "      <th></th>\n",
       "      <th>Name</th>\n",
       "      <th>Alignment</th>\n",
       "      <th>Intelligence</th>\n",
       "      <th>Strength</th>\n",
       "      <th>Speed</th>\n",
       "      <th>Durability</th>\n",
       "      <th>Power</th>\n",
       "      <th>Combat</th>\n",
       "      <th>Total</th>\n",
       "    </tr>\n",
       "  </thead>\n",
       "  <tbody>\n",
       "    <tr>\n",
       "      <th>0</th>\n",
       "      <td>3-D Man</td>\n",
       "      <td>good</td>\n",
       "      <td>50</td>\n",
       "      <td>31</td>\n",
       "      <td>43</td>\n",
       "      <td>32</td>\n",
       "      <td>25</td>\n",
       "      <td>52</td>\n",
       "      <td>233</td>\n",
       "    </tr>\n",
       "    <tr>\n",
       "      <th>1</th>\n",
       "      <td>A-Bomb</td>\n",
       "      <td>good</td>\n",
       "      <td>38</td>\n",
       "      <td>100</td>\n",
       "      <td>17</td>\n",
       "      <td>80</td>\n",
       "      <td>17</td>\n",
       "      <td>64</td>\n",
       "      <td>316</td>\n",
       "    </tr>\n",
       "    <tr>\n",
       "      <th>2</th>\n",
       "      <td>Abe Sapien</td>\n",
       "      <td>good</td>\n",
       "      <td>88</td>\n",
       "      <td>14</td>\n",
       "      <td>35</td>\n",
       "      <td>42</td>\n",
       "      <td>35</td>\n",
       "      <td>85</td>\n",
       "      <td>299</td>\n",
       "    </tr>\n",
       "    <tr>\n",
       "      <th>3</th>\n",
       "      <td>Abin Sur</td>\n",
       "      <td>good</td>\n",
       "      <td>50</td>\n",
       "      <td>90</td>\n",
       "      <td>53</td>\n",
       "      <td>64</td>\n",
       "      <td>84</td>\n",
       "      <td>65</td>\n",
       "      <td>406</td>\n",
       "    </tr>\n",
       "    <tr>\n",
       "      <th>4</th>\n",
       "      <td>Abomination</td>\n",
       "      <td>bad</td>\n",
       "      <td>63</td>\n",
       "      <td>80</td>\n",
       "      <td>53</td>\n",
       "      <td>90</td>\n",
       "      <td>55</td>\n",
       "      <td>95</td>\n",
       "      <td>436</td>\n",
       "    </tr>\n",
       "  </tbody>\n",
       "</table>\n",
       "</div>"
      ],
      "text/plain": [
       "          Name Alignment  Intelligence  Strength  Speed  Durability  Power  \\\n",
       "0      3-D Man      good            50        31     43          32     25   \n",
       "1       A-Bomb      good            38       100     17          80     17   \n",
       "2   Abe Sapien      good            88        14     35          42     35   \n",
       "3     Abin Sur      good            50        90     53          64     84   \n",
       "4  Abomination       bad            63        80     53          90     55   \n",
       "\n",
       "   Combat  Total  \n",
       "0      52    233  \n",
       "1      64    316  \n",
       "2      85    299  \n",
       "3      65    406  \n",
       "4      95    436  "
      ]
     },
     "execution_count": 4,
     "metadata": {},
     "output_type": "execute_result"
    }
   ],
   "source": [
    "raw.head()"
   ]
  },
  {
   "cell_type": "code",
   "execution_count": 5,
   "id": "aeaaddb2",
   "metadata": {},
   "outputs": [
    {
     "data": {
      "text/html": [
       "<div>\n",
       "<style scoped>\n",
       "    .dataframe tbody tr th:only-of-type {\n",
       "        vertical-align: middle;\n",
       "    }\n",
       "\n",
       "    .dataframe tbody tr th {\n",
       "        vertical-align: top;\n",
       "    }\n",
       "\n",
       "    .dataframe thead tr th {\n",
       "        text-align: left;\n",
       "    }\n",
       "\n",
       "    .dataframe thead tr:last-of-type th {\n",
       "        text-align: right;\n",
       "    }\n",
       "</style>\n",
       "<table border=\"1\" class=\"dataframe\">\n",
       "  <thead>\n",
       "    <tr>\n",
       "      <th></th>\n",
       "      <th colspan=\"4\" halign=\"left\">Name</th>\n",
       "    </tr>\n",
       "    <tr>\n",
       "      <th></th>\n",
       "      <th>count</th>\n",
       "      <th>unique</th>\n",
       "      <th>top</th>\n",
       "      <th>freq</th>\n",
       "    </tr>\n",
       "    <tr>\n",
       "      <th>Alignment</th>\n",
       "      <th></th>\n",
       "      <th></th>\n",
       "      <th></th>\n",
       "      <th></th>\n",
       "    </tr>\n",
       "  </thead>\n",
       "  <tbody>\n",
       "    <tr>\n",
       "      <th>bad</th>\n",
       "      <td>165</td>\n",
       "      <td>165</td>\n",
       "      <td>Rick Flag</td>\n",
       "      <td>1</td>\n",
       "    </tr>\n",
       "    <tr>\n",
       "      <th>good</th>\n",
       "      <td>432</td>\n",
       "      <td>431</td>\n",
       "      <td>Nova</td>\n",
       "      <td>2</td>\n",
       "    </tr>\n",
       "    <tr>\n",
       "      <th>neutral</th>\n",
       "      <td>11</td>\n",
       "      <td>11</td>\n",
       "      <td>Red Hood</td>\n",
       "      <td>1</td>\n",
       "    </tr>\n",
       "  </tbody>\n",
       "</table>\n",
       "</div>"
      ],
      "text/plain": [
       "           Name                       \n",
       "          count unique        top freq\n",
       "Alignment                             \n",
       "bad         165    165  Rick Flag    1\n",
       "good        432    431       Nova    2\n",
       "neutral      11     11   Red Hood    1"
      ]
     },
     "execution_count": 5,
     "metadata": {},
     "output_type": "execute_result"
    }
   ],
   "source": [
    "raw.groupby('Alignment').describe(include=['O'])"
   ]
  },
  {
   "cell_type": "code",
   "execution_count": 7,
   "id": "3baf554e",
   "metadata": {},
   "outputs": [
    {
     "data": {
      "text/html": [
       "<div>\n",
       "<style scoped>\n",
       "    .dataframe tbody tr th:only-of-type {\n",
       "        vertical-align: middle;\n",
       "    }\n",
       "\n",
       "    .dataframe tbody tr th {\n",
       "        vertical-align: top;\n",
       "    }\n",
       "\n",
       "    .dataframe thead th {\n",
       "        text-align: right;\n",
       "    }\n",
       "</style>\n",
       "<table border=\"1\" class=\"dataframe\">\n",
       "  <thead>\n",
       "    <tr style=\"text-align: right;\">\n",
       "      <th></th>\n",
       "      <th>Name</th>\n",
       "      <th>Alignment</th>\n",
       "      <th>Intelligence</th>\n",
       "      <th>Strength</th>\n",
       "      <th>Speed</th>\n",
       "      <th>Durability</th>\n",
       "      <th>Power</th>\n",
       "      <th>Combat</th>\n",
       "      <th>Total</th>\n",
       "    </tr>\n",
       "  </thead>\n",
       "  <tbody>\n",
       "    <tr>\n",
       "      <th>417</th>\n",
       "      <td>Nova_A</td>\n",
       "      <td>good</td>\n",
       "      <td>100</td>\n",
       "      <td>85</td>\n",
       "      <td>67</td>\n",
       "      <td>101</td>\n",
       "      <td>100</td>\n",
       "      <td>85</td>\n",
       "      <td>538</td>\n",
       "    </tr>\n",
       "    <tr>\n",
       "      <th>418</th>\n",
       "      <td>Nova_B</td>\n",
       "      <td>good</td>\n",
       "      <td>38</td>\n",
       "      <td>60</td>\n",
       "      <td>100</td>\n",
       "      <td>100</td>\n",
       "      <td>100</td>\n",
       "      <td>25</td>\n",
       "      <td>423</td>\n",
       "    </tr>\n",
       "  </tbody>\n",
       "</table>\n",
       "</div>"
      ],
      "text/plain": [
       "       Name Alignment  Intelligence  Strength  Speed  Durability  Power  \\\n",
       "417  Nova_A      good           100        85     67         101    100   \n",
       "418  Nova_B      good            38        60    100         100    100   \n",
       "\n",
       "     Combat  Total  \n",
       "417      85    538  \n",
       "418      25    423  "
      ]
     },
     "execution_count": 7,
     "metadata": {},
     "output_type": "execute_result"
    }
   ],
   "source": [
    "from itertools import cycle\n",
    "c = cycle('AB')\n",
    "\n",
    "for idx, row in raw.loc[raw['Name'] == 'Nova'].iterrows():\n",
    "    name = row.Name\n",
    "    raw.at[idx, 'Name'] = f'{name}_{next(c)}'\n",
    "\n",
    "raw.loc[raw['Name'].str.contains('Nova')]"
   ]
  },
  {
   "cell_type": "code",
   "execution_count": 27,
   "id": "f5a204db",
   "metadata": {},
   "outputs": [
    {
     "data": {
      "text/html": [
       "<div>\n",
       "<style scoped>\n",
       "    .dataframe tbody tr th:only-of-type {\n",
       "        vertical-align: middle;\n",
       "    }\n",
       "\n",
       "    .dataframe tbody tr th {\n",
       "        vertical-align: top;\n",
       "    }\n",
       "\n",
       "    .dataframe thead tr th {\n",
       "        text-align: left;\n",
       "    }\n",
       "\n",
       "    .dataframe thead tr:last-of-type th {\n",
       "        text-align: right;\n",
       "    }\n",
       "</style>\n",
       "<table border=\"1\" class=\"dataframe\">\n",
       "  <thead>\n",
       "    <tr>\n",
       "      <th></th>\n",
       "      <th colspan=\"8\" halign=\"left\">Total</th>\n",
       "    </tr>\n",
       "    <tr>\n",
       "      <th></th>\n",
       "      <th>count</th>\n",
       "      <th>mean</th>\n",
       "      <th>std</th>\n",
       "      <th>min</th>\n",
       "      <th>25%</th>\n",
       "      <th>50%</th>\n",
       "      <th>75%</th>\n",
       "      <th>max</th>\n",
       "    </tr>\n",
       "    <tr>\n",
       "      <th>Alignment</th>\n",
       "      <th></th>\n",
       "      <th></th>\n",
       "      <th></th>\n",
       "      <th></th>\n",
       "      <th></th>\n",
       "      <th></th>\n",
       "      <th></th>\n",
       "      <th></th>\n",
       "    </tr>\n",
       "  </thead>\n",
       "  <tbody>\n",
       "    <tr>\n",
       "      <th>bad</th>\n",
       "      <td>165.0</td>\n",
       "      <td>247.212121</td>\n",
       "      <td>174.965808</td>\n",
       "      <td>5.0</td>\n",
       "      <td>5.0</td>\n",
       "      <td>271.0</td>\n",
       "      <td>373.00</td>\n",
       "      <td>579.0</td>\n",
       "    </tr>\n",
       "    <tr>\n",
       "      <th>good</th>\n",
       "      <td>432.0</td>\n",
       "      <td>214.990741</td>\n",
       "      <td>163.305515</td>\n",
       "      <td>5.0</td>\n",
       "      <td>5.0</td>\n",
       "      <td>244.0</td>\n",
       "      <td>339.75</td>\n",
       "      <td>581.0</td>\n",
       "    </tr>\n",
       "    <tr>\n",
       "      <th>neutral</th>\n",
       "      <td>11.0</td>\n",
       "      <td>355.363636</td>\n",
       "      <td>122.137032</td>\n",
       "      <td>196.0</td>\n",
       "      <td>259.0</td>\n",
       "      <td>366.0</td>\n",
       "      <td>412.50</td>\n",
       "      <td>553.0</td>\n",
       "    </tr>\n",
       "  </tbody>\n",
       "</table>\n",
       "</div>"
      ],
      "text/plain": [
       "           Total                                                            \n",
       "           count        mean         std    min    25%    50%     75%    max\n",
       "Alignment                                                                   \n",
       "bad        165.0  247.212121  174.965808    5.0    5.0  271.0  373.00  579.0\n",
       "good       432.0  214.990741  163.305515    5.0    5.0  244.0  339.75  581.0\n",
       "neutral     11.0  355.363636  122.137032  196.0  259.0  366.0  412.50  553.0"
      ]
     },
     "execution_count": 27,
     "metadata": {},
     "output_type": "execute_result"
    }
   ],
   "source": [
    "pd.options.display.max_columns = 56\n",
    "raw[['Alignment', 'Total']].groupby('Alignment').describe()"
   ]
  },
  {
   "cell_type": "markdown",
   "id": "9754e9b2",
   "metadata": {},
   "source": [
    "## Core Mission"
   ]
  },
  {
   "cell_type": "markdown",
   "id": "b6c03c05",
   "metadata": {},
   "source": [
    "- ### 수치의 합이 가장 큰 캐릭터 = Martian Manhunter"
   ]
  },
  {
   "cell_type": "code",
   "execution_count": 25,
   "id": "6c1e5753",
   "metadata": {},
   "outputs": [
    {
     "data": {
      "text/html": [
       "<div>\n",
       "<style scoped>\n",
       "    .dataframe tbody tr th:only-of-type {\n",
       "        vertical-align: middle;\n",
       "    }\n",
       "\n",
       "    .dataframe tbody tr th {\n",
       "        vertical-align: top;\n",
       "    }\n",
       "\n",
       "    .dataframe thead th {\n",
       "        text-align: right;\n",
       "    }\n",
       "</style>\n",
       "<table border=\"1\" class=\"dataframe\">\n",
       "  <thead>\n",
       "    <tr style=\"text-align: right;\">\n",
       "      <th></th>\n",
       "      <th>Name</th>\n",
       "      <th>Alignment</th>\n",
       "      <th>Intelligence</th>\n",
       "      <th>Strength</th>\n",
       "      <th>Speed</th>\n",
       "      <th>Durability</th>\n",
       "      <th>Power</th>\n",
       "      <th>Combat</th>\n",
       "      <th>Total</th>\n",
       "    </tr>\n",
       "  </thead>\n",
       "  <tbody>\n",
       "    <tr>\n",
       "      <th>361</th>\n",
       "      <td>Martian Manhunter</td>\n",
       "      <td>good</td>\n",
       "      <td>100</td>\n",
       "      <td>100</td>\n",
       "      <td>96</td>\n",
       "      <td>100</td>\n",
       "      <td>100</td>\n",
       "      <td>85</td>\n",
       "      <td>581</td>\n",
       "    </tr>\n",
       "    <tr>\n",
       "      <th>242</th>\n",
       "      <td>General Zod</td>\n",
       "      <td>bad</td>\n",
       "      <td>94</td>\n",
       "      <td>100</td>\n",
       "      <td>96</td>\n",
       "      <td>100</td>\n",
       "      <td>94</td>\n",
       "      <td>95</td>\n",
       "      <td>579</td>\n",
       "    </tr>\n",
       "    <tr>\n",
       "      <th>535</th>\n",
       "      <td>Superboy-Prime</td>\n",
       "      <td>bad</td>\n",
       "      <td>94</td>\n",
       "      <td>100</td>\n",
       "      <td>100</td>\n",
       "      <td>100</td>\n",
       "      <td>100</td>\n",
       "      <td>85</td>\n",
       "      <td>579</td>\n",
       "    </tr>\n",
       "    <tr>\n",
       "      <th>537</th>\n",
       "      <td>Superman</td>\n",
       "      <td>good</td>\n",
       "      <td>100</td>\n",
       "      <td>100</td>\n",
       "      <td>100</td>\n",
       "      <td>100</td>\n",
       "      <td>94</td>\n",
       "      <td>85</td>\n",
       "      <td>579</td>\n",
       "    </tr>\n",
       "    <tr>\n",
       "      <th>16</th>\n",
       "      <td>Amazo</td>\n",
       "      <td>bad</td>\n",
       "      <td>75</td>\n",
       "      <td>100</td>\n",
       "      <td>100</td>\n",
       "      <td>100</td>\n",
       "      <td>100</td>\n",
       "      <td>100</td>\n",
       "      <td>575</td>\n",
       "    </tr>\n",
       "  </tbody>\n",
       "</table>\n",
       "</div>"
      ],
      "text/plain": [
       "                  Name Alignment  Intelligence  Strength  Speed  Durability  \\\n",
       "361  Martian Manhunter      good           100       100     96         100   \n",
       "242        General Zod       bad            94       100     96         100   \n",
       "535     Superboy-Prime       bad            94       100    100         100   \n",
       "537           Superman      good           100       100    100         100   \n",
       "16               Amazo       bad            75       100    100         100   \n",
       "\n",
       "     Power  Combat  Total  \n",
       "361    100      85    581  \n",
       "242     94      95    579  \n",
       "535    100      85    579  \n",
       "537     94      85    579  \n",
       "16     100     100    575  "
      ]
     },
     "execution_count": 25,
     "metadata": {},
     "output_type": "execute_result"
    }
   ],
   "source": [
    "raw.sort_values(by='Total', ascending=False).head()"
   ]
  },
  {
   "cell_type": "markdown",
   "id": "18a5ba86",
   "metadata": {},
   "source": [
    "- ### 좋은 캐릭터와 나쁜 캐릭터의 수치 분포"
   ]
  },
  {
   "cell_type": "code",
   "execution_count": 29,
   "id": "7a368fbe",
   "metadata": {},
   "outputs": [],
   "source": [
    "good_or_bad = (raw['Alignment'] == 'good') | (raw['Alignment'] == 'bad')\n",
    "df_good_or_bad = raw[good_or_bad]"
   ]
  },
  {
   "cell_type": "code",
   "execution_count": 46,
   "id": "8bbbf198",
   "metadata": {},
   "outputs": [
    {
     "data": {
      "text/html": [
       "<div>\n",
       "<style scoped>\n",
       "    .dataframe tbody tr th:only-of-type {\n",
       "        vertical-align: middle;\n",
       "    }\n",
       "\n",
       "    .dataframe tbody tr th {\n",
       "        vertical-align: top;\n",
       "    }\n",
       "\n",
       "    .dataframe thead th {\n",
       "        text-align: right;\n",
       "    }\n",
       "</style>\n",
       "<table border=\"1\" class=\"dataframe\">\n",
       "  <thead>\n",
       "    <tr style=\"text-align: right;\">\n",
       "      <th></th>\n",
       "      <th>Intelligence</th>\n",
       "      <th>Strength</th>\n",
       "      <th>Speed</th>\n",
       "      <th>Durability</th>\n",
       "      <th>Power</th>\n",
       "      <th>Combat</th>\n",
       "      <th>Total</th>\n",
       "    </tr>\n",
       "  </thead>\n",
       "  <tbody>\n",
       "    <tr>\n",
       "      <th>Intelligence</th>\n",
       "      <td>1.000000</td>\n",
       "      <td>0.566555</td>\n",
       "      <td>0.619604</td>\n",
       "      <td>0.687092</td>\n",
       "      <td>0.723126</td>\n",
       "      <td>0.784376</td>\n",
       "      <td>0.858042</td>\n",
       "    </tr>\n",
       "    <tr>\n",
       "      <th>Strength</th>\n",
       "      <td>0.566555</td>\n",
       "      <td>1.000000</td>\n",
       "      <td>0.635733</td>\n",
       "      <td>0.796222</td>\n",
       "      <td>0.637649</td>\n",
       "      <td>0.579598</td>\n",
       "      <td>0.824354</td>\n",
       "    </tr>\n",
       "    <tr>\n",
       "      <th>Speed</th>\n",
       "      <td>0.619604</td>\n",
       "      <td>0.635733</td>\n",
       "      <td>1.000000</td>\n",
       "      <td>0.701740</td>\n",
       "      <td>0.681932</td>\n",
       "      <td>0.597728</td>\n",
       "      <td>0.812106</td>\n",
       "    </tr>\n",
       "    <tr>\n",
       "      <th>Durability</th>\n",
       "      <td>0.687092</td>\n",
       "      <td>0.796222</td>\n",
       "      <td>0.701740</td>\n",
       "      <td>1.000000</td>\n",
       "      <td>0.754652</td>\n",
       "      <td>0.681057</td>\n",
       "      <td>0.907394</td>\n",
       "    </tr>\n",
       "    <tr>\n",
       "      <th>Power</th>\n",
       "      <td>0.723126</td>\n",
       "      <td>0.637649</td>\n",
       "      <td>0.681932</td>\n",
       "      <td>0.754652</td>\n",
       "      <td>1.000000</td>\n",
       "      <td>0.656019</td>\n",
       "      <td>0.872994</td>\n",
       "    </tr>\n",
       "    <tr>\n",
       "      <th>Combat</th>\n",
       "      <td>0.784376</td>\n",
       "      <td>0.579598</td>\n",
       "      <td>0.597728</td>\n",
       "      <td>0.681057</td>\n",
       "      <td>0.656019</td>\n",
       "      <td>1.000000</td>\n",
       "      <td>0.842245</td>\n",
       "    </tr>\n",
       "    <tr>\n",
       "      <th>Total</th>\n",
       "      <td>0.858042</td>\n",
       "      <td>0.824354</td>\n",
       "      <td>0.812106</td>\n",
       "      <td>0.907394</td>\n",
       "      <td>0.872994</td>\n",
       "      <td>0.842245</td>\n",
       "      <td>1.000000</td>\n",
       "    </tr>\n",
       "  </tbody>\n",
       "</table>\n",
       "</div>"
      ],
      "text/plain": [
       "              Intelligence  Strength     Speed  Durability     Power  \\\n",
       "Intelligence      1.000000  0.566555  0.619604    0.687092  0.723126   \n",
       "Strength          0.566555  1.000000  0.635733    0.796222  0.637649   \n",
       "Speed             0.619604  0.635733  1.000000    0.701740  0.681932   \n",
       "Durability        0.687092  0.796222  0.701740    1.000000  0.754652   \n",
       "Power             0.723126  0.637649  0.681932    0.754652  1.000000   \n",
       "Combat            0.784376  0.579598  0.597728    0.681057  0.656019   \n",
       "Total             0.858042  0.824354  0.812106    0.907394  0.872994   \n",
       "\n",
       "                Combat     Total  \n",
       "Intelligence  0.784376  0.858042  \n",
       "Strength      0.579598  0.824354  \n",
       "Speed         0.597728  0.812106  \n",
       "Durability    0.681057  0.907394  \n",
       "Power         0.656019  0.872994  \n",
       "Combat        1.000000  0.842245  \n",
       "Total         0.842245  1.000000  "
      ]
     },
     "execution_count": 46,
     "metadata": {},
     "output_type": "execute_result"
    }
   ],
   "source": [
    "df_good_or_bad.corr()"
   ]
  },
  {
   "cell_type": "markdown",
   "id": "764941ea",
   "metadata": {},
   "source": [
    "__Durability & Total: .907__ > 내구력이 좋아야 다른 능력치를 많이 집어 넣어도 신체가 버틴다"
   ]
  },
  {
   "cell_type": "code",
   "execution_count": 47,
   "id": "14ad40d0",
   "metadata": {},
   "outputs": [
    {
     "data": {
      "text/plain": [
       "<AxesSubplot:>"
      ]
     },
     "execution_count": 47,
     "metadata": {},
     "output_type": "execute_result"
    },
    {
     "data": {
      "image/png": "[encoded data removed]",
      "text/plain": [
       "<Figure size 432x288 with 2 Axes>"
      ]
     },
     "metadata": {
      "needs_background": "light"
     },
     "output_type": "display_data"
    }
   ],
   "source": [
    "sns.heatmap(data=df_good_or_bad.corr())"
   ]
  },
  {
   "cell_type": "markdown",
   "id": "2c61f0ca",
   "metadata": {},
   "source": [
    "__수치의 합 능력치 분포__"
   ]
  },
  {
   "cell_type": "code",
   "execution_count": 79,
   "id": "042783b7",
   "metadata": {},
   "outputs": [
    {
     "data": {
      "text/plain": [
       "<seaborn.axisgrid.FacetGrid at 0x7f4434a414c0>"
      ]
     },
     "execution_count": 79,
     "metadata": {},
     "output_type": "execute_result"
    },
    {
     "data": {
      "image/png": "[encoded data removed]",
      "text/plain": [
       "<Figure size 720x360 with 2 Axes>"
      ]
     },
     "metadata": {
      "needs_background": "light"
     },
     "output_type": "display_data"
    }
   ],
   "source": [
    "g = sns.FacetGrid(df_good_or_bad, col='Alignment', height=5, margin_titles=True)\n",
    "g.map(sns.histplot, 'Total', bins=10, kde=True)"
   ]
  },
  {
   "cell_type": "code",
   "execution_count": 76,
   "id": "e0fb3dd3",
   "metadata": {},
   "outputs": [
    {
     "data": {
      "text/html": [
       "<div>\n",
       "<style scoped>\n",
       "    .dataframe tbody tr th:only-of-type {\n",
       "        vertical-align: middle;\n",
       "    }\n",
       "\n",
       "    .dataframe tbody tr th {\n",
       "        vertical-align: top;\n",
       "    }\n",
       "\n",
       "    .dataframe thead th {\n",
       "        text-align: right;\n",
       "    }\n",
       "</style>\n",
       "<table border=\"1\" class=\"dataframe\">\n",
       "  <thead>\n",
       "    <tr style=\"text-align: right;\">\n",
       "      <th></th>\n",
       "      <th>Intelligence</th>\n",
       "      <th>Strength</th>\n",
       "      <th>Speed</th>\n",
       "      <th>Durability</th>\n",
       "      <th>Power</th>\n",
       "      <th>Combat</th>\n",
       "      <th>Total</th>\n",
       "    </tr>\n",
       "    <tr>\n",
       "      <th>Alignment</th>\n",
       "      <th></th>\n",
       "      <th></th>\n",
       "      <th></th>\n",
       "      <th></th>\n",
       "      <th></th>\n",
       "      <th></th>\n",
       "      <th></th>\n",
       "    </tr>\n",
       "  </thead>\n",
       "  <tbody>\n",
       "    <tr>\n",
       "      <th>bad</th>\n",
       "      <td>50.018182</td>\n",
       "      <td>34.363636</td>\n",
       "      <td>27.684848</td>\n",
       "      <td>46.284848</td>\n",
       "      <td>44.230303</td>\n",
       "      <td>44.630303</td>\n",
       "      <td>247.212121</td>\n",
       "    </tr>\n",
       "    <tr>\n",
       "      <th>good</th>\n",
       "      <td>41.995370</td>\n",
       "      <td>26.638889</td>\n",
       "      <td>26.685185</td>\n",
       "      <td>39.293981</td>\n",
       "      <td>38.291667</td>\n",
       "      <td>42.085648</td>\n",
       "      <td>214.990741</td>\n",
       "    </tr>\n",
       "  </tbody>\n",
       "</table>\n",
       "</div>"
      ],
      "text/plain": [
       "           Intelligence   Strength      Speed  Durability      Power  \\\n",
       "Alignment                                                              \n",
       "bad           50.018182  34.363636  27.684848   46.284848  44.230303   \n",
       "good          41.995370  26.638889  26.685185   39.293981  38.291667   \n",
       "\n",
       "              Combat       Total  \n",
       "Alignment                         \n",
       "bad        44.630303  247.212121  \n",
       "good       42.085648  214.990741  "
      ]
     },
     "execution_count": 76,
     "metadata": {},
     "output_type": "execute_result"
    }
   ],
   "source": [
    "mean_df = df_good_or_bad.groupby('Alignment').mean()\n",
    "mean_df"
   ]
  },
  {
   "cell_type": "code",
   "execution_count": 130,
   "id": "cfd7cc02",
   "metadata": {},
   "outputs": [
    {
     "data": {
      "text/html": [
       "<div>\n",
       "<style scoped>\n",
       "    .dataframe tbody tr th:only-of-type {\n",
       "        vertical-align: middle;\n",
       "    }\n",
       "\n",
       "    .dataframe tbody tr th {\n",
       "        vertical-align: top;\n",
       "    }\n",
       "\n",
       "    .dataframe thead th {\n",
       "        text-align: right;\n",
       "    }\n",
       "</style>\n",
       "<table border=\"1\" class=\"dataframe\">\n",
       "  <thead>\n",
       "    <tr style=\"text-align: right;\">\n",
       "      <th></th>\n",
       "      <th>Intelligence</th>\n",
       "      <th>Strength</th>\n",
       "      <th>Speed</th>\n",
       "      <th>Durability</th>\n",
       "      <th>Power</th>\n",
       "      <th>Combat</th>\n",
       "      <th>Total</th>\n",
       "    </tr>\n",
       "    <tr>\n",
       "      <th>Alignment</th>\n",
       "      <th></th>\n",
       "      <th></th>\n",
       "      <th></th>\n",
       "      <th></th>\n",
       "      <th></th>\n",
       "      <th></th>\n",
       "      <th></th>\n",
       "    </tr>\n",
       "  </thead>\n",
       "  <tbody>\n",
       "    <tr>\n",
       "      <th>bad</th>\n",
       "      <td>8253</td>\n",
       "      <td>5670</td>\n",
       "      <td>4568</td>\n",
       "      <td>7637</td>\n",
       "      <td>7298</td>\n",
       "      <td>7364</td>\n",
       "      <td>40790</td>\n",
       "    </tr>\n",
       "    <tr>\n",
       "      <th>good</th>\n",
       "      <td>18142</td>\n",
       "      <td>11508</td>\n",
       "      <td>11528</td>\n",
       "      <td>16975</td>\n",
       "      <td>16542</td>\n",
       "      <td>18181</td>\n",
       "      <td>92876</td>\n",
       "    </tr>\n",
       "  </tbody>\n",
       "</table>\n",
       "</div>"
      ],
      "text/plain": [
       "           Intelligence  Strength  Speed  Durability  Power  Combat  Total\n",
       "Alignment                                                                 \n",
       "bad                8253      5670   4568        7637   7298    7364  40790\n",
       "good              18142     11508  11528       16975  16542   18181  92876"
      ]
     },
     "execution_count": 130,
     "metadata": {},
     "output_type": "execute_result"
    }
   ],
   "source": [
    "sum_df = df_good_or_bad.groupby('Alignment').sum()\n",
    "sum_df"
   ]
  },
  {
   "cell_type": "markdown",
   "id": "f0d0cd43",
   "metadata": {},
   "source": [
    "__전체적인 좋은 진영, 나쁜 진영 능력치 비교__"
   ]
  },
  {
   "cell_type": "code",
   "execution_count": 148,
   "id": "7cfd5874",
   "metadata": {},
   "outputs": [
    {
     "data": {
      "image/png": "[encoded data removed]",
      "text/plain": [
       "<Figure size 720x360 with 1 Axes>"
      ]
     },
     "metadata": {
      "needs_background": "light"
     },
     "output_type": "display_data"
    }
   ],
   "source": [
    "# mean_df = mean_df.drop('Total', axis=1).transpose()\n",
    "# mean_df = mean_df.transpose()\n",
    "plt.figure(figsize=(10,5))\n",
    "sns.lineplot(data=mean_df)\n",
    "plt.show()"
   ]
  },
  {
   "cell_type": "markdown",
   "id": "d24d6381",
   "metadata": {},
   "source": [
    "__물리력, 지능 분포__"
   ]
  },
  {
   "cell_type": "code",
   "execution_count": 150,
   "id": "e823e4fb",
   "metadata": {},
   "outputs": [
    {
     "data": {
      "image/png": "[encoded data removed]",
      "text/plain": [
       "<Figure size 432x288 with 1 Axes>"
      ]
     },
     "metadata": {
      "needs_background": "light"
     },
     "output_type": "display_data"
    },
    {
     "data": {
      "image/png": "[encoded data removed]",
      "text/plain": [
       "<Figure size 432x288 with 1 Axes>"
      ]
     },
     "metadata": {
      "needs_background": "light"
     },
     "output_type": "display_data"
    }
   ],
   "source": [
    "sns.histplot(df_good_or_bad, x=\"Strength\", hue=\"Alignment\", element=\"poly\")\n",
    "plt.show()\n",
    "sns.histplot(df_good_or_bad, x=\"Intelligence\", hue=\"Alignment\", element=\"poly\")\n",
    "plt.show()"
   ]
  },
  {
   "cell_type": "markdown",
   "id": "c971c002",
   "metadata": {},
   "source": [
    "__속도, 내구력 분포__"
   ]
  },
  {
   "cell_type": "code",
   "execution_count": 153,
   "id": "40c701e3",
   "metadata": {},
   "outputs": [
    {
     "data": {
      "image/png": "[encoded data removed]",
      "text/plain": [
       "<Figure size 432x288 with 1 Axes>"
      ]
     },
     "metadata": {
      "needs_background": "light"
     },
     "output_type": "display_data"
    },
    {
     "data": {
      "image/png": "[encoded data removed]",
      "text/plain": [
       "<Figure size 432x288 with 1 Axes>"
      ]
     },
     "metadata": {
      "needs_background": "light"
     },
     "output_type": "display_data"
    }
   ],
   "source": [
    "sns.histplot(df_good_or_bad, x=\"Speed\", hue=\"Alignment\", element=\"poly\")\n",
    "plt.show()\n",
    "sns.histplot(df_good_or_bad, x=\"Durability\", hue=\"Alignment\", element=\"poly\")\n",
    "plt.show()"
   ]
  },
  {
   "cell_type": "markdown",
   "id": "066119a0",
   "metadata": {},
   "source": [
    "__특수 능력, 전투력 분포__"
   ]
  },
  {
   "cell_type": "code",
   "execution_count": 154,
   "id": "65926222",
   "metadata": {},
   "outputs": [
    {
     "data": {
      "image/png": "[encoded data removed]",
      "text/plain": [
       "<Figure size 432x288 with 1 Axes>"
      ]
     },
     "metadata": {
      "needs_background": "light"
     },
     "output_type": "display_data"
    },
    {
     "data": {
      "image/png": "[encoded data removed]",
      "text/plain": [
       "<Figure size 432x288 with 1 Axes>"
      ]
     },
     "metadata": {
      "needs_background": "light"
     },
     "output_type": "display_data"
    }
   ],
   "source": [
    "sns.histplot(df_good_or_bad, x=\"Power\", hue=\"Alignment\", element=\"poly\")\n",
    "plt.show()\n",
    "sns.histplot(df_good_or_bad, x=\"Combat\", hue=\"Alignment\", element=\"poly\")\n",
    "plt.show()"
   ]
  },
  {
   "cell_type": "markdown",
   "id": "2a865bea",
   "metadata": {},
   "source": [
    "__진영별 영웅 종류__"
   ]
  },
  {
   "cell_type": "code",
   "execution_count": null,
   "id": "95b64ef2",
   "metadata": {},
   "outputs": [],
   "source": [
    "df_good_or_bad.loc[:, 'Max'] = df_good_or_bad.loc[:, 'Intelligence':'Combat'].apply(max, axis=1)\n",
    "\n",
    "\n",
    "#  dataset.loc[ dataset['Age'] <= 16, 'Age'] = 0\n",
    "#     dataset.loc[(dataset['Age'] > 16) & (dataset['Age'] <= 32), 'Age'] = 1\n",
    "#     dataset.loc[(dataset['Age'] > 32) & (dataset['Age'] <= 48), 'Age'] = 2\n",
    "#     dataset.loc[(dataset['Age'] > 48) & (dataset['Age'] <= 64), 'Age'] = 3\n",
    "#     dataset.loc[ dataset['Age'] > 64, 'Age']\n",
    "for col in df_good_or_bad.columns[2:8]:\n",
    "#     print(col)\n",
    "    df_good_or_bad.loc[df_good_or_bad[col] == df_good_or_bad['Max'], 'Type'] = col\n",
    "\n",
    "type_df = df_good_or_bad.groupby(['Alignment', 'Type']).count()\n",
    "type_df = type_df.rename(columns={\"Name\": \"Count\"})\n",
    "type_df = type_df[\"Count\"]"
   ]
  },
  {
   "cell_type": "code",
   "execution_count": 214,
   "id": "c602f67d",
   "metadata": {},
   "outputs": [
    {
     "data": {
      "text/plain": [
       "Alignment  Type        \n",
       "bad        Combat           65\n",
       "           Durability       32\n",
       "           Intelligence     30\n",
       "           Power            29\n",
       "           Speed             3\n",
       "           Strength          6\n",
       "good       Combat          226\n",
       "           Durability       61\n",
       "           Intelligence     46\n",
       "           Power            71\n",
       "           Speed            14\n",
       "           Strength         14\n",
       "Name: Count, dtype: int64"
      ]
     },
     "execution_count": 214,
     "metadata": {},
     "output_type": "execute_result"
    }
   ],
   "source": [
    "type_df"
   ]
  },
  {
   "cell_type": "code",
   "execution_count": 204,
   "id": "f68d9ad7",
   "metadata": {},
   "outputs": [
    {
     "data": {
      "image/png": "[encoded data removed]",
      "text/plain": [
       "<Figure size 720x360 with 1 Axes>"
      ]
     },
     "metadata": {
      "needs_background": "light"
     },
     "output_type": "display_data"
    }
   ],
   "source": [
    "plt.figure(figsize=(10,5))\n",
    "sns.lineplot(x='Type', y='Count', style='Alignment', data=type_df.reset_index())\n",
    "plt.show()"
   ]
  }
 ],
 "metadata": {
  "kernelspec": {
   "display_name": "Python 3",
   "language": "python",
   "name": "python3"
  },
  "language_info": {
   "codemirror_mode": {
    "name": "ipython",
    "version": 3
   },
   "file_extension": ".py",
   "mimetype": "text/x-python",
   "name": "python",
   "nbconvert_exporter": "python",
   "pygments_lexer": "ipython3",
   "version": "3.8.5"
  }
 },
 "nbformat": 4,
 "nbformat_minor": 5
}
