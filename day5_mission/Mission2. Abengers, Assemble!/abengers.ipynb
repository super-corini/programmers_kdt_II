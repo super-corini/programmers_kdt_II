{
 "cells": [
  {
   "cell_type": "markdown",
   "id": "7e801de6",
   "metadata": {},
   "source": [
    "# Mission 2. Abengers, Assemble!"
   ]
  },
  {
   "cell_type": "markdown",
   "id": "eb94e466",
   "metadata": {},
   "source": [
    "[Marvel Superheroes Dataset](https://www.kaggle.com/dannielr/marvel-superheroes?select=charcters_stats.csv)"
   ]
  },
  {
   "cell_type": "code",
   "execution_count": 1,
   "id": "8081a95c",
   "metadata": {},
   "outputs": [],
   "source": [
    "## 라이브러리 불러오기\n",
    "\n",
    "import numpy as np\n",
    "import pandas as pd\n",
    "import matplotlib.pyplot as plt\n",
    "import seaborn as sns\n",
    "\n",
    "%matplotlib inline"
   ]
  },
  {
   "cell_type": "code",
   "execution_count": 2,
   "id": "0b32d331",
   "metadata": {},
   "outputs": [],
   "source": [
    "## 파일 불러오기\n",
    "abengers_df = pd.read_csv('./Marvel Superheroes/charcters_stats.csv')"
   ]
  },
  {
   "cell_type": "code",
   "execution_count": 3,
   "id": "c3e3bd7a",
   "metadata": {},
   "outputs": [
    {
     "name": "stdout",
     "output_type": "stream",
     "text": [
      "<class 'pandas.core.frame.DataFrame'>\n",
      "RangeIndex: 611 entries, 0 to 610\n",
      "Data columns (total 9 columns):\n",
      " #   Column        Non-Null Count  Dtype \n",
      "---  ------        --------------  ----- \n",
      " 0   Name          611 non-null    object\n",
      " 1   Alignment     608 non-null    object\n",
      " 2   Intelligence  611 non-null    int64 \n",
      " 3   Strength      611 non-null    int64 \n",
      " 4   Speed         611 non-null    int64 \n",
      " 5   Durability    611 non-null    int64 \n",
      " 6   Power         611 non-null    int64 \n",
      " 7   Combat        611 non-null    int64 \n",
      " 8   Total         611 non-null    int64 \n",
      "dtypes: int64(7), object(2)\n",
      "memory usage: 43.1+ KB\n"
     ]
    }
   ],
   "source": [
    "abengers_df.info()"
   ]
  },
  {
   "cell_type": "code",
   "execution_count": 4,
   "id": "e0ddcd9a",
   "metadata": {},
   "outputs": [
    {
     "data": {
      "text/html": [
       "<div>\n",
       "<style scoped>\n",
       "    .dataframe tbody tr th:only-of-type {\n",
       "        vertical-align: middle;\n",
       "    }\n",
       "\n",
       "    .dataframe tbody tr th {\n",
       "        vertical-align: top;\n",
       "    }\n",
       "\n",
       "    .dataframe thead th {\n",
       "        text-align: right;\n",
       "    }\n",
       "</style>\n",
       "<table border=\"1\" class=\"dataframe\">\n",
       "  <thead>\n",
       "    <tr style=\"text-align: right;\">\n",
       "      <th></th>\n",
       "      <th>Intelligence</th>\n",
       "      <th>Strength</th>\n",
       "      <th>Speed</th>\n",
       "      <th>Durability</th>\n",
       "      <th>Power</th>\n",
       "      <th>Combat</th>\n",
       "      <th>Total</th>\n",
       "    </tr>\n",
       "  </thead>\n",
       "  <tbody>\n",
       "    <tr>\n",
       "      <th>count</th>\n",
       "      <td>611.000000</td>\n",
       "      <td>611.000000</td>\n",
       "      <td>611.000000</td>\n",
       "      <td>611.000000</td>\n",
       "      <td>611.000000</td>\n",
       "      <td>611.000000</td>\n",
       "      <td>611.000000</td>\n",
       "    </tr>\n",
       "    <tr>\n",
       "      <th>mean</th>\n",
       "      <td>44.502455</td>\n",
       "      <td>29.083470</td>\n",
       "      <td>27.306056</td>\n",
       "      <td>41.839607</td>\n",
       "      <td>40.312602</td>\n",
       "      <td>43.206219</td>\n",
       "      <td>226.250409</td>\n",
       "    </tr>\n",
       "    <tr>\n",
       "      <th>std</th>\n",
       "      <td>32.924722</td>\n",
       "      <td>32.610939</td>\n",
       "      <td>25.760173</td>\n",
       "      <td>36.543849</td>\n",
       "      <td>34.539910</td>\n",
       "      <td>33.270329</td>\n",
       "      <td>167.324034</td>\n",
       "    </tr>\n",
       "    <tr>\n",
       "      <th>min</th>\n",
       "      <td>1.000000</td>\n",
       "      <td>1.000000</td>\n",
       "      <td>1.000000</td>\n",
       "      <td>1.000000</td>\n",
       "      <td>0.000000</td>\n",
       "      <td>1.000000</td>\n",
       "      <td>5.000000</td>\n",
       "    </tr>\n",
       "    <tr>\n",
       "      <th>25%</th>\n",
       "      <td>1.000000</td>\n",
       "      <td>1.000000</td>\n",
       "      <td>1.000000</td>\n",
       "      <td>1.000000</td>\n",
       "      <td>0.000000</td>\n",
       "      <td>1.000000</td>\n",
       "      <td>5.000000</td>\n",
       "    </tr>\n",
       "    <tr>\n",
       "      <th>50%</th>\n",
       "      <td>50.000000</td>\n",
       "      <td>10.000000</td>\n",
       "      <td>23.000000</td>\n",
       "      <td>32.000000</td>\n",
       "      <td>37.000000</td>\n",
       "      <td>50.000000</td>\n",
       "      <td>255.000000</td>\n",
       "    </tr>\n",
       "    <tr>\n",
       "      <th>75%</th>\n",
       "      <td>75.000000</td>\n",
       "      <td>53.000000</td>\n",
       "      <td>42.000000</td>\n",
       "      <td>80.000000</td>\n",
       "      <td>67.000000</td>\n",
       "      <td>70.000000</td>\n",
       "      <td>351.500000</td>\n",
       "    </tr>\n",
       "    <tr>\n",
       "      <th>max</th>\n",
       "      <td>113.000000</td>\n",
       "      <td>100.000000</td>\n",
       "      <td>100.000000</td>\n",
       "      <td>120.000000</td>\n",
       "      <td>100.000000</td>\n",
       "      <td>101.000000</td>\n",
       "      <td>581.000000</td>\n",
       "    </tr>\n",
       "  </tbody>\n",
       "</table>\n",
       "</div>"
      ],
      "text/plain": [
       "       Intelligence    Strength       Speed  Durability       Power  \\\n",
       "count    611.000000  611.000000  611.000000  611.000000  611.000000   \n",
       "mean      44.502455   29.083470   27.306056   41.839607   40.312602   \n",
       "std       32.924722   32.610939   25.760173   36.543849   34.539910   \n",
       "min        1.000000    1.000000    1.000000    1.000000    0.000000   \n",
       "25%        1.000000    1.000000    1.000000    1.000000    0.000000   \n",
       "50%       50.000000   10.000000   23.000000   32.000000   37.000000   \n",
       "75%       75.000000   53.000000   42.000000   80.000000   67.000000   \n",
       "max      113.000000  100.000000  100.000000  120.000000  100.000000   \n",
       "\n",
       "           Combat       Total  \n",
       "count  611.000000  611.000000  \n",
       "mean    43.206219  226.250409  \n",
       "std     33.270329  167.324034  \n",
       "min      1.000000    5.000000  \n",
       "25%      1.000000    5.000000  \n",
       "50%     50.000000  255.000000  \n",
       "75%     70.000000  351.500000  \n",
       "max    101.000000  581.000000  "
      ]
     },
     "execution_count": 4,
     "metadata": {},
     "output_type": "execute_result"
    }
   ],
   "source": [
    "abengers_df.describe()"
   ]
  },
  {
   "cell_type": "code",
   "execution_count": 5,
   "id": "a7a62bb0",
   "metadata": {},
   "outputs": [
    {
     "data": {
      "text/html": [
       "<div>\n",
       "<style scoped>\n",
       "    .dataframe tbody tr th:only-of-type {\n",
       "        vertical-align: middle;\n",
       "    }\n",
       "\n",
       "    .dataframe tbody tr th {\n",
       "        vertical-align: top;\n",
       "    }\n",
       "\n",
       "    .dataframe thead th {\n",
       "        text-align: right;\n",
       "    }\n",
       "</style>\n",
       "<table border=\"1\" class=\"dataframe\">\n",
       "  <thead>\n",
       "    <tr style=\"text-align: right;\">\n",
       "      <th></th>\n",
       "      <th>Name</th>\n",
       "      <th>Alignment</th>\n",
       "      <th>Intelligence</th>\n",
       "      <th>Strength</th>\n",
       "      <th>Speed</th>\n",
       "      <th>Durability</th>\n",
       "      <th>Power</th>\n",
       "      <th>Combat</th>\n",
       "      <th>Total</th>\n",
       "    </tr>\n",
       "  </thead>\n",
       "  <tbody>\n",
       "    <tr>\n",
       "      <th>0</th>\n",
       "      <td>3-D Man</td>\n",
       "      <td>good</td>\n",
       "      <td>50</td>\n",
       "      <td>31</td>\n",
       "      <td>43</td>\n",
       "      <td>32</td>\n",
       "      <td>25</td>\n",
       "      <td>52</td>\n",
       "      <td>233</td>\n",
       "    </tr>\n",
       "    <tr>\n",
       "      <th>1</th>\n",
       "      <td>A-Bomb</td>\n",
       "      <td>good</td>\n",
       "      <td>38</td>\n",
       "      <td>100</td>\n",
       "      <td>17</td>\n",
       "      <td>80</td>\n",
       "      <td>17</td>\n",
       "      <td>64</td>\n",
       "      <td>316</td>\n",
       "    </tr>\n",
       "    <tr>\n",
       "      <th>2</th>\n",
       "      <td>Abe Sapien</td>\n",
       "      <td>good</td>\n",
       "      <td>88</td>\n",
       "      <td>14</td>\n",
       "      <td>35</td>\n",
       "      <td>42</td>\n",
       "      <td>35</td>\n",
       "      <td>85</td>\n",
       "      <td>299</td>\n",
       "    </tr>\n",
       "    <tr>\n",
       "      <th>3</th>\n",
       "      <td>Abin Sur</td>\n",
       "      <td>good</td>\n",
       "      <td>50</td>\n",
       "      <td>90</td>\n",
       "      <td>53</td>\n",
       "      <td>64</td>\n",
       "      <td>84</td>\n",
       "      <td>65</td>\n",
       "      <td>406</td>\n",
       "    </tr>\n",
       "    <tr>\n",
       "      <th>4</th>\n",
       "      <td>Abomination</td>\n",
       "      <td>bad</td>\n",
       "      <td>63</td>\n",
       "      <td>80</td>\n",
       "      <td>53</td>\n",
       "      <td>90</td>\n",
       "      <td>55</td>\n",
       "      <td>95</td>\n",
       "      <td>436</td>\n",
       "    </tr>\n",
       "  </tbody>\n",
       "</table>\n",
       "</div>"
      ],
      "text/plain": [
       "          Name Alignment  Intelligence  Strength  Speed  Durability  Power  \\\n",
       "0      3-D Man      good            50        31     43          32     25   \n",
       "1       A-Bomb      good            38       100     17          80     17   \n",
       "2   Abe Sapien      good            88        14     35          42     35   \n",
       "3     Abin Sur      good            50        90     53          64     84   \n",
       "4  Abomination       bad            63        80     53          90     55   \n",
       "\n",
       "   Combat  Total  \n",
       "0      52    233  \n",
       "1      64    316  \n",
       "2      85    299  \n",
       "3      65    406  \n",
       "4      95    436  "
      ]
     },
     "execution_count": 5,
     "metadata": {},
     "output_type": "execute_result"
    }
   ],
   "source": [
    "abengers_df.head()"
   ]
  },
  {
   "cell_type": "markdown",
   "id": "513bad82",
   "metadata": {},
   "source": [
    "## Core Mission"
   ]
  },
  {
   "cell_type": "markdown",
   "id": "281e9b32",
   "metadata": {},
   "source": [
    "### 1. 캐릭터는 저마다 지능, 힘, ... 등 다양한 수치를 지니고 있다. 이러한 수치의 합이 가장 큰 캐릭터는 누구인가? 이를 보이기 위한 과정을 보여라."
   ]
  },
  {
   "cell_type": "markdown",
   "id": "5bbd063d",
   "metadata": {},
   "source": [
    "info()를 통해 데이터를 확인했을 때, Alignmnent를 제외하고는 결측값이 없는 것을 확인할 수 있다.   \n",
    "그리고 head()를 통해 Intelligence, Strength, Speed, Durability, Power, Combat의 값의 합이 Total임을 알 수 있다.  \n",
    "따라서, 'Total'의 값이 최댓값인 캐릭터의 행을 골라 그 캐릭터의 Name을 출력하면 된다."
   ]
  },
  {
   "cell_type": "code",
   "execution_count": 6,
   "id": "06a09ba3",
   "metadata": {},
   "outputs": [
    {
     "data": {
      "text/html": [
       "<div>\n",
       "<style scoped>\n",
       "    .dataframe tbody tr th:only-of-type {\n",
       "        vertical-align: middle;\n",
       "    }\n",
       "\n",
       "    .dataframe tbody tr th {\n",
       "        vertical-align: top;\n",
       "    }\n",
       "\n",
       "    .dataframe thead th {\n",
       "        text-align: right;\n",
       "    }\n",
       "</style>\n",
       "<table border=\"1\" class=\"dataframe\">\n",
       "  <thead>\n",
       "    <tr style=\"text-align: right;\">\n",
       "      <th></th>\n",
       "      <th>Name</th>\n",
       "      <th>Alignment</th>\n",
       "      <th>Intelligence</th>\n",
       "      <th>Strength</th>\n",
       "      <th>Speed</th>\n",
       "      <th>Durability</th>\n",
       "      <th>Power</th>\n",
       "      <th>Combat</th>\n",
       "      <th>Total</th>\n",
       "    </tr>\n",
       "  </thead>\n",
       "  <tbody>\n",
       "    <tr>\n",
       "      <th>361</th>\n",
       "      <td>Martian Manhunter</td>\n",
       "      <td>good</td>\n",
       "      <td>100</td>\n",
       "      <td>100</td>\n",
       "      <td>96</td>\n",
       "      <td>100</td>\n",
       "      <td>100</td>\n",
       "      <td>85</td>\n",
       "      <td>581</td>\n",
       "    </tr>\n",
       "  </tbody>\n",
       "</table>\n",
       "</div>"
      ],
      "text/plain": [
       "                  Name Alignment  Intelligence  Strength  Speed  Durability  \\\n",
       "361  Martian Manhunter      good           100       100     96         100   \n",
       "\n",
       "     Power  Combat  Total  \n",
       "361    100      85    581  "
      ]
     },
     "execution_count": 6,
     "metadata": {},
     "output_type": "execute_result"
    }
   ],
   "source": [
    "abengers_df[abengers_df['Total']==abengers_df['Total'].max()]"
   ]
  },
  {
   "cell_type": "code",
   "execution_count": 7,
   "id": "c154369f",
   "metadata": {},
   "outputs": [
    {
     "data": {
      "text/plain": [
       "361    Martian Manhunter\n",
       "Name: Name, dtype: object"
      ]
     },
     "execution_count": 7,
     "metadata": {},
     "output_type": "execute_result"
    }
   ],
   "source": [
    "abengers_df[abengers_df['Total']==abengers_df['Total'].max()]['Name']"
   ]
  },
  {
   "cell_type": "markdown",
   "id": "1af1d98b",
   "metadata": {},
   "source": [
    "### 2. 좋은 캐릭터와 나쁜 캐릭터의 능력치들의 수치 분포를 알고 싶다. 이를 표현하기 위한 적절한 그래프를 선택해서 이를 위한 전처리를 진행하고, 시각화하여라."
   ]
  },
  {
   "cell_type": "code",
   "execution_count": 8,
   "id": "1d4b9661",
   "metadata": {},
   "outputs": [
    {
     "data": {
      "text/html": [
       "<div>\n",
       "<style scoped>\n",
       "    .dataframe tbody tr th:only-of-type {\n",
       "        vertical-align: middle;\n",
       "    }\n",
       "\n",
       "    .dataframe tbody tr th {\n",
       "        vertical-align: top;\n",
       "    }\n",
       "\n",
       "    .dataframe thead th {\n",
       "        text-align: right;\n",
       "    }\n",
       "</style>\n",
       "<table border=\"1\" class=\"dataframe\">\n",
       "  <thead>\n",
       "    <tr style=\"text-align: right;\">\n",
       "      <th></th>\n",
       "      <th>Intelligence</th>\n",
       "      <th>Strength</th>\n",
       "      <th>Speed</th>\n",
       "      <th>Durability</th>\n",
       "      <th>Power</th>\n",
       "      <th>Combat</th>\n",
       "      <th>Total</th>\n",
       "    </tr>\n",
       "    <tr>\n",
       "      <th>Alignment</th>\n",
       "      <th></th>\n",
       "      <th></th>\n",
       "      <th></th>\n",
       "      <th></th>\n",
       "      <th></th>\n",
       "      <th></th>\n",
       "      <th></th>\n",
       "    </tr>\n",
       "  </thead>\n",
       "  <tbody>\n",
       "    <tr>\n",
       "      <th>bad</th>\n",
       "      <td>50.018182</td>\n",
       "      <td>34.363636</td>\n",
       "      <td>27.684848</td>\n",
       "      <td>46.284848</td>\n",
       "      <td>44.230303</td>\n",
       "      <td>44.630303</td>\n",
       "      <td>247.212121</td>\n",
       "    </tr>\n",
       "    <tr>\n",
       "      <th>good</th>\n",
       "      <td>41.995370</td>\n",
       "      <td>26.638889</td>\n",
       "      <td>26.685185</td>\n",
       "      <td>39.293981</td>\n",
       "      <td>38.291667</td>\n",
       "      <td>42.085648</td>\n",
       "      <td>214.990741</td>\n",
       "    </tr>\n",
       "    <tr>\n",
       "      <th>neutral</th>\n",
       "      <td>60.909091</td>\n",
       "      <td>45.727273</td>\n",
       "      <td>46.727273</td>\n",
       "      <td>75.545455</td>\n",
       "      <td>58.818182</td>\n",
       "      <td>67.636364</td>\n",
       "      <td>355.363636</td>\n",
       "    </tr>\n",
       "  </tbody>\n",
       "</table>\n",
       "</div>"
      ],
      "text/plain": [
       "           Intelligence   Strength      Speed  Durability      Power  \\\n",
       "Alignment                                                              \n",
       "bad           50.018182  34.363636  27.684848   46.284848  44.230303   \n",
       "good          41.995370  26.638889  26.685185   39.293981  38.291667   \n",
       "neutral       60.909091  45.727273  46.727273   75.545455  58.818182   \n",
       "\n",
       "              Combat       Total  \n",
       "Alignment                         \n",
       "bad        44.630303  247.212121  \n",
       "good       42.085648  214.990741  \n",
       "neutral    67.636364  355.363636  "
      ]
     },
     "execution_count": 8,
     "metadata": {},
     "output_type": "execute_result"
    }
   ],
   "source": [
    "## 각각 능력에 대한 평균값\n",
    "abengers_df.groupby(['Alignment']).mean()"
   ]
  },
  {
   "cell_type": "markdown",
   "id": "217f3e38",
   "metadata": {},
   "source": [
    "#### 능력치의 수치 분포 시각화\n",
    "\n",
    "Alignment별로 각각의 능력에 대해 kde 그래프를 통해 분포를 시각화했다.  \n",
    "한가지 의문점은 왜 최솟값이 1임에도 불구하고 마이너스 값이 그래프에 그려지는지 모르겠다...ㅠ"
   ]
  },
  {
   "cell_type": "code",
   "execution_count": 9,
   "id": "47f7df38",
   "metadata": {},
   "outputs": [],
   "source": [
    "alignment = abengers_df['Alignment'].unique()\n",
    "color     = ['blue', 'red', 'grey', 'green']\n",
    "features  = ['Intelligence', 'Strength', 'Speed', 'Durability','Power', 'Combat']"
   ]
  },
  {
   "cell_type": "code",
   "execution_count": 10,
   "id": "9f9150de",
   "metadata": {},
   "outputs": [
    {
     "data": {
      "image/png": "[encoded data removed]",
      "text/plain": [
       "<Figure size 432x288 with 1 Axes>"
      ]
     },
     "metadata": {
      "needs_background": "light"
     },
     "output_type": "display_data"
    }
   ],
   "source": [
    "for a, c in zip(alignment, color) : \n",
    "    sns.kdeplot(abengers_df[abengers_df['Alignment']==a]['Total'], color=c, label=a)\n",
    "\n",
    "plt.title('Sum of Competence Comparison by Alignment')\n",
    "plt.legend(title='Alignment')\n",
    "plt.show()    "
   ]
  },
  {
   "cell_type": "code",
   "execution_count": 11,
   "id": "6843ec8f",
   "metadata": {},
   "outputs": [
    {
     "data": {
      "image/png": "[encoded data removed]",
      "text/plain": [
       "<Figure size 864x864 with 6 Axes>"
      ]
     },
     "metadata": {
      "needs_background": "light"
     },
     "output_type": "display_data"
    }
   ],
   "source": [
    "fig, axes = plt.subplots(3,2, figsize=(12,12))\n",
    "\n",
    "for idx, f in enumerate(features) : #{\n",
    "    row = idx// 2\n",
    "    col = idx % 2\n",
    "    axes[row, col].set_title(f)\n",
    "    for a, c in zip(alignment, color) : #{\n",
    "        sns.kdeplot(abengers_df[abengers_df['Alignment']==a][f], color=c, label=a, ax=axes[row][col])\n",
    "    #}\n",
    "#}\n",
    "\n",
    "line, label = fig.axes[0].get_legend_handles_labels()\n",
    "fig.legend(line, label, loc='upper right')\n",
    "\n",
    "plt.subplots_adjust(left=0.125, bottom=0.1, right=0.9, top=0.9, wspace=0.4, hspace=0.4)\n",
    "plt.show()"
   ]
  },
  {
   "cell_type": "markdown",
   "id": "ab64c0bc",
   "metadata": {},
   "source": [
    "## Extra Mission"
   ]
  },
  {
   "cell_type": "markdown",
   "id": "0c4c5826",
   "metadata": {},
   "source": [
    "### 1. 캐릭터는 저마다 지능, 힘, ... 등 다양한 수치를 지니고 있다. 또한 각 캐릭터는 DC, 마블 등 다양한 코믹스 회사를 바탕으로 하고 있다. 어떤 코믹스 회사의 캐릭터들이 능력치 합의 평균이 가장 큰가? 이를 보이기 위한 과정을 보여라."
   ]
  },
  {
   "cell_type": "code",
   "execution_count": 12,
   "id": "df6e9d6e",
   "metadata": {},
   "outputs": [],
   "source": [
    "## 1. 캐릭터의 코믹스 회사(Publisher)에 대한 정보를 가지고 있는 파일 불러오기\n",
    "char_info_df = pd.read_csv('./Marvel Superheroes/marvel_characters_info.csv')"
   ]
  },
  {
   "cell_type": "code",
   "execution_count": 13,
   "id": "a256c567",
   "metadata": {},
   "outputs": [],
   "source": [
    "## 2. 캐릭터의 능력치에 대한 DataFrame과 코믹스 회사에 대한 DataFrame 합치기\n",
    "comb_df = pd.merge(abengers_df, char_info_df[['Name', 'Publisher']])"
   ]
  },
  {
   "cell_type": "code",
   "execution_count": 14,
   "id": "9d0b5364",
   "metadata": {},
   "outputs": [
    {
     "data": {
      "text/html": [
       "<div>\n",
       "<style scoped>\n",
       "    .dataframe tbody tr th:only-of-type {\n",
       "        vertical-align: middle;\n",
       "    }\n",
       "\n",
       "    .dataframe tbody tr th {\n",
       "        vertical-align: top;\n",
       "    }\n",
       "\n",
       "    .dataframe thead th {\n",
       "        text-align: right;\n",
       "    }\n",
       "</style>\n",
       "<table border=\"1\" class=\"dataframe\">\n",
       "  <thead>\n",
       "    <tr style=\"text-align: right;\">\n",
       "      <th></th>\n",
       "      <th>Publisher</th>\n",
       "      <th>Total</th>\n",
       "    </tr>\n",
       "  </thead>\n",
       "  <tbody>\n",
       "    <tr>\n",
       "      <th>0</th>\n",
       "      <td>ABC Studios</td>\n",
       "      <td>166.000000</td>\n",
       "    </tr>\n",
       "    <tr>\n",
       "      <th>1</th>\n",
       "      <td>DC Comics</td>\n",
       "      <td>253.436047</td>\n",
       "    </tr>\n",
       "    <tr>\n",
       "      <th>2</th>\n",
       "      <td>Dark Horse Comics</td>\n",
       "      <td>196.875000</td>\n",
       "    </tr>\n",
       "    <tr>\n",
       "      <th>3</th>\n",
       "      <td>Hanna-Barbera</td>\n",
       "      <td>5.000000</td>\n",
       "    </tr>\n",
       "    <tr>\n",
       "      <th>4</th>\n",
       "      <td>HarperCollins</td>\n",
       "      <td>5.000000</td>\n",
       "    </tr>\n",
       "    <tr>\n",
       "      <th>5</th>\n",
       "      <td>Icon Comics</td>\n",
       "      <td>148.000000</td>\n",
       "    </tr>\n",
       "    <tr>\n",
       "      <th>6</th>\n",
       "      <td>Image Comics</td>\n",
       "      <td>70.615385</td>\n",
       "    </tr>\n",
       "    <tr>\n",
       "      <th>7</th>\n",
       "      <td>Marvel Comics</td>\n",
       "      <td>243.851003</td>\n",
       "    </tr>\n",
       "    <tr>\n",
       "      <th>8</th>\n",
       "      <td>Microsoft</td>\n",
       "      <td>425.000000</td>\n",
       "    </tr>\n",
       "    <tr>\n",
       "      <th>9</th>\n",
       "      <td>NBC - Heroes</td>\n",
       "      <td>140.526316</td>\n",
       "    </tr>\n",
       "    <tr>\n",
       "      <th>10</th>\n",
       "      <td>Shueisha</td>\n",
       "      <td>481.500000</td>\n",
       "    </tr>\n",
       "    <tr>\n",
       "      <th>11</th>\n",
       "      <td>Sony Pictures</td>\n",
       "      <td>398.000000</td>\n",
       "    </tr>\n",
       "    <tr>\n",
       "      <th>12</th>\n",
       "      <td>SyFy</td>\n",
       "      <td>188.800000</td>\n",
       "    </tr>\n",
       "    <tr>\n",
       "      <th>13</th>\n",
       "      <td>Team Epic TV</td>\n",
       "      <td>5.000000</td>\n",
       "    </tr>\n",
       "    <tr>\n",
       "      <th>14</th>\n",
       "      <td>Universal Studios</td>\n",
       "      <td>237.000000</td>\n",
       "    </tr>\n",
       "    <tr>\n",
       "      <th>15</th>\n",
       "      <td>Wildstorm</td>\n",
       "      <td>5.000000</td>\n",
       "    </tr>\n",
       "  </tbody>\n",
       "</table>\n",
       "</div>"
      ],
      "text/plain": [
       "            Publisher       Total\n",
       "0         ABC Studios  166.000000\n",
       "1           DC Comics  253.436047\n",
       "2   Dark Horse Comics  196.875000\n",
       "3       Hanna-Barbera    5.000000\n",
       "4       HarperCollins    5.000000\n",
       "5         Icon Comics  148.000000\n",
       "6        Image Comics   70.615385\n",
       "7       Marvel Comics  243.851003\n",
       "8           Microsoft  425.000000\n",
       "9        NBC - Heroes  140.526316\n",
       "10           Shueisha  481.500000\n",
       "11      Sony Pictures  398.000000\n",
       "12               SyFy  188.800000\n",
       "13       Team Epic TV    5.000000\n",
       "14  Universal Studios  237.000000\n",
       "15          Wildstorm    5.000000"
      ]
     },
     "execution_count": 14,
     "metadata": {},
     "output_type": "execute_result"
    }
   ],
   "source": [
    "## 3. 캐릭터를 회사별로 분류\n",
    "total_by_publisher = comb_df.groupby(['Publisher'])['Total'].mean().reset_index()\n",
    "total_by_publisher"
   ]
  },
  {
   "cell_type": "code",
   "execution_count": 15,
   "id": "267ec474",
   "metadata": {},
   "outputs": [
    {
     "data": {
      "text/plain": [
       "10    Shueisha\n",
       "Name: Publisher, dtype: object"
      ]
     },
     "execution_count": 15,
     "metadata": {},
     "output_type": "execute_result"
    }
   ],
   "source": [
    "## 'Total' 값이 가장 큰 인덱스의 'Publisher'이름 출력\n",
    "total_by_publisher[total_by_publisher['Total'] == total_by_publisher['Total'].max()]['Publisher']"
   ]
  },
  {
   "cell_type": "markdown",
   "id": "9b86d712",
   "metadata": {},
   "source": [
    "### 2. 좋은 캐릭터와 나쁜 캐릭터가 격돌한다고 한다. 격돌하는 경우 캐릭터들의 능력치의 합의 평균이 큰 팀이 이긴다고 한다. \n",
    "### 단, 불의를 못참는 중립 캐릭터들은 중립캐릭터가 없었을 당시에 열세인 팀에 가담한다. \n",
    "### 이러한 상황일때 결과적으로 어떤 캐릭터 진영이 승리할 것인가? 이를 보이기 위한 과정을 보여라."
   ]
  },
  {
   "cell_type": "code",
   "execution_count": 16,
   "id": "e1d37cd2",
   "metadata": {},
   "outputs": [
    {
     "data": {
      "text/html": [
       "<div>\n",
       "<style scoped>\n",
       "    .dataframe tbody tr th:only-of-type {\n",
       "        vertical-align: middle;\n",
       "    }\n",
       "\n",
       "    .dataframe tbody tr th {\n",
       "        vertical-align: top;\n",
       "    }\n",
       "\n",
       "    .dataframe thead th {\n",
       "        text-align: right;\n",
       "    }\n",
       "</style>\n",
       "<table border=\"1\" class=\"dataframe\">\n",
       "  <thead>\n",
       "    <tr style=\"text-align: right;\">\n",
       "      <th></th>\n",
       "      <th>Alignment</th>\n",
       "      <th>Total</th>\n",
       "    </tr>\n",
       "  </thead>\n",
       "  <tbody>\n",
       "    <tr>\n",
       "      <th>0</th>\n",
       "      <td>bad</td>\n",
       "      <td>247.212121</td>\n",
       "    </tr>\n",
       "    <tr>\n",
       "      <th>1</th>\n",
       "      <td>good</td>\n",
       "      <td>214.990741</td>\n",
       "    </tr>\n",
       "    <tr>\n",
       "      <th>2</th>\n",
       "      <td>neutral</td>\n",
       "      <td>355.363636</td>\n",
       "    </tr>\n",
       "  </tbody>\n",
       "</table>\n",
       "</div>"
      ],
      "text/plain": [
       "  Alignment       Total\n",
       "0       bad  247.212121\n",
       "1      good  214.990741\n",
       "2   neutral  355.363636"
      ]
     },
     "execution_count": 16,
     "metadata": {},
     "output_type": "execute_result"
    }
   ],
   "source": [
    "## 캐릭터를 Alignment를 기준으로 분류 후 Total의 평균을 계산한다.\n",
    "## Total은 각 캐릭터들의 능력치의 합이므로, 캐릭터들의 능력치의 합의 평균은 Total의 평균과 같다.\n",
    "abengers_df.groupby(['Alignment'])['Total'].mean().reset_index()"
   ]
  },
  {
   "cell_type": "markdown",
   "id": "f9642dbe",
   "metadata": {},
   "source": [
    "캐릭터들의 능력치의 합의 평균은 좋은 캐릭터들이 더 작다. 따라서, 중립 캐릭터들은 좋은 캐릭터들에 가담한다."
   ]
  },
  {
   "cell_type": "code",
   "execution_count": 17,
   "id": "bd18f729",
   "metadata": {},
   "outputs": [],
   "source": [
    "## 중립의 캐릭터의 Alignment를 good으로 변경\n",
    "comp_abengers_df = abengers_df.copy()\n",
    "comp_abengers_df.loc[comp_abengers_df['Alignment']=='neutral','Alignment'] = 'good'"
   ]
  },
  {
   "cell_type": "code",
   "execution_count": 18,
   "id": "f6d3d3ba",
   "metadata": {},
   "outputs": [
    {
     "data": {
      "text/html": [
       "<div>\n",
       "<style scoped>\n",
       "    .dataframe tbody tr th:only-of-type {\n",
       "        vertical-align: middle;\n",
       "    }\n",
       "\n",
       "    .dataframe tbody tr th {\n",
       "        vertical-align: top;\n",
       "    }\n",
       "\n",
       "    .dataframe thead th {\n",
       "        text-align: right;\n",
       "    }\n",
       "</style>\n",
       "<table border=\"1\" class=\"dataframe\">\n",
       "  <thead>\n",
       "    <tr style=\"text-align: right;\">\n",
       "      <th></th>\n",
       "      <th>Alignment</th>\n",
       "      <th>Total</th>\n",
       "    </tr>\n",
       "  </thead>\n",
       "  <tbody>\n",
       "    <tr>\n",
       "      <th>0</th>\n",
       "      <td>bad</td>\n",
       "      <td>247.212121</td>\n",
       "    </tr>\n",
       "    <tr>\n",
       "      <th>1</th>\n",
       "      <td>good</td>\n",
       "      <td>218.476298</td>\n",
       "    </tr>\n",
       "  </tbody>\n",
       "</table>\n",
       "</div>"
      ],
      "text/plain": [
       "  Alignment       Total\n",
       "0       bad  247.212121\n",
       "1      good  218.476298"
      ]
     },
     "execution_count": 18,
     "metadata": {},
     "output_type": "execute_result"
    }
   ],
   "source": [
    "comp_abengers_df.groupby(['Alignment'])['Total'].mean().reset_index()"
   ]
  },
  {
   "cell_type": "markdown",
   "id": "d9ea3671",
   "metadata": {},
   "source": [
    "중립 캐릭터들이 좋은 캐릭터 편에 가담해서 능력치의 합의 평균이 오르긴 했지만, 그럼에도 불구하고 나쁜 캐릭터보다 작다.  \n",
    "\n",
    "따라서 승자는 **나쁜 캐릭터들**!!"
   ]
  },
  {
   "cell_type": "markdown",
   "id": "63aa9308",
   "metadata": {},
   "source": [
    "### 3. 이 데이터를 이용해 진행하고 싶은 EDA 및 시각화가 있다면 자유롭게 진행하여라."
   ]
  },
  {
   "cell_type": "code",
   "execution_count": null,
   "id": "8a04f254",
   "metadata": {},
   "outputs": [],
   "source": []
  }
 ],
 "metadata": {
  "kernelspec": {
   "display_name": "Python 3",
   "language": "python",
   "name": "python3"
  },
  "language_info": {
   "codemirror_mode": {
    "name": "ipython",
    "version": 3
   },
   "file_extension": ".py",
   "mimetype": "text/x-python",
   "name": "python",
   "nbconvert_exporter": "python",
   "pygments_lexer": "ipython3",
   "version": "3.9.5"
  }
 },
 "nbformat": 4,
 "nbformat_minor": 5
}
