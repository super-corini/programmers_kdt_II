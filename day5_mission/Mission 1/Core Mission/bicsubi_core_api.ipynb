{
 "cells": [
  {
   "cell_type": "markdown",
   "id": "ff579cb1-d2fa-4183-b8bc-eff2f7cd2ef6",
   "metadata": {},
   "source": [
    "# API 명세서"
   ]
  },
  {
   "cell_type": "markdown",
   "id": "19e80412-d826-4289-b136-89964327393a",
   "metadata": {},
   "source": [
    "## How to build and install"
   ]
  },
  {
   "cell_type": "markdown",
   "id": "f2412fd8-ff9d-40ec-805d-678314b56b23",
   "metadata": {},
   "source": [
    "### Packages"
   ]
  },
  {
   "cell_type": "markdown",
   "id": "d617030f-e4df-4248-a35b-791e14834895",
   "metadata": {},
   "source": [
    "- flask==1.1.2\n",
    "- flask_restx==0.3.0"
   ]
  },
  {
   "cell_type": "markdown",
   "id": "7c845719-8dda-411a-ad0e-4d555e9b6e7d",
   "metadata": {},
   "source": [
    "### Install"
   ]
  },
  {
   "cell_type": "markdown",
   "id": "ce90d3f0-f482-4d32-a3ce-199766bc1b0b",
   "metadata": {},
   "source": [
    "`pip install -r requirements.txt`"
   ]
  },
  {
   "cell_type": "markdown",
   "id": "a06bc763-efff-45bc-b589-ffce344c440b",
   "metadata": {},
   "source": [
    "## How to use"
   ]
  },
  {
   "cell_type": "markdown",
   "id": "d1f221cc-fe62-4885-ab25-019acb608ba3",
   "metadata": {},
   "source": [
    "`python app.py`"
   ]
  },
  {
   "cell_type": "markdown",
   "id": "5a41ceb4-ac69-4709-a60d-7cf8b296faa9",
   "metadata": {},
   "source": [
    "### Endpoints"
   ]
  },
  {
   "cell_type": "markdown",
   "id": "69ad4c7e-bf3c-4a32-97ec-eb793d0e84fb",
   "metadata": {},
   "source": [
    "|Method|Endpoint|Description|Example|\n",
    "|----|----|----|----|\n",
    "|GET|/whoami|자신의 github 아이디 출력|GET /whoami|\n",
    "|GET|/echo|Query String 반환|GET /echo?string=lymchgmk|\n",
    "|POST|/weapons|새로운 weapon을 추가|POST /weapons|\n",
    "|GET|/weapons/{weapon_id}|현재 존재하는 {weapon_id}에 해당하는 weapon을 확인|GET /weapons/1|\n",
    "|PUT|/weapons/{weapon_id}|현재 존재하는 weapon 에서 특정 속성(이름, 수량)을 변경|POST /weapons/1|\n",
    "|DELETE|/weapons/{weapon_id}|현재 존재하는 특정 weapon 을 삭제|DELETE /weapons/1|"
   ]
  },
  {
   "cell_type": "markdown",
   "id": "b963f3cd-9592-4f2e-ae4a-058f3214b1db",
   "metadata": {},
   "source": [
    "### Data Type"
   ]
  },
  {
   "cell_type": "markdown",
   "id": "5e1e00f8-919e-4ea2-bdfd-7ce1b777c430",
   "metadata": {},
   "source": [
    "#### Request"
   ]
  },
  {
   "cell_type": "markdown",
   "id": "0ab20bb3-eecd-4b0e-b204-faafcba2ee80",
   "metadata": {},
   "source": [
    "API server accepts the form of `JSON`"
   ]
  },
  {
   "cell_type": "markdown",
   "id": "5f6a65cc-c747-44d4-b9c6-e11c2dcb3609",
   "metadata": {},
   "source": [
    "#### Response"
   ]
  },
  {
   "cell_type": "markdown",
   "id": "ad8e9a81-e5ee-40e5-b79e-0f32bbb5ba38",
   "metadata": {},
   "source": [
    "Response data type is always `application/json`"
   ]
  },
  {
   "cell_type": "markdown",
   "id": "a05da64a-4800-472f-a748-5ad4e122214d",
   "metadata": {},
   "source": [
    "#### models"
   ]
  },
  {
   "cell_type": "markdown",
   "id": "4882fdd5-d4eb-443a-8f3b-57ba84f9b2ad",
   "metadata": {},
   "source": [
    "##### Weapon"
   ]
  },
  {
   "cell_type": "markdown",
   "id": "fb893133-e192-45a0-9235-7cd2154a0de0",
   "metadata": {},
   "source": [
    "|key|Type|\n",
    "|----|----|\n",
    "|name|string|\n",
    "|stock|integer|"
   ]
  },
  {
   "cell_type": "markdown",
   "id": "06c1e16d-3fdd-4eaa-b375-a56a0a84cc36",
   "metadata": {},
   "source": [
    "##### Weapon With ID"
   ]
  },
  {
   "cell_type": "markdown",
   "id": "86fca00e-e82b-47c2-a967-e925a07b20a6",
   "metadata": {},
   "source": [
    "|key|Type|\n",
    "|----|----|\n",
    "|weapon_id|integet|\n",
    "|name|string|\n",
    "|stock|integer|"
   ]
  }
 ],
 "metadata": {
  "kernelspec": {
   "display_name": "Python 3",
   "language": "python",
   "name": "python3"
  },
  "language_info": {
   "codemirror_mode": {
    "name": "ipython",
    "version": 3
   },
   "file_extension": ".py",
   "mimetype": "text/x-python",
   "name": "python",
   "nbconvert_exporter": "python",
   "pygments_lexer": "ipython3",
   "version": "3.8.8"
  }
 },
 "nbformat": 4,
 "nbformat_minor": 5
}
