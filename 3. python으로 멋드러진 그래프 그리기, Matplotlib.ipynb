{
 "cells": [
  {
   "cell_type": "markdown",
   "metadata": {},
   "source": [
    "# Matlab으로 데이터 시각화하기\n",
    "\n",
    "**데이터를 보기좋게 표현해봅시다.**"
   ]
  },
  {
   "cell_type": "markdown",
   "metadata": {},
   "source": [
    "#### 1. Matplotlib 시작하기\n",
    "   \n",
    "#### 2. 자주 사용되는 Plotting의 Options\n",
    "- 크기 : `figsize`\n",
    "- 제목 : `title`\n",
    "- 라벨 : `_label`\n",
    "- 눈금 : `_tics`\n",
    "- 범례 : `legend`\n",
    "  \n",
    "#### 3. Matplotlib Case Study\n",
    "- 꺾은선 그래프 (Plot)\n",
    "- 산점도 (Scatter Plot)\n",
    "- 박스그림 (Box Plot)\n",
    "- 막대그래프 (Bar Chart)\n",
    "- 원형그래프 (Pie Chart)\n",
    "  \n",
    "#### 4. The 멋진 그래프, seaborn Case Study\n",
    "- 커널밀도그림 (Kernel Density Plot)\n",
    "- 카운트그림 (Count Plot)\n",
    "- 캣그림 (Cat Plot)\n",
    "- 스트립그림 (Strip Plot)\n",
    "- 히트맵 (Heatmap)\n",
    "  "
   ]
  },
  {
   "cell_type": "markdown",
   "metadata": {},
   "source": [
    "## I. Matplotlib 시작하기"
   ]
  },
  {
   "source": [
    "-파이썬의 데이터 시각화 라이브러리\n",
    "\n",
    "cf) 라이브러리 vs 프레임워크\n",
    "라이브러리는 numpy pandas\n",
    "프레임워크는 flask 같은거\n",
    "뭔가 함수는 라이브러리 대규모는 프레임워크 \n",
    "\n",
    "\n",
    "%matplotlib inline 로 활성화"
   ],
   "cell_type": "markdown",
   "metadata": {}
  },
  {
   "cell_type": "code",
   "execution_count": null,
   "metadata": {},
   "outputs": [],
   "source": [
    "import numpy as np \n",
    "import pandas as pd \n",
    "import matplotlib.pyplot as plt \n",
    "\n",
    "# %matplotlib inline\n"
   ]
  },
  {
   "source": [
    "### 2. Case Study with Arguments"
   ],
   "cell_type": "markdown",
   "metadata": {}
  },
  {
   "cell_type": "code",
   "execution_count": null,
   "metadata": {},
   "outputs": [],
   "source": [
    "plt.plot([1,2,3,4,5])\n",
    "plt.show()"
   ]
  },
  {
   "cell_type": "code",
   "execution_count": null,
   "metadata": {},
   "outputs": [],
   "source": [
    "plt.plot([1,7,2,4,5])\n",
    "plt.show()"
   ]
  },
  {
   "source": [
    "### figsize : 종이도면 크기 정하기"
   ],
   "cell_type": "markdown",
   "metadata": {}
  },
  {
   "source": [
    "plt.figure(figsize=(3,3)) # plotting을 할 도면을 선언하였다 즉 종이임 종이크기\n",
    "\n",
    "plt.plot([0,1,2,3,4,5,6,7])\n",
    "plt.show()\n"
   ],
   "cell_type": "code",
   "metadata": {},
   "execution_count": null,
   "outputs": []
  },
  {
   "source": [
    "2차함수 그래프 그리기"
   ],
   "cell_type": "markdown",
   "metadata": {}
  },
  {
   "cell_type": "code",
   "execution_count": null,
   "metadata": {},
   "outputs": [],
   "source": [
    "plt.plot([0,1,2,3,4])\n",
    "plt.show()"
   ]
  },
  {
   "source": [
    "아래 조건을 제곱으로 해보자\n",
    "\n",
    "$ y = x^2$"
   ],
   "cell_type": "markdown",
   "metadata": {}
  },
  {
   "cell_type": "code",
   "execution_count": null,
   "metadata": {},
   "outputs": [],
   "source": [
    "x = np.array([1,2,3,4,5]) # 이건 주는 값 x \n",
    "y = np.array([1,4,9,16,25]) # 이건 결과 f(x)\n",
    "\n",
    "plt.plot(x,y)\n",
    "plt.show()"
   ]
  },
  {
   "source": [
    "np를 무수히 쪼개본다"
   ],
   "cell_type": "markdown",
   "metadata": {}
  },
  {
   "cell_type": "code",
   "execution_count": null,
   "metadata": {},
   "outputs": [],
   "source": [
    "x = np.arange(-1000,1000,0.1)\n",
    "plt.plot(x, x**2) # 첫자리는 x 둘쪠자리는 세로 y\n",
    "plt.show()"
   ]
  },
  {
   "source": [
    "이제 설명을 넣어보자\n"
   ],
   "cell_type": "markdown",
   "metadata": {}
  },
  {
   "cell_type": "code",
   "execution_count": null,
   "metadata": {},
   "outputs": [],
   "source": [
    "x = np.arange(-10,10,0.01)\n",
    "plt.xlabel('x korean')\n",
    "plt.ylabel('y english')\n",
    "plt.axis([-5,5,0,25]) # [x최소, x최대, y최소,y최대]\n",
    "plt.plot(x, x**2)\n",
    "plt.show()"
   ]
  },
  {
   "cell_type": "code",
   "execution_count": null,
   "metadata": {},
   "outputs": [],
   "source": [
    "x = np.arange(-5,5,0.01)\n",
    "plt.xlabel('x korean')\n",
    "plt.ylabel('y english')\n",
    "\n",
    "plt.axis([-5,5,0,25])\n",
    "# x, y 에 눈금선 긋기\n",
    "plt.xticks([_ for _ in range(-5,6,1)])\n",
    "plt.yticks([ _ for _ in range(0,25,3)])\n",
    "\n",
    "# 이름 짓기\n",
    "plt.title(\"$y = x^2$\")\n",
    "\n",
    "plt.plot(x, x**2, label='line')\n",
    "plt.legend()\n",
    "plt.show()"
   ]
  },
  {
   "source": [
    "## II. Matplotlib Case Study"
   ],
   "cell_type": "markdown",
   "metadata": {}
  },
  {
   "source": [
    "## 그래프 만들어보기\n",
    "### * 꺽은선\n",
    "\n",
    "plt.plot(x , y)"
   ],
   "cell_type": "markdown",
   "metadata": {}
  },
  {
   "cell_type": "code",
   "execution_count": null,
   "metadata": {},
   "outputs": [],
   "source": [
    "x = np.arange(20)\n",
    "y = np.random.randint(0,20,20)\n",
    "\n",
    "plt.axis([0,20,0,20])\n",
    "plt.yticks([0,5,15,20])\n",
    "\n",
    "plt.plot(x , y)\n",
    "plt.show()"
   ]
  },
  {
   "source": [
    "### *산점도\n",
    "\n",
    "plt.scatter(x,y)"
   ],
   "cell_type": "markdown",
   "metadata": {}
  },
  {
   "cell_type": "code",
   "execution_count": null,
   "metadata": {},
   "outputs": [],
   "source": [
    "plt.scatter(x,y)\n",
    "plt.show()"
   ]
  },
  {
   "source": [
    "### * 박스 타입\n",
    "\n",
    "최소 와 최대 그리고 중간값 그리고 분기값 같은거 찾아줌 1/4 2/4 3/4 등등"
   ],
   "cell_type": "markdown",
   "metadata": {}
  },
  {
   "cell_type": "code",
   "execution_count": null,
   "metadata": {},
   "outputs": [],
   "source": [
    "plt.boxplot((x,y))\n",
    "plt.show()"
   ]
  },
  {
   "source": [],
   "cell_type": "markdown",
   "metadata": {}
  },
  {
   "source": [
    "### * 막대그래프\n"
   ],
   "cell_type": "markdown",
   "metadata": {}
  },
  {
   "cell_type": "code",
   "execution_count": null,
   "metadata": {},
   "outputs": [],
   "source": [
    "plt.bar(x,y)\n",
    "plt.show()"
   ]
  },
  {
   "source": [
    "### 히스토그램\n",
    "막대그래프 붙어있음 그리고 어느정도를 분기 같이 나눔 예로 10 ~ 20 은 1 로 20~ 30 은 2로 같이 함"
   ],
   "cell_type": "markdown",
   "metadata": {}
  },
  {
   "source": [
    "plt.hist(y, bins= np.arange(0, 20, 2))\n",
    "plt.xticks(np.arange(0,20,2))\n",
    "plt.show()"
   ],
   "cell_type": "code",
   "metadata": {},
   "execution_count": null,
   "outputs": []
  },
  {
   "source": [
    "### *원형 그래프 (Pie Chart)\n",
    "그냥 다들 아는 파이형식 그래프\n"
   ],
   "cell_type": "markdown",
   "metadata": {}
  },
  {
   "cell_type": "code",
   "execution_count": null,
   "metadata": {},
   "outputs": [],
   "source": [
    "z = [100,300,200,400]\n",
    "plt.pie(z)\n",
    "plt.show()"
   ]
  },
  {
   "cell_type": "markdown",
   "metadata": {},
   "source": [
    "## III. The 멋진 그래프, Seaborn Case Study"
   ]
  },
  {
   "source": [
    "Matplotlib를 이쁘게 만드는 법!\n",
    "\n",
    "- 커널 밀도그림\n",
    "- 카운트그림\n",
    "- 캣그림\n",
    "- 스트립그림\n",
    "- 히트맵그림\n"
   ],
   "cell_type": "markdown",
   "metadata": {}
  },
  {
   "source": [
    "Seaborn 불러오기"
   ],
   "cell_type": "markdown",
   "metadata": {}
  },
  {
   "cell_type": "code",
   "execution_count": null,
   "metadata": {},
   "outputs": [],
   "source": [
    "import seaborn as sns"
   ]
  },
  {
   "source": [
    "### * 커널 밀도그림\n",
    "- sns.kedeplot()"
   ],
   "cell_type": "markdown",
   "metadata": {}
  },
  {
   "cell_type": "code",
   "execution_count": null,
   "metadata": {},
   "outputs": [],
   "source": [
    "x = np.arange(0,22,2)\n",
    "y = np.random.randint(0, 20, 20)\n",
    "\n",
    "plt.hist(y, bins=x)\n",
    "plt.show()\n"
   ]
  },
  {
   "cell_type": "code",
   "execution_count": null,
   "metadata": {},
   "outputs": [],
   "source": [
    "sns.kdeplot(y, shade=True)\n",
    "plt.show()"
   ]
  },
  {
   "source": [
    "### * 카운트 그림\n",
    "- sns.countplot()"
   ],
   "cell_type": "markdown",
   "metadata": {}
  },
  {
   "cell_type": "code",
   "execution_count": null,
   "metadata": {},
   "outputs": [],
   "source": [
    "vote_df = pd.DataFrame({\"name\":['Andy', 'Bob', 'Cat'], \"vote\":[True,True,False]})\n",
    "vote_df"
   ]
  },
  {
   "cell_type": "code",
   "execution_count": null,
   "metadata": {},
   "outputs": [],
   "source": [
    "vote_count = vote_df.groupby('vote').count()\n",
    "vote_count"
   ]
  },
  {
   "cell_type": "code",
   "execution_count": null,
   "metadata": {},
   "outputs": [],
   "source": [
    "plt.bar(x=[False,True], height=vote_count['name'])\n",
    "\n",
    "plt.show()"
   ]
  },
  {
   "cell_type": "code",
   "execution_count": null,
   "metadata": {},
   "outputs": [],
   "source": [
    "sns.countplot(vote_df['vote'])\n",
    "plt.show()"
   ]
  },
  {
   "source": [
    "### *켓그림 \n",
    "- sns.catplot() "
   ],
   "cell_type": "markdown",
   "metadata": {}
  },
  {
   "cell_type": "code",
   "execution_count": null,
   "metadata": {},
   "outputs": [],
   "source": [
    "covid = pd.read_csv(\"./country_wise_latest.csv\")\n",
    "covid.head(5)"
   ]
  },
  {
   "cell_type": "code",
   "execution_count": null,
   "metadata": {},
   "outputs": [],
   "source": [
    "sns.catplot(x=\"WHO Region\", y=\"Confirmed\", data=covid)\n",
    "plt.show()"
   ]
  },
  {
   "source": [
    "### * 스트립그림 \n",
    "- sns.stripplot()\n"
   ],
   "cell_type": "markdown",
   "metadata": {}
  },
  {
   "cell_type": "code",
   "execution_count": null,
   "metadata": {},
   "outputs": [],
   "source": [
    "sns.stripplot(x=\"WHO Region\", y=\"Confirmed\", data=covid)\n",
    "plt.show()"
   ]
  },
  {
   "cell_type": "code",
   "execution_count": null,
   "metadata": {},
   "outputs": [],
   "source": [
    "s = sns.swarmplot(x=\"WHO Region\", y=\"Confirmed\", data=covid)\n",
    "plt.show()"
   ]
  },
  {
   "source": [
    "### * 히트맵\n",
    "에들의 상관관계를 보는거임\n",
    "- sns.heatmap()"
   ],
   "cell_type": "markdown",
   "metadata": {}
  },
  {
   "cell_type": "code",
   "execution_count": null,
   "metadata": {},
   "outputs": [],
   "source": [
    "covid.corr()"
   ]
  },
  {
   "cell_type": "code",
   "execution_count": null,
   "metadata": {},
   "outputs": [],
   "source": [
    "sns.heatmap(covid.corr())\n",
    "plt.show()"
   ]
  },
  {
   "cell_type": "markdown",
   "metadata": {},
   "source": [
    "## Misiisn 1. Netfilx and Code"
   ]
  },
  {
   "source": [
    "[넷플릭스 데이터](https://www.kaggle.com/shivamb/netflix-shows)가 주어졌을 때, 다음 질문에 답하시오:\n",
    "\n",
    "1.넷플릭스 한국 작품('South Korea')이 몇개인지 찾아라 (단일로)\n",
    "\n",
    "2.넷플릭스에 가장만은 작품을 만든 국가는 (단일로)"
   ],
   "cell_type": "markdown",
   "metadata": {}
  },
  {
   "source": [
    "mv kaggle.json ~/.kaggle/\n",
    "\n",
    "chmod 600 ~/.kaggle/kaggle.json\n",
    "\n",
    "kaggle datasets download -d shivamb/netflix-shows\n",
    "\n",
    "unzip netflix-shows.zip"
   ],
   "cell_type": "markdown",
   "metadata": {}
  },
  {
   "cell_type": "code",
   "execution_count": null,
   "metadata": {},
   "outputs": [],
   "source": [
    "import numpy as np \n",
    "import pandas as pd "
   ]
  },
  {
   "cell_type": "code",
   "execution_count": null,
   "metadata": {},
   "outputs": [],
   "source": [
    "netflix =  pd.read_csv(\"./netflix_titles.csv\")"
   ]
  },
  {
   "source": [
    "### 1-1. 한국 넷플릭스 찾기"
   ],
   "cell_type": "markdown",
   "metadata": {}
  },
  {
   "cell_type": "code",
   "execution_count": null,
   "metadata": {},
   "outputs": [],
   "source": [
    "netflix_country = netflix.groupby(by =\"country\").count()\n",
    "netflix_country['type']['South Korea']"
   ]
  },
  {
   "source": [
    "### 1-2. 넷플릭스 가장만은 작품을 만든 국가"
   ],
   "cell_type": "markdown",
   "metadata": {}
  },
  {
   "cell_type": "code",
   "execution_count": null,
   "metadata": {},
   "outputs": [],
   "source": [
    "netflix_country = netflix.groupby(by =\"country\").count()\n",
    "netflix_country['show_id'].idxmax()"
   ]
  },
  {
   "source": [
    "## Mission 2. 가즈아!"
   ],
   "cell_type": "markdown",
   "metadata": {}
  },
  {
   "source": [
    "### Moving Average 이동평균법으로 비트코인 추세 알아네기\n",
    "\n",
    "[비트코인](https://www.kaggle.com/rishidamarla/bitcoin-prices-20112015)\n",
    "\n",
    "[이더리움](https://www.kaggle.com/prasoonkottarathil/ethereum-historical-dataset?select=ETH_day.csv) \n",
    "\n",
    "1. 비트코인의 2016.06 ~ 2017.06 기간의 5-ma(movinf average) 비트코인 가격 그래프를 그려주세요\n",
    "\n",
    "    1-1. 선색 (#f2a900) \n",
    "\n",
    "    1-2. x축 y축 텍스트 쓰기\n",
    "\n",
    "    1-3. 이동평균의 기준은 open column\n",
    "\n",
    "2. 2016.06 ~ 2017.06 기간의 이더리움 비트코인 5-ma 같이 그리기\n",
    "\n",
    "    2-1. 이더리움 (#3c3c3d)\n",
    "\n",
    "    2-2. x축 y축 텍스트 쓰기\n",
    "\n",
    "    2-3. 이동평균의 기준은 open column\n",
    "\n"
   ],
   "cell_type": "markdown",
   "metadata": {}
  },
  {
   "source": [
    "kaggle datasets download -d rishidamarla/bitcoin-prices-20112015\n",
    "\n",
    "kaggle datasets download -d prasoonkottarathil/ethereum-historical-dataset\n",
    "\n",
    "unzip bitcoin-prices-20112015.zip \n",
    "\n",
    "unzip ethereum-historical-dataset.zip "
   ],
   "cell_type": "markdown",
   "metadata": {}
  },
  {
   "cell_type": "code",
   "execution_count": null,
   "metadata": {},
   "outputs": [],
   "source": [
    "import numpy as np \n",
    "import pandas as pd\n",
    "import matplotlib.pyplot as pyplot\n",
    "import seaborn as sns"
   ]
  },
  {
   "cell_type": "code",
   "execution_count": null,
   "metadata": {},
   "outputs": [],
   "source": [
    "bitcoin = pd.read_csv('./BitCoin.csv')\n",
    "bitcoin['Date'] = pd.to_datetime(bitcoin['Date'])"
   ]
  },
  {
   "cell_type": "code",
   "execution_count": null,
   "metadata": {},
   "outputs": [],
   "source": [
    "from datetime import datetime\n",
    "setcoin = bitcoin.loc[(bitcoin['Date'] >= datetime.strptime('2016-06-01','%Y-%m-%d')) &(bitcoin['Date'] < datetime.strptime('2017-07-01','%Y-%m-%d')) ]\n",
    "\n",
    "setcoin = setcoin.sort_values('Date',ascending=True)\n",
    "setcoin = setcoin.drop(['High','Low','Close','Volume','Market Cap'], axis=1)"
   ]
  },
  {
   "cell_type": "code",
   "execution_count": null,
   "metadata": {},
   "outputs": [],
   "source": [
    "from collections import deque\n",
    "queue = deque()\n",
    "data = []\n",
    "for i in setcoin['Open']:\n",
    "    queue.append(i)\n",
    "    data.append(round(np.mean(queue),2))\n",
    "    if len(queue) >= 5:\n",
    "        queue.popleft()\n"
   ]
  },
  {
   "cell_type": "code",
   "execution_count": null,
   "metadata": {},
   "outputs": [],
   "source": [
    "setcoin=setcoin.assign(AVG=data)"
   ]
  },
  {
   "cell_type": "code",
   "execution_count": null,
   "metadata": {},
   "outputs": [],
   "source": [
    "plt.figure(figsize=(20,10))\n",
    "plt.plot(setcoin['Date'],setcoin['AVG'], color='#f2a900',linestyle=\"-\",linewidth=0.5)\n",
    "plt.bar(setcoin['Date'],setcoin['Open'], color=\"#c2f3f3\")\n",
    "plt.title('Line Bitcoin AVG 5-ma')\n",
    "plt.xlabel('Date')\n",
    "plt.ylabel('Price')\n",
    "plt.show()"
   ]
  },
  {
   "cell_type": "code",
   "execution_count": null,
   "metadata": {},
   "outputs": [],
   "source": [
    "Ethereum = pd.read_csv('./ETH_day.csv')\n",
    "Ethereum['Date'] = pd.to_datetime(Ethereum['Date'])"
   ]
  },
  {
   "cell_type": "code",
   "execution_count": null,
   "metadata": {},
   "outputs": [],
   "source": [
    "setEth = Ethereum.loc[(Ethereum['Date'] >= datetime.strptime('2016-06-01','%Y-%m-%d')) & (Ethereum['Date'] < datetime.strptime('2017-07-01','%Y-%m-%d'))]\n",
    "setEth = setEth.sort_values('Date',ascending=True)\n",
    "setEth = setEth.drop(['Symbol','High','Low','Close','Volume ETH','Volume USD'], axis=1)\n"
   ]
  },
  {
   "cell_type": "code",
   "execution_count": null,
   "metadata": {},
   "outputs": [],
   "source": [
    "queue = deque()\n",
    "data = []\n",
    "for i in setEth['Open']:\n",
    "    queue.append(i)\n",
    "    data.append(round(np.mean(queue),2))\n",
    "    if len(queue) >= 5:\n",
    "        queue.popleft()\n",
    "setEth=setEth.assign(AVG=data)"
   ]
  },
  {
   "cell_type": "code",
   "execution_count": null,
   "metadata": {},
   "outputs": [],
   "source": [
    "plt.figure(figsize=(20,10))\n",
    "plt.plot(setcoin['Date'],setcoin['AVG'], color='#f2a900',linestyle=\"-\",linewidth=0.5)\n",
    "plt.plot(setEth['Date'],setEth['AVG'], color='#3c3c3d',linestyle='--',linewidth=0.5)\n",
    "plt.bar(setcoin['Date'],setcoin['Open'], color=\"#c2f3f3\")\n",
    "plt.bar(setEth['Date'],setEth['Open'],color=\"#f3f3c2\")\n",
    "plt.title('Line Bitcoin AVG 5-ma')\n",
    "plt.xlabel('Date')\n",
    "plt.ylabel('Price')\n",
    "plt.show()"
   ]
  }
 ],
 "metadata": {
  "kernelspec": {
   "name": "python395jvsc74a57bd0e25d969c92605c0c7f415fe0832a23d7af293f208a65b2ef2c6d7f3dcccb9abb",
   "display_name": "Python 3.9.5 64-bit"
  },
  "language_info": {
   "codemirror_mode": {
    "name": "ipython",
    "version": 3
   },
   "file_extension": ".py",
   "mimetype": "text/x-python",
   "name": "python",
   "nbconvert_exporter": "python",
   "pygments_lexer": "ipython3",
   "version": "3.9.5"
  },
  "metadata": {
   "interpreter": {
    "hash": "e25d969c92605c0c7f415fe0832a23d7af293f208a65b2ef2c6d7f3dcccb9abb"
   }
  }
 },
 "nbformat": 4,
 "nbformat_minor": 4
}