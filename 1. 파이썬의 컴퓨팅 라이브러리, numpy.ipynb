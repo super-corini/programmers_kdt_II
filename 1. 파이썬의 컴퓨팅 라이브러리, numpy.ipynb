{
 "cells": [
  {
   "cell_type": "markdown",
   "metadata": {},
   "source": [
    "# 1. 파이썬의 컴퓨팅 라이브러리, numpy\n",
    "**numpy를 이용해서 데이터를 다뤄봅시다!**"
   ]
  },
  {
   "cell_type": "markdown",
   "metadata": {},
   "source": [
    "### Our Goal\n",
    "1. Numpy 시작하기\n",
    "    - prerequisite : Python의 List\n",
    "    - numpy import하기\n",
    "    - numpy.array\n",
    "\n",
    "2. Numpy로 연산하기\n",
    "    - Vector - Scalar : elementwise! (+, -, *, /)\n",
    "    - Vector - Vector : elementwise / broadcasting (+, -, *, /)\n",
    "    - Indexing & Slicing\n",
    "3. Example : Linear Algebra with Numpy\n",
    "    1. basics\n",
    "    - 영벡터 : `.zeros()`\n",
    "    - 일벡터 : `.ones()`\n",
    "    - 대각행렬 : `.diag()`\n",
    "    - 항등행렬 : `.eye()`\n",
    "    - 행렬곱 : `@` / `.dot()`\n",
    "  \n",
    "    2. furthermore\n",
    "    - 트레이스 : `.trace()`\n",
    "    - 행렬식 : `.linalg.det()`\n",
    "    - 역행렬 : `.linalg.inv()`\n",
    "    - 고유값 : `.linalg.eig()`\n"
   ]
  },
  {
   "cell_type": "markdown",
   "metadata": {},
   "source": [
    "## I. Numpy 시작하기"
   ]
  },
  {
   "cell_type": "markdown",
   "metadata": {},
   "source": [
    "### numpy.array"
   ]
  },
  {
   "cell_type": "markdown",
   "metadata": {},
   "source": [
    "numpy의 Container, array"
   ]
  },
  {
   "cell_type": "code",
   "execution_count": 1,
   "metadata": {},
   "outputs": [],
   "source": [
    "import numpy as np"
   ]
  },
  {
   "cell_type": "code",
   "execution_count": 2,
   "metadata": {},
   "outputs": [
    {
     "data": {
      "text/plain": [
       "array([1, 2, 3])"
      ]
     },
     "execution_count": 2,
     "metadata": {},
     "output_type": "execute_result"
    }
   ],
   "source": [
    "arr = np.array([1,2,3])\n",
    "\n",
    "arr"
   ]
  },
  {
   "cell_type": "code",
   "execution_count": 3,
   "metadata": {},
   "outputs": [
    {
     "data": {
      "text/plain": [
       "array([[1, 2, 3],\n",
       "       [4, 5, 6],\n",
       "       [7, 8, 9]])"
      ]
     },
     "execution_count": 3,
     "metadata": {},
     "output_type": "execute_result"
    }
   ],
   "source": [
    "arr_2d = np.array([[1,2,3],[4,5,6],[7,8,9]])\n",
    "\n",
    "arr_2d"
   ]
  },
  {
   "cell_type": "code",
   "execution_count": 6,
   "metadata": {},
   "outputs": [
    {
     "name": "stdout",
     "output_type": "stream",
     "text": [
      "(3,)\n",
      "(3, 3)\n"
     ]
    }
   ],
   "source": [
    "print(arr.shape)\n",
    "print(arr_2d.shape)"
   ]
  },
  {
   "cell_type": "markdown",
   "metadata": {},
   "source": [
    "## II. Numpy로 연산하기"
   ]
  },
  {
   "cell_type": "markdown",
   "metadata": {},
   "source": [
    "### vector와 scalar 사이의 연산\n",
    "\n",
    "벡터의 각 원소에 대해서 연산을 진행\n",
    "\n",
    "$$ x = \\begin{bmatrix} 1 \\\\ 2 \\\\ 3 \\end{bmatrix}, c = 5 $$"
   ]
  },
  {
   "cell_type": "code",
   "execution_count": 10,
   "metadata": {},
   "outputs": [
    {
     "name": "stdout",
     "output_type": "stream",
     "text": [
      "더하기 : [6 7 8]\n",
      "빼기 : [-4 -3 -2]\n",
      "곱하기 : [ 5 10 15]\n",
      "나누기 : [0.2 0.4 0.6]\n"
     ]
    }
   ],
   "source": [
    "x = np.array([1,2,3])\n",
    "c = 5\n",
    "print(f\"더하기 : {x+c}\")\n",
    "print(f\"빼기 : {x-c}\")\n",
    "print(f\"곱하기 : {x*c}\")\n",
    "print(f\"나누기 : {x/c}\")"
   ]
  },
  {
   "cell_type": "markdown",
   "metadata": {},
   "source": [
    "### vector와 vector사이의 연산\n",
    "\n",
    "벡터의 **같은 index**끼리 연산이 진행된다.\n",
    "\n",
    "$$y = \\begin{bmatrix} 1 \\\\ 3 \\\\ 5 \\end{bmatrix}, z = \\begin{bmatrix} 2 \\\\ 9 \\\\ 20 \\end{bmatrix}$$"
   ]
  },
  {
   "cell_type": "code",
   "execution_count": 13,
   "metadata": {},
   "outputs": [
    {
     "name": "stdout",
     "output_type": "stream",
     "text": [
      "더하기 : [ 3 12 25]\n",
      "빼기 : [ -1  -6 -15]\n",
      "곱하기 : [  2  27 100]\n",
      "나누기 : [0.5        0.33333333 0.25      ]\n"
     ]
    }
   ],
   "source": [
    "y = np.array([1,3,5])\n",
    "z = np.array([2,9,20])\n",
    "print(f\"더하기 : {y+z}\")\n",
    "print(f\"빼기 : {y-z}\")\n",
    "print(f\"곱하기 : {y*z}\")\n",
    "print(f\"나누기 : {y/z}\")"
   ]
  },
  {
   "cell_type": "markdown",
   "metadata": {},
   "source": [
    "### Array의 Indexing\n",
    "\n",
    "array에서 특정 위치의 원소를 가져오고 싶다면? -> Python List와 유사하게 진행\n",
    "\n",
    "$$w = \\begin{bmatrix} 1& 2& 3& 4 \\\\ 5& 6& 7& 8 \\\\ 9 & 10 & 11 & 12 \\end{bmatrix}$$"
   ]
  },
  {
   "cell_type": "code",
   "execution_count": 15,
   "metadata": {},
   "outputs": [
    {
     "name": "stdout",
     "output_type": "stream",
     "text": [
      "1\n",
      "12\n"
     ]
    }
   ],
   "source": [
    "w = np.array([[1,2,3,4],[5,6,7,8],[9,10,11,12]])\n",
    "\n",
    "print(w[0][0]) # 1\n",
    "print(w[2,3]) # 12"
   ]
  },
  {
   "cell_type": "markdown",
   "metadata": {},
   "source": [
    "### Array의 Slicing\n",
    "\n",
    "array에서 특정 범위의 원소들을 가져오고 싶다면? -> Python list와 유사하게 진행"
   ]
  },
  {
   "cell_type": "code",
   "execution_count": 22,
   "metadata": {},
   "outputs": [
    {
     "name": "stdout",
     "output_type": "stream",
     "text": [
      "[[2 3]\n",
      " [6 7]]\n",
      "[[1 2 3 4]\n",
      " [5 6 7 8]]\n",
      "[[1 2 3 4]\n",
      " [5 6 7 8]]\n",
      "[[1 2 3 4]\n",
      " [5 6 7 8]]\n"
     ]
    }
   ],
   "source": [
    "# [[2,3],[6,7]] 가져오고 싶을때\n",
    "# 행 인덱스 0~1 : [0:2] // 열인덱스 1~2 : [1:3]\n",
    "print(w[0:2, 1:3])\n",
    "# 첫행 2개 가져올때\n",
    "print(w[0:2, 0:4])\n",
    "print(w[:2])\n",
    "print(w[:2,:])"
   ]
  },
  {
   "cell_type": "code",
   "execution_count": 23,
   "metadata": {},
   "outputs": [
    {
     "name": "stdout",
     "output_type": "stream",
     "text": [
      "[[ 3  4]\n",
      " [ 7  8]\n",
      " [11 12]]\n",
      "[[ 3  4]\n",
      " [ 7  8]\n",
      " [11 12]]\n"
     ]
    }
   ],
   "source": [
    "# 뒤에 열 2개 가져올때\n",
    "print(w[0:3, 2:4])\n",
    "print(w[:,2:4])"
   ]
  },
  {
   "cell_type": "markdown",
   "metadata": {},
   "source": [
    "### Array의 Broadcasting\n",
    "\n",
    "기본적으로 같은 type의 Data에 대해서만 연산이 적용 가능  \n",
    "하지만 만약에 피연산자가 연산가능하도록 변환이 가능하다면 연산 가능  \n",
    "이를 **Broadcasting**이라고 합니다.\n",
    "\n",
    "$$A = \\begin{bmatrix} 1& 2& 3 \\\\ 4& 5& 6 \\\\ 7& 8 & 9 \\end{bmatrix}, m = \\begin{bmatrix} 3 \\\\ 2 \\\\ 1 \\end{bmatrix}$$"
   ]
  },
  {
   "cell_type": "markdown",
   "metadata": {},
   "source": [
    "#### 1. MxN, Mx1"
   ]
  },
  {
   "cell_type": "code",
   "execution_count": 32,
   "metadata": {},
   "outputs": [
    {
     "name": "stdout",
     "output_type": "stream",
     "text": [
      "더하기 : \n",
      "[[ 4  5  6]\n",
      " [ 6  7  8]\n",
      " [ 8  9 10]]\n",
      "빼기 : \n",
      "[[-2 -1  0]\n",
      " [ 2  3  4]\n",
      " [ 6  7  8]]\n",
      "곱하기 : \n",
      "[[ 3  6  9]\n",
      " [ 8 10 12]\n",
      " [ 7  8  9]]\n",
      "나누기 : \n",
      "[[0.33333333 0.66666667 1.        ]\n",
      " [2.         2.5        3.        ]\n",
      " [7.         8.         9.        ]]\n"
     ]
    }
   ],
   "source": [
    "A = np.array([[1,2,3],[4,5,6],[7,8,9]])\n",
    "m = np.array([[3],[2],[1]])\n",
    "\n",
    "print(f\"더하기 : \\n{A+m}\")\n",
    "print(f\"빼기 : \\n{A-m}\")\n",
    "print(f\"곱하기 : \\n{A*m}\")\n",
    "print(f\"나누기 : \\n{A/m}\")"
   ]
  },
  {
   "cell_type": "markdown",
   "metadata": {},
   "source": [
    "#### 2. MxN, 1XM\n",
    "\n",
    "$$A = \\begin{bmatrix} 1& 2& 3 \\\\ 4& 5& 6 \\\\ 7& 8 & 9 \\end{bmatrix}, n = \\begin{bmatrix} 3 & 2 & 1 \\end{bmatrix}$$"
   ]
  },
  {
   "cell_type": "code",
   "execution_count": 31,
   "metadata": {},
   "outputs": [
    {
     "name": "stdout",
     "output_type": "stream",
     "text": [
      "더하기 : \n",
      "[[ 4  4  4]\n",
      " [ 7  7  7]\n",
      " [10 10 10]]\n",
      "빼기 : \n",
      "[[-2  0  2]\n",
      " [ 1  3  5]\n",
      " [ 4  6  8]]\n",
      "곱하기 : \n",
      "[[ 3  4  3]\n",
      " [12 10  6]\n",
      " [21 16  9]]\n",
      "나누기 : \n",
      "[[0.33333333 1.         3.        ]\n",
      " [1.33333333 2.5        6.        ]\n",
      " [2.33333333 4.         9.        ]]\n"
     ]
    }
   ],
   "source": [
    "A = np.array([[1,2,3],[4,5,6],[7,8,9]])\n",
    "n = np.array([3,2,1])\n",
    "# n = m[:, None] # m을 transpose\n",
    "\n",
    "print(f\"더하기 : \\n{A+n}\")\n",
    "print(f\"빼기 : \\n{A-n}\")\n",
    "print(f\"곱하기 : \\n{A*n}\")\n",
    "print(f\"나누기 : \\n{A/n}\")"
   ]
  },
  {
   "cell_type": "markdown",
   "metadata": {},
   "source": [
    "#### 3. Mx1, 1XM\n",
    "\n",
    "$$m = \\begin{bmatrix} 3 \\\\ 2 \\\\ 1 \\end{bmatrix}, n = \\begin{bmatrix} 3 & 2 & 1 \\end{bmatrix}$$"
   ]
  },
  {
   "cell_type": "code",
   "execution_count": 30,
   "metadata": {},
   "outputs": [
    {
     "name": "stdout",
     "output_type": "stream",
     "text": [
      "더하기 : \n",
      "[[6 5 4]\n",
      " [5 4 3]\n",
      " [4 3 2]]\n",
      "빼기 : \n",
      "[[ 0  1  2]\n",
      " [-1  0  1]\n",
      " [-2 -1  0]]\n",
      "곱하기 : \n",
      "[[9 6 3]\n",
      " [6 4 2]\n",
      " [3 2 1]]\n",
      "나누기 : \n",
      "[[1.         1.5        3.        ]\n",
      " [0.66666667 1.         2.        ]\n",
      " [0.33333333 0.5        1.        ]]\n"
     ]
    }
   ],
   "source": [
    "m = np.array([[3],[2],[1]])\n",
    "n = np.array([3,2,1])\n",
    "\n",
    "print(f\"더하기 : \\n{m+n}\")\n",
    "print(f\"빼기 : \\n{m-n}\")\n",
    "print(f\"곱하기 : \\n{m*n}\")\n",
    "print(f\"나누기 : \\n{m/n}\")"
   ]
  },
  {
   "cell_type": "markdown",
   "metadata": {},
   "source": [
    "## III. Numpy로 선형대수 지식 끼얹기"
   ]
  },
  {
   "cell_type": "markdown",
   "metadata": {},
   "source": [
    "### A. basics"
   ]
  },
  {
   "cell_type": "markdown",
   "metadata": {},
   "source": [
    "### 0벡터 (0행렬)\n",
    "\n",
    "원소가 모두 0인 벡터(행렬) -> `np.zeros(dim)`으로 생성. dim은 값 or tuple"
   ]
  },
  {
   "cell_type": "code",
   "execution_count": 33,
   "metadata": {},
   "outputs": [
    {
     "data": {
      "text/plain": [
       "array([[0., 0., 0.],\n",
       "       [0., 0., 0.],\n",
       "       [0., 0., 0.]])"
      ]
     },
     "execution_count": 33,
     "metadata": {},
     "output_type": "execute_result"
    }
   ],
   "source": [
    "# np.zeros(3,3) ## ERROR!\n",
    "np.zeros((3,3))"
   ]
  },
  {
   "cell_type": "markdown",
   "metadata": {},
   "source": [
    "### 1벡터 (1행렬)\n",
    "원소가 모두 1인 벡터(행렬) -> `np.ones(dim)` -> np.zeros와 사용법이 같다."
   ]
  },
  {
   "cell_type": "code",
   "execution_count": 34,
   "metadata": {},
   "outputs": [
    {
     "data": {
      "text/plain": [
       "array([[1., 1.],\n",
       "       [1., 1.]])"
      ]
     },
     "execution_count": 34,
     "metadata": {},
     "output_type": "execute_result"
    }
   ],
   "source": [
    "np.ones((2,2))"
   ]
  },
  {
   "cell_type": "markdown",
   "metadata": {},
   "source": [
    "### 대각행렬(diagonal Matrix)\n",
    "main digonal을 제외한 성분이 0인 행렬.`np.diag(main_diagonal)`으로 생성  \n",
    "main_diagonal 값을 튜플로 전달"
   ]
  },
  {
   "cell_type": "code",
   "execution_count": 35,
   "metadata": {},
   "outputs": [
    {
     "data": {
      "text/plain": [
       "array([[2, 0],\n",
       "       [0, 4]])"
      ]
     },
     "execution_count": 35,
     "metadata": {},
     "output_type": "execute_result"
    }
   ],
   "source": [
    "np.diag((2,4))"
   ]
  },
  {
   "cell_type": "code",
   "execution_count": 36,
   "metadata": {},
   "outputs": [
    {
     "data": {
      "text/plain": [
       "array([[1, 0, 0],\n",
       "       [0, 3, 0],\n",
       "       [0, 0, 5]])"
      ]
     },
     "execution_count": 36,
     "metadata": {},
     "output_type": "execute_result"
    }
   ],
   "source": [
    "np.diag((1,3,5))"
   ]
  },
  {
   "cell_type": "markdown",
   "metadata": {},
   "source": [
    "### 항등행렬 (Identity Matrix)\n",
    "main diagonal이 1인 대각행렬 -> `np.eye(n,dtype)`를 사용 (nxn matrix, dtype default는 float)"
   ]
  },
  {
   "cell_type": "code",
   "execution_count": 37,
   "metadata": {},
   "outputs": [
    {
     "data": {
      "text/plain": [
       "array([[1, 0],\n",
       "       [0, 1]])"
      ]
     },
     "execution_count": 37,
     "metadata": {},
     "output_type": "execute_result"
    }
   ],
   "source": [
    "np.eye(2,dtype=int)"
   ]
  },
  {
   "cell_type": "code",
   "execution_count": 38,
   "metadata": {},
   "outputs": [
    {
     "data": {
      "text/plain": [
       "array([[1., 0., 0.],\n",
       "       [0., 1., 0.],\n",
       "       [0., 0., 1.]])"
      ]
     },
     "execution_count": 38,
     "metadata": {},
     "output_type": "execute_result"
    }
   ],
   "source": [
    "np.eye(3,dtype=float)"
   ]
  },
  {
   "cell_type": "markdown",
   "metadata": {},
   "source": [
    "### 행렬곱 (dot product)\n",
    "행렬의 곱연산 -> `np.dot()` or `@` 연산 사용  \n",
    "**행렬곱의 주의사항** : 앞 행렬의 **열의수**와 뒷행렬의 **행의수**가 같아야 한다!"
   ]
  },
  {
   "cell_type": "code",
   "execution_count": 40,
   "metadata": {},
   "outputs": [
    {
     "name": "stdout",
     "output_type": "stream",
     "text": [
      "[[ 7 33]\n",
      " [14 36]]\n",
      "[[ 7 33]\n",
      " [14 36]]\n"
     ]
    }
   ],
   "source": [
    "mat_1 = np.array([[1,4],[2,3]])\n",
    "mat_2 = np.array([[7,9],[0,6]])\n",
    "\n",
    "print(mat_1.dot(mat_2))\n",
    "\n",
    "print(mat_1@mat_2)"
   ]
  },
  {
   "cell_type": "markdown",
   "metadata": {},
   "source": [
    "### B. furthermore"
   ]
  },
  {
   "cell_type": "markdown",
   "metadata": {},
   "source": [
    "### 트레이스(trace)\n",
    "main diagonal의 합. `np.trace()`사용"
   ]
  },
  {
   "cell_type": "code",
   "execution_count": 42,
   "metadata": {},
   "outputs": [
    {
     "data": {
      "text/plain": [
       "15"
      ]
     },
     "execution_count": 42,
     "metadata": {},
     "output_type": "execute_result"
    }
   ],
   "source": [
    "arr = np.array([[1,2,3],[4,5,6],[7,8,9]])\n",
    "arr.trace()"
   ]
  },
  {
   "cell_type": "code",
   "execution_count": 43,
   "metadata": {},
   "outputs": [
    {
     "data": {
      "text/plain": [
       "3"
      ]
     },
     "execution_count": 43,
     "metadata": {},
     "output_type": "execute_result"
    }
   ],
   "source": [
    "np.eye(3,dtype=int).trace()"
   ]
  },
  {
   "cell_type": "markdown",
   "metadata": {},
   "source": [
    "### 행렬식 (determinant)\n",
    "선형변환에서 vector의 scaling 척도  \n",
    "`np.linalg.det()`로 계산.\n",
    "\n",
    "* det() = 0 의 의미? == full rank가 아니다."
   ]
  },
  {
   "cell_type": "code",
   "execution_count": 47,
   "metadata": {},
   "outputs": [
    {
     "data": {
      "text/plain": [
       "9.000000000000002"
      ]
     },
     "execution_count": 47,
     "metadata": {},
     "output_type": "execute_result"
    }
   ],
   "source": [
    "arr2 = np.array([[2,3],[1,6]])\n",
    "\n",
    "np.linalg.det(arr2)"
   ]
  },
  {
   "cell_type": "code",
   "execution_count": 48,
   "metadata": {},
   "outputs": [
    {
     "data": {
      "text/plain": [
       "0.0"
      ]
     },
     "execution_count": 48,
     "metadata": {},
     "output_type": "execute_result"
    }
   ],
   "source": [
    "arr3 = np.array([[1,4,7],[2,5,8],[3,6,9]])\n",
    "\n",
    "np.linalg.det(arr3)"
   ]
  },
  {
   "cell_type": "markdown",
   "metadata": {},
   "source": [
    "### 역행렬 (Inverse Matrix)\n",
    "행렬 A에 대해서 AB = BA = I 를만족하는 행렬 B = A^-1  \n",
    "`np.linalg.inv()`로 계산"
   ]
  },
  {
   "cell_type": "code",
   "execution_count": 51,
   "metadata": {},
   "outputs": [
    {
     "name": "stdout",
     "output_type": "stream",
     "text": [
      "[[1 4]\n",
      " [2 3]]\n",
      "[[-0.6  0.8]\n",
      " [ 0.4 -0.2]]\n",
      "[[1. 0.]\n",
      " [0. 1.]]\n"
     ]
    }
   ],
   "source": [
    "mat = np.array([[1,4],[2,3]])\n",
    "mat_inv = np.linalg.inv(mat)\n",
    "\n",
    "print(mat)\n",
    "print(mat_inv)\n",
    "print(mat.dot(mat_inv))"
   ]
  },
  {
   "cell_type": "markdown",
   "metadata": {},
   "source": [
    "### 고유값과 고유벡터 (eigenvalue, eigenvector)\n",
    "정방 행렬(nxn)에 대해서 Ax = $\\lambda$x를 만족하는 $\\lambda$와 x를 각각 고유값, 고유벡터라 한다  \n",
    "`np.linalg.eig()`로 구현"
   ]
  },
  {
   "cell_type": "code",
   "execution_count": 55,
   "metadata": {},
   "outputs": [
    {
     "name": "stdout",
     "output_type": "stream",
     "text": [
      "[1. 2. 1.]\n",
      "[[0.         0.70710678 0.89442719]\n",
      " [1.         0.70710678 0.        ]\n",
      " [0.         0.         0.4472136 ]]\n"
     ]
    }
   ],
   "source": [
    "mat = np.array([[2,0,-2],[1,1,-2],[0,0,1]])\n",
    "\n",
    "eig_val, eig_vec = np.linalg.eig(mat) # eigenvalue와 eigenvector순으로 출력\n",
    "print(eig_val)\n",
    "print(eig_vec)"
   ]
  },
  {
   "cell_type": "code",
   "execution_count": 57,
   "metadata": {},
   "outputs": [
    {
     "data": {
      "text/plain": [
       "array([0., 1., 0.])"
      ]
     },
     "execution_count": 57,
     "metadata": {},
     "output_type": "execute_result"
    }
   ],
   "source": [
    "mat.dot(eig_vec[:, 0])"
   ]
  },
  {
   "cell_type": "code",
   "execution_count": 58,
   "metadata": {},
   "outputs": [
    {
     "data": {
      "text/plain": [
       "array([0., 1., 0.])"
      ]
     },
     "execution_count": 58,
     "metadata": {},
     "output_type": "execute_result"
    }
   ],
   "source": [
    "eig_val[0] * eig_vec[:,0] # lambda x"
   ]
  },
  {
   "cell_type": "markdown",
   "metadata": {},
   "source": [
    "## IV. Exercises"
   ]
  },
  {
   "cell_type": "markdown",
   "metadata": {},
   "source": [
    "### 1. 어떤 벡터가 주어졌을 때 L2 norm을 구하는 함수 `get_L2_norm()`을 작성하세요\n",
    "\n",
    "- **매개변수** : 1차원 벡터 (`np.array`)\n",
    "- **반환값** : 인자로 주어진 벡터의 L2 Norm값 (`number`)"
   ]
  },
  {
   "cell_type": "code",
   "execution_count": 64,
   "metadata": {},
   "outputs": [
    {
     "name": "stdout",
     "output_type": "stream",
     "text": [
      "42\n"
     ]
    }
   ],
   "source": [
    "def get_L2_norm(array):\n",
    "    number = sum(list(map(sum,array*array)))\n",
    "    return number\n",
    "\n",
    "arr = np.array([[1,2,3],[1,2,3],[1,2,3]])\n",
    "print(get_L2_norm(arr))"
   ]
  },
  {
   "cell_type": "markdown",
   "metadata": {},
   "source": [
    "### 2. 어떤 행렬이 singular matrix인지 확인하는 함수 `is_singular()` 를 작성하세요\n",
    "\n",
    "- 매개변수 : 2차원 벡터(`np.array`)\n",
    "- 반환값 : 인자로 주어진 벡터가 singular하면 True, non-singular하면 False를 반환 "
   ]
  },
  {
   "cell_type": "code",
   "execution_count": null,
   "metadata": {},
   "outputs": [],
   "source": [
    "def is_singular(array):\n",
    "    return np.linalg.det(array)==0\n",
    "\n",
    "arr = np.array([[1,2],[3,4]])\n",
    "print(is_s)"
   ]
  }
 ],
 "metadata": {
  "kernelspec": {
   "display_name": "Python 3",
   "language": "python",
   "name": "python3"
  },
  "language_info": {
   "codemirror_mode": {
    "name": "ipython",
    "version": 3
   },
   "file_extension": ".py",
   "mimetype": "text/x-python",
   "name": "python",
   "nbconvert_exporter": "python",
   "pygments_lexer": "ipython3",
   "version": "3.8.5"
  }
 },
 "nbformat": 4,
 "nbformat_minor": 4
}
