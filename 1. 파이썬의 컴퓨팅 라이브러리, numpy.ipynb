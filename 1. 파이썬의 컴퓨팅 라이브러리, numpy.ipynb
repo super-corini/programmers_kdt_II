{
 "cells": [
  {
   "cell_type": "markdown",
   "metadata": {},
   "source": [
    "# 1. 파이썬의 컴퓨팅 라이브러리, numpy\n",
    "**numpy를 이용해서 데이터를 다뤄봅시다!**"
   ]
  },
  {
   "cell_type": "markdown",
   "metadata": {},
   "source": [
    "### Our Goal\n",
    "1. Numpy 시작하기\n",
    "    - prerequisite : Python의 List\n",
    "    - numpy import하기\n",
    "    - numpy.array\n",
    "\n",
    "2. Numpy로 연산하기\n",
    "    - Vector - Scalar : elementwise! (+, -, *, /)\n",
    "    - Vector - Vector : elementwise / broadcasting (+, -, *, /)\n",
    "    - Indexing & Slicing\n",
    "3. Example : Linear Algebra with Numpy\n",
    "    1. basics\n",
    "    - 영벡터 : `.zeros()`\n",
    "    - 일벡터 : `.ones()`\n",
    "    - 대각행렬 : `.diag()`\n",
    "    - 항등행렬 : `.eye()`\n",
    "    - 행렬곱 : `@` / `.dot()`\n",
    "  \n",
    "    2. furthermore\n",
    "    - 트레이스 : `.trace()`\n",
    "    - 행렬식 : `.linalg.det()`\n",
    "    - 역행렬 : `.linalg.inv()`\n",
    "    - 고유값 : `.linalg.eig()`\n"
   ]
  },
  {
   "cell_type": "markdown",
   "metadata": {},
   "source": [
    "## I. Numpy 시작하기"
   ]
  },
  {
   "cell_type": "code",
   "execution_count": 1,
   "metadata": {},
   "outputs": [
    {
     "output_type": "execute_result",
     "data": {
      "text/plain": [
       "array([1, 2, 3])"
      ]
     },
     "metadata": {},
     "execution_count": 1
    }
   ],
   "source": [
    "import numpy as np\n",
    "arr = np.array([1,2,3])\n",
    "arr"
   ]
  },
  {
   "cell_type": "code",
   "execution_count": null,
   "metadata": {},
   "outputs": [],
   "source": [
    "arr_2d = np.array([[1,2,3],[4,5,6],[7,8,9]])\n",
    "arr_2d"
   ]
  },
  {
   "cell_type": "code",
   "execution_count": null,
   "metadata": {},
   "outputs": [],
   "source": [
    "arr.shape"
   ]
  },
  {
   "cell_type": "code",
   "execution_count": null,
   "metadata": {},
   "outputs": [],
   "source": [
    "arr_2d.shape"
   ]
  },
  {
   "cell_type": "markdown",
   "metadata": {},
   "source": [
    "## II. Numpy로 연산하기"
   ]
  },
  {
   "source": [
    "numpy 로 연산하기\n",
    "\n",
    "### vetor 와 scalar 사이의 연산\n",
    "\n",
    "$ x = \\left( \\begin{matrix}1 \\\\ 2\\\\ 3 \\end{matrix} \\right) \\quad c= 5$"
   ],
   "cell_type": "markdown",
   "metadata": {}
  },
  {
   "cell_type": "code",
   "execution_count": null,
   "metadata": {},
   "outputs": [],
   "source": [
    "x = np.array([1,2,3])\n",
    "c = 5\n",
    "\n",
    "print(\"더하기 : {}\".format(x+c))\n",
    "print(\"빼기 : {}\".format(x-c))\n",
    "print(\"곱하기 : {}\".format(x*c))\n",
    "print(\"나누기 : {}\".format(x/c))"
   ]
  },
  {
   "source": [
    "벡터 와 백터 연산\n",
    "\n",
    "\n",
    "\n",
    "$ y = \\left( \\begin{matrix}1 \\\\ 2\\\\ 3 \\end{matrix} \\right)$\n",
    "$ z = \\left( \\begin{matrix}2 \\\\ 9\\\\ 20 \\end{matrix} \\right)$"
   ],
   "cell_type": "markdown",
   "metadata": {}
  },
  {
   "cell_type": "code",
   "execution_count": null,
   "metadata": {},
   "outputs": [],
   "source": [
    "y = np.array([1,2,3])\n",
    "z = np.array([2,9,20])\n",
    "\n",
    "\n",
    "print(\"더하기 : {}\".format(y+z))\n",
    "print(\"빼기 : {}\".format(y-z))\n",
    "print(\"곱하기 : {}\".format(y*z))\n",
    "print(\"나누기 : {}\".format(y/z))"
   ]
  },
  {
   "source": [
    "Array의 indexing\n",
    "어레이 읽는법"
   ],
   "cell_type": "markdown",
   "metadata": {}
  },
  {
   "cell_type": "code",
   "execution_count": null,
   "metadata": {},
   "outputs": [],
   "source": [
    "w = np.array([[1,2,3,4],[5,6,7,8],[9,10,11,12]])\n",
    "print(w[0,0])\n",
    "print(w[2,3])"
   ]
  },
  {
   "source": [
    "array silcing\n",
    "어레이 자르기"
   ],
   "cell_type": "markdown",
   "metadata": {}
  },
  {
   "cell_type": "code",
   "execution_count": null,
   "metadata": {},
   "outputs": [],
   "source": [
    "w[0:2,1:3]"
   ]
  },
  {
   "source": [
    "array 의 broadcasting\n"
   ],
   "cell_type": "markdown",
   "metadata": {}
  },
  {
   "cell_type": "code",
   "execution_count": null,
   "metadata": {},
   "outputs": [],
   "source": [
    "x = np.array([[1,2,3],[4,5,6],[7,8,9]])\n",
    "y = np.array([0,1,0])\n",
    "print(y)\n",
    "y = y[:,None]\n",
    "print(y)\n",
    "print(x+y)"
   ]
  },
  {
   "cell_type": "code",
   "execution_count": null,
   "metadata": {},
   "outputs": [],
   "source": [
    "print(x*y)\n",
    "y = np.array([0,1,-1])\n",
    "print(x*y)"
   ]
  },
  {
   "cell_type": "code",
   "execution_count": null,
   "metadata": {},
   "outputs": [],
   "source": [
    "x = np.array([1,2,3])\n",
    "x = x[:,None]\n",
    "\n",
    "y = np.array([2,0,-2])\n",
    "\n",
    "print(x + y)"
   ]
  },
  {
   "cell_type": "markdown",
   "metadata": {},
   "source": [
    "## III. Numpy로 선형대수 지식 끼얹기"
   ]
  },
  {
   "source": [
    "##**numpy로 선형대수 만들기**\n",
    "**영벡터**\n",
    "- 원소가 모두 0\n",
    "-np.zeros((3,3,3))\n"
   ],
   "cell_type": "markdown",
   "metadata": {}
  },
  {
   "cell_type": "code",
   "execution_count": null,
   "metadata": {},
   "outputs": [],
   "source": [
    "zero=np.zeros((3,3,3))\n",
    "zero"
   ]
  },
  {
   "source": [
    "**일벡터**\n",
    "\n",
    "- 원소가 모두 1\n",
    "- np.ones((3,3,3))"
   ],
   "cell_type": "markdown",
   "metadata": {}
  },
  {
   "cell_type": "code",
   "execution_count": null,
   "metadata": {},
   "outputs": [],
   "source": [
    "one = np.ones((3,3,3))\n",
    "one"
   ]
  },
  {
   "source": [
    "**대각행렬**\n",
    "- np.diag((1, 2, 4))\n"
   ],
   "cell_type": "markdown",
   "metadata": {}
  },
  {
   "cell_type": "code",
   "execution_count": null,
   "metadata": {},
   "outputs": [],
   "source": [
    "diag = np.diag((1, 2, 4))\n",
    "diag\n"
   ]
  },
  {
   "source": [
    "**항등행렬**\n",
    "- np.eye(3, dtype=int)\n"
   ],
   "cell_type": "markdown",
   "metadata": {}
  },
  {
   "cell_type": "code",
   "execution_count": null,
   "metadata": {},
   "outputs": [],
   "source": [
    "eye=np.eye(3,dtype=int)\n",
    "eye"
   ]
  },
  {
   "source": [
    "**행렬곱**\n",
    "\n",
    "- 곱할거1.dot(곱할거2)\n",
    "- 곱할거1 @ 곱할거2\n"
   ],
   "cell_type": "markdown",
   "metadata": {}
  },
  {
   "cell_type": "code",
   "execution_count": null,
   "metadata": {},
   "outputs": [],
   "source": [
    "a = np.array([[1,2],[5,6]])\n",
    "b = np.array([[4,5,6],[7,8,9]])\n",
    "print(a.dot(b))\n",
    "print(a @ b)"
   ]
  },
  {
   "source": [
    "**트레이스(trace)**\n",
    "- 바꿀거.trace()\n"
   ],
   "cell_type": "markdown",
   "metadata": {}
  },
  {
   "cell_type": "code",
   "execution_count": null,
   "metadata": {},
   "outputs": [],
   "source": [
    "arr = np.array([[1,2,3],[4,5,6],[7,8,9]])\n",
    "print(arr.trace())\n",
    "np.eye(2,dtype=int).trace()\n"
   ]
  },
  {
   "source": [
    "**행렬식(determinant)** \n",
    "\n",
    "np.linalg.det(바꿀꺼)\n",
    "\n",
    "0이면 선형종속관계이다\n"
   ],
   "cell_type": "markdown",
   "metadata": {}
  },
  {
   "cell_type": "code",
   "execution_count": null,
   "metadata": {},
   "outputs": [],
   "source": [
    "arr_2d = np.array([[2,3],[1,6]])\n",
    "np.linalg.det(arr_2d)"
   ]
  },
  {
   "cell_type": "code",
   "execution_count": null,
   "metadata": {},
   "outputs": [],
   "source": [
    "arr_3 = np.array([[1,2,3],[4,5,6],[7,8,9]])\n",
    "np.linalg.det(arr_3)"
   ]
  },
  {
   "source": [
    "**역행렬**\n",
    "- np.linalg.inv(바꿀거)\n",
    "\n",
    "![image.png](data:image/png;base64,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)"
   ],
   "cell_type": "markdown",
   "metadata": {}
  },
  {
   "cell_type": "code",
   "execution_count": null,
   "metadata": {},
   "outputs": [],
   "source": [
    "mat = np.array([[1,4],[2,3]])\n",
    "mat_inv = np.linalg.inv(mat)\n",
    "print(mat_inv,\"\\n\", mat @ mat_inv)"
   ]
  },
  {
   "source": [
    "고유값과 고유벡터(eigenvalue and eigenvector)\n",
    "\n",
    "- np.linalg.eig(바꿀거)\n"
   ],
   "cell_type": "markdown",
   "metadata": {}
  },
  {
   "cell_type": "code",
   "execution_count": null,
   "metadata": {},
   "outputs": [],
   "source": [
    "mat = np.array([[2,0,-2],[1,1,-2],[0,0,1]])\n",
    "\n",
    "eig_val, eig_vec = np.linalg.eig(mat)\n",
    "\n",
    "print(mat @ eig_vec[:,0] , eig_val[0] * eig_vec[:,0])\n",
    "print(mat @ eig_vec[:,1], eig_val[1] * eig_vec[:,1])\n",
    "print(mat @ eig_vec[:,2], eig_val[2] * eig_vec[:,2])"
   ]
  },
  {
   "cell_type": "markdown",
   "metadata": {},
   "source": [
    "## IV. Exercises"
   ]
  },
  {
   "cell_type": "markdown",
   "metadata": {},
   "source": [
    "### 1. 어떤 벡터가 주어졌을 때 L2 norm을 구하는 함수 `get_L2_norm()`을 작성하세요\n",
    "\n",
    "- **매개변수** : 1차원 벡터 (`np.array`)\n",
    "- **반환값** : 인자로 주어진 벡터의 L2 Norm값 (`number`)"
   ]
  },
  {
   "cell_type": "code",
   "execution_count": null,
   "metadata": {},
   "outputs": [],
   "source": [
    "arr = np.array([1,2])\n",
    "def get_L2_norm(arr):\n",
    "  return np.linalg.norm(arr)\n",
    "get_L2_norm(arr)"
   ]
  },
  {
   "cell_type": "markdown",
   "metadata": {},
   "source": [
    "### 2. 어떤 행렬이 singular matrix인지 확인하는 함수 `is_singular()` 를 작성하세요\n",
    "\n",
    "- 매개변수 : 2차원 벡터(`np.array`)\n",
    "- 반환값 : 인자로 주어진 벡터가 singular하면 True, non-singular하면 False를 반환 "
   ]
  },
  {
   "cell_type": "code",
   "execution_count": null,
   "metadata": {},
   "outputs": [],
   "source": [
    "arr = np.array([[1,2],[3,6]])\n",
    "print(np.linalg.det(arr))\n",
    "def is_singular(arr):\n",
    "  answer = np.linalg.det(arr)\n",
    "  if answer == 0:\n",
    "    return True\n",
    "  else:\n",
    "    return False\n",
    "is_singular(arr)"
   ]
  }
 ],
 "metadata": {
  "kernelspec": {
   "name": "python395jvsc74a57bd0e25d969c92605c0c7f415fe0832a23d7af293f208a65b2ef2c6d7f3dcccb9abb",
   "display_name": "Python 3.9.5 64-bit"
  },
  "language_info": {
   "codemirror_mode": {
    "name": "ipython",
    "version": 3
   },
   "file_extension": ".py",
   "mimetype": "text/x-python",
   "name": "python",
   "nbconvert_exporter": "python",
   "pygments_lexer": "ipython3",
   "version": "3.9.5"
  }
 },
 "nbformat": 4,
 "nbformat_minor": 4
}