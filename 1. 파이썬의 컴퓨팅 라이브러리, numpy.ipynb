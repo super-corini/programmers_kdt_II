{
 "cells": [
  {
   "cell_type": "markdown",
   "metadata": {},
   "source": [
    "# 1. 파이썬의 컴퓨팅 라이브러리, numpy\n",
    "**numpy를 이용해서 데이터를 다뤄봅시다!**"
   ]
  },
  {
   "cell_type": "markdown",
   "metadata": {},
   "source": [
    "### Our Goal\n",
    "1. Numpy 시작하기\n",
    "    - prerequisite : Python의 List\n",
    "    - numpy import하기\n",
    "    - numpy.array\n",
    "\n",
    "2. Numpy로 연산하기\n",
    "    - Vector - Scalar : elementwise! (+, -, *, /)\n",
    "    - Vector - Vector : elementwise / broadcasting (+, -, *, /)\n",
    "    - Indexing & Slicing\n",
    "3. Example : Linear Algebra with Numpy\n",
    "    1. basics\n",
    "    - 영벡터 : `.zeros()`\n",
    "    - 일벡터 : `.ones()`\n",
    "    - 대각행렬 : `.diag()`\n",
    "    - 항등행렬 : `.eye()`\n",
    "    - 행렬곱 : `@` / `.dot()`\n",
    "  \n",
    "    2. furthermore\n",
    "    - 트레이스 : `.trace()`\n",
    "    - 행렬식 : `.linalg.det()`\n",
    "    - 역행렬 : `.linalg.inv()`\n",
    "    - 고유값 : `.linalg.eig()`\n"
   ]
  },
  {
   "cell_type": "markdown",
   "metadata": {},
   "source": [
    "## I. Numpy 시작하기"
   ]
  },
  {
   "cell_type": "markdown",
   "metadata": {},
   "source": [
    "## II. Numpy로 연산하기"
   ]
  },
  {
   "cell_type": "code",
   "execution_count": 4,
   "outputs": [
    {
     "name": "stdout",
     "output_type": "stream",
     "text": [
      "addition : [6 7 8]\n",
      "subtraction : [-4 -3 -2]\n",
      "multiply : [ 5 10 15]\n",
      "division : [0.2 0.4 0.6]\n"
     ]
    }
   ],
   "source": [
    "import numpy as np\n",
    "\n",
    "x = np.array([1,2,3])\n",
    "c = 5\n",
    "print(f'addition : {x+c}')\n",
    "print(f'subtraction : {x-c}')\n",
    "print(f'multiply : {x*c}')\n",
    "print(f'division : {x/c}')"
   ],
   "metadata": {
    "collapsed": false,
    "pycharm": {
     "name": "#%%\n"
    }
   }
  },
  {
   "cell_type": "code",
   "execution_count": 19,
   "outputs": [
    {
     "name": "stdout",
     "output_type": "stream",
     "text": [
      "addition : [ 3 12 23]\n",
      "subtraction : [ -1  -8 -17]\n",
      "multiply : [ 2 20 60]\n",
      "division : [0.5  0.2  0.15]\n"
     ]
    }
   ],
   "source": [
    "y = np.array([1,2,3])\n",
    "d = np.array([2,10,20])\n",
    "print(f'addition : {y+d}')\n",
    "print(f'subtraction : {y-d}')\n",
    "print(f'multiply : {y*d}')\n",
    "print(f'division : {y/d}')"
   ],
   "metadata": {
    "collapsed": false,
    "pycharm": {
     "name": "#%%\n"
    }
   }
  },
  {
   "cell_type": "code",
   "execution_count": 21,
   "outputs": [
    {
     "name": "stdout",
     "output_type": "stream",
     "text": [
      "[[ 0  1  2  3]\n",
      " [ 4  5  6  7]\n",
      " [ 8  9 10 11]]\n",
      "row0: [0 1 2 3]\n",
      "col1: [1 5 9]\n",
      "slice:\n",
      " [[2 3]\n",
      " [6 7]]\n"
     ]
    }
   ],
   "source": [
    "W = np.arange(12).reshape(3,4)\n",
    "print(W)\n",
    "print(f'row0: {W[0]}')\n",
    "print(f'col1: {W[:,1]}')\n",
    "print(f'slice:\\n {W[:2, 2:]}')"
   ],
   "metadata": {
    "collapsed": false,
    "pycharm": {
     "name": "#%%\n"
    }
   }
  },
  {
   "cell_type": "markdown",
   "metadata": {
    "pycharm": {
     "name": "#%% md\n"
    }
   },
   "source": [
    "## III. Numpy로 선형대수 지식 끼얹기"
   ]
  },
  {
   "cell_type": "code",
   "execution_count": 35,
   "outputs": [
    {
     "name": "stdout",
     "output_type": "stream",
     "text": [
      "zero : \n",
      "[[0. 0. 0.]\n",
      " [0. 0. 0.]\n",
      " [0. 0. 0.]]\n",
      "one : \n",
      "[[1. 1. 1.]\n",
      " [1. 1. 1.]\n",
      " [1. 1. 1.]]\n",
      "diagonal : \n",
      "[[1 0 0 0 0]\n",
      " [0 2 0 0 0]\n",
      " [0 0 3 0 0]\n",
      " [0 0 0 4 0]\n",
      " [0 0 0 0 5]]\n",
      "identity : \n",
      "[[1 0 0 0]\n",
      " [0 1 0 0]\n",
      " [0 0 1 0]\n",
      " [0 0 0 1]]\n"
     ]
    }
   ],
   "source": [
    "print(f'zero : \\n{np.zeros((3,3))}')\n",
    "print(f'one : \\n{np.ones((3,3))}')\n",
    "print(f'diagonal : \\n{np.diag(range(1,6))}')\n",
    "print(f'identity : \\n{np.eye(4, dtype=int)}')\n"
   ],
   "metadata": {
    "collapsed": false,
    "pycharm": {
     "name": "#%%\n"
    }
   }
  },
  {
   "cell_type": "code",
   "execution_count": 38,
   "outputs": [
    {
     "name": "stdout",
     "output_type": "stream",
     "text": [
      "dot product:\n",
      "[[12 16]\n",
      " [26 36]]\n"
     ]
    }
   ],
   "source": [
    "m1 = np.array([[1,2,],[3,4]])\n",
    "m2 = np.array([[2,4],[5,6]])\n",
    "print(f'dot product:\\n{m1@m2}')\n"
   ],
   "metadata": {
    "collapsed": false,
    "pycharm": {
     "name": "#%%\n"
    }
   }
  },
  {
   "cell_type": "code",
   "execution_count": 40,
   "outputs": [
    {
     "name": "stdout",
     "output_type": "stream",
     "text": [
      "m4: \n",
      "[[ 9 16]\n",
      " [19 36]]\n",
      "trace: 45\n"
     ]
    }
   ],
   "source": [
    "m3 = np.array([[1,4,],[4,6,]])\n",
    "m4 = m1@m3\n",
    "print(f'm4: \\n{m4}')\n",
    "print(f'trace: {np.trace(m4)}')\n"
   ],
   "metadata": {
    "collapsed": false,
    "pycharm": {
     "name": "#%%\n"
    }
   }
  },
  {
   "cell_type": "code",
   "execution_count": 45,
   "outputs": [
    {
     "name": "stdout",
     "output_type": "stream",
     "text": [
      "[[1 1 0]\n",
      " [0 2 1]\n",
      " [0 0 3]]\n",
      "[1. 2. 3.]\n",
      "[[1.         0.70710678 0.33333333]\n",
      " [0.         0.70710678 0.66666667]\n",
      " [0.         0.         0.66666667]]\n"
     ]
    }
   ],
   "source": [
    "m = np.array([[1,1,0],[0,2,1],[0,0,3]])\n",
    "print(m)\n",
    "val, vec = np.linalg.eig(m)\n",
    "print(val)\n",
    "print(vec)"
   ],
   "metadata": {
    "collapsed": false,
    "pycharm": {
     "name": "#%%\n"
    }
   }
  },
  {
   "cell_type": "code",
   "execution_count": 47,
   "outputs": [
    {
     "name": "stdout",
     "output_type": "stream",
     "text": [
      "[[1.         1.41421356 1.        ]\n",
      " [0.         1.41421356 2.        ]\n",
      " [0.         0.         2.        ]]\n",
      "[[1.         1.41421356 1.        ]\n",
      " [0.         1.41421356 2.        ]\n",
      " [0.         0.         2.        ]]\n"
     ]
    }
   ],
   "source": [
    "print(m@vec)\n",
    "print(vec*val)"
   ],
   "metadata": {
    "collapsed": false,
    "pycharm": {
     "name": "#%%\n"
    }
   }
  },
  {
   "cell_type": "markdown",
   "metadata": {},
   "source": [
    "## IV. Mission:"
   ]
  },
  {
   "cell_type": "markdown",
   "metadata": {},
   "source": [
    "### 1. 어떤 벡터가 주어졌을 때 L2 norm을 구하는 함수 `get_L2_norm()`을 작성하세요\n",
    "\n",
    "- **매개변수** : 1차원 벡터 (`np.array`)\n",
    "- **반환값** : 인자로 주어진 벡터의 L2 Norm값 (`number`)"
   ]
  },
  {
   "cell_type": "code",
   "execution_count": 22,
   "outputs": [
    {
     "name": "stdout",
     "output_type": "stream",
     "text": [
      "L2 norm: 5.477225575051661\n"
     ]
    }
   ],
   "source": [
    "from typing import Union\n",
    "def get_L2_norm(x: np.ndarray) -> Union[float, np.ndarray]:\n",
    "    return np.linalg.norm(x)\n",
    "\n",
    "x = np.arange(5)\n",
    "print(f'L2 norm: {get_L2_norm(x)}')\n"
   ],
   "metadata": {
    "collapsed": false,
    "pycharm": {
     "name": "#%%\n"
    }
   }
  },
  {
   "cell_type": "markdown",
   "metadata": {},
   "source": [
    "### 2. 어떤 행렬이 singular matrix인지 확인하는 함수 `is_singular()` 를 작성하세요\n",
    "\n",
    "- 매개변수 : 2차원 벡터(`np.array`)\n",
    "- 반환값 : 인자로 주어진 벡터가 singular하면 True, non-singular하면 False를 반환 "
   ]
  },
  {
   "cell_type": "code",
   "execution_count": 24,
   "metadata": {},
   "outputs": [
    {
     "name": "stdout",
     "output_type": "stream",
     "text": [
      "False True\n"
     ]
    }
   ],
   "source": [
    "def is_singular(x: np.ndarray) -> bool:\n",
    "    return np.linalg.det(x) == 0\n",
    "\n",
    "singular_mat = np.array([[1,2],[3,4]])\n",
    "nonsingular_mat = np.array([[1,4,],[2,8]])\n",
    "print(is_singular(singular_mat), is_singular(nonsingular_mat))"
   ]
  },
  {
   "cell_type": "code",
   "execution_count": null,
   "outputs": [],
   "source": [],
   "metadata": {
    "collapsed": false,
    "pycharm": {
     "name": "#%%\n"
    }
   }
  }
 ],
 "metadata": {
  "kernelspec": {
   "display_name": "Python 3",
   "language": "python",
   "name": "python3"
  },
  "language_info": {
   "codemirror_mode": {
    "name": "ipython",
    "version": 3
   },
   "file_extension": ".py",
   "mimetype": "text/x-python",
   "name": "python",
   "nbconvert_exporter": "python",
   "pygments_lexer": "ipython3",
   "version": "3.9.0"
  }
 },
 "nbformat": 4,
 "nbformat_minor": 4
}