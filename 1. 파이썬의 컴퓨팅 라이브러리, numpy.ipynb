{
  "nbformat": 4,
  "nbformat_minor": 0,
  "metadata": {
    "kernelspec": {
      "display_name": "Python 3",
      "language": "python",
      "name": "python3"
    },
    "language_info": {
      "codemirror_mode": {
        "name": "ipython",
        "version": 3
      },
      "file_extension": ".py",
      "mimetype": "text/x-python",
      "name": "python",
      "nbconvert_exporter": "python",
      "pygments_lexer": "ipython3",
      "version": "3.9.0"
    },
    "colab": {
      "name": "1. 파이썬의 컴퓨팅 라이브러리, numpy.ipynb",
      "provenance": [],
      "collapsed_sections": []
    }
  },
  "cells": [
    {
      "cell_type": "markdown",
      "metadata": {
        "id": "EjiwWj4ICOra"
      },
      "source": [
        "# 1. 파이썬의 컴퓨팅 라이브러리, numpy\n",
        "**numpy를 이용해서 데이터를 다뤄봅시다!**"
      ]
    },
    {
      "cell_type": "markdown",
      "metadata": {
        "id": "x8d6wo3yCOrk"
      },
      "source": [
        "### Our Goal\n",
        "1. Numpy 시작하기\n",
        "    - prerequisite : Python의 List\n",
        "    - numpy import하기\n",
        "    - numpy.array\n",
        "\n",
        "2. Numpy로 연산하기\n",
        "    - Vector - Scalar : elementwise! (+, -, *, /)\n",
        "    - Vector - Vector : elementwise / broadcasting (+, -, *, /)\n",
        "    - Indexing & Slicing\n",
        "3. Example : Linear Algebra with Numpy\n",
        "    1. basics\n",
        "    - 영벡터 : `.zeros()`\n",
        "    - 일벡터 : `.ones()`\n",
        "    - 대각행렬 : `.diag()`\n",
        "    - 항등행렬 : `.eye()`\n",
        "    - 행렬곱 : `@` / `.dot()`\n",
        "  \n",
        "    2. furthermore\n",
        "    - 트레이스 : `.trace()`\n",
        "    - 행렬식 : `.linalg.det()`\n",
        "    - 역행렬 : `.linalg.inv()`\n",
        "    - 고유값 : `.linalg.eig()`\n"
      ]
    },
    {
      "cell_type": "markdown",
      "metadata": {
        "id": "lHA_zLqKCOrl"
      },
      "source": [
        "## I. Numpy 시작하기"
      ]
    },
    {
      "cell_type": "markdown",
      "metadata": {
        "id": "sPLGoJ4JCOrm"
      },
      "source": [
        "## II. Numpy로 연산하기"
      ]
    },
    {
      "cell_type": "markdown",
      "metadata": {
        "id": "t8sr96bqCOrm"
      },
      "source": [
        "## III. Numpy로 선형대수 지식 끼얹기"
      ]
    },
    {
      "cell_type": "markdown",
      "metadata": {
        "id": "0RbkF-0qCOrn"
      },
      "source": [
        "## IV. Exercises"
      ]
    },
    {
      "cell_type": "markdown",
      "metadata": {
        "id": "_AT4GgBoCOrn"
      },
      "source": [
        "### 1. 어떤 벡터가 주어졌을 때 L2 norm을 구하는 함수 `get_L2_norm()`을 작성하세요\n",
        "\n",
        "- **매개변수** : 1차원 벡터 (`np.array`)\n",
        "- **반환값** : 인자로 주어진 벡터의 L2 Norm값 (`number`)"
      ]
    },
    {
      "cell_type": "code",
      "metadata": {
        "id": "ayZIuOtwCyOd"
      },
      "source": [
        "import numpy as np"
      ],
      "execution_count": 2,
      "outputs": []
    },
    {
      "cell_type": "code",
      "metadata": {
        "colab": {
          "base_uri": "https://localhost:8080/"
        },
        "id": "SSZjvAPKCOro",
        "outputId": "fe14cbd5-8846-4718-d01b-f663a8d61626"
      },
      "source": [
        "arr = np.array([1, 3, 5])\n",
        "\n",
        "arr"
      ],
      "execution_count": 28,
      "outputs": [
        {
          "output_type": "execute_result",
          "data": {
            "text/plain": [
              "array([1, 3, 5])"
            ]
          },
          "metadata": {
            "tags": []
          },
          "execution_count": 28
        }
      ]
    },
    {
      "cell_type": "code",
      "metadata": {
        "colab": {
          "base_uri": "https://localhost:8080/"
        },
        "id": "y8khaaqmGq6w",
        "outputId": "341fdd9e-ab12-42a3-e8d2-fa0e7353294a"
      },
      "source": [
        "# 수식에 대입 ( 답 확인용)\n",
        "np.sqrt(1**2 + 3**2 + 5**2)"
      ],
      "execution_count": 22,
      "outputs": [
        {
          "output_type": "execute_result",
          "data": {
            "text/plain": [
              "5.916079783099616"
            ]
          },
          "metadata": {
            "tags": []
          },
          "execution_count": 22
        }
      ]
    },
    {
      "cell_type": "code",
      "metadata": {
        "colab": {
          "base_uri": "https://localhost:8080/"
        },
        "id": "bbYVH3pfDVa8",
        "outputId": "da7ecf9a-9c6e-4ed9-a1f9-9f740f62d2ec"
      },
      "source": [
        "# L2 norm은 Euclidean Distance를 의미 -> 거리의 정의\n",
        "## 즉, 두 개의 벡터의 각 원소를 빼고, 제곱을하고, 합치고, 루트를 씌운 것\n",
        "### L2 norm의 공식을 이용\n",
        "\n",
        "def get_L2_norm_1(arr):\n",
        "  sum = 0\n",
        "  answer = 0\n",
        "  for i in n:\n",
        "    sum += i ** 2\n",
        "  \n",
        "  answer = np.sqrt(sum)\n",
        "  return answer\n",
        "\n",
        "print(get_L2_norm_1(arr))"
      ],
      "execution_count": 29,
      "outputs": [
        {
          "output_type": "stream",
          "text": [
            "5.916079783099616\n"
          ],
          "name": "stdout"
        }
      ]
    },
    {
      "cell_type": "code",
      "metadata": {
        "colab": {
          "base_uri": "https://localhost:8080/"
        },
        "id": "ChNK_zHDIITa",
        "outputId": "e4054e8a-e743-4525-efd8-94af0cfcdd18"
      },
      "source": [
        "## 깔끔하게 정리\n",
        "\n",
        "def get_L2_norm_2(arr):\n",
        "  return np.sqrt(sum(map(lambda x: x**2, arr)))\n",
        "\n",
        "print(get_L2_norm_2(arr))\n"
      ],
      "execution_count": 30,
      "outputs": [
        {
          "output_type": "stream",
          "text": [
            "5.916079783099616\n"
          ],
          "name": "stdout"
        }
      ]
    },
    {
      "cell_type": "code",
      "metadata": {
        "colab": {
          "base_uri": "https://localhost:8080/"
        },
        "id": "SGoef-1yDWwh",
        "outputId": "88313ad0-9d25-4de5-d86a-ffa389b5df81"
      },
      "source": [
        "## numpy의 linalg.norm 이용\n",
        "def get_L2_norm_3(arr):\n",
        "  return np.linalg.norm(arr)\n",
        "\n",
        "print(get_L2_norm_3(arr))"
      ],
      "execution_count": 31,
      "outputs": [
        {
          "output_type": "stream",
          "text": [
            "5.916079783099616\n"
          ],
          "name": "stdout"
        }
      ]
    },
    {
      "cell_type": "markdown",
      "metadata": {
        "id": "Y43nfdzACOro"
      },
      "source": [
        "### 2. 어떤 행렬이 singular matrix인지 확인하는 함수 `is_singular()` 를 작성하세요\n",
        "\n",
        "- 매개변수 : 2차원 벡터(`np.array`)\n",
        "- 반환값 : 인자로 주어진 벡터가 singular하면 True, non-singular하면 False를 반환 "
      ]
    },
    {
      "cell_type": "code",
      "metadata": {
        "id": "LF3_NXS-COrp"
      },
      "source": [
        "# singular matrix는 A의 역행렬이 존재하지 않는다는 의미 \n",
        "## det(A) = ad - bc = 0 이라는 것"
      ],
      "execution_count": null,
      "outputs": []
    },
    {
      "cell_type": "code",
      "metadata": {
        "colab": {
          "base_uri": "https://localhost:8080/"
        },
        "id": "zWcU1CGzJtSK",
        "outputId": "234b615e-9f44-4dde-91c7-48e1f13244ce"
      },
      "source": [
        "# non-singular 한 예시\n",
        "arr_2n = np.array([[1, 2], [3, 4]])\n",
        "\n",
        "arr_2n"
      ],
      "execution_count": 40,
      "outputs": [
        {
          "output_type": "execute_result",
          "data": {
            "text/plain": [
              "array([[1, 2],\n",
              "       [3, 4]])"
            ]
          },
          "metadata": {
            "tags": []
          },
          "execution_count": 40
        }
      ]
    },
    {
      "cell_type": "code",
      "metadata": {
        "colab": {
          "base_uri": "https://localhost:8080/"
        },
        "id": "o-dXAywkMsu_",
        "outputId": "ca8df2e8-de8f-48ff-85f2-3bbdd00c72e5"
      },
      "source": [
        "# singular 한 예시\n",
        "arr_2s = np.array([[1, 2], [2, 4]])\n",
        "\n",
        "arr_2s"
      ],
      "execution_count": 41,
      "outputs": [
        {
          "output_type": "execute_result",
          "data": {
            "text/plain": [
              "array([[1, 2],\n",
              "       [2, 4]])"
            ]
          },
          "metadata": {
            "tags": []
          },
          "execution_count": 41
        }
      ]
    },
    {
      "cell_type": "code",
      "metadata": {
        "colab": {
          "base_uri": "https://localhost:8080/"
        },
        "id": "PBuIOwF1J72K",
        "outputId": "c24c061b-d8c4-4d8a-b243-9f0978793505"
      },
      "source": [
        "def is_singular(arr):\n",
        "  det = np.linalg.det(arr)\n",
        "  return True if det ==0 else False\n",
        "\n",
        "is_singular(arr_2n)"
      ],
      "execution_count": 42,
      "outputs": [
        {
          "output_type": "execute_result",
          "data": {
            "text/plain": [
              "False"
            ]
          },
          "metadata": {
            "tags": []
          },
          "execution_count": 42
        }
      ]
    },
    {
      "cell_type": "code",
      "metadata": {
        "colab": {
          "base_uri": "https://localhost:8080/"
        },
        "id": "kNPi4XqaMumN",
        "outputId": "0a4fdde8-9717-4e78-abdb-30d78b0bd550"
      },
      "source": [
        "is_singular(arr_2s)"
      ],
      "execution_count": 43,
      "outputs": [
        {
          "output_type": "execute_result",
          "data": {
            "text/plain": [
              "True"
            ]
          },
          "metadata": {
            "tags": []
          },
          "execution_count": 43
        }
      ]
    },
    {
      "cell_type": "code",
      "metadata": {
        "id": "fh5wcGNaKyzb"
      },
      "source": [
        ""
      ],
      "execution_count": null,
      "outputs": []
    }
  ]
}